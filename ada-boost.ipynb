{
 "cells": [
  {
   "cell_type": "markdown",
   "id": "a5a1a54c",
   "metadata": {
    "button": false,
    "new_sheet": false,
    "papermill": {
     "duration": 0.020841,
     "end_time": "2022-07-05T07:04:25.386242",
     "exception": false,
     "start_time": "2022-07-05T07:04:25.365401",
     "status": "completed"
    },
    "run_control": {
     "read_only": false
    },
    "tags": []
   },
   "source": [
    "<center>\n",
    "    <img src=\"https://cf-courses-data.s3.us.cloud-object-storage.appdomain.cloud/IBMDeveloperSkillsNetwork-ML0101EN-SkillsNetwork/labs/Module%203/images/IDSNlogo.png\" width=\"300\" alt=\"cognitiveclass.ai logo\"  />\n",
    "</center>\n",
    "\n",
    "# Adaptive Boosting (AdaBoost) for classification with Python\n",
    "\n",
    "Estimated time needed: **45** minutes\n",
    "\n",
    "## Objectives\n",
    "\n",
    "After completing this lab you will be able to:\n",
    "\n",
    "*   Understand  that AdaBoost is a linear combination of  𝑇 weak classifiers\n",
    "*   Apply AdaBoost\n",
    "*   Understand Hyperparameters selection in  AdaBoost\n"
   ]
  },
  {
   "cell_type": "markdown",
   "id": "7cd3e2b2",
   "metadata": {
    "papermill": {
     "duration": 0.017018,
     "end_time": "2022-07-05T07:04:25.420584",
     "exception": false,
     "start_time": "2022-07-05T07:04:25.403566",
     "status": "completed"
    },
    "tags": []
   },
   "source": [
    "In this notebook, you will learn AdaBoost, short for Adaptive Boosting, is a classification algorithm; AdaBoost is actually part of a family of Boosting algorithms. Like Bagging and Random Forest (RF), AdaBoost combines the outputs of many classifiers into an ensemble, but there are some differences. In both Bagging and RF, each classifier in the ensemble is powerful but prone to overfitting. As Bagging or RF aggregate more and more classifiers, they reduce overfitting.\n",
    "\n",
    "With AdaBoost, each Classifier usually has performance slightly better than random. This is referred to as a weak learner or weak classifier. AdaBoost combines these classifiers to get a strong classifier. Unlike Bagging and Random Forest, in AdaBoost, adding more learners can cause overfitting. As a result, AdaBoost requires Hyperparameter tuning, taking more time to train. One advantage of AdaBoost is that each classifier is smaller, so predictions are faster.\n"
   ]
  },
  {
   "cell_type": "markdown",
   "id": "927298b6",
   "metadata": {
    "papermill": {
     "duration": 0.017427,
     "end_time": "2022-07-05T07:04:25.455978",
     "exception": false,
     "start_time": "2022-07-05T07:04:25.438551",
     "status": "completed"
    },
    "tags": []
   },
   "source": [
    "In AdaBoost, the strong classifier $H(x)$ is a linear combination of $T$ weak classifiers $h_t(x)$ and $\\alpha_t$ as shown in (1). Although each classifier $h_t(x)$ appears independent, the $\\alpha_t$ contains information about the error of classifiers from $h\\_1(x),.., h\\_{t-1}(x)$. As we add more classifiers, the training accuracy gets larger. What’s not so apparent in (1) is that during the training process, the values of that training sample are modified for $h_t(x)$. For a more in depth look at the theory behind Adaboost, check out <a href=\"https://hastie.su.domains/Papers/ESLII.pdf?utm_medium=Exinfluencer&utm_source=Exinfluencer&utm_content=000026UJ&utm_term=10006555&utm_id=NA-SkillsNetwork-Channel-SkillsNetworkCoursesIBMML241ENSkillsNetwork31576874-2022-01-01#page=356\">The Elements of Statistical Learning Data Mining, Inference, and Prediction</a>.\n"
   ]
  },
  {
   "cell_type": "markdown",
   "id": "fe43e0a3",
   "metadata": {
    "papermill": {
     "duration": 0.017287,
     "end_time": "2022-07-05T07:04:25.490497",
     "exception": false,
     "start_time": "2022-07-05T07:04:25.473210",
     "status": "completed"
    },
    "tags": []
   },
   "source": [
    "$H(x) = \text{sign}(  \\sum\\_{t=1}^T \\alpha_t h_t(x) )$ \\[1]\n"
   ]
  },
  {
   "cell_type": "markdown",
   "id": "da9e03b0",
   "metadata": {
    "papermill": {
     "duration": 0.016892,
     "end_time": "2022-07-05T07:04:25.524801",
     "exception": false,
     "start_time": "2022-07-05T07:04:25.507909",
     "status": "completed"
    },
    "tags": []
   },
   "source": [
    "<h1>Table of contents</h1>\n",
    "\n",
    "<div class=\"alert alert-block alert-info\" style=\"margin-top: 20px\">\n",
    "    <ol>\n",
    "        <li><a href=\"https://#RFvsBag\">What's the difference between RF and Bagging </a></li>\n",
    "        <li><a href=\"https://#Example\">Cancer Data Example</li>\n",
    "        <li><a href=\"https://practice/?utm_medium=Exinfluencer&utm_source=Exinfluencer&utm_content=000026UJ&utm_term=10006555&utm_id=NA-SkillsNetwork-Channel-SkillsNetworkCoursesIBMML241ENSkillsNetwork31576874-2022-01-01\">Practice</a></li>\n",
    "\n",
    "</div>\n",
    "<br>\n",
    "<hr>\n"
   ]
  },
  {
   "cell_type": "markdown",
   "id": "7eca064c",
   "metadata": {
    "button": false,
    "new_sheet": false,
    "papermill": {
     "duration": 0.016989,
     "end_time": "2022-07-05T07:04:25.558951",
     "exception": false,
     "start_time": "2022-07-05T07:04:25.541962",
     "status": "completed"
    },
    "run_control": {
     "read_only": false
    },
    "tags": []
   },
   "source": [
    "Let's first import the required libraries:\n"
   ]
  },
  {
   "cell_type": "code",
   "execution_count": 1,
   "id": "95ba830c",
   "metadata": {
    "execution": {
     "iopub.execute_input": "2022-07-05T07:04:25.595853Z",
     "iopub.status.busy": "2022-07-05T07:04:25.595174Z",
     "iopub.status.idle": "2022-07-05T07:04:25.599835Z",
     "shell.execute_reply": "2022-07-05T07:04:25.599118Z"
    },
    "papermill": {
     "duration": 0.025172,
     "end_time": "2022-07-05T07:04:25.601698",
     "exception": false,
     "start_time": "2022-07-05T07:04:25.576526",
     "status": "completed"
    },
    "tags": []
   },
   "outputs": [],
   "source": [
    "# All Libraries required for this lab are listed below. The libraries pre-installed on Skills Network Labs are commented.\n",
    "# !mamba install -qy pandas==1.3.3 numpy==1.21.2 ipywidgets==7.4.2 scipy==7.4.2 tqdm==4.62.3 matplotlib==3.5.0 seaborn==0.9.0\n",
    "# Note: If your environment doesn't support \"!mamba install\", use \"!pip install\""
   ]
  },
  {
   "cell_type": "code",
   "execution_count": 2,
   "id": "46894abd",
   "metadata": {
    "button": false,
    "execution": {
     "iopub.execute_input": "2022-07-05T07:04:25.638277Z",
     "iopub.status.busy": "2022-07-05T07:04:25.637592Z",
     "iopub.status.idle": "2022-07-05T07:04:26.876619Z",
     "shell.execute_reply": "2022-07-05T07:04:26.875659Z"
    },
    "new_sheet": false,
    "papermill": {
     "duration": 1.260004,
     "end_time": "2022-07-05T07:04:26.879067",
     "exception": false,
     "start_time": "2022-07-05T07:04:25.619063",
     "status": "completed"
    },
    "run_control": {
     "read_only": false
    },
    "tags": []
   },
   "outputs": [],
   "source": [
    "import pandas as pd\n",
    "import pylab as plt\n",
    "import numpy as np\n",
    "import scipy.optimize as opt\n",
    "from sklearn import preprocessing\n",
    "%matplotlib inline \n",
    "import matplotlib.pyplot as plt\n",
    "from sklearn import metrics\n",
    "from tqdm import tqdm\n"
   ]
  },
  {
   "cell_type": "markdown",
   "id": "422269da",
   "metadata": {
    "papermill": {
     "duration": 0.017057,
     "end_time": "2022-07-05T07:04:26.914313",
     "exception": false,
     "start_time": "2022-07-05T07:04:26.897256",
     "status": "completed"
    },
    "tags": []
   },
   "source": [
    "Ignore error warnings\n"
   ]
  },
  {
   "cell_type": "code",
   "execution_count": 3,
   "id": "196b3e2b",
   "metadata": {
    "execution": {
     "iopub.execute_input": "2022-07-05T07:04:26.951045Z",
     "iopub.status.busy": "2022-07-05T07:04:26.950498Z",
     "iopub.status.idle": "2022-07-05T07:04:26.954481Z",
     "shell.execute_reply": "2022-07-05T07:04:26.953557Z"
    },
    "papermill": {
     "duration": 0.0248,
     "end_time": "2022-07-05T07:04:26.956500",
     "exception": false,
     "start_time": "2022-07-05T07:04:26.931700",
     "status": "completed"
    },
    "tags": []
   },
   "outputs": [],
   "source": [
    "import warnings\n",
    "warnings.filterwarnings('ignore')"
   ]
  },
  {
   "cell_type": "markdown",
   "id": "11f4428e",
   "metadata": {
    "papermill": {
     "duration": 0.016833,
     "end_time": "2022-07-05T07:04:26.990669",
     "exception": false,
     "start_time": "2022-07-05T07:04:26.973836",
     "status": "completed"
    },
    "tags": []
   },
   "source": [
    "This function will calculate the accuracy of the training and testing data given a model.\n"
   ]
  },
  {
   "cell_type": "code",
   "execution_count": 4,
   "id": "13a09da5",
   "metadata": {
    "execution": {
     "iopub.execute_input": "2022-07-05T07:04:27.027213Z",
     "iopub.status.busy": "2022-07-05T07:04:27.026233Z",
     "iopub.status.idle": "2022-07-05T07:04:27.031417Z",
     "shell.execute_reply": "2022-07-05T07:04:27.030491Z"
    },
    "papermill": {
     "duration": 0.025698,
     "end_time": "2022-07-05T07:04:27.033454",
     "exception": false,
     "start_time": "2022-07-05T07:04:27.007756",
     "status": "completed"
    },
    "tags": []
   },
   "outputs": [],
   "source": [
    "def get_accuracy(X_train, X_test, y_train, y_test, model):\n",
    "    return  {\"test Accuracy\":metrics.accuracy_score(y_test, model.predict(X_test)),\"trian Accuracy\": metrics.accuracy_score(y_train, model.predict(X_train))}"
   ]
  },
  {
   "cell_type": "markdown",
   "id": "f76f3b83",
   "metadata": {
    "papermill": {
     "duration": 0.016936,
     "end_time": "2022-07-05T07:04:27.068234",
     "exception": false,
     "start_time": "2022-07-05T07:04:27.051298",
     "status": "completed"
    },
    "tags": []
   },
   "source": [
    "This function calculates the average accuracy of differnt learning rates on training and test data\n"
   ]
  },
  {
   "cell_type": "code",
   "execution_count": 5,
   "id": "897109a9",
   "metadata": {
    "execution": {
     "iopub.execute_input": "2022-07-05T07:04:27.105473Z",
     "iopub.status.busy": "2022-07-05T07:04:27.105073Z",
     "iopub.status.idle": "2022-07-05T07:04:27.117514Z",
     "shell.execute_reply": "2022-07-05T07:04:27.116526Z"
    },
    "papermill": {
     "duration": 0.03369,
     "end_time": "2022-07-05T07:04:27.119722",
     "exception": false,
     "start_time": "2022-07-05T07:04:27.086032",
     "status": "completed"
    },
    "tags": []
   },
   "outputs": [],
   "source": [
    "def get_accuracy_bag(X,y,title,times=20,xlabel='Number Estimators',Learning_rate_=[0.2,0.4,0.6,1]):\n",
    "\n",
    "    lines_array=['solid','--', '-.', ':']\n",
    "\n",
    "    N_estimators=[n for n in range(1,100)]\n",
    "    \n",
    "    times=20\n",
    "    train_acc=np.zeros((times,len(Learning_rate_),len(N_estimators)))\n",
    "    test_acc=np.zeros((times,len(Learning_rate_),len(N_estimators)))\n",
    "\n",
    "\n",
    "    #Iterate through different number of Learning rate  and average out the results  \n",
    "    for n in tqdm(range(times)):\n",
    "        X_train, X_test, y_train, y_test = train_test_split( X, y, test_size=0.3)\n",
    "        for n_estimators in N_estimators:\n",
    "            for j,lr in enumerate(Learning_rate_):\n",
    "\n",
    "\n",
    "                model = AdaBoostClassifier(n_estimators=n_estimators+1,random_state=0,learning_rate=lr)\n",
    "\n",
    "\n",
    "                model.fit(X_train,y_train)\n",
    "\n",
    "\n",
    "\n",
    "                Accuracy=get_accuracy(X_train, X_test, y_train, y_test,  model)\n",
    "\n",
    "\n",
    "\n",
    "                train_acc[n,j,n_estimators-1]=Accuracy['trian Accuracy']\n",
    "                test_acc[n,j,n_estimators-1]=Accuracy['test Accuracy']\n",
    "\n",
    "\n",
    "\n",
    "\n",
    "    fig, ax1 = plt.subplots()\n",
    "    mean_test=test_acc.mean(axis=0)\n",
    "    mean_train=train_acc.mean(axis=0)\n",
    "    ax2 = ax1.twinx()\n",
    "\n",
    "    for j,(lr,line) in enumerate(zip(Learning_rate_,lines_array)): \n",
    "\n",
    "        ax1.plot(mean_train[j,:],linestyle = line,color='b',label=\"Learning rate \"+str(lr))\n",
    "        ax2.plot(mean_test[j,:],linestyle = line, color='r',label=str(lr))\n",
    "\n",
    "    ax1.set_ylabel('Training accuracy',color='b')\n",
    "    ax1.legend()\n",
    "    ax2.set_ylabel('Testing accuracy', color='r')\n",
    "    ax2.legend()\n",
    "    plt.show()"
   ]
  },
  {
   "cell_type": "markdown",
   "id": "53c2a894",
   "metadata": {
    "button": false,
    "new_sheet": false,
    "papermill": {
     "duration": 0.017294,
     "end_time": "2022-07-05T07:04:27.154785",
     "exception": false,
     "start_time": "2022-07-05T07:04:27.137491",
     "status": "completed"
    },
    "run_control": {
     "read_only": false
    },
    "tags": []
   },
   "source": [
    "### About the dataset\n",
    "\n",
    "We will use a telecommunications dataset for predicting customer churn. This is a historical customer dataset where each row represents one customer. The data is relatively easy to understand, and you may uncover insights you can use immediately. Typically, it is less expensive to keep customers than to acquire new ones, so the focus of this analysis is to predict the customers who will stay with the company.\n",
    "\n",
    "This data set provides information to help you predict what behavior will help you to retain customers. You can analyze all relevant customer data and develop focused customer retention programs.\n",
    "\n",
    "The dataset includes information about:\n",
    "\n",
    "*   Customers who left within the last month – the column is called Churn\n",
    "*   Services that each customer has signed up for – phone, multiple lines, internet, online security, online backup, device protection, tech support, and streaming TV and movies\n",
    "*   Customer account information – how long they have been a customer, contract, payment method, paperless billing, monthly charges, and total charges\n",
    "*   Demographic info about customers – gender, age range, and if they have partners and dependents\n"
   ]
  },
  {
   "cell_type": "markdown",
   "id": "7de7ccda",
   "metadata": {
    "button": false,
    "new_sheet": false,
    "papermill": {
     "duration": 0.017359,
     "end_time": "2022-07-05T07:04:27.189768",
     "exception": false,
     "start_time": "2022-07-05T07:04:27.172409",
     "status": "completed"
    },
    "run_control": {
     "read_only": false
    },
    "tags": []
   },
   "source": [
    "Load Data From CSV File\n"
   ]
  },
  {
   "cell_type": "code",
   "execution_count": 6,
   "id": "433e3452",
   "metadata": {
    "button": false,
    "execution": {
     "iopub.execute_input": "2022-07-05T07:04:27.227166Z",
     "iopub.status.busy": "2022-07-05T07:04:27.226522Z",
     "iopub.status.idle": "2022-07-05T07:04:28.180950Z",
     "shell.execute_reply": "2022-07-05T07:04:28.179354Z"
    },
    "new_sheet": false,
    "papermill": {
     "duration": 0.976091,
     "end_time": "2022-07-05T07:04:28.183487",
     "exception": false,
     "start_time": "2022-07-05T07:04:27.207396",
     "status": "completed"
    },
    "run_control": {
     "read_only": false
    },
    "tags": []
   },
   "outputs": [
    {
     "data": {
      "text/html": [
       "<div>\n",
       "<style scoped>\n",
       "    .dataframe tbody tr th:only-of-type {\n",
       "        vertical-align: middle;\n",
       "    }\n",
       "\n",
       "    .dataframe tbody tr th {\n",
       "        vertical-align: top;\n",
       "    }\n",
       "\n",
       "    .dataframe thead th {\n",
       "        text-align: right;\n",
       "    }\n",
       "</style>\n",
       "<table border=\"1\" class=\"dataframe\">\n",
       "  <thead>\n",
       "    <tr style=\"text-align: right;\">\n",
       "      <th></th>\n",
       "      <th>tenure</th>\n",
       "      <th>age</th>\n",
       "      <th>address</th>\n",
       "      <th>income</th>\n",
       "      <th>ed</th>\n",
       "      <th>employ</th>\n",
       "      <th>equip</th>\n",
       "      <th>callcard</th>\n",
       "      <th>wireless</th>\n",
       "      <th>longmon</th>\n",
       "      <th>...</th>\n",
       "      <th>pager</th>\n",
       "      <th>internet</th>\n",
       "      <th>callwait</th>\n",
       "      <th>confer</th>\n",
       "      <th>ebill</th>\n",
       "      <th>loglong</th>\n",
       "      <th>logtoll</th>\n",
       "      <th>lninc</th>\n",
       "      <th>custcat</th>\n",
       "      <th>churn</th>\n",
       "    </tr>\n",
       "  </thead>\n",
       "  <tbody>\n",
       "    <tr>\n",
       "      <th>0</th>\n",
       "      <td>11.0</td>\n",
       "      <td>33.0</td>\n",
       "      <td>7.0</td>\n",
       "      <td>136.0</td>\n",
       "      <td>5.0</td>\n",
       "      <td>5.0</td>\n",
       "      <td>0.0</td>\n",
       "      <td>1.0</td>\n",
       "      <td>1.0</td>\n",
       "      <td>4.40</td>\n",
       "      <td>...</td>\n",
       "      <td>1.0</td>\n",
       "      <td>0.0</td>\n",
       "      <td>1.0</td>\n",
       "      <td>1.0</td>\n",
       "      <td>0.0</td>\n",
       "      <td>1.482</td>\n",
       "      <td>3.033</td>\n",
       "      <td>4.913</td>\n",
       "      <td>4.0</td>\n",
       "      <td>1.0</td>\n",
       "    </tr>\n",
       "    <tr>\n",
       "      <th>1</th>\n",
       "      <td>33.0</td>\n",
       "      <td>33.0</td>\n",
       "      <td>12.0</td>\n",
       "      <td>33.0</td>\n",
       "      <td>2.0</td>\n",
       "      <td>0.0</td>\n",
       "      <td>0.0</td>\n",
       "      <td>0.0</td>\n",
       "      <td>0.0</td>\n",
       "      <td>9.45</td>\n",
       "      <td>...</td>\n",
       "      <td>0.0</td>\n",
       "      <td>0.0</td>\n",
       "      <td>0.0</td>\n",
       "      <td>0.0</td>\n",
       "      <td>0.0</td>\n",
       "      <td>2.246</td>\n",
       "      <td>3.240</td>\n",
       "      <td>3.497</td>\n",
       "      <td>1.0</td>\n",
       "      <td>1.0</td>\n",
       "    </tr>\n",
       "    <tr>\n",
       "      <th>2</th>\n",
       "      <td>23.0</td>\n",
       "      <td>30.0</td>\n",
       "      <td>9.0</td>\n",
       "      <td>30.0</td>\n",
       "      <td>1.0</td>\n",
       "      <td>2.0</td>\n",
       "      <td>0.0</td>\n",
       "      <td>0.0</td>\n",
       "      <td>0.0</td>\n",
       "      <td>6.30</td>\n",
       "      <td>...</td>\n",
       "      <td>0.0</td>\n",
       "      <td>0.0</td>\n",
       "      <td>0.0</td>\n",
       "      <td>1.0</td>\n",
       "      <td>0.0</td>\n",
       "      <td>1.841</td>\n",
       "      <td>3.240</td>\n",
       "      <td>3.401</td>\n",
       "      <td>3.0</td>\n",
       "      <td>0.0</td>\n",
       "    </tr>\n",
       "    <tr>\n",
       "      <th>3</th>\n",
       "      <td>38.0</td>\n",
       "      <td>35.0</td>\n",
       "      <td>5.0</td>\n",
       "      <td>76.0</td>\n",
       "      <td>2.0</td>\n",
       "      <td>10.0</td>\n",
       "      <td>1.0</td>\n",
       "      <td>1.0</td>\n",
       "      <td>1.0</td>\n",
       "      <td>6.05</td>\n",
       "      <td>...</td>\n",
       "      <td>1.0</td>\n",
       "      <td>1.0</td>\n",
       "      <td>1.0</td>\n",
       "      <td>1.0</td>\n",
       "      <td>1.0</td>\n",
       "      <td>1.800</td>\n",
       "      <td>3.807</td>\n",
       "      <td>4.331</td>\n",
       "      <td>4.0</td>\n",
       "      <td>0.0</td>\n",
       "    </tr>\n",
       "    <tr>\n",
       "      <th>4</th>\n",
       "      <td>7.0</td>\n",
       "      <td>35.0</td>\n",
       "      <td>14.0</td>\n",
       "      <td>80.0</td>\n",
       "      <td>2.0</td>\n",
       "      <td>15.0</td>\n",
       "      <td>0.0</td>\n",
       "      <td>1.0</td>\n",
       "      <td>0.0</td>\n",
       "      <td>7.10</td>\n",
       "      <td>...</td>\n",
       "      <td>0.0</td>\n",
       "      <td>0.0</td>\n",
       "      <td>1.0</td>\n",
       "      <td>1.0</td>\n",
       "      <td>0.0</td>\n",
       "      <td>1.960</td>\n",
       "      <td>3.091</td>\n",
       "      <td>4.382</td>\n",
       "      <td>3.0</td>\n",
       "      <td>0.0</td>\n",
       "    </tr>\n",
       "  </tbody>\n",
       "</table>\n",
       "<p>5 rows × 28 columns</p>\n",
       "</div>"
      ],
      "text/plain": [
       "   tenure   age  address  income   ed  employ  equip  callcard  wireless  \\\n",
       "0    11.0  33.0      7.0   136.0  5.0     5.0    0.0       1.0       1.0   \n",
       "1    33.0  33.0     12.0    33.0  2.0     0.0    0.0       0.0       0.0   \n",
       "2    23.0  30.0      9.0    30.0  1.0     2.0    0.0       0.0       0.0   \n",
       "3    38.0  35.0      5.0    76.0  2.0    10.0    1.0       1.0       1.0   \n",
       "4     7.0  35.0     14.0    80.0  2.0    15.0    0.0       1.0       0.0   \n",
       "\n",
       "   longmon  ...  pager  internet  callwait  confer  ebill  loglong  logtoll  \\\n",
       "0     4.40  ...    1.0       0.0       1.0     1.0    0.0    1.482    3.033   \n",
       "1     9.45  ...    0.0       0.0       0.0     0.0    0.0    2.246    3.240   \n",
       "2     6.30  ...    0.0       0.0       0.0     1.0    0.0    1.841    3.240   \n",
       "3     6.05  ...    1.0       1.0       1.0     1.0    1.0    1.800    3.807   \n",
       "4     7.10  ...    0.0       0.0       1.0     1.0    0.0    1.960    3.091   \n",
       "\n",
       "   lninc  custcat  churn  \n",
       "0  4.913      4.0    1.0  \n",
       "1  3.497      1.0    1.0  \n",
       "2  3.401      3.0    0.0  \n",
       "3  4.331      4.0    0.0  \n",
       "4  4.382      3.0    0.0  \n",
       "\n",
       "[5 rows x 28 columns]"
      ]
     },
     "execution_count": 6,
     "metadata": {},
     "output_type": "execute_result"
    }
   ],
   "source": [
    "churn_df = pd.read_csv(\"https://cf-courses-data.s3.us.cloud-object-storage.appdomain.cloud/IBMDeveloperSkillsNetwork-ML0101EN-SkillsNetwork/labs/Module%203/data/ChurnData.csv\")\n",
    "\n",
    "churn_df.head()"
   ]
  },
  {
   "cell_type": "markdown",
   "id": "b8a9aeec",
   "metadata": {
    "papermill": {
     "duration": 0.017453,
     "end_time": "2022-07-05T07:04:28.220040",
     "exception": false,
     "start_time": "2022-07-05T07:04:28.202587",
     "status": "completed"
    },
    "tags": []
   },
   "source": [
    "### Data pre-processing and selection\n"
   ]
  },
  {
   "cell_type": "markdown",
   "id": "2845631a",
   "metadata": {
    "papermill": {
     "duration": 0.017234,
     "end_time": "2022-07-05T07:04:28.254843",
     "exception": false,
     "start_time": "2022-07-05T07:04:28.237609",
     "status": "completed"
    },
    "tags": []
   },
   "source": [
    "Let's select some features for the modeling. Also, we change the target data type to be an integer, as it is a requirement by the skitlearn algorithm:\n"
   ]
  },
  {
   "cell_type": "code",
   "execution_count": 7,
   "id": "92dd4e00",
   "metadata": {
    "execution": {
     "iopub.execute_input": "2022-07-05T07:04:28.292234Z",
     "iopub.status.busy": "2022-07-05T07:04:28.291107Z",
     "iopub.status.idle": "2022-07-05T07:04:28.321130Z",
     "shell.execute_reply": "2022-07-05T07:04:28.319926Z"
    },
    "papermill": {
     "duration": 0.051169,
     "end_time": "2022-07-05T07:04:28.323614",
     "exception": false,
     "start_time": "2022-07-05T07:04:28.272445",
     "status": "completed"
    },
    "tags": []
   },
   "outputs": [
    {
     "data": {
      "text/html": [
       "<div>\n",
       "<style scoped>\n",
       "    .dataframe tbody tr th:only-of-type {\n",
       "        vertical-align: middle;\n",
       "    }\n",
       "\n",
       "    .dataframe tbody tr th {\n",
       "        vertical-align: top;\n",
       "    }\n",
       "\n",
       "    .dataframe thead th {\n",
       "        text-align: right;\n",
       "    }\n",
       "</style>\n",
       "<table border=\"1\" class=\"dataframe\">\n",
       "  <thead>\n",
       "    <tr style=\"text-align: right;\">\n",
       "      <th></th>\n",
       "      <th>tenure</th>\n",
       "      <th>age</th>\n",
       "      <th>address</th>\n",
       "      <th>income</th>\n",
       "      <th>ed</th>\n",
       "      <th>employ</th>\n",
       "      <th>equip</th>\n",
       "      <th>callcard</th>\n",
       "      <th>wireless</th>\n",
       "      <th>churn</th>\n",
       "    </tr>\n",
       "  </thead>\n",
       "  <tbody>\n",
       "    <tr>\n",
       "      <th>0</th>\n",
       "      <td>11.0</td>\n",
       "      <td>33.0</td>\n",
       "      <td>7.0</td>\n",
       "      <td>136.0</td>\n",
       "      <td>5.0</td>\n",
       "      <td>5.0</td>\n",
       "      <td>0.0</td>\n",
       "      <td>1.0</td>\n",
       "      <td>1.0</td>\n",
       "      <td>1</td>\n",
       "    </tr>\n",
       "    <tr>\n",
       "      <th>1</th>\n",
       "      <td>33.0</td>\n",
       "      <td>33.0</td>\n",
       "      <td>12.0</td>\n",
       "      <td>33.0</td>\n",
       "      <td>2.0</td>\n",
       "      <td>0.0</td>\n",
       "      <td>0.0</td>\n",
       "      <td>0.0</td>\n",
       "      <td>0.0</td>\n",
       "      <td>1</td>\n",
       "    </tr>\n",
       "    <tr>\n",
       "      <th>2</th>\n",
       "      <td>23.0</td>\n",
       "      <td>30.0</td>\n",
       "      <td>9.0</td>\n",
       "      <td>30.0</td>\n",
       "      <td>1.0</td>\n",
       "      <td>2.0</td>\n",
       "      <td>0.0</td>\n",
       "      <td>0.0</td>\n",
       "      <td>0.0</td>\n",
       "      <td>0</td>\n",
       "    </tr>\n",
       "    <tr>\n",
       "      <th>3</th>\n",
       "      <td>38.0</td>\n",
       "      <td>35.0</td>\n",
       "      <td>5.0</td>\n",
       "      <td>76.0</td>\n",
       "      <td>2.0</td>\n",
       "      <td>10.0</td>\n",
       "      <td>1.0</td>\n",
       "      <td>1.0</td>\n",
       "      <td>1.0</td>\n",
       "      <td>0</td>\n",
       "    </tr>\n",
       "    <tr>\n",
       "      <th>4</th>\n",
       "      <td>7.0</td>\n",
       "      <td>35.0</td>\n",
       "      <td>14.0</td>\n",
       "      <td>80.0</td>\n",
       "      <td>2.0</td>\n",
       "      <td>15.0</td>\n",
       "      <td>0.0</td>\n",
       "      <td>1.0</td>\n",
       "      <td>0.0</td>\n",
       "      <td>0</td>\n",
       "    </tr>\n",
       "  </tbody>\n",
       "</table>\n",
       "</div>"
      ],
      "text/plain": [
       "   tenure   age  address  income   ed  employ  equip  callcard  wireless  \\\n",
       "0    11.0  33.0      7.0   136.0  5.0     5.0    0.0       1.0       1.0   \n",
       "1    33.0  33.0     12.0    33.0  2.0     0.0    0.0       0.0       0.0   \n",
       "2    23.0  30.0      9.0    30.0  1.0     2.0    0.0       0.0       0.0   \n",
       "3    38.0  35.0      5.0    76.0  2.0    10.0    1.0       1.0       1.0   \n",
       "4     7.0  35.0     14.0    80.0  2.0    15.0    0.0       1.0       0.0   \n",
       "\n",
       "   churn  \n",
       "0      1  \n",
       "1      1  \n",
       "2      0  \n",
       "3      0  \n",
       "4      0  "
      ]
     },
     "execution_count": 7,
     "metadata": {},
     "output_type": "execute_result"
    }
   ],
   "source": [
    "churn_df = churn_df[['tenure', 'age', 'address', 'income', 'ed', 'employ', 'equip', 'callcard', 'wireless','churn']]\n",
    "churn_df['churn'] = churn_df['churn'].astype('int')\n",
    "churn_df.head()"
   ]
  },
  {
   "cell_type": "markdown",
   "id": "f3d896c6",
   "metadata": {
    "papermill": {
     "duration": 0.017752,
     "end_time": "2022-07-05T07:04:28.359579",
     "exception": false,
     "start_time": "2022-07-05T07:04:28.341827",
     "status": "completed"
    },
    "tags": []
   },
   "source": [
    "### Select Variables at Random\n"
   ]
  },
  {
   "cell_type": "markdown",
   "id": "5056aa97",
   "metadata": {
    "papermill": {
     "duration": 0.017607,
     "end_time": "2022-07-05T07:04:28.395477",
     "exception": false,
     "start_time": "2022-07-05T07:04:28.377870",
     "status": "completed"
    },
    "tags": []
   },
   "source": [
    "Like Bagging, RF uses an independent bootstrap sample from the training data. In addition, we select $m$ variables at random out of all $M$ possible\n",
    "variables. Let's do an example.\n"
   ]
  },
  {
   "cell_type": "code",
   "execution_count": 8,
   "id": "ab979c50",
   "metadata": {
    "execution": {
     "iopub.execute_input": "2022-07-05T07:04:28.432905Z",
     "iopub.status.busy": "2022-07-05T07:04:28.432251Z",
     "iopub.status.idle": "2022-07-05T07:04:28.437962Z",
     "shell.execute_reply": "2022-07-05T07:04:28.437257Z"
    },
    "papermill": {
     "duration": 0.027112,
     "end_time": "2022-07-05T07:04:28.440140",
     "exception": false,
     "start_time": "2022-07-05T07:04:28.413028",
     "status": "completed"
    },
    "tags": []
   },
   "outputs": [],
   "source": [
    "X=churn_df[['tenure', 'age', 'address', 'income', 'ed', 'employ', 'equip']]"
   ]
  },
  {
   "cell_type": "markdown",
   "id": "7762f09d",
   "metadata": {
    "papermill": {
     "duration": 0.017282,
     "end_time": "2022-07-05T07:04:28.475055",
     "exception": false,
     "start_time": "2022-07-05T07:04:28.457773",
     "status": "completed"
    },
    "tags": []
   },
   "source": [
    "there are 7 features\n"
   ]
  },
  {
   "cell_type": "markdown",
   "id": "5ad8581e",
   "metadata": {
    "papermill": {
     "duration": 0.017523,
     "end_time": "2022-07-05T07:04:28.510363",
     "exception": false,
     "start_time": "2022-07-05T07:04:28.492840",
     "status": "completed"
    },
    "tags": []
   },
   "source": [
    "## Train/Test dataset\n"
   ]
  },
  {
   "cell_type": "markdown",
   "id": "d9909b31",
   "metadata": {
    "papermill": {
     "duration": 0.01813,
     "end_time": "2022-07-05T07:04:28.546335",
     "exception": false,
     "start_time": "2022-07-05T07:04:28.528205",
     "status": "completed"
    },
    "tags": []
   },
   "source": [
    "Let's define X, and y for our dataset:\n"
   ]
  },
  {
   "cell_type": "code",
   "execution_count": 9,
   "id": "9666d145",
   "metadata": {
    "execution": {
     "iopub.execute_input": "2022-07-05T07:04:28.584175Z",
     "iopub.status.busy": "2022-07-05T07:04:28.583790Z",
     "iopub.status.idle": "2022-07-05T07:04:28.589927Z",
     "shell.execute_reply": "2022-07-05T07:04:28.589163Z"
    },
    "papermill": {
     "duration": 0.02726,
     "end_time": "2022-07-05T07:04:28.591828",
     "exception": false,
     "start_time": "2022-07-05T07:04:28.564568",
     "status": "completed"
    },
    "tags": []
   },
   "outputs": [
    {
     "data": {
      "text/plain": [
       "0    1\n",
       "1    1\n",
       "2    0\n",
       "3    0\n",
       "4    0\n",
       "Name: churn, dtype: int64"
      ]
     },
     "execution_count": 9,
     "metadata": {},
     "output_type": "execute_result"
    }
   ],
   "source": [
    "y = churn_df['churn']\n",
    "y.head()"
   ]
  },
  {
   "cell_type": "markdown",
   "id": "9ae11084",
   "metadata": {
    "papermill": {
     "duration": 0.017493,
     "end_time": "2022-07-05T07:04:28.627462",
     "exception": false,
     "start_time": "2022-07-05T07:04:28.609969",
     "status": "completed"
    },
    "tags": []
   },
   "source": [
    "## Train/Test dataset\n"
   ]
  },
  {
   "cell_type": "markdown",
   "id": "7f2bd097",
   "metadata": {
    "papermill": {
     "duration": 0.017506,
     "end_time": "2022-07-05T07:04:28.662734",
     "exception": false,
     "start_time": "2022-07-05T07:04:28.645228",
     "status": "completed"
    },
    "tags": []
   },
   "source": [
    "We split our dataset into train and test set:\n"
   ]
  },
  {
   "cell_type": "code",
   "execution_count": 10,
   "id": "9ce90cb1",
   "metadata": {
    "execution": {
     "iopub.execute_input": "2022-07-05T07:04:28.700913Z",
     "iopub.status.busy": "2022-07-05T07:04:28.699747Z",
     "iopub.status.idle": "2022-07-05T07:04:28.726384Z",
     "shell.execute_reply": "2022-07-05T07:04:28.725511Z"
    },
    "papermill": {
     "duration": 0.048071,
     "end_time": "2022-07-05T07:04:28.728732",
     "exception": false,
     "start_time": "2022-07-05T07:04:28.680661",
     "status": "completed"
    },
    "tags": []
   },
   "outputs": [
    {
     "name": "stdout",
     "output_type": "stream",
     "text": [
      "Train set (140, 7) (140,)\n",
      "Test set (60, 7) (60,)\n"
     ]
    }
   ],
   "source": [
    "from sklearn.model_selection import train_test_split\n",
    "X_train, X_test, y_train, y_test = train_test_split( X, y, test_size=0.3, random_state=1)\n",
    "print ('Train set', X_train.shape,  y_train.shape)\n",
    "print ('Test set', X_test.shape,  y_test.shape)"
   ]
  },
  {
   "cell_type": "markdown",
   "id": "0219ec9a",
   "metadata": {
    "papermill": {
     "duration": 0.017508,
     "end_time": "2022-07-05T07:04:28.764362",
     "exception": false,
     "start_time": "2022-07-05T07:04:28.746854",
     "status": "completed"
    },
    "tags": []
   },
   "source": [
    "## AdaBoost\n"
   ]
  },
  {
   "cell_type": "markdown",
   "id": "d9b89cac",
   "metadata": {
    "papermill": {
     "duration": 0.018726,
     "end_time": "2022-07-05T07:04:28.800848",
     "exception": false,
     "start_time": "2022-07-05T07:04:28.782122",
     "status": "completed"
    },
    "tags": []
   },
   "source": [
    "We can import the AdaBoost Classifier in Sklearn\n"
   ]
  },
  {
   "cell_type": "code",
   "execution_count": 11,
   "id": "3d1bbdd4",
   "metadata": {
    "execution": {
     "iopub.execute_input": "2022-07-05T07:04:28.840112Z",
     "iopub.status.busy": "2022-07-05T07:04:28.839402Z",
     "iopub.status.idle": "2022-07-05T07:04:29.078248Z",
     "shell.execute_reply": "2022-07-05T07:04:29.077058Z"
    },
    "papermill": {
     "duration": 0.261612,
     "end_time": "2022-07-05T07:04:29.081022",
     "exception": false,
     "start_time": "2022-07-05T07:04:28.819410",
     "status": "completed"
    },
    "tags": []
   },
   "outputs": [],
   "source": [
    "from sklearn.ensemble import AdaBoostClassifier"
   ]
  },
  {
   "cell_type": "markdown",
   "id": "fd23ef94",
   "metadata": {
    "papermill": {
     "duration": 0.017427,
     "end_time": "2022-07-05T07:04:29.117354",
     "exception": false,
     "start_time": "2022-07-05T07:04:29.099927",
     "status": "completed"
    },
    "tags": []
   },
   "source": [
    "The parameter <code>n_estimatorsint</code> is the maximum number of classifiers (default=50) at which boosting is stopped. If the results are perfect, the training procedure is stopped early.\n"
   ]
  },
  {
   "cell_type": "code",
   "execution_count": 12,
   "id": "22e619bc",
   "metadata": {
    "execution": {
     "iopub.execute_input": "2022-07-05T07:04:29.154812Z",
     "iopub.status.busy": "2022-07-05T07:04:29.154413Z",
     "iopub.status.idle": "2022-07-05T07:04:29.158632Z",
     "shell.execute_reply": "2022-07-05T07:04:29.157755Z"
    },
    "papermill": {
     "duration": 0.025441,
     "end_time": "2022-07-05T07:04:29.160653",
     "exception": false,
     "start_time": "2022-07-05T07:04:29.135212",
     "status": "completed"
    },
    "tags": []
   },
   "outputs": [],
   "source": [
    "n_estimators=5\n",
    "random_state=0"
   ]
  },
  {
   "cell_type": "markdown",
   "id": "452b8044",
   "metadata": {
    "papermill": {
     "duration": 0.018328,
     "end_time": "2022-07-05T07:04:29.197712",
     "exception": false,
     "start_time": "2022-07-05T07:04:29.179384",
     "status": "completed"
    },
    "tags": []
   },
   "source": [
    "We can create a <code>AdaBoostClassifier</code> object.\n"
   ]
  },
  {
   "cell_type": "code",
   "execution_count": 13,
   "id": "27d9f615",
   "metadata": {
    "execution": {
     "iopub.execute_input": "2022-07-05T07:04:29.235941Z",
     "iopub.status.busy": "2022-07-05T07:04:29.235246Z",
     "iopub.status.idle": "2022-07-05T07:04:29.239456Z",
     "shell.execute_reply": "2022-07-05T07:04:29.238621Z"
    },
    "papermill": {
     "duration": 0.025767,
     "end_time": "2022-07-05T07:04:29.241436",
     "exception": false,
     "start_time": "2022-07-05T07:04:29.215669",
     "status": "completed"
    },
    "tags": []
   },
   "outputs": [],
   "source": [
    "model = AdaBoostClassifier(n_estimators=n_estimators,random_state=random_state)"
   ]
  },
  {
   "cell_type": "markdown",
   "id": "9cf4aeb2",
   "metadata": {
    "papermill": {
     "duration": 0.017438,
     "end_time": "2022-07-05T07:04:29.276924",
     "exception": false,
     "start_time": "2022-07-05T07:04:29.259486",
     "status": "completed"
    },
    "tags": []
   },
   "source": [
    "If the outputs were y-1 and 1, the form of the classifier would be:\n"
   ]
  },
  {
   "cell_type": "markdown",
   "id": "0451db33",
   "metadata": {
    "papermill": {
     "duration": 0.018545,
     "end_time": "2022-07-05T07:04:29.313355",
     "exception": false,
     "start_time": "2022-07-05T07:04:29.294810",
     "status": "completed"
    },
    "tags": []
   },
   "source": [
    "$H(x) = \text{sign}(  \\alpha\\_1 h\\_1(x)+ \\alpha\\_2 h\\_2(x)+ \\alpha\\_3 h\\_3(x)+ \\alpha\\_4 h\\_4(x)+ \\alpha\\_5 h\\_5(x) )$\n"
   ]
  },
  {
   "cell_type": "markdown",
   "id": "e969e12f",
   "metadata": {
    "papermill": {
     "duration": 0.017783,
     "end_time": "2022-07-05T07:04:29.349129",
     "exception": false,
     "start_time": "2022-07-05T07:04:29.331346",
     "status": "completed"
    },
    "tags": []
   },
   "source": [
    "We can fit the object finding all the $\\alpha_t$ $h_t(x)$ and then make a prediction:\n"
   ]
  },
  {
   "cell_type": "code",
   "execution_count": 14,
   "id": "d6cc47ec",
   "metadata": {
    "execution": {
     "iopub.execute_input": "2022-07-05T07:04:29.386782Z",
     "iopub.status.busy": "2022-07-05T07:04:29.386092Z",
     "iopub.status.idle": "2022-07-05T07:04:29.405718Z",
     "shell.execute_reply": "2022-07-05T07:04:29.404697Z"
    },
    "papermill": {
     "duration": 0.0408,
     "end_time": "2022-07-05T07:04:29.407907",
     "exception": false,
     "start_time": "2022-07-05T07:04:29.367107",
     "status": "completed"
    },
    "tags": []
   },
   "outputs": [
    {
     "data": {
      "text/plain": [
       "array([1, 0, 1, 0, 0, 0, 1, 0, 1, 0, 0, 0, 0, 1, 0, 0, 1, 0, 1, 1, 0, 0,\n",
       "       0, 0, 0, 0, 0, 1, 0, 1, 0, 0, 0, 0, 0, 0, 1, 0, 0, 1, 0, 1, 0, 1,\n",
       "       1, 1, 1, 0, 0, 0, 0, 1, 0, 0, 1, 0, 0, 1, 0, 0])"
      ]
     },
     "execution_count": 14,
     "metadata": {},
     "output_type": "execute_result"
    }
   ],
   "source": [
    "model.fit(X_train, y_train)\n",
    "y_pred = model.predict(X_test)\n",
    "y_pred "
   ]
  },
  {
   "cell_type": "markdown",
   "id": "3c61b0a8",
   "metadata": {
    "papermill": {
     "duration": 0.017654,
     "end_time": "2022-07-05T07:04:29.443853",
     "exception": false,
     "start_time": "2022-07-05T07:04:29.426199",
     "status": "completed"
    },
    "tags": []
   },
   "source": [
    "We can find the training and testing accuracy:\n"
   ]
  },
  {
   "cell_type": "code",
   "execution_count": 15,
   "id": "b364f668",
   "metadata": {
    "execution": {
     "iopub.execute_input": "2022-07-05T07:04:29.481871Z",
     "iopub.status.busy": "2022-07-05T07:04:29.481223Z",
     "iopub.status.idle": "2022-07-05T07:04:29.491719Z",
     "shell.execute_reply": "2022-07-05T07:04:29.490545Z"
    },
    "papermill": {
     "duration": 0.031968,
     "end_time": "2022-07-05T07:04:29.493889",
     "exception": false,
     "start_time": "2022-07-05T07:04:29.461921",
     "status": "completed"
    },
    "tags": []
   },
   "outputs": [
    {
     "name": "stdout",
     "output_type": "stream",
     "text": [
      "{'test Accuracy': 0.7666666666666667, 'trian Accuracy': 0.7642857142857142}\n"
     ]
    }
   ],
   "source": [
    "print(get_accuracy(X_train, X_test, y_train, y_test,  model))"
   ]
  },
  {
   "cell_type": "markdown",
   "id": "5f22405e",
   "metadata": {
    "papermill": {
     "duration": 0.017776,
     "end_time": "2022-07-05T07:04:29.530287",
     "exception": false,
     "start_time": "2022-07-05T07:04:29.512511",
     "status": "completed"
    },
    "tags": []
   },
   "source": [
    "We see the base model is a Decision Tree. Since it only has one layer, it’s called a stump:\n"
   ]
  },
  {
   "cell_type": "code",
   "execution_count": 16,
   "id": "487c5b02",
   "metadata": {
    "execution": {
     "iopub.execute_input": "2022-07-05T07:04:29.568531Z",
     "iopub.status.busy": "2022-07-05T07:04:29.567653Z",
     "iopub.status.idle": "2022-07-05T07:04:29.575975Z",
     "shell.execute_reply": "2022-07-05T07:04:29.574739Z"
    },
    "papermill": {
     "duration": 0.029874,
     "end_time": "2022-07-05T07:04:29.578267",
     "exception": false,
     "start_time": "2022-07-05T07:04:29.548393",
     "status": "completed"
    },
    "tags": []
   },
   "outputs": [
    {
     "data": {
      "text/plain": [
       "DecisionTreeClassifier(max_depth=1)"
      ]
     },
     "execution_count": 16,
     "metadata": {},
     "output_type": "execute_result"
    }
   ],
   "source": [
    "model.base_estimator_"
   ]
  },
  {
   "cell_type": "markdown",
   "id": "623e646e",
   "metadata": {
    "papermill": {
     "duration": 0.017813,
     "end_time": "2022-07-05T07:04:29.614782",
     "exception": false,
     "start_time": "2022-07-05T07:04:29.596969",
     "status": "completed"
    },
    "tags": []
   },
   "source": [
    "We can output a list of the weak classifiers: $h\\_1(x), h\\_2(x), h\\_3(x),h\\_4(x)$ and $h\\_5(x)$\n"
   ]
  },
  {
   "cell_type": "code",
   "execution_count": 17,
   "id": "f4d84f9d",
   "metadata": {
    "execution": {
     "iopub.execute_input": "2022-07-05T07:04:29.652675Z",
     "iopub.status.busy": "2022-07-05T07:04:29.652295Z",
     "iopub.status.idle": "2022-07-05T07:04:29.659496Z",
     "shell.execute_reply": "2022-07-05T07:04:29.658679Z"
    },
    "papermill": {
     "duration": 0.02845,
     "end_time": "2022-07-05T07:04:29.661393",
     "exception": false,
     "start_time": "2022-07-05T07:04:29.632943",
     "status": "completed"
    },
    "tags": []
   },
   "outputs": [
    {
     "data": {
      "text/plain": [
       "[DecisionTreeClassifier(max_depth=1, random_state=209652396),\n",
       " DecisionTreeClassifier(max_depth=1, random_state=398764591),\n",
       " DecisionTreeClassifier(max_depth=1, random_state=924231285),\n",
       " DecisionTreeClassifier(max_depth=1, random_state=1478610112),\n",
       " DecisionTreeClassifier(max_depth=1, random_state=441365315)]"
      ]
     },
     "execution_count": 17,
     "metadata": {},
     "output_type": "execute_result"
    }
   ],
   "source": [
    "model.estimators_"
   ]
  },
  {
   "cell_type": "markdown",
   "id": "989f737f",
   "metadata": {
    "papermill": {
     "duration": 0.017957,
     "end_time": "2022-07-05T07:04:29.697646",
     "exception": false,
     "start_time": "2022-07-05T07:04:29.679689",
     "status": "completed"
    },
    "tags": []
   },
   "source": [
    "We see the weak classifiers do not perform as well:\n"
   ]
  },
  {
   "cell_type": "code",
   "execution_count": 18,
   "id": "15ce4984",
   "metadata": {
    "execution": {
     "iopub.execute_input": "2022-07-05T07:04:29.736291Z",
     "iopub.status.busy": "2022-07-05T07:04:29.735493Z",
     "iopub.status.idle": "2022-07-05T07:04:29.757020Z",
     "shell.execute_reply": "2022-07-05T07:04:29.756214Z"
    },
    "papermill": {
     "duration": 0.043093,
     "end_time": "2022-07-05T07:04:29.759062",
     "exception": false,
     "start_time": "2022-07-05T07:04:29.715969",
     "status": "completed"
    },
    "tags": []
   },
   "outputs": [
    {
     "data": {
      "text/plain": [
       "[('for weak classifiers 1 the we get ',\n",
       "  {'test Accuracy': 0.7, 'trian Accuracy': 0.7428571428571429}),\n",
       " ('for weak classifiers 2 the we get ',\n",
       "  {'test Accuracy': 0.6, 'trian Accuracy': 0.6214285714285714}),\n",
       " ('for weak classifiers 3 the we get ',\n",
       "  {'test Accuracy': 0.6333333333333333, 'trian Accuracy': 0.6642857142857143}),\n",
       " ('for weak classifiers 4 the we get ',\n",
       "  {'test Accuracy': 0.35, 'trian Accuracy': 0.4642857142857143}),\n",
       " ('for weak classifiers 5 the we get ',\n",
       "  {'test Accuracy': 0.43333333333333335, 'trian Accuracy': 0.5})]"
      ]
     },
     "execution_count": 18,
     "metadata": {},
     "output_type": "execute_result"
    }
   ],
   "source": [
    "[ (\"for weak classifiers {} the we get \".format(i+1),get_accuracy(X_train, X_test, y_train, y_test,  weak_classifiers)) for i,weak_classifiers in enumerate(model.estimators_)]"
   ]
  },
  {
   "cell_type": "markdown",
   "id": "2655b9f7",
   "metadata": {
    "papermill": {
     "duration": 0.018276,
     "end_time": "2022-07-05T07:04:29.796335",
     "exception": false,
     "start_time": "2022-07-05T07:04:29.778059",
     "status": "completed"
    },
    "tags": []
   },
   "source": [
    "We can increase the number of weak classifiers:\n"
   ]
  },
  {
   "cell_type": "code",
   "execution_count": 19,
   "id": "b923f80d",
   "metadata": {
    "execution": {
     "iopub.execute_input": "2022-07-05T07:04:29.835291Z",
     "iopub.status.busy": "2022-07-05T07:04:29.834268Z",
     "iopub.status.idle": "2022-07-05T07:04:29.839142Z",
     "shell.execute_reply": "2022-07-05T07:04:29.838309Z"
    },
    "papermill": {
     "duration": 0.02653,
     "end_time": "2022-07-05T07:04:29.841166",
     "exception": false,
     "start_time": "2022-07-05T07:04:29.814636",
     "status": "completed"
    },
    "tags": []
   },
   "outputs": [],
   "source": [
    "n_estimators=100\n",
    "random_state=0"
   ]
  },
  {
   "cell_type": "markdown",
   "id": "2fac246e",
   "metadata": {
    "papermill": {
     "duration": 0.018549,
     "end_time": "2022-07-05T07:04:29.878937",
     "exception": false,
     "start_time": "2022-07-05T07:04:29.860388",
     "status": "completed"
    },
    "tags": []
   },
   "source": [
    "and then fit the model\n"
   ]
  },
  {
   "cell_type": "code",
   "execution_count": 20,
   "id": "32fe70b0",
   "metadata": {
    "execution": {
     "iopub.execute_input": "2022-07-05T07:04:29.919180Z",
     "iopub.status.busy": "2022-07-05T07:04:29.918228Z",
     "iopub.status.idle": "2022-07-05T07:04:30.067709Z",
     "shell.execute_reply": "2022-07-05T07:04:30.066460Z"
    },
    "papermill": {
     "duration": 0.172165,
     "end_time": "2022-07-05T07:04:30.070161",
     "exception": false,
     "start_time": "2022-07-05T07:04:29.897996",
     "status": "completed"
    },
    "tags": []
   },
   "outputs": [],
   "source": [
    "model = AdaBoostClassifier(n_estimators=n_estimators,random_state=random_state)\n",
    "model.fit(X_train, y_train)\n",
    "\n",
    "#Predict the response for test dataset\n",
    "y_pred = model.predict(X_test)"
   ]
  },
  {
   "cell_type": "markdown",
   "id": "5e5f8432",
   "metadata": {
    "papermill": {
     "duration": 0.019984,
     "end_time": "2022-07-05T07:04:30.109692",
     "exception": false,
     "start_time": "2022-07-05T07:04:30.089708",
     "status": "completed"
    },
    "tags": []
   },
   "source": [
    "We obtain the  training and testing accuracy:\n"
   ]
  },
  {
   "cell_type": "code",
   "execution_count": 21,
   "id": "15e582c9",
   "metadata": {
    "execution": {
     "iopub.execute_input": "2022-07-05T07:04:30.151161Z",
     "iopub.status.busy": "2022-07-05T07:04:30.150489Z",
     "iopub.status.idle": "2022-07-05T07:04:30.185821Z",
     "shell.execute_reply": "2022-07-05T07:04:30.184454Z"
    },
    "papermill": {
     "duration": 0.059104,
     "end_time": "2022-07-05T07:04:30.188255",
     "exception": false,
     "start_time": "2022-07-05T07:04:30.129151",
     "status": "completed"
    },
    "tags": []
   },
   "outputs": [
    {
     "name": "stdout",
     "output_type": "stream",
     "text": [
      "{'test Accuracy': 0.7333333333333333, 'trian Accuracy': 1.0}\n"
     ]
    }
   ],
   "source": [
    "print(get_accuracy(X_train, X_test, y_train, y_test, model))"
   ]
  },
  {
   "cell_type": "markdown",
   "id": "16120139",
   "metadata": {
    "papermill": {
     "duration": 0.018715,
     "end_time": "2022-07-05T07:04:30.225929",
     "exception": false,
     "start_time": "2022-07-05T07:04:30.207214",
     "status": "completed"
    },
    "tags": []
   },
   "source": [
    "We see that adding more weak classifiers causes overfitting. We can verify by plotting the training and test accuracy over the number of classifiers:\n"
   ]
  },
  {
   "cell_type": "code",
   "execution_count": 22,
   "id": "a74eaa47",
   "metadata": {
    "execution": {
     "iopub.execute_input": "2022-07-05T07:04:30.265758Z",
     "iopub.status.busy": "2022-07-05T07:04:30.265316Z",
     "iopub.status.idle": "2022-07-05T07:07:14.158490Z",
     "shell.execute_reply": "2022-07-05T07:07:14.157244Z"
    },
    "papermill": {
     "duration": 163.915738,
     "end_time": "2022-07-05T07:07:14.160631",
     "exception": false,
     "start_time": "2022-07-05T07:04:30.244893",
     "status": "completed"
    },
    "tags": []
   },
   "outputs": [
    {
     "name": "stderr",
     "output_type": "stream",
     "text": [
      "100%|██████████| 20/20 [02:43<00:00,  8.18s/it]\n"
     ]
    },
    {
     "data": {
      "image/png": "[encoded data removed]",
      "text/plain": [
       "<Figure size 432x288 with 2 Axes>"
      ]
     },
     "metadata": {
      "needs_background": "light"
     },
     "output_type": "display_data"
    }
   ],
   "source": [
    "get_accuracy_bag(X,y,title=\"Training and Test Accuracy vs Weak Classifiers\",Learning_rate_=[1],times=20,xlabel='Number Estimators')"
   ]
  },
  {
   "cell_type": "markdown",
   "id": "24e69375",
   "metadata": {
    "papermill": {
     "duration": 0.021096,
     "end_time": "2022-07-05T07:07:14.202225",
     "exception": false,
     "start_time": "2022-07-05T07:07:14.181129",
     "status": "completed"
    },
    "tags": []
   },
   "source": [
    "As you can see, as the number of classifiers increases so does the overfitting; the training accuracy increases and conversely, the testing accuracy decreases. One way to decrease overfitting is using the learning rate <code>learning_rate</code> with a default value of 1. This is a type of Regularization. For more detail on Regularization, check out <a href=\"https://hastie.su.domains/Papers/ESLII.pdf?utm_medium=Exinfluencer&utm_source=Exinfluencer&utm_content=000026UJ&utm_term=10006555&utm_id=NA-SkillsNetwork-Channel-SkillsNetworkCoursesIBMML241ENSkillsNetwork31576874-2022-01-01#page=383\">here</a>.\n"
   ]
  },
  {
   "cell_type": "code",
   "execution_count": 23,
   "id": "167630a9",
   "metadata": {
    "execution": {
     "iopub.execute_input": "2022-07-05T07:07:14.244491Z",
     "iopub.status.busy": "2022-07-05T07:07:14.244108Z",
     "iopub.status.idle": "2022-07-05T07:07:14.249116Z",
     "shell.execute_reply": "2022-07-05T07:07:14.248120Z"
    },
    "papermill": {
     "duration": 0.028529,
     "end_time": "2022-07-05T07:07:14.251098",
     "exception": false,
     "start_time": "2022-07-05T07:07:14.222569",
     "status": "completed"
    },
    "tags": []
   },
   "outputs": [],
   "source": [
    "n_estimators=100\n",
    "random_state=0\n",
    "learning_rate=0.7"
   ]
  },
  {
   "cell_type": "markdown",
   "id": "d586a7b9",
   "metadata": {
    "papermill": {
     "duration": 0.020038,
     "end_time": "2022-07-05T07:07:14.292167",
     "exception": false,
     "start_time": "2022-07-05T07:07:14.272129",
     "status": "completed"
    },
    "tags": []
   },
   "source": [
    "We can now train the model, make a prediction, and calculate the accuracy. We see that by increasing the learning rate the test accuracy has improved.\n"
   ]
  },
  {
   "cell_type": "code",
   "execution_count": 24,
   "id": "1c860cee",
   "metadata": {
    "execution": {
     "iopub.execute_input": "2022-07-05T07:07:14.335157Z",
     "iopub.status.busy": "2022-07-05T07:07:14.334467Z",
     "iopub.status.idle": "2022-07-05T07:07:14.512585Z",
     "shell.execute_reply": "2022-07-05T07:07:14.511702Z"
    },
    "papermill": {
     "duration": 0.202129,
     "end_time": "2022-07-05T07:07:14.514572",
     "exception": false,
     "start_time": "2022-07-05T07:07:14.312443",
     "status": "completed"
    },
    "tags": []
   },
   "outputs": [
    {
     "name": "stdout",
     "output_type": "stream",
     "text": [
      "{'test Accuracy': 0.75, 'trian Accuracy': 0.95}\n"
     ]
    }
   ],
   "source": [
    "model = AdaBoostClassifier(n_estimators=n_estimators,random_state=random_state,learning_rate=learning_rate)\n",
    "model.fit(X_train, y_train)\n",
    "y_pred = model.predict(X_test)\n",
    "print(get_accuracy(X_train, X_test, y_train, y_test, model))"
   ]
  },
  {
   "cell_type": "markdown",
   "id": "903a657f",
   "metadata": {
    "papermill": {
     "duration": 0.020138,
     "end_time": "2022-07-05T07:07:14.555103",
     "exception": false,
     "start_time": "2022-07-05T07:07:14.534965",
     "status": "completed"
    },
    "tags": []
   },
   "source": [
    "Compared to the previous results we see the model does better on the test data. We can try different learning rates using the method <code>get_accuracy_bag</code>. In this case, the learning rates are 0.2,0.4,0.6, and 1. As the learning rate goes down we see that the testing accuracy increases while conversely, the training accuracy decreases .\n"
   ]
  },
  {
   "cell_type": "code",
   "execution_count": 25,
   "id": "a3529c3b",
   "metadata": {
    "execution": {
     "iopub.execute_input": "2022-07-05T07:07:14.597649Z",
     "iopub.status.busy": "2022-07-05T07:07:14.596875Z",
     "iopub.status.idle": "2022-07-05T07:18:05.808319Z",
     "shell.execute_reply": "2022-07-05T07:18:05.807101Z"
    },
    "papermill": {
     "duration": 651.235416,
     "end_time": "2022-07-05T07:18:05.810828",
     "exception": false,
     "start_time": "2022-07-05T07:07:14.575412",
     "status": "completed"
    },
    "tags": []
   },
   "outputs": [
    {
     "name": "stderr",
     "output_type": "stream",
     "text": [
      "100%|██████████| 20/20 [10:50<00:00, 32.54s/it]\n"
     ]
    },
    {
     "data": {
      "image/png": "[encoded data removed]",
      "text/plain": [
       "<Figure size 432x288 with 2 Axes>"
      ]
     },
     "metadata": {
      "needs_background": "light"
     },
     "output_type": "display_data"
    }
   ],
   "source": [
    "get_accuracy_bag(X,y,title=\"Training and Test Accuracy vs Weak Classifiers\",Learning_rate_=[0.2,0.4,0.6,1],times=20,xlabel='Number Estimators')"
   ]
  },
  {
   "cell_type": "markdown",
   "id": "f0fe76f0",
   "metadata": {
    "papermill": {
     "duration": 0.0223,
     "end_time": "2022-07-05T07:18:05.856036",
     "exception": false,
     "start_time": "2022-07-05T07:18:05.833736",
     "status": "completed"
    },
    "tags": []
   },
   "source": [
    "Another important parameter is <code>algorithm</code> with takes on the values <code>SAMME</code>, <code>SAMME.R</code>. The default is  <code>’SAMME.R’</code>. The <code>SAMME.R</code> algorithm typically converges faster than <code>SAMME</code>, achieving a lower test error with fewer boosting iterations. For more details, check <a href=\"https://hastie.su.domains/Papers/samme.pdf?utm_medium=Exinfluencer&utm_source=Exinfluencer&utm_content=000026UJ&utm_term=10006555&utm_id=NA-SkillsNetwork-Channel-SkillsNetworkCoursesIBMML241ENSkillsNetwork31576874-2022-01-01\">the paper</a>. One issue is that <code>SAMME.R</code> can't be used all the time as we will need the Base classifier to generate the probability of belonging to each class.\n"
   ]
  },
  {
   "cell_type": "markdown",
   "id": "d6f57044",
   "metadata": {
    "papermill": {
     "duration": 0.022629,
     "end_time": "2022-07-05T07:18:05.901059",
     "exception": false,
     "start_time": "2022-07-05T07:18:05.878430",
     "status": "completed"
    },
    "tags": []
   },
   "source": [
    "## Changing the Base Classifier\n"
   ]
  },
  {
   "cell_type": "markdown",
   "id": "bada501a",
   "metadata": {
    "papermill": {
     "duration": 0.022365,
     "end_time": "2022-07-05T07:18:05.945840",
     "exception": false,
     "start_time": "2022-07-05T07:18:05.923475",
     "status": "completed"
    },
    "tags": []
   },
   "source": [
    "AdaBoost is usually performed with Decision Trees but we can use other base classifiers. However, if the classifier is too strong it will cause overfitting. Consider using the following Support Vector Machine (SVM) as the base classifier:\n"
   ]
  },
  {
   "cell_type": "code",
   "execution_count": 26,
   "id": "e165b248",
   "metadata": {
    "execution": {
     "iopub.execute_input": "2022-07-05T07:18:05.991951Z",
     "iopub.status.busy": "2022-07-05T07:18:05.991608Z",
     "iopub.status.idle": "2022-07-05T07:18:05.996013Z",
     "shell.execute_reply": "2022-07-05T07:18:05.994897Z"
    },
    "papermill": {
     "duration": 0.030095,
     "end_time": "2022-07-05T07:18:05.998007",
     "exception": false,
     "start_time": "2022-07-05T07:18:05.967912",
     "status": "completed"
    },
    "tags": []
   },
   "outputs": [],
   "source": [
    "from sklearn.svm import SVC"
   ]
  },
  {
   "cell_type": "code",
   "execution_count": 27,
   "id": "9af2676f",
   "metadata": {
    "execution": {
     "iopub.execute_input": "2022-07-05T07:18:06.045412Z",
     "iopub.status.busy": "2022-07-05T07:18:06.044264Z",
     "iopub.status.idle": "2022-07-05T07:18:06.049433Z",
     "shell.execute_reply": "2022-07-05T07:18:06.048684Z"
    },
    "papermill": {
     "duration": 0.030829,
     "end_time": "2022-07-05T07:18:06.051413",
     "exception": false,
     "start_time": "2022-07-05T07:18:06.020584",
     "status": "completed"
    },
    "tags": []
   },
   "outputs": [],
   "source": [
    "base_estimator=SVC(kernel='rbf',gamma=1)"
   ]
  },
  {
   "cell_type": "markdown",
   "id": "74134621",
   "metadata": {
    "papermill": {
     "duration": 0.022606,
     "end_time": "2022-07-05T07:18:06.096710",
     "exception": false,
     "start_time": "2022-07-05T07:18:06.074104",
     "status": "completed"
    },
    "tags": []
   },
   "source": [
    "We see the SVM does extremely well:\n"
   ]
  },
  {
   "cell_type": "code",
   "execution_count": 28,
   "id": "b1fe82ea",
   "metadata": {
    "execution": {
     "iopub.execute_input": "2022-07-05T07:18:06.205609Z",
     "iopub.status.busy": "2022-07-05T07:18:06.204582Z",
     "iopub.status.idle": "2022-07-05T07:18:06.219891Z",
     "shell.execute_reply": "2022-07-05T07:18:06.218645Z"
    },
    "papermill": {
     "duration": 0.041542,
     "end_time": "2022-07-05T07:18:06.221908",
     "exception": false,
     "start_time": "2022-07-05T07:18:06.180366",
     "status": "completed"
    },
    "tags": []
   },
   "outputs": [
    {
     "name": "stdout",
     "output_type": "stream",
     "text": [
      "{'test Accuracy': 0.7666666666666667, 'trian Accuracy': 1.0}\n"
     ]
    }
   ],
   "source": [
    "base_estimator.fit(X_train, y_train)\n",
    "\n",
    "print(get_accuracy(X_train, X_test, y_train, y_test, base_estimator))"
   ]
  },
  {
   "cell_type": "markdown",
   "id": "86943e61",
   "metadata": {
    "papermill": {
     "duration": 0.02263,
     "end_time": "2022-07-05T07:18:06.267768",
     "exception": false,
     "start_time": "2022-07-05T07:18:06.245138",
     "status": "completed"
    },
    "tags": []
   },
   "source": [
    "The Base classifier for SVM can not generate the probability of belonging to each class. If you uncomment the following line of code you will get an error.\n"
   ]
  },
  {
   "cell_type": "code",
   "execution_count": 29,
   "id": "7f85c7a4",
   "metadata": {
    "execution": {
     "iopub.execute_input": "2022-07-05T07:18:06.315308Z",
     "iopub.status.busy": "2022-07-05T07:18:06.314487Z",
     "iopub.status.idle": "2022-07-05T07:18:06.318863Z",
     "shell.execute_reply": "2022-07-05T07:18:06.317866Z"
    },
    "papermill": {
     "duration": 0.030591,
     "end_time": "2022-07-05T07:18:06.321019",
     "exception": false,
     "start_time": "2022-07-05T07:18:06.290428",
     "status": "completed"
    },
    "tags": []
   },
   "outputs": [],
   "source": [
    "#base_estimator.predict_proba(X_train)"
   ]
  },
  {
   "cell_type": "markdown",
   "id": "992d40fb",
   "metadata": {
    "papermill": {
     "duration": 0.021881,
     "end_time": "2022-07-05T07:18:06.365159",
     "exception": false,
     "start_time": "2022-07-05T07:18:06.343278",
     "status": "completed"
    },
    "tags": []
   },
   "source": [
    "Therefore the parameter <code>algorithm</code> must be <code>'SAMME'</code>\n"
   ]
  },
  {
   "cell_type": "code",
   "execution_count": 30,
   "id": "f786a62f",
   "metadata": {
    "execution": {
     "iopub.execute_input": "2022-07-05T07:18:06.411915Z",
     "iopub.status.busy": "2022-07-05T07:18:06.410895Z",
     "iopub.status.idle": "2022-07-05T07:18:06.415764Z",
     "shell.execute_reply": "2022-07-05T07:18:06.415038Z"
    },
    "papermill": {
     "duration": 0.0304,
     "end_time": "2022-07-05T07:18:06.417780",
     "exception": false,
     "start_time": "2022-07-05T07:18:06.387380",
     "status": "completed"
    },
    "tags": []
   },
   "outputs": [],
   "source": [
    "algorithm='SAMME'"
   ]
  },
  {
   "cell_type": "code",
   "execution_count": 31,
   "id": "5e8a2ef0",
   "metadata": {
    "execution": {
     "iopub.execute_input": "2022-07-05T07:18:06.464624Z",
     "iopub.status.busy": "2022-07-05T07:18:06.463834Z",
     "iopub.status.idle": "2022-07-05T07:18:06.469411Z",
     "shell.execute_reply": "2022-07-05T07:18:06.468518Z"
    },
    "papermill": {
     "duration": 0.031261,
     "end_time": "2022-07-05T07:18:06.471400",
     "exception": false,
     "start_time": "2022-07-05T07:18:06.440139",
     "status": "completed"
    },
    "tags": []
   },
   "outputs": [],
   "source": [
    "model =AdaBoostClassifier(n_estimators=5, base_estimator=base_estimator,learning_rate=1,algorithm='SAMME' )"
   ]
  },
  {
   "cell_type": "markdown",
   "id": "2c524d9a",
   "metadata": {
    "papermill": {
     "duration": 0.023104,
     "end_time": "2022-07-05T07:18:06.517243",
     "exception": false,
     "start_time": "2022-07-05T07:18:06.494139",
     "status": "completed"
    },
    "tags": []
   },
   "source": [
    "We see the AdaBoost model does worse, this is similar to overfitting. In addition, SVM takes much longer to train than classification trees:\n"
   ]
  },
  {
   "cell_type": "code",
   "execution_count": 32,
   "id": "4f41cfa6",
   "metadata": {
    "execution": {
     "iopub.execute_input": "2022-07-05T07:18:06.565065Z",
     "iopub.status.busy": "2022-07-05T07:18:06.564313Z",
     "iopub.status.idle": "2022-07-05T07:18:06.611267Z",
     "shell.execute_reply": "2022-07-05T07:18:06.610103Z"
    },
    "papermill": {
     "duration": 0.073245,
     "end_time": "2022-07-05T07:18:06.613487",
     "exception": false,
     "start_time": "2022-07-05T07:18:06.540242",
     "status": "completed"
    },
    "tags": []
   },
   "outputs": [
    {
     "name": "stdout",
     "output_type": "stream",
     "text": [
      "{'test Accuracy': 0.7666666666666667, 'trian Accuracy': 0.6857142857142857}\n"
     ]
    }
   ],
   "source": [
    "model.fit(X_train, y_train)\n",
    "\n",
    "#Predict the response for test dataset\n",
    "y_pred = model.predict(X_test)\n",
    "print(get_accuracy(X_train, X_test, y_train, y_test, model))"
   ]
  },
  {
   "cell_type": "markdown",
   "id": "de54b7fb",
   "metadata": {
    "papermill": {
     "duration": 0.022826,
     "end_time": "2022-07-05T07:18:06.658974",
     "exception": false,
     "start_time": "2022-07-05T07:18:06.636148",
     "status": "completed"
    },
    "tags": []
   },
   "source": [
    "We see that each tree in RF is less correlated than Bagging:\n"
   ]
  },
  {
   "cell_type": "markdown",
   "id": "f99dc4a0",
   "metadata": {
    "papermill": {
     "duration": 0.022131,
     "end_time": "2022-07-05T07:18:06.703625",
     "exception": false,
     "start_time": "2022-07-05T07:18:06.681494",
     "status": "completed"
    },
    "tags": []
   },
   "source": [
    "<h2 id=\"Example\">Cancer Data Example</h2>\n",
    "\n",
    "The example is based on a dataset that is publicly available from the UCI Machine Learning Repository (Asuncion and Newman, 2007)\\[[http://mlearn.ics.uci.edu/MLRepository.html](http://mlearn.ics.uci.edu/MLRepository.html?utm_medium=Exinfluencer&utm_source=Exinfluencer&utm_content=000026UJ&utm_term=10006555&utm_id=NA-SkillsNetwork-Channel-SkillsNetworkCoursesIBMML241ENSkillsNetwork31576874-2022-01-01)]. The dataset consists of several hundred human cell sample records, each of which contains the values of a set of cell characteristics. The fields in each record are:\n",
    "\n",
    "| Field name  | Description                 |\n",
    "| ----------- | --------------------------- |\n",
    "| ID          | Clump thickness             |\n",
    "| Clump       | Clump thickness             |\n",
    "| UnifSize    | Uniformity of cell size     |\n",
    "| UnifShape   | Uniformity of cell shape    |\n",
    "| MargAdh     | Marginal adhesion           |\n",
    "| SingEpiSize | Single epithelial cell size |\n",
    "| BareNuc     | Bare nuclei                 |\n",
    "| BlandChrom  | Bland chromatin             |\n",
    "| NormNucl    | Normal nucleoli             |\n",
    "| Mit         | Mitoses                     |\n",
    "| Class       | Benign or malignant         |\n",
    "\n",
    "<br>\n",
    "<br>\n",
    "\n",
    "Let's load the dataset:\n"
   ]
  },
  {
   "cell_type": "code",
   "execution_count": 33,
   "id": "a53a5bc3",
   "metadata": {
    "execution": {
     "iopub.execute_input": "2022-07-05T07:18:06.750891Z",
     "iopub.status.busy": "2022-07-05T07:18:06.750230Z",
     "iopub.status.idle": "2022-07-05T07:18:07.595401Z",
     "shell.execute_reply": "2022-07-05T07:18:07.594671Z"
    },
    "papermill": {
     "duration": 0.870932,
     "end_time": "2022-07-05T07:18:07.597232",
     "exception": false,
     "start_time": "2022-07-05T07:18:06.726300",
     "status": "completed"
    },
    "tags": []
   },
   "outputs": [
    {
     "data": {
      "text/html": [
       "<div>\n",
       "<style scoped>\n",
       "    .dataframe tbody tr th:only-of-type {\n",
       "        vertical-align: middle;\n",
       "    }\n",
       "\n",
       "    .dataframe tbody tr th {\n",
       "        vertical-align: top;\n",
       "    }\n",
       "\n",
       "    .dataframe thead th {\n",
       "        text-align: right;\n",
       "    }\n",
       "</style>\n",
       "<table border=\"1\" class=\"dataframe\">\n",
       "  <thead>\n",
       "    <tr style=\"text-align: right;\">\n",
       "      <th></th>\n",
       "      <th>ID</th>\n",
       "      <th>Clump</th>\n",
       "      <th>UnifSize</th>\n",
       "      <th>UnifShape</th>\n",
       "      <th>MargAdh</th>\n",
       "      <th>SingEpiSize</th>\n",
       "      <th>BareNuc</th>\n",
       "      <th>BlandChrom</th>\n",
       "      <th>NormNucl</th>\n",
       "      <th>Mit</th>\n",
       "      <th>Class</th>\n",
       "    </tr>\n",
       "  </thead>\n",
       "  <tbody>\n",
       "    <tr>\n",
       "      <th>0</th>\n",
       "      <td>1000025</td>\n",
       "      <td>5</td>\n",
       "      <td>1</td>\n",
       "      <td>1</td>\n",
       "      <td>1</td>\n",
       "      <td>2</td>\n",
       "      <td>1</td>\n",
       "      <td>3</td>\n",
       "      <td>1</td>\n",
       "      <td>1</td>\n",
       "      <td>2</td>\n",
       "    </tr>\n",
       "    <tr>\n",
       "      <th>1</th>\n",
       "      <td>1002945</td>\n",
       "      <td>5</td>\n",
       "      <td>4</td>\n",
       "      <td>4</td>\n",
       "      <td>5</td>\n",
       "      <td>7</td>\n",
       "      <td>10</td>\n",
       "      <td>3</td>\n",
       "      <td>2</td>\n",
       "      <td>1</td>\n",
       "      <td>2</td>\n",
       "    </tr>\n",
       "    <tr>\n",
       "      <th>2</th>\n",
       "      <td>1015425</td>\n",
       "      <td>3</td>\n",
       "      <td>1</td>\n",
       "      <td>1</td>\n",
       "      <td>1</td>\n",
       "      <td>2</td>\n",
       "      <td>2</td>\n",
       "      <td>3</td>\n",
       "      <td>1</td>\n",
       "      <td>1</td>\n",
       "      <td>2</td>\n",
       "    </tr>\n",
       "    <tr>\n",
       "      <th>3</th>\n",
       "      <td>1016277</td>\n",
       "      <td>6</td>\n",
       "      <td>8</td>\n",
       "      <td>8</td>\n",
       "      <td>1</td>\n",
       "      <td>3</td>\n",
       "      <td>4</td>\n",
       "      <td>3</td>\n",
       "      <td>7</td>\n",
       "      <td>1</td>\n",
       "      <td>2</td>\n",
       "    </tr>\n",
       "    <tr>\n",
       "      <th>4</th>\n",
       "      <td>1017023</td>\n",
       "      <td>4</td>\n",
       "      <td>1</td>\n",
       "      <td>1</td>\n",
       "      <td>3</td>\n",
       "      <td>2</td>\n",
       "      <td>1</td>\n",
       "      <td>3</td>\n",
       "      <td>1</td>\n",
       "      <td>1</td>\n",
       "      <td>2</td>\n",
       "    </tr>\n",
       "  </tbody>\n",
       "</table>\n",
       "</div>"
      ],
      "text/plain": [
       "        ID  Clump  UnifSize  UnifShape  MargAdh  SingEpiSize BareNuc  \\\n",
       "0  1000025      5         1          1        1            2       1   \n",
       "1  1002945      5         4          4        5            7      10   \n",
       "2  1015425      3         1          1        1            2       2   \n",
       "3  1016277      6         8          8        1            3       4   \n",
       "4  1017023      4         1          1        3            2       1   \n",
       "\n",
       "   BlandChrom  NormNucl  Mit  Class  \n",
       "0           3         1    1      2  \n",
       "1           3         2    1      2  \n",
       "2           3         1    1      2  \n",
       "3           3         7    1      2  \n",
       "4           3         1    1      2  "
      ]
     },
     "execution_count": 33,
     "metadata": {},
     "output_type": "execute_result"
    }
   ],
   "source": [
    "df = pd.read_csv(\"https://cf-courses-data.s3.us.cloud-object-storage.appdomain.cloud/IBMDeveloperSkillsNetwork-ML0101EN-SkillsNetwork/labs/Module%203/data/cell_samples.csv\")\n",
    "\n",
    "df.head()"
   ]
  },
  {
   "cell_type": "markdown",
   "id": "10c2af17",
   "metadata": {
    "papermill": {
     "duration": 0.022296,
     "end_time": "2022-07-05T07:18:07.642151",
     "exception": false,
     "start_time": "2022-07-05T07:18:07.619855",
     "status": "completed"
    },
    "tags": []
   },
   "source": [
    "Now lets remove rows that have a ? in the <code>BareNuc</code> column:\n"
   ]
  },
  {
   "cell_type": "code",
   "execution_count": 34,
   "id": "290c2249",
   "metadata": {
    "execution": {
     "iopub.execute_input": "2022-07-05T07:18:07.689387Z",
     "iopub.status.busy": "2022-07-05T07:18:07.688729Z",
     "iopub.status.idle": "2022-07-05T07:18:07.694294Z",
     "shell.execute_reply": "2022-07-05T07:18:07.693563Z"
    },
    "papermill": {
     "duration": 0.031304,
     "end_time": "2022-07-05T07:18:07.696096",
     "exception": false,
     "start_time": "2022-07-05T07:18:07.664792",
     "status": "completed"
    },
    "tags": []
   },
   "outputs": [],
   "source": [
    "df= df[pd.to_numeric(df['BareNuc'], errors='coerce').notnull()]"
   ]
  },
  {
   "cell_type": "markdown",
   "id": "0d7a29cf",
   "metadata": {
    "papermill": {
     "duration": 0.02278,
     "end_time": "2022-07-05T07:18:07.741744",
     "exception": false,
     "start_time": "2022-07-05T07:18:07.718964",
     "status": "completed"
    },
    "tags": []
   },
   "source": [
    "We obtain the features:\n"
   ]
  },
  {
   "cell_type": "code",
   "execution_count": 35,
   "id": "a816af84",
   "metadata": {
    "execution": {
     "iopub.execute_input": "2022-07-05T07:18:07.788616Z",
     "iopub.status.busy": "2022-07-05T07:18:07.787902Z",
     "iopub.status.idle": "2022-07-05T07:18:07.801575Z",
     "shell.execute_reply": "2022-07-05T07:18:07.800497Z"
    },
    "papermill": {
     "duration": 0.039447,
     "end_time": "2022-07-05T07:18:07.803681",
     "exception": false,
     "start_time": "2022-07-05T07:18:07.764234",
     "status": "completed"
    },
    "tags": []
   },
   "outputs": [
    {
     "data": {
      "text/html": [
       "<div>\n",
       "<style scoped>\n",
       "    .dataframe tbody tr th:only-of-type {\n",
       "        vertical-align: middle;\n",
       "    }\n",
       "\n",
       "    .dataframe tbody tr th {\n",
       "        vertical-align: top;\n",
       "    }\n",
       "\n",
       "    .dataframe thead th {\n",
       "        text-align: right;\n",
       "    }\n",
       "</style>\n",
       "<table border=\"1\" class=\"dataframe\">\n",
       "  <thead>\n",
       "    <tr style=\"text-align: right;\">\n",
       "      <th></th>\n",
       "      <th>Clump</th>\n",
       "      <th>UnifSize</th>\n",
       "      <th>UnifShape</th>\n",
       "      <th>MargAdh</th>\n",
       "      <th>SingEpiSize</th>\n",
       "      <th>BareNuc</th>\n",
       "      <th>BlandChrom</th>\n",
       "      <th>NormNucl</th>\n",
       "      <th>Mit</th>\n",
       "    </tr>\n",
       "  </thead>\n",
       "  <tbody>\n",
       "    <tr>\n",
       "      <th>0</th>\n",
       "      <td>5</td>\n",
       "      <td>1</td>\n",
       "      <td>1</td>\n",
       "      <td>1</td>\n",
       "      <td>2</td>\n",
       "      <td>1</td>\n",
       "      <td>3</td>\n",
       "      <td>1</td>\n",
       "      <td>1</td>\n",
       "    </tr>\n",
       "    <tr>\n",
       "      <th>1</th>\n",
       "      <td>5</td>\n",
       "      <td>4</td>\n",
       "      <td>4</td>\n",
       "      <td>5</td>\n",
       "      <td>7</td>\n",
       "      <td>10</td>\n",
       "      <td>3</td>\n",
       "      <td>2</td>\n",
       "      <td>1</td>\n",
       "    </tr>\n",
       "    <tr>\n",
       "      <th>2</th>\n",
       "      <td>3</td>\n",
       "      <td>1</td>\n",
       "      <td>1</td>\n",
       "      <td>1</td>\n",
       "      <td>2</td>\n",
       "      <td>2</td>\n",
       "      <td>3</td>\n",
       "      <td>1</td>\n",
       "      <td>1</td>\n",
       "    </tr>\n",
       "    <tr>\n",
       "      <th>3</th>\n",
       "      <td>6</td>\n",
       "      <td>8</td>\n",
       "      <td>8</td>\n",
       "      <td>1</td>\n",
       "      <td>3</td>\n",
       "      <td>4</td>\n",
       "      <td>3</td>\n",
       "      <td>7</td>\n",
       "      <td>1</td>\n",
       "    </tr>\n",
       "    <tr>\n",
       "      <th>4</th>\n",
       "      <td>4</td>\n",
       "      <td>1</td>\n",
       "      <td>1</td>\n",
       "      <td>3</td>\n",
       "      <td>2</td>\n",
       "      <td>1</td>\n",
       "      <td>3</td>\n",
       "      <td>1</td>\n",
       "      <td>1</td>\n",
       "    </tr>\n",
       "  </tbody>\n",
       "</table>\n",
       "</div>"
      ],
      "text/plain": [
       "   Clump  UnifSize  UnifShape  MargAdh  SingEpiSize BareNuc  BlandChrom  \\\n",
       "0      5         1          1        1            2       1           3   \n",
       "1      5         4          4        5            7      10           3   \n",
       "2      3         1          1        1            2       2           3   \n",
       "3      6         8          8        1            3       4           3   \n",
       "4      4         1          1        3            2       1           3   \n",
       "\n",
       "   NormNucl  Mit  \n",
       "0         1    1  \n",
       "1         2    1  \n",
       "2         1    1  \n",
       "3         7    1  \n",
       "4         1    1  "
      ]
     },
     "execution_count": 35,
     "metadata": {},
     "output_type": "execute_result"
    }
   ],
   "source": [
    "X =  df[['Clump', 'UnifSize', 'UnifShape', 'MargAdh', 'SingEpiSize', 'BareNuc', 'BlandChrom', 'NormNucl', 'Mit']]\n",
    "\n",
    "X.head()"
   ]
  },
  {
   "cell_type": "markdown",
   "id": "dda69b86",
   "metadata": {
    "papermill": {
     "duration": 0.022496,
     "end_time": "2022-07-05T07:18:07.849242",
     "exception": false,
     "start_time": "2022-07-05T07:18:07.826746",
     "status": "completed"
    },
    "tags": []
   },
   "source": [
    "We obtain the class labels:\n"
   ]
  },
  {
   "cell_type": "code",
   "execution_count": 36,
   "id": "c66ed8b2",
   "metadata": {
    "execution": {
     "iopub.execute_input": "2022-07-05T07:18:07.896451Z",
     "iopub.status.busy": "2022-07-05T07:18:07.895850Z",
     "iopub.status.idle": "2022-07-05T07:18:07.902768Z",
     "shell.execute_reply": "2022-07-05T07:18:07.902004Z"
    },
    "papermill": {
     "duration": 0.032719,
     "end_time": "2022-07-05T07:18:07.904620",
     "exception": false,
     "start_time": "2022-07-05T07:18:07.871901",
     "status": "completed"
    },
    "tags": []
   },
   "outputs": [
    {
     "data": {
      "text/plain": [
       "0    2\n",
       "1    2\n",
       "2    2\n",
       "3    2\n",
       "4    2\n",
       "Name: Class, dtype: int64"
      ]
     },
     "execution_count": 36,
     "metadata": {},
     "output_type": "execute_result"
    }
   ],
   "source": [
    "y=df['Class']\n",
    "y.head()"
   ]
  },
  {
   "cell_type": "markdown",
   "id": "410b21f0",
   "metadata": {
    "papermill": {
     "duration": 0.022745,
     "end_time": "2022-07-05T07:18:07.950546",
     "exception": false,
     "start_time": "2022-07-05T07:18:07.927801",
     "status": "completed"
    },
    "tags": []
   },
   "source": [
    "We split the data into training and testing sets.\n"
   ]
  },
  {
   "cell_type": "code",
   "execution_count": 37,
   "id": "d268d762",
   "metadata": {
    "execution": {
     "iopub.execute_input": "2022-07-05T07:18:07.998793Z",
     "iopub.status.busy": "2022-07-05T07:18:07.998191Z",
     "iopub.status.idle": "2022-07-05T07:18:08.007891Z",
     "shell.execute_reply": "2022-07-05T07:18:08.006674Z"
    },
    "papermill": {
     "duration": 0.036287,
     "end_time": "2022-07-05T07:18:08.009852",
     "exception": false,
     "start_time": "2022-07-05T07:18:07.973565",
     "status": "completed"
    },
    "tags": []
   },
   "outputs": [
    {
     "name": "stdout",
     "output_type": "stream",
     "text": [
      "Train set: (546, 9) (546,)\n",
      "Test set: (137, 9) (137,)\n"
     ]
    }
   ],
   "source": [
    "X_train, X_test, y_train, y_test = train_test_split( X, y, test_size=0.2, random_state=4)\n",
    "print ('Train set:', X_train.shape,  y_train.shape)\n",
    "print ('Test set:', X_test.shape,  y_test.shape)"
   ]
  },
  {
   "cell_type": "markdown",
   "id": "e9005da9",
   "metadata": {
    "papermill": {
     "duration": 0.022931,
     "end_time": "2022-07-05T07:18:08.056450",
     "exception": false,
     "start_time": "2022-07-05T07:18:08.033519",
     "status": "completed"
    },
    "tags": []
   },
   "source": [
    "We use <code>GridSearchCV</code> to search over specified parameter values of the model.\n"
   ]
  },
  {
   "cell_type": "code",
   "execution_count": 38,
   "id": "e70a6326",
   "metadata": {
    "execution": {
     "iopub.execute_input": "2022-07-05T07:18:08.105065Z",
     "iopub.status.busy": "2022-07-05T07:18:08.104208Z",
     "iopub.status.idle": "2022-07-05T07:18:08.109573Z",
     "shell.execute_reply": "2022-07-05T07:18:08.108625Z"
    },
    "papermill": {
     "duration": 0.031657,
     "end_time": "2022-07-05T07:18:08.111568",
     "exception": false,
     "start_time": "2022-07-05T07:18:08.079911",
     "status": "completed"
    },
    "tags": []
   },
   "outputs": [],
   "source": [
    "from sklearn.model_selection import GridSearchCV"
   ]
  },
  {
   "cell_type": "markdown",
   "id": "bca7c4d6",
   "metadata": {
    "papermill": {
     "duration": 0.022671,
     "end_time": "2022-07-05T07:18:08.157649",
     "exception": false,
     "start_time": "2022-07-05T07:18:08.134978",
     "status": "completed"
    },
    "tags": []
   },
   "source": [
    "We create a <code>AdaBoost</code> object and list the parameters using the method <code>get_params()</code>:\n"
   ]
  },
  {
   "cell_type": "code",
   "execution_count": 39,
   "id": "9a5d4390",
   "metadata": {
    "execution": {
     "iopub.execute_input": "2022-07-05T07:18:08.206190Z",
     "iopub.status.busy": "2022-07-05T07:18:08.205133Z",
     "iopub.status.idle": "2022-07-05T07:18:08.212318Z",
     "shell.execute_reply": "2022-07-05T07:18:08.211459Z"
    },
    "papermill": {
     "duration": 0.03352,
     "end_time": "2022-07-05T07:18:08.214191",
     "exception": false,
     "start_time": "2022-07-05T07:18:08.180671",
     "status": "completed"
    },
    "tags": []
   },
   "outputs": [
    {
     "data": {
      "text/plain": [
       "dict_keys(['algorithm', 'base_estimator', 'learning_rate', 'n_estimators', 'random_state'])"
      ]
     },
     "execution_count": 39,
     "metadata": {},
     "output_type": "execute_result"
    }
   ],
   "source": [
    "model = AdaBoostClassifier()\n",
    "model.get_params().keys()"
   ]
  },
  {
   "cell_type": "markdown",
   "id": "60a3d5c6",
   "metadata": {
    "papermill": {
     "duration": 0.023199,
     "end_time": "2022-07-05T07:18:08.260975",
     "exception": false,
     "start_time": "2022-07-05T07:18:08.237776",
     "status": "completed"
    },
    "tags": []
   },
   "source": [
    "We can use GridSearch for Exhaustive search over specified parameter values. We see many of the parameters are similar to Classification trees; let's try different parameters for <code>learning_rate</code>, <code>n_estimators</code>, and <code>algorithm</code>.\n"
   ]
  },
  {
   "cell_type": "code",
   "execution_count": 40,
   "id": "eaa569e1",
   "metadata": {
    "execution": {
     "iopub.execute_input": "2022-07-05T07:18:08.309178Z",
     "iopub.status.busy": "2022-07-05T07:18:08.308276Z",
     "iopub.status.idle": "2022-07-05T07:18:08.315924Z",
     "shell.execute_reply": "2022-07-05T07:18:08.314999Z"
    },
    "papermill": {
     "duration": 0.033788,
     "end_time": "2022-07-05T07:18:08.317835",
     "exception": false,
     "start_time": "2022-07-05T07:18:08.284047",
     "status": "completed"
    },
    "tags": []
   },
   "outputs": [
    {
     "data": {
      "text/plain": [
       "{'learning_rate': [0.1,\n",
       "  0.2,\n",
       "  0.30000000000000004,\n",
       "  0.4,\n",
       "  0.5,\n",
       "  0.6000000000000001,\n",
       "  0.7000000000000001,\n",
       "  0.8,\n",
       "  0.9,\n",
       "  1.0],\n",
       " 'n_estimators': [1, 3, 5, 7, 9, 11, 13, 15, 17, 19],\n",
       " 'algorithm': ['SAMME', 'SAMME.R']}"
      ]
     },
     "execution_count": 40,
     "metadata": {},
     "output_type": "execute_result"
    }
   ],
   "source": [
    "param_grid = {'learning_rate': [0.1*(n+1) for n in range(10)],\n",
    "             'n_estimators' : [2*n+1 for n in range(10)],\n",
    "              'algorithm':['SAMME', 'SAMME.R']}                \n",
    "\n",
    "param_grid "
   ]
  },
  {
   "cell_type": "markdown",
   "id": "f35e11a1",
   "metadata": {
    "papermill": {
     "duration": 0.022928,
     "end_time": "2022-07-05T07:18:08.364137",
     "exception": false,
     "start_time": "2022-07-05T07:18:08.341209",
     "status": "completed"
    },
    "tags": []
   },
   "source": [
    "We create the Grid Search object and fit it:\n"
   ]
  },
  {
   "cell_type": "code",
   "execution_count": 41,
   "id": "0fc7ecc7",
   "metadata": {
    "execution": {
     "iopub.execute_input": "2022-07-05T07:18:08.412522Z",
     "iopub.status.busy": "2022-07-05T07:18:08.411874Z",
     "iopub.status.idle": "2022-07-05T07:18:30.875559Z",
     "shell.execute_reply": "2022-07-05T07:18:30.874398Z"
    },
    "papermill": {
     "duration": 22.490765,
     "end_time": "2022-07-05T07:18:30.878142",
     "exception": false,
     "start_time": "2022-07-05T07:18:08.387377",
     "status": "completed"
    },
    "tags": []
   },
   "outputs": [
    {
     "data": {
      "text/plain": [
       "GridSearchCV(estimator=AdaBoostClassifier(),\n",
       "             param_grid={'algorithm': ['SAMME', 'SAMME.R'],\n",
       "                         'learning_rate': [0.1, 0.2, 0.30000000000000004, 0.4,\n",
       "                                           0.5, 0.6000000000000001,\n",
       "                                           0.7000000000000001, 0.8, 0.9, 1.0],\n",
       "                         'n_estimators': [1, 3, 5, 7, 9, 11, 13, 15, 17, 19]},\n",
       "             scoring='accuracy')"
      ]
     },
     "execution_count": 41,
     "metadata": {},
     "output_type": "execute_result"
    }
   ],
   "source": [
    "search = GridSearchCV(estimator=model, param_grid=param_grid,scoring='accuracy')\n",
    "search.fit(X_train, y_train)"
   ]
  },
  {
   "cell_type": "markdown",
   "id": "22fd19ce",
   "metadata": {
    "papermill": {
     "duration": 0.023409,
     "end_time": "2022-07-05T07:18:30.925631",
     "exception": false,
     "start_time": "2022-07-05T07:18:30.902222",
     "status": "completed"
    },
    "tags": []
   },
   "source": [
    "We can see the best accuracy score of the searched parameters was \\~96%.\n"
   ]
  },
  {
   "cell_type": "code",
   "execution_count": 42,
   "id": "553a3780",
   "metadata": {
    "execution": {
     "iopub.execute_input": "2022-07-05T07:18:30.975302Z",
     "iopub.status.busy": "2022-07-05T07:18:30.974891Z",
     "iopub.status.idle": "2022-07-05T07:18:30.981740Z",
     "shell.execute_reply": "2022-07-05T07:18:30.980595Z"
    },
    "papermill": {
     "duration": 0.034471,
     "end_time": "2022-07-05T07:18:30.983705",
     "exception": false,
     "start_time": "2022-07-05T07:18:30.949234",
     "status": "completed"
    },
    "tags": []
   },
   "outputs": [
    {
     "data": {
      "text/plain": [
       "0.9689074228523771"
      ]
     },
     "execution_count": 42,
     "metadata": {},
     "output_type": "execute_result"
    }
   ],
   "source": [
    "search.best_score_"
   ]
  },
  {
   "cell_type": "markdown",
   "id": "dd61365c",
   "metadata": {
    "papermill": {
     "duration": 0.023378,
     "end_time": "2022-07-05T07:18:31.030875",
     "exception": false,
     "start_time": "2022-07-05T07:18:31.007497",
     "status": "completed"
    },
    "tags": []
   },
   "source": [
    "The best parameter values are:\n"
   ]
  },
  {
   "cell_type": "code",
   "execution_count": 43,
   "id": "2d7491ee",
   "metadata": {
    "execution": {
     "iopub.execute_input": "2022-07-05T07:18:31.081094Z",
     "iopub.status.busy": "2022-07-05T07:18:31.080688Z",
     "iopub.status.idle": "2022-07-05T07:18:31.087125Z",
     "shell.execute_reply": "2022-07-05T07:18:31.085999Z"
    },
    "papermill": {
     "duration": 0.033475,
     "end_time": "2022-07-05T07:18:31.089132",
     "exception": false,
     "start_time": "2022-07-05T07:18:31.055657",
     "status": "completed"
    },
    "tags": []
   },
   "outputs": [
    {
     "data": {
      "text/plain": [
       "{'algorithm': 'SAMME.R', 'learning_rate': 0.5, 'n_estimators': 17}"
      ]
     },
     "execution_count": 43,
     "metadata": {},
     "output_type": "execute_result"
    }
   ],
   "source": [
    "search.best_params_"
   ]
  },
  {
   "cell_type": "markdown",
   "id": "579013d6",
   "metadata": {
    "papermill": {
     "duration": 0.023331,
     "end_time": "2022-07-05T07:18:31.137279",
     "exception": false,
     "start_time": "2022-07-05T07:18:31.113948",
     "status": "completed"
    },
    "tags": []
   },
   "source": [
    "We can calculate accuracy on the test data using the test data:\n"
   ]
  },
  {
   "cell_type": "code",
   "execution_count": 44,
   "id": "68b19767",
   "metadata": {
    "execution": {
     "iopub.execute_input": "2022-07-05T07:18:31.186549Z",
     "iopub.status.busy": "2022-07-05T07:18:31.185950Z",
     "iopub.status.idle": "2022-07-05T07:18:31.206367Z",
     "shell.execute_reply": "2022-07-05T07:18:31.205133Z"
    },
    "papermill": {
     "duration": 0.047655,
     "end_time": "2022-07-05T07:18:31.208691",
     "exception": false,
     "start_time": "2022-07-05T07:18:31.161036",
     "status": "completed"
    },
    "tags": []
   },
   "outputs": [
    {
     "name": "stdout",
     "output_type": "stream",
     "text": [
      "{'test Accuracy': 0.9708029197080292, 'trian Accuracy': 0.9725274725274725}\n"
     ]
    }
   ],
   "source": [
    "\n",
    "print(get_accuracy(X_train, X_test, y_train, y_test, search.best_estimator_))"
   ]
  },
  {
   "cell_type": "markdown",
   "id": "27d7a814",
   "metadata": {
    "papermill": {
     "duration": 0.024192,
     "end_time": "2022-07-05T07:18:31.258346",
     "exception": false,
     "start_time": "2022-07-05T07:18:31.234154",
     "status": "completed"
    },
    "tags": []
   },
   "source": [
    "<h2 id=\"practice\">Practice</h2>\n"
   ]
  },
  {
   "cell_type": "markdown",
   "id": "a13f467d",
   "metadata": {
    "papermill": {
     "duration": 0.024324,
     "end_time": "2022-07-05T07:18:31.307451",
     "exception": false,
     "start_time": "2022-07-05T07:18:31.283127",
     "status": "completed"
    },
    "tags": []
   },
   "source": [
    "Imagine that you are a medical researcher compiling data for a study. You have collected data about a set of patients, all of whom suffered from the same illness. During their course of treatment, each patient responded to one of 5 medications, Drug A, Drug B, Drug c, Drug x and y.\n",
    "\n",
    "Part of your job is to build a model to find out which drug might be appropriate for a future patient with the same illness. The features of this dataset are Age, Sex, Blood Pressure, and the Cholesterol of the patients, and the target is the drug that each patient responded to.\n",
    "\n",
    "It is a sample of multiclass classifier, and you can use the training part of the dataset to build a decision tree, and then use it to predict the class of a unknown patient, or to prescribe a drug to a new patient.\n"
   ]
  },
  {
   "cell_type": "code",
   "execution_count": 45,
   "id": "d233d3cf",
   "metadata": {
    "execution": {
     "iopub.execute_input": "2022-07-05T07:18:31.358592Z",
     "iopub.status.busy": "2022-07-05T07:18:31.357951Z",
     "iopub.status.idle": "2022-07-05T07:18:32.217214Z",
     "shell.execute_reply": "2022-07-05T07:18:32.216166Z"
    },
    "papermill": {
     "duration": 0.887528,
     "end_time": "2022-07-05T07:18:32.219673",
     "exception": false,
     "start_time": "2022-07-05T07:18:31.332145",
     "status": "completed"
    },
    "tags": []
   },
   "outputs": [
    {
     "data": {
      "text/html": [
       "<div>\n",
       "<style scoped>\n",
       "    .dataframe tbody tr th:only-of-type {\n",
       "        vertical-align: middle;\n",
       "    }\n",
       "\n",
       "    .dataframe tbody tr th {\n",
       "        vertical-align: top;\n",
       "    }\n",
       "\n",
       "    .dataframe thead th {\n",
       "        text-align: right;\n",
       "    }\n",
       "</style>\n",
       "<table border=\"1\" class=\"dataframe\">\n",
       "  <thead>\n",
       "    <tr style=\"text-align: right;\">\n",
       "      <th></th>\n",
       "      <th>Age</th>\n",
       "      <th>Sex</th>\n",
       "      <th>BP</th>\n",
       "      <th>Cholesterol</th>\n",
       "      <th>Na_to_K</th>\n",
       "      <th>Drug</th>\n",
       "    </tr>\n",
       "  </thead>\n",
       "  <tbody>\n",
       "    <tr>\n",
       "      <th>0</th>\n",
       "      <td>23</td>\n",
       "      <td>F</td>\n",
       "      <td>HIGH</td>\n",
       "      <td>HIGH</td>\n",
       "      <td>25.355</td>\n",
       "      <td>drugY</td>\n",
       "    </tr>\n",
       "    <tr>\n",
       "      <th>1</th>\n",
       "      <td>47</td>\n",
       "      <td>M</td>\n",
       "      <td>LOW</td>\n",
       "      <td>HIGH</td>\n",
       "      <td>13.093</td>\n",
       "      <td>drugC</td>\n",
       "    </tr>\n",
       "    <tr>\n",
       "      <th>2</th>\n",
       "      <td>47</td>\n",
       "      <td>M</td>\n",
       "      <td>LOW</td>\n",
       "      <td>HIGH</td>\n",
       "      <td>10.114</td>\n",
       "      <td>drugC</td>\n",
       "    </tr>\n",
       "    <tr>\n",
       "      <th>3</th>\n",
       "      <td>28</td>\n",
       "      <td>F</td>\n",
       "      <td>NORMAL</td>\n",
       "      <td>HIGH</td>\n",
       "      <td>7.798</td>\n",
       "      <td>drugX</td>\n",
       "    </tr>\n",
       "    <tr>\n",
       "      <th>4</th>\n",
       "      <td>61</td>\n",
       "      <td>F</td>\n",
       "      <td>LOW</td>\n",
       "      <td>HIGH</td>\n",
       "      <td>18.043</td>\n",
       "      <td>drugY</td>\n",
       "    </tr>\n",
       "  </tbody>\n",
       "</table>\n",
       "</div>"
      ],
      "text/plain": [
       "   Age Sex      BP Cholesterol  Na_to_K   Drug\n",
       "0   23   F    HIGH        HIGH   25.355  drugY\n",
       "1   47   M     LOW        HIGH   13.093  drugC\n",
       "2   47   M     LOW        HIGH   10.114  drugC\n",
       "3   28   F  NORMAL        HIGH    7.798  drugX\n",
       "4   61   F     LOW        HIGH   18.043  drugY"
      ]
     },
     "execution_count": 45,
     "metadata": {},
     "output_type": "execute_result"
    }
   ],
   "source": [
    "df = pd.read_csv(\"https://cf-courses-data.s3.us.cloud-object-storage.appdomain.cloud/IBMDeveloperSkillsNetwork-ML0101EN-SkillsNetwork/labs/Module%203/data/drug200.csv\", delimiter=\",\")\n",
    "df.head()"
   ]
  },
  {
   "cell_type": "markdown",
   "id": "9780a0e4",
   "metadata": {
    "papermill": {
     "duration": 0.024163,
     "end_time": "2022-07-05T07:18:32.267971",
     "exception": false,
     "start_time": "2022-07-05T07:18:32.243808",
     "status": "completed"
    },
    "tags": []
   },
   "source": [
    "Let's create the X and y for our dataset:\n"
   ]
  },
  {
   "cell_type": "code",
   "execution_count": 46,
   "id": "f769b985",
   "metadata": {
    "execution": {
     "iopub.execute_input": "2022-07-05T07:18:32.318972Z",
     "iopub.status.busy": "2022-07-05T07:18:32.318342Z",
     "iopub.status.idle": "2022-07-05T07:18:32.325378Z",
     "shell.execute_reply": "2022-07-05T07:18:32.324528Z"
    },
    "papermill": {
     "duration": 0.034965,
     "end_time": "2022-07-05T07:18:32.327472",
     "exception": false,
     "start_time": "2022-07-05T07:18:32.292507",
     "status": "completed"
    },
    "tags": []
   },
   "outputs": [
    {
     "data": {
      "text/plain": [
       "array([[23, 'F', 'HIGH', 'HIGH', 25.355],\n",
       "       [47, 'M', 'LOW', 'HIGH', 13.093],\n",
       "       [47, 'M', 'LOW', 'HIGH', 10.114],\n",
       "       [28, 'F', 'NORMAL', 'HIGH', 7.798],\n",
       "       [61, 'F', 'LOW', 'HIGH', 18.043]], dtype=object)"
      ]
     },
     "execution_count": 46,
     "metadata": {},
     "output_type": "execute_result"
    }
   ],
   "source": [
    "X = df[['Age', 'Sex', 'BP', 'Cholesterol', 'Na_to_K']].values\n",
    "X[0:5]"
   ]
  },
  {
   "cell_type": "code",
   "execution_count": 47,
   "id": "90331369",
   "metadata": {
    "execution": {
     "iopub.execute_input": "2022-07-05T07:18:32.379141Z",
     "iopub.status.busy": "2022-07-05T07:18:32.378420Z",
     "iopub.status.idle": "2022-07-05T07:18:32.386061Z",
     "shell.execute_reply": "2022-07-05T07:18:32.385355Z"
    },
    "papermill": {
     "duration": 0.035459,
     "end_time": "2022-07-05T07:18:32.388010",
     "exception": false,
     "start_time": "2022-07-05T07:18:32.352551",
     "status": "completed"
    },
    "tags": []
   },
   "outputs": [
    {
     "data": {
      "text/plain": [
       "0    drugY\n",
       "1    drugC\n",
       "2    drugC\n",
       "3    drugX\n",
       "4    drugY\n",
       "Name: Drug, dtype: object"
      ]
     },
     "execution_count": 47,
     "metadata": {},
     "output_type": "execute_result"
    }
   ],
   "source": [
    "y = df[\"Drug\"]\n",
    "y[0:5]"
   ]
  },
  {
   "cell_type": "markdown",
   "id": "0167a195",
   "metadata": {
    "papermill": {
     "duration": 0.024562,
     "end_time": "2022-07-05T07:18:32.436884",
     "exception": false,
     "start_time": "2022-07-05T07:18:32.412322",
     "status": "completed"
    },
    "tags": []
   },
   "source": [
    "Now lets use a <code>LabelEncoder</code> to turn categorical features into numerical:\n"
   ]
  },
  {
   "cell_type": "code",
   "execution_count": 48,
   "id": "acde4fd5",
   "metadata": {
    "execution": {
     "iopub.execute_input": "2022-07-05T07:18:32.488666Z",
     "iopub.status.busy": "2022-07-05T07:18:32.487918Z",
     "iopub.status.idle": "2022-07-05T07:18:32.497687Z",
     "shell.execute_reply": "2022-07-05T07:18:32.496888Z"
    },
    "papermill": {
     "duration": 0.037481,
     "end_time": "2022-07-05T07:18:32.499656",
     "exception": false,
     "start_time": "2022-07-05T07:18:32.462175",
     "status": "completed"
    },
    "tags": []
   },
   "outputs": [
    {
     "data": {
      "text/plain": [
       "array([[23, 0, 0, 0, 25.355],\n",
       "       [47, 1, 1, 0, 13.093],\n",
       "       [47, 1, 1, 0, 10.114],\n",
       "       [28, 0, 2, 0, 7.798],\n",
       "       [61, 0, 1, 0, 18.043]], dtype=object)"
      ]
     },
     "execution_count": 48,
     "metadata": {},
     "output_type": "execute_result"
    }
   ],
   "source": [
    "from sklearn import preprocessing\n",
    "le_sex = preprocessing.LabelEncoder()\n",
    "le_sex.fit(['F','M'])\n",
    "X[:,1] = le_sex.transform(X[:,1]) \n",
    "\n",
    "\n",
    "le_BP = preprocessing.LabelEncoder()\n",
    "le_BP.fit([ 'LOW', 'NORMAL', 'HIGH'])\n",
    "X[:,2] = le_BP.transform(X[:,2])\n",
    "\n",
    "\n",
    "le_Chol = preprocessing.LabelEncoder()\n",
    "le_Chol.fit([ 'NORMAL', 'HIGH'])\n",
    "X[:,3] = le_Chol.transform(X[:,3]) \n",
    "\n",
    "X[0:5]"
   ]
  },
  {
   "cell_type": "markdown",
   "id": "0b1d146b",
   "metadata": {
    "papermill": {
     "duration": 0.024808,
     "end_time": "2022-07-05T07:18:32.548756",
     "exception": false,
     "start_time": "2022-07-05T07:18:32.523948",
     "status": "completed"
    },
    "tags": []
   },
   "source": [
    "Split the data into training and testing data with a 80/20 split.\n"
   ]
  },
  {
   "cell_type": "code",
   "execution_count": 49,
   "id": "7aa050c2",
   "metadata": {
    "execution": {
     "iopub.execute_input": "2022-07-05T07:18:32.600001Z",
     "iopub.status.busy": "2022-07-05T07:18:32.599285Z",
     "iopub.status.idle": "2022-07-05T07:18:32.607002Z",
     "shell.execute_reply": "2022-07-05T07:18:32.605972Z"
    },
    "papermill": {
     "duration": 0.035619,
     "end_time": "2022-07-05T07:18:32.609046",
     "exception": false,
     "start_time": "2022-07-05T07:18:32.573427",
     "status": "completed"
    },
    "tags": []
   },
   "outputs": [
    {
     "name": "stdout",
     "output_type": "stream",
     "text": [
      "Train set: (160, 5) (160,)\n",
      "Test set: (40, 5) (40,)\n"
     ]
    }
   ],
   "source": [
    "X_train, X_test, y_train, y_test = train_test_split( X, y, test_size=0.2, random_state=4)\n",
    "print ('Train set:', X_train.shape,  y_train.shape)\n",
    "print ('Test set:', X_test.shape,  y_test.shape)"
   ]
  },
  {
   "cell_type": "markdown",
   "id": "9ab4084e",
   "metadata": {
    "papermill": {
     "duration": 0.024401,
     "end_time": "2022-07-05T07:18:32.658067",
     "exception": false,
     "start_time": "2022-07-05T07:18:32.633666",
     "status": "completed"
    },
    "tags": []
   },
   "source": [
    "We can use GridSearch for Exhaustive search over specified parameter values.\n"
   ]
  },
  {
   "cell_type": "code",
   "execution_count": 50,
   "id": "02a0b9b3",
   "metadata": {
    "execution": {
     "iopub.execute_input": "2022-07-05T07:18:32.722144Z",
     "iopub.status.busy": "2022-07-05T07:18:32.720931Z",
     "iopub.status.idle": "2022-07-05T07:18:32.730116Z",
     "shell.execute_reply": "2022-07-05T07:18:32.729243Z"
    },
    "papermill": {
     "duration": 0.048012,
     "end_time": "2022-07-05T07:18:32.732257",
     "exception": false,
     "start_time": "2022-07-05T07:18:32.684245",
     "status": "completed"
    },
    "tags": []
   },
   "outputs": [
    {
     "data": {
      "text/plain": [
       "{'learning_rate': [0.1,\n",
       "  0.2,\n",
       "  0.30000000000000004,\n",
       "  0.4,\n",
       "  0.5,\n",
       "  0.6000000000000001,\n",
       "  0.7000000000000001,\n",
       "  0.8,\n",
       "  0.9,\n",
       "  1.0],\n",
       " 'n_estimators': [1, 3, 5, 7, 9, 11, 13, 15, 17, 19],\n",
       " 'algorithm': ['SAMME', 'SAMME.R']}"
      ]
     },
     "execution_count": 50,
     "metadata": {},
     "output_type": "execute_result"
    }
   ],
   "source": [
    "param_grid = {'learning_rate': [0.1*(n+1) for n in range(10)],\n",
    "             'n_estimators' : [2*n+1 for n in range(10)],\n",
    "              'algorithm':['SAMME', 'SAMME.R']}                \n",
    "\n",
    "param_grid \n"
   ]
  },
  {
   "cell_type": "markdown",
   "id": "614744ba",
   "metadata": {
    "papermill": {
     "duration": 0.025802,
     "end_time": "2022-07-05T07:18:32.792164",
     "exception": false,
     "start_time": "2022-07-05T07:18:32.766362",
     "status": "completed"
    },
    "tags": []
   },
   "source": [
    "Create a <code>AdaBoostClassifier</code> object called <code>model</code> :\n"
   ]
  },
  {
   "cell_type": "code",
   "execution_count": 51,
   "id": "2ac31af9",
   "metadata": {
    "execution": {
     "iopub.execute_input": "2022-07-05T07:18:32.845717Z",
     "iopub.status.busy": "2022-07-05T07:18:32.845267Z",
     "iopub.status.idle": "2022-07-05T07:18:32.850071Z",
     "shell.execute_reply": "2022-07-05T07:18:32.848847Z"
    },
    "papermill": {
     "duration": 0.034663,
     "end_time": "2022-07-05T07:18:32.852435",
     "exception": false,
     "start_time": "2022-07-05T07:18:32.817772",
     "status": "completed"
    },
    "tags": []
   },
   "outputs": [],
   "source": [
    "model = AdaBoostClassifier()"
   ]
  },
  {
   "cell_type": "markdown",
   "id": "e9004346",
   "metadata": {
    "papermill": {
     "duration": 0.025575,
     "end_time": "2022-07-05T07:18:32.903950",
     "exception": false,
     "start_time": "2022-07-05T07:18:32.878375",
     "status": "completed"
    },
    "tags": []
   },
   "source": [
    "<details><summary>Click here for the solution</summary>\n",
    "\n",
    "```python\n",
    "model = RandomForestClassifier()\n",
    "\n",
    "```\n",
    "\n",
    "</details>\n"
   ]
  },
  {
   "cell_type": "markdown",
   "id": "33a33316",
   "metadata": {
    "papermill": {
     "duration": 0.025499,
     "end_time": "2022-07-05T07:18:32.955967",
     "exception": false,
     "start_time": "2022-07-05T07:18:32.930468",
     "status": "completed"
    },
    "tags": []
   },
   "source": [
    "Create <code>GridSearchCV</code> object called `search` with the `estimator` set to <code>model</code>, <code>param_grid</code> set to <code>param_grid</code>, <code>scoring</code> set to <code>accuracy</code>, and <code>cv</code> set to 3 and Fit the <code>GridSearchCV</code> object to our <code>X_train</code> and <code>y_train</code> data.\n"
   ]
  },
  {
   "cell_type": "code",
   "execution_count": 52,
   "id": "1322ef0a",
   "metadata": {
    "execution": {
     "iopub.execute_input": "2022-07-05T07:18:33.007051Z",
     "iopub.status.busy": "2022-07-05T07:18:33.006690Z",
     "iopub.status.idle": "2022-07-05T07:18:42.364634Z",
     "shell.execute_reply": "2022-07-05T07:18:42.363587Z"
    },
    "papermill": {
     "duration": 9.385806,
     "end_time": "2022-07-05T07:18:42.366657",
     "exception": false,
     "start_time": "2022-07-05T07:18:32.980851",
     "status": "completed"
    },
    "tags": []
   },
   "outputs": [
    {
     "data": {
      "text/plain": [
       "GridSearchCV(cv=3, estimator=AdaBoostClassifier(),\n",
       "             param_grid={'algorithm': ['SAMME', 'SAMME.R'],\n",
       "                         'learning_rate': [0.1, 0.2, 0.30000000000000004, 0.4,\n",
       "                                           0.5, 0.6000000000000001,\n",
       "                                           0.7000000000000001, 0.8, 0.9, 1.0],\n",
       "                         'n_estimators': [1, 3, 5, 7, 9, 11, 13, 15, 17, 19]},\n",
       "             scoring='accuracy')"
      ]
     },
     "execution_count": 52,
     "metadata": {},
     "output_type": "execute_result"
    }
   ],
   "source": [
    "search = GridSearchCV(estimator=model, param_grid=param_grid,scoring='accuracy', cv=3)\n",
    "search.fit(X_train, y_train)"
   ]
  },
  {
   "cell_type": "markdown",
   "id": "b814bf70",
   "metadata": {
    "papermill": {
     "duration": 0.025262,
     "end_time": "2022-07-05T07:18:42.417046",
     "exception": false,
     "start_time": "2022-07-05T07:18:42.391784",
     "status": "completed"
    },
    "tags": []
   },
   "source": [
    "<details><summary>Click here for the solution</summary>\n",
    "\n",
    "```python\n",
    "search = GridSearchCV(estimator=model, param_grid=param_grid,scoring='accuracy', cv=3)\n",
    "search.fit(X_train, y_train)\n",
    "\n",
    "```\n",
    "\n",
    "</details>\n"
   ]
  },
  {
   "cell_type": "markdown",
   "id": "098ef82a",
   "metadata": {
    "papermill": {
     "duration": 0.025,
     "end_time": "2022-07-05T07:18:42.467124",
     "exception": false,
     "start_time": "2022-07-05T07:18:42.442124",
     "status": "completed"
    },
    "tags": []
   },
   "source": [
    "We can find the accuracy of the best model.\n"
   ]
  },
  {
   "cell_type": "code",
   "execution_count": 53,
   "id": "b3b2e593",
   "metadata": {
    "execution": {
     "iopub.execute_input": "2022-07-05T07:18:42.518852Z",
     "iopub.status.busy": "2022-07-05T07:18:42.518511Z",
     "iopub.status.idle": "2022-07-05T07:18:42.524510Z",
     "shell.execute_reply": "2022-07-05T07:18:42.523511Z"
    },
    "papermill": {
     "duration": 0.034364,
     "end_time": "2022-07-05T07:18:42.526570",
     "exception": false,
     "start_time": "2022-07-05T07:18:42.492206",
     "status": "completed"
    },
    "tags": []
   },
   "outputs": [
    {
     "data": {
      "text/plain": [
       "0.8625669694852084"
      ]
     },
     "execution_count": 53,
     "metadata": {},
     "output_type": "execute_result"
    }
   ],
   "source": [
    "search.best_score_"
   ]
  },
  {
   "cell_type": "markdown",
   "id": "4a91218b",
   "metadata": {
    "papermill": {
     "duration": 0.024821,
     "end_time": "2022-07-05T07:18:42.577478",
     "exception": false,
     "start_time": "2022-07-05T07:18:42.552657",
     "status": "completed"
    },
    "tags": []
   },
   "source": [
    "We can find the best parameter values:\n"
   ]
  },
  {
   "cell_type": "code",
   "execution_count": 54,
   "id": "7c1fe8c7",
   "metadata": {
    "execution": {
     "iopub.execute_input": "2022-07-05T07:18:42.629341Z",
     "iopub.status.busy": "2022-07-05T07:18:42.628916Z",
     "iopub.status.idle": "2022-07-05T07:18:42.633874Z",
     "shell.execute_reply": "2022-07-05T07:18:42.633190Z"
    },
    "papermill": {
     "duration": 0.033253,
     "end_time": "2022-07-05T07:18:42.635767",
     "exception": false,
     "start_time": "2022-07-05T07:18:42.602514",
     "status": "completed"
    },
    "tags": []
   },
   "outputs": [
    {
     "data": {
      "text/plain": [
       "{'algorithm': 'SAMME', 'learning_rate': 0.9, 'n_estimators': 7}"
      ]
     },
     "execution_count": 54,
     "metadata": {},
     "output_type": "execute_result"
    }
   ],
   "source": [
    "search.best_params_"
   ]
  },
  {
   "cell_type": "markdown",
   "id": "6cc3471b",
   "metadata": {
    "papermill": {
     "duration": 0.024935,
     "end_time": "2022-07-05T07:18:42.687779",
     "exception": false,
     "start_time": "2022-07-05T07:18:42.662844",
     "status": "completed"
    },
    "tags": []
   },
   "source": [
    "We can find the accuracy test data:\n"
   ]
  },
  {
   "cell_type": "markdown",
   "id": "e4678442",
   "metadata": {
    "papermill": {
     "duration": 0.025228,
     "end_time": "2022-07-05T07:18:42.738682",
     "exception": false,
     "start_time": "2022-07-05T07:18:42.713454",
     "status": "completed"
    },
    "tags": []
   },
   "source": [
    "<details><summary>Click here for the solution</summary>\n",
    "\n",
    "```python\n",
    "print(get_accuracy(X_train, X_test, y_train, y_test, search.best_estimator_))\n",
    "```\n",
    "\n",
    "</details>\n"
   ]
  },
  {
   "cell_type": "code",
   "execution_count": 55,
   "id": "3bb317bf",
   "metadata": {
    "execution": {
     "iopub.execute_input": "2022-07-05T07:18:42.791139Z",
     "iopub.status.busy": "2022-07-05T07:18:42.790749Z",
     "iopub.status.idle": "2022-07-05T07:18:42.800369Z",
     "shell.execute_reply": "2022-07-05T07:18:42.799337Z"
    },
    "papermill": {
     "duration": 0.038306,
     "end_time": "2022-07-05T07:18:42.802379",
     "exception": false,
     "start_time": "2022-07-05T07:18:42.764073",
     "status": "completed"
    },
    "tags": []
   },
   "outputs": [
    {
     "name": "stdout",
     "output_type": "stream",
     "text": [
      "{'test Accuracy': 0.775, 'trian Accuracy': 0.85}\n"
     ]
    }
   ],
   "source": [
    "print(get_accuracy(X_train, X_test, y_train, y_test, search.best_estimator_))"
   ]
  },
  {
   "cell_type": "markdown",
   "id": "49b3d76f",
   "metadata": {
    "papermill": {
     "duration": 0.025835,
     "end_time": "2022-07-05T07:18:42.853893",
     "exception": false,
     "start_time": "2022-07-05T07:18:42.828058",
     "status": "completed"
    },
    "tags": []
   },
   "source": [
    "### Thank you for completing this lab!\n",
    "\n",
    "## Author\n",
    "\n",
    "<a href=\"https://www.linkedin.com/in/joseph-s-50398b136/?utm_medium=Exinfluencer&utm_source=Exinfluencer&utm_content=000026UJ&utm_term=10006555&utm_id=NA-SkillsNetwork-Channel-SkillsNetworkCoursesIBMDeveloperSkillsNetworkML0101ENSkillsNetwork20718538-2021-01-01\" target=\"_blank\">Joseph Santarcangelo</a>\n",
    "\n",
    "### Other Contributors\n",
    "\n",
    "<a href=\"https://www.linkedin.com/in/richard-ye/?utm_medium=Exinfluencer&utm_source=Exinfluencer&utm_content=000026UJ&utm_term=10006555&utm_id=NA-SkillsNetwork-Channel-SkillsNetworkCoursesIBMDeveloperSkillsNetworkML0101ENSkillsNetwork20718538-2021-01-01\" target=\"_blank\">Richard Ye</a>\n",
    "\n",
    "## Change Log\n",
    "\n",
    "| Date (YYYY-MM-DD) | Version | Changed By           | Change Description   |\n",
    "| ----------------- | ------- | -------------------- | -------------------- |\n",
    "| 2020-11-27        | 0.1     | Joseph Santarcangelo | Created Lab Template |\n",
    "| 2022-2-8          | 0.2     | Steve Hord           | QA pass              |\n",
    "| 2022-05-03        | 0.3     | Richard Ye           | Fixed spelling/HTML  |\n",
    "\n",
    "## <h3 align=\"center\"> © IBM Corporation 2020. All rights reserved. <h3/>\n"
   ]
  }
 ],
 "metadata": {
  "kernelspec": {
   "display_name": "Python 3",
   "language": "python",
   "name": "python3"
  },
  "language_info": {
   "codemirror_mode": {
    "name": "ipython",
    "version": 3
   },
   "file_extension": ".py",
   "mimetype": "text/x-python",
   "name": "python",
   "nbconvert_exporter": "python",
   "pygments_lexer": "ipython3",
   "version": "3.7.12"
  },
  "papermill": {
   "default_parameters": {},
   "duration": 867.14676,
   "end_time": "2022-07-05T07:18:43.603255",
   "environment_variables": {},
   "exception": null,
   "input_path": "__notebook__.ipynb",
   "output_path": "__notebook__.ipynb",
   "parameters": {},
   "start_time": "2022-07-05T07:04:16.456495",
   "version": "2.3.4"
  }
 },
 "nbformat": 4,
 "nbformat_minor": 5
}
