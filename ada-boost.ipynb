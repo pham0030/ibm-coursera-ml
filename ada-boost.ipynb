{
 "cells": [
  {
   "cell_type": "markdown",
   "id": "f6e51382",
   "metadata": {
    "button": false,
    "new_sheet": false,
    "papermill": {
     "duration": 0.028899,
     "end_time": "2022-06-25T07:51:15.281032",
     "exception": false,
     "start_time": "2022-06-25T07:51:15.252133",
     "status": "completed"
    },
    "run_control": {
     "read_only": false
    },
    "tags": []
   },
   "source": [
    "<center>\n",
    "    <img src=\"https://cf-courses-data.s3.us.cloud-object-storage.appdomain.cloud/IBMDeveloperSkillsNetwork-ML0101EN-SkillsNetwork/labs/Module%203/images/IDSNlogo.png\" width=\"300\" alt=\"cognitiveclass.ai logo\"  />\n",
    "</center>\n",
    "\n",
    "# Adaptive Boosting (AdaBoost) for classification with Python\n",
    "\n",
    "Estimated time needed: **45** minutes\n",
    "\n",
    "## Objectives\n",
    "\n",
    "After completing this lab you will be able to:\n",
    "\n",
    "*   Understand  that AdaBoost is a linear combination of  𝑇 weak classifiers\n",
    "*   Apply AdaBoost\n",
    "*   Understand Hyperparameters selection in  AdaBoost\n"
   ]
  },
  {
   "cell_type": "markdown",
   "id": "f1468665",
   "metadata": {
    "papermill": {
     "duration": 0.024427,
     "end_time": "2022-06-25T07:51:15.330362",
     "exception": false,
     "start_time": "2022-06-25T07:51:15.305935",
     "status": "completed"
    },
    "tags": []
   },
   "source": [
    "In this notebook, you will learn AdaBoost, short for Adaptive Boosting, is a classification algorithm; AdaBoost is actually part of a family of Boosting algorithms. Like Bagging and Random Forest (RF), AdaBoost combines the outputs of many classifiers into an ensemble, but there are some differences. In both Bagging and RF, each classifier in the ensemble is powerful but prone to overfitting. As Bagging or RF aggregate more and more classifiers, they reduce overfitting.\n",
    "\n",
    "With AdaBoost, each Classifier usually has performance slightly better than random. This is referred to as a weak learner or weak classifier. AdaBoost combines these classifiers to get a strong classifier. Unlike Bagging and Random Forest, in AdaBoost, adding more learners can cause overfitting. As a result, AdaBoost requires Hyperparameter tuning, taking more time to train. One advantage of AdaBoost is that each classifier is smaller, so predictions are faster.\n"
   ]
  },
  {
   "cell_type": "markdown",
   "id": "1bcdd07f",
   "metadata": {
    "papermill": {
     "duration": 0.024415,
     "end_time": "2022-06-25T07:51:15.379663",
     "exception": false,
     "start_time": "2022-06-25T07:51:15.355248",
     "status": "completed"
    },
    "tags": []
   },
   "source": [
    "In AdaBoost, the strong classifier $H(x)$ is a linear combination of $T$ weak classifiers $h_t(x)$ and $\\alpha_t$ as shown in (1). Although each classifier $h_t(x)$ appears independent, the $\\alpha_t$ contains information about the error of classifiers from $h\\_1(x),.., h\\_{t-1}(x)$. As we add more classifiers, the training accuracy gets larger. What’s not so apparent in (1) is that during the training process, the values of that training sample are modified for $h_t(x)$. For a more in depth look at the theory behind Adaboost, check out <a href=\"https://hastie.su.domains/Papers/ESLII.pdf?utm_medium=Exinfluencer&utm_source=Exinfluencer&utm_content=000026UJ&utm_term=10006555&utm_id=NA-SkillsNetwork-Channel-SkillsNetworkCoursesIBMML241ENSkillsNetwork31576874-2022-01-01#page=356\">The Elements of Statistical Learning Data Mining, Inference, and Prediction</a>.\n"
   ]
  },
  {
   "cell_type": "markdown",
   "id": "5a86e6e7",
   "metadata": {
    "papermill": {
     "duration": 0.024563,
     "end_time": "2022-06-25T07:51:15.428834",
     "exception": false,
     "start_time": "2022-06-25T07:51:15.404271",
     "status": "completed"
    },
    "tags": []
   },
   "source": [
    "$H(x) = \text{sign}(  \\sum\\_{t=1}^T \\alpha_t h_t(x) )$ \\[1]\n"
   ]
  },
  {
   "cell_type": "markdown",
   "id": "3cd64d65",
   "metadata": {
    "papermill": {
     "duration": 0.024543,
     "end_time": "2022-06-25T07:51:15.478078",
     "exception": false,
     "start_time": "2022-06-25T07:51:15.453535",
     "status": "completed"
    },
    "tags": []
   },
   "source": [
    "<h1>Table of contents</h1>\n",
    "\n",
    "<div class=\"alert alert-block alert-info\" style=\"margin-top: 20px\">\n",
    "    <ol>\n",
    "        <li><a href=\"https://#RFvsBag\">What's the difference between RF and Bagging </a></li>\n",
    "        <li><a href=\"https://#Example\">Cancer Data Example</li>\n",
    "        <li><a href=\"https://practice/?utm_medium=Exinfluencer&utm_source=Exinfluencer&utm_content=000026UJ&utm_term=10006555&utm_id=NA-SkillsNetwork-Channel-SkillsNetworkCoursesIBMML241ENSkillsNetwork31576874-2022-01-01\">Practice</a></li>\n",
    "\n",
    "</div>\n",
    "<br>\n",
    "<hr>\n"
   ]
  },
  {
   "cell_type": "markdown",
   "id": "4e3b68fb",
   "metadata": {
    "button": false,
    "new_sheet": false,
    "papermill": {
     "duration": 0.024383,
     "end_time": "2022-06-25T07:51:15.527161",
     "exception": false,
     "start_time": "2022-06-25T07:51:15.502778",
     "status": "completed"
    },
    "run_control": {
     "read_only": false
    },
    "tags": []
   },
   "source": [
    "Let's first import the required libraries:\n"
   ]
  },
  {
   "cell_type": "code",
   "execution_count": 1,
   "id": "6eb2aae2",
   "metadata": {
    "execution": {
     "iopub.execute_input": "2022-06-25T07:51:15.579188Z",
     "iopub.status.busy": "2022-06-25T07:51:15.578468Z",
     "iopub.status.idle": "2022-06-25T07:51:15.583520Z",
     "shell.execute_reply": "2022-06-25T07:51:15.582707Z"
    },
    "papermill": {
     "duration": 0.033653,
     "end_time": "2022-06-25T07:51:15.585635",
     "exception": false,
     "start_time": "2022-06-25T07:51:15.551982",
     "status": "completed"
    },
    "tags": []
   },
   "outputs": [],
   "source": [
    "# All Libraries required for this lab are listed below. The libraries pre-installed on Skills Network Labs are commented.\n",
    "# !mamba install -qy pandas==1.3.3 numpy==1.21.2 ipywidgets==7.4.2 scipy==7.4.2 tqdm==4.62.3 matplotlib==3.5.0 seaborn==0.9.0\n",
    "# Note: If your environment doesn't support \"!mamba install\", use \"!pip install\""
   ]
  },
  {
   "cell_type": "code",
   "execution_count": 2,
   "id": "81a2f40b",
   "metadata": {
    "button": false,
    "execution": {
     "iopub.execute_input": "2022-06-25T07:51:15.637479Z",
     "iopub.status.busy": "2022-06-25T07:51:15.636872Z",
     "iopub.status.idle": "2022-06-25T07:51:16.751897Z",
     "shell.execute_reply": "2022-06-25T07:51:16.750674Z"
    },
    "new_sheet": false,
    "papermill": {
     "duration": 1.144114,
     "end_time": "2022-06-25T07:51:16.754738",
     "exception": false,
     "start_time": "2022-06-25T07:51:15.610624",
     "status": "completed"
    },
    "run_control": {
     "read_only": false
    },
    "tags": []
   },
   "outputs": [],
   "source": [
    "import pandas as pd\n",
    "import pylab as plt\n",
    "import numpy as np\n",
    "import scipy.optimize as opt\n",
    "from sklearn import preprocessing\n",
    "%matplotlib inline \n",
    "import matplotlib.pyplot as plt\n",
    "from sklearn import metrics\n",
    "from tqdm import tqdm\n"
   ]
  },
  {
   "cell_type": "markdown",
   "id": "61d32445",
   "metadata": {
    "papermill": {
     "duration": 0.024582,
     "end_time": "2022-06-25T07:51:16.804715",
     "exception": false,
     "start_time": "2022-06-25T07:51:16.780133",
     "status": "completed"
    },
    "tags": []
   },
   "source": [
    "Ignore error warnings\n"
   ]
  },
  {
   "cell_type": "code",
   "execution_count": 3,
   "id": "ce1b6054",
   "metadata": {
    "execution": {
     "iopub.execute_input": "2022-06-25T07:51:16.856758Z",
     "iopub.status.busy": "2022-06-25T07:51:16.856058Z",
     "iopub.status.idle": "2022-06-25T07:51:16.860197Z",
     "shell.execute_reply": "2022-06-25T07:51:16.859424Z"
    },
    "papermill": {
     "duration": 0.032459,
     "end_time": "2022-06-25T07:51:16.862205",
     "exception": false,
     "start_time": "2022-06-25T07:51:16.829746",
     "status": "completed"
    },
    "tags": []
   },
   "outputs": [],
   "source": [
    "import warnings\n",
    "warnings.filterwarnings('ignore')"
   ]
  },
  {
   "cell_type": "markdown",
   "id": "bbe552e9",
   "metadata": {
    "papermill": {
     "duration": 0.024397,
     "end_time": "2022-06-25T07:51:16.911928",
     "exception": false,
     "start_time": "2022-06-25T07:51:16.887531",
     "status": "completed"
    },
    "tags": []
   },
   "source": [
    "This function will calculate the accuracy of the training and testing data given a model.\n"
   ]
  },
  {
   "cell_type": "code",
   "execution_count": 4,
   "id": "8adf34c5",
   "metadata": {
    "execution": {
     "iopub.execute_input": "2022-06-25T07:51:16.967699Z",
     "iopub.status.busy": "2022-06-25T07:51:16.967250Z",
     "iopub.status.idle": "2022-06-25T07:51:16.972707Z",
     "shell.execute_reply": "2022-06-25T07:51:16.971671Z"
    },
    "papermill": {
     "duration": 0.033936,
     "end_time": "2022-06-25T07:51:16.974985",
     "exception": false,
     "start_time": "2022-06-25T07:51:16.941049",
     "status": "completed"
    },
    "tags": []
   },
   "outputs": [],
   "source": [
    "def get_accuracy(X_train, X_test, y_train, y_test, model):\n",
    "    return  {\"test Accuracy\":metrics.accuracy_score(y_test, model.predict(X_test)),\"trian Accuracy\": metrics.accuracy_score(y_train, model.predict(X_train))}"
   ]
  },
  {
   "cell_type": "markdown",
   "id": "672d53b7",
   "metadata": {
    "papermill": {
     "duration": 0.024735,
     "end_time": "2022-06-25T07:51:17.024963",
     "exception": false,
     "start_time": "2022-06-25T07:51:17.000228",
     "status": "completed"
    },
    "tags": []
   },
   "source": [
    "This function calculates the average accuracy of differnt learning rates on training and test data\n"
   ]
  },
  {
   "cell_type": "code",
   "execution_count": 5,
   "id": "51b9fac4",
   "metadata": {
    "execution": {
     "iopub.execute_input": "2022-06-25T07:51:17.077746Z",
     "iopub.status.busy": "2022-06-25T07:51:17.077365Z",
     "iopub.status.idle": "2022-06-25T07:51:17.091726Z",
     "shell.execute_reply": "2022-06-25T07:51:17.090664Z"
    },
    "papermill": {
     "duration": 0.04447,
     "end_time": "2022-06-25T07:51:17.094111",
     "exception": false,
     "start_time": "2022-06-25T07:51:17.049641",
     "status": "completed"
    },
    "tags": []
   },
   "outputs": [],
   "source": [
    "def get_accuracy_bag(X,y,title,times=20,xlabel='Number Estimators',Learning_rate_=[0.2,0.4,0.6,1]):\n",
    "\n",
    "    lines_array=['solid','--', '-.', ':']\n",
    "\n",
    "    N_estimators=[n for n in range(1,100)]\n",
    "    \n",
    "    times=20\n",
    "    train_acc=np.zeros((times,len(Learning_rate_),len(N_estimators)))\n",
    "    test_acc=np.zeros((times,len(Learning_rate_),len(N_estimators)))\n",
    "\n",
    "\n",
    "    #Iterate through different number of Learning rate  and average out the results  \n",
    "    for n in tqdm(range(times)):\n",
    "        X_train, X_test, y_train, y_test = train_test_split( X, y, test_size=0.3)\n",
    "        for n_estimators in N_estimators:\n",
    "            for j,lr in enumerate(Learning_rate_):\n",
    "\n",
    "\n",
    "                model = AdaBoostClassifier(n_estimators=n_estimators+1,random_state=0,learning_rate=lr)\n",
    "\n",
    "\n",
    "                model.fit(X_train,y_train)\n",
    "\n",
    "\n",
    "\n",
    "                Accuracy=get_accuracy(X_train, X_test, y_train, y_test,  model)\n",
    "\n",
    "\n",
    "\n",
    "                train_acc[n,j,n_estimators-1]=Accuracy['trian Accuracy']\n",
    "                test_acc[n,j,n_estimators-1]=Accuracy['test Accuracy']\n",
    "\n",
    "\n",
    "\n",
    "\n",
    "    fig, ax1 = plt.subplots()\n",
    "    mean_test=test_acc.mean(axis=0)\n",
    "    mean_train=train_acc.mean(axis=0)\n",
    "    ax2 = ax1.twinx()\n",
    "\n",
    "    for j,(lr,line) in enumerate(zip(Learning_rate_,lines_array)): \n",
    "\n",
    "        ax1.plot(mean_train[j,:],linestyle = line,color='b',label=\"Learning rate \"+str(lr))\n",
    "        ax2.plot(mean_test[j,:],linestyle = line, color='r',label=str(lr))\n",
    "\n",
    "    ax1.set_ylabel('Training accuracy',color='b')\n",
    "    ax1.legend()\n",
    "    ax2.set_ylabel('Testing accuracy', color='r')\n",
    "    ax2.legend()\n",
    "    plt.show()"
   ]
  },
  {
   "cell_type": "markdown",
   "id": "6a9124bb",
   "metadata": {
    "button": false,
    "new_sheet": false,
    "papermill": {
     "duration": 0.025044,
     "end_time": "2022-06-25T07:51:17.144022",
     "exception": false,
     "start_time": "2022-06-25T07:51:17.118978",
     "status": "completed"
    },
    "run_control": {
     "read_only": false
    },
    "tags": []
   },
   "source": [
    "### About the dataset\n",
    "\n",
    "We will use a telecommunications dataset for predicting customer churn. This is a historical customer dataset where each row represents one customer. The data is relatively easy to understand, and you may uncover insights you can use immediately. Typically, it is less expensive to keep customers than to acquire new ones, so the focus of this analysis is to predict the customers who will stay with the company.\n",
    "\n",
    "This data set provides information to help you predict what behavior will help you to retain customers. You can analyze all relevant customer data and develop focused customer retention programs.\n",
    "\n",
    "The dataset includes information about:\n",
    "\n",
    "*   Customers who left within the last month – the column is called Churn\n",
    "*   Services that each customer has signed up for – phone, multiple lines, internet, online security, online backup, device protection, tech support, and streaming TV and movies\n",
    "*   Customer account information – how long they have been a customer, contract, payment method, paperless billing, monthly charges, and total charges\n",
    "*   Demographic info about customers – gender, age range, and if they have partners and dependents\n"
   ]
  },
  {
   "cell_type": "markdown",
   "id": "f6095048",
   "metadata": {
    "button": false,
    "new_sheet": false,
    "papermill": {
     "duration": 0.024734,
     "end_time": "2022-06-25T07:51:17.194919",
     "exception": false,
     "start_time": "2022-06-25T07:51:17.170185",
     "status": "completed"
    },
    "run_control": {
     "read_only": false
    },
    "tags": []
   },
   "source": [
    "Load Data From CSV File\n"
   ]
  },
  {
   "cell_type": "code",
   "execution_count": 6,
   "id": "fe58753d",
   "metadata": {
    "button": false,
    "execution": {
     "iopub.execute_input": "2022-06-25T07:51:17.246677Z",
     "iopub.status.busy": "2022-06-25T07:51:17.246318Z",
     "iopub.status.idle": "2022-06-25T07:51:18.140621Z",
     "shell.execute_reply": "2022-06-25T07:51:18.139534Z"
    },
    "new_sheet": false,
    "papermill": {
     "duration": 0.923134,
     "end_time": "2022-06-25T07:51:18.143057",
     "exception": false,
     "start_time": "2022-06-25T07:51:17.219923",
     "status": "completed"
    },
    "run_control": {
     "read_only": false
    },
    "tags": []
   },
   "outputs": [
    {
     "data": {
      "text/html": [
       "<div>\n",
       "<style scoped>\n",
       "    .dataframe tbody tr th:only-of-type {\n",
       "        vertical-align: middle;\n",
       "    }\n",
       "\n",
       "    .dataframe tbody tr th {\n",
       "        vertical-align: top;\n",
       "    }\n",
       "\n",
       "    .dataframe thead th {\n",
       "        text-align: right;\n",
       "    }\n",
       "</style>\n",
       "<table border=\"1\" class=\"dataframe\">\n",
       "  <thead>\n",
       "    <tr style=\"text-align: right;\">\n",
       "      <th></th>\n",
       "      <th>tenure</th>\n",
       "      <th>age</th>\n",
       "      <th>address</th>\n",
       "      <th>income</th>\n",
       "      <th>ed</th>\n",
       "      <th>employ</th>\n",
       "      <th>equip</th>\n",
       "      <th>callcard</th>\n",
       "      <th>wireless</th>\n",
       "      <th>longmon</th>\n",
       "      <th>...</th>\n",
       "      <th>pager</th>\n",
       "      <th>internet</th>\n",
       "      <th>callwait</th>\n",
       "      <th>confer</th>\n",
       "      <th>ebill</th>\n",
       "      <th>loglong</th>\n",
       "      <th>logtoll</th>\n",
       "      <th>lninc</th>\n",
       "      <th>custcat</th>\n",
       "      <th>churn</th>\n",
       "    </tr>\n",
       "  </thead>\n",
       "  <tbody>\n",
       "    <tr>\n",
       "      <th>0</th>\n",
       "      <td>11.0</td>\n",
       "      <td>33.0</td>\n",
       "      <td>7.0</td>\n",
       "      <td>136.0</td>\n",
       "      <td>5.0</td>\n",
       "      <td>5.0</td>\n",
       "      <td>0.0</td>\n",
       "      <td>1.0</td>\n",
       "      <td>1.0</td>\n",
       "      <td>4.40</td>\n",
       "      <td>...</td>\n",
       "      <td>1.0</td>\n",
       "      <td>0.0</td>\n",
       "      <td>1.0</td>\n",
       "      <td>1.0</td>\n",
       "      <td>0.0</td>\n",
       "      <td>1.482</td>\n",
       "      <td>3.033</td>\n",
       "      <td>4.913</td>\n",
       "      <td>4.0</td>\n",
       "      <td>1.0</td>\n",
       "    </tr>\n",
       "    <tr>\n",
       "      <th>1</th>\n",
       "      <td>33.0</td>\n",
       "      <td>33.0</td>\n",
       "      <td>12.0</td>\n",
       "      <td>33.0</td>\n",
       "      <td>2.0</td>\n",
       "      <td>0.0</td>\n",
       "      <td>0.0</td>\n",
       "      <td>0.0</td>\n",
       "      <td>0.0</td>\n",
       "      <td>9.45</td>\n",
       "      <td>...</td>\n",
       "      <td>0.0</td>\n",
       "      <td>0.0</td>\n",
       "      <td>0.0</td>\n",
       "      <td>0.0</td>\n",
       "      <td>0.0</td>\n",
       "      <td>2.246</td>\n",
       "      <td>3.240</td>\n",
       "      <td>3.497</td>\n",
       "      <td>1.0</td>\n",
       "      <td>1.0</td>\n",
       "    </tr>\n",
       "    <tr>\n",
       "      <th>2</th>\n",
       "      <td>23.0</td>\n",
       "      <td>30.0</td>\n",
       "      <td>9.0</td>\n",
       "      <td>30.0</td>\n",
       "      <td>1.0</td>\n",
       "      <td>2.0</td>\n",
       "      <td>0.0</td>\n",
       "      <td>0.0</td>\n",
       "      <td>0.0</td>\n",
       "      <td>6.30</td>\n",
       "      <td>...</td>\n",
       "      <td>0.0</td>\n",
       "      <td>0.0</td>\n",
       "      <td>0.0</td>\n",
       "      <td>1.0</td>\n",
       "      <td>0.0</td>\n",
       "      <td>1.841</td>\n",
       "      <td>3.240</td>\n",
       "      <td>3.401</td>\n",
       "      <td>3.0</td>\n",
       "      <td>0.0</td>\n",
       "    </tr>\n",
       "    <tr>\n",
       "      <th>3</th>\n",
       "      <td>38.0</td>\n",
       "      <td>35.0</td>\n",
       "      <td>5.0</td>\n",
       "      <td>76.0</td>\n",
       "      <td>2.0</td>\n",
       "      <td>10.0</td>\n",
       "      <td>1.0</td>\n",
       "      <td>1.0</td>\n",
       "      <td>1.0</td>\n",
       "      <td>6.05</td>\n",
       "      <td>...</td>\n",
       "      <td>1.0</td>\n",
       "      <td>1.0</td>\n",
       "      <td>1.0</td>\n",
       "      <td>1.0</td>\n",
       "      <td>1.0</td>\n",
       "      <td>1.800</td>\n",
       "      <td>3.807</td>\n",
       "      <td>4.331</td>\n",
       "      <td>4.0</td>\n",
       "      <td>0.0</td>\n",
       "    </tr>\n",
       "    <tr>\n",
       "      <th>4</th>\n",
       "      <td>7.0</td>\n",
       "      <td>35.0</td>\n",
       "      <td>14.0</td>\n",
       "      <td>80.0</td>\n",
       "      <td>2.0</td>\n",
       "      <td>15.0</td>\n",
       "      <td>0.0</td>\n",
       "      <td>1.0</td>\n",
       "      <td>0.0</td>\n",
       "      <td>7.10</td>\n",
       "      <td>...</td>\n",
       "      <td>0.0</td>\n",
       "      <td>0.0</td>\n",
       "      <td>1.0</td>\n",
       "      <td>1.0</td>\n",
       "      <td>0.0</td>\n",
       "      <td>1.960</td>\n",
       "      <td>3.091</td>\n",
       "      <td>4.382</td>\n",
       "      <td>3.0</td>\n",
       "      <td>0.0</td>\n",
       "    </tr>\n",
       "  </tbody>\n",
       "</table>\n",
       "<p>5 rows × 28 columns</p>\n",
       "</div>"
      ],
      "text/plain": [
       "   tenure   age  address  income   ed  employ  equip  callcard  wireless  \\\n",
       "0    11.0  33.0      7.0   136.0  5.0     5.0    0.0       1.0       1.0   \n",
       "1    33.0  33.0     12.0    33.0  2.0     0.0    0.0       0.0       0.0   \n",
       "2    23.0  30.0      9.0    30.0  1.0     2.0    0.0       0.0       0.0   \n",
       "3    38.0  35.0      5.0    76.0  2.0    10.0    1.0       1.0       1.0   \n",
       "4     7.0  35.0     14.0    80.0  2.0    15.0    0.0       1.0       0.0   \n",
       "\n",
       "   longmon  ...  pager  internet  callwait  confer  ebill  loglong  logtoll  \\\n",
       "0     4.40  ...    1.0       0.0       1.0     1.0    0.0    1.482    3.033   \n",
       "1     9.45  ...    0.0       0.0       0.0     0.0    0.0    2.246    3.240   \n",
       "2     6.30  ...    0.0       0.0       0.0     1.0    0.0    1.841    3.240   \n",
       "3     6.05  ...    1.0       1.0       1.0     1.0    1.0    1.800    3.807   \n",
       "4     7.10  ...    0.0       0.0       1.0     1.0    0.0    1.960    3.091   \n",
       "\n",
       "   lninc  custcat  churn  \n",
       "0  4.913      4.0    1.0  \n",
       "1  3.497      1.0    1.0  \n",
       "2  3.401      3.0    0.0  \n",
       "3  4.331      4.0    0.0  \n",
       "4  4.382      3.0    0.0  \n",
       "\n",
       "[5 rows x 28 columns]"
      ]
     },
     "execution_count": 6,
     "metadata": {},
     "output_type": "execute_result"
    }
   ],
   "source": [
    "churn_df = pd.read_csv(\"https://cf-courses-data.s3.us.cloud-object-storage.appdomain.cloud/IBMDeveloperSkillsNetwork-ML0101EN-SkillsNetwork/labs/Module%203/data/ChurnData.csv\")\n",
    "\n",
    "churn_df.head()"
   ]
  },
  {
   "cell_type": "markdown",
   "id": "4df2ea8e",
   "metadata": {
    "papermill": {
     "duration": 0.025385,
     "end_time": "2022-06-25T07:51:18.194320",
     "exception": false,
     "start_time": "2022-06-25T07:51:18.168935",
     "status": "completed"
    },
    "tags": []
   },
   "source": [
    "### Data pre-processing and selection\n"
   ]
  },
  {
   "cell_type": "markdown",
   "id": "54a7330f",
   "metadata": {
    "papermill": {
     "duration": 0.025233,
     "end_time": "2022-06-25T07:51:18.244930",
     "exception": false,
     "start_time": "2022-06-25T07:51:18.219697",
     "status": "completed"
    },
    "tags": []
   },
   "source": [
    "Let's select some features for the modeling. Also, we change the target data type to be an integer, as it is a requirement by the skitlearn algorithm:\n"
   ]
  },
  {
   "cell_type": "code",
   "execution_count": 7,
   "id": "e2b4925c",
   "metadata": {
    "execution": {
     "iopub.execute_input": "2022-06-25T07:51:18.297429Z",
     "iopub.status.busy": "2022-06-25T07:51:18.297039Z",
     "iopub.status.idle": "2022-06-25T07:51:18.325511Z",
     "shell.execute_reply": "2022-06-25T07:51:18.324460Z"
    },
    "papermill": {
     "duration": 0.057502,
     "end_time": "2022-06-25T07:51:18.327768",
     "exception": false,
     "start_time": "2022-06-25T07:51:18.270266",
     "status": "completed"
    },
    "tags": []
   },
   "outputs": [
    {
     "data": {
      "text/html": [
       "<div>\n",
       "<style scoped>\n",
       "    .dataframe tbody tr th:only-of-type {\n",
       "        vertical-align: middle;\n",
       "    }\n",
       "\n",
       "    .dataframe tbody tr th {\n",
       "        vertical-align: top;\n",
       "    }\n",
       "\n",
       "    .dataframe thead th {\n",
       "        text-align: right;\n",
       "    }\n",
       "</style>\n",
       "<table border=\"1\" class=\"dataframe\">\n",
       "  <thead>\n",
       "    <tr style=\"text-align: right;\">\n",
       "      <th></th>\n",
       "      <th>tenure</th>\n",
       "      <th>age</th>\n",
       "      <th>address</th>\n",
       "      <th>income</th>\n",
       "      <th>ed</th>\n",
       "      <th>employ</th>\n",
       "      <th>equip</th>\n",
       "      <th>callcard</th>\n",
       "      <th>wireless</th>\n",
       "      <th>churn</th>\n",
       "    </tr>\n",
       "  </thead>\n",
       "  <tbody>\n",
       "    <tr>\n",
       "      <th>0</th>\n",
       "      <td>11.0</td>\n",
       "      <td>33.0</td>\n",
       "      <td>7.0</td>\n",
       "      <td>136.0</td>\n",
       "      <td>5.0</td>\n",
       "      <td>5.0</td>\n",
       "      <td>0.0</td>\n",
       "      <td>1.0</td>\n",
       "      <td>1.0</td>\n",
       "      <td>1</td>\n",
       "    </tr>\n",
       "    <tr>\n",
       "      <th>1</th>\n",
       "      <td>33.0</td>\n",
       "      <td>33.0</td>\n",
       "      <td>12.0</td>\n",
       "      <td>33.0</td>\n",
       "      <td>2.0</td>\n",
       "      <td>0.0</td>\n",
       "      <td>0.0</td>\n",
       "      <td>0.0</td>\n",
       "      <td>0.0</td>\n",
       "      <td>1</td>\n",
       "    </tr>\n",
       "    <tr>\n",
       "      <th>2</th>\n",
       "      <td>23.0</td>\n",
       "      <td>30.0</td>\n",
       "      <td>9.0</td>\n",
       "      <td>30.0</td>\n",
       "      <td>1.0</td>\n",
       "      <td>2.0</td>\n",
       "      <td>0.0</td>\n",
       "      <td>0.0</td>\n",
       "      <td>0.0</td>\n",
       "      <td>0</td>\n",
       "    </tr>\n",
       "    <tr>\n",
       "      <th>3</th>\n",
       "      <td>38.0</td>\n",
       "      <td>35.0</td>\n",
       "      <td>5.0</td>\n",
       "      <td>76.0</td>\n",
       "      <td>2.0</td>\n",
       "      <td>10.0</td>\n",
       "      <td>1.0</td>\n",
       "      <td>1.0</td>\n",
       "      <td>1.0</td>\n",
       "      <td>0</td>\n",
       "    </tr>\n",
       "    <tr>\n",
       "      <th>4</th>\n",
       "      <td>7.0</td>\n",
       "      <td>35.0</td>\n",
       "      <td>14.0</td>\n",
       "      <td>80.0</td>\n",
       "      <td>2.0</td>\n",
       "      <td>15.0</td>\n",
       "      <td>0.0</td>\n",
       "      <td>1.0</td>\n",
       "      <td>0.0</td>\n",
       "      <td>0</td>\n",
       "    </tr>\n",
       "  </tbody>\n",
       "</table>\n",
       "</div>"
      ],
      "text/plain": [
       "   tenure   age  address  income   ed  employ  equip  callcard  wireless  \\\n",
       "0    11.0  33.0      7.0   136.0  5.0     5.0    0.0       1.0       1.0   \n",
       "1    33.0  33.0     12.0    33.0  2.0     0.0    0.0       0.0       0.0   \n",
       "2    23.0  30.0      9.0    30.0  1.0     2.0    0.0       0.0       0.0   \n",
       "3    38.0  35.0      5.0    76.0  2.0    10.0    1.0       1.0       1.0   \n",
       "4     7.0  35.0     14.0    80.0  2.0    15.0    0.0       1.0       0.0   \n",
       "\n",
       "   churn  \n",
       "0      1  \n",
       "1      1  \n",
       "2      0  \n",
       "3      0  \n",
       "4      0  "
      ]
     },
     "execution_count": 7,
     "metadata": {},
     "output_type": "execute_result"
    }
   ],
   "source": [
    "churn_df = churn_df[['tenure', 'age', 'address', 'income', 'ed', 'employ', 'equip', 'callcard', 'wireless','churn']]\n",
    "churn_df['churn'] = churn_df['churn'].astype('int')\n",
    "churn_df.head()"
   ]
  },
  {
   "cell_type": "markdown",
   "id": "a4fc2536",
   "metadata": {
    "papermill": {
     "duration": 0.025176,
     "end_time": "2022-06-25T07:51:18.378430",
     "exception": false,
     "start_time": "2022-06-25T07:51:18.353254",
     "status": "completed"
    },
    "tags": []
   },
   "source": [
    "### Select Variables at Random\n"
   ]
  },
  {
   "cell_type": "markdown",
   "id": "f5388ef3",
   "metadata": {
    "papermill": {
     "duration": 0.025178,
     "end_time": "2022-06-25T07:51:18.429292",
     "exception": false,
     "start_time": "2022-06-25T07:51:18.404114",
     "status": "completed"
    },
    "tags": []
   },
   "source": [
    "Like Bagging, RF uses an independent bootstrap sample from the training data. In addition, we select $m$ variables at random out of all $M$ possible\n",
    "variables. Let's do an example.\n"
   ]
  },
  {
   "cell_type": "code",
   "execution_count": 8,
   "id": "d3d5b11b",
   "metadata": {
    "execution": {
     "iopub.execute_input": "2022-06-25T07:51:18.483067Z",
     "iopub.status.busy": "2022-06-25T07:51:18.482138Z",
     "iopub.status.idle": "2022-06-25T07:51:18.488818Z",
     "shell.execute_reply": "2022-06-25T07:51:18.487639Z"
    },
    "papermill": {
     "duration": 0.036247,
     "end_time": "2022-06-25T07:51:18.491460",
     "exception": false,
     "start_time": "2022-06-25T07:51:18.455213",
     "status": "completed"
    },
    "tags": []
   },
   "outputs": [],
   "source": [
    "X=churn_df[['tenure', 'age', 'address', 'income', 'ed', 'employ', 'equip']]"
   ]
  },
  {
   "cell_type": "markdown",
   "id": "250b3a2b",
   "metadata": {
    "papermill": {
     "duration": 0.02607,
     "end_time": "2022-06-25T07:51:18.543899",
     "exception": false,
     "start_time": "2022-06-25T07:51:18.517829",
     "status": "completed"
    },
    "tags": []
   },
   "source": [
    "there are 7 features\n"
   ]
  },
  {
   "cell_type": "markdown",
   "id": "95b9772d",
   "metadata": {
    "papermill": {
     "duration": 0.025249,
     "end_time": "2022-06-25T07:51:18.595744",
     "exception": false,
     "start_time": "2022-06-25T07:51:18.570495",
     "status": "completed"
    },
    "tags": []
   },
   "source": [
    "## Train/Test dataset\n"
   ]
  },
  {
   "cell_type": "markdown",
   "id": "059b1713",
   "metadata": {
    "papermill": {
     "duration": 0.025111,
     "end_time": "2022-06-25T07:51:18.646446",
     "exception": false,
     "start_time": "2022-06-25T07:51:18.621335",
     "status": "completed"
    },
    "tags": []
   },
   "source": [
    "Let's define X, and y for our dataset:\n"
   ]
  },
  {
   "cell_type": "code",
   "execution_count": 9,
   "id": "51bc7887",
   "metadata": {
    "execution": {
     "iopub.execute_input": "2022-06-25T07:51:18.700077Z",
     "iopub.status.busy": "2022-06-25T07:51:18.699385Z",
     "iopub.status.idle": "2022-06-25T07:51:18.706485Z",
     "shell.execute_reply": "2022-06-25T07:51:18.705622Z"
    },
    "papermill": {
     "duration": 0.036598,
     "end_time": "2022-06-25T07:51:18.708587",
     "exception": false,
     "start_time": "2022-06-25T07:51:18.671989",
     "status": "completed"
    },
    "tags": []
   },
   "outputs": [
    {
     "data": {
      "text/plain": [
       "0    1\n",
       "1    1\n",
       "2    0\n",
       "3    0\n",
       "4    0\n",
       "Name: churn, dtype: int64"
      ]
     },
     "execution_count": 9,
     "metadata": {},
     "output_type": "execute_result"
    }
   ],
   "source": [
    "y = churn_df['churn']\n",
    "y.head()"
   ]
  },
  {
   "cell_type": "markdown",
   "id": "304a12a9",
   "metadata": {
    "papermill": {
     "duration": 0.025176,
     "end_time": "2022-06-25T07:51:18.759617",
     "exception": false,
     "start_time": "2022-06-25T07:51:18.734441",
     "status": "completed"
    },
    "tags": []
   },
   "source": [
    "## Train/Test dataset\n"
   ]
  },
  {
   "cell_type": "markdown",
   "id": "111f5fe9",
   "metadata": {
    "papermill": {
     "duration": 0.025048,
     "end_time": "2022-06-25T07:51:18.810775",
     "exception": false,
     "start_time": "2022-06-25T07:51:18.785727",
     "status": "completed"
    },
    "tags": []
   },
   "source": [
    "We split our dataset into train and test set:\n"
   ]
  },
  {
   "cell_type": "code",
   "execution_count": 10,
   "id": "655f7bf1",
   "metadata": {
    "execution": {
     "iopub.execute_input": "2022-06-25T07:51:18.864265Z",
     "iopub.status.busy": "2022-06-25T07:51:18.863661Z",
     "iopub.status.idle": "2022-06-25T07:51:18.888164Z",
     "shell.execute_reply": "2022-06-25T07:51:18.886919Z"
    },
    "papermill": {
     "duration": 0.053602,
     "end_time": "2022-06-25T07:51:18.890510",
     "exception": false,
     "start_time": "2022-06-25T07:51:18.836908",
     "status": "completed"
    },
    "tags": []
   },
   "outputs": [
    {
     "name": "stdout",
     "output_type": "stream",
     "text": [
      "Train set (140, 7) (140,)\n",
      "Test set (60, 7) (60,)\n"
     ]
    }
   ],
   "source": [
    "from sklearn.model_selection import train_test_split\n",
    "X_train, X_test, y_train, y_test = train_test_split( X, y, test_size=0.3, random_state=1)\n",
    "print ('Train set', X_train.shape,  y_train.shape)\n",
    "print ('Test set', X_test.shape,  y_test.shape)"
   ]
  },
  {
   "cell_type": "markdown",
   "id": "57fd953e",
   "metadata": {
    "papermill": {
     "duration": 0.025546,
     "end_time": "2022-06-25T07:51:18.941692",
     "exception": false,
     "start_time": "2022-06-25T07:51:18.916146",
     "status": "completed"
    },
    "tags": []
   },
   "source": [
    "## AdaBoost\n"
   ]
  },
  {
   "cell_type": "markdown",
   "id": "14facfac",
   "metadata": {
    "papermill": {
     "duration": 0.02555,
     "end_time": "2022-06-25T07:51:18.993216",
     "exception": false,
     "start_time": "2022-06-25T07:51:18.967666",
     "status": "completed"
    },
    "tags": []
   },
   "source": [
    "We can import the AdaBoost Classifier in Sklearn\n"
   ]
  },
  {
   "cell_type": "code",
   "execution_count": 11,
   "id": "21e229e2",
   "metadata": {
    "execution": {
     "iopub.execute_input": "2022-06-25T07:51:19.046916Z",
     "iopub.status.busy": "2022-06-25T07:51:19.046206Z",
     "iopub.status.idle": "2022-06-25T07:51:19.263948Z",
     "shell.execute_reply": "2022-06-25T07:51:19.262822Z"
    },
    "papermill": {
     "duration": 0.247814,
     "end_time": "2022-06-25T07:51:19.266703",
     "exception": false,
     "start_time": "2022-06-25T07:51:19.018889",
     "status": "completed"
    },
    "tags": []
   },
   "outputs": [],
   "source": [
    "from sklearn.ensemble import AdaBoostClassifier"
   ]
  },
  {
   "cell_type": "markdown",
   "id": "e6a2de1e",
   "metadata": {
    "papermill": {
     "duration": 0.025617,
     "end_time": "2022-06-25T07:51:19.317998",
     "exception": false,
     "start_time": "2022-06-25T07:51:19.292381",
     "status": "completed"
    },
    "tags": []
   },
   "source": [
    "The parameter <code>n_estimatorsint</code> is the maximum number of classifiers (default=50) at which boosting is stopped. If the results are perfect, the training procedure is stopped early.\n"
   ]
  },
  {
   "cell_type": "code",
   "execution_count": 12,
   "id": "768938cd",
   "metadata": {
    "execution": {
     "iopub.execute_input": "2022-06-25T07:51:19.372379Z",
     "iopub.status.busy": "2022-06-25T07:51:19.371778Z",
     "iopub.status.idle": "2022-06-25T07:51:19.376322Z",
     "shell.execute_reply": "2022-06-25T07:51:19.375612Z"
    },
    "papermill": {
     "duration": 0.034064,
     "end_time": "2022-06-25T07:51:19.378505",
     "exception": false,
     "start_time": "2022-06-25T07:51:19.344441",
     "status": "completed"
    },
    "tags": []
   },
   "outputs": [],
   "source": [
    "n_estimators=5\n",
    "random_state=0"
   ]
  },
  {
   "cell_type": "markdown",
   "id": "82fc0238",
   "metadata": {
    "papermill": {
     "duration": 0.025326,
     "end_time": "2022-06-25T07:51:19.429296",
     "exception": false,
     "start_time": "2022-06-25T07:51:19.403970",
     "status": "completed"
    },
    "tags": []
   },
   "source": [
    "We can create a <code>AdaBoostClassifier</code> object.\n"
   ]
  },
  {
   "cell_type": "code",
   "execution_count": 13,
   "id": "cfcac4ed",
   "metadata": {
    "execution": {
     "iopub.execute_input": "2022-06-25T07:51:19.483444Z",
     "iopub.status.busy": "2022-06-25T07:51:19.482863Z",
     "iopub.status.idle": "2022-06-25T07:51:19.487653Z",
     "shell.execute_reply": "2022-06-25T07:51:19.486937Z"
    },
    "papermill": {
     "duration": 0.034711,
     "end_time": "2022-06-25T07:51:19.489839",
     "exception": false,
     "start_time": "2022-06-25T07:51:19.455128",
     "status": "completed"
    },
    "tags": []
   },
   "outputs": [],
   "source": [
    "model = AdaBoostClassifier(n_estimators=n_estimators,random_state=random_state)"
   ]
  },
  {
   "cell_type": "markdown",
   "id": "d090199f",
   "metadata": {
    "papermill": {
     "duration": 0.02547,
     "end_time": "2022-06-25T07:51:19.540692",
     "exception": false,
     "start_time": "2022-06-25T07:51:19.515222",
     "status": "completed"
    },
    "tags": []
   },
   "source": [
    "If the outputs were y-1 and 1, the form of the classifier would be:\n"
   ]
  },
  {
   "cell_type": "markdown",
   "id": "eba7b798",
   "metadata": {
    "papermill": {
     "duration": 0.025326,
     "end_time": "2022-06-25T07:51:19.591687",
     "exception": false,
     "start_time": "2022-06-25T07:51:19.566361",
     "status": "completed"
    },
    "tags": []
   },
   "source": [
    "$H(x) = \text{sign}(  \\alpha\\_1 h\\_1(x)+ \\alpha\\_2 h\\_2(x)+ \\alpha\\_3 h\\_3(x)+ \\alpha\\_4 h\\_4(x)+ \\alpha\\_5 h\\_5(x) )$\n"
   ]
  },
  {
   "cell_type": "markdown",
   "id": "cff0bdd7",
   "metadata": {
    "papermill": {
     "duration": 0.025618,
     "end_time": "2022-06-25T07:51:19.643713",
     "exception": false,
     "start_time": "2022-06-25T07:51:19.618095",
     "status": "completed"
    },
    "tags": []
   },
   "source": [
    "We can fit the object finding all the $\\alpha_t$ $h_t(x)$ and then make a prediction:\n"
   ]
  },
  {
   "cell_type": "code",
   "execution_count": 14,
   "id": "69335d41",
   "metadata": {
    "execution": {
     "iopub.execute_input": "2022-06-25T07:51:19.697445Z",
     "iopub.status.busy": "2022-06-25T07:51:19.696830Z",
     "iopub.status.idle": "2022-06-25T07:51:19.718753Z",
     "shell.execute_reply": "2022-06-25T07:51:19.717992Z"
    },
    "papermill": {
     "duration": 0.051292,
     "end_time": "2022-06-25T07:51:19.720827",
     "exception": false,
     "start_time": "2022-06-25T07:51:19.669535",
     "status": "completed"
    },
    "tags": []
   },
   "outputs": [
    {
     "data": {
      "text/plain": [
       "array([1, 0, 1, 0, 0, 0, 1, 0, 1, 0, 0, 0, 0, 1, 0, 0, 1, 0, 1, 1, 0, 0,\n",
       "       0, 0, 0, 0, 0, 1, 0, 1, 0, 0, 0, 0, 0, 0, 1, 0, 0, 1, 0, 1, 0, 1,\n",
       "       1, 1, 1, 0, 0, 0, 0, 1, 0, 0, 1, 0, 0, 1, 0, 0])"
      ]
     },
     "execution_count": 14,
     "metadata": {},
     "output_type": "execute_result"
    }
   ],
   "source": [
    "model.fit(X_train, y_train)\n",
    "y_pred = model.predict(X_test)\n",
    "y_pred "
   ]
  },
  {
   "cell_type": "markdown",
   "id": "5aca8262",
   "metadata": {
    "papermill": {
     "duration": 0.026624,
     "end_time": "2022-06-25T07:51:19.773702",
     "exception": false,
     "start_time": "2022-06-25T07:51:19.747078",
     "status": "completed"
    },
    "tags": []
   },
   "source": [
    "We can find the training and testing accuracy:\n"
   ]
  },
  {
   "cell_type": "code",
   "execution_count": 15,
   "id": "7de65184",
   "metadata": {
    "execution": {
     "iopub.execute_input": "2022-06-25T07:51:19.827586Z",
     "iopub.status.busy": "2022-06-25T07:51:19.826896Z",
     "iopub.status.idle": "2022-06-25T07:51:19.838304Z",
     "shell.execute_reply": "2022-06-25T07:51:19.836807Z"
    },
    "papermill": {
     "duration": 0.041557,
     "end_time": "2022-06-25T07:51:19.841525",
     "exception": false,
     "start_time": "2022-06-25T07:51:19.799968",
     "status": "completed"
    },
    "tags": []
   },
   "outputs": [
    {
     "name": "stdout",
     "output_type": "stream",
     "text": [
      "{'test Accuracy': 0.7666666666666667, 'trian Accuracy': 0.7642857142857142}\n"
     ]
    }
   ],
   "source": [
    "print(get_accuracy(X_train, X_test, y_train, y_test,  model))"
   ]
  },
  {
   "cell_type": "markdown",
   "id": "cc018d77",
   "metadata": {
    "papermill": {
     "duration": 0.025559,
     "end_time": "2022-06-25T07:51:19.894162",
     "exception": false,
     "start_time": "2022-06-25T07:51:19.868603",
     "status": "completed"
    },
    "tags": []
   },
   "source": [
    "We see the base model is a Decision Tree. Since it only has one layer, it’s called a stump:\n"
   ]
  },
  {
   "cell_type": "code",
   "execution_count": 16,
   "id": "92ee1c5b",
   "metadata": {
    "execution": {
     "iopub.execute_input": "2022-06-25T07:51:19.947799Z",
     "iopub.status.busy": "2022-06-25T07:51:19.947387Z",
     "iopub.status.idle": "2022-06-25T07:51:19.956100Z",
     "shell.execute_reply": "2022-06-25T07:51:19.955173Z"
    },
    "papermill": {
     "duration": 0.038258,
     "end_time": "2022-06-25T07:51:19.958303",
     "exception": false,
     "start_time": "2022-06-25T07:51:19.920045",
     "status": "completed"
    },
    "tags": []
   },
   "outputs": [
    {
     "data": {
      "text/plain": [
       "DecisionTreeClassifier(max_depth=1)"
      ]
     },
     "execution_count": 16,
     "metadata": {},
     "output_type": "execute_result"
    }
   ],
   "source": [
    "model.base_estimator_"
   ]
  },
  {
   "cell_type": "markdown",
   "id": "0f243287",
   "metadata": {
    "papermill": {
     "duration": 0.025591,
     "end_time": "2022-06-25T07:51:20.010216",
     "exception": false,
     "start_time": "2022-06-25T07:51:19.984625",
     "status": "completed"
    },
    "tags": []
   },
   "source": [
    "We can output a list of the weak classifiers: $h\\_1(x), h\\_2(x), h\\_3(x),h\\_4(x)$ and $h\\_5(x)$\n"
   ]
  },
  {
   "cell_type": "code",
   "execution_count": 17,
   "id": "5bc49382",
   "metadata": {
    "execution": {
     "iopub.execute_input": "2022-06-25T07:51:20.064757Z",
     "iopub.status.busy": "2022-06-25T07:51:20.064002Z",
     "iopub.status.idle": "2022-06-25T07:51:20.073012Z",
     "shell.execute_reply": "2022-06-25T07:51:20.071989Z"
    },
    "papermill": {
     "duration": 0.038724,
     "end_time": "2022-06-25T07:51:20.074973",
     "exception": false,
     "start_time": "2022-06-25T07:51:20.036249",
     "status": "completed"
    },
    "tags": []
   },
   "outputs": [
    {
     "data": {
      "text/plain": [
       "[DecisionTreeClassifier(max_depth=1, random_state=209652396),\n",
       " DecisionTreeClassifier(max_depth=1, random_state=398764591),\n",
       " DecisionTreeClassifier(max_depth=1, random_state=924231285),\n",
       " DecisionTreeClassifier(max_depth=1, random_state=1478610112),\n",
       " DecisionTreeClassifier(max_depth=1, random_state=441365315)]"
      ]
     },
     "execution_count": 17,
     "metadata": {},
     "output_type": "execute_result"
    }
   ],
   "source": [
    "model.estimators_"
   ]
  },
  {
   "cell_type": "markdown",
   "id": "045a6d96",
   "metadata": {
    "papermill": {
     "duration": 0.026169,
     "end_time": "2022-06-25T07:51:20.127386",
     "exception": false,
     "start_time": "2022-06-25T07:51:20.101217",
     "status": "completed"
    },
    "tags": []
   },
   "source": [
    "We see the weak classifiers do not perform as well:\n"
   ]
  },
  {
   "cell_type": "code",
   "execution_count": 18,
   "id": "caed74c8",
   "metadata": {
    "execution": {
     "iopub.execute_input": "2022-06-25T07:51:20.181803Z",
     "iopub.status.busy": "2022-06-25T07:51:20.180683Z",
     "iopub.status.idle": "2022-06-25T07:51:20.203153Z",
     "shell.execute_reply": "2022-06-25T07:51:20.202101Z"
    },
    "papermill": {
     "duration": 0.05188,
     "end_time": "2022-06-25T07:51:20.205247",
     "exception": false,
     "start_time": "2022-06-25T07:51:20.153367",
     "status": "completed"
    },
    "tags": []
   },
   "outputs": [
    {
     "data": {
      "text/plain": [
       "[('for weak classifiers 1 the we get ',\n",
       "  {'test Accuracy': 0.7, 'trian Accuracy': 0.7428571428571429}),\n",
       " ('for weak classifiers 2 the we get ',\n",
       "  {'test Accuracy': 0.6, 'trian Accuracy': 0.6214285714285714}),\n",
       " ('for weak classifiers 3 the we get ',\n",
       "  {'test Accuracy': 0.6333333333333333, 'trian Accuracy': 0.6642857142857143}),\n",
       " ('for weak classifiers 4 the we get ',\n",
       "  {'test Accuracy': 0.35, 'trian Accuracy': 0.4642857142857143}),\n",
       " ('for weak classifiers 5 the we get ',\n",
       "  {'test Accuracy': 0.43333333333333335, 'trian Accuracy': 0.5})]"
      ]
     },
     "execution_count": 18,
     "metadata": {},
     "output_type": "execute_result"
    }
   ],
   "source": [
    "[ (\"for weak classifiers {} the we get \".format(i+1),get_accuracy(X_train, X_test, y_train, y_test,  weak_classifiers)) for i,weak_classifiers in enumerate(model.estimators_)]"
   ]
  },
  {
   "cell_type": "markdown",
   "id": "08c18870",
   "metadata": {
    "papermill": {
     "duration": 0.02587,
     "end_time": "2022-06-25T07:51:20.257318",
     "exception": false,
     "start_time": "2022-06-25T07:51:20.231448",
     "status": "completed"
    },
    "tags": []
   },
   "source": [
    "We can increase the number of weak classifiers:\n"
   ]
  },
  {
   "cell_type": "code",
   "execution_count": 19,
   "id": "afc4d2e0",
   "metadata": {
    "execution": {
     "iopub.execute_input": "2022-06-25T07:51:20.320396Z",
     "iopub.status.busy": "2022-06-25T07:51:20.319722Z",
     "iopub.status.idle": "2022-06-25T07:51:20.323599Z",
     "shell.execute_reply": "2022-06-25T07:51:20.322857Z"
    },
    "papermill": {
     "duration": 0.041887,
     "end_time": "2022-06-25T07:51:20.325461",
     "exception": false,
     "start_time": "2022-06-25T07:51:20.283574",
     "status": "completed"
    },
    "tags": []
   },
   "outputs": [],
   "source": [
    "n_estimators=100\n",
    "random_state=0"
   ]
  },
  {
   "cell_type": "markdown",
   "id": "2e37bce0",
   "metadata": {
    "papermill": {
     "duration": 0.026087,
     "end_time": "2022-06-25T07:51:20.378215",
     "exception": false,
     "start_time": "2022-06-25T07:51:20.352128",
     "status": "completed"
    },
    "tags": []
   },
   "source": [
    "and then fit the model\n"
   ]
  },
  {
   "cell_type": "code",
   "execution_count": 20,
   "id": "f8dde20e",
   "metadata": {
    "execution": {
     "iopub.execute_input": "2022-06-25T07:51:20.432589Z",
     "iopub.status.busy": "2022-06-25T07:51:20.431866Z",
     "iopub.status.idle": "2022-06-25T07:51:20.611309Z",
     "shell.execute_reply": "2022-06-25T07:51:20.610036Z"
    },
    "papermill": {
     "duration": 0.209659,
     "end_time": "2022-06-25T07:51:20.614000",
     "exception": false,
     "start_time": "2022-06-25T07:51:20.404341",
     "status": "completed"
    },
    "tags": []
   },
   "outputs": [],
   "source": [
    "model = AdaBoostClassifier(n_estimators=n_estimators,random_state=random_state)\n",
    "model.fit(X_train, y_train)\n",
    "\n",
    "#Predict the response for test dataset\n",
    "y_pred = model.predict(X_test)"
   ]
  },
  {
   "cell_type": "markdown",
   "id": "774a2d09",
   "metadata": {
    "papermill": {
     "duration": 0.026324,
     "end_time": "2022-06-25T07:51:20.667246",
     "exception": false,
     "start_time": "2022-06-25T07:51:20.640922",
     "status": "completed"
    },
    "tags": []
   },
   "source": [
    "We obtain the  training and testing accuracy:\n"
   ]
  },
  {
   "cell_type": "code",
   "execution_count": 21,
   "id": "7fcb6be5",
   "metadata": {
    "execution": {
     "iopub.execute_input": "2022-06-25T07:51:20.722270Z",
     "iopub.status.busy": "2022-06-25T07:51:20.721882Z",
     "iopub.status.idle": "2022-06-25T07:51:20.778091Z",
     "shell.execute_reply": "2022-06-25T07:51:20.776760Z"
    },
    "papermill": {
     "duration": 0.086576,
     "end_time": "2022-06-25T07:51:20.780348",
     "exception": false,
     "start_time": "2022-06-25T07:51:20.693772",
     "status": "completed"
    },
    "tags": []
   },
   "outputs": [
    {
     "name": "stdout",
     "output_type": "stream",
     "text": [
      "{'test Accuracy': 0.7333333333333333, 'trian Accuracy': 1.0}\n"
     ]
    }
   ],
   "source": [
    "print(get_accuracy(X_train, X_test, y_train, y_test, model))"
   ]
  },
  {
   "cell_type": "markdown",
   "id": "b8726d43",
   "metadata": {
    "papermill": {
     "duration": 0.026245,
     "end_time": "2022-06-25T07:51:20.833215",
     "exception": false,
     "start_time": "2022-06-25T07:51:20.806970",
     "status": "completed"
    },
    "tags": []
   },
   "source": [
    "We see that adding more weak classifiers causes overfitting. We can verify by plotting the training and test accuracy over the number of classifiers:\n"
   ]
  },
  {
   "cell_type": "code",
   "execution_count": 22,
   "id": "328e5a21",
   "metadata": {
    "execution": {
     "iopub.execute_input": "2022-06-25T07:51:20.889993Z",
     "iopub.status.busy": "2022-06-25T07:51:20.889645Z",
     "iopub.status.idle": "2022-06-25T07:54:41.624661Z",
     "shell.execute_reply": "2022-06-25T07:54:41.623162Z"
    },
    "papermill": {
     "duration": 200.767361,
     "end_time": "2022-06-25T07:54:41.627125",
     "exception": false,
     "start_time": "2022-06-25T07:51:20.859764",
     "status": "completed"
    },
    "tags": []
   },
   "outputs": [
    {
     "name": "stderr",
     "output_type": "stream",
     "text": [
      "100%|██████████| 20/20 [03:20<00:00, 10.02s/it]\n"
     ]
    },
    {
     "data": {
      "image/png": "[encoded data removed]",
      "text/plain": [
       "<Figure size 432x288 with 2 Axes>"
      ]
     },
     "metadata": {
      "needs_background": "light"
     },
     "output_type": "display_data"
    }
   ],
   "source": [
    "get_accuracy_bag(X,y,title=\"Training and Test Accuracy vs Weak Classifiers\",Learning_rate_=[1],times=20,xlabel='Number Estimators')"
   ]
  },
  {
   "cell_type": "markdown",
   "id": "0649451b",
   "metadata": {
    "papermill": {
     "duration": 0.028717,
     "end_time": "2022-06-25T07:54:41.685296",
     "exception": false,
     "start_time": "2022-06-25T07:54:41.656579",
     "status": "completed"
    },
    "tags": []
   },
   "source": [
    "As you can see, as the number of classifiers increases so does the overfitting; the training accuracy increases and conversely, the testing accuracy decreases. One way to decrease overfitting is using the learning rate <code>learning_rate</code> with a default value of 1. This is a type of Regularization. For more detail on Regularization, check out <a href=\"https://hastie.su.domains/Papers/ESLII.pdf?utm_medium=Exinfluencer&utm_source=Exinfluencer&utm_content=000026UJ&utm_term=10006555&utm_id=NA-SkillsNetwork-Channel-SkillsNetworkCoursesIBMML241ENSkillsNetwork31576874-2022-01-01#page=383\">here</a>.\n"
   ]
  },
  {
   "cell_type": "code",
   "execution_count": 23,
   "id": "9e3cdd24",
   "metadata": {
    "execution": {
     "iopub.execute_input": "2022-06-25T07:54:41.745257Z",
     "iopub.status.busy": "2022-06-25T07:54:41.744886Z",
     "iopub.status.idle": "2022-06-25T07:54:41.749773Z",
     "shell.execute_reply": "2022-06-25T07:54:41.748618Z"
    },
    "papermill": {
     "duration": 0.037837,
     "end_time": "2022-06-25T07:54:41.751955",
     "exception": false,
     "start_time": "2022-06-25T07:54:41.714118",
     "status": "completed"
    },
    "tags": []
   },
   "outputs": [],
   "source": [
    "n_estimators=100\n",
    "random_state=0\n",
    "learning_rate=0.7"
   ]
  },
  {
   "cell_type": "markdown",
   "id": "154c0255",
   "metadata": {
    "papermill": {
     "duration": 0.028449,
     "end_time": "2022-06-25T07:54:41.809393",
     "exception": false,
     "start_time": "2022-06-25T07:54:41.780944",
     "status": "completed"
    },
    "tags": []
   },
   "source": [
    "We can now train the model, make a prediction, and calculate the accuracy. We see that by increasing the learning rate the test accuracy has improved.\n"
   ]
  },
  {
   "cell_type": "code",
   "execution_count": 24,
   "id": "b6b44042",
   "metadata": {
    "execution": {
     "iopub.execute_input": "2022-06-25T07:54:41.868720Z",
     "iopub.status.busy": "2022-06-25T07:54:41.868309Z",
     "iopub.status.idle": "2022-06-25T07:54:42.082233Z",
     "shell.execute_reply": "2022-06-25T07:54:42.081060Z"
    },
    "papermill": {
     "duration": 0.246741,
     "end_time": "2022-06-25T07:54:42.084828",
     "exception": false,
     "start_time": "2022-06-25T07:54:41.838087",
     "status": "completed"
    },
    "tags": []
   },
   "outputs": [
    {
     "name": "stdout",
     "output_type": "stream",
     "text": [
      "{'test Accuracy': 0.75, 'trian Accuracy': 0.95}\n"
     ]
    }
   ],
   "source": [
    "model = AdaBoostClassifier(n_estimators=n_estimators,random_state=random_state,learning_rate=learning_rate)\n",
    "model.fit(X_train, y_train)\n",
    "y_pred = model.predict(X_test)\n",
    "print(get_accuracy(X_train, X_test, y_train, y_test, model))"
   ]
  },
  {
   "cell_type": "markdown",
   "id": "deae045a",
   "metadata": {
    "papermill": {
     "duration": 0.029235,
     "end_time": "2022-06-25T07:54:42.143290",
     "exception": false,
     "start_time": "2022-06-25T07:54:42.114055",
     "status": "completed"
    },
    "tags": []
   },
   "source": [
    "Compared to the previous results we see the model does better on the test data. We can try different learning rates using the method <code>get_accuracy_bag</code>. In this case, the learning rates are 0.2,0.4,0.6, and 1. As the learning rate goes down we see that the testing accuracy increases while conversely, the training accuracy decreases .\n"
   ]
  },
  {
   "cell_type": "code",
   "execution_count": 25,
   "id": "4a0fe374",
   "metadata": {
    "execution": {
     "iopub.execute_input": "2022-06-25T07:54:42.204148Z",
     "iopub.status.busy": "2022-06-25T07:54:42.203200Z",
     "iopub.status.idle": "2022-06-25T08:08:01.816787Z",
     "shell.execute_reply": "2022-06-25T08:08:01.815509Z"
    },
    "papermill": {
     "duration": 799.646907,
     "end_time": "2022-06-25T08:08:01.819663",
     "exception": false,
     "start_time": "2022-06-25T07:54:42.172756",
     "status": "completed"
    },
    "tags": []
   },
   "outputs": [
    {
     "name": "stderr",
     "output_type": "stream",
     "text": [
      "100%|██████████| 20/20 [13:19<00:00, 39.96s/it]\n"
     ]
    },
    {
     "data": {
      "image/png": "[encoded data removed]",
      "text/plain": [
       "<Figure size 432x288 with 2 Axes>"
      ]
     },
     "metadata": {
      "needs_background": "light"
     },
     "output_type": "display_data"
    }
   ],
   "source": [
    "get_accuracy_bag(X,y,title=\"Training and Test Accuracy vs Weak Classifiers\",Learning_rate_=[0.2,0.4,0.6,1],times=20,xlabel='Number Estimators')"
   ]
  },
  {
   "cell_type": "markdown",
   "id": "77049d33",
   "metadata": {
    "papermill": {
     "duration": 0.033593,
     "end_time": "2022-06-25T08:08:01.952892",
     "exception": false,
     "start_time": "2022-06-25T08:08:01.919299",
     "status": "completed"
    },
    "tags": []
   },
   "source": [
    "Another important parameter is <code>algorithm</code> with takes on the values <code>SAMME</code>, <code>SAMME.R</code>. The default is  <code>’SAMME.R’</code>. The <code>SAMME.R</code> algorithm typically converges faster than <code>SAMME</code>, achieving a lower test error with fewer boosting iterations. For more details, check <a href=\"https://hastie.su.domains/Papers/samme.pdf?utm_medium=Exinfluencer&utm_source=Exinfluencer&utm_content=000026UJ&utm_term=10006555&utm_id=NA-SkillsNetwork-Channel-SkillsNetworkCoursesIBMML241ENSkillsNetwork31576874-2022-01-01\">the paper</a>. One issue is that <code>SAMME.R</code> can't be used all the time as we will need the Base classifier to generate the probability of belonging to each class.\n"
   ]
  },
  {
   "cell_type": "markdown",
   "id": "a8ca81e4",
   "metadata": {
    "papermill": {
     "duration": 0.031101,
     "end_time": "2022-06-25T08:08:02.015737",
     "exception": false,
     "start_time": "2022-06-25T08:08:01.984636",
     "status": "completed"
    },
    "tags": []
   },
   "source": [
    "## Changing the Base Classifier\n"
   ]
  },
  {
   "cell_type": "markdown",
   "id": "1e4b9521",
   "metadata": {
    "papermill": {
     "duration": 0.032287,
     "end_time": "2022-06-25T08:08:02.079298",
     "exception": false,
     "start_time": "2022-06-25T08:08:02.047011",
     "status": "completed"
    },
    "tags": []
   },
   "source": [
    "AdaBoost is usually performed with Decision Trees but we can use other base classifiers. However, if the classifier is too strong it will cause overfitting. Consider using the following Support Vector Machine (SVM) as the base classifier:\n"
   ]
  },
  {
   "cell_type": "code",
   "execution_count": 26,
   "id": "26d482a6",
   "metadata": {
    "execution": {
     "iopub.execute_input": "2022-06-25T08:08:02.146859Z",
     "iopub.status.busy": "2022-06-25T08:08:02.146177Z",
     "iopub.status.idle": "2022-06-25T08:08:02.151595Z",
     "shell.execute_reply": "2022-06-25T08:08:02.150522Z"
    },
    "papermill": {
     "duration": 0.041382,
     "end_time": "2022-06-25T08:08:02.153644",
     "exception": false,
     "start_time": "2022-06-25T08:08:02.112262",
     "status": "completed"
    },
    "tags": []
   },
   "outputs": [],
   "source": [
    "from sklearn.svm import SVC"
   ]
  },
  {
   "cell_type": "code",
   "execution_count": 27,
   "id": "efbe99fb",
   "metadata": {
    "execution": {
     "iopub.execute_input": "2022-06-25T08:08:02.222044Z",
     "iopub.status.busy": "2022-06-25T08:08:02.221657Z",
     "iopub.status.idle": "2022-06-25T08:08:02.226684Z",
     "shell.execute_reply": "2022-06-25T08:08:02.225437Z"
    },
    "papermill": {
     "duration": 0.041904,
     "end_time": "2022-06-25T08:08:02.228940",
     "exception": false,
     "start_time": "2022-06-25T08:08:02.187036",
     "status": "completed"
    },
    "tags": []
   },
   "outputs": [],
   "source": [
    "base_estimator=SVC(kernel='rbf',gamma=1)"
   ]
  },
  {
   "cell_type": "markdown",
   "id": "359c2a6b",
   "metadata": {
    "papermill": {
     "duration": 0.033396,
     "end_time": "2022-06-25T08:08:02.295898",
     "exception": false,
     "start_time": "2022-06-25T08:08:02.262502",
     "status": "completed"
    },
    "tags": []
   },
   "source": [
    "We see the SVM does extremely well:\n"
   ]
  },
  {
   "cell_type": "code",
   "execution_count": 28,
   "id": "c19b09c8",
   "metadata": {
    "execution": {
     "iopub.execute_input": "2022-06-25T08:08:02.366711Z",
     "iopub.status.busy": "2022-06-25T08:08:02.366298Z",
     "iopub.status.idle": "2022-06-25T08:08:02.381941Z",
     "shell.execute_reply": "2022-06-25T08:08:02.380645Z"
    },
    "papermill": {
     "duration": 0.054407,
     "end_time": "2022-06-25T08:08:02.384291",
     "exception": false,
     "start_time": "2022-06-25T08:08:02.329884",
     "status": "completed"
    },
    "tags": []
   },
   "outputs": [
    {
     "name": "stdout",
     "output_type": "stream",
     "text": [
      "{'test Accuracy': 0.7666666666666667, 'trian Accuracy': 1.0}\n"
     ]
    }
   ],
   "source": [
    "base_estimator.fit(X_train, y_train)\n",
    "\n",
    "print(get_accuracy(X_train, X_test, y_train, y_test, base_estimator))"
   ]
  },
  {
   "cell_type": "markdown",
   "id": "c0a0b5b4",
   "metadata": {
    "papermill": {
     "duration": 0.031587,
     "end_time": "2022-06-25T08:08:02.448446",
     "exception": false,
     "start_time": "2022-06-25T08:08:02.416859",
     "status": "completed"
    },
    "tags": []
   },
   "source": [
    "The Base classifier for SVM can not generate the probability of belonging to each class. If you uncomment the following line of code you will get an error.\n"
   ]
  },
  {
   "cell_type": "code",
   "execution_count": 29,
   "id": "de1018df",
   "metadata": {
    "execution": {
     "iopub.execute_input": "2022-06-25T08:08:02.515625Z",
     "iopub.status.busy": "2022-06-25T08:08:02.514786Z",
     "iopub.status.idle": "2022-06-25T08:08:02.520194Z",
     "shell.execute_reply": "2022-06-25T08:08:02.518980Z"
    },
    "papermill": {
     "duration": 0.042779,
     "end_time": "2022-06-25T08:08:02.523013",
     "exception": false,
     "start_time": "2022-06-25T08:08:02.480234",
     "status": "completed"
    },
    "tags": []
   },
   "outputs": [],
   "source": [
    "#base_estimator.predict_proba(X_train)"
   ]
  },
  {
   "cell_type": "markdown",
   "id": "3ecafbd0",
   "metadata": {
    "papermill": {
     "duration": 0.034399,
     "end_time": "2022-06-25T08:08:02.591996",
     "exception": false,
     "start_time": "2022-06-25T08:08:02.557597",
     "status": "completed"
    },
    "tags": []
   },
   "source": [
    "Therefore the parameter <code>algorithm</code> must be <code>'SAMME'</code>\n"
   ]
  },
  {
   "cell_type": "code",
   "execution_count": 30,
   "id": "73405009",
   "metadata": {
    "execution": {
     "iopub.execute_input": "2022-06-25T08:08:02.661735Z",
     "iopub.status.busy": "2022-06-25T08:08:02.660527Z",
     "iopub.status.idle": "2022-06-25T08:08:02.666057Z",
     "shell.execute_reply": "2022-06-25T08:08:02.664912Z"
    },
    "papermill": {
     "duration": 0.042241,
     "end_time": "2022-06-25T08:08:02.668375",
     "exception": false,
     "start_time": "2022-06-25T08:08:02.626134",
     "status": "completed"
    },
    "tags": []
   },
   "outputs": [],
   "source": [
    "algorithm='SAMME'"
   ]
  },
  {
   "cell_type": "code",
   "execution_count": 31,
   "id": "7c7315a8",
   "metadata": {
    "execution": {
     "iopub.execute_input": "2022-06-25T08:08:02.737328Z",
     "iopub.status.busy": "2022-06-25T08:08:02.736951Z",
     "iopub.status.idle": "2022-06-25T08:08:02.742147Z",
     "shell.execute_reply": "2022-06-25T08:08:02.741061Z"
    },
    "papermill": {
     "duration": 0.042979,
     "end_time": "2022-06-25T08:08:02.744666",
     "exception": false,
     "start_time": "2022-06-25T08:08:02.701687",
     "status": "completed"
    },
    "tags": []
   },
   "outputs": [],
   "source": [
    "model =AdaBoostClassifier(n_estimators=5, base_estimator=base_estimator,learning_rate=1,algorithm='SAMME' )"
   ]
  },
  {
   "cell_type": "markdown",
   "id": "520a80b8",
   "metadata": {
    "papermill": {
     "duration": 0.032722,
     "end_time": "2022-06-25T08:08:02.812183",
     "exception": false,
     "start_time": "2022-06-25T08:08:02.779461",
     "status": "completed"
    },
    "tags": []
   },
   "source": [
    "We see the AdaBoost model does worse, this is similar to overfitting. In addition, SVM takes much longer to train than classification trees:\n"
   ]
  },
  {
   "cell_type": "code",
   "execution_count": 32,
   "id": "ce57e851",
   "metadata": {
    "execution": {
     "iopub.execute_input": "2022-06-25T08:08:02.881624Z",
     "iopub.status.busy": "2022-06-25T08:08:02.881162Z",
     "iopub.status.idle": "2022-06-25T08:08:02.932946Z",
     "shell.execute_reply": "2022-06-25T08:08:02.931750Z"
    },
    "papermill": {
     "duration": 0.089016,
     "end_time": "2022-06-25T08:08:02.935134",
     "exception": false,
     "start_time": "2022-06-25T08:08:02.846118",
     "status": "completed"
    },
    "tags": []
   },
   "outputs": [
    {
     "name": "stdout",
     "output_type": "stream",
     "text": [
      "{'test Accuracy': 0.7666666666666667, 'trian Accuracy': 0.6857142857142857}\n"
     ]
    }
   ],
   "source": [
    "model.fit(X_train, y_train)\n",
    "\n",
    "#Predict the response for test dataset\n",
    "y_pred = model.predict(X_test)\n",
    "print(get_accuracy(X_train, X_test, y_train, y_test, model))"
   ]
  },
  {
   "cell_type": "markdown",
   "id": "b183d5de",
   "metadata": {
    "papermill": {
     "duration": 0.031465,
     "end_time": "2022-06-25T08:08:02.998461",
     "exception": false,
     "start_time": "2022-06-25T08:08:02.966996",
     "status": "completed"
    },
    "tags": []
   },
   "source": [
    "We see that each tree in RF is less correlated than Bagging:\n"
   ]
  },
  {
   "cell_type": "markdown",
   "id": "dd94801a",
   "metadata": {
    "papermill": {
     "duration": 0.038321,
     "end_time": "2022-06-25T08:08:03.074952",
     "exception": false,
     "start_time": "2022-06-25T08:08:03.036631",
     "status": "completed"
    },
    "tags": []
   },
   "source": [
    "<h2 id=\"Example\">Cancer Data Example</h2>\n",
    "\n",
    "The example is based on a dataset that is publicly available from the UCI Machine Learning Repository (Asuncion and Newman, 2007)\\[[http://mlearn.ics.uci.edu/MLRepository.html](http://mlearn.ics.uci.edu/MLRepository.html?utm_medium=Exinfluencer&utm_source=Exinfluencer&utm_content=000026UJ&utm_term=10006555&utm_id=NA-SkillsNetwork-Channel-SkillsNetworkCoursesIBMML241ENSkillsNetwork31576874-2022-01-01)]. The dataset consists of several hundred human cell sample records, each of which contains the values of a set of cell characteristics. The fields in each record are:\n",
    "\n",
    "| Field name  | Description                 |\n",
    "| ----------- | --------------------------- |\n",
    "| ID          | Clump thickness             |\n",
    "| Clump       | Clump thickness             |\n",
    "| UnifSize    | Uniformity of cell size     |\n",
    "| UnifShape   | Uniformity of cell shape    |\n",
    "| MargAdh     | Marginal adhesion           |\n",
    "| SingEpiSize | Single epithelial cell size |\n",
    "| BareNuc     | Bare nuclei                 |\n",
    "| BlandChrom  | Bland chromatin             |\n",
    "| NormNucl    | Normal nucleoli             |\n",
    "| Mit         | Mitoses                     |\n",
    "| Class       | Benign or malignant         |\n",
    "\n",
    "<br>\n",
    "<br>\n",
    "\n",
    "Let's load the dataset:\n"
   ]
  },
  {
   "cell_type": "code",
   "execution_count": 33,
   "id": "f6f5fc2d",
   "metadata": {
    "execution": {
     "iopub.execute_input": "2022-06-25T08:08:03.143209Z",
     "iopub.status.busy": "2022-06-25T08:08:03.142840Z",
     "iopub.status.idle": "2022-06-25T08:08:03.759734Z",
     "shell.execute_reply": "2022-06-25T08:08:03.758638Z"
    },
    "papermill": {
     "duration": 0.654365,
     "end_time": "2022-06-25T08:08:03.762208",
     "exception": false,
     "start_time": "2022-06-25T08:08:03.107843",
     "status": "completed"
    },
    "tags": []
   },
   "outputs": [
    {
     "data": {
      "text/html": [
       "<div>\n",
       "<style scoped>\n",
       "    .dataframe tbody tr th:only-of-type {\n",
       "        vertical-align: middle;\n",
       "    }\n",
       "\n",
       "    .dataframe tbody tr th {\n",
       "        vertical-align: top;\n",
       "    }\n",
       "\n",
       "    .dataframe thead th {\n",
       "        text-align: right;\n",
       "    }\n",
       "</style>\n",
       "<table border=\"1\" class=\"dataframe\">\n",
       "  <thead>\n",
       "    <tr style=\"text-align: right;\">\n",
       "      <th></th>\n",
       "      <th>ID</th>\n",
       "      <th>Clump</th>\n",
       "      <th>UnifSize</th>\n",
       "      <th>UnifShape</th>\n",
       "      <th>MargAdh</th>\n",
       "      <th>SingEpiSize</th>\n",
       "      <th>BareNuc</th>\n",
       "      <th>BlandChrom</th>\n",
       "      <th>NormNucl</th>\n",
       "      <th>Mit</th>\n",
       "      <th>Class</th>\n",
       "    </tr>\n",
       "  </thead>\n",
       "  <tbody>\n",
       "    <tr>\n",
       "      <th>0</th>\n",
       "      <td>1000025</td>\n",
       "      <td>5</td>\n",
       "      <td>1</td>\n",
       "      <td>1</td>\n",
       "      <td>1</td>\n",
       "      <td>2</td>\n",
       "      <td>1</td>\n",
       "      <td>3</td>\n",
       "      <td>1</td>\n",
       "      <td>1</td>\n",
       "      <td>2</td>\n",
       "    </tr>\n",
       "    <tr>\n",
       "      <th>1</th>\n",
       "      <td>1002945</td>\n",
       "      <td>5</td>\n",
       "      <td>4</td>\n",
       "      <td>4</td>\n",
       "      <td>5</td>\n",
       "      <td>7</td>\n",
       "      <td>10</td>\n",
       "      <td>3</td>\n",
       "      <td>2</td>\n",
       "      <td>1</td>\n",
       "      <td>2</td>\n",
       "    </tr>\n",
       "    <tr>\n",
       "      <th>2</th>\n",
       "      <td>1015425</td>\n",
       "      <td>3</td>\n",
       "      <td>1</td>\n",
       "      <td>1</td>\n",
       "      <td>1</td>\n",
       "      <td>2</td>\n",
       "      <td>2</td>\n",
       "      <td>3</td>\n",
       "      <td>1</td>\n",
       "      <td>1</td>\n",
       "      <td>2</td>\n",
       "    </tr>\n",
       "    <tr>\n",
       "      <th>3</th>\n",
       "      <td>1016277</td>\n",
       "      <td>6</td>\n",
       "      <td>8</td>\n",
       "      <td>8</td>\n",
       "      <td>1</td>\n",
       "      <td>3</td>\n",
       "      <td>4</td>\n",
       "      <td>3</td>\n",
       "      <td>7</td>\n",
       "      <td>1</td>\n",
       "      <td>2</td>\n",
       "    </tr>\n",
       "    <tr>\n",
       "      <th>4</th>\n",
       "      <td>1017023</td>\n",
       "      <td>4</td>\n",
       "      <td>1</td>\n",
       "      <td>1</td>\n",
       "      <td>3</td>\n",
       "      <td>2</td>\n",
       "      <td>1</td>\n",
       "      <td>3</td>\n",
       "      <td>1</td>\n",
       "      <td>1</td>\n",
       "      <td>2</td>\n",
       "    </tr>\n",
       "  </tbody>\n",
       "</table>\n",
       "</div>"
      ],
      "text/plain": [
       "        ID  Clump  UnifSize  UnifShape  MargAdh  SingEpiSize BareNuc  \\\n",
       "0  1000025      5         1          1        1            2       1   \n",
       "1  1002945      5         4          4        5            7      10   \n",
       "2  1015425      3         1          1        1            2       2   \n",
       "3  1016277      6         8          8        1            3       4   \n",
       "4  1017023      4         1          1        3            2       1   \n",
       "\n",
       "   BlandChrom  NormNucl  Mit  Class  \n",
       "0           3         1    1      2  \n",
       "1           3         2    1      2  \n",
       "2           3         1    1      2  \n",
       "3           3         7    1      2  \n",
       "4           3         1    1      2  "
      ]
     },
     "execution_count": 33,
     "metadata": {},
     "output_type": "execute_result"
    }
   ],
   "source": [
    "df = pd.read_csv(\"https://cf-courses-data.s3.us.cloud-object-storage.appdomain.cloud/IBMDeveloperSkillsNetwork-ML0101EN-SkillsNetwork/labs/Module%203/data/cell_samples.csv\")\n",
    "\n",
    "df.head()"
   ]
  },
  {
   "cell_type": "markdown",
   "id": "3ec3ea9b",
   "metadata": {
    "papermill": {
     "duration": 0.031705,
     "end_time": "2022-06-25T08:08:03.827183",
     "exception": false,
     "start_time": "2022-06-25T08:08:03.795478",
     "status": "completed"
    },
    "tags": []
   },
   "source": [
    "Now lets remove rows that have a ? in the <code>BareNuc</code> column:\n"
   ]
  },
  {
   "cell_type": "code",
   "execution_count": 34,
   "id": "94bce9f3",
   "metadata": {
    "execution": {
     "iopub.execute_input": "2022-06-25T08:08:03.892496Z",
     "iopub.status.busy": "2022-06-25T08:08:03.892132Z",
     "iopub.status.idle": "2022-06-25T08:08:03.898701Z",
     "shell.execute_reply": "2022-06-25T08:08:03.897853Z"
    },
    "papermill": {
     "duration": 0.041578,
     "end_time": "2022-06-25T08:08:03.900649",
     "exception": false,
     "start_time": "2022-06-25T08:08:03.859071",
     "status": "completed"
    },
    "tags": []
   },
   "outputs": [],
   "source": [
    "df= df[pd.to_numeric(df['BareNuc'], errors='coerce').notnull()]"
   ]
  },
  {
   "cell_type": "markdown",
   "id": "1f7662f0",
   "metadata": {
    "papermill": {
     "duration": 0.031374,
     "end_time": "2022-06-25T08:08:03.964454",
     "exception": false,
     "start_time": "2022-06-25T08:08:03.933080",
     "status": "completed"
    },
    "tags": []
   },
   "source": [
    "We obtain the features:\n"
   ]
  },
  {
   "cell_type": "code",
   "execution_count": 35,
   "id": "1e62ac66",
   "metadata": {
    "execution": {
     "iopub.execute_input": "2022-06-25T08:08:04.030053Z",
     "iopub.status.busy": "2022-06-25T08:08:04.029651Z",
     "iopub.status.idle": "2022-06-25T08:08:04.044713Z",
     "shell.execute_reply": "2022-06-25T08:08:04.043776Z"
    },
    "papermill": {
     "duration": 0.049929,
     "end_time": "2022-06-25T08:08:04.046790",
     "exception": false,
     "start_time": "2022-06-25T08:08:03.996861",
     "status": "completed"
    },
    "tags": []
   },
   "outputs": [
    {
     "data": {
      "text/html": [
       "<div>\n",
       "<style scoped>\n",
       "    .dataframe tbody tr th:only-of-type {\n",
       "        vertical-align: middle;\n",
       "    }\n",
       "\n",
       "    .dataframe tbody tr th {\n",
       "        vertical-align: top;\n",
       "    }\n",
       "\n",
       "    .dataframe thead th {\n",
       "        text-align: right;\n",
       "    }\n",
       "</style>\n",
       "<table border=\"1\" class=\"dataframe\">\n",
       "  <thead>\n",
       "    <tr style=\"text-align: right;\">\n",
       "      <th></th>\n",
       "      <th>Clump</th>\n",
       "      <th>UnifSize</th>\n",
       "      <th>UnifShape</th>\n",
       "      <th>MargAdh</th>\n",
       "      <th>SingEpiSize</th>\n",
       "      <th>BareNuc</th>\n",
       "      <th>BlandChrom</th>\n",
       "      <th>NormNucl</th>\n",
       "      <th>Mit</th>\n",
       "    </tr>\n",
       "  </thead>\n",
       "  <tbody>\n",
       "    <tr>\n",
       "      <th>0</th>\n",
       "      <td>5</td>\n",
       "      <td>1</td>\n",
       "      <td>1</td>\n",
       "      <td>1</td>\n",
       "      <td>2</td>\n",
       "      <td>1</td>\n",
       "      <td>3</td>\n",
       "      <td>1</td>\n",
       "      <td>1</td>\n",
       "    </tr>\n",
       "    <tr>\n",
       "      <th>1</th>\n",
       "      <td>5</td>\n",
       "      <td>4</td>\n",
       "      <td>4</td>\n",
       "      <td>5</td>\n",
       "      <td>7</td>\n",
       "      <td>10</td>\n",
       "      <td>3</td>\n",
       "      <td>2</td>\n",
       "      <td>1</td>\n",
       "    </tr>\n",
       "    <tr>\n",
       "      <th>2</th>\n",
       "      <td>3</td>\n",
       "      <td>1</td>\n",
       "      <td>1</td>\n",
       "      <td>1</td>\n",
       "      <td>2</td>\n",
       "      <td>2</td>\n",
       "      <td>3</td>\n",
       "      <td>1</td>\n",
       "      <td>1</td>\n",
       "    </tr>\n",
       "    <tr>\n",
       "      <th>3</th>\n",
       "      <td>6</td>\n",
       "      <td>8</td>\n",
       "      <td>8</td>\n",
       "      <td>1</td>\n",
       "      <td>3</td>\n",
       "      <td>4</td>\n",
       "      <td>3</td>\n",
       "      <td>7</td>\n",
       "      <td>1</td>\n",
       "    </tr>\n",
       "    <tr>\n",
       "      <th>4</th>\n",
       "      <td>4</td>\n",
       "      <td>1</td>\n",
       "      <td>1</td>\n",
       "      <td>3</td>\n",
       "      <td>2</td>\n",
       "      <td>1</td>\n",
       "      <td>3</td>\n",
       "      <td>1</td>\n",
       "      <td>1</td>\n",
       "    </tr>\n",
       "  </tbody>\n",
       "</table>\n",
       "</div>"
      ],
      "text/plain": [
       "   Clump  UnifSize  UnifShape  MargAdh  SingEpiSize BareNuc  BlandChrom  \\\n",
       "0      5         1          1        1            2       1           3   \n",
       "1      5         4          4        5            7      10           3   \n",
       "2      3         1          1        1            2       2           3   \n",
       "3      6         8          8        1            3       4           3   \n",
       "4      4         1          1        3            2       1           3   \n",
       "\n",
       "   NormNucl  Mit  \n",
       "0         1    1  \n",
       "1         2    1  \n",
       "2         1    1  \n",
       "3         7    1  \n",
       "4         1    1  "
      ]
     },
     "execution_count": 35,
     "metadata": {},
     "output_type": "execute_result"
    }
   ],
   "source": [
    "X =  df[['Clump', 'UnifSize', 'UnifShape', 'MargAdh', 'SingEpiSize', 'BareNuc', 'BlandChrom', 'NormNucl', 'Mit']]\n",
    "\n",
    "X.head()"
   ]
  },
  {
   "cell_type": "markdown",
   "id": "eee81d6b",
   "metadata": {
    "papermill": {
     "duration": 0.032307,
     "end_time": "2022-06-25T08:08:04.111220",
     "exception": false,
     "start_time": "2022-06-25T08:08:04.078913",
     "status": "completed"
    },
    "tags": []
   },
   "source": [
    "We obtain the class labels:\n"
   ]
  },
  {
   "cell_type": "code",
   "execution_count": 36,
   "id": "3e1b60c3",
   "metadata": {
    "execution": {
     "iopub.execute_input": "2022-06-25T08:08:04.178350Z",
     "iopub.status.busy": "2022-06-25T08:08:04.177539Z",
     "iopub.status.idle": "2022-06-25T08:08:04.184767Z",
     "shell.execute_reply": "2022-06-25T08:08:04.183896Z"
    },
    "papermill": {
     "duration": 0.043117,
     "end_time": "2022-06-25T08:08:04.186749",
     "exception": false,
     "start_time": "2022-06-25T08:08:04.143632",
     "status": "completed"
    },
    "tags": []
   },
   "outputs": [
    {
     "data": {
      "text/plain": [
       "0    2\n",
       "1    2\n",
       "2    2\n",
       "3    2\n",
       "4    2\n",
       "Name: Class, dtype: int64"
      ]
     },
     "execution_count": 36,
     "metadata": {},
     "output_type": "execute_result"
    }
   ],
   "source": [
    "y=df['Class']\n",
    "y.head()"
   ]
  },
  {
   "cell_type": "markdown",
   "id": "a0930c33",
   "metadata": {
    "papermill": {
     "duration": 0.03251,
     "end_time": "2022-06-25T08:08:04.251955",
     "exception": false,
     "start_time": "2022-06-25T08:08:04.219445",
     "status": "completed"
    },
    "tags": []
   },
   "source": [
    "We split the data into training and testing sets.\n"
   ]
  },
  {
   "cell_type": "code",
   "execution_count": 37,
   "id": "f0558438",
   "metadata": {
    "execution": {
     "iopub.execute_input": "2022-06-25T08:08:04.319784Z",
     "iopub.status.busy": "2022-06-25T08:08:04.319039Z",
     "iopub.status.idle": "2022-06-25T08:08:04.329770Z",
     "shell.execute_reply": "2022-06-25T08:08:04.328197Z"
    },
    "papermill": {
     "duration": 0.047893,
     "end_time": "2022-06-25T08:08:04.332436",
     "exception": false,
     "start_time": "2022-06-25T08:08:04.284543",
     "status": "completed"
    },
    "tags": []
   },
   "outputs": [
    {
     "name": "stdout",
     "output_type": "stream",
     "text": [
      "Train set: (546, 9) (546,)\n",
      "Test set: (137, 9) (137,)\n"
     ]
    }
   ],
   "source": [
    "X_train, X_test, y_train, y_test = train_test_split( X, y, test_size=0.2, random_state=4)\n",
    "print ('Train set:', X_train.shape,  y_train.shape)\n",
    "print ('Test set:', X_test.shape,  y_test.shape)"
   ]
  },
  {
   "cell_type": "markdown",
   "id": "4e5b2389",
   "metadata": {
    "papermill": {
     "duration": 0.032466,
     "end_time": "2022-06-25T08:08:04.398037",
     "exception": false,
     "start_time": "2022-06-25T08:08:04.365571",
     "status": "completed"
    },
    "tags": []
   },
   "source": [
    "We use <code>GridSearchCV</code> to search over specified parameter values of the model.\n"
   ]
  },
  {
   "cell_type": "code",
   "execution_count": 38,
   "id": "139cc443",
   "metadata": {
    "execution": {
     "iopub.execute_input": "2022-06-25T08:08:04.465489Z",
     "iopub.status.busy": "2022-06-25T08:08:04.465079Z",
     "iopub.status.idle": "2022-06-25T08:08:04.469884Z",
     "shell.execute_reply": "2022-06-25T08:08:04.468801Z"
    },
    "papermill": {
     "duration": 0.041087,
     "end_time": "2022-06-25T08:08:04.471954",
     "exception": false,
     "start_time": "2022-06-25T08:08:04.430867",
     "status": "completed"
    },
    "tags": []
   },
   "outputs": [],
   "source": [
    "from sklearn.model_selection import GridSearchCV"
   ]
  },
  {
   "cell_type": "markdown",
   "id": "aa2470a4",
   "metadata": {
    "papermill": {
     "duration": 0.032835,
     "end_time": "2022-06-25T08:08:04.537889",
     "exception": false,
     "start_time": "2022-06-25T08:08:04.505054",
     "status": "completed"
    },
    "tags": []
   },
   "source": [
    "We create a <code>AdaBoost</code> object and list the parameters using the method <code>get_params()</code>:\n"
   ]
  },
  {
   "cell_type": "code",
   "execution_count": 39,
   "id": "ab185428",
   "metadata": {
    "execution": {
     "iopub.execute_input": "2022-06-25T08:08:04.609095Z",
     "iopub.status.busy": "2022-06-25T08:08:04.608115Z",
     "iopub.status.idle": "2022-06-25T08:08:04.615832Z",
     "shell.execute_reply": "2022-06-25T08:08:04.614868Z"
    },
    "papermill": {
     "duration": 0.044969,
     "end_time": "2022-06-25T08:08:04.618035",
     "exception": false,
     "start_time": "2022-06-25T08:08:04.573066",
     "status": "completed"
    },
    "tags": []
   },
   "outputs": [
    {
     "data": {
      "text/plain": [
       "dict_keys(['algorithm', 'base_estimator', 'learning_rate', 'n_estimators', 'random_state'])"
      ]
     },
     "execution_count": 39,
     "metadata": {},
     "output_type": "execute_result"
    }
   ],
   "source": [
    "model = AdaBoostClassifier()\n",
    "model.get_params().keys()"
   ]
  },
  {
   "cell_type": "markdown",
   "id": "5edcebef",
   "metadata": {
    "papermill": {
     "duration": 0.032519,
     "end_time": "2022-06-25T08:08:04.683511",
     "exception": false,
     "start_time": "2022-06-25T08:08:04.650992",
     "status": "completed"
    },
    "tags": []
   },
   "source": [
    "We can use GridSearch for Exhaustive search over specified parameter values. We see many of the parameters are similar to Classification trees; let's try different parameters for <code>learning_rate</code>, <code>n_estimators</code>, and <code>algorithm</code>.\n"
   ]
  },
  {
   "cell_type": "code",
   "execution_count": 40,
   "id": "c6cc2f8e",
   "metadata": {
    "execution": {
     "iopub.execute_input": "2022-06-25T08:08:04.750725Z",
     "iopub.status.busy": "2022-06-25T08:08:04.750328Z",
     "iopub.status.idle": "2022-06-25T08:08:04.759272Z",
     "shell.execute_reply": "2022-06-25T08:08:04.758214Z"
    },
    "papermill": {
     "duration": 0.045669,
     "end_time": "2022-06-25T08:08:04.761619",
     "exception": false,
     "start_time": "2022-06-25T08:08:04.715950",
     "status": "completed"
    },
    "tags": []
   },
   "outputs": [
    {
     "data": {
      "text/plain": [
       "{'learning_rate': [0.1,\n",
       "  0.2,\n",
       "  0.30000000000000004,\n",
       "  0.4,\n",
       "  0.5,\n",
       "  0.6000000000000001,\n",
       "  0.7000000000000001,\n",
       "  0.8,\n",
       "  0.9,\n",
       "  1.0],\n",
       " 'n_estimators': [1, 3, 5, 7, 9, 11, 13, 15, 17, 19],\n",
       " 'algorithm': ['SAMME', 'SAMME.R']}"
      ]
     },
     "execution_count": 40,
     "metadata": {},
     "output_type": "execute_result"
    }
   ],
   "source": [
    "param_grid = {'learning_rate': [0.1*(n+1) for n in range(10)],\n",
    "             'n_estimators' : [2*n+1 for n in range(10)],\n",
    "              'algorithm':['SAMME', 'SAMME.R']}                \n",
    "\n",
    "param_grid "
   ]
  },
  {
   "cell_type": "markdown",
   "id": "e5c57646",
   "metadata": {
    "papermill": {
     "duration": 0.032973,
     "end_time": "2022-06-25T08:08:04.827713",
     "exception": false,
     "start_time": "2022-06-25T08:08:04.794740",
     "status": "completed"
    },
    "tags": []
   },
   "source": [
    "We create the Grid Search object and fit it:\n"
   ]
  },
  {
   "cell_type": "code",
   "execution_count": 41,
   "id": "a3076ac2",
   "metadata": {
    "execution": {
     "iopub.execute_input": "2022-06-25T08:08:04.895329Z",
     "iopub.status.busy": "2022-06-25T08:08:04.894518Z",
     "iopub.status.idle": "2022-06-25T08:08:36.297692Z",
     "shell.execute_reply": "2022-06-25T08:08:36.296614Z"
    },
    "papermill": {
     "duration": 31.470025,
     "end_time": "2022-06-25T08:08:36.330427",
     "exception": false,
     "start_time": "2022-06-25T08:08:04.860402",
     "status": "completed"
    },
    "tags": []
   },
   "outputs": [
    {
     "data": {
      "text/plain": [
       "GridSearchCV(estimator=AdaBoostClassifier(),\n",
       "             param_grid={'algorithm': ['SAMME', 'SAMME.R'],\n",
       "                         'learning_rate': [0.1, 0.2, 0.30000000000000004, 0.4,\n",
       "                                           0.5, 0.6000000000000001,\n",
       "                                           0.7000000000000001, 0.8, 0.9, 1.0],\n",
       "                         'n_estimators': [1, 3, 5, 7, 9, 11, 13, 15, 17, 19]},\n",
       "             scoring='accuracy')"
      ]
     },
     "execution_count": 41,
     "metadata": {},
     "output_type": "execute_result"
    }
   ],
   "source": [
    "search = GridSearchCV(estimator=model, param_grid=param_grid,scoring='accuracy')\n",
    "search.fit(X_train, y_train)"
   ]
  },
  {
   "cell_type": "markdown",
   "id": "7461f884",
   "metadata": {
    "papermill": {
     "duration": 0.032691,
     "end_time": "2022-06-25T08:08:36.396046",
     "exception": false,
     "start_time": "2022-06-25T08:08:36.363355",
     "status": "completed"
    },
    "tags": []
   },
   "source": [
    "We can see the best accuracy score of the searched parameters was \\~96%.\n"
   ]
  },
  {
   "cell_type": "code",
   "execution_count": 42,
   "id": "a88784a0",
   "metadata": {
    "execution": {
     "iopub.execute_input": "2022-06-25T08:08:36.464359Z",
     "iopub.status.busy": "2022-06-25T08:08:36.463186Z",
     "iopub.status.idle": "2022-06-25T08:08:36.470589Z",
     "shell.execute_reply": "2022-06-25T08:08:36.469714Z"
    },
    "papermill": {
     "duration": 0.04391,
     "end_time": "2022-06-25T08:08:36.472729",
     "exception": false,
     "start_time": "2022-06-25T08:08:36.428819",
     "status": "completed"
    },
    "tags": []
   },
   "outputs": [
    {
     "data": {
      "text/plain": [
       "0.9689074228523771"
      ]
     },
     "execution_count": 42,
     "metadata": {},
     "output_type": "execute_result"
    }
   ],
   "source": [
    "search.best_score_"
   ]
  },
  {
   "cell_type": "markdown",
   "id": "58bd764c",
   "metadata": {
    "papermill": {
     "duration": 0.033162,
     "end_time": "2022-06-25T08:08:36.539231",
     "exception": false,
     "start_time": "2022-06-25T08:08:36.506069",
     "status": "completed"
    },
    "tags": []
   },
   "source": [
    "The best parameter values are:\n"
   ]
  },
  {
   "cell_type": "code",
   "execution_count": 43,
   "id": "9317c2e6",
   "metadata": {
    "execution": {
     "iopub.execute_input": "2022-06-25T08:08:36.608544Z",
     "iopub.status.busy": "2022-06-25T08:08:36.607809Z",
     "iopub.status.idle": "2022-06-25T08:08:36.614467Z",
     "shell.execute_reply": "2022-06-25T08:08:36.613626Z"
    },
    "papermill": {
     "duration": 0.043691,
     "end_time": "2022-06-25T08:08:36.616578",
     "exception": false,
     "start_time": "2022-06-25T08:08:36.572887",
     "status": "completed"
    },
    "tags": []
   },
   "outputs": [
    {
     "data": {
      "text/plain": [
       "{'algorithm': 'SAMME.R', 'learning_rate': 0.5, 'n_estimators': 17}"
      ]
     },
     "execution_count": 43,
     "metadata": {},
     "output_type": "execute_result"
    }
   ],
   "source": [
    "search.best_params_"
   ]
  },
  {
   "cell_type": "markdown",
   "id": "bfa1d9a8",
   "metadata": {
    "papermill": {
     "duration": 0.033235,
     "end_time": "2022-06-25T08:08:36.683689",
     "exception": false,
     "start_time": "2022-06-25T08:08:36.650454",
     "status": "completed"
    },
    "tags": []
   },
   "source": [
    "We can calculate accuracy on the test data using the test data:\n"
   ]
  },
  {
   "cell_type": "code",
   "execution_count": 44,
   "id": "800f90f1",
   "metadata": {
    "execution": {
     "iopub.execute_input": "2022-06-25T08:08:36.752058Z",
     "iopub.status.busy": "2022-06-25T08:08:36.751683Z",
     "iopub.status.idle": "2022-06-25T08:08:36.781841Z",
     "shell.execute_reply": "2022-06-25T08:08:36.780620Z"
    },
    "papermill": {
     "duration": 0.066834,
     "end_time": "2022-06-25T08:08:36.783967",
     "exception": false,
     "start_time": "2022-06-25T08:08:36.717133",
     "status": "completed"
    },
    "tags": []
   },
   "outputs": [
    {
     "name": "stdout",
     "output_type": "stream",
     "text": [
      "{'test Accuracy': 0.9708029197080292, 'trian Accuracy': 0.9725274725274725}\n"
     ]
    }
   ],
   "source": [
    "\n",
    "print(get_accuracy(X_train, X_test, y_train, y_test, search.best_estimator_))"
   ]
  },
  {
   "cell_type": "markdown",
   "id": "81a465e2",
   "metadata": {
    "papermill": {
     "duration": 0.033256,
     "end_time": "2022-06-25T08:08:36.850982",
     "exception": false,
     "start_time": "2022-06-25T08:08:36.817726",
     "status": "completed"
    },
    "tags": []
   },
   "source": [
    "<h2 id=\"practice\">Practice</h2>\n"
   ]
  },
  {
   "cell_type": "markdown",
   "id": "6e5fa18b",
   "metadata": {
    "papermill": {
     "duration": 0.033016,
     "end_time": "2022-06-25T08:08:36.917257",
     "exception": false,
     "start_time": "2022-06-25T08:08:36.884241",
     "status": "completed"
    },
    "tags": []
   },
   "source": [
    "Imagine that you are a medical researcher compiling data for a study. You have collected data about a set of patients, all of whom suffered from the same illness. During their course of treatment, each patient responded to one of 5 medications, Drug A, Drug B, Drug c, Drug x and y.\n",
    "\n",
    "Part of your job is to build a model to find out which drug might be appropriate for a future patient with the same illness. The features of this dataset are Age, Sex, Blood Pressure, and the Cholesterol of the patients, and the target is the drug that each patient responded to.\n",
    "\n",
    "It is a sample of multiclass classifier, and you can use the training part of the dataset to build a decision tree, and then use it to predict the class of a unknown patient, or to prescribe a drug to a new patient.\n"
   ]
  },
  {
   "cell_type": "code",
   "execution_count": 45,
   "id": "d72a6990",
   "metadata": {
    "execution": {
     "iopub.execute_input": "2022-06-25T08:08:36.986232Z",
     "iopub.status.busy": "2022-06-25T08:08:36.985873Z",
     "iopub.status.idle": "2022-06-25T08:08:37.357811Z",
     "shell.execute_reply": "2022-06-25T08:08:37.356668Z"
    },
    "papermill": {
     "duration": 0.40933,
     "end_time": "2022-06-25T08:08:37.360322",
     "exception": false,
     "start_time": "2022-06-25T08:08:36.950992",
     "status": "completed"
    },
    "tags": []
   },
   "outputs": [
    {
     "data": {
      "text/html": [
       "<div>\n",
       "<style scoped>\n",
       "    .dataframe tbody tr th:only-of-type {\n",
       "        vertical-align: middle;\n",
       "    }\n",
       "\n",
       "    .dataframe tbody tr th {\n",
       "        vertical-align: top;\n",
       "    }\n",
       "\n",
       "    .dataframe thead th {\n",
       "        text-align: right;\n",
       "    }\n",
       "</style>\n",
       "<table border=\"1\" class=\"dataframe\">\n",
       "  <thead>\n",
       "    <tr style=\"text-align: right;\">\n",
       "      <th></th>\n",
       "      <th>Age</th>\n",
       "      <th>Sex</th>\n",
       "      <th>BP</th>\n",
       "      <th>Cholesterol</th>\n",
       "      <th>Na_to_K</th>\n",
       "      <th>Drug</th>\n",
       "    </tr>\n",
       "  </thead>\n",
       "  <tbody>\n",
       "    <tr>\n",
       "      <th>0</th>\n",
       "      <td>23</td>\n",
       "      <td>F</td>\n",
       "      <td>HIGH</td>\n",
       "      <td>HIGH</td>\n",
       "      <td>25.355</td>\n",
       "      <td>drugY</td>\n",
       "    </tr>\n",
       "    <tr>\n",
       "      <th>1</th>\n",
       "      <td>47</td>\n",
       "      <td>M</td>\n",
       "      <td>LOW</td>\n",
       "      <td>HIGH</td>\n",
       "      <td>13.093</td>\n",
       "      <td>drugC</td>\n",
       "    </tr>\n",
       "    <tr>\n",
       "      <th>2</th>\n",
       "      <td>47</td>\n",
       "      <td>M</td>\n",
       "      <td>LOW</td>\n",
       "      <td>HIGH</td>\n",
       "      <td>10.114</td>\n",
       "      <td>drugC</td>\n",
       "    </tr>\n",
       "    <tr>\n",
       "      <th>3</th>\n",
       "      <td>28</td>\n",
       "      <td>F</td>\n",
       "      <td>NORMAL</td>\n",
       "      <td>HIGH</td>\n",
       "      <td>7.798</td>\n",
       "      <td>drugX</td>\n",
       "    </tr>\n",
       "    <tr>\n",
       "      <th>4</th>\n",
       "      <td>61</td>\n",
       "      <td>F</td>\n",
       "      <td>LOW</td>\n",
       "      <td>HIGH</td>\n",
       "      <td>18.043</td>\n",
       "      <td>drugY</td>\n",
       "    </tr>\n",
       "  </tbody>\n",
       "</table>\n",
       "</div>"
      ],
      "text/plain": [
       "   Age Sex      BP Cholesterol  Na_to_K   Drug\n",
       "0   23   F    HIGH        HIGH   25.355  drugY\n",
       "1   47   M     LOW        HIGH   13.093  drugC\n",
       "2   47   M     LOW        HIGH   10.114  drugC\n",
       "3   28   F  NORMAL        HIGH    7.798  drugX\n",
       "4   61   F     LOW        HIGH   18.043  drugY"
      ]
     },
     "execution_count": 45,
     "metadata": {},
     "output_type": "execute_result"
    }
   ],
   "source": [
    "df = pd.read_csv(\"https://cf-courses-data.s3.us.cloud-object-storage.appdomain.cloud/IBMDeveloperSkillsNetwork-ML0101EN-SkillsNetwork/labs/Module%203/data/drug200.csv\", delimiter=\",\")\n",
    "df.head()"
   ]
  },
  {
   "cell_type": "markdown",
   "id": "6f958667",
   "metadata": {
    "papermill": {
     "duration": 0.033286,
     "end_time": "2022-06-25T08:08:37.427707",
     "exception": false,
     "start_time": "2022-06-25T08:08:37.394421",
     "status": "completed"
    },
    "tags": []
   },
   "source": [
    "Let's create the X and y for our dataset:\n"
   ]
  },
  {
   "cell_type": "code",
   "execution_count": 46,
   "id": "ecfcc4c3",
   "metadata": {
    "execution": {
     "iopub.execute_input": "2022-06-25T08:08:37.496877Z",
     "iopub.status.busy": "2022-06-25T08:08:37.496239Z",
     "iopub.status.idle": "2022-06-25T08:08:37.504507Z",
     "shell.execute_reply": "2022-06-25T08:08:37.503627Z"
    },
    "papermill": {
     "duration": 0.045284,
     "end_time": "2022-06-25T08:08:37.506543",
     "exception": false,
     "start_time": "2022-06-25T08:08:37.461259",
     "status": "completed"
    },
    "tags": []
   },
   "outputs": [
    {
     "data": {
      "text/plain": [
       "array([[23, 'F', 'HIGH', 'HIGH', 25.355],\n",
       "       [47, 'M', 'LOW', 'HIGH', 13.093],\n",
       "       [47, 'M', 'LOW', 'HIGH', 10.114],\n",
       "       [28, 'F', 'NORMAL', 'HIGH', 7.798],\n",
       "       [61, 'F', 'LOW', 'HIGH', 18.043]], dtype=object)"
      ]
     },
     "execution_count": 46,
     "metadata": {},
     "output_type": "execute_result"
    }
   ],
   "source": [
    "X = df[['Age', 'Sex', 'BP', 'Cholesterol', 'Na_to_K']].values\n",
    "X[0:5]"
   ]
  },
  {
   "cell_type": "code",
   "execution_count": 47,
   "id": "d65180aa",
   "metadata": {
    "execution": {
     "iopub.execute_input": "2022-06-25T08:08:37.577489Z",
     "iopub.status.busy": "2022-06-25T08:08:37.576889Z",
     "iopub.status.idle": "2022-06-25T08:08:37.584872Z",
     "shell.execute_reply": "2022-06-25T08:08:37.583910Z"
    },
    "papermill": {
     "duration": 0.046349,
     "end_time": "2022-06-25T08:08:37.586929",
     "exception": false,
     "start_time": "2022-06-25T08:08:37.540580",
     "status": "completed"
    },
    "tags": []
   },
   "outputs": [
    {
     "data": {
      "text/plain": [
       "0    drugY\n",
       "1    drugC\n",
       "2    drugC\n",
       "3    drugX\n",
       "4    drugY\n",
       "Name: Drug, dtype: object"
      ]
     },
     "execution_count": 47,
     "metadata": {},
     "output_type": "execute_result"
    }
   ],
   "source": [
    "y = df[\"Drug\"]\n",
    "y[0:5]"
   ]
  },
  {
   "cell_type": "markdown",
   "id": "7475841d",
   "metadata": {
    "papermill": {
     "duration": 0.034432,
     "end_time": "2022-06-25T08:08:37.656130",
     "exception": false,
     "start_time": "2022-06-25T08:08:37.621698",
     "status": "completed"
    },
    "tags": []
   },
   "source": [
    "Now lets use a <code>LabelEncoder</code> to turn categorical features into numerical:\n"
   ]
  },
  {
   "cell_type": "code",
   "execution_count": 48,
   "id": "1314d7d4",
   "metadata": {
    "execution": {
     "iopub.execute_input": "2022-06-25T08:08:37.726996Z",
     "iopub.status.busy": "2022-06-25T08:08:37.726230Z",
     "iopub.status.idle": "2022-06-25T08:08:37.736687Z",
     "shell.execute_reply": "2022-06-25T08:08:37.735922Z"
    },
    "papermill": {
     "duration": 0.048224,
     "end_time": "2022-06-25T08:08:37.738650",
     "exception": false,
     "start_time": "2022-06-25T08:08:37.690426",
     "status": "completed"
    },
    "tags": []
   },
   "outputs": [
    {
     "data": {
      "text/plain": [
       "array([[23, 0, 0, 0, 25.355],\n",
       "       [47, 1, 1, 0, 13.093],\n",
       "       [47, 1, 1, 0, 10.114],\n",
       "       [28, 0, 2, 0, 7.798],\n",
       "       [61, 0, 1, 0, 18.043]], dtype=object)"
      ]
     },
     "execution_count": 48,
     "metadata": {},
     "output_type": "execute_result"
    }
   ],
   "source": [
    "from sklearn import preprocessing\n",
    "le_sex = preprocessing.LabelEncoder()\n",
    "le_sex.fit(['F','M'])\n",
    "X[:,1] = le_sex.transform(X[:,1]) \n",
    "\n",
    "\n",
    "le_BP = preprocessing.LabelEncoder()\n",
    "le_BP.fit([ 'LOW', 'NORMAL', 'HIGH'])\n",
    "X[:,2] = le_BP.transform(X[:,2])\n",
    "\n",
    "\n",
    "le_Chol = preprocessing.LabelEncoder()\n",
    "le_Chol.fit([ 'NORMAL', 'HIGH'])\n",
    "X[:,3] = le_Chol.transform(X[:,3]) \n",
    "\n",
    "X[0:5]"
   ]
  },
  {
   "cell_type": "markdown",
   "id": "3b88c65c",
   "metadata": {
    "papermill": {
     "duration": 0.033882,
     "end_time": "2022-06-25T08:08:37.806923",
     "exception": false,
     "start_time": "2022-06-25T08:08:37.773041",
     "status": "completed"
    },
    "tags": []
   },
   "source": [
    "Split the data into training and testing data with a 80/20 split.\n"
   ]
  },
  {
   "cell_type": "code",
   "execution_count": 49,
   "id": "f6587ea6",
   "metadata": {
    "execution": {
     "iopub.execute_input": "2022-06-25T08:08:37.877142Z",
     "iopub.status.busy": "2022-06-25T08:08:37.876457Z",
     "iopub.status.idle": "2022-06-25T08:08:37.883447Z",
     "shell.execute_reply": "2022-06-25T08:08:37.882498Z"
    },
    "papermill": {
     "duration": 0.044594,
     "end_time": "2022-06-25T08:08:37.885660",
     "exception": false,
     "start_time": "2022-06-25T08:08:37.841066",
     "status": "completed"
    },
    "tags": []
   },
   "outputs": [
    {
     "name": "stdout",
     "output_type": "stream",
     "text": [
      "Train set: (160, 5) (160,)\n",
      "Test set: (40, 5) (40,)\n"
     ]
    }
   ],
   "source": [
    "X_train, X_test, y_train, y_test = train_test_split( X, y, test_size=0.2, random_state=4)\n",
    "print ('Train set:', X_train.shape,  y_train.shape)\n",
    "print ('Test set:', X_test.shape,  y_test.shape)"
   ]
  },
  {
   "cell_type": "markdown",
   "id": "10889fc9",
   "metadata": {
    "papermill": {
     "duration": 0.034607,
     "end_time": "2022-06-25T08:08:37.955015",
     "exception": false,
     "start_time": "2022-06-25T08:08:37.920408",
     "status": "completed"
    },
    "tags": []
   },
   "source": [
    "We can use GridSearch for Exhaustive search over specified parameter values.\n"
   ]
  },
  {
   "cell_type": "code",
   "execution_count": 50,
   "id": "2dff09c0",
   "metadata": {
    "execution": {
     "iopub.execute_input": "2022-06-25T08:08:38.027097Z",
     "iopub.status.busy": "2022-06-25T08:08:38.026414Z",
     "iopub.status.idle": "2022-06-25T08:08:38.034044Z",
     "shell.execute_reply": "2022-06-25T08:08:38.033056Z"
    },
    "papermill": {
     "duration": 0.045701,
     "end_time": "2022-06-25T08:08:38.036160",
     "exception": false,
     "start_time": "2022-06-25T08:08:37.990459",
     "status": "completed"
    },
    "tags": []
   },
   "outputs": [
    {
     "data": {
      "text/plain": [
       "{'learning_rate': [0.1,\n",
       "  0.2,\n",
       "  0.30000000000000004,\n",
       "  0.4,\n",
       "  0.5,\n",
       "  0.6000000000000001,\n",
       "  0.7000000000000001,\n",
       "  0.8,\n",
       "  0.9,\n",
       "  1.0],\n",
       " 'n_estimators': [1, 3, 5, 7, 9, 11, 13, 15, 17, 19],\n",
       " 'algorithm': ['SAMME', 'SAMME.R']}"
      ]
     },
     "execution_count": 50,
     "metadata": {},
     "output_type": "execute_result"
    }
   ],
   "source": [
    "param_grid = {'learning_rate': [0.1*(n+1) for n in range(10)],\n",
    "             'n_estimators' : [2*n+1 for n in range(10)],\n",
    "              'algorithm':['SAMME', 'SAMME.R']}                \n",
    "\n",
    "param_grid \n"
   ]
  },
  {
   "cell_type": "markdown",
   "id": "5131d261",
   "metadata": {
    "papermill": {
     "duration": 0.035251,
     "end_time": "2022-06-25T08:08:38.107010",
     "exception": false,
     "start_time": "2022-06-25T08:08:38.071759",
     "status": "completed"
    },
    "tags": []
   },
   "source": [
    "Create a <code>AdaBoostClassifier</code> object called <code>model</code> :\n"
   ]
  },
  {
   "cell_type": "code",
   "execution_count": 51,
   "id": "8093e3b7",
   "metadata": {
    "execution": {
     "iopub.execute_input": "2022-06-25T08:08:38.179661Z",
     "iopub.status.busy": "2022-06-25T08:08:38.179235Z",
     "iopub.status.idle": "2022-06-25T08:08:38.184009Z",
     "shell.execute_reply": "2022-06-25T08:08:38.182930Z"
    },
    "papermill": {
     "duration": 0.043861,
     "end_time": "2022-06-25T08:08:38.186064",
     "exception": false,
     "start_time": "2022-06-25T08:08:38.142203",
     "status": "completed"
    },
    "tags": []
   },
   "outputs": [],
   "source": [
    "model = AdaBoostClassifier()"
   ]
  },
  {
   "cell_type": "markdown",
   "id": "0f956560",
   "metadata": {
    "papermill": {
     "duration": 0.034714,
     "end_time": "2022-06-25T08:08:38.255894",
     "exception": false,
     "start_time": "2022-06-25T08:08:38.221180",
     "status": "completed"
    },
    "tags": []
   },
   "source": [
    "<details><summary>Click here for the solution</summary>\n",
    "\n",
    "```python\n",
    "model = RandomForestClassifier()\n",
    "\n",
    "```\n",
    "\n",
    "</details>\n"
   ]
  },
  {
   "cell_type": "markdown",
   "id": "6020b163",
   "metadata": {
    "papermill": {
     "duration": 0.0347,
     "end_time": "2022-06-25T08:08:38.325628",
     "exception": false,
     "start_time": "2022-06-25T08:08:38.290928",
     "status": "completed"
    },
    "tags": []
   },
   "source": [
    "Create <code>GridSearchCV</code> object called `search` with the `estimator` set to <code>model</code>, <code>param_grid</code> set to <code>param_grid</code>, <code>scoring</code> set to <code>accuracy</code>, and <code>cv</code> set to 3 and Fit the <code>GridSearchCV</code> object to our <code>X_train</code> and <code>y_train</code> data.\n"
   ]
  },
  {
   "cell_type": "code",
   "execution_count": 52,
   "id": "49c09325",
   "metadata": {
    "execution": {
     "iopub.execute_input": "2022-06-25T08:08:38.397918Z",
     "iopub.status.busy": "2022-06-25T08:08:38.397243Z",
     "iopub.status.idle": "2022-06-25T08:08:50.477484Z",
     "shell.execute_reply": "2022-06-25T08:08:50.476203Z"
    },
    "papermill": {
     "duration": 12.119591,
     "end_time": "2022-06-25T08:08:50.480078",
     "exception": false,
     "start_time": "2022-06-25T08:08:38.360487",
     "status": "completed"
    },
    "tags": []
   },
   "outputs": [
    {
     "data": {
      "text/plain": [
       "GridSearchCV(cv=3, estimator=AdaBoostClassifier(),\n",
       "             param_grid={'algorithm': ['SAMME', 'SAMME.R'],\n",
       "                         'learning_rate': [0.1, 0.2, 0.30000000000000004, 0.4,\n",
       "                                           0.5, 0.6000000000000001,\n",
       "                                           0.7000000000000001, 0.8, 0.9, 1.0],\n",
       "                         'n_estimators': [1, 3, 5, 7, 9, 11, 13, 15, 17, 19]},\n",
       "             scoring='accuracy')"
      ]
     },
     "execution_count": 52,
     "metadata": {},
     "output_type": "execute_result"
    }
   ],
   "source": [
    "search = GridSearchCV(estimator=model, param_grid=param_grid,scoring='accuracy', cv=3)\n",
    "search.fit(X_train, y_train)"
   ]
  },
  {
   "cell_type": "markdown",
   "id": "8a97c85f",
   "metadata": {
    "papermill": {
     "duration": 0.036894,
     "end_time": "2022-06-25T08:08:50.553069",
     "exception": false,
     "start_time": "2022-06-25T08:08:50.516175",
     "status": "completed"
    },
    "tags": []
   },
   "source": [
    "<details><summary>Click here for the solution</summary>\n",
    "\n",
    "```python\n",
    "search = GridSearchCV(estimator=model, param_grid=param_grid,scoring='accuracy', cv=3)\n",
    "search.fit(X_train, y_train)\n",
    "\n",
    "```\n",
    "\n",
    "</details>\n"
   ]
  },
  {
   "cell_type": "markdown",
   "id": "e028ff3f",
   "metadata": {
    "papermill": {
     "duration": 0.036989,
     "end_time": "2022-06-25T08:08:50.628537",
     "exception": false,
     "start_time": "2022-06-25T08:08:50.591548",
     "status": "completed"
    },
    "tags": []
   },
   "source": [
    "We can find the accuracy of the best model.\n"
   ]
  },
  {
   "cell_type": "code",
   "execution_count": 53,
   "id": "32c83705",
   "metadata": {
    "execution": {
     "iopub.execute_input": "2022-06-25T08:08:50.707632Z",
     "iopub.status.busy": "2022-06-25T08:08:50.707025Z",
     "iopub.status.idle": "2022-06-25T08:08:50.714012Z",
     "shell.execute_reply": "2022-06-25T08:08:50.712961Z"
    },
    "papermill": {
     "duration": 0.047936,
     "end_time": "2022-06-25T08:08:50.716291",
     "exception": false,
     "start_time": "2022-06-25T08:08:50.668355",
     "status": "completed"
    },
    "tags": []
   },
   "outputs": [
    {
     "data": {
      "text/plain": [
       "0.8625669694852084"
      ]
     },
     "execution_count": 53,
     "metadata": {},
     "output_type": "execute_result"
    }
   ],
   "source": [
    "search.best_score_"
   ]
  },
  {
   "cell_type": "markdown",
   "id": "81784979",
   "metadata": {
    "papermill": {
     "duration": 0.038491,
     "end_time": "2022-06-25T08:08:50.792287",
     "exception": false,
     "start_time": "2022-06-25T08:08:50.753796",
     "status": "completed"
    },
    "tags": []
   },
   "source": [
    "We can find the best parameter values:\n"
   ]
  },
  {
   "cell_type": "code",
   "execution_count": 54,
   "id": "02c8fb9b",
   "metadata": {
    "execution": {
     "iopub.execute_input": "2022-06-25T08:08:50.869818Z",
     "iopub.status.busy": "2022-06-25T08:08:50.868949Z",
     "iopub.status.idle": "2022-06-25T08:08:50.876103Z",
     "shell.execute_reply": "2022-06-25T08:08:50.874999Z"
    },
    "papermill": {
     "duration": 0.048452,
     "end_time": "2022-06-25T08:08:50.878759",
     "exception": false,
     "start_time": "2022-06-25T08:08:50.830307",
     "status": "completed"
    },
    "tags": []
   },
   "outputs": [
    {
     "data": {
      "text/plain": [
       "{'algorithm': 'SAMME', 'learning_rate': 0.9, 'n_estimators': 7}"
      ]
     },
     "execution_count": 54,
     "metadata": {},
     "output_type": "execute_result"
    }
   ],
   "source": [
    "search.best_params_"
   ]
  },
  {
   "cell_type": "markdown",
   "id": "50379664",
   "metadata": {
    "papermill": {
     "duration": 0.03767,
     "end_time": "2022-06-25T08:08:50.954249",
     "exception": false,
     "start_time": "2022-06-25T08:08:50.916579",
     "status": "completed"
    },
    "tags": []
   },
   "source": [
    "We can find the accuracy test data:\n"
   ]
  },
  {
   "cell_type": "markdown",
   "id": "d019e01c",
   "metadata": {
    "papermill": {
     "duration": 0.037466,
     "end_time": "2022-06-25T08:08:51.029967",
     "exception": false,
     "start_time": "2022-06-25T08:08:50.992501",
     "status": "completed"
    },
    "tags": []
   },
   "source": [
    "<details><summary>Click here for the solution</summary>\n",
    "\n",
    "```python\n",
    "print(get_accuracy(X_train, X_test, y_train, y_test, search.best_estimator_))\n",
    "```\n",
    "\n",
    "</details>\n"
   ]
  },
  {
   "cell_type": "code",
   "execution_count": 55,
   "id": "62515e06",
   "metadata": {
    "execution": {
     "iopub.execute_input": "2022-06-25T08:08:51.107820Z",
     "iopub.status.busy": "2022-06-25T08:08:51.107067Z",
     "iopub.status.idle": "2022-06-25T08:08:51.117932Z",
     "shell.execute_reply": "2022-06-25T08:08:51.116602Z"
    },
    "papermill": {
     "duration": 0.053196,
     "end_time": "2022-06-25T08:08:51.120340",
     "exception": false,
     "start_time": "2022-06-25T08:08:51.067144",
     "status": "completed"
    },
    "tags": []
   },
   "outputs": [
    {
     "name": "stdout",
     "output_type": "stream",
     "text": [
      "{'test Accuracy': 0.775, 'trian Accuracy': 0.85}\n"
     ]
    }
   ],
   "source": [
    "print(get_accuracy(X_train, X_test, y_train, y_test, search.best_estimator_))"
   ]
  },
  {
   "cell_type": "markdown",
   "id": "71e1899e",
   "metadata": {
    "papermill": {
     "duration": 0.037197,
     "end_time": "2022-06-25T08:08:51.195517",
     "exception": false,
     "start_time": "2022-06-25T08:08:51.158320",
     "status": "completed"
    },
    "tags": []
   },
   "source": [
    "### Thank you for completing this lab!\n",
    "\n",
    "## Author\n",
    "\n",
    "<a href=\"https://www.linkedin.com/in/joseph-s-50398b136/?utm_medium=Exinfluencer&utm_source=Exinfluencer&utm_content=000026UJ&utm_term=10006555&utm_id=NA-SkillsNetwork-Channel-SkillsNetworkCoursesIBMDeveloperSkillsNetworkML0101ENSkillsNetwork20718538-2021-01-01\" target=\"_blank\">Joseph Santarcangelo</a>\n",
    "\n",
    "### Other Contributors\n",
    "\n",
    "<a href=\"https://www.linkedin.com/in/richard-ye/?utm_medium=Exinfluencer&utm_source=Exinfluencer&utm_content=000026UJ&utm_term=10006555&utm_id=NA-SkillsNetwork-Channel-SkillsNetworkCoursesIBMDeveloperSkillsNetworkML0101ENSkillsNetwork20718538-2021-01-01\" target=\"_blank\">Richard Ye</a>\n",
    "\n",
    "## Change Log\n",
    "\n",
    "| Date (YYYY-MM-DD) | Version | Changed By           | Change Description   |\n",
    "| ----------------- | ------- | -------------------- | -------------------- |\n",
    "| 2020-11-27        | 0.1     | Joseph Santarcangelo | Created Lab Template |\n",
    "| 2022-2-8          | 0.2     | Steve Hord           | QA pass              |\n",
    "| 2022-05-03        | 0.3     | Richard Ye           | Fixed spelling/HTML  |\n",
    "\n",
    "## <h3 align=\"center\"> © IBM Corporation 2020. All rights reserved. <h3/>\n"
   ]
  }
 ],
 "metadata": {
  "kernelspec": {
   "display_name": "Python 3",
   "language": "python",
   "name": "python3"
  },
  "language_info": {
   "codemirror_mode": {
    "name": "ipython",
    "version": 3
   },
   "file_extension": ".py",
   "mimetype": "text/x-python",
   "name": "python",
   "nbconvert_exporter": "python",
   "pygments_lexer": "ipython3",
   "version": "3.7.12"
  },
  "papermill": {
   "default_parameters": {},
   "duration": 1066.524948,
   "end_time": "2022-06-25T08:08:51.955121",
   "environment_variables": {},
   "exception": null,
   "input_path": "__notebook__.ipynb",
   "output_path": "__notebook__.ipynb",
   "parameters": {},
   "start_time": "2022-06-25T07:51:05.430173",
   "version": "2.3.4"
  }
 },
 "nbformat": 4,
 "nbformat_minor": 5
}
