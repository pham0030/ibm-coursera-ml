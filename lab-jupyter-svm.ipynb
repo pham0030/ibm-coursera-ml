{
 "cells": [
  {
   "cell_type": "markdown",
   "id": "6d8417c5",
   "metadata": {
    "papermill": {
     "duration": 0.027735,
     "end_time": "2022-07-05T06:53:38.640150",
     "exception": false,
     "start_time": "2022-07-05T06:53:38.612415",
     "status": "completed"
    },
    "tags": []
   },
   "source": [
    "<p style=\"text-align:center\">\n",
    "    <a href=\"https://skills.network/?utm_medium=Exinfluencer&utm_source=Exinfluencer&utm_content=000026UJ&utm_term=10006555&utm_id=NA-SkillsNetwork-Channel-SkillsNetworkCoursesIBMML241ENSkillsNetwork31576874-2022-01-01\" target=\"_blank\">\n",
    "    <img src=\"https://cf-courses-data.s3.us.cloud-object-storage.appdomain.cloud/assets/logos/SN_web_lightmode.png\" width=\"200\" alt=\"Skills Network Logo\"  />\n",
    "    </a>\n",
    "</p>\n"
   ]
  },
  {
   "cell_type": "markdown",
   "id": "38042d7c",
   "metadata": {
    "papermill": {
     "duration": 0.023364,
     "end_time": "2022-07-05T06:53:38.687770",
     "exception": false,
     "start_time": "2022-07-05T06:53:38.664406",
     "status": "completed"
    },
    "tags": []
   },
   "source": [
    "# **Support Vector Machine**\n"
   ]
  },
  {
   "cell_type": "markdown",
   "id": "d2ec9990",
   "metadata": {
    "papermill": {
     "duration": 0.0235,
     "end_time": "2022-07-05T06:53:38.735319",
     "exception": false,
     "start_time": "2022-07-05T06:53:38.711819",
     "status": "completed"
    },
    "tags": []
   },
   "source": [
    "Estimated time needed: **30** minutes\n"
   ]
  },
  {
   "cell_type": "markdown",
   "id": "3a3b942f",
   "metadata": {
    "papermill": {
     "duration": 0.024189,
     "end_time": "2022-07-05T06:53:38.783061",
     "exception": false,
     "start_time": "2022-07-05T06:53:38.758872",
     "status": "completed"
    },
    "tags": []
   },
   "source": [
    "In this lab, you will learn and obtain hands-on practices on Support Vector Machine model.\n"
   ]
  },
  {
   "cell_type": "markdown",
   "id": "2a1e8720",
   "metadata": {
    "papermill": {
     "duration": 0.023472,
     "end_time": "2022-07-05T06:53:38.832231",
     "exception": false,
     "start_time": "2022-07-05T06:53:38.808759",
     "status": "completed"
    },
    "tags": []
   },
   "source": [
    "We will be using a real-world diabetes food items suggestion dataset, which contains detailed nutrition information about a food item. The objective is to classify what food a diabetic patient should choose More Often or Less Often for a specific food item given its nutrients.\n"
   ]
  },
  {
   "cell_type": "markdown",
   "id": "0fbd8f05",
   "metadata": {
    "papermill": {
     "duration": 0.024805,
     "end_time": "2022-07-05T06:53:38.881985",
     "exception": false,
     "start_time": "2022-07-05T06:53:38.857180",
     "status": "completed"
    },
    "tags": []
   },
   "source": [
    "## Objectives\n"
   ]
  },
  {
   "cell_type": "markdown",
   "id": "26b6e77c",
   "metadata": {
    "papermill": {
     "duration": 0.022966,
     "end_time": "2022-07-05T06:53:38.929506",
     "exception": false,
     "start_time": "2022-07-05T06:53:38.906540",
     "status": "completed"
    },
    "tags": []
   },
   "source": [
    "After completing this lab you will be able to:\n"
   ]
  },
  {
   "cell_type": "markdown",
   "id": "e3c5523e",
   "metadata": {
    "papermill": {
     "duration": 0.023603,
     "end_time": "2022-07-05T06:53:38.977326",
     "exception": false,
     "start_time": "2022-07-05T06:53:38.953723",
     "status": "completed"
    },
    "tags": []
   },
   "source": [
    "*   Train and evaluate SVM classifiers\n",
    "*   Tune important SVM hyperparameters such as regularization and kernel types\n",
    "*   Plot hyperplanes and margins from trained SVM models\n"
   ]
  },
  {
   "cell_type": "markdown",
   "id": "ea2ed487",
   "metadata": {
    "papermill": {
     "duration": 0.025358,
     "end_time": "2022-07-05T06:53:39.031344",
     "exception": false,
     "start_time": "2022-07-05T06:53:39.005986",
     "status": "completed"
    },
    "tags": []
   },
   "source": [
    "## SVM Overview\n"
   ]
  },
  {
   "cell_type": "markdown",
   "id": "fe07029c",
   "metadata": {
    "papermill": {
     "duration": 0.025215,
     "end_time": "2022-07-05T06:53:39.079953",
     "exception": false,
     "start_time": "2022-07-05T06:53:39.054738",
     "status": "completed"
    },
    "tags": []
   },
   "source": [
    "SVM tries to find hyperplanes that have the maximum margin. The hyperplanes are determined by support vectors (data points have the smallest distance to the hyperplanes). Meanwhile, in order to reduce model variance, the SVM model aims to find the maximum possible margins so that unseen data will be more likely to be classified correctly.\n"
   ]
  },
  {
   "cell_type": "markdown",
   "id": "18b8545e",
   "metadata": {
    "papermill": {
     "duration": 0.023006,
     "end_time": "2022-07-05T06:53:39.129075",
     "exception": false,
     "start_time": "2022-07-05T06:53:39.106069",
     "status": "completed"
    },
    "tags": []
   },
   "source": [
    "<center>\n",
    "    <img src=\"https://cf-courses-data.s3.us.cloud-object-storage.appdomain.cloud/IBM-ML241EN-SkillsNetwork/labs/module3_svm/images/svm.png\" width=\"720\" alt=\"evaluation metrics\"  />\n",
    "</center>\n"
   ]
  },
  {
   "cell_type": "markdown",
   "id": "aa1b7067",
   "metadata": {
    "papermill": {
     "duration": 0.023696,
     "end_time": "2022-07-05T06:53:39.175871",
     "exception": false,
     "start_time": "2022-07-05T06:53:39.152175",
     "status": "completed"
    },
    "tags": []
   },
   "source": [
    "SVM addresses non-linear separable via kernel trick. Kernels are a special type of function that takes two vectors and returns a real number, like a dot-product operation. As such, kernels are not any real mapping functions from low dimensional spaces to high dimensional spaces.\n"
   ]
  },
  {
   "cell_type": "markdown",
   "id": "79e6bfb8",
   "metadata": {
    "papermill": {
     "duration": 0.022918,
     "end_time": "2022-07-05T06:53:39.222620",
     "exception": false,
     "start_time": "2022-07-05T06:53:39.199702",
     "status": "completed"
    },
    "tags": []
   },
   "source": [
    "For example, suppose we have two vectors $x = (x\\_{1}, x\\_{2})$ and $y = (y\\_{1}, y\\_{2})$\n"
   ]
  },
  {
   "cell_type": "markdown",
   "id": "3030e3d2",
   "metadata": {
    "papermill": {
     "duration": 0.023573,
     "end_time": "2022-07-05T06:53:39.270178",
     "exception": false,
     "start_time": "2022-07-05T06:53:39.246605",
     "status": "completed"
    },
    "tags": []
   },
   "source": [
    "Now we have a simple polynomial kernel like the following:\n"
   ]
  },
  {
   "cell_type": "markdown",
   "id": "2ce868bb",
   "metadata": {
    "papermill": {
     "duration": 0.02343,
     "end_time": "2022-07-05T06:53:39.321326",
     "exception": false,
     "start_time": "2022-07-05T06:53:39.297896",
     "status": "completed"
    },
    "tags": []
   },
   "source": [
    "$$k(x, y) = (x^Ty)^2$$\n"
   ]
  },
  {
   "cell_type": "markdown",
   "id": "c4d00dac",
   "metadata": {
    "papermill": {
     "duration": 0.024068,
     "end_time": "2022-07-05T06:53:39.369391",
     "exception": false,
     "start_time": "2022-07-05T06:53:39.345323",
     "status": "completed"
    },
    "tags": []
   },
   "source": [
    "If we apply the kernel on vector `x` and `y`, we will get:\n"
   ]
  },
  {
   "cell_type": "markdown",
   "id": "7d5dcf97",
   "metadata": {
    "papermill": {
     "duration": 0.022847,
     "end_time": "2022-07-05T06:53:39.415466",
     "exception": false,
     "start_time": "2022-07-05T06:53:39.392619",
     "status": "completed"
    },
    "tags": []
   },
   "source": [
    "$$k(x, y) = (x^Ty)^2 = (x\\_{1}y\\_{1} + x\\_{2}y\\_{2})^2 = x\\_{1}^2y\\_{1}^2 + x\\_{2}^2y\\_{2}^2 + 2x\\_{1}x\\_{2}y\\_{1}y\\_{2}$$\n"
   ]
  },
  {
   "cell_type": "markdown",
   "id": "8abc04d2",
   "metadata": {
    "papermill": {
     "duration": 0.022711,
     "end_time": "2022-07-05T06:53:39.461163",
     "exception": false,
     "start_time": "2022-07-05T06:53:39.438452",
     "status": "completed"
    },
    "tags": []
   },
   "source": [
    "It can be seen as a dot-product between two higher-dimensional vectors (`3-dimensional`):\n"
   ]
  },
  {
   "cell_type": "markdown",
   "id": "6f620875",
   "metadata": {
    "papermill": {
     "duration": 0.022619,
     "end_time": "2022-07-05T06:53:39.506761",
     "exception": false,
     "start_time": "2022-07-05T06:53:39.484142",
     "status": "completed"
    },
    "tags": []
   },
   "source": [
    "$$\\hat{x} = (x\\_{1}^2, x\\_{2}^2, \\sqrt{2}x\\_{1}x\\_{2}) $$\n"
   ]
  },
  {
   "cell_type": "markdown",
   "id": "817cfc2c",
   "metadata": {
    "papermill": {
     "duration": 0.022985,
     "end_time": "2022-07-05T06:53:39.554165",
     "exception": false,
     "start_time": "2022-07-05T06:53:39.531180",
     "status": "completed"
    },
    "tags": []
   },
   "source": [
    "$$\\hat{y} = (y\\_{1}^2, x\\_{2}^2, \\sqrt{2}y\\_{1}y\\_{2})$$\n"
   ]
  },
  {
   "cell_type": "markdown",
   "id": "1214a643",
   "metadata": {
    "papermill": {
     "duration": 0.023235,
     "end_time": "2022-07-05T06:53:39.600375",
     "exception": false,
     "start_time": "2022-07-05T06:53:39.577140",
     "status": "completed"
    },
    "tags": []
   },
   "source": [
    "As such, computing the `k(x, y)` is equivalent to computing a dot-product of the higher dimensional vectors, without doing the actual feature space transforms. Consequently, SVM with non-linear kernels can transform existing features into high dimensional features that can be linearly separated in higher dimensional spaces.\n"
   ]
  },
  {
   "cell_type": "markdown",
   "id": "1da6718b",
   "metadata": {
    "papermill": {
     "duration": 0.02596,
     "end_time": "2022-07-05T06:53:39.651419",
     "exception": false,
     "start_time": "2022-07-05T06:53:39.625459",
     "status": "completed"
    },
    "tags": []
   },
   "source": [
    "***\n"
   ]
  },
  {
   "cell_type": "markdown",
   "id": "48c72d40",
   "metadata": {
    "papermill": {
     "duration": 0.028967,
     "end_time": "2022-07-05T06:53:39.711349",
     "exception": false,
     "start_time": "2022-07-05T06:53:39.682382",
     "status": "completed"
    },
    "tags": []
   },
   "source": [
    "## Setup lab environment\n"
   ]
  },
  {
   "cell_type": "code",
   "execution_count": 1,
   "id": "9786f16d",
   "metadata": {
    "execution": {
     "iopub.execute_input": "2022-07-05T06:53:39.763757Z",
     "iopub.status.busy": "2022-07-05T06:53:39.763192Z",
     "iopub.status.idle": "2022-07-05T06:53:54.136688Z",
     "shell.execute_reply": "2022-07-05T06:53:54.135215Z"
    },
    "papermill": {
     "duration": 14.403455,
     "end_time": "2022-07-05T06:53:54.139880",
     "exception": false,
     "start_time": "2022-07-05T06:53:39.736425",
     "status": "completed"
    },
    "tags": []
   },
   "outputs": [
    {
     "name": "stdout",
     "output_type": "stream",
     "text": [
      "Collecting imbalanced-learn==0.8.0\r\n",
      "  Downloading imbalanced_learn-0.8.0-py3-none-any.whl (206 kB)\r\n",
      "\u001b[2K     \u001b[90m━━━━━━━━━━━━━━━━━━━━━━━━━━━━━━━━━━━━━━━\u001b[0m \u001b[32m206.5/206.5 kB\u001b[0m \u001b[31m2.7 MB/s\u001b[0m eta \u001b[36m0:00:00\u001b[0m\r\n",
      "\u001b[?25hRequirement already satisfied: scikit-learn>=0.24 in /opt/conda/lib/python3.7/site-packages (from imbalanced-learn==0.8.0) (1.0.2)\r\n",
      "Requirement already satisfied: numpy>=1.13.3 in /opt/conda/lib/python3.7/site-packages (from imbalanced-learn==0.8.0) (1.21.6)\r\n",
      "Requirement already satisfied: joblib>=0.11 in /opt/conda/lib/python3.7/site-packages (from imbalanced-learn==0.8.0) (1.1.0)\r\n",
      "Requirement already satisfied: scipy>=0.19.1 in /opt/conda/lib/python3.7/site-packages (from imbalanced-learn==0.8.0) (1.7.3)\r\n",
      "Requirement already satisfied: threadpoolctl>=2.0.0 in /opt/conda/lib/python3.7/site-packages (from scikit-learn>=0.24->imbalanced-learn==0.8.0) (3.1.0)\r\n",
      "Installing collected packages: imbalanced-learn\r\n",
      "  Attempting uninstall: imbalanced-learn\r\n",
      "    Found existing installation: imbalanced-learn 0.9.0\r\n",
      "    Uninstalling imbalanced-learn-0.9.0:\r\n",
      "      Successfully uninstalled imbalanced-learn-0.9.0\r\n",
      "Successfully installed imbalanced-learn-0.8.0\r\n",
      "\u001b[33mWARNING: Running pip as the 'root' user can result in broken permissions and conflicting behaviour with the system package manager. It is recommended to use a virtual environment instead: https://pip.pypa.io/warnings/venv\u001b[0m\u001b[33m\r\n",
      "\u001b[0m"
     ]
    }
   ],
   "source": [
    "# All Libraries required for this lab are listed below. The libraries pre-installed on Skills Network Labs are commented.\n",
    "# !mamba install -qy pandas==1.3.3 numpy==1.21.2 ipywidgets==7.4.2 scipy==7.4.2 tqdm==4.62.3 matplotlib==3.5.0 seaborn==0.9.0\n",
    "\n",
    "# install imbalanced-learn package\n",
    "!pip install imbalanced-learn==0.8.0\n",
    "# Note: If your environment doesn't support \"!mamba install\", use \"!pip install\" "
   ]
  },
  {
   "cell_type": "code",
   "execution_count": 2,
   "id": "be8cc0b6",
   "metadata": {
    "execution": {
     "iopub.execute_input": "2022-07-05T06:53:54.192131Z",
     "iopub.status.busy": "2022-07-05T06:53:54.191402Z",
     "iopub.status.idle": "2022-07-05T06:53:56.126464Z",
     "shell.execute_reply": "2022-07-05T06:53:56.125132Z"
    },
    "papermill": {
     "duration": 1.964996,
     "end_time": "2022-07-05T06:53:56.129567",
     "exception": false,
     "start_time": "2022-07-05T06:53:54.164571",
     "status": "completed"
    },
    "tags": []
   },
   "outputs": [],
   "source": [
    "# Import required packages\n",
    "import pandas as pd\n",
    "import numpy as np\n",
    "from sklearn.svm import SVC\n",
    "from sklearn.model_selection import train_test_split\n",
    "from sklearn import metrics\n",
    "from sklearn.model_selection import GridSearchCV\n",
    "from sklearn.preprocessing import MinMaxScaler\n",
    "# Evaluation metrics related methods\n",
    "from sklearn.metrics import classification_report, accuracy_score, f1_score, confusion_matrix, precision_recall_fscore_support, precision_score, recall_score\n",
    "\n",
    "import matplotlib.pyplot as plt\n",
    "import seaborn as sns\n",
    "from imblearn.under_sampling import RandomUnderSampler\n",
    "%matplotlib inline"
   ]
  },
  {
   "cell_type": "code",
   "execution_count": 3,
   "id": "dc19609c",
   "metadata": {
    "execution": {
     "iopub.execute_input": "2022-07-05T06:53:56.179975Z",
     "iopub.status.busy": "2022-07-05T06:53:56.179290Z",
     "iopub.status.idle": "2022-07-05T06:53:56.184076Z",
     "shell.execute_reply": "2022-07-05T06:53:56.183083Z"
    },
    "papermill": {
     "duration": 0.032924,
     "end_time": "2022-07-05T06:53:56.186362",
     "exception": false,
     "start_time": "2022-07-05T06:53:56.153438",
     "status": "completed"
    },
    "tags": []
   },
   "outputs": [],
   "source": [
    "# Setup a random seed to be 123\n",
    "rs = 123"
   ]
  },
  {
   "cell_type": "markdown",
   "id": "335264e8",
   "metadata": {
    "papermill": {
     "duration": 0.024502,
     "end_time": "2022-07-05T06:53:56.234729",
     "exception": false,
     "start_time": "2022-07-05T06:53:56.210227",
     "status": "completed"
    },
    "tags": []
   },
   "source": [
    "## Load and explore dataset\n"
   ]
  },
  {
   "cell_type": "markdown",
   "id": "8bcffe41",
   "metadata": {
    "papermill": {
     "duration": 0.023804,
     "end_time": "2022-07-05T06:53:56.282825",
     "exception": false,
     "start_time": "2022-07-05T06:53:56.259021",
     "status": "completed"
    },
    "tags": []
   },
   "source": [
    "Let's first load the dataset as a `Pandas` dataframe and conduct some basic explorations\n"
   ]
  },
  {
   "cell_type": "code",
   "execution_count": 4,
   "id": "339d094c",
   "metadata": {
    "execution": {
     "iopub.execute_input": "2022-07-05T06:53:56.333463Z",
     "iopub.status.busy": "2022-07-05T06:53:56.332143Z",
     "iopub.status.idle": "2022-07-05T06:53:57.572380Z",
     "shell.execute_reply": "2022-07-05T06:53:57.571395Z"
    },
    "papermill": {
     "duration": 1.267665,
     "end_time": "2022-07-05T06:53:57.574843",
     "exception": false,
     "start_time": "2022-07-05T06:53:56.307178",
     "status": "completed"
    },
    "tags": []
   },
   "outputs": [],
   "source": [
    "# Load the dataset\n",
    "dataset_url = \"https://cf-courses-data.s3.us.cloud-object-storage.appdomain.cloud/IBM-ML241EN-SkillsNetwork/labs/datasets/food_items_binary.csv\"\n",
    "food_df = pd.read_csv(dataset_url)"
   ]
  },
  {
   "cell_type": "markdown",
   "id": "85595c1f",
   "metadata": {
    "papermill": {
     "duration": 0.028005,
     "end_time": "2022-07-05T06:53:57.629086",
     "exception": false,
     "start_time": "2022-07-05T06:53:57.601081",
     "status": "completed"
    },
    "tags": []
   },
   "source": [
    "and let's quickly looks at its first 5 rows\n"
   ]
  },
  {
   "cell_type": "code",
   "execution_count": 5,
   "id": "4a53b27c",
   "metadata": {
    "execution": {
     "iopub.execute_input": "2022-07-05T06:53:57.693424Z",
     "iopub.status.busy": "2022-07-05T06:53:57.692070Z",
     "iopub.status.idle": "2022-07-05T06:53:57.739431Z",
     "shell.execute_reply": "2022-07-05T06:53:57.737891Z"
    },
    "papermill": {
     "duration": 0.081825,
     "end_time": "2022-07-05T06:53:57.742144",
     "exception": false,
     "start_time": "2022-07-05T06:53:57.660319",
     "status": "completed"
    },
    "tags": []
   },
   "outputs": [
    {
     "data": {
      "text/html": [
       "<div>\n",
       "<style scoped>\n",
       "    .dataframe tbody tr th:only-of-type {\n",
       "        vertical-align: middle;\n",
       "    }\n",
       "\n",
       "    .dataframe tbody tr th {\n",
       "        vertical-align: top;\n",
       "    }\n",
       "\n",
       "    .dataframe thead th {\n",
       "        text-align: right;\n",
       "    }\n",
       "</style>\n",
       "<table border=\"1\" class=\"dataframe\">\n",
       "  <thead>\n",
       "    <tr style=\"text-align: right;\">\n",
       "      <th></th>\n",
       "      <th>Calories</th>\n",
       "      <th>Total Fat</th>\n",
       "      <th>Saturated Fat</th>\n",
       "      <th>Monounsaturated Fat</th>\n",
       "      <th>Polyunsaturated Fat</th>\n",
       "      <th>Trans Fat</th>\n",
       "      <th>Cholesterol</th>\n",
       "      <th>Sodium</th>\n",
       "      <th>Total Carbohydrate</th>\n",
       "      <th>Dietary Fiber</th>\n",
       "      <th>Sugars</th>\n",
       "      <th>Sugar Alcohol</th>\n",
       "      <th>Protein</th>\n",
       "      <th>Vitamin A</th>\n",
       "      <th>Vitamin C</th>\n",
       "      <th>Calcium</th>\n",
       "      <th>Iron</th>\n",
       "      <th>class</th>\n",
       "    </tr>\n",
       "  </thead>\n",
       "  <tbody>\n",
       "    <tr>\n",
       "      <th>0</th>\n",
       "      <td>149.0</td>\n",
       "      <td>0</td>\n",
       "      <td>0.0</td>\n",
       "      <td>0.0</td>\n",
       "      <td>0.0</td>\n",
       "      <td>0.0</td>\n",
       "      <td>0</td>\n",
       "      <td>9.0</td>\n",
       "      <td>9.8</td>\n",
       "      <td>0.0</td>\n",
       "      <td>0.0</td>\n",
       "      <td>0</td>\n",
       "      <td>1.3</td>\n",
       "      <td>0</td>\n",
       "      <td>0</td>\n",
       "      <td>0</td>\n",
       "      <td>0</td>\n",
       "      <td>0</td>\n",
       "    </tr>\n",
       "    <tr>\n",
       "      <th>1</th>\n",
       "      <td>123.0</td>\n",
       "      <td>0</td>\n",
       "      <td>0.0</td>\n",
       "      <td>0.0</td>\n",
       "      <td>0.0</td>\n",
       "      <td>0.0</td>\n",
       "      <td>0</td>\n",
       "      <td>5.0</td>\n",
       "      <td>6.6</td>\n",
       "      <td>0.0</td>\n",
       "      <td>0.0</td>\n",
       "      <td>0</td>\n",
       "      <td>0.8</td>\n",
       "      <td>0</td>\n",
       "      <td>0</td>\n",
       "      <td>0</td>\n",
       "      <td>0</td>\n",
       "      <td>0</td>\n",
       "    </tr>\n",
       "    <tr>\n",
       "      <th>2</th>\n",
       "      <td>150.0</td>\n",
       "      <td>0</td>\n",
       "      <td>0.0</td>\n",
       "      <td>0.0</td>\n",
       "      <td>0.0</td>\n",
       "      <td>0.0</td>\n",
       "      <td>0</td>\n",
       "      <td>4.0</td>\n",
       "      <td>11.4</td>\n",
       "      <td>0.0</td>\n",
       "      <td>0.0</td>\n",
       "      <td>0</td>\n",
       "      <td>1.3</td>\n",
       "      <td>0</td>\n",
       "      <td>0</td>\n",
       "      <td>0</td>\n",
       "      <td>0</td>\n",
       "      <td>0</td>\n",
       "    </tr>\n",
       "    <tr>\n",
       "      <th>3</th>\n",
       "      <td>110.0</td>\n",
       "      <td>0</td>\n",
       "      <td>0.0</td>\n",
       "      <td>0.0</td>\n",
       "      <td>0.0</td>\n",
       "      <td>0.0</td>\n",
       "      <td>0</td>\n",
       "      <td>6.0</td>\n",
       "      <td>7.0</td>\n",
       "      <td>0.0</td>\n",
       "      <td>0.0</td>\n",
       "      <td>0</td>\n",
       "      <td>0.8</td>\n",
       "      <td>0</td>\n",
       "      <td>0</td>\n",
       "      <td>0</td>\n",
       "      <td>0</td>\n",
       "      <td>0</td>\n",
       "    </tr>\n",
       "    <tr>\n",
       "      <th>4</th>\n",
       "      <td>143.0</td>\n",
       "      <td>0</td>\n",
       "      <td>0.0</td>\n",
       "      <td>0.0</td>\n",
       "      <td>0.0</td>\n",
       "      <td>0.0</td>\n",
       "      <td>0</td>\n",
       "      <td>7.0</td>\n",
       "      <td>13.1</td>\n",
       "      <td>0.0</td>\n",
       "      <td>0.0</td>\n",
       "      <td>0</td>\n",
       "      <td>1.0</td>\n",
       "      <td>0</td>\n",
       "      <td>0</td>\n",
       "      <td>0</td>\n",
       "      <td>0</td>\n",
       "      <td>0</td>\n",
       "    </tr>\n",
       "    <tr>\n",
       "      <th>5</th>\n",
       "      <td>110.0</td>\n",
       "      <td>0</td>\n",
       "      <td>0.0</td>\n",
       "      <td>0.0</td>\n",
       "      <td>0.0</td>\n",
       "      <td>0.0</td>\n",
       "      <td>0</td>\n",
       "      <td>6.0</td>\n",
       "      <td>7.0</td>\n",
       "      <td>0.0</td>\n",
       "      <td>0.0</td>\n",
       "      <td>0</td>\n",
       "      <td>0.8</td>\n",
       "      <td>0</td>\n",
       "      <td>0</td>\n",
       "      <td>0</td>\n",
       "      <td>0</td>\n",
       "      <td>0</td>\n",
       "    </tr>\n",
       "    <tr>\n",
       "      <th>6</th>\n",
       "      <td>142.0</td>\n",
       "      <td>0</td>\n",
       "      <td>0.0</td>\n",
       "      <td>0.0</td>\n",
       "      <td>0.0</td>\n",
       "      <td>0.0</td>\n",
       "      <td>0</td>\n",
       "      <td>12.0</td>\n",
       "      <td>10.6</td>\n",
       "      <td>0.0</td>\n",
       "      <td>0.0</td>\n",
       "      <td>0</td>\n",
       "      <td>1.2</td>\n",
       "      <td>0</td>\n",
       "      <td>0</td>\n",
       "      <td>0</td>\n",
       "      <td>0</td>\n",
       "      <td>0</td>\n",
       "    </tr>\n",
       "    <tr>\n",
       "      <th>7</th>\n",
       "      <td>102.0</td>\n",
       "      <td>0</td>\n",
       "      <td>0.0</td>\n",
       "      <td>0.0</td>\n",
       "      <td>0.0</td>\n",
       "      <td>0.0</td>\n",
       "      <td>0</td>\n",
       "      <td>13.0</td>\n",
       "      <td>5.0</td>\n",
       "      <td>0.0</td>\n",
       "      <td>0.0</td>\n",
       "      <td>0</td>\n",
       "      <td>0.7</td>\n",
       "      <td>0</td>\n",
       "      <td>0</td>\n",
       "      <td>0</td>\n",
       "      <td>0</td>\n",
       "      <td>0</td>\n",
       "    </tr>\n",
       "    <tr>\n",
       "      <th>8</th>\n",
       "      <td>145.0</td>\n",
       "      <td>0</td>\n",
       "      <td>0.0</td>\n",
       "      <td>0.0</td>\n",
       "      <td>0.0</td>\n",
       "      <td>0.0</td>\n",
       "      <td>0</td>\n",
       "      <td>17.0</td>\n",
       "      <td>11.0</td>\n",
       "      <td>0.0</td>\n",
       "      <td>0.0</td>\n",
       "      <td>0</td>\n",
       "      <td>1.2</td>\n",
       "      <td>0</td>\n",
       "      <td>0</td>\n",
       "      <td>0</td>\n",
       "      <td>0</td>\n",
       "      <td>0</td>\n",
       "    </tr>\n",
       "    <tr>\n",
       "      <th>9</th>\n",
       "      <td>171.0</td>\n",
       "      <td>0</td>\n",
       "      <td>0.0</td>\n",
       "      <td>0.0</td>\n",
       "      <td>0.0</td>\n",
       "      <td>0.0</td>\n",
       "      <td>0</td>\n",
       "      <td>8.0</td>\n",
       "      <td>13.7</td>\n",
       "      <td>0.0</td>\n",
       "      <td>0.0</td>\n",
       "      <td>0</td>\n",
       "      <td>2.5</td>\n",
       "      <td>0</td>\n",
       "      <td>0</td>\n",
       "      <td>0</td>\n",
       "      <td>0</td>\n",
       "      <td>0</td>\n",
       "    </tr>\n",
       "  </tbody>\n",
       "</table>\n",
       "</div>"
      ],
      "text/plain": [
       "   Calories  Total Fat  Saturated Fat  Monounsaturated Fat  \\\n",
       "0     149.0          0            0.0                  0.0   \n",
       "1     123.0          0            0.0                  0.0   \n",
       "2     150.0          0            0.0                  0.0   \n",
       "3     110.0          0            0.0                  0.0   \n",
       "4     143.0          0            0.0                  0.0   \n",
       "5     110.0          0            0.0                  0.0   \n",
       "6     142.0          0            0.0                  0.0   \n",
       "7     102.0          0            0.0                  0.0   \n",
       "8     145.0          0            0.0                  0.0   \n",
       "9     171.0          0            0.0                  0.0   \n",
       "\n",
       "   Polyunsaturated Fat  Trans Fat  Cholesterol  Sodium  Total Carbohydrate  \\\n",
       "0                  0.0        0.0            0     9.0                 9.8   \n",
       "1                  0.0        0.0            0     5.0                 6.6   \n",
       "2                  0.0        0.0            0     4.0                11.4   \n",
       "3                  0.0        0.0            0     6.0                 7.0   \n",
       "4                  0.0        0.0            0     7.0                13.1   \n",
       "5                  0.0        0.0            0     6.0                 7.0   \n",
       "6                  0.0        0.0            0    12.0                10.6   \n",
       "7                  0.0        0.0            0    13.0                 5.0   \n",
       "8                  0.0        0.0            0    17.0                11.0   \n",
       "9                  0.0        0.0            0     8.0                13.7   \n",
       "\n",
       "   Dietary Fiber  Sugars  Sugar Alcohol  Protein  Vitamin A  Vitamin C  \\\n",
       "0            0.0     0.0              0      1.3          0          0   \n",
       "1            0.0     0.0              0      0.8          0          0   \n",
       "2            0.0     0.0              0      1.3          0          0   \n",
       "3            0.0     0.0              0      0.8          0          0   \n",
       "4            0.0     0.0              0      1.0          0          0   \n",
       "5            0.0     0.0              0      0.8          0          0   \n",
       "6            0.0     0.0              0      1.2          0          0   \n",
       "7            0.0     0.0              0      0.7          0          0   \n",
       "8            0.0     0.0              0      1.2          0          0   \n",
       "9            0.0     0.0              0      2.5          0          0   \n",
       "\n",
       "   Calcium  Iron  class  \n",
       "0        0     0      0  \n",
       "1        0     0      0  \n",
       "2        0     0      0  \n",
       "3        0     0      0  \n",
       "4        0     0      0  \n",
       "5        0     0      0  \n",
       "6        0     0      0  \n",
       "7        0     0      0  \n",
       "8        0     0      0  \n",
       "9        0     0      0  "
      ]
     },
     "execution_count": 5,
     "metadata": {},
     "output_type": "execute_result"
    }
   ],
   "source": [
    "food_df.head(10)"
   ]
  },
  {
   "cell_type": "code",
   "execution_count": 6,
   "id": "8ac67b5d",
   "metadata": {
    "execution": {
     "iopub.execute_input": "2022-07-05T06:53:57.794157Z",
     "iopub.status.busy": "2022-07-05T06:53:57.793351Z",
     "iopub.status.idle": "2022-07-05T06:53:57.806105Z",
     "shell.execute_reply": "2022-07-05T06:53:57.804862Z"
    },
    "papermill": {
     "duration": 0.041653,
     "end_time": "2022-07-05T06:53:57.808645",
     "exception": false,
     "start_time": "2022-07-05T06:53:57.766992",
     "status": "completed"
    },
    "tags": []
   },
   "outputs": [
    {
     "data": {
      "text/plain": [
       "['Calories',\n",
       " 'Total Fat',\n",
       " 'Saturated Fat',\n",
       " 'Monounsaturated Fat',\n",
       " 'Polyunsaturated Fat',\n",
       " 'Trans Fat',\n",
       " 'Cholesterol',\n",
       " 'Sodium',\n",
       " 'Total Carbohydrate',\n",
       " 'Dietary Fiber',\n",
       " 'Sugars',\n",
       " 'Sugar Alcohol',\n",
       " 'Protein',\n",
       " 'Vitamin A',\n",
       " 'Vitamin C',\n",
       " 'Calcium',\n",
       " 'Iron']"
      ]
     },
     "execution_count": 6,
     "metadata": {},
     "output_type": "execute_result"
    }
   ],
   "source": [
    "# Get the row entries with col 0 to -1 (16)\n",
    "feature_cols = list(food_df.iloc[:, :-1].columns)\n",
    "feature_cols"
   ]
  },
  {
   "cell_type": "code",
   "execution_count": 7,
   "id": "4cc0fbb5",
   "metadata": {
    "execution": {
     "iopub.execute_input": "2022-07-05T06:53:57.861338Z",
     "iopub.status.busy": "2022-07-05T06:53:57.860955Z",
     "iopub.status.idle": "2022-07-05T06:53:57.867241Z",
     "shell.execute_reply": "2022-07-05T06:53:57.865904Z"
    },
    "papermill": {
     "duration": 0.035822,
     "end_time": "2022-07-05T06:53:57.869864",
     "exception": false,
     "start_time": "2022-07-05T06:53:57.834042",
     "status": "completed"
    },
    "tags": []
   },
   "outputs": [],
   "source": [
    "X = food_df.iloc[:, :-1]\n",
    "y = food_df.iloc[:, -1:]"
   ]
  },
  {
   "cell_type": "code",
   "execution_count": 8,
   "id": "e45e030d",
   "metadata": {
    "execution": {
     "iopub.execute_input": "2022-07-05T06:53:57.920398Z",
     "iopub.status.busy": "2022-07-05T06:53:57.920028Z",
     "iopub.status.idle": "2022-07-05T06:53:57.994153Z",
     "shell.execute_reply": "2022-07-05T06:53:57.993275Z"
    },
    "papermill": {
     "duration": 0.102193,
     "end_time": "2022-07-05T06:53:57.996380",
     "exception": false,
     "start_time": "2022-07-05T06:53:57.894187",
     "status": "completed"
    },
    "tags": []
   },
   "outputs": [
    {
     "data": {
      "text/html": [
       "<div>\n",
       "<style scoped>\n",
       "    .dataframe tbody tr th:only-of-type {\n",
       "        vertical-align: middle;\n",
       "    }\n",
       "\n",
       "    .dataframe tbody tr th {\n",
       "        vertical-align: top;\n",
       "    }\n",
       "\n",
       "    .dataframe thead th {\n",
       "        text-align: right;\n",
       "    }\n",
       "</style>\n",
       "<table border=\"1\" class=\"dataframe\">\n",
       "  <thead>\n",
       "    <tr style=\"text-align: right;\">\n",
       "      <th></th>\n",
       "      <th>Calories</th>\n",
       "      <th>Total Fat</th>\n",
       "      <th>Saturated Fat</th>\n",
       "      <th>Monounsaturated Fat</th>\n",
       "      <th>Polyunsaturated Fat</th>\n",
       "      <th>Trans Fat</th>\n",
       "      <th>Cholesterol</th>\n",
       "      <th>Sodium</th>\n",
       "      <th>Total Carbohydrate</th>\n",
       "      <th>Dietary Fiber</th>\n",
       "      <th>Sugars</th>\n",
       "      <th>Sugar Alcohol</th>\n",
       "      <th>Protein</th>\n",
       "      <th>Vitamin A</th>\n",
       "      <th>Vitamin C</th>\n",
       "      <th>Calcium</th>\n",
       "      <th>Iron</th>\n",
       "    </tr>\n",
       "  </thead>\n",
       "  <tbody>\n",
       "    <tr>\n",
       "      <th>count</th>\n",
       "      <td>7639.000000</td>\n",
       "      <td>7639.000000</td>\n",
       "      <td>7639.000000</td>\n",
       "      <td>7639.000000</td>\n",
       "      <td>7639.000000</td>\n",
       "      <td>7639.000000</td>\n",
       "      <td>7639.000000</td>\n",
       "      <td>7639.000000</td>\n",
       "      <td>7639.000000</td>\n",
       "      <td>7639.000000</td>\n",
       "      <td>7639.000000</td>\n",
       "      <td>7639.000000</td>\n",
       "      <td>7639.000000</td>\n",
       "      <td>7639.000000</td>\n",
       "      <td>7639.000000</td>\n",
       "      <td>7639.000000</td>\n",
       "      <td>7639.000000</td>\n",
       "    </tr>\n",
       "    <tr>\n",
       "      <th>mean</th>\n",
       "      <td>105.098835</td>\n",
       "      <td>2.318235</td>\n",
       "      <td>0.368920</td>\n",
       "      <td>0.309216</td>\n",
       "      <td>0.264116</td>\n",
       "      <td>0.007069</td>\n",
       "      <td>4.308679</td>\n",
       "      <td>235.053659</td>\n",
       "      <td>15.510719</td>\n",
       "      <td>1.806074</td>\n",
       "      <td>3.734756</td>\n",
       "      <td>0.059039</td>\n",
       "      <td>4.298975</td>\n",
       "      <td>6.636733</td>\n",
       "      <td>6.487237</td>\n",
       "      <td>3.937688</td>\n",
       "      <td>5.510014</td>\n",
       "    </tr>\n",
       "    <tr>\n",
       "      <th>std</th>\n",
       "      <td>77.224368</td>\n",
       "      <td>3.438941</td>\n",
       "      <td>0.737164</td>\n",
       "      <td>1.310260</td>\n",
       "      <td>2.848250</td>\n",
       "      <td>0.094783</td>\n",
       "      <td>14.788162</td>\n",
       "      <td>252.438163</td>\n",
       "      <td>14.028570</td>\n",
       "      <td>4.099947</td>\n",
       "      <td>5.013685</td>\n",
       "      <td>0.771173</td>\n",
       "      <td>5.349881</td>\n",
       "      <td>19.658111</td>\n",
       "      <td>19.566500</td>\n",
       "      <td>7.892694</td>\n",
       "      <td>9.855960</td>\n",
       "    </tr>\n",
       "    <tr>\n",
       "      <th>min</th>\n",
       "      <td>0.000000</td>\n",
       "      <td>0.000000</td>\n",
       "      <td>0.000000</td>\n",
       "      <td>0.000000</td>\n",
       "      <td>0.000000</td>\n",
       "      <td>0.000000</td>\n",
       "      <td>0.000000</td>\n",
       "      <td>0.000000</td>\n",
       "      <td>0.000000</td>\n",
       "      <td>0.000000</td>\n",
       "      <td>0.000000</td>\n",
       "      <td>0.000000</td>\n",
       "      <td>0.000000</td>\n",
       "      <td>0.000000</td>\n",
       "      <td>0.000000</td>\n",
       "      <td>0.000000</td>\n",
       "      <td>0.000000</td>\n",
       "    </tr>\n",
       "    <tr>\n",
       "      <th>25%</th>\n",
       "      <td>50.000000</td>\n",
       "      <td>0.000000</td>\n",
       "      <td>0.000000</td>\n",
       "      <td>0.000000</td>\n",
       "      <td>0.000000</td>\n",
       "      <td>0.000000</td>\n",
       "      <td>0.000000</td>\n",
       "      <td>20.000000</td>\n",
       "      <td>3.700000</td>\n",
       "      <td>0.000000</td>\n",
       "      <td>0.000000</td>\n",
       "      <td>0.000000</td>\n",
       "      <td>0.100000</td>\n",
       "      <td>0.000000</td>\n",
       "      <td>0.000000</td>\n",
       "      <td>0.000000</td>\n",
       "      <td>0.000000</td>\n",
       "    </tr>\n",
       "    <tr>\n",
       "      <th>50%</th>\n",
       "      <td>100.000000</td>\n",
       "      <td>1.000000</td>\n",
       "      <td>0.000000</td>\n",
       "      <td>0.000000</td>\n",
       "      <td>0.000000</td>\n",
       "      <td>0.000000</td>\n",
       "      <td>0.000000</td>\n",
       "      <td>150.000000</td>\n",
       "      <td>13.000000</td>\n",
       "      <td>1.000000</td>\n",
       "      <td>2.000000</td>\n",
       "      <td>0.000000</td>\n",
       "      <td>3.000000</td>\n",
       "      <td>0.000000</td>\n",
       "      <td>0.000000</td>\n",
       "      <td>0.000000</td>\n",
       "      <td>2.000000</td>\n",
       "    </tr>\n",
       "    <tr>\n",
       "      <th>75%</th>\n",
       "      <td>140.000000</td>\n",
       "      <td>3.000000</td>\n",
       "      <td>0.500000</td>\n",
       "      <td>0.000000</td>\n",
       "      <td>0.000000</td>\n",
       "      <td>0.000000</td>\n",
       "      <td>0.000000</td>\n",
       "      <td>375.500000</td>\n",
       "      <td>24.000000</td>\n",
       "      <td>3.000000</td>\n",
       "      <td>5.000000</td>\n",
       "      <td>0.000000</td>\n",
       "      <td>6.000000</td>\n",
       "      <td>6.000000</td>\n",
       "      <td>4.000000</td>\n",
       "      <td>4.000000</td>\n",
       "      <td>8.000000</td>\n",
       "    </tr>\n",
       "    <tr>\n",
       "      <th>max</th>\n",
       "      <td>2210.000000</td>\n",
       "      <td>24.000000</td>\n",
       "      <td>8.000000</td>\n",
       "      <td>16.800000</td>\n",
       "      <td>235.000000</td>\n",
       "      <td>2.500000</td>\n",
       "      <td>450.000000</td>\n",
       "      <td>2220.000000</td>\n",
       "      <td>270.000000</td>\n",
       "      <td>305.000000</td>\n",
       "      <td>39.000000</td>\n",
       "      <td>19.000000</td>\n",
       "      <td>70.000000</td>\n",
       "      <td>370.000000</td>\n",
       "      <td>280.000000</td>\n",
       "      <td>110.000000</td>\n",
       "      <td>100.000000</td>\n",
       "    </tr>\n",
       "  </tbody>\n",
       "</table>\n",
       "</div>"
      ],
      "text/plain": [
       "          Calories    Total Fat  Saturated Fat  Monounsaturated Fat  \\\n",
       "count  7639.000000  7639.000000    7639.000000          7639.000000   \n",
       "mean    105.098835     2.318235       0.368920             0.309216   \n",
       "std      77.224368     3.438941       0.737164             1.310260   \n",
       "min       0.000000     0.000000       0.000000             0.000000   \n",
       "25%      50.000000     0.000000       0.000000             0.000000   \n",
       "50%     100.000000     1.000000       0.000000             0.000000   \n",
       "75%     140.000000     3.000000       0.500000             0.000000   \n",
       "max    2210.000000    24.000000       8.000000            16.800000   \n",
       "\n",
       "       Polyunsaturated Fat    Trans Fat  Cholesterol       Sodium  \\\n",
       "count          7639.000000  7639.000000  7639.000000  7639.000000   \n",
       "mean              0.264116     0.007069     4.308679   235.053659   \n",
       "std               2.848250     0.094783    14.788162   252.438163   \n",
       "min               0.000000     0.000000     0.000000     0.000000   \n",
       "25%               0.000000     0.000000     0.000000    20.000000   \n",
       "50%               0.000000     0.000000     0.000000   150.000000   \n",
       "75%               0.000000     0.000000     0.000000   375.500000   \n",
       "max             235.000000     2.500000   450.000000  2220.000000   \n",
       "\n",
       "       Total Carbohydrate  Dietary Fiber       Sugars  Sugar Alcohol  \\\n",
       "count         7639.000000    7639.000000  7639.000000    7639.000000   \n",
       "mean            15.510719       1.806074     3.734756       0.059039   \n",
       "std             14.028570       4.099947     5.013685       0.771173   \n",
       "min              0.000000       0.000000     0.000000       0.000000   \n",
       "25%              3.700000       0.000000     0.000000       0.000000   \n",
       "50%             13.000000       1.000000     2.000000       0.000000   \n",
       "75%             24.000000       3.000000     5.000000       0.000000   \n",
       "max            270.000000     305.000000    39.000000      19.000000   \n",
       "\n",
       "           Protein    Vitamin A    Vitamin C      Calcium         Iron  \n",
       "count  7639.000000  7639.000000  7639.000000  7639.000000  7639.000000  \n",
       "mean      4.298975     6.636733     6.487237     3.937688     5.510014  \n",
       "std       5.349881    19.658111    19.566500     7.892694     9.855960  \n",
       "min       0.000000     0.000000     0.000000     0.000000     0.000000  \n",
       "25%       0.100000     0.000000     0.000000     0.000000     0.000000  \n",
       "50%       3.000000     0.000000     0.000000     0.000000     2.000000  \n",
       "75%       6.000000     6.000000     4.000000     4.000000     8.000000  \n",
       "max      70.000000   370.000000   280.000000   110.000000   100.000000  "
      ]
     },
     "execution_count": 8,
     "metadata": {},
     "output_type": "execute_result"
    }
   ],
   "source": [
    "X.describe()"
   ]
  },
  {
   "cell_type": "markdown",
   "id": "24fbcb25",
   "metadata": {
    "papermill": {
     "duration": 0.025099,
     "end_time": "2022-07-05T06:53:58.047758",
     "exception": false,
     "start_time": "2022-07-05T06:53:58.022659",
     "status": "completed"
    },
    "tags": []
   },
   "source": [
    "as we can see from the outputs above, this food item dataset contains 17 types of nutrients about a food item such as Calories, Total Fat, Protein, Sugar, and so on, as numeric variables.\n"
   ]
  },
  {
   "cell_type": "markdown",
   "id": "99bddcf5",
   "metadata": {
    "papermill": {
     "duration": 0.024467,
     "end_time": "2022-07-05T06:53:58.098078",
     "exception": false,
     "start_time": "2022-07-05T06:53:58.073611",
     "status": "completed"
    },
    "tags": []
   },
   "source": [
    "Next, let's check the target variable, such as the `class` column to see what are label values and their distribution.\n"
   ]
  },
  {
   "cell_type": "code",
   "execution_count": 9,
   "id": "e32295e1",
   "metadata": {
    "execution": {
     "iopub.execute_input": "2022-07-05T06:53:58.151772Z",
     "iopub.status.busy": "2022-07-05T06:53:58.150258Z",
     "iopub.status.idle": "2022-07-05T06:53:58.162964Z",
     "shell.execute_reply": "2022-07-05T06:53:58.161727Z"
    },
    "papermill": {
     "duration": 0.042365,
     "end_time": "2022-07-05T06:53:58.165713",
     "exception": false,
     "start_time": "2022-07-05T06:53:58.123348",
     "status": "completed"
    },
    "tags": []
   },
   "outputs": [
    {
     "data": {
      "text/plain": [
       "class\n",
       "0        0.870402\n",
       "1        0.129598\n",
       "dtype: float64"
      ]
     },
     "execution_count": 9,
     "metadata": {},
     "output_type": "execute_result"
    }
   ],
   "source": [
    "# # Get the row entries with the last col 'class'\n",
    "y.value_counts(normalize=True)"
   ]
  },
  {
   "cell_type": "code",
   "execution_count": 10,
   "id": "b4bcb250",
   "metadata": {
    "execution": {
     "iopub.execute_input": "2022-07-05T06:53:58.218775Z",
     "iopub.status.busy": "2022-07-05T06:53:58.218394Z",
     "iopub.status.idle": "2022-07-05T06:53:58.443041Z",
     "shell.execute_reply": "2022-07-05T06:53:58.441896Z"
    },
    "papermill": {
     "duration": 0.254271,
     "end_time": "2022-07-05T06:53:58.445174",
     "exception": false,
     "start_time": "2022-07-05T06:53:58.190903",
     "status": "completed"
    },
    "tags": []
   },
   "outputs": [
    {
     "data": {
      "text/plain": [
       "<AxesSubplot:xlabel='class'>"
      ]
     },
     "execution_count": 10,
     "metadata": {},
     "output_type": "execute_result"
    },
    {
     "data": {
      "image/png": "[encoded data removed]",
      "text/plain": [
       "<Figure size 432x288 with 1 Axes>"
      ]
     },
     "metadata": {
      "needs_background": "light"
     },
     "output_type": "display_data"
    }
   ],
   "source": [
    "y.value_counts().plot.bar(color=['red', 'green'])"
   ]
  },
  {
   "cell_type": "markdown",
   "id": "dbafa85c",
   "metadata": {
    "papermill": {
     "duration": 0.025585,
     "end_time": "2022-07-05T06:53:58.496610",
     "exception": false,
     "start_time": "2022-07-05T06:53:58.471025",
     "status": "completed"
    },
    "tags": []
   },
   "source": [
    "As we can see from the bar chart above, this dataset has two classes `Less Often` and `More Often`. The two labels are imbalanced with most food items should be chosen less often for diabetic patients.\n"
   ]
  },
  {
   "cell_type": "markdown",
   "id": "ddff5116",
   "metadata": {
    "papermill": {
     "duration": 0.025387,
     "end_time": "2022-07-05T06:53:58.547452",
     "exception": false,
     "start_time": "2022-07-05T06:53:58.522065",
     "status": "completed"
    },
    "tags": []
   },
   "source": [
    "## Build a SVM model with default parameters\n"
   ]
  },
  {
   "cell_type": "markdown",
   "id": "817ac1dc",
   "metadata": {
    "papermill": {
     "duration": 0.025127,
     "end_time": "2022-07-05T06:53:58.598771",
     "exception": false,
     "start_time": "2022-07-05T06:53:58.573644",
     "status": "completed"
    },
    "tags": []
   },
   "source": [
    "First, let's split the training and testing dataset. Training dataset will be used to train and tune models, and testing dataset will be used to evaluate the models. Note that you may also split a validation dataset from the training dataset for model tuning only.\n"
   ]
  },
  {
   "cell_type": "code",
   "execution_count": 11,
   "id": "79522e9d",
   "metadata": {
    "execution": {
     "iopub.execute_input": "2022-07-05T06:53:58.653471Z",
     "iopub.status.busy": "2022-07-05T06:53:58.652217Z",
     "iopub.status.idle": "2022-07-05T06:53:58.710922Z",
     "shell.execute_reply": "2022-07-05T06:53:58.709815Z"
    },
    "papermill": {
     "duration": 0.089742,
     "end_time": "2022-07-05T06:53:58.713977",
     "exception": false,
     "start_time": "2022-07-05T06:53:58.624235",
     "status": "completed"
    },
    "tags": []
   },
   "outputs": [],
   "source": [
    "# First, let's split the training and testing dataset\n",
    "X_train, X_test, y_train, y_test = train_test_split(X, y, test_size=0.2, stratify=y, random_state = rs)"
   ]
  },
  {
   "cell_type": "markdown",
   "id": "0fb2692b",
   "metadata": {
    "papermill": {
     "duration": 0.02501,
     "end_time": "2022-07-05T06:53:58.764449",
     "exception": false,
     "start_time": "2022-07-05T06:53:58.739439",
     "status": "completed"
    },
    "tags": []
   },
   "source": [
    "Okay, now we have the training and testing datasets ready, let's start the model training task.\n"
   ]
  },
  {
   "cell_type": "markdown",
   "id": "fa73a21e",
   "metadata": {
    "papermill": {
     "duration": 0.024924,
     "end_time": "2022-07-05T06:53:58.814678",
     "exception": false,
     "start_time": "2022-07-05T06:53:58.789754",
     "status": "completed"
    },
    "tags": []
   },
   "source": [
    "We first define a `sklearn.svm import SVC` model with all default arguments.\n"
   ]
  },
  {
   "cell_type": "code",
   "execution_count": 12,
   "id": "964f0b13",
   "metadata": {
    "execution": {
     "iopub.execute_input": "2022-07-05T06:53:58.867947Z",
     "iopub.status.busy": "2022-07-05T06:53:58.867210Z",
     "iopub.status.idle": "2022-07-05T06:53:58.871562Z",
     "shell.execute_reply": "2022-07-05T06:53:58.870637Z"
    },
    "papermill": {
     "duration": 0.033262,
     "end_time": "2022-07-05T06:53:58.873697",
     "exception": false,
     "start_time": "2022-07-05T06:53:58.840435",
     "status": "completed"
    },
    "tags": []
   },
   "outputs": [],
   "source": [
    "model = SVC()"
   ]
  },
  {
   "cell_type": "markdown",
   "id": "e16edd7a",
   "metadata": {
    "papermill": {
     "duration": 0.024755,
     "end_time": "2022-07-05T06:53:58.923714",
     "exception": false,
     "start_time": "2022-07-05T06:53:58.898959",
     "status": "completed"
    },
    "tags": []
   },
   "source": [
    "Then train the model with training dataset:\n"
   ]
  },
  {
   "cell_type": "code",
   "execution_count": 13,
   "id": "682b969e",
   "metadata": {
    "execution": {
     "iopub.execute_input": "2022-07-05T06:53:58.976435Z",
     "iopub.status.busy": "2022-07-05T06:53:58.975743Z",
     "iopub.status.idle": "2022-07-05T06:53:59.312377Z",
     "shell.execute_reply": "2022-07-05T06:53:59.311577Z"
    },
    "papermill": {
     "duration": 0.365849,
     "end_time": "2022-07-05T06:53:59.314914",
     "exception": false,
     "start_time": "2022-07-05T06:53:58.949065",
     "status": "completed"
    },
    "tags": []
   },
   "outputs": [
    {
     "data": {
      "text/plain": [
       "SVC()"
      ]
     },
     "execution_count": 13,
     "metadata": {},
     "output_type": "execute_result"
    }
   ],
   "source": [
    "model.fit(X_train, y_train.values.ravel())"
   ]
  },
  {
   "cell_type": "markdown",
   "id": "42f4358c",
   "metadata": {
    "papermill": {
     "duration": 0.025333,
     "end_time": "2022-07-05T06:53:59.366707",
     "exception": false,
     "start_time": "2022-07-05T06:53:59.341374",
     "status": "completed"
    },
    "tags": []
   },
   "source": [
    "and make predictions\n"
   ]
  },
  {
   "cell_type": "code",
   "execution_count": 14,
   "id": "ecd2d183",
   "metadata": {
    "execution": {
     "iopub.execute_input": "2022-07-05T06:53:59.420250Z",
     "iopub.status.busy": "2022-07-05T06:53:59.419818Z",
     "iopub.status.idle": "2022-07-05T06:53:59.520191Z",
     "shell.execute_reply": "2022-07-05T06:53:59.519073Z"
    },
    "papermill": {
     "duration": 0.130721,
     "end_time": "2022-07-05T06:53:59.523117",
     "exception": false,
     "start_time": "2022-07-05T06:53:59.392396",
     "status": "completed"
    },
    "tags": []
   },
   "outputs": [],
   "source": [
    "preds = model.predict(X_test)"
   ]
  },
  {
   "cell_type": "markdown",
   "id": "1510aae1",
   "metadata": {
    "papermill": {
     "duration": 0.025062,
     "end_time": "2022-07-05T06:53:59.573937",
     "exception": false,
     "start_time": "2022-07-05T06:53:59.548875",
     "status": "completed"
    },
    "tags": []
   },
   "source": [
    "Here we defined a utility method to evaluate the model performance.\n"
   ]
  },
  {
   "cell_type": "code",
   "execution_count": 15,
   "id": "9d1e2eb7",
   "metadata": {
    "execution": {
     "iopub.execute_input": "2022-07-05T06:53:59.626631Z",
     "iopub.status.busy": "2022-07-05T06:53:59.626256Z",
     "iopub.status.idle": "2022-07-05T06:53:59.633225Z",
     "shell.execute_reply": "2022-07-05T06:53:59.631783Z"
    },
    "papermill": {
     "duration": 0.036381,
     "end_time": "2022-07-05T06:53:59.635726",
     "exception": false,
     "start_time": "2022-07-05T06:53:59.599345",
     "status": "completed"
    },
    "tags": []
   },
   "outputs": [],
   "source": [
    "def evaluate_metrics(yt, yp):\n",
    "    results_pos = {}\n",
    "    results_pos['accuracy'] = accuracy_score(yt, yp)\n",
    "    precision, recall, f_beta, _ = precision_recall_fscore_support(yt, yp, average='binary')\n",
    "    results_pos['recall'] = recall\n",
    "    results_pos['precision'] = precision\n",
    "    results_pos['f1score'] = f_beta\n",
    "    return results_pos"
   ]
  },
  {
   "cell_type": "code",
   "execution_count": 16,
   "id": "4c36a0d5",
   "metadata": {
    "execution": {
     "iopub.execute_input": "2022-07-05T06:53:59.690141Z",
     "iopub.status.busy": "2022-07-05T06:53:59.689450Z",
     "iopub.status.idle": "2022-07-05T06:53:59.700486Z",
     "shell.execute_reply": "2022-07-05T06:53:59.699315Z"
    },
    "papermill": {
     "duration": 0.040921,
     "end_time": "2022-07-05T06:53:59.702918",
     "exception": false,
     "start_time": "2022-07-05T06:53:59.661997",
     "status": "completed"
    },
    "tags": []
   },
   "outputs": [
    {
     "data": {
      "text/plain": [
       "{'accuracy': 0.9568062827225131,\n",
       " 'recall': 0.7727272727272727,\n",
       " 'precision': 0.8793103448275862,\n",
       " 'f1score': 0.8225806451612904}"
      ]
     },
     "execution_count": 16,
     "metadata": {},
     "output_type": "execute_result"
    }
   ],
   "source": [
    "evaluate_metrics(y_test, preds)"
   ]
  },
  {
   "cell_type": "markdown",
   "id": "9a78a990",
   "metadata": {
    "papermill": {
     "duration": 0.026013,
     "end_time": "2022-07-05T06:53:59.754554",
     "exception": false,
     "start_time": "2022-07-05T06:53:59.728541",
     "status": "completed"
    },
    "tags": []
   },
   "source": [
    "As we can see from the evaluation results above, the default SVM model achieves relatively good performance on this binary classification task. The overall accuracy is around `0.95` and the f1score is around `0.82`.\n"
   ]
  },
  {
   "cell_type": "markdown",
   "id": "fafc9d67",
   "metadata": {
    "papermill": {
     "duration": 0.025353,
     "end_time": "2022-07-05T06:53:59.806462",
     "exception": false,
     "start_time": "2022-07-05T06:53:59.781109",
     "status": "completed"
    },
    "tags": []
   },
   "source": [
    "Now, you have easily built a SVM model with relatively good performance. Can we achieve better classification performance by customizing the model?\n"
   ]
  },
  {
   "cell_type": "markdown",
   "id": "2efa65d8",
   "metadata": {
    "papermill": {
     "duration": 0.025508,
     "end_time": "2022-07-05T06:53:59.857896",
     "exception": false,
     "start_time": "2022-07-05T06:53:59.832388",
     "status": "completed"
    },
    "tags": []
   },
   "source": [
    "## Train SVM with different regularization parameters and kernels\n"
   ]
  },
  {
   "cell_type": "markdown",
   "id": "29b172d2",
   "metadata": {
    "papermill": {
     "duration": 0.025284,
     "end_time": "2022-07-05T06:53:59.908722",
     "exception": false,
     "start_time": "2022-07-05T06:53:59.883438",
     "status": "completed"
    },
    "tags": []
   },
   "source": [
    "The `SVC` model provided by sklearn has two important arguments to be tuned: regularization parameter `C` and `kernel`.\n"
   ]
  },
  {
   "cell_type": "markdown",
   "id": "f81ce082",
   "metadata": {
    "papermill": {
     "duration": 0.025158,
     "end_time": "2022-07-05T06:53:59.959871",
     "exception": false,
     "start_time": "2022-07-05T06:53:59.934713",
     "status": "completed"
    },
    "tags": []
   },
   "source": [
    "The `C` argument is a regularization parameter.\n",
    "\n",
    "*   For large values of C, the optimization will choose a smaller-margin hyperplane if that hyperplane does a better job of getting all the training points classified correctly.\n",
    "*   Conversely, a very small value of C will cause the optimizer to look for a larger-margin separating hyperplane, even if that hyperplane misclassifies more points.\n"
   ]
  },
  {
   "cell_type": "markdown",
   "id": "672e024d",
   "metadata": {
    "papermill": {
     "duration": 0.026266,
     "end_time": "2022-07-05T06:54:00.011643",
     "exception": false,
     "start_time": "2022-07-05T06:53:59.985377",
     "status": "completed"
    },
    "tags": []
   },
   "source": [
    "The `kernel` argument specifies the kernel to be used for transforming features to higher-dimensional spaces, some commonly used non-linear kernels are:\n",
    "\n",
    "*   `rbf`: Gaussian Radial Basis Function (RBF)\n",
    "*   `poly`: Polynomial Kernel\n",
    "*   `sigmoid`: Sigmoid Kernel\n"
   ]
  },
  {
   "cell_type": "markdown",
   "id": "bc5ef113",
   "metadata": {
    "papermill": {
     "duration": 0.026694,
     "end_time": "2022-07-05T06:54:00.065323",
     "exception": false,
     "start_time": "2022-07-05T06:54:00.038629",
     "status": "completed"
    },
    "tags": []
   },
   "source": [
    "Let's first try `C = 10` and ` kernel = 'rbf'  `\n"
   ]
  },
  {
   "cell_type": "code",
   "execution_count": 17,
   "id": "3970377f",
   "metadata": {
    "execution": {
     "iopub.execute_input": "2022-07-05T06:54:00.121123Z",
     "iopub.status.busy": "2022-07-05T06:54:00.120357Z",
     "iopub.status.idle": "2022-07-05T06:54:00.460761Z",
     "shell.execute_reply": "2022-07-05T06:54:00.459562Z"
    },
    "papermill": {
     "duration": 0.371212,
     "end_time": "2022-07-05T06:54:00.463409",
     "exception": false,
     "start_time": "2022-07-05T06:54:00.092197",
     "status": "completed"
    },
    "tags": []
   },
   "outputs": [
    {
     "data": {
      "text/plain": [
       "{'accuracy': 0.9679319371727748,\n",
       " 'recall': 0.8333333333333334,\n",
       " 'precision': 0.9116022099447514,\n",
       " 'f1score': 0.870712401055409}"
      ]
     },
     "execution_count": 17,
     "metadata": {},
     "output_type": "execute_result"
    }
   ],
   "source": [
    "model = SVC(C=10, kernel='rbf')\n",
    "model.fit(X_train, y_train.values.ravel())\n",
    "preds = model.predict(X_test)\n",
    "evaluate_metrics(y_test, preds)"
   ]
  },
  {
   "cell_type": "markdown",
   "id": "5517042a",
   "metadata": {
    "papermill": {
     "duration": 0.025569,
     "end_time": "2022-07-05T06:54:00.515470",
     "exception": false,
     "start_time": "2022-07-05T06:54:00.489901",
     "status": "completed"
    },
    "tags": []
   },
   "source": [
    "You should see that we have better performance than the default SVM model trained in the previous step. Now, it's your turn to try different parameters yourself.\n"
   ]
  },
  {
   "cell_type": "markdown",
   "id": "c985e2aa",
   "metadata": {
    "papermill": {
     "duration": 0.025445,
     "end_time": "2022-07-05T06:54:00.566754",
     "exception": false,
     "start_time": "2022-07-05T06:54:00.541309",
     "status": "completed"
    },
    "tags": []
   },
   "source": [
    "### Coding Exercise: Try different `C` values and `kernels` to see which combination produces SVM models with better classification performance.\n"
   ]
  },
  {
   "cell_type": "code",
   "execution_count": 18,
   "id": "1cb1ae9a",
   "metadata": {
    "execution": {
     "iopub.execute_input": "2022-07-05T06:54:00.620534Z",
     "iopub.status.busy": "2022-07-05T06:54:00.620122Z",
     "iopub.status.idle": "2022-07-05T06:54:01.042714Z",
     "shell.execute_reply": "2022-07-05T06:54:01.041897Z"
    },
    "papermill": {
     "duration": 0.452202,
     "end_time": "2022-07-05T06:54:01.045021",
     "exception": false,
     "start_time": "2022-07-05T06:54:00.592819",
     "status": "completed"
    },
    "tags": []
   },
   "outputs": [
    {
     "data": {
      "text/plain": [
       "{'accuracy': 0.9568062827225131,\n",
       " 'recall': 0.7727272727272727,\n",
       " 'precision': 0.8793103448275862,\n",
       " 'f1score': 0.8225806451612904}"
      ]
     },
     "execution_count": 18,
     "metadata": {},
     "output_type": "execute_result"
    }
   ],
   "source": [
    "# Type your code here\n",
    "model = SVC(C=1, kernel='rbf')\n",
    "model.fit(X_train, y_train.values.ravel())\n",
    "preds = model.predict(X_test)\n",
    "evaluate_metrics(y_test, preds)"
   ]
  },
  {
   "cell_type": "code",
   "execution_count": 19,
   "id": "aee89626",
   "metadata": {
    "execution": {
     "iopub.execute_input": "2022-07-05T06:54:01.101195Z",
     "iopub.status.busy": "2022-07-05T06:54:01.100530Z",
     "iopub.status.idle": "2022-07-05T06:54:01.422189Z",
     "shell.execute_reply": "2022-07-05T06:54:01.421024Z"
    },
    "papermill": {
     "duration": 0.352181,
     "end_time": "2022-07-05T06:54:01.424753",
     "exception": false,
     "start_time": "2022-07-05T06:54:01.072572",
     "status": "completed"
    },
    "tags": []
   },
   "outputs": [
    {
     "data": {
      "text/plain": [
       "{'accuracy': 0.9698952879581152,\n",
       " 'recall': 0.8636363636363636,\n",
       " 'precision': 0.9,\n",
       " 'f1score': 0.8814432989690723}"
      ]
     },
     "execution_count": 19,
     "metadata": {},
     "output_type": "execute_result"
    }
   ],
   "source": [
    "model = SVC(C=50, kernel='rbf')\n",
    "model.fit(X_train, y_train.values.ravel())\n",
    "preds = model.predict(X_test)\n",
    "evaluate_metrics(y_test, preds)"
   ]
  },
  {
   "cell_type": "markdown",
   "id": "56f13e3d",
   "metadata": {
    "papermill": {
     "duration": 0.027235,
     "end_time": "2022-07-05T06:54:01.478561",
     "exception": false,
     "start_time": "2022-07-05T06:54:01.451326",
     "status": "completed"
    },
    "tags": []
   },
   "source": [
    "## Tune regularization parameter C and Kernels via GridSearch\n"
   ]
  },
  {
   "cell_type": "markdown",
   "id": "068f746e",
   "metadata": {
    "papermill": {
     "duration": 0.026593,
     "end_time": "2022-07-05T06:54:01.531635",
     "exception": false,
     "start_time": "2022-07-05T06:54:01.505042",
     "status": "completed"
    },
    "tags": []
   },
   "source": [
    "Exhaustively trying different hyperparameters by hands is infeasible. Thus, `sklearn` provides users with many automatic hyperparameter tuning methods. A popular one is grid search cross-validation `GridSearchCV`\n"
   ]
  },
  {
   "cell_type": "markdown",
   "id": "e733bd92",
   "metadata": {
    "papermill": {
     "duration": 0.027566,
     "end_time": "2022-07-05T06:54:01.585407",
     "exception": false,
     "start_time": "2022-07-05T06:54:01.557841",
     "status": "completed"
    },
    "tags": []
   },
   "source": [
    "Next, let's quickly try `GridSearchCV` to find the optimized `C` and `kernel` combination:\n"
   ]
  },
  {
   "cell_type": "markdown",
   "id": "ca9b46c0",
   "metadata": {
    "papermill": {
     "duration": 0.025638,
     "end_time": "2022-07-05T06:54:01.638081",
     "exception": false,
     "start_time": "2022-07-05T06:54:01.612443",
     "status": "completed"
    },
    "tags": []
   },
   "source": [
    "We first define some candidate parameter values we want to search in a `dict` object, like the following setting:\n"
   ]
  },
  {
   "cell_type": "code",
   "execution_count": 20,
   "id": "56e5accd",
   "metadata": {
    "execution": {
     "iopub.execute_input": "2022-07-05T06:54:01.694001Z",
     "iopub.status.busy": "2022-07-05T06:54:01.693506Z",
     "iopub.status.idle": "2022-07-05T06:54:01.699031Z",
     "shell.execute_reply": "2022-07-05T06:54:01.698137Z"
    },
    "papermill": {
     "duration": 0.036484,
     "end_time": "2022-07-05T06:54:01.701145",
     "exception": false,
     "start_time": "2022-07-05T06:54:01.664661",
     "status": "completed"
    },
    "tags": []
   },
   "outputs": [],
   "source": [
    "params_grid = {\n",
    "    'C': [1, 10, 100],\n",
    "    'kernel': ['poly', 'rbf', 'sigmoid']\n",
    "}"
   ]
  },
  {
   "cell_type": "markdown",
   "id": "40512509",
   "metadata": {
    "papermill": {
     "duration": 0.025659,
     "end_time": "2022-07-05T06:54:01.753734",
     "exception": false,
     "start_time": "2022-07-05T06:54:01.728075",
     "status": "completed"
    },
    "tags": []
   },
   "source": [
    "Then, we define a  SVM model\n"
   ]
  },
  {
   "cell_type": "code",
   "execution_count": 21,
   "id": "ee83be50",
   "metadata": {
    "execution": {
     "iopub.execute_input": "2022-07-05T06:54:01.811621Z",
     "iopub.status.busy": "2022-07-05T06:54:01.810316Z",
     "iopub.status.idle": "2022-07-05T06:54:01.815332Z",
     "shell.execute_reply": "2022-07-05T06:54:01.814505Z"
    },
    "papermill": {
     "duration": 0.035789,
     "end_time": "2022-07-05T06:54:01.817530",
     "exception": false,
     "start_time": "2022-07-05T06:54:01.781741",
     "status": "completed"
    },
    "tags": []
   },
   "outputs": [],
   "source": [
    "model = SVC()"
   ]
  },
  {
   "cell_type": "markdown",
   "id": "069fd62f",
   "metadata": {
    "papermill": {
     "duration": 0.025707,
     "end_time": "2022-07-05T06:54:01.870013",
     "exception": false,
     "start_time": "2022-07-05T06:54:01.844306",
     "status": "completed"
    },
    "tags": []
   },
   "source": [
    "and use create a `GridSearchCV` method to grid search `params_grid` and find the optimized combination with best `f1` score. The searching process may take several minutes to complete.\n"
   ]
  },
  {
   "cell_type": "code",
   "execution_count": 22,
   "id": "d71f92a2",
   "metadata": {
    "execution": {
     "iopub.execute_input": "2022-07-05T06:54:01.927242Z",
     "iopub.status.busy": "2022-07-05T06:54:01.925252Z",
     "iopub.status.idle": "2022-07-05T06:54:18.907016Z",
     "shell.execute_reply": "2022-07-05T06:54:18.905883Z"
    },
    "papermill": {
     "duration": 17.012321,
     "end_time": "2022-07-05T06:54:18.909906",
     "exception": false,
     "start_time": "2022-07-05T06:54:01.897585",
     "status": "completed"
    },
    "tags": []
   },
   "outputs": [
    {
     "name": "stdout",
     "output_type": "stream",
     "text": [
      "Fitting 5 folds for each of 9 candidates, totalling 45 fits\n"
     ]
    }
   ],
   "source": [
    "# Define a GridSearchCV to search the best parameters\n",
    "grid_search = GridSearchCV(estimator = model, \n",
    "                           param_grid = params_grid, \n",
    "                           scoring='f1',\n",
    "                           cv = 5, verbose = 1)\n",
    "# Search the best parameters with training data\n",
    "grid_search.fit(X_train, y_train.values.ravel())\n",
    "best_params = grid_search.best_params_"
   ]
  },
  {
   "cell_type": "code",
   "execution_count": 23,
   "id": "6a456979",
   "metadata": {
    "execution": {
     "iopub.execute_input": "2022-07-05T06:54:18.964830Z",
     "iopub.status.busy": "2022-07-05T06:54:18.964144Z",
     "iopub.status.idle": "2022-07-05T06:54:18.970502Z",
     "shell.execute_reply": "2022-07-05T06:54:18.969369Z"
    },
    "papermill": {
     "duration": 0.036711,
     "end_time": "2022-07-05T06:54:18.972854",
     "exception": false,
     "start_time": "2022-07-05T06:54:18.936143",
     "status": "completed"
    },
    "tags": []
   },
   "outputs": [
    {
     "data": {
      "text/plain": [
       "{'C': 100, 'kernel': 'rbf'}"
      ]
     },
     "execution_count": 23,
     "metadata": {},
     "output_type": "execute_result"
    }
   ],
   "source": [
    "best_params"
   ]
  },
  {
   "cell_type": "markdown",
   "id": "6d8ceb16",
   "metadata": {
    "papermill": {
     "duration": 0.026769,
     "end_time": "2022-07-05T06:54:19.025953",
     "exception": false,
     "start_time": "2022-07-05T06:54:18.999184",
     "status": "completed"
    },
    "tags": []
   },
   "source": [
    "Okay, we can see `C=100` and `kernel=`rbf\\`\\` seems to produce the highest f1score. Let's quickly try this combination to see the model performance.\n"
   ]
  },
  {
   "cell_type": "code",
   "execution_count": 24,
   "id": "a154d337",
   "metadata": {
    "execution": {
     "iopub.execute_input": "2022-07-05T06:54:19.081950Z",
     "iopub.status.busy": "2022-07-05T06:54:19.081185Z",
     "iopub.status.idle": "2022-07-05T06:54:19.399973Z",
     "shell.execute_reply": "2022-07-05T06:54:19.398536Z"
    },
    "papermill": {
     "duration": 0.349846,
     "end_time": "2022-07-05T06:54:19.402731",
     "exception": false,
     "start_time": "2022-07-05T06:54:19.052885",
     "status": "completed"
    },
    "tags": []
   },
   "outputs": [
    {
     "data": {
      "text/plain": [
       "{'accuracy': 0.9698952879581152,\n",
       " 'recall': 0.8787878787878788,\n",
       " 'precision': 0.8877551020408163,\n",
       " 'f1score': 0.8832487309644671}"
      ]
     },
     "execution_count": 24,
     "metadata": {},
     "output_type": "execute_result"
    }
   ],
   "source": [
    "model = SVC(C=100, kernel='rbf')\n",
    "model.fit(X_train, y_train.values.ravel())\n",
    "preds = model.predict(X_test)\n",
    "evaluate_metrics(y_test, preds)"
   ]
  },
  {
   "cell_type": "code",
   "execution_count": 25,
   "id": "d4e3fd77",
   "metadata": {
    "execution": {
     "iopub.execute_input": "2022-07-05T06:54:19.458654Z",
     "iopub.status.busy": "2022-07-05T06:54:19.457948Z",
     "iopub.status.idle": "2022-07-05T06:54:19.730351Z",
     "shell.execute_reply": "2022-07-05T06:54:19.728545Z"
    },
    "papermill": {
     "duration": 0.303906,
     "end_time": "2022-07-05T06:54:19.733567",
     "exception": false,
     "start_time": "2022-07-05T06:54:19.429661",
     "status": "completed"
    },
    "tags": []
   },
   "outputs": [
    {
     "data": {
      "text/plain": [
       "{'accuracy': 0.9693994436262477,\n",
       " 'recall': 0.8775252525252525,\n",
       " 'precision': 0.8853503184713376,\n",
       " 'f1score': 0.8814204185161698}"
      ]
     },
     "execution_count": 25,
     "metadata": {},
     "output_type": "execute_result"
    }
   ],
   "source": [
    "preds = model.predict(X_train)\n",
    "evaluate_metrics(y_train, preds)"
   ]
  },
  {
   "cell_type": "markdown",
   "id": "b559cfb7",
   "metadata": {
    "papermill": {
     "duration": 0.02853,
     "end_time": "2022-07-05T06:54:19.790587",
     "exception": false,
     "start_time": "2022-07-05T06:54:19.762057",
     "status": "completed"
    },
    "tags": []
   },
   "source": [
    "The best f1score now becomes `0.88` after hyperparameter tuning.\n"
   ]
  },
  {
   "cell_type": "markdown",
   "id": "6703bec3",
   "metadata": {
    "papermill": {
     "duration": 0.028239,
     "end_time": "2022-07-05T06:54:19.845566",
     "exception": false,
     "start_time": "2022-07-05T06:54:19.817327",
     "status": "completed"
    },
    "tags": []
   },
   "source": [
    "## Plot SVM hyperplane and margin\n"
   ]
  },
  {
   "cell_type": "markdown",
   "id": "f5314298",
   "metadata": {
    "papermill": {
     "duration": 0.027479,
     "end_time": "2022-07-05T06:54:19.901776",
     "exception": false,
     "start_time": "2022-07-05T06:54:19.874297",
     "status": "completed"
    },
    "tags": []
   },
   "source": [
    "Okay, you have learned how to define, train, evaluate, and fine-tune a SVM model with `sklearn`. However, so far we only obtained plain evaluation metrics and they are not intuitive to help us understand and interpret an SVM model. It would be great to visualize the see actual hyperplains and margins learned in an SVM model.\n"
   ]
  },
  {
   "cell_type": "markdown",
   "id": "cab4567b",
   "metadata": {
    "papermill": {
     "duration": 0.028177,
     "end_time": "2022-07-05T06:54:19.957295",
     "exception": false,
     "start_time": "2022-07-05T06:54:19.929118",
     "status": "completed"
    },
    "tags": []
   },
   "source": [
    "Since it is challenging to visualize a hyperplane higher than 3 dimensions. To illustrate the idea, we will focus on a 2-dimensional feature space.\n"
   ]
  },
  {
   "cell_type": "markdown",
   "id": "138894b3",
   "metadata": {
    "papermill": {
     "duration": 0.027361,
     "end_time": "2022-07-05T06:54:20.013002",
     "exception": false,
     "start_time": "2022-07-05T06:54:19.985641",
     "status": "completed"
    },
    "tags": []
   },
   "source": [
    "We first simplify the dataset with only two features `Calories` and `Dietary Fiber`, and include only 1000 instances:\n"
   ]
  },
  {
   "cell_type": "code",
   "execution_count": 26,
   "id": "0cd98060",
   "metadata": {
    "execution": {
     "iopub.execute_input": "2022-07-05T06:54:20.071227Z",
     "iopub.status.busy": "2022-07-05T06:54:20.070756Z",
     "iopub.status.idle": "2022-07-05T06:54:20.077260Z",
     "shell.execute_reply": "2022-07-05T06:54:20.075958Z"
    },
    "papermill": {
     "duration": 0.039185,
     "end_time": "2022-07-05T06:54:20.079724",
     "exception": false,
     "start_time": "2022-07-05T06:54:20.040539",
     "status": "completed"
    },
    "tags": []
   },
   "outputs": [],
   "source": [
    "simplified_food_df = food_df[['Calories', 'Dietary Fiber', 'class']]"
   ]
  },
  {
   "cell_type": "code",
   "execution_count": 27,
   "id": "1623288f",
   "metadata": {
    "execution": {
     "iopub.execute_input": "2022-07-05T06:54:20.139835Z",
     "iopub.status.busy": "2022-07-05T06:54:20.139009Z",
     "iopub.status.idle": "2022-07-05T06:54:20.146471Z",
     "shell.execute_reply": "2022-07-05T06:54:20.145333Z"
    },
    "papermill": {
     "duration": 0.040992,
     "end_time": "2022-07-05T06:54:20.149258",
     "exception": false,
     "start_time": "2022-07-05T06:54:20.108266",
     "status": "completed"
    },
    "tags": []
   },
   "outputs": [],
   "source": [
    "X = simplified_food_df.iloc[:1000, :-1].values\n",
    "y = simplified_food_df.iloc[:1000, -1:].values"
   ]
  },
  {
   "cell_type": "markdown",
   "id": "5a827d9f",
   "metadata": {
    "papermill": {
     "duration": 0.028411,
     "end_time": "2022-07-05T06:54:20.205357",
     "exception": false,
     "start_time": "2022-07-05T06:54:20.176946",
     "status": "completed"
    },
    "tags": []
   },
   "source": [
    "and we undersample the majority class `Class = 0` to balance the class distribution so we will produce a clearer visualization.\n"
   ]
  },
  {
   "cell_type": "code",
   "execution_count": 28,
   "id": "dd22d67e",
   "metadata": {
    "execution": {
     "iopub.execute_input": "2022-07-05T06:54:20.263611Z",
     "iopub.status.busy": "2022-07-05T06:54:20.262808Z",
     "iopub.status.idle": "2022-07-05T06:54:20.270697Z",
     "shell.execute_reply": "2022-07-05T06:54:20.269185Z"
    },
    "papermill": {
     "duration": 0.040172,
     "end_time": "2022-07-05T06:54:20.273837",
     "exception": false,
     "start_time": "2022-07-05T06:54:20.233665",
     "status": "completed"
    },
    "tags": []
   },
   "outputs": [],
   "source": [
    "under_sampler = RandomUnderSampler(random_state=123)\n",
    "X_under, y_under = under_sampler.fit_resample(X, y)"
   ]
  },
  {
   "cell_type": "code",
   "execution_count": 29,
   "id": "5c00a7f0",
   "metadata": {
    "execution": {
     "iopub.execute_input": "2022-07-05T06:54:20.332204Z",
     "iopub.status.busy": "2022-07-05T06:54:20.331683Z",
     "iopub.status.idle": "2022-07-05T06:54:20.338171Z",
     "shell.execute_reply": "2022-07-05T06:54:20.336867Z"
    },
    "papermill": {
     "duration": 0.038636,
     "end_time": "2022-07-05T06:54:20.340480",
     "exception": false,
     "start_time": "2022-07-05T06:54:20.301844",
     "status": "completed"
    },
    "tags": []
   },
   "outputs": [
    {
     "name": "stdout",
     "output_type": "stream",
     "text": [
      "Dataset resampled shape, X: (62, 2), y: (62,)\n"
     ]
    }
   ],
   "source": [
    "print(f\"Dataset resampled shape, X: {X_under.shape}, y: {y_under.shape}\")"
   ]
  },
  {
   "cell_type": "markdown",
   "id": "d0a6ef32",
   "metadata": {
    "papermill": {
     "duration": 0.026679,
     "end_time": "2022-07-05T06:54:20.394152",
     "exception": false,
     "start_time": "2022-07-05T06:54:20.367473",
     "status": "completed"
    },
    "tags": []
   },
   "source": [
    "To better show the hyperplane and margins, we normalize the features with a `MinMaxScaler`.\n"
   ]
  },
  {
   "cell_type": "code",
   "execution_count": 30,
   "id": "9d2bd3b5",
   "metadata": {
    "execution": {
     "iopub.execute_input": "2022-07-05T06:54:20.450997Z",
     "iopub.status.busy": "2022-07-05T06:54:20.450271Z",
     "iopub.status.idle": "2022-07-05T06:54:20.455405Z",
     "shell.execute_reply": "2022-07-05T06:54:20.454288Z"
    },
    "papermill": {
     "duration": 0.035788,
     "end_time": "2022-07-05T06:54:20.457692",
     "exception": false,
     "start_time": "2022-07-05T06:54:20.421904",
     "status": "completed"
    },
    "tags": []
   },
   "outputs": [],
   "source": [
    "scaler = MinMaxScaler()\n",
    "X_under = scaler.fit_transform(X_under)"
   ]
  },
  {
   "cell_type": "markdown",
   "id": "e7d8e903",
   "metadata": {
    "papermill": {
     "duration": 0.026454,
     "end_time": "2022-07-05T06:54:20.511025",
     "exception": false,
     "start_time": "2022-07-05T06:54:20.484571",
     "status": "completed"
    },
    "tags": []
   },
   "source": [
    "Okay, let's first train a linear SVM model with `kernel=linear` so that we can get a linear hyperplane and margins.\n"
   ]
  },
  {
   "cell_type": "code",
   "execution_count": 31,
   "id": "ed20eba5",
   "metadata": {
    "execution": {
     "iopub.execute_input": "2022-07-05T06:54:20.566332Z",
     "iopub.status.busy": "2022-07-05T06:54:20.565673Z",
     "iopub.status.idle": "2022-07-05T06:54:20.573601Z",
     "shell.execute_reply": "2022-07-05T06:54:20.572692Z"
    },
    "papermill": {
     "duration": 0.03814,
     "end_time": "2022-07-05T06:54:20.575807",
     "exception": false,
     "start_time": "2022-07-05T06:54:20.537667",
     "status": "completed"
    },
    "tags": []
   },
   "outputs": [
    {
     "data": {
      "text/plain": [
       "SVC(C=1000, kernel='linear')"
      ]
     },
     "execution_count": 31,
     "metadata": {},
     "output_type": "execute_result"
    }
   ],
   "source": [
    "linear_svm = SVC(C=1000, kernel='linear')\n",
    "linear_svm.fit(X_under, y_under)"
   ]
  },
  {
   "cell_type": "markdown",
   "id": "8b03b341",
   "metadata": {
    "papermill": {
     "duration": 0.026323,
     "end_time": "2022-07-05T06:54:20.629134",
     "exception": false,
     "start_time": "2022-07-05T06:54:20.602811",
     "status": "completed"
    },
    "tags": []
   },
   "source": [
    "Here we also provided an utility method to plot the decision boundary (hyperplane), support vectors, and margins. You may write your own visualization method if you are interested.\n"
   ]
  },
  {
   "cell_type": "code",
   "execution_count": 32,
   "id": "6bf3ed0d",
   "metadata": {
    "execution": {
     "iopub.execute_input": "2022-07-05T06:54:20.685166Z",
     "iopub.status.busy": "2022-07-05T06:54:20.683930Z",
     "iopub.status.idle": "2022-07-05T06:54:20.695740Z",
     "shell.execute_reply": "2022-07-05T06:54:20.694694Z"
    },
    "papermill": {
     "duration": 0.042504,
     "end_time": "2022-07-05T06:54:20.698611",
     "exception": false,
     "start_time": "2022-07-05T06:54:20.656107",
     "status": "completed"
    },
    "tags": []
   },
   "outputs": [],
   "source": [
    "def plot_decision_boundry(X, y, model):\n",
    "    plt.figure(figsize=(16, 12))\n",
    "    plt.scatter(X[:, 0], X[:, 1], c=y, cmap=plt.cm.Paired)\n",
    "\n",
    "    # plot the decision function\n",
    "    ax = plt.gca()\n",
    "    xlim = ax.get_xlim()\n",
    "    ylim = ax.get_ylim()\n",
    "\n",
    "    # create grid to evaluate model\n",
    "    xx = np.linspace(xlim[0], xlim[1], 30)\n",
    "    yy = np.linspace(ylim[0], ylim[1], 30)\n",
    "    YY, XX = np.meshgrid(yy, xx)\n",
    "    xy = np.vstack([XX.ravel(), YY.ravel()]).T\n",
    "    Z = model.decision_function(xy).reshape(XX.shape)\n",
    "\n",
    "    # plot decision boundary and margins\n",
    "    ax.contour(\n",
    "        XX, YY, Z, colors=\"k\", levels=[-1, 0, 1], alpha=0.5, linestyles=[\"--\", \"-\", \"--\"]\n",
    "    )\n",
    "\n",
    "    # plot support vectors\n",
    "    ax.scatter(\n",
    "        model.support_vectors_[:, 0],\n",
    "        model.support_vectors_[:, 1],\n",
    "        s=100,\n",
    "        linewidth=1,\n",
    "        facecolors=\"none\",\n",
    "        edgecolors=\"k\",\n",
    "    )\n",
    "    plt.show()"
   ]
  },
  {
   "cell_type": "code",
   "execution_count": 33,
   "id": "7daf64c8",
   "metadata": {
    "execution": {
     "iopub.execute_input": "2022-07-05T06:54:20.755280Z",
     "iopub.status.busy": "2022-07-05T06:54:20.754872Z",
     "iopub.status.idle": "2022-07-05T06:54:20.988153Z",
     "shell.execute_reply": "2022-07-05T06:54:20.986861Z"
    },
    "papermill": {
     "duration": 0.26533,
     "end_time": "2022-07-05T06:54:20.990932",
     "exception": false,
     "start_time": "2022-07-05T06:54:20.725602",
     "status": "completed"
    },
    "tags": []
   },
   "outputs": [
    {
     "data": {
      "image/png": "[encoded data removed]",
      "text/plain": [
       "<Figure size 1152x864 with 1 Axes>"
      ]
     },
     "metadata": {
      "needs_background": "light"
     },
     "output_type": "display_data"
    }
   ],
   "source": [
    "plot_decision_boundry(X_under, y_under, linear_svm)"
   ]
  },
  {
   "cell_type": "markdown",
   "id": "614a7807",
   "metadata": {
    "papermill": {
     "duration": 0.027595,
     "end_time": "2022-07-05T06:54:21.046703",
     "exception": false,
     "start_time": "2022-07-05T06:54:21.019108",
     "status": "completed"
    },
    "tags": []
   },
   "source": [
    "Okay, we can see a clear linear hyperplane seperates the two classes (Blue dots vs Orange dots). The highlighted dots are the support vectors determining the hyperplain.\n"
   ]
  },
  {
   "cell_type": "markdown",
   "id": "4de06186",
   "metadata": {
    "papermill": {
     "duration": 0.028267,
     "end_time": "2022-07-05T06:54:21.103149",
     "exception": false,
     "start_time": "2022-07-05T06:54:21.074882",
     "status": "completed"
    },
    "tags": []
   },
   "source": [
    "If we want to include non-linear kernels, we should get a non-linear decision boundary in the 2-d space (maybe linear in higher feature space). So here we use a `rbf` kernel:\n"
   ]
  },
  {
   "cell_type": "code",
   "execution_count": 34,
   "id": "26c584e1",
   "metadata": {
    "execution": {
     "iopub.execute_input": "2022-07-05T06:54:21.164262Z",
     "iopub.status.busy": "2022-07-05T06:54:21.161722Z",
     "iopub.status.idle": "2022-07-05T06:54:21.171989Z",
     "shell.execute_reply": "2022-07-05T06:54:21.170832Z"
    },
    "papermill": {
     "duration": 0.043314,
     "end_time": "2022-07-05T06:54:21.174472",
     "exception": false,
     "start_time": "2022-07-05T06:54:21.131158",
     "status": "completed"
    },
    "tags": []
   },
   "outputs": [
    {
     "data": {
      "text/plain": [
       "SVC(C=100)"
      ]
     },
     "execution_count": 34,
     "metadata": {},
     "output_type": "execute_result"
    }
   ],
   "source": [
    "svm_rbf_kernel = SVC(C=100, kernel='rbf')\n",
    "svm_rbf_kernel.fit(X_under, y_under)"
   ]
  },
  {
   "cell_type": "code",
   "execution_count": 35,
   "id": "79a47594",
   "metadata": {
    "execution": {
     "iopub.execute_input": "2022-07-05T06:54:21.232855Z",
     "iopub.status.busy": "2022-07-05T06:54:21.232233Z",
     "iopub.status.idle": "2022-07-05T06:54:21.459640Z",
     "shell.execute_reply": "2022-07-05T06:54:21.458491Z"
    },
    "papermill": {
     "duration": 0.259625,
     "end_time": "2022-07-05T06:54:21.462229",
     "exception": false,
     "start_time": "2022-07-05T06:54:21.202604",
     "status": "completed"
    },
    "tags": []
   },
   "outputs": [
    {
     "data": {
      "image/png": "[encoded data removed]",
      "text/plain": [
       "<Figure size 1152x864 with 1 Axes>"
      ]
     },
     "metadata": {
      "needs_background": "light"
     },
     "output_type": "display_data"
    }
   ],
   "source": [
    "plot_decision_boundry(X_under, y_under, svm_rbf_kernel)"
   ]
  },
  {
   "cell_type": "markdown",
   "id": "e4628354",
   "metadata": {
    "papermill": {
     "duration": 0.028234,
     "end_time": "2022-07-05T06:54:21.520177",
     "exception": false,
     "start_time": "2022-07-05T06:54:21.491943",
     "status": "completed"
    },
    "tags": []
   },
   "source": [
    "We now see a non-linear hyperplane and margins separating the two classes.\n"
   ]
  },
  {
   "cell_type": "markdown",
   "id": "2144e13a",
   "metadata": {
    "papermill": {
     "duration": 0.028379,
     "end_time": "2022-07-05T06:54:21.577651",
     "exception": false,
     "start_time": "2022-07-05T06:54:21.549272",
     "status": "completed"
    },
    "tags": []
   },
   "source": [
    "### Coding Exercise: Try different `C` values and `kernels` to see the how they affect the hyperplanes and margins.\n"
   ]
  },
  {
   "cell_type": "code",
   "execution_count": 36,
   "id": "7f983006",
   "metadata": {
    "execution": {
     "iopub.execute_input": "2022-07-05T06:54:21.636986Z",
     "iopub.status.busy": "2022-07-05T06:54:21.636571Z",
     "iopub.status.idle": "2022-07-05T06:54:21.871275Z",
     "shell.execute_reply": "2022-07-05T06:54:21.869858Z"
    },
    "papermill": {
     "duration": 0.267602,
     "end_time": "2022-07-05T06:54:21.874018",
     "exception": false,
     "start_time": "2022-07-05T06:54:21.606416",
     "status": "completed"
    },
    "tags": []
   },
   "outputs": [
    {
     "data": {
      "image/png": "[encoded data removed]",
      "text/plain": [
       "<Figure size 1152x864 with 1 Axes>"
      ]
     },
     "metadata": {
      "needs_background": "light"
     },
     "output_type": "display_data"
    }
   ],
   "source": [
    "## Type your code here\n",
    "svm_rbf_kernel = SVC(C=10, kernel='rbf')\n",
    "svm_rbf_kernel.fit(X_under, y_under)\n",
    "plot_decision_boundry(X_under, y_under, svm_rbf_kernel)"
   ]
  },
  {
   "cell_type": "markdown",
   "id": "6d843b43",
   "metadata": {
    "papermill": {
     "duration": 0.030804,
     "end_time": "2022-07-05T06:54:21.934395",
     "exception": false,
     "start_time": "2022-07-05T06:54:21.903591",
     "status": "completed"
    },
    "tags": []
   },
   "source": [
    "<details><summary>Click here for a sample solution</summary>\n",
    "\n",
    "```python\n",
    "svm_rbf_kernel = SVC(C=100, kernel='poly')\n",
    "svm_rbf_kernel.fit(X_under, y_under)\n",
    "plot_decision_boundry(X_under, y_under, svm_rbf_kernel)\n",
    "```\n",
    "\n",
    "</details>\n"
   ]
  },
  {
   "cell_type": "code",
   "execution_count": 37,
   "id": "45d43120",
   "metadata": {
    "execution": {
     "iopub.execute_input": "2022-07-05T06:54:21.996106Z",
     "iopub.status.busy": "2022-07-05T06:54:21.994947Z",
     "iopub.status.idle": "2022-07-05T06:54:22.230972Z",
     "shell.execute_reply": "2022-07-05T06:54:22.229562Z"
    },
    "papermill": {
     "duration": 0.269654,
     "end_time": "2022-07-05T06:54:22.233826",
     "exception": false,
     "start_time": "2022-07-05T06:54:21.964172",
     "status": "completed"
    },
    "tags": []
   },
   "outputs": [
    {
     "data": {
      "image/png": "[encoded data removed]",
      "text/plain": [
       "<Figure size 1152x864 with 1 Axes>"
      ]
     },
     "metadata": {
      "needs_background": "light"
     },
     "output_type": "display_data"
    }
   ],
   "source": [
    "## Type your code here\n",
    "svm_rbf_kernel = SVC(C=1, kernel='rbf')\n",
    "svm_rbf_kernel.fit(X_under, y_under)\n",
    "plot_decision_boundry(X_under, y_under, svm_rbf_kernel)"
   ]
  },
  {
   "cell_type": "code",
   "execution_count": 38,
   "id": "75fb4d7a",
   "metadata": {
    "execution": {
     "iopub.execute_input": "2022-07-05T06:54:22.297543Z",
     "iopub.status.busy": "2022-07-05T06:54:22.297131Z",
     "iopub.status.idle": "2022-07-05T06:54:22.524001Z",
     "shell.execute_reply": "2022-07-05T06:54:22.522863Z"
    },
    "papermill": {
     "duration": 0.261888,
     "end_time": "2022-07-05T06:54:22.526765",
     "exception": false,
     "start_time": "2022-07-05T06:54:22.264877",
     "status": "completed"
    },
    "tags": []
   },
   "outputs": [
    {
     "data": {
      "image/png": "[encoded data removed]",
      "text/plain": [
       "<Figure size 1152x864 with 1 Axes>"
      ]
     },
     "metadata": {
      "needs_background": "light"
     },
     "output_type": "display_data"
    }
   ],
   "source": [
    "## Type your code here\n",
    "svm_rbf_kernel = SVC(C=0.1, kernel='rbf')\n",
    "svm_rbf_kernel.fit(X_under, y_under)\n",
    "plot_decision_boundry(X_under, y_under, svm_rbf_kernel)"
   ]
  },
  {
   "cell_type": "code",
   "execution_count": 39,
   "id": "93e57a94",
   "metadata": {
    "execution": {
     "iopub.execute_input": "2022-07-05T06:54:22.592146Z",
     "iopub.status.busy": "2022-07-05T06:54:22.591714Z",
     "iopub.status.idle": "2022-07-05T06:54:22.820260Z",
     "shell.execute_reply": "2022-07-05T06:54:22.818895Z"
    },
    "papermill": {
     "duration": 0.264826,
     "end_time": "2022-07-05T06:54:22.823171",
     "exception": false,
     "start_time": "2022-07-05T06:54:22.558345",
     "status": "completed"
    },
    "tags": []
   },
   "outputs": [
    {
     "data": {
      "image/png": "[encoded data removed]",
      "text/plain": [
       "<Figure size 1152x864 with 1 Axes>"
      ]
     },
     "metadata": {
      "needs_background": "light"
     },
     "output_type": "display_data"
    }
   ],
   "source": [
    "## Type your code here\n",
    "svm_rbf_kernel = SVC(C=0.01, kernel='rbf')\n",
    "svm_rbf_kernel.fit(X_under, y_under)\n",
    "plot_decision_boundry(X_under, y_under, svm_rbf_kernel)"
   ]
  },
  {
   "cell_type": "code",
   "execution_count": 40,
   "id": "f08aa938",
   "metadata": {
    "execution": {
     "iopub.execute_input": "2022-07-05T06:54:22.891410Z",
     "iopub.status.busy": "2022-07-05T06:54:22.890598Z",
     "iopub.status.idle": "2022-07-05T06:54:23.138011Z",
     "shell.execute_reply": "2022-07-05T06:54:23.136877Z"
    },
    "papermill": {
     "duration": 0.284268,
     "end_time": "2022-07-05T06:54:23.140251",
     "exception": false,
     "start_time": "2022-07-05T06:54:22.855983",
     "status": "completed"
    },
    "tags": []
   },
   "outputs": [
    {
     "data": {
      "image/png": "[encoded data removed]",
      "text/plain": [
       "<Figure size 1152x864 with 1 Axes>"
      ]
     },
     "metadata": {
      "needs_background": "light"
     },
     "output_type": "display_data"
    }
   ],
   "source": [
    "## Type your code here\n",
    "svm_rbf_kernel = SVC(C=10, kernel='sigmoid')\n",
    "svm_rbf_kernel.fit(X_under, y_under)\n",
    "plot_decision_boundry(X_under, y_under, svm_rbf_kernel)"
   ]
  },
  {
   "cell_type": "code",
   "execution_count": 41,
   "id": "78b58762",
   "metadata": {
    "execution": {
     "iopub.execute_input": "2022-07-05T06:54:23.209451Z",
     "iopub.status.busy": "2022-07-05T06:54:23.208716Z",
     "iopub.status.idle": "2022-07-05T06:54:23.444254Z",
     "shell.execute_reply": "2022-07-05T06:54:23.443039Z"
    },
    "papermill": {
     "duration": 0.274127,
     "end_time": "2022-07-05T06:54:23.447596",
     "exception": false,
     "start_time": "2022-07-05T06:54:23.173469",
     "status": "completed"
    },
    "tags": []
   },
   "outputs": [
    {
     "data": {
      "image/png": "[encoded data removed]",
      "text/plain": [
       "<Figure size 1152x864 with 1 Axes>"
      ]
     },
     "metadata": {
      "needs_background": "light"
     },
     "output_type": "display_data"
    }
   ],
   "source": [
    "## Type your code here\n",
    "svm_rbf_kernel = SVC(C=10, kernel='rbf')\n",
    "svm_rbf_kernel.fit(X_under, y_under)\n",
    "plot_decision_boundry(X_under, y_under, svm_rbf_kernel)"
   ]
  },
  {
   "cell_type": "markdown",
   "id": "c07b4939",
   "metadata": {
    "papermill": {
     "duration": 0.03536,
     "end_time": "2022-07-05T06:54:23.518657",
     "exception": false,
     "start_time": "2022-07-05T06:54:23.483297",
     "status": "completed"
    },
    "tags": []
   },
   "source": [
    "## Next Steps\n"
   ]
  },
  {
   "cell_type": "markdown",
   "id": "f7e2b7cf",
   "metadata": {
    "papermill": {
     "duration": 0.034173,
     "end_time": "2022-07-05T06:54:23.588352",
     "exception": false,
     "start_time": "2022-07-05T06:54:23.554179",
     "status": "completed"
    },
    "tags": []
   },
   "source": [
    "Great! Now you have learned and practiced SVM model and applied it to solve a real-world food classification problem for diabetic patients. You also learned how to visualize the hyperplanes and margins generated by the SVM models.\n"
   ]
  },
  {
   "cell_type": "markdown",
   "id": "a8e0630e",
   "metadata": {
    "papermill": {
     "duration": 0.033628,
     "end_time": "2022-07-05T06:54:23.659449",
     "exception": false,
     "start_time": "2022-07-05T06:54:23.625821",
     "status": "completed"
    },
    "tags": []
   },
   "source": [
    "Next, you will be learning other popular classification models with different structures, assumptions, cost functions, and application scenarios.\n"
   ]
  },
  {
   "cell_type": "markdown",
   "id": "735a8c02",
   "metadata": {
    "papermill": {
     "duration": 0.034116,
     "end_time": "2022-07-05T06:54:23.727630",
     "exception": false,
     "start_time": "2022-07-05T06:54:23.693514",
     "status": "completed"
    },
    "tags": []
   },
   "source": [
    "## Authors\n"
   ]
  },
  {
   "cell_type": "markdown",
   "id": "7823f78d",
   "metadata": {
    "papermill": {
     "duration": 0.033837,
     "end_time": "2022-07-05T06:54:23.796569",
     "exception": false,
     "start_time": "2022-07-05T06:54:23.762732",
     "status": "completed"
    },
    "tags": []
   },
   "source": [
    "[Yan Luo](https://www.linkedin.com/in/yan-luo-96288783/?utm_medium=Exinfluencer&utm_source=Exinfluencer&utm_content=000026UJ&utm_term=10006555&utm_id=NA-SkillsNetwork-Channel-SkillsNetworkCoursesIBMML241ENSkillsNetwork31576874-2021-01-01)\n"
   ]
  },
  {
   "cell_type": "markdown",
   "id": "b5505e3a",
   "metadata": {
    "papermill": {
     "duration": 0.033717,
     "end_time": "2022-07-05T06:54:23.864590",
     "exception": false,
     "start_time": "2022-07-05T06:54:23.830873",
     "status": "completed"
    },
    "tags": []
   },
   "source": [
    "### Other Contributors\n"
   ]
  },
  {
   "cell_type": "markdown",
   "id": "c62ed545",
   "metadata": {
    "papermill": {
     "duration": 0.034791,
     "end_time": "2022-07-05T06:54:23.933421",
     "exception": false,
     "start_time": "2022-07-05T06:54:23.898630",
     "status": "completed"
    },
    "tags": []
   },
   "source": [
    "## Change Log\n"
   ]
  },
  {
   "cell_type": "markdown",
   "id": "efb0ecdc",
   "metadata": {
    "papermill": {
     "duration": 0.03556,
     "end_time": "2022-07-05T06:54:24.004418",
     "exception": false,
     "start_time": "2022-07-05T06:54:23.968858",
     "status": "completed"
    },
    "tags": []
   },
   "source": [
    "| Date (YYYY-MM-DD) | Version | Changed By | Change Description          |\n",
    "| ----------------- | ------- | ---------- | --------------------------- |\n",
    "| 2021-9-23         | 1.0     | Yan        | Created the initial version |\n",
    "| 2022-2-9          | 1.1     | Steve Hord | QA pass                     |\n"
   ]
  },
  {
   "cell_type": "markdown",
   "id": "dc64be64",
   "metadata": {
    "papermill": {
     "duration": 0.033923,
     "end_time": "2022-07-05T06:54:24.074024",
     "exception": false,
     "start_time": "2022-07-05T06:54:24.040101",
     "status": "completed"
    },
    "tags": []
   },
   "source": [
    "Copyright © 2021 IBM Corporation. All rights reserved.\n"
   ]
  }
 ],
 "metadata": {
  "kernelspec": {
   "display_name": "Python 3",
   "language": "python",
   "name": "python3"
  },
  "language_info": {
   "codemirror_mode": {
    "name": "ipython",
    "version": 3
   },
   "file_extension": ".py",
   "mimetype": "text/x-python",
   "name": "python",
   "nbconvert_exporter": "python",
   "pygments_lexer": "ipython3",
   "version": "3.7.12"
  },
  "papermill": {
   "default_parameters": {},
   "duration": 57.470667,
   "end_time": "2022-07-05T06:54:24.932137",
   "environment_variables": {},
   "exception": null,
   "input_path": "__notebook__.ipynb",
   "output_path": "__notebook__.ipynb",
   "parameters": {},
   "start_time": "2022-07-05T06:53:27.461470",
   "version": "2.3.4"
  }
 },
 "nbformat": 4,
 "nbformat_minor": 5
}
