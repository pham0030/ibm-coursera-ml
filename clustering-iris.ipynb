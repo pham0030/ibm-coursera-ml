{
 "cells": [
  {
   "cell_type": "markdown",
   "id": "8da5f895",
   "metadata": {
    "papermill": {
     "duration": 0.011094,
     "end_time": "2022-07-05T07:16:35.747969",
     "exception": false,
     "start_time": "2022-07-05T07:16:35.736875",
     "status": "completed"
    },
    "tags": []
   },
   "source": [
    "## Objective\n",
    "The dataset is a very popular one: iris dataset. We will try to use clustering and dimensionality reduction to analyze this dataset to see if it really fit the original results"
   ]
  },
  {
   "cell_type": "markdown",
   "id": "0aa7611a",
   "metadata": {
    "papermill": {
     "duration": 0.007726,
     "end_time": "2022-07-05T07:16:35.765163",
     "exception": false,
     "start_time": "2022-07-05T07:16:35.757437",
     "status": "completed"
    },
    "tags": []
   },
   "source": [
    "## Exploratory Data Analysis"
   ]
  },
  {
   "cell_type": "markdown",
   "id": "c3364be9",
   "metadata": {
    "papermill": {
     "duration": 0.007966,
     "end_time": "2022-07-05T07:16:35.781129",
     "exception": false,
     "start_time": "2022-07-05T07:16:35.773163",
     "status": "completed"
    },
    "tags": []
   },
   "source": [
    "### Loading and summary of attributes"
   ]
  },
  {
   "cell_type": "code",
   "execution_count": 1,
   "id": "fdb84f48",
   "metadata": {
    "execution": {
     "iopub.execute_input": "2022-07-05T07:16:35.799701Z",
     "iopub.status.busy": "2022-07-05T07:16:35.798850Z",
     "iopub.status.idle": "2022-07-05T07:16:37.497817Z",
     "shell.execute_reply": "2022-07-05T07:16:37.496086Z"
    },
    "papermill": {
     "duration": 1.711809,
     "end_time": "2022-07-05T07:16:37.500837",
     "exception": false,
     "start_time": "2022-07-05T07:16:35.789028",
     "status": "completed"
    },
    "tags": []
   },
   "outputs": [],
   "source": [
    "from sklearn.datasets import load_iris"
   ]
  },
  {
   "cell_type": "code",
   "execution_count": 2,
   "id": "62ff15f3",
   "metadata": {
    "execution": {
     "iopub.execute_input": "2022-07-05T07:16:37.519908Z",
     "iopub.status.busy": "2022-07-05T07:16:37.519424Z",
     "iopub.status.idle": "2022-07-05T07:16:37.532561Z",
     "shell.execute_reply": "2022-07-05T07:16:37.530938Z"
    },
    "papermill": {
     "duration": 0.02631,
     "end_time": "2022-07-05T07:16:37.535252",
     "exception": false,
     "start_time": "2022-07-05T07:16:37.508942",
     "status": "completed"
    },
    "tags": []
   },
   "outputs": [],
   "source": [
    "data_orig = load_iris()"
   ]
  },
  {
   "cell_type": "code",
   "execution_count": 3,
   "id": "a20adbd2",
   "metadata": {
    "execution": {
     "iopub.execute_input": "2022-07-05T07:16:37.554127Z",
     "iopub.status.busy": "2022-07-05T07:16:37.553353Z",
     "iopub.status.idle": "2022-07-05T07:16:37.559152Z",
     "shell.execute_reply": "2022-07-05T07:16:37.557913Z"
    },
    "papermill": {
     "duration": 0.018205,
     "end_time": "2022-07-05T07:16:37.561706",
     "exception": false,
     "start_time": "2022-07-05T07:16:37.543501",
     "status": "completed"
    },
    "tags": []
   },
   "outputs": [],
   "source": [
    "X_orig = data_orig['data']\n",
    "y_orig = data_orig['target']"
   ]
  },
  {
   "cell_type": "markdown",
   "id": "6b9b2c53",
   "metadata": {
    "papermill": {
     "duration": 0.008232,
     "end_time": "2022-07-05T07:16:37.578403",
     "exception": false,
     "start_time": "2022-07-05T07:16:37.570171",
     "status": "completed"
    },
    "tags": []
   },
   "source": [
    "The features of the X_orig are properties of the iris itselfs"
   ]
  },
  {
   "cell_type": "code",
   "execution_count": 4,
   "id": "daabc716",
   "metadata": {
    "execution": {
     "iopub.execute_input": "2022-07-05T07:16:37.597520Z",
     "iopub.status.busy": "2022-07-05T07:16:37.596782Z",
     "iopub.status.idle": "2022-07-05T07:16:37.606171Z",
     "shell.execute_reply": "2022-07-05T07:16:37.604837Z"
    },
    "papermill": {
     "duration": 0.022088,
     "end_time": "2022-07-05T07:16:37.608592",
     "exception": false,
     "start_time": "2022-07-05T07:16:37.586504",
     "status": "completed"
    },
    "tags": []
   },
   "outputs": [
    {
     "data": {
      "text/plain": [
       "['sepal length (cm)',\n",
       " 'sepal width (cm)',\n",
       " 'petal length (cm)',\n",
       " 'petal width (cm)']"
      ]
     },
     "execution_count": 4,
     "metadata": {},
     "output_type": "execute_result"
    }
   ],
   "source": [
    "data_orig['feature_names']"
   ]
  },
  {
   "cell_type": "markdown",
   "id": "9292b410",
   "metadata": {
    "papermill": {
     "duration": 0.007927,
     "end_time": "2022-07-05T07:16:37.624784",
     "exception": false,
     "start_time": "2022-07-05T07:16:37.616857",
     "status": "completed"
    },
    "tags": []
   },
   "source": [
    "The name of the target (y_orig) or type of iris are"
   ]
  },
  {
   "cell_type": "code",
   "execution_count": 5,
   "id": "0ab8d09e",
   "metadata": {
    "execution": {
     "iopub.execute_input": "2022-07-05T07:16:37.643109Z",
     "iopub.status.busy": "2022-07-05T07:16:37.642758Z",
     "iopub.status.idle": "2022-07-05T07:16:37.649013Z",
     "shell.execute_reply": "2022-07-05T07:16:37.647717Z"
    },
    "papermill": {
     "duration": 0.01909,
     "end_time": "2022-07-05T07:16:37.652060",
     "exception": false,
     "start_time": "2022-07-05T07:16:37.632970",
     "status": "completed"
    },
    "tags": []
   },
   "outputs": [
    {
     "data": {
      "text/plain": [
       "array(['setosa', 'versicolor', 'virginica'], dtype='<U10')"
      ]
     },
     "execution_count": 5,
     "metadata": {},
     "output_type": "execute_result"
    }
   ],
   "source": [
    "data_orig['target_names']"
   ]
  },
  {
   "cell_type": "markdown",
   "id": "989550de",
   "metadata": {
    "papermill": {
     "duration": 0.008171,
     "end_time": "2022-07-05T07:16:37.668367",
     "exception": false,
     "start_time": "2022-07-05T07:16:37.660196",
     "status": "completed"
    },
    "tags": []
   },
   "source": [
    "### Dimensity Reduction - PCA for Visualization"
   ]
  },
  {
   "cell_type": "code",
   "execution_count": 6,
   "id": "9c9fb150",
   "metadata": {
    "execution": {
     "iopub.execute_input": "2022-07-05T07:16:37.688074Z",
     "iopub.status.busy": "2022-07-05T07:16:37.687367Z",
     "iopub.status.idle": "2022-07-05T07:16:37.900064Z",
     "shell.execute_reply": "2022-07-05T07:16:37.898557Z"
    },
    "papermill": {
     "duration": 0.2263,
     "end_time": "2022-07-05T07:16:37.903213",
     "exception": false,
     "start_time": "2022-07-05T07:16:37.676913",
     "status": "completed"
    },
    "tags": []
   },
   "outputs": [],
   "source": [
    "import numpy as np\n",
    "import matplotlib.pyplot as plt\n",
    "from sklearn import decomposition"
   ]
  },
  {
   "cell_type": "code",
   "execution_count": 7,
   "id": "acdcf3cd",
   "metadata": {
    "execution": {
     "iopub.execute_input": "2022-07-05T07:16:37.923103Z",
     "iopub.status.busy": "2022-07-05T07:16:37.922737Z",
     "iopub.status.idle": "2022-07-05T07:16:38.292341Z",
     "shell.execute_reply": "2022-07-05T07:16:38.291161Z"
    },
    "papermill": {
     "duration": 0.384571,
     "end_time": "2022-07-05T07:16:38.297063",
     "exception": false,
     "start_time": "2022-07-05T07:16:37.912492",
     "status": "completed"
    },
    "tags": []
   },
   "outputs": [
    {
     "data": {
      "image/png": "[encoded data removed]",
      "text/plain": [
       "<Figure size 864x648 with 1 Axes>"
      ]
     },
     "metadata": {
      "needs_background": "light"
     },
     "output_type": "display_data"
    }
   ],
   "source": [
    "pca = decomposition.PCA(n_components=3)\n",
    "X = pca.fit_transform(X_orig)\n",
    "\n",
    "fig = plt.figure(1, figsize=(12, 9))\n",
    "plt.clf()\n",
    "ax = fig.add_subplot(111, projection=\"3d\", elev=48, azim=134)\n",
    "ax.set_position([0, 0, 0.95, 1])\n",
    "plt.cla()\n",
    "y = y_orig\n",
    "for name, label in [(\"Setosa\", 0), (\"Versicolour\", 1), (\"Virginica\", 2)]:\n",
    "    ax.text3D(\n",
    "        X[y == label, 0].mean(),\n",
    "        X[y == label, 1].mean() + 1.5,\n",
    "        X[y == label, 2].mean(),\n",
    "        name,\n",
    "        horizontalalignment=\"center\",\n",
    "        bbox=dict(alpha=0.5, edgecolor=\"w\", facecolor=\"w\"),\n",
    "    )\n",
    "# Reorder the labels to have colors matching the cluster results\n",
    "\n",
    "ax.scatter(X[:, 0], X[:, 1], X[:, 2], c=y, cmap=plt.cm.nipy_spectral, edgecolor=\"k\")\n",
    "\n",
    "ax.w_xaxis.set_ticklabels([])\n",
    "ax.w_yaxis.set_ticklabels([])\n",
    "ax.w_zaxis.set_ticklabels([])\n",
    "\n",
    "plt.show()"
   ]
  },
  {
   "cell_type": "markdown",
   "id": "e0f4f802",
   "metadata": {
    "papermill": {
     "duration": 0.011065,
     "end_time": "2022-07-05T07:16:38.318580",
     "exception": false,
     "start_time": "2022-07-05T07:16:38.307515",
     "status": "completed"
    },
    "tags": []
   },
   "source": [
    "### PCA with 2D"
   ]
  },
  {
   "cell_type": "code",
   "execution_count": 8,
   "id": "ca2d211e",
   "metadata": {
    "execution": {
     "iopub.execute_input": "2022-07-05T07:16:38.343362Z",
     "iopub.status.busy": "2022-07-05T07:16:38.342509Z",
     "iopub.status.idle": "2022-07-05T07:16:38.638129Z",
     "shell.execute_reply": "2022-07-05T07:16:38.636792Z"
    },
    "papermill": {
     "duration": 0.310282,
     "end_time": "2022-07-05T07:16:38.640611",
     "exception": false,
     "start_time": "2022-07-05T07:16:38.330329",
     "status": "completed"
    },
    "tags": []
   },
   "outputs": [
    {
     "data": {
      "text/plain": [
       "Text(0.5, 1.0, 'PCA of IRIS dataset')"
      ]
     },
     "execution_count": 8,
     "metadata": {},
     "output_type": "execute_result"
    },
    {
     "data": {
      "image/png": "[encoded data removed]",
      "text/plain": [
       "<Figure size 432x288 with 1 Axes>"
      ]
     },
     "metadata": {
      "needs_background": "light"
     },
     "output_type": "display_data"
    }
   ],
   "source": [
    "pca = decomposition.PCA(n_components=2)\n",
    "X_r = pca.fit_transform(X_orig)\n",
    "target_names = data_orig.target_names\n",
    "lw=2\n",
    "plt.figure()\n",
    "colors = [\"navy\", \"turquoise\", \"darkorange\"]\n",
    "for color, i, target_name in zip(colors, [0, 1, 2], target_names):\n",
    "    plt.scatter(\n",
    "        X_r[y == i, 0], X_r[y == i, 1], color=color, alpha=0.8, lw=lw, label=target_name\n",
    "    )\n",
    "plt.legend(loc=\"best\", shadow=False, scatterpoints=1)\n",
    "plt.title(\"PCA of IRIS dataset\")\n"
   ]
  },
  {
   "cell_type": "markdown",
   "id": "d7f61d01",
   "metadata": {
    "papermill": {
     "duration": 0.01188,
     "end_time": "2022-07-05T07:16:38.663756",
     "exception": false,
     "start_time": "2022-07-05T07:16:38.651876",
     "status": "completed"
    },
    "tags": []
   },
   "source": [
    "Dimesionlity reduction of PCA to 2D or 3D both provide a clear clustering visualization. Given the information, PCA with 2 components is good enough for study."
   ]
  },
  {
   "cell_type": "markdown",
   "id": "fca2e22a",
   "metadata": {
    "papermill": {
     "duration": 0.010915,
     "end_time": "2022-07-05T07:16:38.686338",
     "exception": false,
     "start_time": "2022-07-05T07:16:38.675423",
     "status": "completed"
    },
    "tags": []
   },
   "source": [
    "## Unsupervised Clustering"
   ]
  },
  {
   "cell_type": "markdown",
   "id": "df9a5734",
   "metadata": {
    "papermill": {
     "duration": 0.011961,
     "end_time": "2022-07-05T07:16:38.709438",
     "exception": false,
     "start_time": "2022-07-05T07:16:38.697477",
     "status": "completed"
    },
    "tags": []
   },
   "source": [
    "Let's apply some clustering algorithms on 2D-PCA reduction iris datasets."
   ]
  },
  {
   "cell_type": "markdown",
   "id": "aa266c80",
   "metadata": {
    "papermill": {
     "duration": 0.011209,
     "end_time": "2022-07-05T07:16:38.732101",
     "exception": false,
     "start_time": "2022-07-05T07:16:38.720892",
     "status": "completed"
    },
    "tags": []
   },
   "source": [
    "### K-means"
   ]
  },
  {
   "cell_type": "code",
   "execution_count": 9,
   "id": "38b201cf",
   "metadata": {
    "execution": {
     "iopub.execute_input": "2022-07-05T07:16:38.756373Z",
     "iopub.status.busy": "2022-07-05T07:16:38.755661Z",
     "iopub.status.idle": "2022-07-05T07:16:38.924646Z",
     "shell.execute_reply": "2022-07-05T07:16:38.922854Z"
    },
    "papermill": {
     "duration": 0.184212,
     "end_time": "2022-07-05T07:16:38.927353",
     "exception": false,
     "start_time": "2022-07-05T07:16:38.743141",
     "status": "completed"
    },
    "tags": []
   },
   "outputs": [],
   "source": [
    "from sklearn.cluster import KMeans"
   ]
  },
  {
   "cell_type": "code",
   "execution_count": 10,
   "id": "23058b68",
   "metadata": {
    "execution": {
     "iopub.execute_input": "2022-07-05T07:16:38.952130Z",
     "iopub.status.busy": "2022-07-05T07:16:38.951732Z",
     "iopub.status.idle": "2022-07-05T07:16:38.958543Z",
     "shell.execute_reply": "2022-07-05T07:16:38.957366Z"
    },
    "papermill": {
     "duration": 0.022657,
     "end_time": "2022-07-05T07:16:38.961033",
     "exception": false,
     "start_time": "2022-07-05T07:16:38.938376",
     "status": "completed"
    },
    "tags": []
   },
   "outputs": [
    {
     "data": {
      "text/plain": [
       "(150, 2)"
      ]
     },
     "execution_count": 10,
     "metadata": {},
     "output_type": "execute_result"
    }
   ],
   "source": [
    "X_r.shape"
   ]
  },
  {
   "cell_type": "code",
   "execution_count": 11,
   "id": "e40389f5",
   "metadata": {
    "execution": {
     "iopub.execute_input": "2022-07-05T07:16:38.986129Z",
     "iopub.status.busy": "2022-07-05T07:16:38.985739Z",
     "iopub.status.idle": "2022-07-05T07:16:38.993821Z",
     "shell.execute_reply": "2022-07-05T07:16:38.992357Z"
    },
    "papermill": {
     "duration": 0.02444,
     "end_time": "2022-07-05T07:16:38.996609",
     "exception": false,
     "start_time": "2022-07-05T07:16:38.972169",
     "status": "completed"
    },
    "tags": []
   },
   "outputs": [],
   "source": [
    "# helper function that allows us to display data in 2 dimensions an highlights the clusters\n",
    "def display_cluster(X,km=[],num_clusters=0):\n",
    "    color = 'brgcmyk'\n",
    "    alpha = 0.5\n",
    "    s = 20\n",
    "    if num_clusters == 0:\n",
    "        plt.scatter(X[:,0],X[:,1],c = color[0],alpha = alpha,s = s)\n",
    "    else:\n",
    "        for i in range(num_clusters):\n",
    "            plt.scatter(X[km.labels_==i,0],X[km.labels_==i,1],c = color[i],alpha = alpha,s=s)\n",
    "            plt.scatter(km.cluster_centers_[i][0],km.cluster_centers_[i][1],c = color[i], marker = 'x', s = 100)"
   ]
  },
  {
   "cell_type": "code",
   "execution_count": 12,
   "id": "0daef6be",
   "metadata": {
    "execution": {
     "iopub.execute_input": "2022-07-05T07:16:39.021146Z",
     "iopub.status.busy": "2022-07-05T07:16:39.020750Z",
     "iopub.status.idle": "2022-07-05T07:16:39.215108Z",
     "shell.execute_reply": "2022-07-05T07:16:39.213594Z"
    },
    "papermill": {
     "duration": 0.209519,
     "end_time": "2022-07-05T07:16:39.217891",
     "exception": false,
     "start_time": "2022-07-05T07:16:39.008372",
     "status": "completed"
    },
    "tags": []
   },
   "outputs": [
    {
     "data": {
      "image/png": "[encoded data removed]",
      "text/plain": [
       "<Figure size 432x288 with 1 Axes>"
      ]
     },
     "metadata": {
      "needs_background": "light"
     },
     "output_type": "display_data"
    }
   ],
   "source": [
    "display_cluster(X_r)"
   ]
  },
  {
   "cell_type": "markdown",
   "id": "e1b20e43",
   "metadata": {
    "papermill": {
     "duration": 0.011845,
     "end_time": "2022-07-05T07:16:39.240977",
     "exception": false,
     "start_time": "2022-07-05T07:16:39.229132",
     "status": "completed"
    },
    "tags": []
   },
   "source": [
    "### Determin the best clusters number"
   ]
  },
  {
   "cell_type": "code",
   "execution_count": 13,
   "id": "bd9fd86f",
   "metadata": {
    "execution": {
     "iopub.execute_input": "2022-07-05T07:16:39.268179Z",
     "iopub.status.busy": "2022-07-05T07:16:39.267772Z",
     "iopub.status.idle": "2022-07-05T07:16:39.921596Z",
     "shell.execute_reply": "2022-07-05T07:16:39.919961Z"
    },
    "papermill": {
     "duration": 0.67034,
     "end_time": "2022-07-05T07:16:39.924500",
     "exception": false,
     "start_time": "2022-07-05T07:16:39.254160",
     "status": "completed"
    },
    "tags": []
   },
   "outputs": [
    {
     "data": {
      "image/png": "[encoded data removed]",
      "text/plain": [
       "<Figure size 432x288 with 1 Axes>"
      ]
     },
     "metadata": {
      "needs_background": "light"
     },
     "output_type": "display_data"
    }
   ],
   "source": [
    "inertia = []\n",
    "list_num_clusters = list(range(1,11))\n",
    "for num_clusters in list_num_clusters:\n",
    "    km = KMeans(n_clusters=num_clusters)\n",
    "    km.fit(X_r)\n",
    "    inertia.append(km.inertia_)\n",
    "plt.plot(list_num_clusters,inertia)\n",
    "plt.scatter(list_num_clusters,inertia)\n",
    "plt.xlabel('Number of Clusters')\n",
    "plt.ylabel('Inertia');"
   ]
  },
  {
   "cell_type": "markdown",
   "id": "8a7166ea",
   "metadata": {
    "papermill": {
     "duration": 0.011759,
     "end_time": "2022-07-05T07:16:39.949502",
     "exception": false,
     "start_time": "2022-07-05T07:16:39.937743",
     "status": "completed"
    },
    "tags": []
   },
   "source": [
    "Obviously, number of clusters = 3 is a goo choice (elbow method)"
   ]
  },
  {
   "cell_type": "code",
   "execution_count": 14,
   "id": "22fda7b1",
   "metadata": {
    "execution": {
     "iopub.execute_input": "2022-07-05T07:16:39.976226Z",
     "iopub.status.busy": "2022-07-05T07:16:39.974816Z",
     "iopub.status.idle": "2022-07-05T07:16:40.238492Z",
     "shell.execute_reply": "2022-07-05T07:16:40.237322Z"
    },
    "papermill": {
     "duration": 0.279573,
     "end_time": "2022-07-05T07:16:40.240929",
     "exception": false,
     "start_time": "2022-07-05T07:16:39.961356",
     "status": "completed"
    },
    "tags": []
   },
   "outputs": [
    {
     "data": {
      "image/png": "[encoded data removed]",
      "text/plain": [
       "<Figure size 432x288 with 1 Axes>"
      ]
     },
     "metadata": {
      "needs_background": "light"
     },
     "output_type": "display_data"
    }
   ],
   "source": [
    "num_clusters = 3\n",
    "km = KMeans(n_clusters=num_clusters)\n",
    "km.fit(X_r)\n",
    "display_cluster(X_r,km,num_clusters)"
   ]
  },
  {
   "cell_type": "code",
   "execution_count": 15,
   "id": "8e27b823",
   "metadata": {
    "execution": {
     "iopub.execute_input": "2022-07-05T07:16:40.268332Z",
     "iopub.status.busy": "2022-07-05T07:16:40.267572Z",
     "iopub.status.idle": "2022-07-05T07:16:40.276352Z",
     "shell.execute_reply": "2022-07-05T07:16:40.275381Z"
    },
    "papermill": {
     "duration": 0.02629,
     "end_time": "2022-07-05T07:16:40.279180",
     "exception": false,
     "start_time": "2022-07-05T07:16:40.252890",
     "status": "completed"
    },
    "tags": []
   },
   "outputs": [],
   "source": [
    "y_predict = km.predict(X_r)"
   ]
  },
  {
   "cell_type": "code",
   "execution_count": 16,
   "id": "1c58c242",
   "metadata": {
    "execution": {
     "iopub.execute_input": "2022-07-05T07:16:40.306215Z",
     "iopub.status.busy": "2022-07-05T07:16:40.305149Z",
     "iopub.status.idle": "2022-07-05T07:16:40.313252Z",
     "shell.execute_reply": "2022-07-05T07:16:40.312184Z"
    },
    "papermill": {
     "duration": 0.023532,
     "end_time": "2022-07-05T07:16:40.315320",
     "exception": false,
     "start_time": "2022-07-05T07:16:40.291788",
     "status": "completed"
    },
    "tags": []
   },
   "outputs": [
    {
     "data": {
      "text/plain": [
       "array([1, 1, 1, 1, 1, 1, 1, 1, 1, 1, 1, 1, 1, 1, 1, 1, 1, 1, 1, 1, 1, 1,\n",
       "       1, 1, 1, 1, 1, 1, 1, 1, 1, 1, 1, 1, 1, 1, 1, 1, 1, 1, 1, 1, 1, 1,\n",
       "       1, 1, 1, 1, 1, 1, 0, 2, 0, 2, 2, 2, 2, 2, 2, 2, 2, 2, 2, 2, 2, 2,\n",
       "       2, 2, 2, 2, 2, 2, 2, 2, 2, 2, 2, 0, 2, 2, 2, 2, 2, 2, 2, 2, 2, 2,\n",
       "       2, 2, 2, 2, 2, 2, 2, 2, 2, 2, 2, 2, 0, 2, 0, 0, 0, 0, 2, 0, 0, 0,\n",
       "       0, 0, 0, 2, 2, 0, 0, 0, 0, 2, 0, 2, 0, 2, 0, 0, 2, 2, 0, 0, 0, 0,\n",
       "       0, 2, 0, 0, 0, 0, 2, 0, 0, 0, 2, 0, 0, 0, 2, 0, 0, 2], dtype=int32)"
      ]
     },
     "execution_count": 16,
     "metadata": {},
     "output_type": "execute_result"
    }
   ],
   "source": [
    "y_predict"
   ]
  },
  {
   "cell_type": "code",
   "execution_count": 17,
   "id": "05dc6ac9",
   "metadata": {
    "execution": {
     "iopub.execute_input": "2022-07-05T07:16:40.344400Z",
     "iopub.status.busy": "2022-07-05T07:16:40.343755Z",
     "iopub.status.idle": "2022-07-05T07:16:40.350738Z",
     "shell.execute_reply": "2022-07-05T07:16:40.349818Z"
    },
    "papermill": {
     "duration": 0.02631,
     "end_time": "2022-07-05T07:16:40.353928",
     "exception": false,
     "start_time": "2022-07-05T07:16:40.327618",
     "status": "completed"
    },
    "tags": []
   },
   "outputs": [
    {
     "data": {
      "text/plain": [
       "array([0, 0, 0, 0, 0, 0, 0, 0, 0, 0, 0, 0, 0, 0, 0, 0, 0, 0, 0, 0, 0, 0,\n",
       "       0, 0, 0, 0, 0, 0, 0, 0, 0, 0, 0, 0, 0, 0, 0, 0, 0, 0, 0, 0, 0, 0,\n",
       "       0, 0, 0, 0, 0, 0, 1, 1, 1, 1, 1, 1, 1, 1, 1, 1, 1, 1, 1, 1, 1, 1,\n",
       "       1, 1, 1, 1, 1, 1, 1, 1, 1, 1, 1, 1, 1, 1, 1, 1, 1, 1, 1, 1, 1, 1,\n",
       "       1, 1, 1, 1, 1, 1, 1, 1, 1, 1, 1, 1, 2, 2, 2, 2, 2, 2, 2, 2, 2, 2,\n",
       "       2, 2, 2, 2, 2, 2, 2, 2, 2, 2, 2, 2, 2, 2, 2, 2, 2, 2, 2, 2, 2, 2,\n",
       "       2, 2, 2, 2, 2, 2, 2, 2, 2, 2, 2, 2, 2, 2, 2, 2, 2, 2])"
      ]
     },
     "execution_count": 17,
     "metadata": {},
     "output_type": "execute_result"
    }
   ],
   "source": [
    "y"
   ]
  },
  {
   "cell_type": "markdown",
   "id": "64407a51",
   "metadata": {
    "papermill": {
     "duration": 0.011875,
     "end_time": "2022-07-05T07:16:40.379193",
     "exception": false,
     "start_time": "2022-07-05T07:16:40.367318",
     "status": "completed"
    },
    "tags": []
   },
   "source": [
    "Remap the label from y_predict to y:\n",
    "* '1' predict ~ '0' observed\n",
    "* '0' predict ~ '1' observed\n",
    "* '2' predict' ~ '2' observed"
   ]
  },
  {
   "cell_type": "code",
   "execution_count": 18,
   "id": "ca0f6407",
   "metadata": {
    "execution": {
     "iopub.execute_input": "2022-07-05T07:16:40.406510Z",
     "iopub.status.busy": "2022-07-05T07:16:40.405709Z",
     "iopub.status.idle": "2022-07-05T07:16:40.411152Z",
     "shell.execute_reply": "2022-07-05T07:16:40.410048Z"
    },
    "papermill": {
     "duration": 0.02186,
     "end_time": "2022-07-05T07:16:40.413871",
     "exception": false,
     "start_time": "2022-07-05T07:16:40.392011",
     "status": "completed"
    },
    "tags": []
   },
   "outputs": [],
   "source": [
    "import pandas as pd"
   ]
  },
  {
   "cell_type": "code",
   "execution_count": 19,
   "id": "4b8cee6c",
   "metadata": {
    "execution": {
     "iopub.execute_input": "2022-07-05T07:16:40.440198Z",
     "iopub.status.busy": "2022-07-05T07:16:40.439404Z",
     "iopub.status.idle": "2022-07-05T07:16:40.448371Z",
     "shell.execute_reply": "2022-07-05T07:16:40.447225Z"
    },
    "papermill": {
     "duration": 0.025583,
     "end_time": "2022-07-05T07:16:40.451442",
     "exception": false,
     "start_time": "2022-07-05T07:16:40.425859",
     "status": "completed"
    },
    "tags": []
   },
   "outputs": [],
   "source": [
    "y_predict = pd.DataFrame(y_predict, columns=['y_predict'])"
   ]
  },
  {
   "cell_type": "code",
   "execution_count": 20,
   "id": "4a030840",
   "metadata": {
    "execution": {
     "iopub.execute_input": "2022-07-05T07:16:40.479355Z",
     "iopub.status.busy": "2022-07-05T07:16:40.478622Z",
     "iopub.status.idle": "2022-07-05T07:16:40.498214Z",
     "shell.execute_reply": "2022-07-05T07:16:40.497278Z"
    },
    "papermill": {
     "duration": 0.03718,
     "end_time": "2022-07-05T07:16:40.500709",
     "exception": false,
     "start_time": "2022-07-05T07:16:40.463529",
     "status": "completed"
    },
    "tags": []
   },
   "outputs": [],
   "source": [
    "y_predict = y_predict['y_predict'].map({1:0, 0:1, 2:2})"
   ]
  },
  {
   "cell_type": "code",
   "execution_count": 21,
   "id": "1f256273",
   "metadata": {
    "execution": {
     "iopub.execute_input": "2022-07-05T07:16:40.527672Z",
     "iopub.status.busy": "2022-07-05T07:16:40.527057Z",
     "iopub.status.idle": "2022-07-05T07:16:40.536377Z",
     "shell.execute_reply": "2022-07-05T07:16:40.535308Z"
    },
    "papermill": {
     "duration": 0.025323,
     "end_time": "2022-07-05T07:16:40.538632",
     "exception": false,
     "start_time": "2022-07-05T07:16:40.513309",
     "status": "completed"
    },
    "tags": []
   },
   "outputs": [
    {
     "data": {
      "text/plain": [
       "0      0\n",
       "1      0\n",
       "2      0\n",
       "3      0\n",
       "4      0\n",
       "      ..\n",
       "145    1\n",
       "146    2\n",
       "147    1\n",
       "148    1\n",
       "149    2\n",
       "Name: y_predict, Length: 150, dtype: int64"
      ]
     },
     "execution_count": 21,
     "metadata": {},
     "output_type": "execute_result"
    }
   ],
   "source": [
    "y_predict"
   ]
  },
  {
   "cell_type": "code",
   "execution_count": 22,
   "id": "479dd86d",
   "metadata": {
    "execution": {
     "iopub.execute_input": "2022-07-05T07:16:40.565474Z",
     "iopub.status.busy": "2022-07-05T07:16:40.565066Z",
     "iopub.status.idle": "2022-07-05T07:16:40.570215Z",
     "shell.execute_reply": "2022-07-05T07:16:40.569126Z"
    },
    "papermill": {
     "duration": 0.020902,
     "end_time": "2022-07-05T07:16:40.572390",
     "exception": false,
     "start_time": "2022-07-05T07:16:40.551488",
     "status": "completed"
    },
    "tags": []
   },
   "outputs": [],
   "source": [
    "from sklearn.metrics import classification_report, accuracy_score, precision_score, recall_score"
   ]
  },
  {
   "cell_type": "markdown",
   "id": "c168d62a",
   "metadata": {
    "papermill": {
     "duration": 0.012975,
     "end_time": "2022-07-05T07:16:40.597608",
     "exception": false,
     "start_time": "2022-07-05T07:16:40.584633",
     "status": "completed"
    },
    "tags": []
   },
   "source": [
    "The accuracy, precision and recall for labels 0, 1, 2 are:"
   ]
  },
  {
   "cell_type": "code",
   "execution_count": 23,
   "id": "21554331",
   "metadata": {
    "execution": {
     "iopub.execute_input": "2022-07-05T07:16:40.630453Z",
     "iopub.status.busy": "2022-07-05T07:16:40.629635Z",
     "iopub.status.idle": "2022-07-05T07:16:40.636620Z",
     "shell.execute_reply": "2022-07-05T07:16:40.635798Z"
    },
    "papermill": {
     "duration": 0.027359,
     "end_time": "2022-07-05T07:16:40.638863",
     "exception": false,
     "start_time": "2022-07-05T07:16:40.611504",
     "status": "completed"
    },
    "tags": []
   },
   "outputs": [
    {
     "data": {
      "text/plain": [
       "0.44666666666666666"
      ]
     },
     "execution_count": 23,
     "metadata": {},
     "output_type": "execute_result"
    }
   ],
   "source": [
    "accuracy_score(y, y_predict)"
   ]
  },
  {
   "cell_type": "code",
   "execution_count": 24,
   "id": "29f2710e",
   "metadata": {
    "execution": {
     "iopub.execute_input": "2022-07-05T07:16:40.665953Z",
     "iopub.status.busy": "2022-07-05T07:16:40.665108Z",
     "iopub.status.idle": "2022-07-05T07:16:40.673351Z",
     "shell.execute_reply": "2022-07-05T07:16:40.671960Z"
    },
    "papermill": {
     "duration": 0.024994,
     "end_time": "2022-07-05T07:16:40.676335",
     "exception": false,
     "start_time": "2022-07-05T07:16:40.651341",
     "status": "completed"
    },
    "tags": []
   },
   "outputs": [
    {
     "data": {
      "text/plain": [
       "array([1.        , 0.07692308, 0.2295082 ])"
      ]
     },
     "execution_count": 24,
     "metadata": {},
     "output_type": "execute_result"
    }
   ],
   "source": [
    "precision_score(y, y_predict, average=None)"
   ]
  },
  {
   "cell_type": "code",
   "execution_count": 25,
   "id": "d80290d0",
   "metadata": {
    "execution": {
     "iopub.execute_input": "2022-07-05T07:16:40.703945Z",
     "iopub.status.busy": "2022-07-05T07:16:40.703504Z",
     "iopub.status.idle": "2022-07-05T07:16:40.713494Z",
     "shell.execute_reply": "2022-07-05T07:16:40.711765Z"
    },
    "papermill": {
     "duration": 0.026791,
     "end_time": "2022-07-05T07:16:40.716171",
     "exception": false,
     "start_time": "2022-07-05T07:16:40.689380",
     "status": "completed"
    },
    "tags": []
   },
   "outputs": [
    {
     "data": {
      "text/plain": [
       "array([1.  , 0.06, 0.28])"
      ]
     },
     "execution_count": 25,
     "metadata": {},
     "output_type": "execute_result"
    }
   ],
   "source": [
    "recall_score(y, y_predict, average=None)"
   ]
  },
  {
   "cell_type": "markdown",
   "id": "a6d7d577",
   "metadata": {
    "papermill": {
     "duration": 0.012475,
     "end_time": "2022-07-05T07:16:40.741320",
     "exception": false,
     "start_time": "2022-07-05T07:16:40.728845",
     "status": "completed"
    },
    "tags": []
   },
   "source": [
    "Let's take a look at the confusion matrix"
   ]
  },
  {
   "cell_type": "code",
   "execution_count": 26,
   "id": "95aa0785",
   "metadata": {
    "execution": {
     "iopub.execute_input": "2022-07-05T07:16:40.792980Z",
     "iopub.status.busy": "2022-07-05T07:16:40.792503Z",
     "iopub.status.idle": "2022-07-05T07:16:40.846633Z",
     "shell.execute_reply": "2022-07-05T07:16:40.845259Z"
    },
    "papermill": {
     "duration": 0.094311,
     "end_time": "2022-07-05T07:16:40.849279",
     "exception": false,
     "start_time": "2022-07-05T07:16:40.754968",
     "status": "completed"
    },
    "tags": []
   },
   "outputs": [],
   "source": [
    "df_confusion = pd.crosstab(y, y_predict.values, rownames=['Actual'], colnames=['Predicted'], margins=True)"
   ]
  },
  {
   "cell_type": "code",
   "execution_count": 27,
   "id": "733b181b",
   "metadata": {
    "execution": {
     "iopub.execute_input": "2022-07-05T07:16:40.876814Z",
     "iopub.status.busy": "2022-07-05T07:16:40.876046Z",
     "iopub.status.idle": "2022-07-05T07:16:40.891724Z",
     "shell.execute_reply": "2022-07-05T07:16:40.890343Z"
    },
    "papermill": {
     "duration": 0.032438,
     "end_time": "2022-07-05T07:16:40.894337",
     "exception": false,
     "start_time": "2022-07-05T07:16:40.861899",
     "status": "completed"
    },
    "tags": []
   },
   "outputs": [
    {
     "data": {
      "text/html": [
       "<div>\n",
       "<style scoped>\n",
       "    .dataframe tbody tr th:only-of-type {\n",
       "        vertical-align: middle;\n",
       "    }\n",
       "\n",
       "    .dataframe tbody tr th {\n",
       "        vertical-align: top;\n",
       "    }\n",
       "\n",
       "    .dataframe thead th {\n",
       "        text-align: right;\n",
       "    }\n",
       "</style>\n",
       "<table border=\"1\" class=\"dataframe\">\n",
       "  <thead>\n",
       "    <tr style=\"text-align: right;\">\n",
       "      <th>Predicted</th>\n",
       "      <th>0</th>\n",
       "      <th>1</th>\n",
       "      <th>2</th>\n",
       "      <th>All</th>\n",
       "    </tr>\n",
       "    <tr>\n",
       "      <th>Actual</th>\n",
       "      <th></th>\n",
       "      <th></th>\n",
       "      <th></th>\n",
       "      <th></th>\n",
       "    </tr>\n",
       "  </thead>\n",
       "  <tbody>\n",
       "    <tr>\n",
       "      <th>0</th>\n",
       "      <td>50</td>\n",
       "      <td>0</td>\n",
       "      <td>0</td>\n",
       "      <td>50</td>\n",
       "    </tr>\n",
       "    <tr>\n",
       "      <th>1</th>\n",
       "      <td>0</td>\n",
       "      <td>3</td>\n",
       "      <td>47</td>\n",
       "      <td>50</td>\n",
       "    </tr>\n",
       "    <tr>\n",
       "      <th>2</th>\n",
       "      <td>0</td>\n",
       "      <td>36</td>\n",
       "      <td>14</td>\n",
       "      <td>50</td>\n",
       "    </tr>\n",
       "    <tr>\n",
       "      <th>All</th>\n",
       "      <td>50</td>\n",
       "      <td>39</td>\n",
       "      <td>61</td>\n",
       "      <td>150</td>\n",
       "    </tr>\n",
       "  </tbody>\n",
       "</table>\n",
       "</div>"
      ],
      "text/plain": [
       "Predicted   0   1   2  All\n",
       "Actual                    \n",
       "0          50   0   0   50\n",
       "1           0   3  47   50\n",
       "2           0  36  14   50\n",
       "All        50  39  61  150"
      ]
     },
     "execution_count": 27,
     "metadata": {},
     "output_type": "execute_result"
    }
   ],
   "source": [
    "df_confusion"
   ]
  },
  {
   "cell_type": "markdown",
   "id": "c1899612",
   "metadata": {
    "papermill": {
     "duration": 0.012227,
     "end_time": "2022-07-05T07:16:40.919354",
     "exception": false,
     "start_time": "2022-07-05T07:16:40.907127",
     "status": "completed"
    },
    "tags": []
   },
   "source": [
    "The class 2 is misclassified quite a few with class 1, while class 0 is clearly detected."
   ]
  },
  {
   "cell_type": "markdown",
   "id": "b04794b8",
   "metadata": {
    "papermill": {
     "duration": 0.012175,
     "end_time": "2022-07-05T07:16:40.944418",
     "exception": false,
     "start_time": "2022-07-05T07:16:40.932243",
     "status": "completed"
    },
    "tags": []
   },
   "source": [
    "## Conclusion"
   ]
  },
  {
   "cell_type": "markdown",
   "id": "3a1bf80a",
   "metadata": {
    "papermill": {
     "duration": 0.012021,
     "end_time": "2022-07-05T07:16:40.968959",
     "exception": false,
     "start_time": "2022-07-05T07:16:40.956938",
     "status": "completed"
    },
    "tags": []
   },
   "source": [
    "Even with simple PCA reduction with 2 components and KMeans clustering algorithm and elbow method, we could cluster the iris data without even take a look at the actually label quite well. Of course, to improve the accuracy of the model, a supervised learning algorithm should be introduced with proper label knowledge to increase the precision and recall of the prediction."
   ]
  }
 ],
 "metadata": {
  "kernelspec": {
   "display_name": "Python 3",
   "language": "python",
   "name": "python3"
  },
  "language_info": {
   "codemirror_mode": {
    "name": "ipython",
    "version": 3
   },
   "file_extension": ".py",
   "mimetype": "text/x-python",
   "name": "python",
   "nbconvert_exporter": "python",
   "pygments_lexer": "ipython3",
   "version": "3.7.12"
  },
  "papermill": {
   "default_parameters": {},
   "duration": 17.768466,
   "end_time": "2022-07-05T07:16:41.804967",
   "environment_variables": {},
   "exception": null,
   "input_path": "__notebook__.ipynb",
   "output_path": "__notebook__.ipynb",
   "parameters": {},
   "start_time": "2022-07-05T07:16:24.036501",
   "version": "2.3.4"
  }
 },
 "nbformat": 4,
 "nbformat_minor": 5
}
