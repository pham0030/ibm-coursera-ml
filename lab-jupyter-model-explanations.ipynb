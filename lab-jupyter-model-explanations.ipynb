{
 "cells": [
  {
   "cell_type": "markdown",
   "id": "ab3fa919",
   "metadata": {
    "papermill": {
     "duration": 0.026894,
     "end_time": "2022-07-05T07:06:48.336966",
     "exception": false,
     "start_time": "2022-07-05T07:06:48.310072",
     "status": "completed"
    },
    "tags": []
   },
   "source": [
    "<p style=\"text-align:center\">\n",
    "    <a href=\"https://skills.network/?utm_medium=Exinfluencer&utm_source=Exinfluencer&utm_content=000026UJ&utm_term=10006555&utm_id=NA-SkillsNetwork-Channel-SkillsNetworkCoursesIBMML241ENSkillsNetwork31576874-2022-01-01\" target=\"_blank\">\n",
    "    <img src=\"https://cf-courses-data.s3.us.cloud-object-storage.appdomain.cloud/assets/logos/SN_web_lightmode.png\" width=\"200\" alt=\"Skills Network Logo\"  />\n",
    "    </a>\n",
    "</p>\n"
   ]
  },
  {
   "cell_type": "markdown",
   "id": "ade81788",
   "metadata": {
    "papermill": {
     "duration": 0.023112,
     "end_time": "2022-07-05T07:06:48.383414",
     "exception": false,
     "start_time": "2022-07-05T07:06:48.360302",
     "status": "completed"
    },
    "tags": []
   },
   "source": [
    "# **Model-agnostic Explanations**\n"
   ]
  },
  {
   "cell_type": "markdown",
   "id": "f9fa1654",
   "metadata": {
    "papermill": {
     "duration": 0.023055,
     "end_time": "2022-07-05T07:06:48.430084",
     "exception": false,
     "start_time": "2022-07-05T07:06:48.407029",
     "status": "completed"
    },
    "tags": []
   },
   "source": [
    "Estimated time needed: **45** minutes\n"
   ]
  },
  {
   "cell_type": "markdown",
   "id": "f7428481",
   "metadata": {
    "papermill": {
     "duration": 0.022615,
     "end_time": "2022-07-05T07:06:48.475695",
     "exception": false,
     "start_time": "2022-07-05T07:06:48.453080",
     "status": "completed"
    },
    "tags": []
   },
   "source": [
    "In this lab, we will first train a random forest model to predict if employees are looking for a job change, then we want to interpret the trained model in order to understand how exactly it makes predictions. Since random forest model is normally very complex to understand, we will just treat it as a black-box model first. Then, you will have the practice opportunities to apply various model-agnostic explanation methods to explain the black-box model.\n"
   ]
  },
  {
   "cell_type": "markdown",
   "id": "ed6e1982",
   "metadata": {
    "papermill": {
     "duration": 0.022641,
     "end_time": "2022-07-05T07:06:48.521409",
     "exception": false,
     "start_time": "2022-07-05T07:06:48.498768",
     "status": "completed"
    },
    "tags": []
   },
   "source": [
    "## Objectives\n"
   ]
  },
  {
   "cell_type": "markdown",
   "id": "a9279a91",
   "metadata": {
    "papermill": {
     "duration": 0.02273,
     "end_time": "2022-07-05T07:06:48.567324",
     "exception": false,
     "start_time": "2022-07-05T07:06:48.544594",
     "status": "completed"
    },
    "tags": []
   },
   "source": [
    "After completing this lab you will be able to:\n"
   ]
  },
  {
   "cell_type": "markdown",
   "id": "49b1ed5a",
   "metadata": {
    "papermill": {
     "duration": 0.022655,
     "end_time": "2022-07-05T07:06:48.612997",
     "exception": false,
     "start_time": "2022-07-05T07:06:48.590342",
     "status": "completed"
    },
    "tags": []
   },
   "source": [
    "*   Calculate Permutation Feature Importance\n",
    "*   Use Partial Dependency Plot to illustrate relationships between feature and outcomes\n",
    "*   Build Global Surrogate Models\n",
    "*   Build Local Surrogate Models using `LIME`\n"
   ]
  },
  {
   "cell_type": "markdown",
   "id": "7550e008",
   "metadata": {
    "papermill": {
     "duration": 0.022834,
     "end_time": "2022-07-05T07:06:48.658775",
     "exception": false,
     "start_time": "2022-07-05T07:06:48.635941",
     "status": "completed"
    },
    "tags": []
   },
   "source": [
    "***\n"
   ]
  },
  {
   "cell_type": "markdown",
   "id": "6d2333b8",
   "metadata": {
    "papermill": {
     "duration": 0.022855,
     "end_time": "2022-07-05T07:06:48.704865",
     "exception": false,
     "start_time": "2022-07-05T07:06:48.682010",
     "status": "completed"
    },
    "tags": []
   },
   "source": [
    "## Setup\n"
   ]
  },
  {
   "cell_type": "markdown",
   "id": "c38814ae",
   "metadata": {
    "papermill": {
     "duration": 0.022757,
     "end_time": "2022-07-05T07:06:48.750846",
     "exception": false,
     "start_time": "2022-07-05T07:06:48.728089",
     "status": "completed"
    },
    "tags": []
   },
   "source": [
    "Let's first import required Python packages for this lab:\n"
   ]
  },
  {
   "cell_type": "code",
   "execution_count": 1,
   "id": "79a92f11",
   "metadata": {
    "execution": {
     "iopub.execute_input": "2022-07-05T07:06:48.799271Z",
     "iopub.status.busy": "2022-07-05T07:06:48.798702Z",
     "iopub.status.idle": "2022-07-05T07:07:00.694491Z",
     "shell.execute_reply": "2022-07-05T07:07:00.693149Z"
    },
    "papermill": {
     "duration": 11.923963,
     "end_time": "2022-07-05T07:07:00.697898",
     "exception": false,
     "start_time": "2022-07-05T07:06:48.773935",
     "status": "completed"
    },
    "tags": []
   },
   "outputs": [
    {
     "name": "stdout",
     "output_type": "stream",
     "text": [
      "Requirement already satisfied: lime==0.2.0.1 in /opt/conda/lib/python3.7/site-packages (0.2.0.1)\r\n",
      "Requirement already satisfied: scikit-learn>=0.18 in /opt/conda/lib/python3.7/site-packages (from lime==0.2.0.1) (1.0.2)\r\n",
      "Requirement already satisfied: scipy in /opt/conda/lib/python3.7/site-packages (from lime==0.2.0.1) (1.7.3)\r\n",
      "Requirement already satisfied: scikit-image>=0.12 in /opt/conda/lib/python3.7/site-packages (from lime==0.2.0.1) (0.18.3)\r\n",
      "Requirement already satisfied: numpy in /opt/conda/lib/python3.7/site-packages (from lime==0.2.0.1) (1.21.6)\r\n",
      "Requirement already satisfied: matplotlib in /opt/conda/lib/python3.7/site-packages (from lime==0.2.0.1) (3.5.2)\r\n",
      "Requirement already satisfied: tqdm in /opt/conda/lib/python3.7/site-packages (from lime==0.2.0.1) (4.64.0)\r\n",
      "Requirement already satisfied: pillow!=7.1.0,!=7.1.1,>=4.3.0 in /opt/conda/lib/python3.7/site-packages (from scikit-image>=0.12->lime==0.2.0.1) (9.1.1)\r\n",
      "Requirement already satisfied: tifffile>=2019.7.26 in /opt/conda/lib/python3.7/site-packages (from scikit-image>=0.12->lime==0.2.0.1) (2021.11.2)\r\n",
      "Requirement already satisfied: PyWavelets>=1.1.1 in /opt/conda/lib/python3.7/site-packages (from scikit-image>=0.12->lime==0.2.0.1) (1.3.0)\r\n",
      "Requirement already satisfied: networkx>=2.0 in /opt/conda/lib/python3.7/site-packages (from scikit-image>=0.12->lime==0.2.0.1) (2.5)\r\n",
      "Requirement already satisfied: imageio>=2.3.0 in /opt/conda/lib/python3.7/site-packages (from scikit-image>=0.12->lime==0.2.0.1) (2.19.2)\r\n",
      "Requirement already satisfied: kiwisolver>=1.0.1 in /opt/conda/lib/python3.7/site-packages (from matplotlib->lime==0.2.0.1) (1.4.2)\r\n",
      "Requirement already satisfied: python-dateutil>=2.7 in /opt/conda/lib/python3.7/site-packages (from matplotlib->lime==0.2.0.1) (2.8.2)\r\n",
      "Requirement already satisfied: fonttools>=4.22.0 in /opt/conda/lib/python3.7/site-packages (from matplotlib->lime==0.2.0.1) (4.33.3)\r\n",
      "Requirement already satisfied: cycler>=0.10 in /opt/conda/lib/python3.7/site-packages (from matplotlib->lime==0.2.0.1) (0.11.0)\r\n",
      "Requirement already satisfied: pyparsing>=2.2.1 in /opt/conda/lib/python3.7/site-packages (from matplotlib->lime==0.2.0.1) (3.0.9)\r\n",
      "Requirement already satisfied: packaging>=20.0 in /opt/conda/lib/python3.7/site-packages (from matplotlib->lime==0.2.0.1) (21.3)\r\n",
      "Requirement already satisfied: threadpoolctl>=2.0.0 in /opt/conda/lib/python3.7/site-packages (from scikit-learn>=0.18->lime==0.2.0.1) (3.1.0)\r\n",
      "Requirement already satisfied: joblib>=0.11 in /opt/conda/lib/python3.7/site-packages (from scikit-learn>=0.18->lime==0.2.0.1) (1.1.0)\r\n",
      "Requirement already satisfied: typing-extensions in /opt/conda/lib/python3.7/site-packages (from kiwisolver>=1.0.1->matplotlib->lime==0.2.0.1) (4.1.1)\r\n",
      "Requirement already satisfied: decorator>=4.3.0 in /opt/conda/lib/python3.7/site-packages (from networkx>=2.0->scikit-image>=0.12->lime==0.2.0.1) (5.1.1)\r\n",
      "Requirement already satisfied: six>=1.5 in /opt/conda/lib/python3.7/site-packages (from python-dateutil>=2.7->matplotlib->lime==0.2.0.1) (1.16.0)\r\n",
      "\u001b[33mWARNING: Running pip as the 'root' user can result in broken permissions and conflicting behaviour with the system package manager. It is recommended to use a virtual environment instead: https://pip.pypa.io/warnings/venv\u001b[0m\u001b[33m\r\n",
      "\u001b[0m"
     ]
    }
   ],
   "source": [
    "# All Libraries required for this lab are listed below. The libraries pre-installed on Skills Network Labs are commented.\n",
    "# !mamba install -qy pandas==1.3.3 numpy==1.21.2 ipywidgets==7.4.2 scipy==7.4.2 tqdm==4.62.3 matplotlib==3.5.0 seaborn==0.9.0\n",
    "\n",
    "# install imbalanced-learn package\n",
    "!pip install lime==0.2.0.1\n",
    "\n",
    "# Note: If your environment doesn't support \"!mamba install\", use \"!pip install\" "
   ]
  },
  {
   "cell_type": "markdown",
   "id": "48a758b5",
   "metadata": {
    "papermill": {
     "duration": 0.023362,
     "end_time": "2022-07-05T07:07:00.751020",
     "exception": false,
     "start_time": "2022-07-05T07:07:00.727658",
     "status": "completed"
    },
    "tags": []
   },
   "source": [
    "And then import the required Python packages.\n"
   ]
  },
  {
   "cell_type": "code",
   "execution_count": 2,
   "id": "7e69ff0d",
   "metadata": {
    "execution": {
     "iopub.execute_input": "2022-07-05T07:07:00.801005Z",
     "iopub.status.busy": "2022-07-05T07:07:00.800623Z",
     "iopub.status.idle": "2022-07-05T07:07:02.068450Z",
     "shell.execute_reply": "2022-07-05T07:07:02.067510Z"
    },
    "papermill": {
     "duration": 1.296868,
     "end_time": "2022-07-05T07:07:02.071614",
     "exception": false,
     "start_time": "2022-07-05T07:07:00.774746",
     "status": "completed"
    },
    "tags": []
   },
   "outputs": [],
   "source": [
    "## Import packages here\n",
    "import pandas as pd\n",
    "import numpy as np \n",
    "import matplotlib.pyplot as plt\n",
    "import lime.lime_tabular\n",
    "\n",
    "from sklearn import metrics\n",
    "from sklearn.ensemble import RandomForestClassifier\n",
    "from sklearn.preprocessing import MinMaxScaler, StandardScaler\n",
    "from sklearn.model_selection import train_test_split\n",
    "from sklearn.linear_model import LogisticRegression\n",
    "from sklearn.tree import DecisionTreeClassifier, export_text, export_graphviz, plot_tree\n",
    "from sklearn.inspection import permutation_importance, plot_partial_dependence"
   ]
  },
  {
   "cell_type": "markdown",
   "id": "3055e947",
   "metadata": {
    "papermill": {
     "duration": 0.023416,
     "end_time": "2022-07-05T07:07:02.119062",
     "exception": false,
     "start_time": "2022-07-05T07:07:02.095646",
     "status": "completed"
    },
    "tags": []
   },
   "source": [
    "Then, let's load the dataset to be used in this lab.\n"
   ]
  },
  {
   "cell_type": "code",
   "execution_count": 3,
   "id": "5e96fcec",
   "metadata": {
    "execution": {
     "iopub.execute_input": "2022-07-05T07:07:02.167678Z",
     "iopub.status.busy": "2022-07-05T07:07:02.167319Z",
     "iopub.status.idle": "2022-07-05T07:07:03.050503Z",
     "shell.execute_reply": "2022-07-05T07:07:03.049609Z"
    },
    "papermill": {
     "duration": 0.910436,
     "end_time": "2022-07-05T07:07:03.053156",
     "exception": false,
     "start_time": "2022-07-05T07:07:02.142720",
     "status": "completed"
    },
    "tags": []
   },
   "outputs": [],
   "source": [
    "url=\"https://cf-courses-data.s3.us.cloud-object-storage.appdomain.cloud/IBM-ML201EN-SkillsNetwork/labs/module_4/datasets/hr_new_job_processed.csv\"\n",
    "job_df=pd.read_csv(url)"
   ]
  },
  {
   "cell_type": "code",
   "execution_count": 4,
   "id": "0bb715a3",
   "metadata": {
    "execution": {
     "iopub.execute_input": "2022-07-05T07:07:03.102805Z",
     "iopub.status.busy": "2022-07-05T07:07:03.102428Z",
     "iopub.status.idle": "2022-07-05T07:07:03.170722Z",
     "shell.execute_reply": "2022-07-05T07:07:03.169605Z"
    },
    "papermill": {
     "duration": 0.096049,
     "end_time": "2022-07-05T07:07:03.173173",
     "exception": false,
     "start_time": "2022-07-05T07:07:03.077124",
     "status": "completed"
    },
    "tags": []
   },
   "outputs": [
    {
     "data": {
      "text/html": [
       "<div>\n",
       "<style scoped>\n",
       "    .dataframe tbody tr th:only-of-type {\n",
       "        vertical-align: middle;\n",
       "    }\n",
       "\n",
       "    .dataframe tbody tr th {\n",
       "        vertical-align: top;\n",
       "    }\n",
       "\n",
       "    .dataframe thead th {\n",
       "        text-align: right;\n",
       "    }\n",
       "</style>\n",
       "<table border=\"1\" class=\"dataframe\">\n",
       "  <thead>\n",
       "    <tr style=\"text-align: right;\">\n",
       "      <th></th>\n",
       "      <th>city_development_index</th>\n",
       "      <th>training_hours</th>\n",
       "      <th>company_size</th>\n",
       "      <th>experience</th>\n",
       "      <th>education_level</th>\n",
       "      <th>company_type_Early Stage Startup</th>\n",
       "      <th>company_type_Funded Startup</th>\n",
       "      <th>company_type_NGO</th>\n",
       "      <th>company_type_Other</th>\n",
       "      <th>company_type_Public Sector</th>\n",
       "      <th>company_type_Pvt Ltd</th>\n",
       "      <th>target</th>\n",
       "    </tr>\n",
       "  </thead>\n",
       "  <tbody>\n",
       "    <tr>\n",
       "      <th>count</th>\n",
       "      <td>11504.000000</td>\n",
       "      <td>11504.000000</td>\n",
       "      <td>11504.000000</td>\n",
       "      <td>11504.000000</td>\n",
       "      <td>11504.000000</td>\n",
       "      <td>11504.000000</td>\n",
       "      <td>11504.000000</td>\n",
       "      <td>11504.000000</td>\n",
       "      <td>11504.000000</td>\n",
       "      <td>11504.000000</td>\n",
       "      <td>11504.000000</td>\n",
       "      <td>11504.000000</td>\n",
       "    </tr>\n",
       "    <tr>\n",
       "      <th>mean</th>\n",
       "      <td>0.806056</td>\n",
       "      <td>64.380421</td>\n",
       "      <td>2.748997</td>\n",
       "      <td>9.530985</td>\n",
       "      <td>2.131568</td>\n",
       "      <td>0.029180</td>\n",
       "      <td>0.042537</td>\n",
       "      <td>0.023619</td>\n",
       "      <td>0.005557</td>\n",
       "      <td>0.045442</td>\n",
       "      <td>0.853665</td>\n",
       "      <td>0.500000</td>\n",
       "    </tr>\n",
       "    <tr>\n",
       "      <th>std</th>\n",
       "      <td>0.128302</td>\n",
       "      <td>59.048600</td>\n",
       "      <td>1.783676</td>\n",
       "      <td>6.733267</td>\n",
       "      <td>0.627610</td>\n",
       "      <td>0.161802</td>\n",
       "      <td>0.197495</td>\n",
       "      <td>0.147348</td>\n",
       "      <td>0.070875</td>\n",
       "      <td>0.200717</td>\n",
       "      <td>0.342167</td>\n",
       "      <td>0.500022</td>\n",
       "    </tr>\n",
       "    <tr>\n",
       "      <th>min</th>\n",
       "      <td>0.448000</td>\n",
       "      <td>1.000000</td>\n",
       "      <td>0.000000</td>\n",
       "      <td>0.000000</td>\n",
       "      <td>0.000000</td>\n",
       "      <td>0.000000</td>\n",
       "      <td>0.000000</td>\n",
       "      <td>0.000000</td>\n",
       "      <td>0.000000</td>\n",
       "      <td>0.000000</td>\n",
       "      <td>0.000000</td>\n",
       "      <td>0.000000</td>\n",
       "    </tr>\n",
       "    <tr>\n",
       "      <th>25%</th>\n",
       "      <td>0.682000</td>\n",
       "      <td>23.000000</td>\n",
       "      <td>2.000000</td>\n",
       "      <td>4.000000</td>\n",
       "      <td>2.000000</td>\n",
       "      <td>0.000000</td>\n",
       "      <td>0.000000</td>\n",
       "      <td>0.000000</td>\n",
       "      <td>0.000000</td>\n",
       "      <td>0.000000</td>\n",
       "      <td>1.000000</td>\n",
       "      <td>0.000000</td>\n",
       "    </tr>\n",
       "    <tr>\n",
       "      <th>50%</th>\n",
       "      <td>0.878000</td>\n",
       "      <td>46.000000</td>\n",
       "      <td>2.000000</td>\n",
       "      <td>8.000000</td>\n",
       "      <td>2.000000</td>\n",
       "      <td>0.000000</td>\n",
       "      <td>0.000000</td>\n",
       "      <td>0.000000</td>\n",
       "      <td>0.000000</td>\n",
       "      <td>0.000000</td>\n",
       "      <td>1.000000</td>\n",
       "      <td>0.500000</td>\n",
       "    </tr>\n",
       "    <tr>\n",
       "      <th>75%</th>\n",
       "      <td>0.920000</td>\n",
       "      <td>88.000000</td>\n",
       "      <td>3.000000</td>\n",
       "      <td>15.000000</td>\n",
       "      <td>2.247823</td>\n",
       "      <td>0.000000</td>\n",
       "      <td>0.000000</td>\n",
       "      <td>0.000000</td>\n",
       "      <td>0.000000</td>\n",
       "      <td>0.000000</td>\n",
       "      <td>1.000000</td>\n",
       "      <td>1.000000</td>\n",
       "    </tr>\n",
       "    <tr>\n",
       "      <th>max</th>\n",
       "      <td>0.949000</td>\n",
       "      <td>336.000000</td>\n",
       "      <td>7.000000</td>\n",
       "      <td>21.000000</td>\n",
       "      <td>4.000000</td>\n",
       "      <td>1.000000</td>\n",
       "      <td>1.000000</td>\n",
       "      <td>1.000000</td>\n",
       "      <td>1.000000</td>\n",
       "      <td>1.000000</td>\n",
       "      <td>1.000000</td>\n",
       "      <td>1.000000</td>\n",
       "    </tr>\n",
       "  </tbody>\n",
       "</table>\n",
       "</div>"
      ],
      "text/plain": [
       "       city_development_index  training_hours  company_size    experience  \\\n",
       "count            11504.000000    11504.000000  11504.000000  11504.000000   \n",
       "mean                 0.806056       64.380421      2.748997      9.530985   \n",
       "std                  0.128302       59.048600      1.783676      6.733267   \n",
       "min                  0.448000        1.000000      0.000000      0.000000   \n",
       "25%                  0.682000       23.000000      2.000000      4.000000   \n",
       "50%                  0.878000       46.000000      2.000000      8.000000   \n",
       "75%                  0.920000       88.000000      3.000000     15.000000   \n",
       "max                  0.949000      336.000000      7.000000     21.000000   \n",
       "\n",
       "       education_level  company_type_Early Stage Startup  \\\n",
       "count     11504.000000                      11504.000000   \n",
       "mean          2.131568                          0.029180   \n",
       "std           0.627610                          0.161802   \n",
       "min           0.000000                          0.000000   \n",
       "25%           2.000000                          0.000000   \n",
       "50%           2.000000                          0.000000   \n",
       "75%           2.247823                          0.000000   \n",
       "max           4.000000                          1.000000   \n",
       "\n",
       "       company_type_Funded Startup  company_type_NGO  company_type_Other  \\\n",
       "count                 11504.000000      11504.000000        11504.000000   \n",
       "mean                      0.042537          0.023619            0.005557   \n",
       "std                       0.197495          0.147348            0.070875   \n",
       "min                       0.000000          0.000000            0.000000   \n",
       "25%                       0.000000          0.000000            0.000000   \n",
       "50%                       0.000000          0.000000            0.000000   \n",
       "75%                       0.000000          0.000000            0.000000   \n",
       "max                       1.000000          1.000000            1.000000   \n",
       "\n",
       "       company_type_Public Sector  company_type_Pvt Ltd        target  \n",
       "count                11504.000000          11504.000000  11504.000000  \n",
       "mean                     0.045442              0.853665      0.500000  \n",
       "std                      0.200717              0.342167      0.500022  \n",
       "min                      0.000000              0.000000      0.000000  \n",
       "25%                      0.000000              1.000000      0.000000  \n",
       "50%                      0.000000              1.000000      0.500000  \n",
       "75%                      0.000000              1.000000      1.000000  \n",
       "max                      1.000000              1.000000      1.000000  "
      ]
     },
     "execution_count": 4,
     "metadata": {},
     "output_type": "execute_result"
    }
   ],
   "source": [
    "job_df.describe()"
   ]
  },
  {
   "cell_type": "markdown",
   "id": "7b8ec6bf",
   "metadata": {
    "papermill": {
     "duration": 0.024396,
     "end_time": "2022-07-05T07:07:03.221739",
     "exception": false,
     "start_time": "2022-07-05T07:07:03.197343",
     "status": "completed"
    },
    "tags": []
   },
   "source": [
    "The dataset contains the following features (predictors):\n",
    "\n",
    "*   `city_ development index` : Developement index of the city, ranged from 0 to 1\n",
    "*   `training_hours`: Training hours completed, ranged from 0 to 336\n",
    "*   `company_size`: Size of the current company, ranged from 0 to 7 where 0 means less than 10 employees and 7 means more than 10,000 employees\n",
    "*   `education_level`: Education level of the candidate, ranged from 0 to 4 where 0 means Primary School and 4 means Phd\n",
    "*   `experience`: Total experience in years, ranged from 0 to 21\n",
    "*   `company_type` : *Categorical column* with one-hot encodings. Type of current company:  'Pvt Ltd', 'Funded Startup', 'Early Stage Startup', 'Other', 'Public Sector', 'NGO'\n",
    "\n",
    "and the prediction outcome is:\n",
    "\n",
    "*   `target`: `0` – Not looking for a job change, `1` – Looking for a job change\n"
   ]
  },
  {
   "cell_type": "markdown",
   "id": "7c1ca040",
   "metadata": {
    "papermill": {
     "duration": 0.023877,
     "end_time": "2022-07-05T07:07:03.269629",
     "exception": false,
     "start_time": "2022-07-05T07:07:03.245752",
     "status": "completed"
    },
    "tags": []
   },
   "source": [
    "The predictive task is a straightforward binary classification task, more specifically, we want to use an employee's profile features to predict if he/she is looking for a job change or not.\n"
   ]
  },
  {
   "cell_type": "markdown",
   "id": "ef84476b",
   "metadata": {
    "papermill": {
     "duration": 0.023848,
     "end_time": "2022-07-05T07:07:03.317742",
     "exception": false,
     "start_time": "2022-07-05T07:07:03.293894",
     "status": "completed"
    },
    "tags": []
   },
   "source": [
    "## Build a Random Forest classifier as the Black-box model\n"
   ]
  },
  {
   "cell_type": "markdown",
   "id": "465042cb",
   "metadata": {
    "papermill": {
     "duration": 0.023684,
     "end_time": "2022-07-05T07:07:03.365519",
     "exception": false,
     "start_time": "2022-07-05T07:07:03.341835",
     "status": "completed"
    },
    "tags": []
   },
   "source": [
    "### Split the training and testing datasets\n"
   ]
  },
  {
   "cell_type": "code",
   "execution_count": 5,
   "id": "54c774e4",
   "metadata": {
    "execution": {
     "iopub.execute_input": "2022-07-05T07:07:03.415424Z",
     "iopub.status.busy": "2022-07-05T07:07:03.415021Z",
     "iopub.status.idle": "2022-07-05T07:07:03.422508Z",
     "shell.execute_reply": "2022-07-05T07:07:03.421509Z"
    },
    "papermill": {
     "duration": 0.034999,
     "end_time": "2022-07-05T07:07:03.424683",
     "exception": false,
     "start_time": "2022-07-05T07:07:03.389684",
     "status": "completed"
    },
    "tags": []
   },
   "outputs": [],
   "source": [
    "X = job_df.loc[:, job_df.columns != 'target']\n",
    "y = job_df[['target']]"
   ]
  },
  {
   "cell_type": "code",
   "execution_count": 6,
   "id": "d445b78b",
   "metadata": {
    "execution": {
     "iopub.execute_input": "2022-07-05T07:07:03.475438Z",
     "iopub.status.busy": "2022-07-05T07:07:03.474657Z",
     "iopub.status.idle": "2022-07-05T07:07:03.550610Z",
     "shell.execute_reply": "2022-07-05T07:07:03.549696Z"
    },
    "papermill": {
     "duration": 0.104168,
     "end_time": "2022-07-05T07:07:03.553203",
     "exception": false,
     "start_time": "2022-07-05T07:07:03.449035",
     "status": "completed"
    },
    "tags": []
   },
   "outputs": [],
   "source": [
    "X_train, X_test, y_train, y_test = train_test_split(X, y, test_size=0.2, stratify=y, random_state = 12)"
   ]
  },
  {
   "cell_type": "markdown",
   "id": "2c878d35",
   "metadata": {
    "papermill": {
     "duration": 0.024055,
     "end_time": "2022-07-05T07:07:03.601492",
     "exception": false,
     "start_time": "2022-07-05T07:07:03.577437",
     "status": "completed"
    },
    "tags": []
   },
   "source": [
    "Now let's train a `Random Forest` model with the following preset arguments. If you like, you may also use hyperparameter tuning methods to tune these parameters yourself.\n",
    "\n",
    "*   `random_state = 0` as a random seed to reproduce the result\n",
    "*   `max_depth = 25` means the max depth of a tree should be less than 25\n",
    "*   `max_features = 10` means the random forest includes max 10 features\n",
    "*   `n_estimators = 100` means total 100 trees will be built\n",
    "*   `bootstrap = True` means bootstrap samples will be used to build trees\n"
   ]
  },
  {
   "cell_type": "code",
   "execution_count": 7,
   "id": "d5cf798c",
   "metadata": {
    "execution": {
     "iopub.execute_input": "2022-07-05T07:07:03.652258Z",
     "iopub.status.busy": "2022-07-05T07:07:03.651247Z",
     "iopub.status.idle": "2022-07-05T07:07:05.785799Z",
     "shell.execute_reply": "2022-07-05T07:07:05.784879Z"
    },
    "papermill": {
     "duration": 2.16297,
     "end_time": "2022-07-05T07:07:05.788704",
     "exception": false,
     "start_time": "2022-07-05T07:07:03.625734",
     "status": "completed"
    },
    "tags": []
   },
   "outputs": [
    {
     "data": {
      "text/plain": [
       "RandomForestClassifier(max_depth=25, max_features=10, random_state=123)"
      ]
     },
     "execution_count": 7,
     "metadata": {},
     "output_type": "execute_result"
    }
   ],
   "source": [
    "# Define a black-box random forest model\n",
    "black_box_model = RandomForestClassifier(random_state = 123, max_depth=25, \n",
    "                             max_features=10, n_estimators=100, \n",
    "                             bootstrap=True)\n",
    "# Train the model\n",
    "black_box_model.fit(X_train, y_train.values.ravel())"
   ]
  },
  {
   "cell_type": "markdown",
   "id": "ccbf2578",
   "metadata": {
    "papermill": {
     "duration": 0.024167,
     "end_time": "2022-07-05T07:07:05.837635",
     "exception": false,
     "start_time": "2022-07-05T07:07:05.813468",
     "status": "completed"
    },
    "tags": []
   },
   "source": [
    "Next, let's make some predictions and evalute the model using `AUC` score:\n"
   ]
  },
  {
   "cell_type": "code",
   "execution_count": 8,
   "id": "4af3c62c",
   "metadata": {
    "execution": {
     "iopub.execute_input": "2022-07-05T07:07:05.889365Z",
     "iopub.status.busy": "2022-07-05T07:07:05.888128Z",
     "iopub.status.idle": "2022-07-05T07:07:05.960952Z",
     "shell.execute_reply": "2022-07-05T07:07:05.959873Z"
    },
    "papermill": {
     "duration": 0.101188,
     "end_time": "2022-07-05T07:07:05.963838",
     "exception": false,
     "start_time": "2022-07-05T07:07:05.862650",
     "status": "completed"
    },
    "tags": []
   },
   "outputs": [],
   "source": [
    "#predicting test set\n",
    "y_blackbox = black_box_model.predict(X_test)"
   ]
  },
  {
   "cell_type": "code",
   "execution_count": 9,
   "id": "cc13f076",
   "metadata": {
    "execution": {
     "iopub.execute_input": "2022-07-05T07:07:06.014208Z",
     "iopub.status.busy": "2022-07-05T07:07:06.013787Z",
     "iopub.status.idle": "2022-07-05T07:07:06.024784Z",
     "shell.execute_reply": "2022-07-05T07:07:06.023875Z"
    },
    "papermill": {
     "duration": 0.038891,
     "end_time": "2022-07-05T07:07:06.027010",
     "exception": false,
     "start_time": "2022-07-05T07:07:05.988119",
     "status": "completed"
    },
    "tags": []
   },
   "outputs": [
    {
     "data": {
      "text/plain": [
       "0.8131250708268802"
      ]
     },
     "execution_count": 9,
     "metadata": {},
     "output_type": "execute_result"
    }
   ],
   "source": [
    "metrics.roc_auc_score(y_test, y_blackbox)"
   ]
  },
  {
   "cell_type": "markdown",
   "id": "b26ec938",
   "metadata": {
    "papermill": {
     "duration": 0.024129,
     "end_time": "2022-07-05T07:07:06.075975",
     "exception": false,
     "start_time": "2022-07-05T07:07:06.051846",
     "status": "completed"
    },
    "tags": []
   },
   "source": [
    "Your AUC score should be around `0.81`, which indicates the model is doing a very good job in the test dataset.\n"
   ]
  },
  {
   "cell_type": "markdown",
   "id": "4104559c",
   "metadata": {
    "papermill": {
     "duration": 0.023983,
     "end_time": "2022-07-05T07:07:06.124454",
     "exception": false,
     "start_time": "2022-07-05T07:07:06.100471",
     "status": "completed"
    },
    "tags": []
   },
   "source": [
    "Now we have a black-box random forest model trained, we want to use various model-agnostic methods to explain it.\n"
   ]
  },
  {
   "cell_type": "markdown",
   "id": "1c2d9d9c",
   "metadata": {
    "papermill": {
     "duration": 0.023977,
     "end_time": "2022-07-05T07:07:06.172739",
     "exception": false,
     "start_time": "2022-07-05T07:07:06.148762",
     "status": "completed"
    },
    "tags": []
   },
   "source": [
    "Note that if you prefer other binary classification models such as XGBoosting, you could train one here by yourself as well, and it won't affect\n",
    "the subsequent steps since our explanations are all model-agnostic.\n"
   ]
  },
  {
   "cell_type": "markdown",
   "id": "127998b9",
   "metadata": {
    "papermill": {
     "duration": 0.024139,
     "end_time": "2022-07-05T07:07:06.221746",
     "exception": false,
     "start_time": "2022-07-05T07:07:06.197607",
     "status": "completed"
    },
    "tags": []
   },
   "source": [
    "## Permutation Feature Importance\n"
   ]
  },
  {
   "cell_type": "markdown",
   "id": "1f3b2d16",
   "metadata": {
    "papermill": {
     "duration": 0.024219,
     "end_time": "2022-07-05T07:07:06.270006",
     "exception": false,
     "start_time": "2022-07-05T07:07:06.245787",
     "status": "completed"
    },
    "tags": []
   },
   "source": [
    "One common way to explain a machine learning model is via finding its important features and **permutation feature importance** is a popular method to calculate feature importance.\n"
   ]
  },
  {
   "cell_type": "markdown",
   "id": "42344aa6",
   "metadata": {
    "papermill": {
     "duration": 0.02417,
     "end_time": "2022-07-05T07:07:06.318239",
     "exception": false,
     "start_time": "2022-07-05T07:07:06.294069",
     "status": "completed"
    },
    "tags": []
   },
   "source": [
    "The basic idea of permutation feature importance is we shuffle interested feature values and make predictions using the shuffled values.\n",
    "The feature importance will be measured by calculating the difference between the prediction errors before and after permutation.\n"
   ]
  },
  {
   "cell_type": "markdown",
   "id": "f72a207a",
   "metadata": {
    "papermill": {
     "duration": 0.023901,
     "end_time": "2022-07-05T07:07:06.366224",
     "exception": false,
     "start_time": "2022-07-05T07:07:06.342323",
     "status": "completed"
    },
    "tags": []
   },
   "source": [
    "In this lab, we will use `permutation_importance` function provided by `sklearn` to easily calculate importance for all features.\n"
   ]
  },
  {
   "cell_type": "markdown",
   "id": "0ac1d434",
   "metadata": {
    "papermill": {
     "duration": 0.023949,
     "end_time": "2022-07-05T07:07:06.414369",
     "exception": false,
     "start_time": "2022-07-05T07:07:06.390420",
     "status": "completed"
    },
    "tags": []
   },
   "source": [
    "You can call `permutation_importance` with the following key arguments:\n",
    "\n",
    "*   `estimator` the model to be estimated\n",
    "*   `X` training data X\n",
    "*   `y` target labels y\n",
    "*   `n_repeats`, Number of times to permute a feature, each permutation generates an importance value\n"
   ]
  },
  {
   "cell_type": "code",
   "execution_count": 10,
   "id": "8df2d410",
   "metadata": {
    "execution": {
     "iopub.execute_input": "2022-07-05T07:07:06.465164Z",
     "iopub.status.busy": "2022-07-05T07:07:06.464284Z",
     "iopub.status.idle": "2022-07-05T07:07:14.003981Z",
     "shell.execute_reply": "2022-07-05T07:07:14.002859Z"
    },
    "papermill": {
     "duration": 7.568037,
     "end_time": "2022-07-05T07:07:14.006819",
     "exception": false,
     "start_time": "2022-07-05T07:07:06.438782",
     "status": "completed"
    },
    "tags": []
   },
   "outputs": [],
   "source": [
    "# Use permutation_importance to calculate permutation feature importances\n",
    "feature_importances = permutation_importance(estimator=black_box_model, X = X_train, y = y_train, n_repeats=5,\n",
    "                                random_state=123, n_jobs=2)"
   ]
  },
  {
   "cell_type": "markdown",
   "id": "0348e31a",
   "metadata": {
    "papermill": {
     "duration": 0.024621,
     "end_time": "2022-07-05T07:07:14.056427",
     "exception": false,
     "start_time": "2022-07-05T07:07:14.031806",
     "status": "completed"
    },
    "tags": []
   },
   "source": [
    "Let's take a look at the generated importance results:\n"
   ]
  },
  {
   "cell_type": "code",
   "execution_count": 11,
   "id": "486082a6",
   "metadata": {
    "execution": {
     "iopub.execute_input": "2022-07-05T07:07:14.108048Z",
     "iopub.status.busy": "2022-07-05T07:07:14.107652Z",
     "iopub.status.idle": "2022-07-05T07:07:14.114918Z",
     "shell.execute_reply": "2022-07-05T07:07:14.113801Z"
    },
    "papermill": {
     "duration": 0.036029,
     "end_time": "2022-07-05T07:07:14.117211",
     "exception": false,
     "start_time": "2022-07-05T07:07:14.081182",
     "status": "completed"
    },
    "tags": []
   },
   "outputs": [
    {
     "data": {
      "text/plain": [
       "(11, 5)"
      ]
     },
     "execution_count": 11,
     "metadata": {},
     "output_type": "execute_result"
    }
   ],
   "source": [
    "feature_importances.importances.shape"
   ]
  },
  {
   "cell_type": "code",
   "execution_count": 12,
   "id": "f718531c",
   "metadata": {
    "execution": {
     "iopub.execute_input": "2022-07-05T07:07:14.168376Z",
     "iopub.status.busy": "2022-07-05T07:07:14.167686Z",
     "iopub.status.idle": "2022-07-05T07:07:14.175710Z",
     "shell.execute_reply": "2022-07-05T07:07:14.174734Z"
    },
    "papermill": {
     "duration": 0.036032,
     "end_time": "2022-07-05T07:07:14.177794",
     "exception": false,
     "start_time": "2022-07-05T07:07:14.141762",
     "status": "completed"
    },
    "tags": []
   },
   "outputs": [
    {
     "data": {
      "text/plain": [
       "{'importances_mean': array([0.30324894, 0.15303705, 0.18459198, 0.15197218, 0.11709225,\n",
       "        0.00069543, 0.00199935, 0.00136912, 0.0006085 , 0.01043138,\n",
       "        0.0476801 ]),\n",
       " 'importances_std': array([1.53422689e-03, 2.17819703e-03, 2.90868612e-03, 2.96592642e-03,\n",
       "        1.80336685e-03, 1.62627725e-04, 1.89455566e-04, 1.10812116e-04,\n",
       "        8.69281756e-05, 4.85943274e-04, 1.21076938e-03]),\n",
       " 'importances': array([[0.30468326, 0.30109747, 0.30392263, 0.30174943, 0.30479192],\n",
       "        [0.15527545, 0.15103771, 0.15092904, 0.15190699, 0.15603608],\n",
       "        [0.18200587, 0.18309247, 0.18537433, 0.18254917, 0.18993806],\n",
       "        [0.15353689, 0.15114637, 0.15168967, 0.1472346 , 0.1562534 ],\n",
       "        [0.1201782 , 0.11789634, 0.11561447, 0.11659242, 0.11517983],\n",
       "        [0.00076062, 0.00065196, 0.00097794, 0.0005433 , 0.0005433 ],\n",
       "        [0.00206454, 0.00206454, 0.0021732 , 0.00206454, 0.0016299 ],\n",
       "        [0.00130392, 0.00141258, 0.00141258, 0.00152124, 0.00119526],\n",
       "        [0.00076062, 0.0005433 , 0.00065196, 0.0005433 , 0.0005433 ],\n",
       "        [0.00988808, 0.01043138, 0.00988808, 0.01097468, 0.01097468],\n",
       "        [0.04813648, 0.04857112, 0.04563729, 0.04704988, 0.04900576]])}"
      ]
     },
     "execution_count": 12,
     "metadata": {},
     "output_type": "execute_result"
    }
   ],
   "source": [
    "feature_importances"
   ]
  },
  {
   "cell_type": "code",
   "execution_count": 13,
   "id": "b990ffec",
   "metadata": {
    "execution": {
     "iopub.execute_input": "2022-07-05T07:07:14.230415Z",
     "iopub.status.busy": "2022-07-05T07:07:14.230019Z",
     "iopub.status.idle": "2022-07-05T07:07:14.237109Z",
     "shell.execute_reply": "2022-07-05T07:07:14.236110Z"
    },
    "papermill": {
     "duration": 0.03605,
     "end_time": "2022-07-05T07:07:14.239281",
     "exception": false,
     "start_time": "2022-07-05T07:07:14.203231",
     "status": "completed"
    },
    "tags": []
   },
   "outputs": [
    {
     "data": {
      "text/plain": [
       "array([[0.30468326, 0.30109747, 0.30392263, 0.30174943, 0.30479192],\n",
       "       [0.15527545, 0.15103771, 0.15092904, 0.15190699, 0.15603608],\n",
       "       [0.18200587, 0.18309247, 0.18537433, 0.18254917, 0.18993806],\n",
       "       [0.15353689, 0.15114637, 0.15168967, 0.1472346 , 0.1562534 ],\n",
       "       [0.1201782 , 0.11789634, 0.11561447, 0.11659242, 0.11517983],\n",
       "       [0.00076062, 0.00065196, 0.00097794, 0.0005433 , 0.0005433 ],\n",
       "       [0.00206454, 0.00206454, 0.0021732 , 0.00206454, 0.0016299 ],\n",
       "       [0.00130392, 0.00141258, 0.00141258, 0.00152124, 0.00119526],\n",
       "       [0.00076062, 0.0005433 , 0.00065196, 0.0005433 , 0.0005433 ],\n",
       "       [0.00988808, 0.01043138, 0.00988808, 0.01097468, 0.01097468],\n",
       "       [0.04813648, 0.04857112, 0.04563729, 0.04704988, 0.04900576]])"
      ]
     },
     "execution_count": 13,
     "metadata": {},
     "output_type": "execute_result"
    }
   ],
   "source": [
    "feature_importances.importances"
   ]
  },
  {
   "cell_type": "markdown",
   "id": "2722170c",
   "metadata": {
    "papermill": {
     "duration": 0.0266,
     "end_time": "2022-07-05T07:07:14.292566",
     "exception": false,
     "start_time": "2022-07-05T07:07:14.265966",
     "status": "completed"
    },
    "tags": []
   },
   "source": [
    "It is a `11 x 5` numpy array, 11 means we have 11 features, and 5 represents the total number of permutation times.\n",
    "\n",
    "For each permutation, we will have a list of importance score calculated for each feature. The value represents the portion of increased prediction errors, important features will have larger values.\n"
   ]
  },
  {
   "cell_type": "markdown",
   "id": "437fc40c",
   "metadata": {
    "papermill": {
     "duration": 0.026548,
     "end_time": "2022-07-05T07:07:14.346130",
     "exception": false,
     "start_time": "2022-07-05T07:07:14.319582",
     "status": "completed"
    },
    "tags": []
   },
   "source": [
    "However, the feature importance array above is very difficult to comprehend, let's sort and visualize it:\n"
   ]
  },
  {
   "cell_type": "code",
   "execution_count": 14,
   "id": "bcecedaa",
   "metadata": {
    "execution": {
     "iopub.execute_input": "2022-07-05T07:07:14.401868Z",
     "iopub.status.busy": "2022-07-05T07:07:14.401469Z",
     "iopub.status.idle": "2022-07-05T07:07:14.408200Z",
     "shell.execute_reply": "2022-07-05T07:07:14.407151Z"
    },
    "papermill": {
     "duration": 0.036707,
     "end_time": "2022-07-05T07:07:14.410280",
     "exception": false,
     "start_time": "2022-07-05T07:07:14.373573",
     "status": "completed"
    },
    "tags": []
   },
   "outputs": [],
   "source": [
    "def visualize_feature_importance(importance_array):\n",
    "    # Sort the array based on mean value\n",
    "    sorted_idx = importance_array.importances_mean.argsort()\n",
    "    # Visualize the feature importances using boxplot\n",
    "    fig, ax = plt.subplots()\n",
    "    fig.set_figwidth(16)\n",
    "    fig.set_figheight(10)\n",
    "    fig.tight_layout()\n",
    "    ax.boxplot(importance_array.importances[sorted_idx].T,\n",
    "               vert=False, labels=X_train.columns[sorted_idx])\n",
    "    ax.set_title(\"Permutation Importances (train set)\")\n",
    "    plt.show()"
   ]
  },
  {
   "cell_type": "code",
   "execution_count": 15,
   "id": "1d98d81c",
   "metadata": {
    "execution": {
     "iopub.execute_input": "2022-07-05T07:07:14.464608Z",
     "iopub.status.busy": "2022-07-05T07:07:14.464208Z",
     "iopub.status.idle": "2022-07-05T07:07:14.857955Z",
     "shell.execute_reply": "2022-07-05T07:07:14.856891Z"
    },
    "papermill": {
     "duration": 0.423645,
     "end_time": "2022-07-05T07:07:14.860221",
     "exception": false,
     "start_time": "2022-07-05T07:07:14.436576",
     "status": "completed"
    },
    "tags": []
   },
   "outputs": [
    {
     "data": {
      "image/png": "[encoded data removed]",
      "text/plain": [
       "<Figure size 1152x720 with 1 Axes>"
      ]
     },
     "metadata": {
      "needs_background": "light"
     },
     "output_type": "display_data"
    }
   ],
   "source": [
    "visualize_feature_importance(feature_importances)"
   ]
  },
  {
   "cell_type": "markdown",
   "id": "f40968cb",
   "metadata": {
    "papermill": {
     "duration": 0.025118,
     "end_time": "2022-07-05T07:07:14.910822",
     "exception": false,
     "start_time": "2022-07-05T07:07:14.885704",
     "status": "completed"
    },
    "tags": []
   },
   "source": [
    "Now you should see a box plot show ranked feature importances, and we can see the most important features are `city_development_index`, `company_size`, `training_hours`, `experiences`, `education_level`, and so on, and you should have a general understanding of how the black-box model determines if an employee is looking for a new job or not.\n"
   ]
  },
  {
   "cell_type": "markdown",
   "id": "3d95010c",
   "metadata": {
    "papermill": {
     "duration": 0.025464,
     "end_time": "2022-07-05T07:07:14.962305",
     "exception": false,
     "start_time": "2022-07-05T07:07:14.936841",
     "status": "completed"
    },
    "tags": []
   },
   "source": [
    "### Exercise: Use a different `n_repeats=10` to calculate and visualize feature importance values\n"
   ]
  },
  {
   "cell_type": "code",
   "execution_count": 16,
   "id": "055e1822",
   "metadata": {
    "execution": {
     "iopub.execute_input": "2022-07-05T07:07:15.015755Z",
     "iopub.status.busy": "2022-07-05T07:07:15.015394Z",
     "iopub.status.idle": "2022-07-05T07:07:27.271089Z",
     "shell.execute_reply": "2022-07-05T07:07:27.270095Z"
    },
    "papermill": {
     "duration": 12.285696,
     "end_time": "2022-07-05T07:07:27.273606",
     "exception": false,
     "start_time": "2022-07-05T07:07:14.987910",
     "status": "completed"
    },
    "tags": []
   },
   "outputs": [
    {
     "data": {
      "image/png": "[encoded data removed]",
      "text/plain": [
       "<Figure size 1152x720 with 1 Axes>"
      ]
     },
     "metadata": {
      "needs_background": "light"
     },
     "output_type": "display_data"
    }
   ],
   "source": [
    "# Type your answer here\n",
    "# Update n_repeats=10 and recalculate and visualize feature importance\n",
    "\n",
    "feature_importances = permutation_importance(estimator=black_box_model, X = X_train, y = y_train, n_repeats=10,\n",
    "                                random_state=123, n_jobs=2)\n",
    "\n",
    "visualize_feature_importance(feature_importances)"
   ]
  },
  {
   "cell_type": "markdown",
   "id": "4e265a0d",
   "metadata": {
    "papermill": {
     "duration": 0.025597,
     "end_time": "2022-07-05T07:07:27.325587",
     "exception": false,
     "start_time": "2022-07-05T07:07:27.299990",
     "status": "completed"
    },
    "tags": []
   },
   "source": [
    "<details><summary>Click here for a sample solution</summary>\n",
    "\n",
    "```python\n",
    "feature_importances = permutation_importance(estimator=black_box_model, X = X_train, y = y_train, n_repeats=10,\n",
    "                                random_state=123, n_jobs=2)\n",
    "\n",
    "visualize_feature_importance(feature_importances)\n",
    "\n",
    "```\n",
    "\n",
    "</details>\n"
   ]
  },
  {
   "cell_type": "markdown",
   "id": "0bcb0a8d",
   "metadata": {
    "papermill": {
     "duration": 0.026337,
     "end_time": "2022-07-05T07:07:27.377920",
     "exception": false,
     "start_time": "2022-07-05T07:07:27.351583",
     "status": "completed"
    },
    "tags": []
   },
   "source": [
    "## Partial Dependency Plot (PDP)\n"
   ]
  },
  {
   "cell_type": "markdown",
   "id": "e69d6bab",
   "metadata": {
    "papermill": {
     "duration": 0.026237,
     "end_time": "2022-07-05T07:07:27.429994",
     "exception": false,
     "start_time": "2022-07-05T07:07:27.403757",
     "status": "completed"
    },
    "tags": []
   },
   "source": [
    "Partial Dependency Plot (PDP) is an effective way to illustrate the relationship between an interested feature and the model outcome. It essentially visualizes the marginal effects of a feature, that is, shows how the model outcome changes when a specific feature changes in its distribution.\n"
   ]
  },
  {
   "cell_type": "markdown",
   "id": "cf9b22de",
   "metadata": {
    "papermill": {
     "duration": 0.025664,
     "end_time": "2022-07-05T07:07:27.481875",
     "exception": false,
     "start_time": "2022-07-05T07:07:27.456211",
     "status": "completed"
    },
    "tags": []
   },
   "source": [
    "Since a machine learning model may include many features, and it is not feasible to create PDP for every single feature. Thus, we normally first find the most important features via ranking their feature importances. Then, we can only focus PDP on those important features.\n"
   ]
  },
  {
   "cell_type": "markdown",
   "id": "1ebe2699",
   "metadata": {
    "papermill": {
     "duration": 0.025531,
     "end_time": "2022-07-05T07:07:27.533658",
     "exception": false,
     "start_time": "2022-07-05T07:07:27.508127",
     "status": "completed"
    },
    "tags": []
   },
   "source": [
    "From the previous step, we know some important features are `city_development_index`, `company_size`, `experience`, `education_level`, and we can easily create PDP for those features using `plot_partial_dependence` in `sklearn` package.\n"
   ]
  },
  {
   "cell_type": "markdown",
   "id": "a6187891",
   "metadata": {
    "papermill": {
     "duration": 0.025784,
     "end_time": "2022-07-05T07:07:27.586235",
     "exception": false,
     "start_time": "2022-07-05T07:07:27.560451",
     "status": "completed"
    },
    "tags": []
   },
   "source": [
    "Let's first try to create PDP for features `city_development_index`, `experience`:\n"
   ]
  },
  {
   "cell_type": "code",
   "execution_count": 17,
   "id": "e654fefb",
   "metadata": {
    "execution": {
     "iopub.execute_input": "2022-07-05T07:07:27.641429Z",
     "iopub.status.busy": "2022-07-05T07:07:27.640410Z",
     "iopub.status.idle": "2022-07-05T07:07:57.423024Z",
     "shell.execute_reply": "2022-07-05T07:07:57.421909Z"
    },
    "papermill": {
     "duration": 29.813654,
     "end_time": "2022-07-05T07:07:57.425787",
     "exception": false,
     "start_time": "2022-07-05T07:07:27.612133",
     "status": "completed"
    },
    "tags": []
   },
   "outputs": [
    {
     "name": "stderr",
     "output_type": "stream",
     "text": [
      "/opt/conda/lib/python3.7/site-packages/sklearn/utils/deprecation.py:87: FutureWarning: Function plot_partial_dependence is deprecated; Function `plot_partial_dependence` is deprecated in 1.0 and will be removed in 1.2. Use PartialDependenceDisplay.from_estimator instead\n",
      "  warnings.warn(msg, category=FutureWarning)\n"
     ]
    },
    {
     "data": {
      "text/plain": [
       "<sklearn.inspection._plot.partial_dependence.PartialDependenceDisplay at 0x7fadf0cbc590>"
      ]
     },
     "execution_count": 17,
     "metadata": {},
     "output_type": "execute_result"
    },
    {
     "data": {
      "image/png": "[encoded data removed]",
      "text/plain": [
       "<Figure size 432x288 with 3 Axes>"
      ]
     },
     "metadata": {
      "needs_background": "light"
     },
     "output_type": "display_data"
    }
   ],
   "source": [
    "# Important features\n",
    "important_features = ['city_development_index', 'experience']\n",
    "\"arguments: \"\n",
    "\" - estimator: the black box model\"\n",
    "\" - X is the training data X\"\n",
    "\" - features are the important features we are interested\"\n",
    "plot_partial_dependence(estimator=black_box_model, \n",
    "                        X=X_train, \n",
    "                        features=important_features,\n",
    "                        random_state=123)"
   ]
  },
  {
   "cell_type": "markdown",
   "id": "9f81141a",
   "metadata": {
    "papermill": {
     "duration": 0.026696,
     "end_time": "2022-07-05T07:07:57.479512",
     "exception": false,
     "start_time": "2022-07-05T07:07:57.452816",
     "status": "completed"
    },
    "tags": []
   },
   "source": [
    "Then you should see two PDPs are plotted for `city_development_index` and `experience`. They all have roughly negative linear relationship betweens the outcome, for example, if an employee is in a well-developed city and has a lot of experiences, then he/she is unlikely to change the current job.\n"
   ]
  },
  {
   "cell_type": "markdown",
   "id": "ee6877df",
   "metadata": {
    "papermill": {
     "duration": 0.026357,
     "end_time": "2022-07-05T07:07:57.532673",
     "exception": false,
     "start_time": "2022-07-05T07:07:57.506316",
     "status": "completed"
    },
    "tags": []
   },
   "source": [
    "### Exercise: Create PDPs for other important features such as `company_size`, `education_level`, `training_hours`, and others\n"
   ]
  },
  {
   "cell_type": "code",
   "execution_count": 18,
   "id": "d1657ed9",
   "metadata": {
    "execution": {
     "iopub.execute_input": "2022-07-05T07:07:57.588128Z",
     "iopub.status.busy": "2022-07-05T07:07:57.587469Z",
     "iopub.status.idle": "2022-07-05T07:08:43.188760Z",
     "shell.execute_reply": "2022-07-05T07:08:43.187825Z"
    },
    "papermill": {
     "duration": 45.631925,
     "end_time": "2022-07-05T07:08:43.191600",
     "exception": false,
     "start_time": "2022-07-05T07:07:57.559675",
     "status": "completed"
    },
    "tags": []
   },
   "outputs": [
    {
     "name": "stderr",
     "output_type": "stream",
     "text": [
      "/opt/conda/lib/python3.7/site-packages/sklearn/utils/deprecation.py:87: FutureWarning: Function plot_partial_dependence is deprecated; Function `plot_partial_dependence` is deprecated in 1.0 and will be removed in 1.2. Use PartialDependenceDisplay.from_estimator instead\n",
      "  warnings.warn(msg, category=FutureWarning)\n"
     ]
    },
    {
     "data": {
      "text/plain": [
       "<sklearn.inspection._plot.partial_dependence.PartialDependenceDisplay at 0x7fadf0d19f90>"
      ]
     },
     "execution_count": 18,
     "metadata": {},
     "output_type": "execute_result"
    },
    {
     "data": {
      "image/png": "[encoded data removed]",
      "text/plain": [
       "<Figure size 432x288 with 4 Axes>"
      ]
     },
     "metadata": {
      "needs_background": "light"
     },
     "output_type": "display_data"
    }
   ],
   "source": [
    "# Type your solution here\n",
    "# Create PDPs for other important features\n",
    "# Important features\n",
    "important_features = ['company_size', 'education_level', 'training_hours']\n",
    "\"arguments: \"\n",
    "\" - estimator: the black box model\"\n",
    "\" - X is the training data X\"\n",
    "\" - features are the important features we are interested\"\n",
    "plot_partial_dependence(estimator=black_box_model, \n",
    "                        X=X_train, \n",
    "                        features=important_features,\n",
    "                        random_state=123)"
   ]
  },
  {
   "cell_type": "markdown",
   "id": "947ed479",
   "metadata": {
    "papermill": {
     "duration": 0.027165,
     "end_time": "2022-07-05T07:08:43.246078",
     "exception": false,
     "start_time": "2022-07-05T07:08:43.218913",
     "status": "completed"
    },
    "tags": []
   },
   "source": [
    "<details><summary>Click here for a sample solution</summary>\n",
    "\n",
    "```python\n",
    "important_features = ['company_size', 'education_level', 'training_hours']\n",
    "    \n",
    "plot_partial_dependence(estimator=black_box_model, \n",
    "                        X=X_train, \n",
    "                        features=important_features,\n",
    "                        random_state=123)\n",
    "```\n",
    "\n",
    "</details>\n"
   ]
  },
  {
   "cell_type": "markdown",
   "id": "7e62f3d1",
   "metadata": {
    "papermill": {
     "duration": 0.026785,
     "end_time": "2022-07-05T07:08:43.300624",
     "exception": false,
     "start_time": "2022-07-05T07:08:43.273839",
     "status": "completed"
    },
    "tags": []
   },
   "source": [
    "## Global Surrogate Model\n"
   ]
  },
  {
   "cell_type": "markdown",
   "id": "a2b36d01",
   "metadata": {
    "papermill": {
     "duration": 0.026712,
     "end_time": "2022-07-05T07:08:43.354448",
     "exception": false,
     "start_time": "2022-07-05T07:08:43.327736",
     "status": "completed"
    },
    "tags": []
   },
   "source": [
    "Now you have explored how to explain the black-box model via analyzing its features. Next, we will learn how to explain it via approximate of their inputs and outputs with a global surrogate model.\n"
   ]
  },
  {
   "cell_type": "markdown",
   "id": "cae983cf",
   "metadata": {
    "papermill": {
     "duration": 0.026545,
     "end_time": "2022-07-05T07:08:43.408187",
     "exception": false,
     "start_time": "2022-07-05T07:08:43.381642",
     "status": "completed"
    },
    "tags": []
   },
   "source": [
    "We will be training two self-interpretable models: 1) a logistic regression model and 2) a decision tree models using the inputs and outputs from the black-box model\n"
   ]
  },
  {
   "cell_type": "markdown",
   "id": "b86d0447",
   "metadata": {
    "papermill": {
     "duration": 0.026542,
     "end_time": "2022-07-05T07:08:43.461592",
     "exception": false,
     "start_time": "2022-07-05T07:08:43.435050",
     "status": "completed"
    },
    "tags": []
   },
   "source": [
    "You can follow these general steps to build a global surrogate model:\n",
    "\n",
    "*   First, we select a dataset `X_test` as input\n",
    "\n",
    "*   Then, we use the black-box model to make predictions `y_blackbox` using the `X_test`\n",
    "\n",
    "*   With both training data and labels ready, we can use them to train a simple logistic regression model and a decision tree model\n",
    "\n",
    "*   The surrogate model outputs its own predictions `y_surrogate`\n",
    "\n",
    "*   Lastly, we can measure the difference between `y_surrogate` and `y_blackbox` using an accuracy score to determine how well the surrogate model approximating the black-box model\n"
   ]
  },
  {
   "cell_type": "markdown",
   "id": "9782a8a1",
   "metadata": {
    "papermill": {
     "duration": 0.026881,
     "end_time": "2022-07-05T07:08:43.515362",
     "exception": false,
     "start_time": "2022-07-05T07:08:43.488481",
     "status": "completed"
    },
    "tags": []
   },
   "source": [
    "![global_surrogate](https://cf-courses-data.s3.us.cloud-object-storage.appdomain.cloud/IBM-ML241EN-SkillsNetwork/labs/module6\\_model_interpretability/images/global_surrogate.png)\n"
   ]
  },
  {
   "cell_type": "markdown",
   "id": "dddbac2b",
   "metadata": {
    "papermill": {
     "duration": 0.026645,
     "end_time": "2022-07-05T07:08:43.569016",
     "exception": false,
     "start_time": "2022-07-05T07:08:43.542371",
     "status": "completed"
    },
    "tags": []
   },
   "source": [
    "### Logistic regression surrogate model\n"
   ]
  },
  {
   "cell_type": "markdown",
   "id": "b38f2462",
   "metadata": {
    "papermill": {
     "duration": 0.026746,
     "end_time": "2022-07-05T07:08:43.622866",
     "exception": false,
     "start_time": "2022-07-05T07:08:43.596120",
     "status": "completed"
    },
    "tags": []
   },
   "source": [
    "In order to compare the coefficients of the logistic regression model directly, we want to normalize the input X first.\n"
   ]
  },
  {
   "cell_type": "code",
   "execution_count": 19,
   "id": "92add217",
   "metadata": {
    "execution": {
     "iopub.execute_input": "2022-07-05T07:08:43.680141Z",
     "iopub.status.busy": "2022-07-05T07:08:43.679428Z",
     "iopub.status.idle": "2022-07-05T07:08:43.688059Z",
     "shell.execute_reply": "2022-07-05T07:08:43.686985Z"
    },
    "papermill": {
     "duration": 0.040632,
     "end_time": "2022-07-05T07:08:43.690579",
     "exception": false,
     "start_time": "2022-07-05T07:08:43.649947",
     "status": "completed"
    },
    "tags": []
   },
   "outputs": [],
   "source": [
    "# normalize X_test\n",
    "min_max_scaler = StandardScaler()\n",
    "X_test_minmax = min_max_scaler.fit_transform(X_test)"
   ]
  },
  {
   "cell_type": "markdown",
   "id": "e98590b5",
   "metadata": {
    "papermill": {
     "duration": 0.026825,
     "end_time": "2022-07-05T07:08:43.744695",
     "exception": false,
     "start_time": "2022-07-05T07:08:43.717870",
     "status": "completed"
    },
    "tags": []
   },
   "source": [
    "Then, we can train a logistic regression model with an `L1` regularizer to simplify the model and increase interpretability. Note that `y_blackbox` is coming from the predictions of black-box model.\n"
   ]
  },
  {
   "cell_type": "code",
   "execution_count": 20,
   "id": "93ada63a",
   "metadata": {
    "execution": {
     "iopub.execute_input": "2022-07-05T07:08:43.801510Z",
     "iopub.status.busy": "2022-07-05T07:08:43.800392Z",
     "iopub.status.idle": "2022-07-05T07:08:43.819256Z",
     "shell.execute_reply": "2022-07-05T07:08:43.818307Z"
    },
    "papermill": {
     "duration": 0.049385,
     "end_time": "2022-07-05T07:08:43.821270",
     "exception": false,
     "start_time": "2022-07-05T07:08:43.771885",
     "status": "completed"
    },
    "tags": []
   },
   "outputs": [
    {
     "data": {
      "text/plain": [
       "LogisticRegression(max_iter=1000, penalty='l1', random_state=123,\n",
       "                   solver='liblinear')"
      ]
     },
     "execution_count": 20,
     "metadata": {},
     "output_type": "execute_result"
    }
   ],
   "source": [
    "lm_surrogate = LogisticRegression(max_iter=1000, \n",
    "                                  random_state=123, penalty='l1', solver='liblinear')\n",
    "lm_surrogate.fit(X_test_minmax, y_blackbox)"
   ]
  },
  {
   "cell_type": "markdown",
   "id": "58d3215e",
   "metadata": {
    "papermill": {
     "duration": 0.027074,
     "end_time": "2022-07-05T07:08:43.876077",
     "exception": false,
     "start_time": "2022-07-05T07:08:43.849003",
     "status": "completed"
    },
    "tags": []
   },
   "source": [
    "With the surrogate model trained, we can generate predictions using `X_test`,\n"
   ]
  },
  {
   "cell_type": "code",
   "execution_count": 21,
   "id": "d9f8aebd",
   "metadata": {
    "execution": {
     "iopub.execute_input": "2022-07-05T07:08:43.932601Z",
     "iopub.status.busy": "2022-07-05T07:08:43.931934Z",
     "iopub.status.idle": "2022-07-05T07:08:43.937987Z",
     "shell.execute_reply": "2022-07-05T07:08:43.937165Z"
    },
    "papermill": {
     "duration": 0.038492,
     "end_time": "2022-07-05T07:08:43.941836",
     "exception": false,
     "start_time": "2022-07-05T07:08:43.903344",
     "status": "completed"
    },
    "tags": []
   },
   "outputs": [],
   "source": [
    "y_surrogate = lm_surrogate.predict(X_test_minmax)"
   ]
  },
  {
   "cell_type": "markdown",
   "id": "40b68342",
   "metadata": {
    "papermill": {
     "duration": 0.050451,
     "end_time": "2022-07-05T07:08:44.043519",
     "exception": false,
     "start_time": "2022-07-05T07:08:43.993068",
     "status": "completed"
    },
    "tags": []
   },
   "source": [
    "and calculate how accurate the surrogate model approximates the black-box model.\n"
   ]
  },
  {
   "cell_type": "code",
   "execution_count": 22,
   "id": "535ddd0e",
   "metadata": {
    "execution": {
     "iopub.execute_input": "2022-07-05T07:08:44.105879Z",
     "iopub.status.busy": "2022-07-05T07:08:44.105463Z",
     "iopub.status.idle": "2022-07-05T07:08:44.113272Z",
     "shell.execute_reply": "2022-07-05T07:08:44.112492Z"
    },
    "papermill": {
     "duration": 0.038129,
     "end_time": "2022-07-05T07:08:44.115350",
     "exception": false,
     "start_time": "2022-07-05T07:08:44.077221",
     "status": "completed"
    },
    "tags": []
   },
   "outputs": [
    {
     "data": {
      "text/plain": [
       "0.7431551499348109"
      ]
     },
     "execution_count": 22,
     "metadata": {},
     "output_type": "execute_result"
    }
   ],
   "source": [
    "metrics.accuracy_score(y_blackbox, y_surrogate)"
   ]
  },
  {
   "cell_type": "markdown",
   "id": "1af071c9",
   "metadata": {
    "papermill": {
     "duration": 0.027101,
     "end_time": "2022-07-05T07:08:44.169471",
     "exception": false,
     "start_time": "2022-07-05T07:08:44.142370",
     "status": "completed"
    },
    "tags": []
   },
   "source": [
    "The score is around 0.75 which means the logistic regression surrogate model was able to reproduce about 75% of the original black-box model correctly.\n"
   ]
  },
  {
   "cell_type": "markdown",
   "id": "3a7add2d",
   "metadata": {
    "papermill": {
     "duration": 0.027231,
     "end_time": "2022-07-05T07:08:44.224138",
     "exception": false,
     "start_time": "2022-07-05T07:08:44.196907",
     "status": "completed"
    },
    "tags": []
   },
   "source": [
    "Next, we can start interpreting the much simpler logistic regression model `lm_surrogate` via analyzing its feature coefficients. We defined a function called `get_feature_coeffs` to extract and sort feature coefficients from `lm_surrogate` model:\n"
   ]
  },
  {
   "cell_type": "code",
   "execution_count": 23,
   "id": "d22c004b",
   "metadata": {
    "execution": {
     "iopub.execute_input": "2022-07-05T07:08:44.281400Z",
     "iopub.status.busy": "2022-07-05T07:08:44.280739Z",
     "iopub.status.idle": "2022-07-05T07:08:44.286704Z",
     "shell.execute_reply": "2022-07-05T07:08:44.285977Z"
    },
    "papermill": {
     "duration": 0.036878,
     "end_time": "2022-07-05T07:08:44.288576",
     "exception": false,
     "start_time": "2022-07-05T07:08:44.251698",
     "status": "completed"
    },
    "tags": []
   },
   "outputs": [],
   "source": [
    "# Extract and sort feature coefficients\n",
    "def get_feature_coefs(regression_model):\n",
    "    coef_dict = {}\n",
    "    # Filter coefficients less than 0.01\n",
    "    for coef, feat in zip(regression_model.coef_[0, :], X_test.columns):\n",
    "        if abs(coef) >= 0.01:\n",
    "            coef_dict[feat] = coef\n",
    "    # Sort coefficients\n",
    "    coef_dict = {k: v for k, v in sorted(coef_dict.items(), key=lambda item: item[1])}\n",
    "    return coef_dict"
   ]
  },
  {
   "cell_type": "code",
   "execution_count": 24,
   "id": "5ddf9846",
   "metadata": {
    "execution": {
     "iopub.execute_input": "2022-07-05T07:08:44.345519Z",
     "iopub.status.busy": "2022-07-05T07:08:44.344880Z",
     "iopub.status.idle": "2022-07-05T07:08:44.350609Z",
     "shell.execute_reply": "2022-07-05T07:08:44.349902Z"
    },
    "papermill": {
     "duration": 0.036496,
     "end_time": "2022-07-05T07:08:44.352465",
     "exception": false,
     "start_time": "2022-07-05T07:08:44.315969",
     "status": "completed"
    },
    "tags": []
   },
   "outputs": [
    {
     "data": {
      "text/plain": [
       "{'city_development_index': -1.1037003758316428,\n",
       " 'experience': -0.3153460053781262,\n",
       " 'company_size': -0.31026674911903007,\n",
       " 'company_type_Funded Startup': -0.2016408367029955,\n",
       " 'training_hours': -0.15908670450511528,\n",
       " 'company_type_Early Stage Startup': -0.1313477917545228,\n",
       " 'company_type_NGO': -0.05280389235903648,\n",
       " 'company_type_Other': 0.07697385537422016,\n",
       " 'education_level': 0.15260503732062136,\n",
       " 'company_type_Pvt Ltd': 0.442463834464927}"
      ]
     },
     "execution_count": 24,
     "metadata": {},
     "output_type": "execute_result"
    }
   ],
   "source": [
    "coef_dict = get_feature_coefs(lm_surrogate)\n",
    "coef_dict"
   ]
  },
  {
   "cell_type": "markdown",
   "id": "24091813",
   "metadata": {
    "papermill": {
     "duration": 0.027349,
     "end_time": "2022-07-05T07:08:44.407216",
     "exception": false,
     "start_time": "2022-07-05T07:08:44.379867",
     "status": "completed"
    },
    "tags": []
   },
   "source": [
    "We can get a coefficient dict object whose keys are features and values are coefficients, but such dict object is not easy to understand so let's just visualize it using a bar chart:\n"
   ]
  },
  {
   "cell_type": "code",
   "execution_count": 25,
   "id": "2d811933",
   "metadata": {
    "execution": {
     "iopub.execute_input": "2022-07-05T07:08:44.464204Z",
     "iopub.status.busy": "2022-07-05T07:08:44.463578Z",
     "iopub.status.idle": "2022-07-05T07:08:44.471444Z",
     "shell.execute_reply": "2022-07-05T07:08:44.470732Z"
    },
    "papermill": {
     "duration": 0.03882,
     "end_time": "2022-07-05T07:08:44.473494",
     "exception": false,
     "start_time": "2022-07-05T07:08:44.434674",
     "status": "completed"
    },
    "tags": []
   },
   "outputs": [],
   "source": [
    "# Generate bar colors based on if value is negative or positive\n",
    "def get_bar_colors(values):\n",
    "    color_vals = []\n",
    "    for val in values:\n",
    "        if val <= 0:\n",
    "            color_vals.append('r')\n",
    "        else:\n",
    "            color_vals.append('g')\n",
    "    return color_vals\n",
    "\n",
    "# Visualize coefficients\n",
    "def visualize_coefs(coef_dict):\n",
    "    features = list(coef_dict.keys())\n",
    "    values = list(coef_dict.values())\n",
    "    y_pos = np.arange(len(features))\n",
    "    color_vals = get_bar_colors(values)\n",
    "    plt.rcdefaults()\n",
    "    fig, ax = plt.subplots()\n",
    "    ax.barh(y_pos, values, align='center', color=color_vals)\n",
    "    ax.set_yticks(y_pos)\n",
    "    ax.set_yticklabels(features)\n",
    "    # labels read top-to-bottom\n",
    "    ax.invert_yaxis()  \n",
    "    ax.set_xlabel('Feature Coefficients')\n",
    "    ax.set_title('')\n",
    "    plt.show()\n",
    "    "
   ]
  },
  {
   "cell_type": "markdown",
   "id": "2f4a73bf",
   "metadata": {
    "papermill": {
     "duration": 0.027245,
     "end_time": "2022-07-05T07:08:44.528157",
     "exception": false,
     "start_time": "2022-07-05T07:08:44.500912",
     "status": "completed"
    },
    "tags": []
   },
   "source": [
    "Let's call `visualize_coefs` function to visualize the coefficients dict:\n"
   ]
  },
  {
   "cell_type": "code",
   "execution_count": 26,
   "id": "e55dfce1",
   "metadata": {
    "execution": {
     "iopub.execute_input": "2022-07-05T07:08:44.585044Z",
     "iopub.status.busy": "2022-07-05T07:08:44.584669Z",
     "iopub.status.idle": "2022-07-05T07:08:44.810274Z",
     "shell.execute_reply": "2022-07-05T07:08:44.809489Z"
    },
    "papermill": {
     "duration": 0.256489,
     "end_time": "2022-07-05T07:08:44.812287",
     "exception": false,
     "start_time": "2022-07-05T07:08:44.555798",
     "status": "completed"
    },
    "tags": []
   },
   "outputs": [
    {
     "data": {
      "image/png": "[encoded data removed]",
      "text/plain": [
       "<Figure size 640x480 with 1 Axes>"
      ]
     },
     "metadata": {},
     "output_type": "display_data"
    }
   ],
   "source": [
    "visualize_coefs(coef_dict)"
   ]
  },
  {
   "cell_type": "markdown",
   "id": "6a33ec05",
   "metadata": {
    "papermill": {
     "duration": 0.028089,
     "end_time": "2022-07-05T07:08:44.868996",
     "exception": false,
     "start_time": "2022-07-05T07:08:44.840907",
     "status": "completed"
    },
    "tags": []
   },
   "source": [
    "From the bar chart above, you can immediately find those important features with negative effects such as `city_development_index` and `experience`, and those have positive effects such as education_level or if the company is a `Pvt Ltd`.\n"
   ]
  },
  {
   "cell_type": "markdown",
   "id": "c429089f",
   "metadata": {
    "papermill": {
     "duration": 0.027845,
     "end_time": "2022-07-05T07:08:44.925130",
     "exception": false,
     "start_time": "2022-07-05T07:08:44.897285",
     "status": "completed"
    },
    "tags": []
   },
   "source": [
    "### Exercise: Build a global surrogate model using decision tree\n"
   ]
  },
  {
   "cell_type": "code",
   "execution_count": 27,
   "id": "9b8fbc74",
   "metadata": {
    "execution": {
     "iopub.execute_input": "2022-07-05T07:08:44.983789Z",
     "iopub.status.busy": "2022-07-05T07:08:44.983009Z",
     "iopub.status.idle": "2022-07-05T07:08:44.988486Z",
     "shell.execute_reply": "2022-07-05T07:08:44.987463Z"
    },
    "papermill": {
     "duration": 0.037174,
     "end_time": "2022-07-05T07:08:44.990751",
     "exception": false,
     "start_time": "2022-07-05T07:08:44.953577",
     "status": "completed"
    },
    "tags": []
   },
   "outputs": [],
   "source": [
    "# Type your answer here\n",
    "# Define a decision tree model\n",
    "tree_surrogate = DecisionTreeClassifier(random_state=123, \n",
    "                                         max_depth=5, \n",
    "                                         max_features=10)"
   ]
  },
  {
   "cell_type": "markdown",
   "id": "bc488011",
   "metadata": {
    "papermill": {
     "duration": 0.028373,
     "end_time": "2022-07-05T07:08:45.048423",
     "exception": false,
     "start_time": "2022-07-05T07:08:45.020050",
     "status": "completed"
    },
    "tags": []
   },
   "source": [
    "<details><summary>Click here for a sample solution</summary>\n",
    "\n",
    "```python\n",
    "tree_surrogate = DecisionTreeClassifier(random_state=123, \n",
    "                                         max_depth=5, \n",
    "                                         max_features=10)\n",
    "```\n",
    "\n",
    "</details>\n"
   ]
  },
  {
   "cell_type": "code",
   "execution_count": 28,
   "id": "84df138e",
   "metadata": {
    "execution": {
     "iopub.execute_input": "2022-07-05T07:08:45.107753Z",
     "iopub.status.busy": "2022-07-05T07:08:45.107361Z",
     "iopub.status.idle": "2022-07-05T07:08:45.119963Z",
     "shell.execute_reply": "2022-07-05T07:08:45.118838Z"
    },
    "papermill": {
     "duration": 0.045056,
     "end_time": "2022-07-05T07:08:45.122276",
     "exception": false,
     "start_time": "2022-07-05T07:08:45.077220",
     "status": "completed"
    },
    "tags": []
   },
   "outputs": [],
   "source": [
    "# Type your answer here\n",
    "# Train the decision tree model with X_test and y_blackbox, and make predictions on X_test\n",
    "tree_surrogate.fit(X_test, y_blackbox)\n",
    "y_surrogate = tree_surrogate.predict(X_test)"
   ]
  },
  {
   "cell_type": "markdown",
   "id": "8fbad1b2",
   "metadata": {
    "papermill": {
     "duration": 0.028246,
     "end_time": "2022-07-05T07:08:45.179465",
     "exception": false,
     "start_time": "2022-07-05T07:08:45.151219",
     "status": "completed"
    },
    "tags": []
   },
   "source": [
    "<details><summary>Click here for a sample solution</summary>\n",
    "\n",
    "```python\n",
    "tree_surrogate.fit(X_test, y_blackbox)\n",
    "y_surrogate = tree_surrogate.predict(X_test)\n",
    "```\n",
    "\n",
    "</details>\n"
   ]
  },
  {
   "cell_type": "code",
   "execution_count": 29,
   "id": "4fd5499a",
   "metadata": {
    "execution": {
     "iopub.execute_input": "2022-07-05T07:08:45.238642Z",
     "iopub.status.busy": "2022-07-05T07:08:45.238232Z",
     "iopub.status.idle": "2022-07-05T07:08:45.245928Z",
     "shell.execute_reply": "2022-07-05T07:08:45.244899Z"
    },
    "papermill": {
     "duration": 0.040317,
     "end_time": "2022-07-05T07:08:45.248145",
     "exception": false,
     "start_time": "2022-07-05T07:08:45.207828",
     "status": "completed"
    },
    "tags": []
   },
   "outputs": [
    {
     "data": {
      "text/plain": [
       "0.8213820078226858"
      ]
     },
     "execution_count": 29,
     "metadata": {},
     "output_type": "execute_result"
    }
   ],
   "source": [
    "# Type your answer here\n",
    "# Measure the difference between\n",
    "metrics.accuracy_score(y_blackbox, y_surrogate)"
   ]
  },
  {
   "cell_type": "markdown",
   "id": "832d7c3e",
   "metadata": {
    "papermill": {
     "duration": 0.029508,
     "end_time": "2022-07-05T07:08:45.307225",
     "exception": false,
     "start_time": "2022-07-05T07:08:45.277717",
     "status": "completed"
    },
    "tags": []
   },
   "source": [
    "<details><summary>Click here for a sample solution</summary>\n",
    "\n",
    "```python\n",
    "metrics.accuracy_score(y_blackbox, y_surrogate)\n",
    "```\n",
    "\n",
    "</details>\n"
   ]
  },
  {
   "cell_type": "markdown",
   "id": "d23c1528",
   "metadata": {
    "papermill": {
     "duration": 0.028386,
     "end_time": "2022-07-05T07:08:45.364227",
     "exception": false,
     "start_time": "2022-07-05T07:08:45.335841",
     "status": "completed"
    },
    "tags": []
   },
   "source": [
    "Now, you have trained the tree surrogate model, you could interprete it by export and print the tree:\n"
   ]
  },
  {
   "cell_type": "code",
   "execution_count": 30,
   "id": "3be15abb",
   "metadata": {
    "execution": {
     "iopub.execute_input": "2022-07-05T07:08:45.423842Z",
     "iopub.status.busy": "2022-07-05T07:08:45.423190Z",
     "iopub.status.idle": "2022-07-05T07:08:45.428710Z",
     "shell.execute_reply": "2022-07-05T07:08:45.427871Z"
    },
    "papermill": {
     "duration": 0.037443,
     "end_time": "2022-07-05T07:08:45.430665",
     "exception": false,
     "start_time": "2022-07-05T07:08:45.393222",
     "status": "completed"
    },
    "tags": []
   },
   "outputs": [],
   "source": [
    "tree_exp = export_text(tree_surrogate, feature_names=list(X_train.columns))"
   ]
  },
  {
   "cell_type": "code",
   "execution_count": 31,
   "id": "0df5522d",
   "metadata": {
    "execution": {
     "iopub.execute_input": "2022-07-05T07:08:45.489729Z",
     "iopub.status.busy": "2022-07-05T07:08:45.488843Z",
     "iopub.status.idle": "2022-07-05T07:08:45.494806Z",
     "shell.execute_reply": "2022-07-05T07:08:45.493049Z"
    },
    "papermill": {
     "duration": 0.038247,
     "end_time": "2022-07-05T07:08:45.497578",
     "exception": false,
     "start_time": "2022-07-05T07:08:45.459331",
     "status": "completed"
    },
    "tags": []
   },
   "outputs": [
    {
     "name": "stdout",
     "output_type": "stream",
     "text": [
      "|--- city_development_index <= 0.70\n",
      "|   |--- experience <= 20.92\n",
      "|   |   |--- training_hours <= 304.03\n",
      "|   |   |   |--- company_type_Funded Startup <= 0.99\n",
      "|   |   |   |   |--- city_development_index <= 0.69\n",
      "|   |   |   |   |   |--- class: 1.0\n",
      "|   |   |   |   |--- city_development_index >  0.69\n",
      "|   |   |   |   |   |--- class: 1.0\n",
      "|   |   |   |--- company_type_Funded Startup >  0.99\n",
      "|   |   |   |   |--- education_level <= 2.50\n",
      "|   |   |   |   |   |--- class: 1.0\n",
      "|   |   |   |   |--- education_level >  2.50\n",
      "|   |   |   |   |   |--- class: 0.0\n",
      "|   |   |--- training_hours >  304.03\n",
      "|   |   |   |--- class: 0.0\n",
      "|   |--- experience >  20.92\n",
      "|   |   |--- city_development_index <= 0.67\n",
      "|   |   |   |--- education_level <= 2.07\n",
      "|   |   |   |   |--- training_hours <= 44.50\n",
      "|   |   |   |   |   |--- class: 1.0\n",
      "|   |   |   |   |--- training_hours >  44.50\n",
      "|   |   |   |   |   |--- class: 0.0\n",
      "|   |   |   |--- education_level >  2.07\n",
      "|   |   |   |   |--- company_size <= 6.50\n",
      "|   |   |   |   |   |--- class: 1.0\n",
      "|   |   |   |   |--- company_size >  6.50\n",
      "|   |   |   |   |   |--- class: 0.0\n",
      "|   |   |--- city_development_index >  0.67\n",
      "|   |   |   |--- class: 0.0\n",
      "|--- city_development_index >  0.70\n",
      "|   |--- company_size <= 2.98\n",
      "|   |   |--- company_size <= 1.01\n",
      "|   |   |   |--- city_development_index <= 0.76\n",
      "|   |   |   |   |--- company_type_Funded Startup <= 0.22\n",
      "|   |   |   |   |   |--- class: 0.0\n",
      "|   |   |   |   |--- company_type_Funded Startup >  0.22\n",
      "|   |   |   |   |   |--- class: 1.0\n",
      "|   |   |   |--- city_development_index >  0.76\n",
      "|   |   |   |   |--- training_hours <= 9.50\n",
      "|   |   |   |   |   |--- class: 0.0\n",
      "|   |   |   |   |--- training_hours >  9.50\n",
      "|   |   |   |   |   |--- class: 0.0\n",
      "|   |   |--- company_size >  1.01\n",
      "|   |   |   |--- company_type_Pvt Ltd <= 0.03\n",
      "|   |   |   |   |--- training_hours <= 3.50\n",
      "|   |   |   |   |   |--- class: 0.0\n",
      "|   |   |   |   |--- training_hours >  3.50\n",
      "|   |   |   |   |   |--- class: 0.0\n",
      "|   |   |   |--- company_type_Pvt Ltd >  0.03\n",
      "|   |   |   |   |--- education_level <= 1.01\n",
      "|   |   |   |   |   |--- class: 0.0\n",
      "|   |   |   |   |--- education_level >  1.01\n",
      "|   |   |   |   |   |--- class: 1.0\n",
      "|   |--- company_size >  2.98\n",
      "|   |   |--- city_development_index <= 0.88\n",
      "|   |   |   |--- company_size <= 5.03\n",
      "|   |   |   |   |--- training_hours <= 186.83\n",
      "|   |   |   |   |   |--- class: 0.0\n",
      "|   |   |   |   |--- training_hours >  186.83\n",
      "|   |   |   |   |   |--- class: 1.0\n",
      "|   |   |   |--- company_size >  5.03\n",
      "|   |   |   |   |--- city_development_index <= 0.84\n",
      "|   |   |   |   |   |--- class: 1.0\n",
      "|   |   |   |   |--- city_development_index >  0.84\n",
      "|   |   |   |   |   |--- class: 0.0\n",
      "|   |   |--- city_development_index >  0.88\n",
      "|   |   |   |--- education_level <= 2.12\n",
      "|   |   |   |   |--- training_hours <= 17.50\n",
      "|   |   |   |   |   |--- class: 0.0\n",
      "|   |   |   |   |--- training_hours >  17.50\n",
      "|   |   |   |   |   |--- class: 0.0\n",
      "|   |   |   |--- education_level >  2.12\n",
      "|   |   |   |   |--- education_level <= 2.99\n",
      "|   |   |   |   |   |--- class: 1.0\n",
      "|   |   |   |   |--- education_level >  2.99\n",
      "|   |   |   |   |   |--- class: 0.0\n",
      "\n"
     ]
    }
   ],
   "source": [
    "print(tree_exp)"
   ]
  },
  {
   "cell_type": "markdown",
   "id": "418af159",
   "metadata": {
    "papermill": {
     "duration": 0.028423,
     "end_time": "2022-07-05T07:08:45.555019",
     "exception": false,
     "start_time": "2022-07-05T07:08:45.526596",
     "status": "completed"
    },
    "tags": []
   },
   "source": [
    "## Local interpretable model-agnostic explanations (LIME)\n"
   ]
  },
  {
   "cell_type": "markdown",
   "id": "c14cbedb",
   "metadata": {
    "papermill": {
     "duration": 0.02833,
     "end_time": "2022-07-05T07:08:45.611811",
     "exception": false,
     "start_time": "2022-07-05T07:08:45.583481",
     "status": "completed"
    },
    "tags": []
   },
   "source": [
    "Global surrogate models may have large prediction inconsistency between the complex black-box model and the simple surrogate models or there are many instance groups or clusters in the dataset which make the surrogate model more generalized to those different patterns and lose the interpretability on a specific data group.\n",
    "\n",
    "On the other hand, we are also interested in how black-box models make predictions on some representative instances. By understanding these very typical examples, we can sometimes obtain valuable insights without understanding the model’s behaviors on the entire dataset.\n"
   ]
  },
  {
   "cell_type": "markdown",
   "id": "77174ea0",
   "metadata": {
    "papermill": {
     "duration": 0.028558,
     "end_time": "2022-07-05T07:08:45.669037",
     "exception": false,
     "start_time": "2022-07-05T07:08:45.640479",
     "status": "completed"
    },
    "tags": []
   },
   "source": [
    "Next, you will be building a local surrogate model using LIME method whose general steps are shown in the following flowchart:\n"
   ]
  },
  {
   "cell_type": "markdown",
   "id": "16389786",
   "metadata": {
    "papermill": {
     "duration": 0.028897,
     "end_time": "2022-07-05T07:08:45.726523",
     "exception": false,
     "start_time": "2022-07-05T07:08:45.697626",
     "status": "completed"
    },
    "tags": []
   },
   "source": [
    "![Local interpretable model-agnostic method](https://cf-courses-data.s3.us.cloud-object-storage.appdomain.cloud/IBM-ML241EN-SkillsNetwork/labs/module6\\_model_interpretability/images/lime.png)\n"
   ]
  },
  {
   "cell_type": "markdown",
   "id": "ff1d013a",
   "metadata": {
    "papermill": {
     "duration": 0.028128,
     "end_time": "2022-07-05T07:08:45.783944",
     "exception": false,
     "start_time": "2022-07-05T07:08:45.755816",
     "status": "completed"
    },
    "tags": []
   },
   "source": [
    "We can use a open source [lime](https://github.com/marcotcr/lime) package to easily build a LIME explainer the our black-box model, let's get started.\n"
   ]
  },
  {
   "cell_type": "markdown",
   "id": "ffaa2dbb",
   "metadata": {
    "papermill": {
     "duration": 0.028176,
     "end_time": "2022-07-05T07:08:45.840463",
     "exception": false,
     "start_time": "2022-07-05T07:08:45.812287",
     "status": "completed"
    },
    "tags": []
   },
   "source": [
    "First, we need to define a `LimeTabularExplainer` to explain those predictive models built on structured/tabular datasets, like the job-changing prediction dataset we are using.\n"
   ]
  },
  {
   "cell_type": "markdown",
   "id": "30617f25",
   "metadata": {
    "papermill": {
     "duration": 0.02816,
     "end_time": "2022-07-05T07:08:45.897122",
     "exception": false,
     "start_time": "2022-07-05T07:08:45.868962",
     "status": "completed"
    },
    "tags": []
   },
   "source": [
    "Note although LIME algorithm is a local surrogate model, it still also requires a training dataset containing your interested data instances. So that it can perform uniform sampling (feature permutations) around the interested data instances to generate the artificial dataset for the actual surrogate model training process.\n"
   ]
  },
  {
   "cell_type": "code",
   "execution_count": 32,
   "id": "b45fece5",
   "metadata": {
    "execution": {
     "iopub.execute_input": "2022-07-05T07:08:45.955749Z",
     "iopub.status.busy": "2022-07-05T07:08:45.955196Z",
     "iopub.status.idle": "2022-07-05T07:08:45.974093Z",
     "shell.execute_reply": "2022-07-05T07:08:45.973247Z"
    },
    "papermill": {
     "duration": 0.050796,
     "end_time": "2022-07-05T07:08:45.976298",
     "exception": false,
     "start_time": "2022-07-05T07:08:45.925502",
     "status": "completed"
    },
    "tags": []
   },
   "outputs": [],
   "source": [
    "explainer = lime.lime_tabular.LimeTabularExplainer(\n",
    "    # Set the training dataset to be X_test.values (2-D Numpy array)\n",
    "    training_data=X_test.values,\n",
    "    # Set the mode to be classification\n",
    "    mode='classification',\n",
    "    # Set class names to be `Not Changing` and `Changing`\n",
    "    class_names = ['Not Changing', 'Changing'],\n",
    "    # Set feature names\n",
    "    feature_names=list(X_train.columns),\n",
    "    random_state=123,\n",
    "    verbose=True)"
   ]
  },
  {
   "cell_type": "code",
   "execution_count": 33,
   "id": "c402f6e7",
   "metadata": {
    "execution": {
     "iopub.execute_input": "2022-07-05T07:08:46.035527Z",
     "iopub.status.busy": "2022-07-05T07:08:46.034973Z",
     "iopub.status.idle": "2022-07-05T07:08:46.039791Z",
     "shell.execute_reply": "2022-07-05T07:08:46.039113Z"
    },
    "papermill": {
     "duration": 0.036997,
     "end_time": "2022-07-05T07:08:46.041700",
     "exception": false,
     "start_time": "2022-07-05T07:08:46.004703",
     "status": "completed"
    },
    "tags": []
   },
   "outputs": [
    {
     "data": {
      "text/plain": [
       "<lime.lime_tabular.LimeTabularExplainer at 0x7fade95aa590>"
      ]
     },
     "execution_count": 33,
     "metadata": {},
     "output_type": "execute_result"
    }
   ],
   "source": [
    "explainer"
   ]
  },
  {
   "cell_type": "code",
   "execution_count": 34,
   "id": "17f55059",
   "metadata": {
    "execution": {
     "iopub.execute_input": "2022-07-05T07:08:46.100485Z",
     "iopub.status.busy": "2022-07-05T07:08:46.099942Z",
     "iopub.status.idle": "2022-07-05T07:08:46.123182Z",
     "shell.execute_reply": "2022-07-05T07:08:46.122514Z"
    },
    "papermill": {
     "duration": 0.054936,
     "end_time": "2022-07-05T07:08:46.125123",
     "exception": false,
     "start_time": "2022-07-05T07:08:46.070187",
     "status": "completed"
    },
    "tags": []
   },
   "outputs": [
    {
     "data": {
      "text/html": [
       "<div>\n",
       "<style scoped>\n",
       "    .dataframe tbody tr th:only-of-type {\n",
       "        vertical-align: middle;\n",
       "    }\n",
       "\n",
       "    .dataframe tbody tr th {\n",
       "        vertical-align: top;\n",
       "    }\n",
       "\n",
       "    .dataframe thead th {\n",
       "        text-align: right;\n",
       "    }\n",
       "</style>\n",
       "<table border=\"1\" class=\"dataframe\">\n",
       "  <thead>\n",
       "    <tr style=\"text-align: right;\">\n",
       "      <th></th>\n",
       "      <th>city_development_index</th>\n",
       "      <th>training_hours</th>\n",
       "      <th>company_size</th>\n",
       "      <th>experience</th>\n",
       "      <th>education_level</th>\n",
       "      <th>company_type_Early Stage Startup</th>\n",
       "      <th>company_type_Funded Startup</th>\n",
       "      <th>company_type_NGO</th>\n",
       "      <th>company_type_Other</th>\n",
       "      <th>company_type_Public Sector</th>\n",
       "      <th>company_type_Pvt Ltd</th>\n",
       "    </tr>\n",
       "  </thead>\n",
       "  <tbody>\n",
       "    <tr>\n",
       "      <th>9012</th>\n",
       "      <td>0.624000</td>\n",
       "      <td>21.000000</td>\n",
       "      <td>1.000000</td>\n",
       "      <td>6.000000</td>\n",
       "      <td>3.000000</td>\n",
       "      <td>0.0</td>\n",
       "      <td>0.0</td>\n",
       "      <td>0.0</td>\n",
       "      <td>0.0</td>\n",
       "      <td>0.0</td>\n",
       "      <td>1.0</td>\n",
       "    </tr>\n",
       "    <tr>\n",
       "      <th>4585</th>\n",
       "      <td>0.920000</td>\n",
       "      <td>34.000000</td>\n",
       "      <td>3.000000</td>\n",
       "      <td>1.000000</td>\n",
       "      <td>2.000000</td>\n",
       "      <td>0.0</td>\n",
       "      <td>0.0</td>\n",
       "      <td>0.0</td>\n",
       "      <td>0.0</td>\n",
       "      <td>0.0</td>\n",
       "      <td>1.0</td>\n",
       "    </tr>\n",
       "    <tr>\n",
       "      <th>3712</th>\n",
       "      <td>0.910000</td>\n",
       "      <td>76.000000</td>\n",
       "      <td>2.000000</td>\n",
       "      <td>14.000000</td>\n",
       "      <td>3.000000</td>\n",
       "      <td>0.0</td>\n",
       "      <td>0.0</td>\n",
       "      <td>0.0</td>\n",
       "      <td>0.0</td>\n",
       "      <td>0.0</td>\n",
       "      <td>1.0</td>\n",
       "    </tr>\n",
       "    <tr>\n",
       "      <th>9547</th>\n",
       "      <td>0.726713</td>\n",
       "      <td>29.129336</td>\n",
       "      <td>0.000000</td>\n",
       "      <td>11.258673</td>\n",
       "      <td>2.870664</td>\n",
       "      <td>0.0</td>\n",
       "      <td>0.0</td>\n",
       "      <td>0.0</td>\n",
       "      <td>0.0</td>\n",
       "      <td>0.0</td>\n",
       "      <td>1.0</td>\n",
       "    </tr>\n",
       "    <tr>\n",
       "      <th>7811</th>\n",
       "      <td>0.921000</td>\n",
       "      <td>44.000000</td>\n",
       "      <td>2.000000</td>\n",
       "      <td>7.000000</td>\n",
       "      <td>2.000000</td>\n",
       "      <td>0.0</td>\n",
       "      <td>0.0</td>\n",
       "      <td>0.0</td>\n",
       "      <td>0.0</td>\n",
       "      <td>0.0</td>\n",
       "      <td>1.0</td>\n",
       "    </tr>\n",
       "    <tr>\n",
       "      <th>...</th>\n",
       "      <td>...</td>\n",
       "      <td>...</td>\n",
       "      <td>...</td>\n",
       "      <td>...</td>\n",
       "      <td>...</td>\n",
       "      <td>...</td>\n",
       "      <td>...</td>\n",
       "      <td>...</td>\n",
       "      <td>...</td>\n",
       "      <td>...</td>\n",
       "      <td>...</td>\n",
       "    </tr>\n",
       "    <tr>\n",
       "      <th>8231</th>\n",
       "      <td>0.926000</td>\n",
       "      <td>16.000000</td>\n",
       "      <td>2.000000</td>\n",
       "      <td>21.000000</td>\n",
       "      <td>2.000000</td>\n",
       "      <td>0.0</td>\n",
       "      <td>0.0</td>\n",
       "      <td>0.0</td>\n",
       "      <td>0.0</td>\n",
       "      <td>0.0</td>\n",
       "      <td>1.0</td>\n",
       "    </tr>\n",
       "    <tr>\n",
       "      <th>3342</th>\n",
       "      <td>0.939000</td>\n",
       "      <td>40.000000</td>\n",
       "      <td>4.000000</td>\n",
       "      <td>3.000000</td>\n",
       "      <td>2.000000</td>\n",
       "      <td>0.0</td>\n",
       "      <td>0.0</td>\n",
       "      <td>0.0</td>\n",
       "      <td>0.0</td>\n",
       "      <td>0.0</td>\n",
       "      <td>1.0</td>\n",
       "    </tr>\n",
       "    <tr>\n",
       "      <th>1355</th>\n",
       "      <td>0.568635</td>\n",
       "      <td>110.618173</td>\n",
       "      <td>2.381827</td>\n",
       "      <td>0.381827</td>\n",
       "      <td>2.000000</td>\n",
       "      <td>0.0</td>\n",
       "      <td>0.0</td>\n",
       "      <td>0.0</td>\n",
       "      <td>0.0</td>\n",
       "      <td>0.0</td>\n",
       "      <td>1.0</td>\n",
       "    </tr>\n",
       "    <tr>\n",
       "      <th>11319</th>\n",
       "      <td>0.920000</td>\n",
       "      <td>96.000000</td>\n",
       "      <td>2.000000</td>\n",
       "      <td>4.000000</td>\n",
       "      <td>3.000000</td>\n",
       "      <td>0.0</td>\n",
       "      <td>1.0</td>\n",
       "      <td>0.0</td>\n",
       "      <td>0.0</td>\n",
       "      <td>0.0</td>\n",
       "      <td>0.0</td>\n",
       "    </tr>\n",
       "    <tr>\n",
       "      <th>6100</th>\n",
       "      <td>0.794000</td>\n",
       "      <td>6.000000</td>\n",
       "      <td>3.000000</td>\n",
       "      <td>5.000000</td>\n",
       "      <td>2.000000</td>\n",
       "      <td>0.0</td>\n",
       "      <td>0.0</td>\n",
       "      <td>1.0</td>\n",
       "      <td>0.0</td>\n",
       "      <td>0.0</td>\n",
       "      <td>0.0</td>\n",
       "    </tr>\n",
       "  </tbody>\n",
       "</table>\n",
       "<p>2301 rows × 11 columns</p>\n",
       "</div>"
      ],
      "text/plain": [
       "       city_development_index  training_hours  company_size  experience  \\\n",
       "9012                 0.624000       21.000000      1.000000    6.000000   \n",
       "4585                 0.920000       34.000000      3.000000    1.000000   \n",
       "3712                 0.910000       76.000000      2.000000   14.000000   \n",
       "9547                 0.726713       29.129336      0.000000   11.258673   \n",
       "7811                 0.921000       44.000000      2.000000    7.000000   \n",
       "...                       ...             ...           ...         ...   \n",
       "8231                 0.926000       16.000000      2.000000   21.000000   \n",
       "3342                 0.939000       40.000000      4.000000    3.000000   \n",
       "1355                 0.568635      110.618173      2.381827    0.381827   \n",
       "11319                0.920000       96.000000      2.000000    4.000000   \n",
       "6100                 0.794000        6.000000      3.000000    5.000000   \n",
       "\n",
       "       education_level  company_type_Early Stage Startup  \\\n",
       "9012          3.000000                               0.0   \n",
       "4585          2.000000                               0.0   \n",
       "3712          3.000000                               0.0   \n",
       "9547          2.870664                               0.0   \n",
       "7811          2.000000                               0.0   \n",
       "...                ...                               ...   \n",
       "8231          2.000000                               0.0   \n",
       "3342          2.000000                               0.0   \n",
       "1355          2.000000                               0.0   \n",
       "11319         3.000000                               0.0   \n",
       "6100          2.000000                               0.0   \n",
       "\n",
       "       company_type_Funded Startup  company_type_NGO  company_type_Other  \\\n",
       "9012                           0.0               0.0                 0.0   \n",
       "4585                           0.0               0.0                 0.0   \n",
       "3712                           0.0               0.0                 0.0   \n",
       "9547                           0.0               0.0                 0.0   \n",
       "7811                           0.0               0.0                 0.0   \n",
       "...                            ...               ...                 ...   \n",
       "8231                           0.0               0.0                 0.0   \n",
       "3342                           0.0               0.0                 0.0   \n",
       "1355                           0.0               0.0                 0.0   \n",
       "11319                          1.0               0.0                 0.0   \n",
       "6100                           0.0               1.0                 0.0   \n",
       "\n",
       "       company_type_Public Sector  company_type_Pvt Ltd  \n",
       "9012                          0.0                   1.0  \n",
       "4585                          0.0                   1.0  \n",
       "3712                          0.0                   1.0  \n",
       "9547                          0.0                   1.0  \n",
       "7811                          0.0                   1.0  \n",
       "...                           ...                   ...  \n",
       "8231                          0.0                   1.0  \n",
       "3342                          0.0                   1.0  \n",
       "1355                          0.0                   1.0  \n",
       "11319                         0.0                   0.0  \n",
       "6100                          0.0                   0.0  \n",
       "\n",
       "[2301 rows x 11 columns]"
      ]
     },
     "execution_count": 34,
     "metadata": {},
     "output_type": "execute_result"
    }
   ],
   "source": [
    "X_test"
   ]
  },
  {
   "cell_type": "markdown",
   "id": "d267118a",
   "metadata": {
    "papermill": {
     "duration": 0.028829,
     "end_time": "2022-07-05T07:08:46.183134",
     "exception": false,
     "start_time": "2022-07-05T07:08:46.154305",
     "status": "completed"
    },
    "tags": []
   },
   "source": [
    "Now, let's try to select an interested employee from `X_test`, and we want to understand its prediction using the `LimeTabularExplainer`.\n"
   ]
  },
  {
   "cell_type": "code",
   "execution_count": 35,
   "id": "a6378fb4",
   "metadata": {
    "execution": {
     "iopub.execute_input": "2022-07-05T07:08:46.242827Z",
     "iopub.status.busy": "2022-07-05T07:08:46.242433Z",
     "iopub.status.idle": "2022-07-05T07:08:46.259233Z",
     "shell.execute_reply": "2022-07-05T07:08:46.258560Z"
    },
    "papermill": {
     "duration": 0.049075,
     "end_time": "2022-07-05T07:08:46.261343",
     "exception": false,
     "start_time": "2022-07-05T07:08:46.212268",
     "status": "completed"
    },
    "tags": []
   },
   "outputs": [
    {
     "data": {
      "text/html": [
       "<div>\n",
       "<style scoped>\n",
       "    .dataframe tbody tr th:only-of-type {\n",
       "        vertical-align: middle;\n",
       "    }\n",
       "\n",
       "    .dataframe tbody tr th {\n",
       "        vertical-align: top;\n",
       "    }\n",
       "\n",
       "    .dataframe thead th {\n",
       "        text-align: right;\n",
       "    }\n",
       "</style>\n",
       "<table border=\"1\" class=\"dataframe\">\n",
       "  <thead>\n",
       "    <tr style=\"text-align: right;\">\n",
       "      <th></th>\n",
       "      <th>city_development_index</th>\n",
       "      <th>training_hours</th>\n",
       "      <th>company_size</th>\n",
       "      <th>experience</th>\n",
       "      <th>education_level</th>\n",
       "      <th>company_type_Early Stage Startup</th>\n",
       "      <th>company_type_Funded Startup</th>\n",
       "      <th>company_type_NGO</th>\n",
       "      <th>company_type_Other</th>\n",
       "      <th>company_type_Public Sector</th>\n",
       "      <th>company_type_Pvt Ltd</th>\n",
       "    </tr>\n",
       "  </thead>\n",
       "  <tbody>\n",
       "    <tr>\n",
       "      <th>8659</th>\n",
       "      <td>0.924</td>\n",
       "      <td>74.0</td>\n",
       "      <td>7.0</td>\n",
       "      <td>16.0</td>\n",
       "      <td>3.0</td>\n",
       "      <td>0.0</td>\n",
       "      <td>0.0</td>\n",
       "      <td>0.0</td>\n",
       "      <td>0.0</td>\n",
       "      <td>0.0</td>\n",
       "      <td>1.0</td>\n",
       "    </tr>\n",
       "  </tbody>\n",
       "</table>\n",
       "</div>"
      ],
      "text/plain": [
       "      city_development_index  training_hours  company_size  experience  \\\n",
       "8659                   0.924            74.0           7.0        16.0   \n",
       "\n",
       "      education_level  company_type_Early Stage Startup  \\\n",
       "8659              3.0                               0.0   \n",
       "\n",
       "      company_type_Funded Startup  company_type_NGO  company_type_Other  \\\n",
       "8659                          0.0               0.0                 0.0   \n",
       "\n",
       "      company_type_Public Sector  company_type_Pvt Ltd  \n",
       "8659                         0.0                   1.0  "
      ]
     },
     "execution_count": 35,
     "metadata": {},
     "output_type": "execute_result"
    }
   ],
   "source": [
    "instance_index = 19\n",
    "selected_instance = X_test.iloc[[instance_index]]\n",
    "lime_test_instance = selected_instance.values.reshape(-1)\n",
    "selected_instance"
   ]
  },
  {
   "cell_type": "code",
   "execution_count": 36,
   "id": "6dd545db",
   "metadata": {
    "execution": {
     "iopub.execute_input": "2022-07-05T07:08:46.322184Z",
     "iopub.status.busy": "2022-07-05T07:08:46.321646Z",
     "iopub.status.idle": "2022-07-05T07:08:46.327088Z",
     "shell.execute_reply": "2022-07-05T07:08:46.326052Z"
    },
    "papermill": {
     "duration": 0.038094,
     "end_time": "2022-07-05T07:08:46.329074",
     "exception": false,
     "start_time": "2022-07-05T07:08:46.290980",
     "status": "completed"
    },
    "tags": []
   },
   "outputs": [
    {
     "data": {
      "text/plain": [
       "array([ 0.924, 74.   ,  7.   , 16.   ,  3.   ,  0.   ,  0.   ,  0.   ,\n",
       "        0.   ,  0.   ,  1.   ])"
      ]
     },
     "execution_count": 36,
     "metadata": {},
     "output_type": "execute_result"
    }
   ],
   "source": [
    "lime_test_instance"
   ]
  },
  {
   "cell_type": "markdown",
   "id": "777cf321",
   "metadata": {
    "papermill": {
     "duration": 0.029036,
     "end_time": "2022-07-05T07:08:46.387168",
     "exception": false,
     "start_time": "2022-07-05T07:08:46.358132",
     "status": "completed"
    },
    "tags": []
   },
   "source": [
    "Let's make a quick summary about this employee:\n",
    "\n",
    "*   His/her city is well-developed with a city development index > 0.9\n",
    "*   His/her training hour is 74 hours\n",
    "*   His/her company is a very big company, 7 means more than 10,000 employees\n",
    "*   His/her experience is more than 16 years\n",
    "*   His/her company is a Pvt Ltd (Private) company\n",
    "*   His/her has Master's degree(s)\n",
    "\n",
    "and our black-box model predicts its probability of changing a job is `0.03`, that is, very unlikely to leave his or her current job.\n"
   ]
  },
  {
   "cell_type": "markdown",
   "id": "fd7c242a",
   "metadata": {
    "papermill": {
     "duration": 0.029576,
     "end_time": "2022-07-05T07:08:46.446002",
     "exception": false,
     "start_time": "2022-07-05T07:08:46.416426",
     "status": "completed"
    },
    "tags": []
   },
   "source": [
    "Then, let's use `LimeTabularExplainer` to explain why the black-box model thinks this employee won't leave his/her current job.\n"
   ]
  },
  {
   "cell_type": "code",
   "execution_count": 37,
   "id": "4b1638bb",
   "metadata": {
    "execution": {
     "iopub.execute_input": "2022-07-05T07:08:46.509240Z",
     "iopub.status.busy": "2022-07-05T07:08:46.508674Z",
     "iopub.status.idle": "2022-07-05T07:08:49.983139Z",
     "shell.execute_reply": "2022-07-05T07:08:49.981973Z"
    },
    "papermill": {
     "duration": 3.508898,
     "end_time": "2022-07-05T07:08:49.985255",
     "exception": false,
     "start_time": "2022-07-05T07:08:46.476357",
     "status": "completed"
    },
    "tags": []
   },
   "outputs": [
    {
     "name": "stderr",
     "output_type": "stream",
     "text": [
      "/opt/conda/lib/python3.7/site-packages/sklearn/base.py:451: UserWarning: X does not have valid feature names, but RandomForestClassifier was fitted with feature names\n",
      "  \"X does not have valid feature names, but\"\n"
     ]
    },
    {
     "name": "stdout",
     "output_type": "stream",
     "text": [
      "Intercept 0.9292244657555584\n",
      "Prediction_local [0.48730243]\n",
      "Right: 0.030869565217391304\n"
     ]
    },
    {
     "data": {
      "image/png": "[encoded data removed]",
      "text/plain": [
       "<Figure size 640x480 with 1 Axes>"
      ]
     },
     "metadata": {},
     "output_type": "display_data"
    }
   ],
   "source": [
    "exp = explainer.explain_instance(\n",
    "                                 # Instance to explain\n",
    "                                 lime_test_instance, \n",
    "                                 # The prediction from black-box model\n",
    "                                 black_box_model.predict_proba,\n",
    "                                 # Use max 10 features\n",
    "                                 num_features=10)\n",
    "exp.as_pyplot_figure();"
   ]
  },
  {
   "cell_type": "markdown",
   "id": "6b14c7cc",
   "metadata": {
    "papermill": {
     "duration": 0.030791,
     "end_time": "2022-07-05T07:08:50.047102",
     "exception": false,
     "start_time": "2022-07-05T07:08:50.016311",
     "status": "completed"
    },
    "tags": []
   },
   "source": [
    "`LimeTabularExplainer` outputs a bar chart similar to the coefficient or feature importance chart we plotted before.\n",
    "From its output, we can easily interpret why the black-box thinks this employe won't change job, based on the following main factors:\n",
    "\n",
    "*   His/her company is a very big company\n",
    "*   His/her city is well-developed with city development\n",
    "*   His/her highest degree is Master or above\n",
    "*   His/her experience is more than 15 years\n",
    "*   His/her company is not NGO or Startup\n",
    "\n",
    "This interpretation is also aligned with our common sense, that is, if a well-educated employee has been working in a very big/good private company, located in a big city, for more than 15 years, then he/she is probably very satisfied with current job and does not want to change it.\n"
   ]
  },
  {
   "cell_type": "markdown",
   "id": "35b055a4",
   "metadata": {
    "papermill": {
     "duration": 0.030789,
     "end_time": "2022-07-05T07:08:50.109100",
     "exception": false,
     "start_time": "2022-07-05T07:08:50.078311",
     "status": "completed"
    },
    "tags": []
   },
   "source": [
    "### Exerice: Find other data instances and use LimeTabularExplainer to explain their predictions of black-box model\n"
   ]
  },
  {
   "cell_type": "code",
   "execution_count": 38,
   "id": "12583994",
   "metadata": {
    "execution": {
     "iopub.execute_input": "2022-07-05T07:08:50.172274Z",
     "iopub.status.busy": "2022-07-05T07:08:50.171403Z",
     "iopub.status.idle": "2022-07-05T07:08:50.187735Z",
     "shell.execute_reply": "2022-07-05T07:08:50.186977Z"
    },
    "papermill": {
     "duration": 0.05018,
     "end_time": "2022-07-05T07:08:50.189770",
     "exception": false,
     "start_time": "2022-07-05T07:08:50.139590",
     "status": "completed"
    },
    "tags": []
   },
   "outputs": [
    {
     "data": {
      "text/html": [
       "<div>\n",
       "<style scoped>\n",
       "    .dataframe tbody tr th:only-of-type {\n",
       "        vertical-align: middle;\n",
       "    }\n",
       "\n",
       "    .dataframe tbody tr th {\n",
       "        vertical-align: top;\n",
       "    }\n",
       "\n",
       "    .dataframe thead th {\n",
       "        text-align: right;\n",
       "    }\n",
       "</style>\n",
       "<table border=\"1\" class=\"dataframe\">\n",
       "  <thead>\n",
       "    <tr style=\"text-align: right;\">\n",
       "      <th></th>\n",
       "      <th>city_development_index</th>\n",
       "      <th>training_hours</th>\n",
       "      <th>company_size</th>\n",
       "      <th>experience</th>\n",
       "      <th>education_level</th>\n",
       "      <th>company_type_Early Stage Startup</th>\n",
       "      <th>company_type_Funded Startup</th>\n",
       "      <th>company_type_NGO</th>\n",
       "      <th>company_type_Other</th>\n",
       "      <th>company_type_Public Sector</th>\n",
       "      <th>company_type_Pvt Ltd</th>\n",
       "    </tr>\n",
       "  </thead>\n",
       "  <tbody>\n",
       "    <tr>\n",
       "      <th>7131</th>\n",
       "      <td>0.896</td>\n",
       "      <td>10.0</td>\n",
       "      <td>0.0</td>\n",
       "      <td>10.0</td>\n",
       "      <td>3.0</td>\n",
       "      <td>1.0</td>\n",
       "      <td>0.0</td>\n",
       "      <td>0.0</td>\n",
       "      <td>0.0</td>\n",
       "      <td>0.0</td>\n",
       "      <td>0.0</td>\n",
       "    </tr>\n",
       "  </tbody>\n",
       "</table>\n",
       "</div>"
      ],
      "text/plain": [
       "      city_development_index  training_hours  company_size  experience  \\\n",
       "7131                   0.896            10.0           0.0        10.0   \n",
       "\n",
       "      education_level  company_type_Early Stage Startup  \\\n",
       "7131              3.0                               1.0   \n",
       "\n",
       "      company_type_Funded Startup  company_type_NGO  company_type_Other  \\\n",
       "7131                          0.0               0.0                 0.0   \n",
       "\n",
       "      company_type_Public Sector  company_type_Pvt Ltd  \n",
       "7131                         0.0                   0.0  "
      ]
     },
     "execution_count": 38,
     "metadata": {},
     "output_type": "execute_result"
    }
   ],
   "source": [
    "# Update instance_index, and rerun the explainer.explain_instance() method\n",
    "instance_index = 30\n",
    "selected_instance = X_test.iloc[[instance_index]]\n",
    "lime_test_instance = selected_instance.values.reshape(-1)\n",
    "selected_instance"
   ]
  },
  {
   "cell_type": "code",
   "execution_count": 39,
   "id": "effd2516",
   "metadata": {
    "execution": {
     "iopub.execute_input": "2022-07-05T07:08:50.254399Z",
     "iopub.status.busy": "2022-07-05T07:08:50.253746Z",
     "iopub.status.idle": "2022-07-05T07:08:53.712442Z",
     "shell.execute_reply": "2022-07-05T07:08:53.711564Z"
    },
    "papermill": {
     "duration": 3.493955,
     "end_time": "2022-07-05T07:08:53.714702",
     "exception": false,
     "start_time": "2022-07-05T07:08:50.220747",
     "status": "completed"
    },
    "tags": []
   },
   "outputs": [
    {
     "name": "stderr",
     "output_type": "stream",
     "text": [
      "/opt/conda/lib/python3.7/site-packages/sklearn/base.py:451: UserWarning: X does not have valid feature names, but RandomForestClassifier was fitted with feature names\n",
      "  \"X does not have valid feature names, but\"\n"
     ]
    },
    {
     "name": "stdout",
     "output_type": "stream",
     "text": [
      "Intercept 0.7854082397343578\n",
      "Prediction_local [0.75635617]\n",
      "Right: 0.04\n"
     ]
    },
    {
     "data": {
      "image/png": "[encoded data removed]",
      "text/plain": [
       "<Figure size 640x480 with 1 Axes>"
      ]
     },
     "metadata": {},
     "output_type": "display_data"
    }
   ],
   "source": [
    "exp = explainer.explain_instance(\n",
    "                                 # Instance to explain\n",
    "                                 lime_test_instance, \n",
    "                                 # The prediction from black-box model\n",
    "                                 black_box_model.predict_proba,\n",
    "                                 # Use max 10 features\n",
    "                                 num_features=10)\n",
    "exp.as_pyplot_figure();"
   ]
  },
  {
   "cell_type": "markdown",
   "id": "fb68be85",
   "metadata": {
    "papermill": {
     "duration": 0.031732,
     "end_time": "2022-07-05T07:08:53.778489",
     "exception": false,
     "start_time": "2022-07-05T07:08:53.746757",
     "status": "completed"
    },
    "tags": []
   },
   "source": [
    "## Next Steps\n"
   ]
  },
  {
   "cell_type": "markdown",
   "id": "e736601d",
   "metadata": {
    "papermill": {
     "duration": 0.033041,
     "end_time": "2022-07-05T07:08:53.843531",
     "exception": false,
     "start_time": "2022-07-05T07:08:53.810490",
     "status": "completed"
    },
    "tags": []
   },
   "source": [
    "By now you have learned and applied various model-agnostic explanation algorithms such as Permutation Feature Importance, PDP, Global Surrogate Model, LIME, and others in this lab. There are many other such methods such as Feature Interactions, Individual Conditional Expectation, SHAP values, and so on, and we do not have enough time to explain them all in this course.\n",
    "\n",
    "We list the references to other popular model explanation methods which you may be interested:\n",
    "\n",
    "*   [Predictive learning via rule ensembles](https://arxiv.org/abs/0811.1679?utm_medium=Exinfluencer&utm_source=Exinfluencer&utm_content=000026UJ&utm_term=10006555&utm_id=NA-SkillsNetwork-Channel-SkillsNetworkCoursesIBMML241ENSkillsNetwork31576874-2022-01-01)\n",
    "*   [A Unified Approach to Interpreting Model Predictions](https://arxiv.org/abs/1705.07874?utm_medium=Exinfluencer&utm_source=Exinfluencer&utm_content=000026UJ&utm_term=10006555&utm_id=NA-SkillsNetwork-Channel-SkillsNetworkCoursesIBMML241ENSkillsNetwork31576874-2022-01-01)\n",
    "*   [Peeking Inside the Black Box: Visualizing Statistical Learning with Plots of Individual Conditional Expectation](https://arxiv.org/abs/1309.6392?utm_medium=Exinfluencer&utm_source=Exinfluencer&utm_content=000026UJ&utm_term=10006555&utm_id=NA-SkillsNetwork-Channel-SkillsNetworkCoursesIBMML241ENSkillsNetwork31576874-2022-01-01)\n"
   ]
  },
  {
   "cell_type": "markdown",
   "id": "13c87cca",
   "metadata": {
    "papermill": {
     "duration": 0.032463,
     "end_time": "2022-07-05T07:08:53.908353",
     "exception": false,
     "start_time": "2022-07-05T07:08:53.875890",
     "status": "completed"
    },
    "tags": []
   },
   "source": [
    "## Authors\n"
   ]
  },
  {
   "cell_type": "markdown",
   "id": "3abae984",
   "metadata": {
    "papermill": {
     "duration": 0.031831,
     "end_time": "2022-07-05T07:08:53.971976",
     "exception": false,
     "start_time": "2022-07-05T07:08:53.940145",
     "status": "completed"
    },
    "tags": []
   },
   "source": [
    "[Yan Luo](https://www.linkedin.com/in/yan-luo-96288783/?utm_medium=Exinfluencer&utm_source=Exinfluencer&utm_content=000026UJ&utm_term=10006555&utm_id=NA-SkillsNetwork-Channel-SkillsNetworkCoursesIBMML241ENSkillsNetwork31576874-2022-01-01)\n"
   ]
  },
  {
   "cell_type": "markdown",
   "id": "78b8a128",
   "metadata": {
    "papermill": {
     "duration": 0.032092,
     "end_time": "2022-07-05T07:08:54.036833",
     "exception": false,
     "start_time": "2022-07-05T07:08:54.004741",
     "status": "completed"
    },
    "tags": []
   },
   "source": [
    "### Other Contributors\n"
   ]
  },
  {
   "cell_type": "markdown",
   "id": "d7f1f88e",
   "metadata": {
    "papermill": {
     "duration": 0.031444,
     "end_time": "2022-07-05T07:08:54.099943",
     "exception": false,
     "start_time": "2022-07-05T07:08:54.068499",
     "status": "completed"
    },
    "tags": []
   },
   "source": [
    "## Change Log\n"
   ]
  },
  {
   "cell_type": "markdown",
   "id": "ecf1b1e6",
   "metadata": {
    "papermill": {
     "duration": 0.031285,
     "end_time": "2022-07-05T07:08:54.162811",
     "exception": false,
     "start_time": "2022-07-05T07:08:54.131526",
     "status": "completed"
    },
    "tags": []
   },
   "source": [
    "| Date (YYYY-MM-DD) | Version | Changed By | Change Description          |          |     |            |         |\n",
    "| ----------------- | ------- | ---------- | --------------------------- | -------- | --- | ---------- | ------- |\n",
    "| 2021-8-23         | 1.0     | Yan        | Created the initial version | 2022-2-8 | 1.1 | Steve Hord | QA pass |\n"
   ]
  },
  {
   "cell_type": "markdown",
   "id": "1446420e",
   "metadata": {
    "papermill": {
     "duration": 0.031521,
     "end_time": "2022-07-05T07:08:54.225944",
     "exception": false,
     "start_time": "2022-07-05T07:08:54.194423",
     "status": "completed"
    },
    "tags": []
   },
   "source": [
    "Copyright © 2021 IBM Corporation. All rights reserved.\n"
   ]
  }
 ],
 "metadata": {
  "kernelspec": {
   "display_name": "Python 3",
   "language": "python",
   "name": "python3"
  },
  "language_info": {
   "codemirror_mode": {
    "name": "ipython",
    "version": 3
   },
   "file_extension": ".py",
   "mimetype": "text/x-python",
   "name": "python",
   "nbconvert_exporter": "python",
   "pygments_lexer": "ipython3",
   "version": "3.7.12"
  },
  "papermill": {
   "default_parameters": {},
   "duration": 138.243153,
   "end_time": "2022-07-05T07:08:56.878791",
   "environment_variables": {},
   "exception": null,
   "input_path": "__notebook__.ipynb",
   "output_path": "__notebook__.ipynb",
   "parameters": {},
   "start_time": "2022-07-05T07:06:38.635638",
   "version": "2.3.4"
  }
 },
 "nbformat": 4,
 "nbformat_minor": 5
}
