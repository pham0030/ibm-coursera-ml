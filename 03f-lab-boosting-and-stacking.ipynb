{
 "cells": [
  {
   "cell_type": "markdown",
   "id": "3c913aff",
   "metadata": {
    "papermill": {
     "duration": 0.010256,
     "end_time": "2022-06-24T15:41:02.324399",
     "exception": false,
     "start_time": "2022-06-24T15:41:02.314143",
     "status": "completed"
    },
    "run_control": {
     "marked": true
    },
    "tags": []
   },
   "source": [
    "<p style=\"text-align:center\">\n",
    "    <a href=\"https://skills.network/?utm_medium=Exinfluencer&utm_source=Exinfluencer&utm_content=000026UJ&utm_term=10006555&utm_id=NA-SkillsNetwork-Channel-SkillsNetworkCoursesIBMML241ENSkillsNetwork31576874-2022-01-01\" target=\"_blank\">\n",
    "    <img src=\"https://cf-courses-data.s3.us.cloud-object-storage.appdomain.cloud/assets/logos/SN_web_lightmode.png\" width=\"200\" alt=\"Skills Network Logo\"  />\n",
    "    </a>\n",
    "</p>\n",
    "\n",
    "# Machine Learning Foundation\n",
    "\n",
    "## Course 3, Part f: Boosting and Stacking LAB\n",
    "\n",
    "Estimated time needed: **45** minutes\n",
    "\n",
    "## Objectives\n",
    "\n",
    "After completing this demo you will be able to:\n",
    "\n",
    "*   Understand how Gradient Boosting helps reduce error\n",
    "*   Identify the benefits of using AdaBoost\n",
    "*   Interpret the benefits of stacking models and comparing their results to boosted models\n"
   ]
  },
  {
   "cell_type": "markdown",
   "id": "1fe5c256",
   "metadata": {
    "papermill": {
     "duration": 0.00894,
     "end_time": "2022-06-24T15:41:02.342343",
     "exception": false,
     "start_time": "2022-06-24T15:41:02.333403",
     "status": "completed"
    },
    "tags": []
   },
   "source": [
    "<h1>Table of contents</h1>\n",
    "\n",
    "<div class=\"alert alert-block alert-info\" style=\"margin-top: 20px\">\n",
    "    <ol>\n",
    "        <li><a href=\"https://#Q1\">Question 1</a></li>\n",
    "        <li><a href=\"https://#Q2\">Question 2</a></li>\n",
    "        <li><a href=\"https://#Q3\">Question 3</a></li>\n",
    "        <li><a href=\"https://#Q4\">Question 4</a></li>\n",
    "        <li><a href=\"https://#Q5\">Question 5</a></li>\n",
    "        <li><a href=\"https://#Q6\">Question 6</a></li>\n",
    "</div>\n",
    "<br>\n",
    "<hr>\n"
   ]
  },
  {
   "cell_type": "markdown",
   "id": "59e4a5b0",
   "metadata": {
    "papermill": {
     "duration": 0.008497,
     "end_time": "2022-06-24T15:41:02.359702",
     "exception": false,
     "start_time": "2022-06-24T15:41:02.351205",
     "status": "completed"
    },
    "run_control": {
     "marked": true
    },
    "tags": []
   },
   "source": [
    "## Introduction\n",
    "\n",
    "We will be using the [Human Activity Recognition with Smartphones](https://archive.ics.uci.edu/ml/datasets/Human+Activity+Recognition+Using+Smartphones?utm_medium=Exinfluencer&utm_source=Exinfluencer&utm_content=000026UJ&utm_term=10006555&utm_id=NA-SkillsNetwork-Channel-SkillsNetworkCoursesIBMML241ENSkillsNetwork31576874-2022-01-01) database, which was built from the recordings of study participants performing activities of daily living (ADL) while carrying a smartphone with an embedded inertial sensors. The objective is to classify activities into one of the six activities (walking, walking upstairs, walking downstairs, sitting, standing, and laying) performed.\n",
    "\n",
    "For each record in the dataset it is provided:\n",
    "\n",
    "*   Triaxial acceleration from the accelerometer (total acceleration) and the estimated body acceleration.\n",
    "*   Triaxial angular velocity from the gyroscope.\n",
    "*   A 561-feature vector with time and frequency domain variables.\n",
    "*   Its activity label.\n",
    "\n",
    "More information about the features is available on the website shown above.\n"
   ]
  },
  {
   "cell_type": "code",
   "execution_count": 1,
   "id": "549998c6",
   "metadata": {
    "ExecuteTime": {
     "end_time": "2017-04-10T01:06:43.840071Z",
     "start_time": "2017-04-09T21:06:43.833258-04:00"
    },
    "execution": {
     "iopub.execute_input": "2022-06-24T15:41:02.380702Z",
     "iopub.status.busy": "2022-06-24T15:41:02.379935Z",
     "iopub.status.idle": "2022-06-24T15:41:03.427011Z",
     "shell.execute_reply": "2022-06-24T15:41:03.426159Z"
    },
    "papermill": {
     "duration": 1.061083,
     "end_time": "2022-06-24T15:41:03.429666",
     "exception": false,
     "start_time": "2022-06-24T15:41:02.368583",
     "status": "completed"
    },
    "run_control": {
     "marked": true
    },
    "tags": []
   },
   "outputs": [],
   "source": [
    "def warn(*args, **kwargs):\n",
    "    pass\n",
    "import warnings\n",
    "warnings.warn = warn\n",
    "\n",
    "import seaborn as sns, pandas as pd, numpy as np"
   ]
  },
  {
   "cell_type": "markdown",
   "id": "57b149a6",
   "metadata": {
    "papermill": {
     "duration": 0.008745,
     "end_time": "2022-06-24T15:41:03.447737",
     "exception": false,
     "start_time": "2022-06-24T15:41:03.438992",
     "status": "completed"
    },
    "run_control": {
     "marked": true
    },
    "tags": []
   },
   "source": [
    "<h2 id=\"Q1\">Question 1</h2>\n",
    "\n",
    "*   Import the data from the file `Human_Activity_Recognition_Using_Smartphones_Data.csv` and examine the shape and data types. For the data types, there will be too many to list each column separately. Rather, aggregate the types by count.\n",
    "*   Determine if the float columns need to be scaled.\n"
   ]
  },
  {
   "cell_type": "code",
   "execution_count": 2,
   "id": "722bb39e",
   "metadata": {
    "ExecuteTime": {
     "end_time": "2017-04-10T01:06:46.240918Z",
     "start_time": "2017-04-09T21:06:43.842607-04:00"
    },
    "execution": {
     "iopub.execute_input": "2022-06-24T15:41:03.467358Z",
     "iopub.status.busy": "2022-06-24T15:41:03.466983Z",
     "iopub.status.idle": "2022-06-24T15:41:07.881234Z",
     "shell.execute_reply": "2022-06-24T15:41:07.879994Z"
    },
    "papermill": {
     "duration": 4.427247,
     "end_time": "2022-06-24T15:41:07.883946",
     "exception": false,
     "start_time": "2022-06-24T15:41:03.456699",
     "status": "completed"
    },
    "run_control": {
     "marked": true
    },
    "tags": []
   },
   "outputs": [],
   "source": [
    "### BEGIN SOLUTION\n",
    "data = pd.read_csv(\"https://cf-courses-data.s3.us.cloud-object-storage.appdomain.cloud/IBM-ML241EN-SkillsNetwork/labs/datasets/Human_Activity_Recognition_Using_Smartphones_Data.csv\", sep=',')"
   ]
  },
  {
   "cell_type": "markdown",
   "id": "c0964c0b",
   "metadata": {
    "papermill": {
     "duration": 0.008799,
     "end_time": "2022-06-24T15:41:07.901819",
     "exception": false,
     "start_time": "2022-06-24T15:41:07.893020",
     "status": "completed"
    },
    "run_control": {
     "marked": true
    },
    "tags": []
   },
   "source": [
    "The data has quite a few predictor columns.\n"
   ]
  },
  {
   "cell_type": "code",
   "execution_count": 3,
   "id": "9fefb7a6",
   "metadata": {
    "ExecuteTime": {
     "end_time": "2017-04-10T01:06:46.257618Z",
     "start_time": "2017-04-09T21:06:46.243291-04:00"
    },
    "collapsed": false,
    "execution": {
     "iopub.execute_input": "2022-06-24T15:41:07.921346Z",
     "iopub.status.busy": "2022-06-24T15:41:07.920930Z",
     "iopub.status.idle": "2022-06-24T15:41:07.929780Z",
     "shell.execute_reply": "2022-06-24T15:41:07.928592Z"
    },
    "jupyter": {
     "outputs_hidden": false
    },
    "papermill": {
     "duration": 0.022272,
     "end_time": "2022-06-24T15:41:07.933034",
     "exception": false,
     "start_time": "2022-06-24T15:41:07.910762",
     "status": "completed"
    },
    "run_control": {
     "marked": true
    },
    "tags": []
   },
   "outputs": [
    {
     "data": {
      "text/plain": [
       "(10299, 562)"
      ]
     },
     "execution_count": 3,
     "metadata": {},
     "output_type": "execute_result"
    }
   ],
   "source": [
    "data.shape"
   ]
  },
  {
   "cell_type": "markdown",
   "id": "0e571220",
   "metadata": {
    "papermill": {
     "duration": 0.008581,
     "end_time": "2022-06-24T15:41:07.950947",
     "exception": false,
     "start_time": "2022-06-24T15:41:07.942366",
     "status": "completed"
    },
    "run_control": {
     "marked": true
    },
    "tags": []
   },
   "source": [
    "And they're all float values. The only non-float is the categories column, which is being predicted.\n"
   ]
  },
  {
   "cell_type": "code",
   "execution_count": 4,
   "id": "cf405da5",
   "metadata": {
    "ExecuteTime": {
     "end_time": "2017-04-10T01:06:46.310075Z",
     "start_time": "2017-04-09T21:06:46.260274-04:00"
    },
    "collapsed": false,
    "execution": {
     "iopub.execute_input": "2022-06-24T15:41:07.971632Z",
     "iopub.status.busy": "2022-06-24T15:41:07.970841Z",
     "iopub.status.idle": "2022-06-24T15:41:07.985791Z",
     "shell.execute_reply": "2022-06-24T15:41:07.984624Z"
    },
    "jupyter": {
     "outputs_hidden": false
    },
    "papermill": {
     "duration": 0.027984,
     "end_time": "2022-06-24T15:41:07.988068",
     "exception": false,
     "start_time": "2022-06-24T15:41:07.960084",
     "status": "completed"
    },
    "run_control": {
     "marked": true
    },
    "tags": []
   },
   "outputs": [
    {
     "data": {
      "text/plain": [
       "float64    561\n",
       "object       1\n",
       "dtype: int64"
      ]
     },
     "execution_count": 4,
     "metadata": {},
     "output_type": "execute_result"
    }
   ],
   "source": [
    "data.dtypes.value_counts()"
   ]
  },
  {
   "cell_type": "markdown",
   "id": "5f97a37f",
   "metadata": {
    "papermill": {
     "duration": 0.008807,
     "end_time": "2022-06-24T15:41:08.005762",
     "exception": false,
     "start_time": "2022-06-24T15:41:07.996955",
     "status": "completed"
    },
    "run_control": {
     "marked": true
    },
    "tags": []
   },
   "source": [
    "The minimum and maximum value for the float columns is -1.0 and 1.0, respectively. However, scaling is never required for tree-based methods.\n"
   ]
  },
  {
   "cell_type": "code",
   "execution_count": 5,
   "id": "5fe6f42d",
   "metadata": {
    "ExecuteTime": {
     "end_time": "2017-04-10T01:06:46.596533Z",
     "start_time": "2017-04-09T21:06:46.314312-04:00"
    },
    "collapsed": false,
    "execution": {
     "iopub.execute_input": "2022-06-24T15:41:08.026079Z",
     "iopub.status.busy": "2022-06-24T15:41:08.025323Z",
     "iopub.status.idle": "2022-06-24T15:41:08.107032Z",
     "shell.execute_reply": "2022-06-24T15:41:08.105296Z"
    },
    "jupyter": {
     "outputs_hidden": false
    },
    "papermill": {
     "duration": 0.095496,
     "end_time": "2022-06-24T15:41:08.110358",
     "exception": false,
     "start_time": "2022-06-24T15:41:08.014862",
     "status": "completed"
    },
    "run_control": {
     "marked": true
    },
    "tags": []
   },
   "outputs": [
    {
     "name": "stdout",
     "output_type": "stream",
     "text": [
      "True\n",
      "True\n"
     ]
    }
   ],
   "source": [
    "# Mask to select float columns\n",
    "float_columns = (data.dtypes == np.float)\n",
    "\n",
    "# Verify that the maximum of all float columns is 1.0\n",
    "print( (data.loc[:,float_columns].max()==1.0).all() )\n",
    "\n",
    "# Verify that the minimum of all float columns is -1.0\n",
    "print( (data.loc[:,float_columns].min()==-1.0).all() )\n",
    "### END SOLUTION"
   ]
  },
  {
   "cell_type": "markdown",
   "id": "8e28f112",
   "metadata": {
    "papermill": {
     "duration": 0.009696,
     "end_time": "2022-06-24T15:41:08.129549",
     "exception": false,
     "start_time": "2022-06-24T15:41:08.119853",
     "status": "completed"
    },
    "run_control": {
     "marked": true
    },
    "tags": []
   },
   "source": [
    "<h2 id=\"Q2\">Question 2</h2>\n",
    "\n",
    "*   Integer encode the activities.\n",
    "*   Split the data into train and test data sets. Decide if the data will be stratified or not during the train/test split.\n"
   ]
  },
  {
   "cell_type": "code",
   "execution_count": 6,
   "id": "0d2bc721",
   "metadata": {
    "ExecuteTime": {
     "end_time": "2017-04-10T01:06:47.046807Z",
     "start_time": "2017-04-09T21:06:46.600558-04:00"
    },
    "collapsed": false,
    "execution": {
     "iopub.execute_input": "2022-06-24T15:41:08.149840Z",
     "iopub.status.busy": "2022-06-24T15:41:08.149467Z",
     "iopub.status.idle": "2022-06-24T15:41:08.288915Z",
     "shell.execute_reply": "2022-06-24T15:41:08.287787Z"
    },
    "jupyter": {
     "outputs_hidden": false
    },
    "papermill": {
     "duration": 0.15238,
     "end_time": "2022-06-24T15:41:08.291294",
     "exception": false,
     "start_time": "2022-06-24T15:41:08.138914",
     "status": "completed"
    },
    "run_control": {
     "marked": true
    },
    "tags": []
   },
   "outputs": [
    {
     "data": {
      "text/plain": [
       "array(['LAYING', 'SITTING', 'STANDING', 'WALKING', 'WALKING_DOWNSTAIRS',\n",
       "       'WALKING_UPSTAIRS'], dtype=object)"
      ]
     },
     "execution_count": 6,
     "metadata": {},
     "output_type": "execute_result"
    }
   ],
   "source": [
    "### BEGIN SOLUTION\n",
    "from sklearn.preprocessing import LabelEncoder\n",
    "\n",
    "le = LabelEncoder()\n",
    "\n",
    "data['Activity'] = le.fit_transform(data['Activity'])\n",
    "\n",
    "le.classes_"
   ]
  },
  {
   "cell_type": "code",
   "execution_count": 7,
   "id": "1403e9ca",
   "metadata": {
    "ExecuteTime": {
     "end_time": "2017-04-10T01:06:47.053951Z",
     "start_time": "2017-04-09T21:06:47.048890-04:00"
    },
    "collapsed": false,
    "execution": {
     "iopub.execute_input": "2022-06-24T15:41:08.311932Z",
     "iopub.status.busy": "2022-06-24T15:41:08.311566Z",
     "iopub.status.idle": "2022-06-24T15:41:08.319677Z",
     "shell.execute_reply": "2022-06-24T15:41:08.318804Z"
    },
    "jupyter": {
     "outputs_hidden": false
    },
    "papermill": {
     "duration": 0.020864,
     "end_time": "2022-06-24T15:41:08.321598",
     "exception": false,
     "start_time": "2022-06-24T15:41:08.300734",
     "status": "completed"
    },
    "run_control": {
     "marked": true
    },
    "tags": []
   },
   "outputs": [
    {
     "data": {
      "text/plain": [
       "array([2, 1, 0, 3, 4, 5])"
      ]
     },
     "execution_count": 7,
     "metadata": {},
     "output_type": "execute_result"
    }
   ],
   "source": [
    "data.Activity.unique()"
   ]
  },
  {
   "cell_type": "markdown",
   "id": "fa5e0bdb",
   "metadata": {
    "papermill": {
     "duration": 0.009027,
     "end_time": "2022-06-24T15:41:08.339870",
     "exception": false,
     "start_time": "2022-06-24T15:41:08.330843",
     "status": "completed"
    },
    "run_control": {
     "marked": true
    },
    "tags": []
   },
   "source": [
    "**NOTE**: We are about to create training and test sets from `data`. On those datasets, we are going to run grid searches over many choices of parameters. This can take some time. In order to shorten the grid search time, feel free to downsample `data` and create `X_train, X_test, y_train, y_test` from the downsampled dataset.\n",
    "\n",
    "Now split the data into train and test data sets. A stratified split was not used here. If there are issues with any of the error metrics on the test set, it can be a good idea to start model fitting over using a stratified split. Boosting is a pretty powerful model, though, so it may not be necessary in this case.\n"
   ]
  },
  {
   "cell_type": "code",
   "execution_count": 8,
   "id": "91f66c13",
   "metadata": {
    "ExecuteTime": {
     "end_time": "2017-04-10T01:06:47.155794Z",
     "start_time": "2017-04-09T21:06:47.055576-04:00"
    },
    "execution": {
     "iopub.execute_input": "2022-06-24T15:41:08.360215Z",
     "iopub.status.busy": "2022-06-24T15:41:08.359838Z",
     "iopub.status.idle": "2022-06-24T15:41:08.463641Z",
     "shell.execute_reply": "2022-06-24T15:41:08.462634Z"
    },
    "papermill": {
     "duration": 0.117092,
     "end_time": "2022-06-24T15:41:08.466157",
     "exception": false,
     "start_time": "2022-06-24T15:41:08.349065",
     "status": "completed"
    },
    "run_control": {
     "marked": true
    },
    "tags": []
   },
   "outputs": [],
   "source": [
    "from sklearn.model_selection import train_test_split\n",
    "\n",
    "# Alternatively, we could stratify the categories in the split, as was done previously\n",
    "feature_columns = [x for x in data.columns if x != 'Activity']\n",
    "\n",
    "X_train, X_test, y_train, y_test = train_test_split(data[feature_columns], data['Activity'],\n",
    "                 test_size=0.3, random_state=42)\n"
   ]
  },
  {
   "cell_type": "code",
   "execution_count": 9,
   "id": "71706a4c",
   "metadata": {
    "ExecuteTime": {
     "end_time": "2017-04-10T01:06:47.170296Z",
     "start_time": "2017-04-09T21:06:47.157710-04:00"
    },
    "collapsed": false,
    "execution": {
     "iopub.execute_input": "2022-06-24T15:41:08.486922Z",
     "iopub.status.busy": "2022-06-24T15:41:08.486527Z",
     "iopub.status.idle": "2022-06-24T15:41:08.494613Z",
     "shell.execute_reply": "2022-06-24T15:41:08.493643Z"
    },
    "jupyter": {
     "outputs_hidden": false
    },
    "papermill": {
     "duration": 0.020679,
     "end_time": "2022-06-24T15:41:08.496768",
     "exception": false,
     "start_time": "2022-06-24T15:41:08.476089",
     "status": "completed"
    },
    "run_control": {
     "marked": true
    },
    "tags": []
   },
   "outputs": [
    {
     "data": {
      "text/plain": [
       "((7209, 561), (7209,), (3090, 561), (3090,))"
      ]
     },
     "execution_count": 9,
     "metadata": {},
     "output_type": "execute_result"
    }
   ],
   "source": [
    "X_train.shape, y_train.shape, X_test.shape, y_test.shape\n",
    "### END SOLUTION"
   ]
  },
  {
   "cell_type": "markdown",
   "id": "2ad3b47b",
   "metadata": {
    "papermill": {
     "duration": 0.008967,
     "end_time": "2022-06-24T15:41:08.515099",
     "exception": false,
     "start_time": "2022-06-24T15:41:08.506132",
     "status": "completed"
    },
    "run_control": {
     "marked": true
    },
    "tags": []
   },
   "source": [
    "<h2 id=\"Q3\">Question 3</h2>\n",
    "\n",
    "*   Fit gradient boosted tree models with all parameters set to their defaults with the following tree numbers (`n_estimators = [15, 25, 50, 100, 200, 400]`) and evaluate the accuracy on the test data for each of these models.\n",
    "*   Plot the accuracy as a function of estimator number.\n",
    "\n",
    "*Note:* there is no out-of-bag error for boosted models. And the `warm_flag=True` setting has a bug in the gradient boosted model, so don't use it. Simply create the model inside the `for` loop and set the number of estimators at this time. This will make the fitting take a little longer. Additionally, boosting models tend to take longer to fit than bagged ones because the decision stumps must be fit successively.\n"
   ]
  },
  {
   "cell_type": "code",
   "execution_count": 10,
   "id": "a3b4a3ac",
   "metadata": {
    "ExecuteTime": {
     "end_time": "2017-04-10T01:25:21.780609Z",
     "start_time": "2017-04-09T21:06:47.175316-04:00"
    },
    "collapsed": false,
    "execution": {
     "iopub.execute_input": "2022-06-24T15:41:08.535143Z",
     "iopub.status.busy": "2022-06-24T15:41:08.534777Z",
     "iopub.status.idle": "2022-06-24T17:16:39.429080Z",
     "shell.execute_reply": "2022-06-24T17:16:39.427113Z"
    },
    "jupyter": {
     "outputs_hidden": false
    },
    "papermill": {
     "duration": 5730.918126,
     "end_time": "2022-06-24T17:16:39.442429",
     "exception": false,
     "start_time": "2022-06-24T15:41:08.524303",
     "status": "completed"
    },
    "run_control": {
     "marked": true
    },
    "tags": []
   },
   "outputs": [
    {
     "name": "stdout",
     "output_type": "stream",
     "text": [
      "Fitting model with 15 trees\n",
      "Fitting model with 25 trees\n",
      "Fitting model with 50 trees\n",
      "Fitting model with 100 trees\n",
      "Fitting model with 200 trees\n",
      "Fitting model with 400 trees\n"
     ]
    },
    {
     "data": {
      "text/html": [
       "<div>\n",
       "<style scoped>\n",
       "    .dataframe tbody tr th:only-of-type {\n",
       "        vertical-align: middle;\n",
       "    }\n",
       "\n",
       "    .dataframe tbody tr th {\n",
       "        vertical-align: top;\n",
       "    }\n",
       "\n",
       "    .dataframe thead th {\n",
       "        text-align: right;\n",
       "    }\n",
       "</style>\n",
       "<table border=\"1\" class=\"dataframe\">\n",
       "  <thead>\n",
       "    <tr style=\"text-align: right;\">\n",
       "      <th></th>\n",
       "      <th>error</th>\n",
       "    </tr>\n",
       "    <tr>\n",
       "      <th>n_trees</th>\n",
       "      <th></th>\n",
       "    </tr>\n",
       "  </thead>\n",
       "  <tbody>\n",
       "    <tr>\n",
       "      <th>15.0</th>\n",
       "      <td>0.051133</td>\n",
       "    </tr>\n",
       "    <tr>\n",
       "      <th>25.0</th>\n",
       "      <td>0.033981</td>\n",
       "    </tr>\n",
       "    <tr>\n",
       "      <th>50.0</th>\n",
       "      <td>0.019741</td>\n",
       "    </tr>\n",
       "    <tr>\n",
       "      <th>100.0</th>\n",
       "      <td>0.013592</td>\n",
       "    </tr>\n",
       "    <tr>\n",
       "      <th>200.0</th>\n",
       "      <td>0.011003</td>\n",
       "    </tr>\n",
       "    <tr>\n",
       "      <th>400.0</th>\n",
       "      <td>0.010356</td>\n",
       "    </tr>\n",
       "  </tbody>\n",
       "</table>\n",
       "</div>"
      ],
      "text/plain": [
       "            error\n",
       "n_trees          \n",
       "15.0     0.051133\n",
       "25.0     0.033981\n",
       "50.0     0.019741\n",
       "100.0    0.013592\n",
       "200.0    0.011003\n",
       "400.0    0.010356"
      ]
     },
     "execution_count": 10,
     "metadata": {},
     "output_type": "execute_result"
    }
   ],
   "source": [
    "### BEGIN SOLUTION\n",
    "from sklearn.ensemble import GradientBoostingClassifier\n",
    "from sklearn.metrics import accuracy_score\n",
    "\n",
    "error_list = list()\n",
    "\n",
    "# Iterate through various possibilities for number of trees\n",
    "tree_list = [15, 25, 50, 100, 200, 400]\n",
    "for n_trees in tree_list:\n",
    "    \n",
    "    # Initialize the gradient boost classifier\n",
    "    GBC = GradientBoostingClassifier(n_estimators=n_trees, random_state=42)\n",
    "\n",
    "    # Fit the model\n",
    "    print(f'Fitting model with {n_trees} trees')\n",
    "    GBC.fit(X_train.values, y_train.values)\n",
    "    y_pred = GBC.predict(X_test)\n",
    "\n",
    "    # Get the error\n",
    "    error = 1.0 - accuracy_score(y_test, y_pred)\n",
    "    \n",
    "    # Store it\n",
    "    error_list.append(pd.Series({'n_trees': n_trees, 'error': error}))\n",
    "\n",
    "error_df = pd.concat(error_list, axis=1).T.set_index('n_trees')\n",
    "\n",
    "error_df"
   ]
  },
  {
   "cell_type": "markdown",
   "id": "79cb2b50",
   "metadata": {
    "papermill": {
     "duration": 0.012003,
     "end_time": "2022-06-24T17:16:39.465975",
     "exception": false,
     "start_time": "2022-06-24T17:16:39.453972",
     "status": "completed"
    },
    "tags": []
   },
   "source": [
    "Now plot the result.\n"
   ]
  },
  {
   "cell_type": "code",
   "execution_count": 11,
   "id": "82cb8aa5",
   "metadata": {
    "ExecuteTime": {
     "end_time": "2017-04-10T01:25:22.377634Z",
     "start_time": "2017-04-09T21:25:22.121923-04:00"
    },
    "collapsed": false,
    "execution": {
     "iopub.execute_input": "2022-06-24T17:16:39.492892Z",
     "iopub.status.busy": "2022-06-24T17:16:39.492118Z",
     "iopub.status.idle": "2022-06-24T17:16:39.802674Z",
     "shell.execute_reply": "2022-06-24T17:16:39.801062Z"
    },
    "jupyter": {
     "outputs_hidden": false
    },
    "papermill": {
     "duration": 0.326686,
     "end_time": "2022-06-24T17:16:39.805575",
     "exception": false,
     "start_time": "2022-06-24T17:16:39.478889",
     "status": "completed"
    },
    "run_control": {
     "marked": true
    },
    "tags": []
   },
   "outputs": [
    {
     "data": {
      "image/png": "[encoded data removed]",
      "text/plain": [
       "<Figure size 864x576 with 1 Axes>"
      ]
     },
     "metadata": {},
     "output_type": "display_data"
    }
   ],
   "source": [
    "sns.set_context('talk')\n",
    "sns.set_style('white')\n",
    "\n",
    "# Create the plot\n",
    "ax = error_df.plot(marker='o', figsize=(12, 8), linewidth=5)\n",
    "\n",
    "# Set parameters\n",
    "ax.set(xlabel='Number of Trees', ylabel='Error')\n",
    "ax.set_xlim(0, max(error_df.index)*1.1);\n",
    "### END SOLUTION"
   ]
  },
  {
   "cell_type": "markdown",
   "id": "a0cfe012",
   "metadata": {
    "papermill": {
     "duration": 0.011433,
     "end_time": "2022-06-24T17:16:39.829569",
     "exception": false,
     "start_time": "2022-06-24T17:16:39.818136",
     "status": "completed"
    },
    "run_control": {
     "marked": true
    },
    "tags": []
   },
   "source": [
    "<h2 id=\"Q4\">Question 4</h2>\n",
    "\n",
    "*   Using a grid search with cross-validation, fit a new gradient boosted classifier with the same list of estimators as question 3. Also try varying the learning rates (0.1, 0.01, 0.001, etc.), the subsampling value (1.0 or 0.5), and the number of maximum features (1, 2, etc.).\n",
    "*   Examine the parameters of the best fit model.\n",
    "*   Calculate relevant error metrics on this model and examine the confusion matrix.\n"
   ]
  },
  {
   "cell_type": "code",
   "execution_count": 12,
   "id": "7e4cfc66",
   "metadata": {
    "ExecuteTime": {
     "end_time": "2017-04-10T01:35:23.346693Z",
     "start_time": "2017-04-09T21:25:22.379244-04:00"
    },
    "execution": {
     "iopub.execute_input": "2022-06-24T17:16:39.856843Z",
     "iopub.status.busy": "2022-06-24T17:16:39.856308Z",
     "iopub.status.idle": "2022-06-24T17:46:46.141704Z",
     "shell.execute_reply": "2022-06-24T17:46:46.140275Z"
    },
    "papermill": {
     "duration": 1806.303106,
     "end_time": "2022-06-24T17:46:46.145843",
     "exception": false,
     "start_time": "2022-06-24T17:16:39.842737",
     "status": "completed"
    },
    "run_control": {
     "marked": true
    },
    "tags": []
   },
   "outputs": [],
   "source": [
    "### BEGIN SOLUTION\n",
    "from sklearn.model_selection import GridSearchCV\n",
    "\n",
    "# The parameters to be fit\n",
    "param_grid = {'n_estimators': tree_list,\n",
    "              'learning_rate': [0.1, 0.01, 0.001, 0.0001],\n",
    "              'subsample': [1.0, 0.5],\n",
    "              'max_features': [1, 2, 3, 4]}\n",
    "\n",
    "# The grid search object\n",
    "GV_GBC = GridSearchCV(GradientBoostingClassifier(random_state=42), \n",
    "                      param_grid=param_grid, \n",
    "                      scoring='accuracy',\n",
    "                      n_jobs=-1)\n",
    "\n",
    "# Do the grid search\n",
    "GV_GBC = GV_GBC.fit(X_train, y_train)"
   ]
  },
  {
   "cell_type": "code",
   "execution_count": 13,
   "id": "8e5e268a",
   "metadata": {
    "ExecuteTime": {
     "end_time": "2017-04-10T01:35:23.359160Z",
     "start_time": "2017-04-09T21:35:23.350350-04:00"
    },
    "collapsed": false,
    "execution": {
     "iopub.execute_input": "2022-06-24T17:46:46.170584Z",
     "iopub.status.busy": "2022-06-24T17:46:46.169696Z",
     "iopub.status.idle": "2022-06-24T17:46:46.179256Z",
     "shell.execute_reply": "2022-06-24T17:46:46.178502Z"
    },
    "jupyter": {
     "outputs_hidden": false
    },
    "papermill": {
     "duration": 0.023932,
     "end_time": "2022-06-24T17:46:46.181456",
     "exception": false,
     "start_time": "2022-06-24T17:46:46.157524",
     "status": "completed"
    },
    "tags": []
   },
   "outputs": [
    {
     "data": {
      "text/plain": [
       "GradientBoostingClassifier(max_features=4, n_estimators=400, random_state=42,\n",
       "                           subsample=0.5)"
      ]
     },
     "execution_count": 13,
     "metadata": {},
     "output_type": "execute_result"
    }
   ],
   "source": [
    "# The best model\n",
    "GV_GBC.best_estimator_"
   ]
  },
  {
   "cell_type": "markdown",
   "id": "212f7214",
   "metadata": {
    "papermill": {
     "duration": 0.0102,
     "end_time": "2022-06-24T17:46:46.202268",
     "exception": false,
     "start_time": "2022-06-24T17:46:46.192068",
     "status": "completed"
    },
    "tags": []
   },
   "source": [
    "The error metrics. Classification report is particularly convenient for multi-class cases.\n"
   ]
  },
  {
   "cell_type": "code",
   "execution_count": 14,
   "id": "ccb63838",
   "metadata": {
    "ExecuteTime": {
     "end_time": "2017-04-10T01:35:23.673080Z",
     "start_time": "2017-04-09T21:35:23.361883-04:00"
    },
    "collapsed": false,
    "execution": {
     "iopub.execute_input": "2022-06-24T17:46:46.225749Z",
     "iopub.status.busy": "2022-06-24T17:46:46.225196Z",
     "iopub.status.idle": "2022-06-24T17:46:46.476232Z",
     "shell.execute_reply": "2022-06-24T17:46:46.475042Z"
    },
    "jupyter": {
     "outputs_hidden": false
    },
    "papermill": {
     "duration": 0.265308,
     "end_time": "2022-06-24T17:46:46.478503",
     "exception": false,
     "start_time": "2022-06-24T17:46:46.213195",
     "status": "completed"
    },
    "tags": []
   },
   "outputs": [
    {
     "name": "stdout",
     "output_type": "stream",
     "text": [
      "              precision    recall  f1-score   support\n",
      "\n",
      "           0       1.00      1.00      1.00       597\n",
      "           1       0.97      0.97      0.97       560\n",
      "           2       0.97      0.97      0.97       547\n",
      "           3       1.00      1.00      1.00       539\n",
      "           4       0.99      1.00      1.00       418\n",
      "           5       1.00      0.98      0.99       429\n",
      "\n",
      "    accuracy                           0.99      3090\n",
      "   macro avg       0.99      0.99      0.99      3090\n",
      "weighted avg       0.99      0.99      0.99      3090\n",
      "\n"
     ]
    }
   ],
   "source": [
    "from sklearn.metrics import classification_report\n",
    "\n",
    "y_pred = GV_GBC.predict(X_test)\n",
    "print(classification_report(y_pred, y_test))"
   ]
  },
  {
   "cell_type": "markdown",
   "id": "4b2fffb1",
   "metadata": {
    "papermill": {
     "duration": 0.010246,
     "end_time": "2022-06-24T17:46:46.499325",
     "exception": false,
     "start_time": "2022-06-24T17:46:46.489079",
     "status": "completed"
    },
    "tags": []
   },
   "source": [
    "The confusion matrix. Note that the gradient boosted model has a little trouble distinguishing between activity class 1 and 2.\n"
   ]
  },
  {
   "cell_type": "code",
   "execution_count": 15,
   "id": "e81bc953",
   "metadata": {
    "ExecuteTime": {
     "end_time": "2017-04-10T01:35:24.084430Z",
     "start_time": "2017-04-09T21:35:23.675399-04:00"
    },
    "collapsed": false,
    "execution": {
     "iopub.execute_input": "2022-06-24T17:46:46.522957Z",
     "iopub.status.busy": "2022-06-24T17:46:46.522368Z",
     "iopub.status.idle": "2022-06-24T17:46:46.866794Z",
     "shell.execute_reply": "2022-06-24T17:46:46.865631Z"
    },
    "jupyter": {
     "outputs_hidden": false
    },
    "papermill": {
     "duration": 0.359042,
     "end_time": "2022-06-24T17:46:46.869088",
     "exception": false,
     "start_time": "2022-06-24T17:46:46.510046",
     "status": "completed"
    },
    "tags": []
   },
   "outputs": [
    {
     "data": {
      "image/png": "[encoded data removed]",
      "text/plain": [
       "<Figure size 432x288 with 2 Axes>"
      ]
     },
     "metadata": {},
     "output_type": "display_data"
    }
   ],
   "source": [
    "from sklearn.metrics import confusion_matrix\n",
    "\n",
    "sns.set_context('talk')\n",
    "cm = confusion_matrix(y_test, y_pred)\n",
    "ax = sns.heatmap(cm, annot=True, fmt='d')\n",
    "### END SOLUTION"
   ]
  },
  {
   "cell_type": "markdown",
   "id": "ef5b9c33",
   "metadata": {
    "papermill": {
     "duration": 0.010821,
     "end_time": "2022-06-24T17:46:46.891375",
     "exception": false,
     "start_time": "2022-06-24T17:46:46.880554",
     "status": "completed"
    },
    "tags": []
   },
   "source": [
    "<h2 id=\"Q5\">Question 5</h2>\n",
    "\n",
    "*   Create an AdaBoost model and fit it using grid search, much like question 4. Try a range of estimators between 100 and 200.\n",
    "*   Compare the errors from AdaBoost to those from the GradientBoostedClassifier.\n"
   ]
  },
  {
   "cell_type": "code",
   "execution_count": 16,
   "id": "647aca26",
   "metadata": {
    "ExecuteTime": {
     "end_time": "2017-04-10T01:41:12.569486Z",
     "start_time": "2017-04-09T21:35:24.086016-04:00"
    },
    "execution": {
     "iopub.execute_input": "2022-06-24T17:46:46.915532Z",
     "iopub.status.busy": "2022-06-24T17:46:46.914815Z",
     "iopub.status.idle": "2022-06-24T17:59:22.812299Z",
     "shell.execute_reply": "2022-06-24T17:59:22.810843Z"
    },
    "papermill": {
     "duration": 755.913087,
     "end_time": "2022-06-24T17:59:22.815515",
     "exception": false,
     "start_time": "2022-06-24T17:46:46.902428",
     "status": "completed"
    },
    "tags": []
   },
   "outputs": [],
   "source": [
    "### BEGIN SOLUTION\n",
    "from sklearn.ensemble import AdaBoostClassifier\n",
    "from sklearn.tree import DecisionTreeClassifier\n",
    "\n",
    "ABC = AdaBoostClassifier(DecisionTreeClassifier(max_depth=1))\n",
    "\n",
    "param_grid = {'n_estimators': [100, 150, 200],\n",
    "              'learning_rate': [0.01, 0.001]}\n",
    "\n",
    "GV_ABC = GridSearchCV(ABC,\n",
    "                      param_grid=param_grid, \n",
    "                      scoring='accuracy',\n",
    "                      n_jobs=-1)\n",
    "\n",
    "GV_ABC = GV_ABC.fit(X_train, y_train)"
   ]
  },
  {
   "cell_type": "markdown",
   "id": "d76c8655",
   "metadata": {
    "papermill": {
     "duration": 0.011319,
     "end_time": "2022-06-24T17:59:22.839876",
     "exception": false,
     "start_time": "2022-06-24T17:59:22.828557",
     "status": "completed"
    },
    "tags": []
   },
   "source": [
    "The best model.\n"
   ]
  },
  {
   "cell_type": "code",
   "execution_count": 17,
   "id": "6e1e67d6",
   "metadata": {
    "ExecuteTime": {
     "end_time": "2017-04-10T01:41:12.577054Z",
     "start_time": "2017-04-09T21:41:12.571918-04:00"
    },
    "collapsed": false,
    "execution": {
     "iopub.execute_input": "2022-06-24T17:59:22.865078Z",
     "iopub.status.busy": "2022-06-24T17:59:22.864619Z",
     "iopub.status.idle": "2022-06-24T17:59:22.872137Z",
     "shell.execute_reply": "2022-06-24T17:59:22.870975Z"
    },
    "jupyter": {
     "outputs_hidden": false
    },
    "papermill": {
     "duration": 0.022788,
     "end_time": "2022-06-24T17:59:22.874279",
     "exception": false,
     "start_time": "2022-06-24T17:59:22.851491",
     "status": "completed"
    },
    "tags": []
   },
   "outputs": [
    {
     "data": {
      "text/plain": [
       "AdaBoostClassifier(base_estimator=DecisionTreeClassifier(max_depth=1),\n",
       "                   learning_rate=0.01, n_estimators=100)"
      ]
     },
     "execution_count": 17,
     "metadata": {},
     "output_type": "execute_result"
    }
   ],
   "source": [
    "# The best model\n",
    "GV_ABC.best_estimator_"
   ]
  },
  {
   "cell_type": "markdown",
   "id": "3317bb0d",
   "metadata": {
    "papermill": {
     "duration": 0.011368,
     "end_time": "2022-06-24T17:59:22.897302",
     "exception": false,
     "start_time": "2022-06-24T17:59:22.885934",
     "status": "completed"
    },
    "tags": []
   },
   "source": [
    "The error metrics. Note that the issues with class 1 and 2 appear to have become more problematic. Also note other issues for classes 3 - 5. AdaBoost is very sensitive to outliers, so that could be the problem here.\n"
   ]
  },
  {
   "cell_type": "code",
   "execution_count": 18,
   "id": "d987a34b",
   "metadata": {
    "ExecuteTime": {
     "end_time": "2017-04-10T01:41:12.694494Z",
     "start_time": "2017-04-09T21:41:12.579980-04:00"
    },
    "collapsed": false,
    "execution": {
     "iopub.execute_input": "2022-06-24T17:59:22.922304Z",
     "iopub.status.busy": "2022-06-24T17:59:22.921900Z",
     "iopub.status.idle": "2022-06-24T17:59:23.393197Z",
     "shell.execute_reply": "2022-06-24T17:59:23.391745Z"
    },
    "jupyter": {
     "outputs_hidden": false
    },
    "papermill": {
     "duration": 0.487092,
     "end_time": "2022-06-24T17:59:23.395965",
     "exception": false,
     "start_time": "2022-06-24T17:59:22.908873",
     "status": "completed"
    },
    "tags": []
   },
   "outputs": [
    {
     "name": "stdout",
     "output_type": "stream",
     "text": [
      "              precision    recall  f1-score   support\n",
      "\n",
      "           0       1.00      0.99      1.00       600\n",
      "           1       0.00      1.00      0.00         1\n",
      "           2       1.00      0.49      0.66      1106\n",
      "           3       0.92      0.84      0.88       589\n",
      "           4       0.73      0.95      0.82       320\n",
      "           5       0.89      0.80      0.84       474\n",
      "\n",
      "    accuracy                           0.75      3090\n",
      "   macro avg       0.76      0.85      0.70      3090\n",
      "weighted avg       0.94      0.75      0.81      3090\n",
      "\n"
     ]
    }
   ],
   "source": [
    "y_pred = GV_ABC.predict(X_test)\n",
    "print(classification_report(y_pred, y_test))"
   ]
  },
  {
   "cell_type": "code",
   "execution_count": 19,
   "id": "6024a68d",
   "metadata": {
    "ExecuteTime": {
     "end_time": "2017-04-10T01:41:12.986696Z",
     "start_time": "2017-04-09T21:41:12.696346-04:00"
    },
    "collapsed": false,
    "execution": {
     "iopub.execute_input": "2022-06-24T17:59:23.423375Z",
     "iopub.status.busy": "2022-06-24T17:59:23.422247Z",
     "iopub.status.idle": "2022-06-24T17:59:23.767206Z",
     "shell.execute_reply": "2022-06-24T17:59:23.766437Z"
    },
    "jupyter": {
     "outputs_hidden": false
    },
    "papermill": {
     "duration": 0.360833,
     "end_time": "2022-06-24T17:59:23.769631",
     "exception": false,
     "start_time": "2022-06-24T17:59:23.408798",
     "status": "completed"
    },
    "tags": []
   },
   "outputs": [
    {
     "data": {
      "image/png": "[encoded data removed]",
      "text/plain": [
       "<Figure size 432x288 with 2 Axes>"
      ]
     },
     "metadata": {},
     "output_type": "display_data"
    }
   ],
   "source": [
    "sns.set_context('talk')\n",
    "cm = confusion_matrix(y_test, y_pred)\n",
    "ax = sns.heatmap(cm, annot=True, fmt='d')\n",
    "### END SOLUTION"
   ]
  },
  {
   "cell_type": "markdown",
   "id": "2493019f",
   "metadata": {
    "papermill": {
     "duration": 0.013558,
     "end_time": "2022-06-24T17:59:23.797258",
     "exception": false,
     "start_time": "2022-06-24T17:59:23.783700",
     "status": "completed"
    },
    "tags": []
   },
   "source": [
    "<h2 id=\"Q6\">Question 6</h2>\n",
    "\n",
    "*   Fit a logistic regression model with regularization.\n",
    "*   Using `VotingClassifier`, fit the logistic regression model along with either the GratientBoostedClassifier or the AdaBoost model (or both) from questions 4 and 5.\n",
    "*   Determine the error as before and compare the results to the appropriate gradient boosted model(s).\n",
    "*   Plot the confusion matrix for the best model created in this set of exercises.\n"
   ]
  },
  {
   "cell_type": "code",
   "execution_count": 20,
   "id": "bf142515",
   "metadata": {
    "ExecuteTime": {
     "end_time": "2017-04-10T01:41:56.052177Z",
     "start_time": "2017-04-09T21:41:12.988303-04:00"
    },
    "execution": {
     "iopub.execute_input": "2022-06-24T17:59:23.825763Z",
     "iopub.status.busy": "2022-06-24T17:59:23.824877Z",
     "iopub.status.idle": "2022-06-24T18:00:38.096255Z",
     "shell.execute_reply": "2022-06-24T18:00:38.094897Z"
    },
    "papermill": {
     "duration": 74.288197,
     "end_time": "2022-06-24T18:00:38.098760",
     "exception": false,
     "start_time": "2022-06-24T17:59:23.810563",
     "status": "completed"
    },
    "tags": []
   },
   "outputs": [],
   "source": [
    "### BEGIN SOLUTION\n",
    "from sklearn.linear_model import LogisticRegression\n",
    "\n",
    "# L2 regularized logistic regression\n",
    "LR_L2 = LogisticRegression(penalty='l2', max_iter=500, solver='saga').fit(X_train, y_train)"
   ]
  },
  {
   "cell_type": "markdown",
   "id": "65fab3da",
   "metadata": {
    "papermill": {
     "duration": 0.01234,
     "end_time": "2022-06-24T18:00:38.123927",
     "exception": false,
     "start_time": "2022-06-24T18:00:38.111587",
     "status": "completed"
    },
    "tags": []
   },
   "source": [
    "Check the errors and confusion matrix for the logistic regression model.\n"
   ]
  },
  {
   "cell_type": "code",
   "execution_count": 21,
   "id": "4b1f74da",
   "metadata": {
    "ExecuteTime": {
     "end_time": "2017-04-10T01:41:56.070163Z",
     "start_time": "2017-04-09T21:41:56.054354-04:00"
    },
    "collapsed": false,
    "execution": {
     "iopub.execute_input": "2022-06-24T18:00:38.150313Z",
     "iopub.status.busy": "2022-06-24T18:00:38.149931Z",
     "iopub.status.idle": "2022-06-24T18:00:38.191004Z",
     "shell.execute_reply": "2022-06-24T18:00:38.189685Z"
    },
    "jupyter": {
     "outputs_hidden": false
    },
    "papermill": {
     "duration": 0.058433,
     "end_time": "2022-06-24T18:00:38.194568",
     "exception": false,
     "start_time": "2022-06-24T18:00:38.136135",
     "status": "completed"
    },
    "tags": []
   },
   "outputs": [
    {
     "name": "stdout",
     "output_type": "stream",
     "text": [
      "              precision    recall  f1-score   support\n",
      "\n",
      "           0       1.00      1.00      1.00       598\n",
      "           1       0.95      0.96      0.95       558\n",
      "           2       0.95      0.95      0.95       547\n",
      "           3       1.00      0.99      0.99       544\n",
      "           4       0.98      1.00      0.99       413\n",
      "           5       1.00      0.98      0.99       430\n",
      "\n",
      "    accuracy                           0.98      3090\n",
      "   macro avg       0.98      0.98      0.98      3090\n",
      "weighted avg       0.98      0.98      0.98      3090\n",
      "\n"
     ]
    }
   ],
   "source": [
    "y_pred = LR_L2.predict(X_test)\n",
    "print(classification_report(y_pred, y_test))"
   ]
  },
  {
   "cell_type": "code",
   "execution_count": 22,
   "id": "3926a146",
   "metadata": {
    "ExecuteTime": {
     "end_time": "2017-04-10T01:41:56.388450Z",
     "start_time": "2017-04-09T21:41:56.072785-04:00"
    },
    "collapsed": false,
    "execution": {
     "iopub.execute_input": "2022-06-24T18:00:38.247311Z",
     "iopub.status.busy": "2022-06-24T18:00:38.246747Z",
     "iopub.status.idle": "2022-06-24T18:00:38.610471Z",
     "shell.execute_reply": "2022-06-24T18:00:38.609005Z"
    },
    "jupyter": {
     "outputs_hidden": false
    },
    "papermill": {
     "duration": 0.393574,
     "end_time": "2022-06-24T18:00:38.613232",
     "exception": false,
     "start_time": "2022-06-24T18:00:38.219658",
     "status": "completed"
    },
    "scrolled": true,
    "tags": []
   },
   "outputs": [
    {
     "data": {
      "image/png": "[encoded data removed]",
      "text/plain": [
       "<Figure size 432x288 with 2 Axes>"
      ]
     },
     "metadata": {},
     "output_type": "display_data"
    }
   ],
   "source": [
    "sns.set_context('talk')\n",
    "cm = confusion_matrix(y_test, y_pred)\n",
    "ax = sns.heatmap(cm, annot=True, fmt='d')"
   ]
  },
  {
   "cell_type": "markdown",
   "id": "baf505fb",
   "metadata": {
    "papermill": {
     "duration": 0.012295,
     "end_time": "2022-06-24T18:00:38.638385",
     "exception": false,
     "start_time": "2022-06-24T18:00:38.626090",
     "status": "completed"
    },
    "tags": []
   },
   "source": [
    "And now the stacked model.\n"
   ]
  },
  {
   "cell_type": "code",
   "execution_count": 23,
   "id": "6bba64b8",
   "metadata": {
    "ExecuteTime": {
     "end_time": "2017-04-10T01:52:23.739656Z",
     "start_time": "2017-04-09T21:41:56.390038-04:00"
    },
    "execution": {
     "iopub.execute_input": "2022-06-24T18:00:38.665582Z",
     "iopub.status.busy": "2022-06-24T18:00:38.664995Z",
     "iopub.status.idle": "2022-06-24T18:31:34.192928Z",
     "shell.execute_reply": "2022-06-24T18:31:34.191535Z"
    },
    "papermill": {
     "duration": 1855.544782,
     "end_time": "2022-06-24T18:31:34.195798",
     "exception": false,
     "start_time": "2022-06-24T18:00:38.651016",
     "status": "completed"
    },
    "tags": []
   },
   "outputs": [],
   "source": [
    "from sklearn.ensemble import VotingClassifier\n",
    "\n",
    "# The combined model--logistic regression and gradient boosted trees\n",
    "estimators = [('LR_L2', LR_L2), ('GBC', GV_GBC)]\n",
    "\n",
    "# Though it wasn't done here, it is often desirable to train \n",
    "# this model using an additional hold-out data set and/or with cross validation\n",
    "VC = VotingClassifier(estimators, voting='soft')\n",
    "VC = VC.fit(X_train, y_train)"
   ]
  },
  {
   "cell_type": "markdown",
   "id": "975574c0",
   "metadata": {
    "papermill": {
     "duration": 0.012353,
     "end_time": "2022-06-24T18:31:34.221496",
     "exception": false,
     "start_time": "2022-06-24T18:31:34.209143",
     "status": "completed"
    },
    "tags": []
   },
   "source": [
    "Performance for the voting classifier should improve relative to either logistic regression or gradient boosted trees alone. However, the fact that logistic regression does almost as well as gradient boosted trees is an important reminder to try the simplest model first. In some cases, its performance will be good enough.\n"
   ]
  },
  {
   "cell_type": "code",
   "execution_count": 24,
   "id": "e98947f2",
   "metadata": {
    "ExecuteTime": {
     "end_time": "2017-04-10T01:52:24.057613Z",
     "start_time": "2017-04-09T21:52:23.742553-04:00"
    },
    "collapsed": false,
    "execution": {
     "iopub.execute_input": "2022-06-24T18:31:34.248837Z",
     "iopub.status.busy": "2022-06-24T18:31:34.248243Z",
     "iopub.status.idle": "2022-06-24T18:31:34.560240Z",
     "shell.execute_reply": "2022-06-24T18:31:34.559048Z"
    },
    "jupyter": {
     "outputs_hidden": false
    },
    "papermill": {
     "duration": 0.32842,
     "end_time": "2022-06-24T18:31:34.562562",
     "exception": false,
     "start_time": "2022-06-24T18:31:34.234142",
     "status": "completed"
    },
    "tags": []
   },
   "outputs": [
    {
     "name": "stdout",
     "output_type": "stream",
     "text": [
      "              precision    recall  f1-score   support\n",
      "\n",
      "           0       1.00      1.00      1.00       597\n",
      "           1       0.97      0.96      0.97       563\n",
      "           2       0.97      0.97      0.97       547\n",
      "           3       1.00      1.00      1.00       539\n",
      "           4       1.00      0.99      1.00       420\n",
      "           5       0.98      1.00      0.99       424\n",
      "\n",
      "    accuracy                           0.99      3090\n",
      "   macro avg       0.99      0.99      0.99      3090\n",
      "weighted avg       0.99      0.99      0.99      3090\n",
      "\n"
     ]
    }
   ],
   "source": [
    "y_pred = VC.predict(X_test)\n",
    "print(classification_report(y_test, y_pred))"
   ]
  },
  {
   "cell_type": "code",
   "execution_count": 25,
   "id": "70e38588",
   "metadata": {
    "ExecuteTime": {
     "end_time": "2017-04-10T01:52:24.442361Z",
     "start_time": "2017-04-09T21:52:24.059996-04:00"
    },
    "collapsed": false,
    "execution": {
     "iopub.execute_input": "2022-06-24T18:31:34.590395Z",
     "iopub.status.busy": "2022-06-24T18:31:34.589997Z",
     "iopub.status.idle": "2022-06-24T18:31:35.194566Z",
     "shell.execute_reply": "2022-06-24T18:31:35.193525Z"
    },
    "jupyter": {
     "outputs_hidden": false
    },
    "papermill": {
     "duration": 0.621264,
     "end_time": "2022-06-24T18:31:35.196860",
     "exception": false,
     "start_time": "2022-06-24T18:31:34.575596",
     "status": "completed"
    },
    "tags": []
   },
   "outputs": [
    {
     "data": {
      "image/png": "[encoded data removed]",
      "text/plain": [
       "<Figure size 432x288 with 2 Axes>"
      ]
     },
     "metadata": {},
     "output_type": "display_data"
    }
   ],
   "source": [
    "sns.set_context('talk')\n",
    "cm = confusion_matrix(y_test, y_pred)\n",
    "ax = sns.heatmap(cm, annot=True, fmt='d')\n",
    "### END SOLUTION"
   ]
  },
  {
   "cell_type": "markdown",
   "id": "7a52a032",
   "metadata": {
    "papermill": {
     "duration": 0.012798,
     "end_time": "2022-06-24T18:31:35.222585",
     "exception": false,
     "start_time": "2022-06-24T18:31:35.209787",
     "status": "completed"
    },
    "tags": []
   },
   "source": [
    "***\n",
    "\n",
    "### Thank you for completing this lab!\n",
    "\n",
    "## Author\n",
    "\n",
    "<a href=\"https://www.linkedin.com/in/joseph-s-50398b136/?utm_medium=Exinfluencer&utm_source=Exinfluencer&utm_content=000026UJ&utm_term=10006555&utm_id=NA-SkillsNetwork-Channel-SkillsNetworkCoursesIBMDeveloperSkillsNetworkML0101ENSkillsNetwork20718538-2021-01-01\" target=\"_blank\">Joseph Santarcangelo</a>\n",
    "\n",
    "### Other Contributors\n",
    "\n",
    "<a href=\"https://www.linkedin.com/in/richard-ye/?utm_medium=Exinfluencer&utm_source=Exinfluencer&utm_content=000026UJ&utm_term=10006555&utm_id=NA-SkillsNetwork-Channel-SkillsNetworkCoursesIBMDeveloperSkillsNetworkML0101ENSkillsNetwork20718538-2021-01-01\" target=\"_blank\">Richard Ye</a>\n",
    "\n",
    "## Change Log\n",
    "\n",
    "| Date (YYYY-MM-DD) | Version | Changed By           | Change Description                                        |\n",
    "| ----------------- | ------- | -------------------- | --------------------------------------------------------- |\n",
    "| 2022-03-23        | 0.1     | Joseph Santarcangelo | Created Lab Template                                      |\n",
    "| 2022-05-03        | 0.2     | Richard Ye           | Added in estimated time, objectives and table of contents |\n",
    "\n",
    "### Machine Learning Foundation (C) 2020 IBM Corporation\n"
   ]
  }
 ],
 "metadata": {
  "kernelspec": {
   "display_name": "Python 3",
   "language": "python",
   "name": "python3"
  },
  "language_info": {
   "codemirror_mode": {
    "name": "ipython",
    "version": 3
   },
   "file_extension": ".py",
   "mimetype": "text/x-python",
   "name": "python",
   "nbconvert_exporter": "python",
   "pygments_lexer": "ipython3",
   "version": "3.7.12"
  },
  "papermill": {
   "default_parameters": {},
   "duration": 10244.061876,
   "end_time": "2022-06-24T18:31:37.871173",
   "environment_variables": {},
   "exception": null,
   "input_path": "__notebook__.ipynb",
   "output_path": "__notebook__.ipynb",
   "parameters": {},
   "start_time": "2022-06-24T15:40:53.809297",
   "version": "2.3.4"
  }
 },
 "nbformat": 4,
 "nbformat_minor": 5
}
