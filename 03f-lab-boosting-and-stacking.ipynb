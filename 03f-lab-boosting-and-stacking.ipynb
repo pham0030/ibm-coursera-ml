{
 "cells": [
  {
   "cell_type": "markdown",
   "id": "afb55ec2",
   "metadata": {
    "papermill": {
     "duration": 0.014483,
     "end_time": "2022-07-05T07:03:24.454266",
     "exception": false,
     "start_time": "2022-07-05T07:03:24.439783",
     "status": "completed"
    },
    "run_control": {
     "marked": true
    },
    "tags": []
   },
   "source": [
    "<p style=\"text-align:center\">\n",
    "    <a href=\"https://skills.network/?utm_medium=Exinfluencer&utm_source=Exinfluencer&utm_content=000026UJ&utm_term=10006555&utm_id=NA-SkillsNetwork-Channel-SkillsNetworkCoursesIBMML241ENSkillsNetwork31576874-2022-01-01\" target=\"_blank\">\n",
    "    <img src=\"https://cf-courses-data.s3.us.cloud-object-storage.appdomain.cloud/assets/logos/SN_web_lightmode.png\" width=\"200\" alt=\"Skills Network Logo\"  />\n",
    "    </a>\n",
    "</p>\n",
    "\n",
    "# Machine Learning Foundation\n",
    "\n",
    "## Course 3, Part f: Boosting and Stacking LAB\n",
    "\n",
    "Estimated time needed: **45** minutes\n",
    "\n",
    "## Objectives\n",
    "\n",
    "After completing this demo you will be able to:\n",
    "\n",
    "*   Understand how Gradient Boosting helps reduce error\n",
    "*   Identify the benefits of using AdaBoost\n",
    "*   Interpret the benefits of stacking models and comparing their results to boosted models\n"
   ]
  },
  {
   "cell_type": "markdown",
   "id": "fe2ab85f",
   "metadata": {
    "papermill": {
     "duration": 0.012456,
     "end_time": "2022-07-05T07:03:24.479389",
     "exception": false,
     "start_time": "2022-07-05T07:03:24.466933",
     "status": "completed"
    },
    "tags": []
   },
   "source": [
    "<h1>Table of contents</h1>\n",
    "\n",
    "<div class=\"alert alert-block alert-info\" style=\"margin-top: 20px\">\n",
    "    <ol>\n",
    "        <li><a href=\"https://#Q1\">Question 1</a></li>\n",
    "        <li><a href=\"https://#Q2\">Question 2</a></li>\n",
    "        <li><a href=\"https://#Q3\">Question 3</a></li>\n",
    "        <li><a href=\"https://#Q4\">Question 4</a></li>\n",
    "        <li><a href=\"https://#Q5\">Question 5</a></li>\n",
    "        <li><a href=\"https://#Q6\">Question 6</a></li>\n",
    "</div>\n",
    "<br>\n",
    "<hr>\n"
   ]
  },
  {
   "cell_type": "markdown",
   "id": "65326a7b",
   "metadata": {
    "papermill": {
     "duration": 0.012116,
     "end_time": "2022-07-05T07:03:24.504292",
     "exception": false,
     "start_time": "2022-07-05T07:03:24.492176",
     "status": "completed"
    },
    "run_control": {
     "marked": true
    },
    "tags": []
   },
   "source": [
    "## Introduction\n",
    "\n",
    "We will be using the [Human Activity Recognition with Smartphones](https://archive.ics.uci.edu/ml/datasets/Human+Activity+Recognition+Using+Smartphones?utm_medium=Exinfluencer&utm_source=Exinfluencer&utm_content=000026UJ&utm_term=10006555&utm_id=NA-SkillsNetwork-Channel-SkillsNetworkCoursesIBMML241ENSkillsNetwork31576874-2022-01-01) database, which was built from the recordings of study participants performing activities of daily living (ADL) while carrying a smartphone with an embedded inertial sensors. The objective is to classify activities into one of the six activities (walking, walking upstairs, walking downstairs, sitting, standing, and laying) performed.\n",
    "\n",
    "For each record in the dataset it is provided:\n",
    "\n",
    "*   Triaxial acceleration from the accelerometer (total acceleration) and the estimated body acceleration.\n",
    "*   Triaxial angular velocity from the gyroscope.\n",
    "*   A 561-feature vector with time and frequency domain variables.\n",
    "*   Its activity label.\n",
    "\n",
    "More information about the features is available on the website shown above.\n"
   ]
  },
  {
   "cell_type": "code",
   "execution_count": 1,
   "id": "6b3830cf",
   "metadata": {
    "ExecuteTime": {
     "end_time": "2017-04-10T01:06:43.840071Z",
     "start_time": "2017-04-10T01:06:43.833258+00:00"
    },
    "execution": {
     "iopub.execute_input": "2022-07-05T07:03:24.534614Z",
     "iopub.status.busy": "2022-07-05T07:03:24.533566Z",
     "iopub.status.idle": "2022-07-05T07:03:25.689795Z",
     "shell.execute_reply": "2022-07-05T07:03:25.688716Z"
    },
    "papermill": {
     "duration": 1.175885,
     "end_time": "2022-07-05T07:03:25.692529",
     "exception": false,
     "start_time": "2022-07-05T07:03:24.516644",
     "status": "completed"
    },
    "run_control": {
     "marked": true
    },
    "tags": []
   },
   "outputs": [],
   "source": [
    "def warn(*args, **kwargs):\n",
    "    pass\n",
    "import warnings\n",
    "warnings.warn = warn\n",
    "\n",
    "import seaborn as sns, pandas as pd, numpy as np"
   ]
  },
  {
   "cell_type": "markdown",
   "id": "f6d8a8bd",
   "metadata": {
    "papermill": {
     "duration": 0.012556,
     "end_time": "2022-07-05T07:03:25.717997",
     "exception": false,
     "start_time": "2022-07-05T07:03:25.705441",
     "status": "completed"
    },
    "run_control": {
     "marked": true
    },
    "tags": []
   },
   "source": [
    "<h2 id=\"Q1\">Question 1</h2>\n",
    "\n",
    "*   Import the data from the file `Human_Activity_Recognition_Using_Smartphones_Data.csv` and examine the shape and data types. For the data types, there will be too many to list each column separately. Rather, aggregate the types by count.\n",
    "*   Determine if the float columns need to be scaled.\n"
   ]
  },
  {
   "cell_type": "code",
   "execution_count": 2,
   "id": "efd3f47a",
   "metadata": {
    "ExecuteTime": {
     "end_time": "2017-04-10T01:06:46.240918Z",
     "start_time": "2017-04-10T01:06:43.842607+00:00"
    },
    "execution": {
     "iopub.execute_input": "2022-07-05T07:03:25.745288Z",
     "iopub.status.busy": "2022-07-05T07:03:25.744576Z",
     "iopub.status.idle": "2022-07-05T07:03:33.395793Z",
     "shell.execute_reply": "2022-07-05T07:03:33.394731Z"
    },
    "papermill": {
     "duration": 7.668077,
     "end_time": "2022-07-05T07:03:33.398619",
     "exception": false,
     "start_time": "2022-07-05T07:03:25.730542",
     "status": "completed"
    },
    "run_control": {
     "marked": true
    },
    "tags": []
   },
   "outputs": [],
   "source": [
    "### BEGIN SOLUTION\n",
    "data = pd.read_csv(\"https://cf-courses-data.s3.us.cloud-object-storage.appdomain.cloud/IBM-ML241EN-SkillsNetwork/labs/datasets/Human_Activity_Recognition_Using_Smartphones_Data.csv\", sep=',')"
   ]
  },
  {
   "cell_type": "markdown",
   "id": "b7839de3",
   "metadata": {
    "papermill": {
     "duration": 0.01223,
     "end_time": "2022-07-05T07:03:33.423739",
     "exception": false,
     "start_time": "2022-07-05T07:03:33.411509",
     "status": "completed"
    },
    "run_control": {
     "marked": true
    },
    "tags": []
   },
   "source": [
    "The data has quite a few predictor columns.\n"
   ]
  },
  {
   "cell_type": "code",
   "execution_count": 3,
   "id": "67d393ff",
   "metadata": {
    "ExecuteTime": {
     "end_time": "2017-04-10T01:06:46.257618Z",
     "start_time": "2017-04-10T01:06:46.243291+00:00"
    },
    "collapsed": false,
    "execution": {
     "iopub.execute_input": "2022-07-05T07:03:33.450579Z",
     "iopub.status.busy": "2022-07-05T07:03:33.450202Z",
     "iopub.status.idle": "2022-07-05T07:03:33.459093Z",
     "shell.execute_reply": "2022-07-05T07:03:33.457986Z"
    },
    "jupyter": {
     "outputs_hidden": false
    },
    "papermill": {
     "duration": 0.025995,
     "end_time": "2022-07-05T07:03:33.462214",
     "exception": false,
     "start_time": "2022-07-05T07:03:33.436219",
     "status": "completed"
    },
    "run_control": {
     "marked": true
    },
    "tags": []
   },
   "outputs": [
    {
     "data": {
      "text/plain": [
       "(10299, 562)"
      ]
     },
     "execution_count": 3,
     "metadata": {},
     "output_type": "execute_result"
    }
   ],
   "source": [
    "data.shape"
   ]
  },
  {
   "cell_type": "markdown",
   "id": "d842d651",
   "metadata": {
    "papermill": {
     "duration": 0.012115,
     "end_time": "2022-07-05T07:03:33.487108",
     "exception": false,
     "start_time": "2022-07-05T07:03:33.474993",
     "status": "completed"
    },
    "run_control": {
     "marked": true
    },
    "tags": []
   },
   "source": [
    "And they're all float values. The only non-float is the categories column, which is being predicted.\n"
   ]
  },
  {
   "cell_type": "code",
   "execution_count": 4,
   "id": "b42cf137",
   "metadata": {
    "ExecuteTime": {
     "end_time": "2017-04-10T01:06:46.310075Z",
     "start_time": "2017-04-10T01:06:46.260274+00:00"
    },
    "collapsed": false,
    "execution": {
     "iopub.execute_input": "2022-07-05T07:03:33.514462Z",
     "iopub.status.busy": "2022-07-05T07:03:33.513424Z",
     "iopub.status.idle": "2022-07-05T07:03:33.529071Z",
     "shell.execute_reply": "2022-07-05T07:03:33.528025Z"
    },
    "jupyter": {
     "outputs_hidden": false
    },
    "papermill": {
     "duration": 0.031708,
     "end_time": "2022-07-05T07:03:33.531288",
     "exception": false,
     "start_time": "2022-07-05T07:03:33.499580",
     "status": "completed"
    },
    "run_control": {
     "marked": true
    },
    "tags": []
   },
   "outputs": [
    {
     "data": {
      "text/plain": [
       "float64    561\n",
       "object       1\n",
       "dtype: int64"
      ]
     },
     "execution_count": 4,
     "metadata": {},
     "output_type": "execute_result"
    }
   ],
   "source": [
    "data.dtypes.value_counts()"
   ]
  },
  {
   "cell_type": "markdown",
   "id": "2555998d",
   "metadata": {
    "papermill": {
     "duration": 0.012287,
     "end_time": "2022-07-05T07:03:33.556376",
     "exception": false,
     "start_time": "2022-07-05T07:03:33.544089",
     "status": "completed"
    },
    "run_control": {
     "marked": true
    },
    "tags": []
   },
   "source": [
    "The minimum and maximum value for the float columns is -1.0 and 1.0, respectively. However, scaling is never required for tree-based methods.\n"
   ]
  },
  {
   "cell_type": "code",
   "execution_count": 5,
   "id": "df27da45",
   "metadata": {
    "ExecuteTime": {
     "end_time": "2017-04-10T01:06:46.596533Z",
     "start_time": "2017-04-10T01:06:46.314312+00:00"
    },
    "collapsed": false,
    "execution": {
     "iopub.execute_input": "2022-07-05T07:03:33.583731Z",
     "iopub.status.busy": "2022-07-05T07:03:33.582733Z",
     "iopub.status.idle": "2022-07-05T07:03:33.662270Z",
     "shell.execute_reply": "2022-07-05T07:03:33.660901Z"
    },
    "jupyter": {
     "outputs_hidden": false
    },
    "papermill": {
     "duration": 0.095584,
     "end_time": "2022-07-05T07:03:33.664468",
     "exception": false,
     "start_time": "2022-07-05T07:03:33.568884",
     "status": "completed"
    },
    "run_control": {
     "marked": true
    },
    "tags": []
   },
   "outputs": [
    {
     "name": "stdout",
     "output_type": "stream",
     "text": [
      "True\n",
      "True\n"
     ]
    }
   ],
   "source": [
    "# Mask to select float columns\n",
    "float_columns = (data.dtypes == np.float)\n",
    "\n",
    "# Verify that the maximum of all float columns is 1.0\n",
    "print( (data.loc[:,float_columns].max()==1.0).all() )\n",
    "\n",
    "# Verify that the minimum of all float columns is -1.0\n",
    "print( (data.loc[:,float_columns].min()==-1.0).all() )\n",
    "### END SOLUTION"
   ]
  },
  {
   "cell_type": "markdown",
   "id": "54adb938",
   "metadata": {
    "papermill": {
     "duration": 0.012388,
     "end_time": "2022-07-05T07:03:33.689657",
     "exception": false,
     "start_time": "2022-07-05T07:03:33.677269",
     "status": "completed"
    },
    "run_control": {
     "marked": true
    },
    "tags": []
   },
   "source": [
    "<h2 id=\"Q2\">Question 2</h2>\n",
    "\n",
    "*   Integer encode the activities.\n",
    "*   Split the data into train and test data sets. Decide if the data will be stratified or not during the train/test split.\n"
   ]
  },
  {
   "cell_type": "code",
   "execution_count": 6,
   "id": "01b60204",
   "metadata": {
    "ExecuteTime": {
     "end_time": "2017-04-10T01:06:47.046807Z",
     "start_time": "2017-04-10T01:06:46.600558+00:00"
    },
    "collapsed": false,
    "execution": {
     "iopub.execute_input": "2022-07-05T07:03:33.718067Z",
     "iopub.status.busy": "2022-07-05T07:03:33.717419Z",
     "iopub.status.idle": "2022-07-05T07:03:33.856160Z",
     "shell.execute_reply": "2022-07-05T07:03:33.855347Z"
    },
    "jupyter": {
     "outputs_hidden": false
    },
    "papermill": {
     "duration": 0.155552,
     "end_time": "2022-07-05T07:03:33.858432",
     "exception": false,
     "start_time": "2022-07-05T07:03:33.702880",
     "status": "completed"
    },
    "run_control": {
     "marked": true
    },
    "tags": []
   },
   "outputs": [
    {
     "data": {
      "text/plain": [
       "array(['LAYING', 'SITTING', 'STANDING', 'WALKING', 'WALKING_DOWNSTAIRS',\n",
       "       'WALKING_UPSTAIRS'], dtype=object)"
      ]
     },
     "execution_count": 6,
     "metadata": {},
     "output_type": "execute_result"
    }
   ],
   "source": [
    "### BEGIN SOLUTION\n",
    "from sklearn.preprocessing import LabelEncoder\n",
    "\n",
    "le = LabelEncoder()\n",
    "\n",
    "data['Activity'] = le.fit_transform(data['Activity'])\n",
    "\n",
    "le.classes_"
   ]
  },
  {
   "cell_type": "code",
   "execution_count": 7,
   "id": "b017fcec",
   "metadata": {
    "ExecuteTime": {
     "end_time": "2017-04-10T01:06:47.053951Z",
     "start_time": "2017-04-10T01:06:47.04889+00:00"
    },
    "collapsed": false,
    "execution": {
     "iopub.execute_input": "2022-07-05T07:03:33.886419Z",
     "iopub.status.busy": "2022-07-05T07:03:33.885679Z",
     "iopub.status.idle": "2022-07-05T07:03:33.894080Z",
     "shell.execute_reply": "2022-07-05T07:03:33.893051Z"
    },
    "jupyter": {
     "outputs_hidden": false
    },
    "papermill": {
     "duration": 0.02495,
     "end_time": "2022-07-05T07:03:33.896409",
     "exception": false,
     "start_time": "2022-07-05T07:03:33.871459",
     "status": "completed"
    },
    "run_control": {
     "marked": true
    },
    "tags": []
   },
   "outputs": [
    {
     "data": {
      "text/plain": [
       "array([2, 1, 0, 3, 4, 5])"
      ]
     },
     "execution_count": 7,
     "metadata": {},
     "output_type": "execute_result"
    }
   ],
   "source": [
    "data.Activity.unique()"
   ]
  },
  {
   "cell_type": "markdown",
   "id": "89e8f56b",
   "metadata": {
    "papermill": {
     "duration": 0.012644,
     "end_time": "2022-07-05T07:03:33.922244",
     "exception": false,
     "start_time": "2022-07-05T07:03:33.909600",
     "status": "completed"
    },
    "run_control": {
     "marked": true
    },
    "tags": []
   },
   "source": [
    "**NOTE**: We are about to create training and test sets from `data`. On those datasets, we are going to run grid searches over many choices of parameters. This can take some time. In order to shorten the grid search time, feel free to downsample `data` and create `X_train, X_test, y_train, y_test` from the downsampled dataset.\n",
    "\n",
    "Now split the data into train and test data sets. A stratified split was not used here. If there are issues with any of the error metrics on the test set, it can be a good idea to start model fitting over using a stratified split. Boosting is a pretty powerful model, though, so it may not be necessary in this case.\n"
   ]
  },
  {
   "cell_type": "code",
   "execution_count": 8,
   "id": "1db01bea",
   "metadata": {
    "ExecuteTime": {
     "end_time": "2017-04-10T01:06:47.155794Z",
     "start_time": "2017-04-10T01:06:47.055576+00:00"
    },
    "execution": {
     "iopub.execute_input": "2022-07-05T07:03:33.950262Z",
     "iopub.status.busy": "2022-07-05T07:03:33.949881Z",
     "iopub.status.idle": "2022-07-05T07:03:34.052892Z",
     "shell.execute_reply": "2022-07-05T07:03:34.051648Z"
    },
    "papermill": {
     "duration": 0.12015,
     "end_time": "2022-07-05T07:03:34.055701",
     "exception": false,
     "start_time": "2022-07-05T07:03:33.935551",
     "status": "completed"
    },
    "run_control": {
     "marked": true
    },
    "tags": []
   },
   "outputs": [],
   "source": [
    "from sklearn.model_selection import train_test_split\n",
    "\n",
    "# Alternatively, we could stratify the categories in the split, as was done previously\n",
    "feature_columns = [x for x in data.columns if x != 'Activity']\n",
    "\n",
    "X_train, X_test, y_train, y_test = train_test_split(data[feature_columns], data['Activity'],\n",
    "                 test_size=0.3, random_state=42)\n"
   ]
  },
  {
   "cell_type": "code",
   "execution_count": 9,
   "id": "640a4dbd",
   "metadata": {
    "ExecuteTime": {
     "end_time": "2017-04-10T01:06:47.170296Z",
     "start_time": "2017-04-10T01:06:47.15771+00:00"
    },
    "collapsed": false,
    "execution": {
     "iopub.execute_input": "2022-07-05T07:03:34.084120Z",
     "iopub.status.busy": "2022-07-05T07:03:34.083284Z",
     "iopub.status.idle": "2022-07-05T07:03:34.090368Z",
     "shell.execute_reply": "2022-07-05T07:03:34.089311Z"
    },
    "jupyter": {
     "outputs_hidden": false
    },
    "papermill": {
     "duration": 0.024042,
     "end_time": "2022-07-05T07:03:34.092941",
     "exception": false,
     "start_time": "2022-07-05T07:03:34.068899",
     "status": "completed"
    },
    "run_control": {
     "marked": true
    },
    "tags": []
   },
   "outputs": [
    {
     "data": {
      "text/plain": [
       "((7209, 561), (7209,), (3090, 561), (3090,))"
      ]
     },
     "execution_count": 9,
     "metadata": {},
     "output_type": "execute_result"
    }
   ],
   "source": [
    "X_train.shape, y_train.shape, X_test.shape, y_test.shape\n",
    "### END SOLUTION"
   ]
  },
  {
   "cell_type": "markdown",
   "id": "bf2d59b7",
   "metadata": {
    "papermill": {
     "duration": 0.013028,
     "end_time": "2022-07-05T07:03:34.119656",
     "exception": false,
     "start_time": "2022-07-05T07:03:34.106628",
     "status": "completed"
    },
    "run_control": {
     "marked": true
    },
    "tags": []
   },
   "source": [
    "<h2 id=\"Q3\">Question 3</h2>\n",
    "\n",
    "*   Fit gradient boosted tree models with all parameters set to their defaults with the following tree numbers (`n_estimators = [15, 25, 50, 100, 200, 400]`) and evaluate the accuracy on the test data for each of these models.\n",
    "*   Plot the accuracy as a function of estimator number.\n",
    "\n",
    "*Note:* there is no out-of-bag error for boosted models. And the `warm_flag=True` setting has a bug in the gradient boosted model, so don't use it. Simply create the model inside the `for` loop and set the number of estimators at this time. This will make the fitting take a little longer. Additionally, boosting models tend to take longer to fit than bagged ones because the decision stumps must be fit successively.\n"
   ]
  },
  {
   "cell_type": "code",
   "execution_count": 10,
   "id": "6e394a32",
   "metadata": {
    "ExecuteTime": {
     "end_time": "2017-04-10T01:25:21.780609Z",
     "start_time": "2017-04-10T01:06:47.175316+00:00"
    },
    "collapsed": false,
    "execution": {
     "iopub.execute_input": "2022-07-05T07:03:34.148570Z",
     "iopub.status.busy": "2022-07-05T07:03:34.147491Z",
     "iopub.status.idle": "2022-07-05T08:38:13.856208Z",
     "shell.execute_reply": "2022-07-05T08:38:13.855049Z"
    },
    "jupyter": {
     "outputs_hidden": false
    },
    "papermill": {
     "duration": 5679.739324,
     "end_time": "2022-07-05T08:38:13.872191",
     "exception": false,
     "start_time": "2022-07-05T07:03:34.132867",
     "status": "completed"
    },
    "run_control": {
     "marked": true
    },
    "tags": []
   },
   "outputs": [
    {
     "name": "stdout",
     "output_type": "stream",
     "text": [
      "Fitting model with 15 trees\n",
      "Fitting model with 25 trees\n",
      "Fitting model with 50 trees\n",
      "Fitting model with 100 trees\n",
      "Fitting model with 200 trees\n",
      "Fitting model with 400 trees\n"
     ]
    },
    {
     "data": {
      "text/html": [
       "<div>\n",
       "<style scoped>\n",
       "    .dataframe tbody tr th:only-of-type {\n",
       "        vertical-align: middle;\n",
       "    }\n",
       "\n",
       "    .dataframe tbody tr th {\n",
       "        vertical-align: top;\n",
       "    }\n",
       "\n",
       "    .dataframe thead th {\n",
       "        text-align: right;\n",
       "    }\n",
       "</style>\n",
       "<table border=\"1\" class=\"dataframe\">\n",
       "  <thead>\n",
       "    <tr style=\"text-align: right;\">\n",
       "      <th></th>\n",
       "      <th>error</th>\n",
       "    </tr>\n",
       "    <tr>\n",
       "      <th>n_trees</th>\n",
       "      <th></th>\n",
       "    </tr>\n",
       "  </thead>\n",
       "  <tbody>\n",
       "    <tr>\n",
       "      <th>15.0</th>\n",
       "      <td>0.051133</td>\n",
       "    </tr>\n",
       "    <tr>\n",
       "      <th>25.0</th>\n",
       "      <td>0.033981</td>\n",
       "    </tr>\n",
       "    <tr>\n",
       "      <th>50.0</th>\n",
       "      <td>0.019741</td>\n",
       "    </tr>\n",
       "    <tr>\n",
       "      <th>100.0</th>\n",
       "      <td>0.013592</td>\n",
       "    </tr>\n",
       "    <tr>\n",
       "      <th>200.0</th>\n",
       "      <td>0.011003</td>\n",
       "    </tr>\n",
       "    <tr>\n",
       "      <th>400.0</th>\n",
       "      <td>0.010356</td>\n",
       "    </tr>\n",
       "  </tbody>\n",
       "</table>\n",
       "</div>"
      ],
      "text/plain": [
       "            error\n",
       "n_trees          \n",
       "15.0     0.051133\n",
       "25.0     0.033981\n",
       "50.0     0.019741\n",
       "100.0    0.013592\n",
       "200.0    0.011003\n",
       "400.0    0.010356"
      ]
     },
     "execution_count": 10,
     "metadata": {},
     "output_type": "execute_result"
    }
   ],
   "source": [
    "### BEGIN SOLUTION\n",
    "from sklearn.ensemble import GradientBoostingClassifier\n",
    "from sklearn.metrics import accuracy_score\n",
    "\n",
    "error_list = list()\n",
    "\n",
    "# Iterate through various possibilities for number of trees\n",
    "tree_list = [15, 25, 50, 100, 200, 400]\n",
    "for n_trees in tree_list:\n",
    "    \n",
    "    # Initialize the gradient boost classifier\n",
    "    GBC = GradientBoostingClassifier(n_estimators=n_trees, random_state=42)\n",
    "\n",
    "    # Fit the model\n",
    "    print(f'Fitting model with {n_trees} trees')\n",
    "    GBC.fit(X_train.values, y_train.values)\n",
    "    y_pred = GBC.predict(X_test)\n",
    "\n",
    "    # Get the error\n",
    "    error = 1.0 - accuracy_score(y_test, y_pred)\n",
    "    \n",
    "    # Store it\n",
    "    error_list.append(pd.Series({'n_trees': n_trees, 'error': error}))\n",
    "\n",
    "error_df = pd.concat(error_list, axis=1).T.set_index('n_trees')\n",
    "\n",
    "error_df"
   ]
  },
  {
   "cell_type": "markdown",
   "id": "4181fb8b",
   "metadata": {
    "papermill": {
     "duration": 0.013968,
     "end_time": "2022-07-05T08:38:13.900136",
     "exception": false,
     "start_time": "2022-07-05T08:38:13.886168",
     "status": "completed"
    },
    "tags": []
   },
   "source": [
    "Now plot the result.\n"
   ]
  },
  {
   "cell_type": "code",
   "execution_count": 11,
   "id": "ba78e981",
   "metadata": {
    "ExecuteTime": {
     "end_time": "2017-04-10T01:25:22.377634Z",
     "start_time": "2017-04-10T01:25:22.121923+00:00"
    },
    "collapsed": false,
    "execution": {
     "iopub.execute_input": "2022-07-05T08:38:13.930766Z",
     "iopub.status.busy": "2022-07-05T08:38:13.930388Z",
     "iopub.status.idle": "2022-07-05T08:38:14.225905Z",
     "shell.execute_reply": "2022-07-05T08:38:14.224875Z"
    },
    "jupyter": {
     "outputs_hidden": false
    },
    "papermill": {
     "duration": 0.314065,
     "end_time": "2022-07-05T08:38:14.228578",
     "exception": false,
     "start_time": "2022-07-05T08:38:13.914513",
     "status": "completed"
    },
    "run_control": {
     "marked": true
    },
    "tags": []
   },
   "outputs": [
    {
     "data": {
      "image/png": "[encoded data removed]",
      "text/plain": [
       "<Figure size 864x576 with 1 Axes>"
      ]
     },
     "metadata": {},
     "output_type": "display_data"
    }
   ],
   "source": [
    "sns.set_context('talk')\n",
    "sns.set_style('white')\n",
    "\n",
    "# Create the plot\n",
    "ax = error_df.plot(marker='o', figsize=(12, 8), linewidth=5)\n",
    "\n",
    "# Set parameters\n",
    "ax.set(xlabel='Number of Trees', ylabel='Error')\n",
    "ax.set_xlim(0, max(error_df.index)*1.1);\n",
    "### END SOLUTION"
   ]
  },
  {
   "cell_type": "markdown",
   "id": "efda333c",
   "metadata": {
    "papermill": {
     "duration": 0.014214,
     "end_time": "2022-07-05T08:38:14.258006",
     "exception": false,
     "start_time": "2022-07-05T08:38:14.243792",
     "status": "completed"
    },
    "run_control": {
     "marked": true
    },
    "tags": []
   },
   "source": [
    "<h2 id=\"Q4\">Question 4</h2>\n",
    "\n",
    "*   Using a grid search with cross-validation, fit a new gradient boosted classifier with the same list of estimators as question 3. Also try varying the learning rates (0.1, 0.01, 0.001, etc.), the subsampling value (1.0 or 0.5), and the number of maximum features (1, 2, etc.).\n",
    "*   Examine the parameters of the best fit model.\n",
    "*   Calculate relevant error metrics on this model and examine the confusion matrix.\n"
   ]
  },
  {
   "cell_type": "code",
   "execution_count": 12,
   "id": "b954ecaa",
   "metadata": {
    "ExecuteTime": {
     "end_time": "2017-04-10T01:35:23.346693Z",
     "start_time": "2017-04-10T01:25:22.379244+00:00"
    },
    "execution": {
     "iopub.execute_input": "2022-07-05T08:38:14.290112Z",
     "iopub.status.busy": "2022-07-05T08:38:14.289748Z",
     "iopub.status.idle": "2022-07-05T09:10:11.938715Z",
     "shell.execute_reply": "2022-07-05T09:10:11.937295Z"
    },
    "papermill": {
     "duration": 1917.668805,
     "end_time": "2022-07-05T09:10:11.941659",
     "exception": false,
     "start_time": "2022-07-05T08:38:14.272854",
     "status": "completed"
    },
    "run_control": {
     "marked": true
    },
    "tags": []
   },
   "outputs": [],
   "source": [
    "### BEGIN SOLUTION\n",
    "from sklearn.model_selection import GridSearchCV\n",
    "\n",
    "# The parameters to be fit\n",
    "param_grid = {'n_estimators': tree_list,\n",
    "              'learning_rate': [0.1, 0.01, 0.001, 0.0001],\n",
    "              'subsample': [1.0, 0.5],\n",
    "              'max_features': [1, 2, 3, 4]}\n",
    "\n",
    "# The grid search object\n",
    "GV_GBC = GridSearchCV(GradientBoostingClassifier(random_state=42), \n",
    "                      param_grid=param_grid, \n",
    "                      scoring='accuracy',\n",
    "                      n_jobs=-1)\n",
    "\n",
    "# Do the grid search\n",
    "GV_GBC = GV_GBC.fit(X_train, y_train)"
   ]
  },
  {
   "cell_type": "code",
   "execution_count": 13,
   "id": "f1527b92",
   "metadata": {
    "ExecuteTime": {
     "end_time": "2017-04-10T01:35:23.35916Z",
     "start_time": "2017-04-10T01:35:23.35035+00:00"
    },
    "collapsed": false,
    "execution": {
     "iopub.execute_input": "2022-07-05T09:10:11.973699Z",
     "iopub.status.busy": "2022-07-05T09:10:11.973311Z",
     "iopub.status.idle": "2022-07-05T09:10:11.983179Z",
     "shell.execute_reply": "2022-07-05T09:10:11.982012Z"
    },
    "jupyter": {
     "outputs_hidden": false
    },
    "papermill": {
     "duration": 0.028596,
     "end_time": "2022-07-05T09:10:11.985551",
     "exception": false,
     "start_time": "2022-07-05T09:10:11.956955",
     "status": "completed"
    },
    "tags": []
   },
   "outputs": [
    {
     "data": {
      "text/plain": [
       "GradientBoostingClassifier(max_features=4, n_estimators=400, random_state=42,\n",
       "                           subsample=0.5)"
      ]
     },
     "execution_count": 13,
     "metadata": {},
     "output_type": "execute_result"
    }
   ],
   "source": [
    "# The best model\n",
    "GV_GBC.best_estimator_"
   ]
  },
  {
   "cell_type": "markdown",
   "id": "5be3b0bd",
   "metadata": {
    "papermill": {
     "duration": 0.014571,
     "end_time": "2022-07-05T09:10:12.015024",
     "exception": false,
     "start_time": "2022-07-05T09:10:12.000453",
     "status": "completed"
    },
    "tags": []
   },
   "source": [
    "The error metrics. Classification report is particularly convenient for multi-class cases.\n"
   ]
  },
  {
   "cell_type": "code",
   "execution_count": 14,
   "id": "334f8bfe",
   "metadata": {
    "ExecuteTime": {
     "end_time": "2017-04-10T01:35:23.67308Z",
     "start_time": "2017-04-10T01:35:23.361883+00:00"
    },
    "collapsed": false,
    "execution": {
     "iopub.execute_input": "2022-07-05T09:10:12.047404Z",
     "iopub.status.busy": "2022-07-05T09:10:12.047003Z",
     "iopub.status.idle": "2022-07-05T09:10:12.259748Z",
     "shell.execute_reply": "2022-07-05T09:10:12.258480Z"
    },
    "jupyter": {
     "outputs_hidden": false
    },
    "papermill": {
     "duration": 0.232061,
     "end_time": "2022-07-05T09:10:12.262283",
     "exception": false,
     "start_time": "2022-07-05T09:10:12.030222",
     "status": "completed"
    },
    "tags": []
   },
   "outputs": [
    {
     "name": "stdout",
     "output_type": "stream",
     "text": [
      "              precision    recall  f1-score   support\n",
      "\n",
      "           0       1.00      1.00      1.00       597\n",
      "           1       0.97      0.97      0.97       560\n",
      "           2       0.97      0.97      0.97       547\n",
      "           3       1.00      1.00      1.00       539\n",
      "           4       0.99      1.00      1.00       418\n",
      "           5       1.00      0.98      0.99       429\n",
      "\n",
      "    accuracy                           0.99      3090\n",
      "   macro avg       0.99      0.99      0.99      3090\n",
      "weighted avg       0.99      0.99      0.99      3090\n",
      "\n"
     ]
    }
   ],
   "source": [
    "from sklearn.metrics import classification_report\n",
    "\n",
    "y_pred = GV_GBC.predict(X_test)\n",
    "print(classification_report(y_pred, y_test))"
   ]
  },
  {
   "cell_type": "markdown",
   "id": "ca2166a5",
   "metadata": {
    "papermill": {
     "duration": 0.014587,
     "end_time": "2022-07-05T09:10:12.291894",
     "exception": false,
     "start_time": "2022-07-05T09:10:12.277307",
     "status": "completed"
    },
    "tags": []
   },
   "source": [
    "The confusion matrix. Note that the gradient boosted model has a little trouble distinguishing between activity class 1 and 2.\n"
   ]
  },
  {
   "cell_type": "code",
   "execution_count": 15,
   "id": "5c851f62",
   "metadata": {
    "ExecuteTime": {
     "end_time": "2017-04-10T01:35:24.08443Z",
     "start_time": "2017-04-10T01:35:23.675399+00:00"
    },
    "collapsed": false,
    "execution": {
     "iopub.execute_input": "2022-07-05T09:10:12.323947Z",
     "iopub.status.busy": "2022-07-05T09:10:12.323550Z",
     "iopub.status.idle": "2022-07-05T09:10:12.692352Z",
     "shell.execute_reply": "2022-07-05T09:10:12.691117Z"
    },
    "jupyter": {
     "outputs_hidden": false
    },
    "papermill": {
     "duration": 0.387692,
     "end_time": "2022-07-05T09:10:12.694968",
     "exception": false,
     "start_time": "2022-07-05T09:10:12.307276",
     "status": "completed"
    },
    "tags": []
   },
   "outputs": [
    {
     "data": {
      "image/png": "[encoded data removed]",
      "text/plain": [
       "<Figure size 432x288 with 2 Axes>"
      ]
     },
     "metadata": {},
     "output_type": "display_data"
    }
   ],
   "source": [
    "from sklearn.metrics import confusion_matrix\n",
    "\n",
    "sns.set_context('talk')\n",
    "cm = confusion_matrix(y_test, y_pred)\n",
    "ax = sns.heatmap(cm, annot=True, fmt='d')\n",
    "### END SOLUTION"
   ]
  },
  {
   "cell_type": "markdown",
   "id": "896da09b",
   "metadata": {
    "papermill": {
     "duration": 0.015059,
     "end_time": "2022-07-05T09:10:12.725962",
     "exception": false,
     "start_time": "2022-07-05T09:10:12.710903",
     "status": "completed"
    },
    "tags": []
   },
   "source": [
    "<h2 id=\"Q5\">Question 5</h2>\n",
    "\n",
    "*   Create an AdaBoost model and fit it using grid search, much like question 4. Try a range of estimators between 100 and 200.\n",
    "*   Compare the errors from AdaBoost to those from the GradientBoostedClassifier.\n"
   ]
  },
  {
   "cell_type": "code",
   "execution_count": 16,
   "id": "f12a64ab",
   "metadata": {
    "ExecuteTime": {
     "end_time": "2017-04-10T01:41:12.569486Z",
     "start_time": "2017-04-10T01:35:24.086016+00:00"
    },
    "execution": {
     "iopub.execute_input": "2022-07-05T09:10:12.759708Z",
     "iopub.status.busy": "2022-07-05T09:10:12.759339Z",
     "iopub.status.idle": "2022-07-05T09:22:51.737384Z",
     "shell.execute_reply": "2022-07-05T09:22:51.736400Z"
    },
    "papermill": {
     "duration": 758.997928,
     "end_time": "2022-07-05T09:22:51.740218",
     "exception": false,
     "start_time": "2022-07-05T09:10:12.742290",
     "status": "completed"
    },
    "tags": []
   },
   "outputs": [],
   "source": [
    "### BEGIN SOLUTION\n",
    "from sklearn.ensemble import AdaBoostClassifier\n",
    "from sklearn.tree import DecisionTreeClassifier\n",
    "\n",
    "ABC = AdaBoostClassifier(DecisionTreeClassifier(max_depth=1))\n",
    "\n",
    "param_grid = {'n_estimators': [100, 150, 200],\n",
    "              'learning_rate': [0.01, 0.001]}\n",
    "\n",
    "GV_ABC = GridSearchCV(ABC,\n",
    "                      param_grid=param_grid, \n",
    "                      scoring='accuracy',\n",
    "                      n_jobs=-1)\n",
    "\n",
    "GV_ABC = GV_ABC.fit(X_train, y_train)"
   ]
  },
  {
   "cell_type": "markdown",
   "id": "5d22d756",
   "metadata": {
    "papermill": {
     "duration": 0.015367,
     "end_time": "2022-07-05T09:22:51.771594",
     "exception": false,
     "start_time": "2022-07-05T09:22:51.756227",
     "status": "completed"
    },
    "tags": []
   },
   "source": [
    "The best model.\n"
   ]
  },
  {
   "cell_type": "code",
   "execution_count": 17,
   "id": "f782de5c",
   "metadata": {
    "ExecuteTime": {
     "end_time": "2017-04-10T01:41:12.577054Z",
     "start_time": "2017-04-10T01:41:12.571918+00:00"
    },
    "collapsed": false,
    "execution": {
     "iopub.execute_input": "2022-07-05T09:22:51.804975Z",
     "iopub.status.busy": "2022-07-05T09:22:51.804614Z",
     "iopub.status.idle": "2022-07-05T09:22:51.811529Z",
     "shell.execute_reply": "2022-07-05T09:22:51.810511Z"
    },
    "jupyter": {
     "outputs_hidden": false
    },
    "papermill": {
     "duration": 0.026185,
     "end_time": "2022-07-05T09:22:51.813689",
     "exception": false,
     "start_time": "2022-07-05T09:22:51.787504",
     "status": "completed"
    },
    "tags": []
   },
   "outputs": [
    {
     "data": {
      "text/plain": [
       "AdaBoostClassifier(base_estimator=DecisionTreeClassifier(max_depth=1),\n",
       "                   learning_rate=0.01, n_estimators=100)"
      ]
     },
     "execution_count": 17,
     "metadata": {},
     "output_type": "execute_result"
    }
   ],
   "source": [
    "# The best model\n",
    "GV_ABC.best_estimator_"
   ]
  },
  {
   "cell_type": "markdown",
   "id": "8468fb18",
   "metadata": {
    "papermill": {
     "duration": 0.015907,
     "end_time": "2022-07-05T09:22:51.845377",
     "exception": false,
     "start_time": "2022-07-05T09:22:51.829470",
     "status": "completed"
    },
    "tags": []
   },
   "source": [
    "The error metrics. Note that the issues with class 1 and 2 appear to have become more problematic. Also note other issues for classes 3 - 5. AdaBoost is very sensitive to outliers, so that could be the problem here.\n"
   ]
  },
  {
   "cell_type": "code",
   "execution_count": 18,
   "id": "fc7f79a6",
   "metadata": {
    "ExecuteTime": {
     "end_time": "2017-04-10T01:41:12.694494Z",
     "start_time": "2017-04-10T01:41:12.57998+00:00"
    },
    "collapsed": false,
    "execution": {
     "iopub.execute_input": "2022-07-05T09:22:51.879445Z",
     "iopub.status.busy": "2022-07-05T09:22:51.879012Z",
     "iopub.status.idle": "2022-07-05T09:22:52.274052Z",
     "shell.execute_reply": "2022-07-05T09:22:52.273300Z"
    },
    "jupyter": {
     "outputs_hidden": false
    },
    "papermill": {
     "duration": 0.41471,
     "end_time": "2022-07-05T09:22:52.276445",
     "exception": false,
     "start_time": "2022-07-05T09:22:51.861735",
     "status": "completed"
    },
    "tags": []
   },
   "outputs": [
    {
     "name": "stdout",
     "output_type": "stream",
     "text": [
      "              precision    recall  f1-score   support\n",
      "\n",
      "           0       1.00      1.00      1.00       598\n",
      "           1       0.00      1.00      0.00         1\n",
      "           2       1.00      0.49      0.66      1108\n",
      "           3       0.92      0.84      0.88       589\n",
      "           4       0.73      0.95      0.82       320\n",
      "           5       0.89      0.80      0.84       474\n",
      "\n",
      "    accuracy                           0.75      3090\n",
      "   macro avg       0.76      0.85      0.70      3090\n",
      "weighted avg       0.94      0.75      0.81      3090\n",
      "\n"
     ]
    }
   ],
   "source": [
    "y_pred = GV_ABC.predict(X_test)\n",
    "print(classification_report(y_pred, y_test))"
   ]
  },
  {
   "cell_type": "code",
   "execution_count": 19,
   "id": "ef150ec0",
   "metadata": {
    "ExecuteTime": {
     "end_time": "2017-04-10T01:41:12.986696Z",
     "start_time": "2017-04-10T01:41:12.696346+00:00"
    },
    "collapsed": false,
    "execution": {
     "iopub.execute_input": "2022-07-05T09:22:52.310541Z",
     "iopub.status.busy": "2022-07-05T09:22:52.309837Z",
     "iopub.status.idle": "2022-07-05T09:22:52.669886Z",
     "shell.execute_reply": "2022-07-05T09:22:52.668792Z"
    },
    "jupyter": {
     "outputs_hidden": false
    },
    "papermill": {
     "duration": 0.379617,
     "end_time": "2022-07-05T09:22:52.672259",
     "exception": false,
     "start_time": "2022-07-05T09:22:52.292642",
     "status": "completed"
    },
    "tags": []
   },
   "outputs": [
    {
     "data": {
      "image/png": "[encoded data removed]",
      "text/plain": [
       "<Figure size 432x288 with 2 Axes>"
      ]
     },
     "metadata": {},
     "output_type": "display_data"
    }
   ],
   "source": [
    "sns.set_context('talk')\n",
    "cm = confusion_matrix(y_test, y_pred)\n",
    "ax = sns.heatmap(cm, annot=True, fmt='d')\n",
    "### END SOLUTION"
   ]
  },
  {
   "cell_type": "markdown",
   "id": "012740cc",
   "metadata": {
    "papermill": {
     "duration": 0.016364,
     "end_time": "2022-07-05T09:22:52.705101",
     "exception": false,
     "start_time": "2022-07-05T09:22:52.688737",
     "status": "completed"
    },
    "tags": []
   },
   "source": [
    "<h2 id=\"Q6\">Question 6</h2>\n",
    "\n",
    "*   Fit a logistic regression model with regularization.\n",
    "*   Using `VotingClassifier`, fit the logistic regression model along with either the GratientBoostedClassifier or the AdaBoost model (or both) from questions 4 and 5.\n",
    "*   Determine the error as before and compare the results to the appropriate gradient boosted model(s).\n",
    "*   Plot the confusion matrix for the best model created in this set of exercises.\n"
   ]
  },
  {
   "cell_type": "code",
   "execution_count": 20,
   "id": "5539148f",
   "metadata": {
    "ExecuteTime": {
     "end_time": "2017-04-10T01:41:56.052177Z",
     "start_time": "2017-04-10T01:41:12.988303+00:00"
    },
    "execution": {
     "iopub.execute_input": "2022-07-05T09:22:52.740762Z",
     "iopub.status.busy": "2022-07-05T09:22:52.740000Z",
     "iopub.status.idle": "2022-07-05T09:24:06.692615Z",
     "shell.execute_reply": "2022-07-05T09:24:06.691521Z"
    },
    "papermill": {
     "duration": 73.973655,
     "end_time": "2022-07-05T09:24:06.695425",
     "exception": false,
     "start_time": "2022-07-05T09:22:52.721770",
     "status": "completed"
    },
    "tags": []
   },
   "outputs": [],
   "source": [
    "### BEGIN SOLUTION\n",
    "from sklearn.linear_model import LogisticRegression\n",
    "\n",
    "# L2 regularized logistic regression\n",
    "LR_L2 = LogisticRegression(penalty='l2', max_iter=500, solver='saga').fit(X_train, y_train)"
   ]
  },
  {
   "cell_type": "markdown",
   "id": "b3849200",
   "metadata": {
    "papermill": {
     "duration": 0.01594,
     "end_time": "2022-07-05T09:24:06.727890",
     "exception": false,
     "start_time": "2022-07-05T09:24:06.711950",
     "status": "completed"
    },
    "tags": []
   },
   "source": [
    "Check the errors and confusion matrix for the logistic regression model.\n"
   ]
  },
  {
   "cell_type": "code",
   "execution_count": 21,
   "id": "47465c00",
   "metadata": {
    "ExecuteTime": {
     "end_time": "2017-04-10T01:41:56.070163Z",
     "start_time": "2017-04-10T01:41:56.054354+00:00"
    },
    "collapsed": false,
    "execution": {
     "iopub.execute_input": "2022-07-05T09:24:06.762824Z",
     "iopub.status.busy": "2022-07-05T09:24:06.761795Z",
     "iopub.status.idle": "2022-07-05T09:24:06.806288Z",
     "shell.execute_reply": "2022-07-05T09:24:06.805002Z"
    },
    "jupyter": {
     "outputs_hidden": false
    },
    "papermill": {
     "duration": 0.065903,
     "end_time": "2022-07-05T09:24:06.810032",
     "exception": false,
     "start_time": "2022-07-05T09:24:06.744129",
     "status": "completed"
    },
    "tags": []
   },
   "outputs": [
    {
     "name": "stdout",
     "output_type": "stream",
     "text": [
      "              precision    recall  f1-score   support\n",
      "\n",
      "           0       1.00      1.00      1.00       598\n",
      "           1       0.95      0.96      0.95       558\n",
      "           2       0.95      0.95      0.95       547\n",
      "           3       1.00      0.99      0.99       544\n",
      "           4       0.98      1.00      0.99       413\n",
      "           5       1.00      0.98      0.99       430\n",
      "\n",
      "    accuracy                           0.98      3090\n",
      "   macro avg       0.98      0.98      0.98      3090\n",
      "weighted avg       0.98      0.98      0.98      3090\n",
      "\n"
     ]
    }
   ],
   "source": [
    "y_pred = LR_L2.predict(X_test)\n",
    "print(classification_report(y_pred, y_test))"
   ]
  },
  {
   "cell_type": "code",
   "execution_count": 22,
   "id": "1e6bde21",
   "metadata": {
    "ExecuteTime": {
     "end_time": "2017-04-10T01:41:56.38845Z",
     "start_time": "2017-04-10T01:41:56.072785+00:00"
    },
    "collapsed": false,
    "execution": {
     "iopub.execute_input": "2022-07-05T09:24:06.872126Z",
     "iopub.status.busy": "2022-07-05T09:24:06.871518Z",
     "iopub.status.idle": "2022-07-05T09:24:07.244250Z",
     "shell.execute_reply": "2022-07-05T09:24:07.242993Z"
    },
    "jupyter": {
     "outputs_hidden": false
    },
    "papermill": {
     "duration": 0.406985,
     "end_time": "2022-07-05T09:24:07.246853",
     "exception": false,
     "start_time": "2022-07-05T09:24:06.839868",
     "status": "completed"
    },
    "scrolled": true,
    "tags": []
   },
   "outputs": [
    {
     "data": {
      "image/png": "[encoded data removed]",
      "text/plain": [
       "<Figure size 432x288 with 2 Axes>"
      ]
     },
     "metadata": {},
     "output_type": "display_data"
    }
   ],
   "source": [
    "sns.set_context('talk')\n",
    "cm = confusion_matrix(y_test, y_pred)\n",
    "ax = sns.heatmap(cm, annot=True, fmt='d')"
   ]
  },
  {
   "cell_type": "markdown",
   "id": "47821161",
   "metadata": {
    "papermill": {
     "duration": 0.016759,
     "end_time": "2022-07-05T09:24:07.280739",
     "exception": false,
     "start_time": "2022-07-05T09:24:07.263980",
     "status": "completed"
    },
    "tags": []
   },
   "source": [
    "And now the stacked model.\n"
   ]
  },
  {
   "cell_type": "code",
   "execution_count": 23,
   "id": "63036480",
   "metadata": {
    "ExecuteTime": {
     "end_time": "2017-04-10T01:52:23.739656Z",
     "start_time": "2017-04-10T01:41:56.390038+00:00"
    },
    "execution": {
     "iopub.execute_input": "2022-07-05T09:24:07.316999Z",
     "iopub.status.busy": "2022-07-05T09:24:07.316258Z",
     "iopub.status.idle": "2022-07-05T09:56:53.981128Z",
     "shell.execute_reply": "2022-07-05T09:56:53.980159Z"
    },
    "papermill": {
     "duration": 1966.686167,
     "end_time": "2022-07-05T09:56:53.983914",
     "exception": false,
     "start_time": "2022-07-05T09:24:07.297747",
     "status": "completed"
    },
    "tags": []
   },
   "outputs": [],
   "source": [
    "from sklearn.ensemble import VotingClassifier\n",
    "\n",
    "# The combined model--logistic regression and gradient boosted trees\n",
    "estimators = [('LR_L2', LR_L2), ('GBC', GV_GBC)]\n",
    "\n",
    "# Though it wasn't done here, it is often desirable to train \n",
    "# this model using an additional hold-out data set and/or with cross validation\n",
    "VC = VotingClassifier(estimators, voting='soft')\n",
    "VC = VC.fit(X_train, y_train)"
   ]
  },
  {
   "cell_type": "markdown",
   "id": "2db82e6c",
   "metadata": {
    "papermill": {
     "duration": 0.017614,
     "end_time": "2022-07-05T09:56:54.019245",
     "exception": false,
     "start_time": "2022-07-05T09:56:54.001631",
     "status": "completed"
    },
    "tags": []
   },
   "source": [
    "Performance for the voting classifier should improve relative to either logistic regression or gradient boosted trees alone. However, the fact that logistic regression does almost as well as gradient boosted trees is an important reminder to try the simplest model first. In some cases, its performance will be good enough.\n"
   ]
  },
  {
   "cell_type": "code",
   "execution_count": 24,
   "id": "512b031f",
   "metadata": {
    "ExecuteTime": {
     "end_time": "2017-04-10T01:52:24.057613Z",
     "start_time": "2017-04-10T01:52:23.742553+00:00"
    },
    "collapsed": false,
    "execution": {
     "iopub.execute_input": "2022-07-05T09:56:54.057366Z",
     "iopub.status.busy": "2022-07-05T09:56:54.056726Z",
     "iopub.status.idle": "2022-07-05T09:56:54.344025Z",
     "shell.execute_reply": "2022-07-05T09:56:54.342830Z"
    },
    "jupyter": {
     "outputs_hidden": false
    },
    "papermill": {
     "duration": 0.309309,
     "end_time": "2022-07-05T09:56:54.346409",
     "exception": false,
     "start_time": "2022-07-05T09:56:54.037100",
     "status": "completed"
    },
    "tags": []
   },
   "outputs": [
    {
     "name": "stdout",
     "output_type": "stream",
     "text": [
      "              precision    recall  f1-score   support\n",
      "\n",
      "           0       1.00      1.00      1.00       597\n",
      "           1       0.97      0.96      0.97       563\n",
      "           2       0.97      0.97      0.97       547\n",
      "           3       1.00      1.00      1.00       539\n",
      "           4       1.00      0.99      1.00       420\n",
      "           5       0.98      1.00      0.99       424\n",
      "\n",
      "    accuracy                           0.99      3090\n",
      "   macro avg       0.99      0.99      0.99      3090\n",
      "weighted avg       0.99      0.99      0.99      3090\n",
      "\n"
     ]
    }
   ],
   "source": [
    "y_pred = VC.predict(X_test)\n",
    "print(classification_report(y_test, y_pred))"
   ]
  },
  {
   "cell_type": "code",
   "execution_count": 25,
   "id": "2795bad3",
   "metadata": {
    "ExecuteTime": {
     "end_time": "2017-04-10T01:52:24.442361Z",
     "start_time": "2017-04-10T01:52:24.059996+00:00"
    },
    "collapsed": false,
    "execution": {
     "iopub.execute_input": "2022-07-05T09:56:54.383245Z",
     "iopub.status.busy": "2022-07-05T09:56:54.382303Z",
     "iopub.status.idle": "2022-07-05T09:56:54.894223Z",
     "shell.execute_reply": "2022-07-05T09:56:54.893096Z"
    },
    "jupyter": {
     "outputs_hidden": false
    },
    "papermill": {
     "duration": 0.532891,
     "end_time": "2022-07-05T09:56:54.896510",
     "exception": false,
     "start_time": "2022-07-05T09:56:54.363619",
     "status": "completed"
    },
    "tags": []
   },
   "outputs": [
    {
     "data": {
      "image/png": "[encoded data removed]",
      "text/plain": [
       "<Figure size 432x288 with 2 Axes>"
      ]
     },
     "metadata": {},
     "output_type": "display_data"
    }
   ],
   "source": [
    "sns.set_context('talk')\n",
    "cm = confusion_matrix(y_test, y_pred)\n",
    "ax = sns.heatmap(cm, annot=True, fmt='d')\n",
    "### END SOLUTION"
   ]
  },
  {
   "cell_type": "markdown",
   "id": "ffc7c7f4",
   "metadata": {
    "papermill": {
     "duration": 0.017592,
     "end_time": "2022-07-05T09:56:54.932379",
     "exception": false,
     "start_time": "2022-07-05T09:56:54.914787",
     "status": "completed"
    },
    "tags": []
   },
   "source": [
    "***\n",
    "\n",
    "### Thank you for completing this lab!\n",
    "\n",
    "## Author\n",
    "\n",
    "<a href=\"https://www.linkedin.com/in/joseph-s-50398b136/?utm_medium=Exinfluencer&utm_source=Exinfluencer&utm_content=000026UJ&utm_term=10006555&utm_id=NA-SkillsNetwork-Channel-SkillsNetworkCoursesIBMDeveloperSkillsNetworkML0101ENSkillsNetwork20718538-2021-01-01\" target=\"_blank\">Joseph Santarcangelo</a>\n",
    "\n",
    "### Other Contributors\n",
    "\n",
    "<a href=\"https://www.linkedin.com/in/richard-ye/?utm_medium=Exinfluencer&utm_source=Exinfluencer&utm_content=000026UJ&utm_term=10006555&utm_id=NA-SkillsNetwork-Channel-SkillsNetworkCoursesIBMDeveloperSkillsNetworkML0101ENSkillsNetwork20718538-2021-01-01\" target=\"_blank\">Richard Ye</a>\n",
    "\n",
    "## Change Log\n",
    "\n",
    "| Date (YYYY-MM-DD) | Version | Changed By           | Change Description                                        |\n",
    "| ----------------- | ------- | -------------------- | --------------------------------------------------------- |\n",
    "| 2022-03-23        | 0.1     | Joseph Santarcangelo | Created Lab Template                                      |\n",
    "| 2022-05-03        | 0.2     | Richard Ye           | Added in estimated time, objectives and table of contents |\n",
    "\n",
    "### Machine Learning Foundation (C) 2020 IBM Corporation\n"
   ]
  }
 ],
 "metadata": {
  "kernelspec": {
   "display_name": "Python 3",
   "language": "python",
   "name": "python3"
  },
  "language_info": {
   "codemirror_mode": {
    "name": "ipython",
    "version": 3
   },
   "file_extension": ".py",
   "mimetype": "text/x-python",
   "name": "python",
   "nbconvert_exporter": "python",
   "pygments_lexer": "ipython3",
   "version": "3.7.12"
  },
  "papermill": {
   "default_parameters": {},
   "duration": 10422.876536,
   "end_time": "2022-07-05T09:56:57.590651",
   "environment_variables": {},
   "exception": null,
   "input_path": "__notebook__.ipynb",
   "output_path": "__notebook__.ipynb",
   "parameters": {},
   "start_time": "2022-07-05T07:03:14.714115",
   "version": "2.3.4"
  }
 },
 "nbformat": 4,
 "nbformat_minor": 5
}
