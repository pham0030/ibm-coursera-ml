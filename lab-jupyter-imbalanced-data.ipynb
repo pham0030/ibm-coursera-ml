{
 "cells": [
  {
   "cell_type": "markdown",
   "id": "28f265f5",
   "metadata": {
    "papermill": {
     "duration": 0.037518,
     "end_time": "2022-06-27T03:59:49.439352",
     "exception": false,
     "start_time": "2022-06-27T03:59:49.401834",
     "status": "completed"
    },
    "tags": []
   },
   "source": [
    "<p style=\"text-align:center\">\n",
    "    <a href=\"https://skills.network/?utm_medium=Exinfluencer&utm_source=Exinfluencer&utm_content=000026UJ&utm_term=10006555&utm_id=NA-SkillsNetwork-Channel-SkillsNetworkCoursesIBMML241ENSkillsNetwork31576874-2022-01-01\" target=\"_blank\">\n",
    "    <img src=\"https://cf-courses-data.s3.us.cloud-object-storage.appdomain.cloud/assets/logos/SN_web_lightmode.png\" width=\"200\" alt=\"Skills Network Logo\"  />\n",
    "    </a>\n",
    "</p>\n"
   ]
  },
  {
   "cell_type": "markdown",
   "id": "0052e130",
   "metadata": {
    "papermill": {
     "duration": 0.034946,
     "end_time": "2022-06-27T03:59:49.509786",
     "exception": false,
     "start_time": "2022-06-27T03:59:49.474840",
     "status": "completed"
    },
    "tags": []
   },
   "source": [
    "# **Tackle Imbalanced Data Challenge**\n"
   ]
  },
  {
   "cell_type": "markdown",
   "id": "9a8a2bad",
   "metadata": {
    "papermill": {
     "duration": 0.034553,
     "end_time": "2022-06-27T03:59:49.579701",
     "exception": false,
     "start_time": "2022-06-27T03:59:49.545148",
     "status": "completed"
    },
    "tags": []
   },
   "source": [
    "Estimated time needed: **60** minutes\n"
   ]
  },
  {
   "cell_type": "markdown",
   "id": "b6b30aae",
   "metadata": {
    "papermill": {
     "duration": 0.034422,
     "end_time": "2022-06-27T03:59:49.648649",
     "exception": false,
     "start_time": "2022-06-27T03:59:49.614227",
     "status": "completed"
    },
    "tags": []
   },
   "source": [
    "In this lab, you will identify the imbalanced data problems in four binary classification scenarios, all with skewed class distributions:\n"
   ]
  },
  {
   "cell_type": "markdown",
   "id": "006ad0e1",
   "metadata": {
    "papermill": {
     "duration": 0.034322,
     "end_time": "2022-06-27T03:59:49.717551",
     "exception": false,
     "start_time": "2022-06-27T03:59:49.683229",
     "status": "completed"
    },
    "tags": []
   },
   "source": [
    "| Task Name                     | Class Ratio (Negative vs. Positive) |\n",
    "| ----------------------------- | :---------------------------------: |\n",
    "| *Credit Card Fraud Detection* |              ~1000 : 1              |\n",
    "| *Predicting Customer Churn*   |                ~5 : 1               |\n",
    "| *Tumor Type Estimation*       |                ~2 : 1               |\n",
    "| *Predicting Job Change*       |               ~10 : 1               |\n"
   ]
  },
  {
   "cell_type": "markdown",
   "id": "99c669ad",
   "metadata": {
    "papermill": {
     "duration": 0.034676,
     "end_time": "2022-06-27T03:59:49.786879",
     "exception": false,
     "start_time": "2022-06-27T03:59:49.752203",
     "status": "completed"
    },
    "tags": []
   },
   "source": [
    "Next, you will try to tackle the imbalanced data challenges in the above tasks using class weighting and resampling methods:\n",
    "\n",
    "*   Effective class weighting strategies will assign minority class with more weights, so that it may have a larger impact on the model training process\n",
    "*   Resampling methods will generate synthetic datasets from the original datasets\n"
   ]
  },
  {
   "cell_type": "markdown",
   "id": "cbc804de",
   "metadata": {
    "papermill": {
     "duration": 0.034334,
     "end_time": "2022-06-27T03:59:49.855921",
     "exception": false,
     "start_time": "2022-06-27T03:59:49.821587",
     "status": "completed"
    },
    "tags": []
   },
   "source": [
    "## Objectives\n"
   ]
  },
  {
   "cell_type": "markdown",
   "id": "7c58742f",
   "metadata": {
    "papermill": {
     "duration": 0.038185,
     "end_time": "2022-06-27T03:59:49.928596",
     "exception": false,
     "start_time": "2022-06-27T03:59:49.890411",
     "status": "completed"
    },
    "tags": []
   },
   "source": [
    "After completing this lab you will be able to:\n"
   ]
  },
  {
   "cell_type": "markdown",
   "id": "47ae0a99",
   "metadata": {
    "papermill": {
     "duration": 0.042245,
     "end_time": "2022-06-27T03:59:50.016410",
     "exception": false,
     "start_time": "2022-06-27T03:59:49.974165",
     "status": "completed"
    },
    "tags": []
   },
   "source": [
    "*   Identify typical patterns of imbalanced data challenges\n",
    "*   Apply `Class Re-weighting` method to adjust the impacts of different classes in model training processes\n",
    "*   Apply `Oversampling` and `Undersampling` to generate synthetic datasets and rebalance classes\n",
    "*   Evaluate your consolidated classifiers using robust metrics such as `F-score` and `AUC`\n"
   ]
  },
  {
   "cell_type": "markdown",
   "id": "94738dc5",
   "metadata": {
    "papermill": {
     "duration": 0.035076,
     "end_time": "2022-06-27T03:59:50.091469",
     "exception": false,
     "start_time": "2022-06-27T03:59:50.056393",
     "status": "completed"
    },
    "tags": []
   },
   "source": [
    "***\n"
   ]
  },
  {
   "cell_type": "markdown",
   "id": "c26544dd",
   "metadata": {
    "papermill": {
     "duration": 0.035996,
     "end_time": "2022-06-27T03:59:50.162336",
     "exception": false,
     "start_time": "2022-06-27T03:59:50.126340",
     "status": "completed"
    },
    "tags": []
   },
   "source": [
    "First, let us import the required packages for this lab:\n"
   ]
  },
  {
   "cell_type": "code",
   "execution_count": 1,
   "id": "ac30e016",
   "metadata": {
    "execution": {
     "iopub.execute_input": "2022-06-27T03:59:50.236112Z",
     "iopub.status.busy": "2022-06-27T03:59:50.235438Z",
     "iopub.status.idle": "2022-06-27T04:00:05.730857Z",
     "shell.execute_reply": "2022-06-27T04:00:05.729375Z"
    },
    "papermill": {
     "duration": 15.536053,
     "end_time": "2022-06-27T04:00:05.734307",
     "exception": false,
     "start_time": "2022-06-27T03:59:50.198254",
     "status": "completed"
    },
    "tags": []
   },
   "outputs": [
    {
     "name": "stdout",
     "output_type": "stream",
     "text": [
      "Collecting imbalanced-learn==0.8.0\r\n",
      "  Downloading imbalanced_learn-0.8.0-py3-none-any.whl (206 kB)\r\n",
      "\u001b[2K     \u001b[90m━━━━━━━━━━━━━━━━━━━━━━━━━━━━━━━━━━━━━\u001b[0m \u001b[32m206.5/206.5 kB\u001b[0m \u001b[31m455.2 kB/s\u001b[0m eta \u001b[36m0:00:00\u001b[0m\r\n",
      "\u001b[?25hRequirement already satisfied: scikit-learn>=0.24 in /opt/conda/lib/python3.7/site-packages (from imbalanced-learn==0.8.0) (1.0.2)\r\n",
      "Requirement already satisfied: joblib>=0.11 in /opt/conda/lib/python3.7/site-packages (from imbalanced-learn==0.8.0) (1.1.0)\r\n",
      "Requirement already satisfied: scipy>=0.19.1 in /opt/conda/lib/python3.7/site-packages (from imbalanced-learn==0.8.0) (1.7.3)\r\n",
      "Requirement already satisfied: numpy>=1.13.3 in /opt/conda/lib/python3.7/site-packages (from imbalanced-learn==0.8.0) (1.21.6)\r\n",
      "Requirement already satisfied: threadpoolctl>=2.0.0 in /opt/conda/lib/python3.7/site-packages (from scikit-learn>=0.24->imbalanced-learn==0.8.0) (3.1.0)\r\n",
      "Installing collected packages: imbalanced-learn\r\n",
      "  Attempting uninstall: imbalanced-learn\r\n",
      "    Found existing installation: imbalanced-learn 0.9.0\r\n",
      "    Uninstalling imbalanced-learn-0.9.0:\r\n",
      "      Successfully uninstalled imbalanced-learn-0.9.0\r\n",
      "Successfully installed imbalanced-learn-0.8.0\r\n",
      "\u001b[33mWARNING: Running pip as the 'root' user can result in broken permissions and conflicting behaviour with the system package manager. It is recommended to use a virtual environment instead: https://pip.pypa.io/warnings/venv\u001b[0m\u001b[33m\r\n",
      "\u001b[0m"
     ]
    }
   ],
   "source": [
    "# All Libraries required for this lab are listed below. The libraries pre-installed on Skills Network Labs are commented.\n",
    "# !mamba install -qy pandas==1.3.3 numpy==1.21.2 ipywidgets==7.4.2 scipy==7.4.2 tqdm==4.62.3 matplotlib==3.5.0 seaborn==0.9.0\n",
    "\n",
    "# install imbalanced-learn package\n",
    "!pip install imbalanced-learn==0.8.0\n",
    "\n",
    "# Note: If your environment doesn't support \"!mamba install\", use \"!pip install\""
   ]
  },
  {
   "cell_type": "code",
   "execution_count": 2,
   "id": "7fc34414",
   "metadata": {
    "execution": {
     "iopub.execute_input": "2022-06-27T04:00:05.817558Z",
     "iopub.status.busy": "2022-06-27T04:00:05.817174Z",
     "iopub.status.idle": "2022-06-27T04:00:07.226507Z",
     "shell.execute_reply": "2022-06-27T04:00:07.224968Z"
    },
    "papermill": {
     "duration": 1.454409,
     "end_time": "2022-06-27T04:00:07.229486",
     "exception": false,
     "start_time": "2022-06-27T04:00:05.775077",
     "status": "completed"
    },
    "tags": []
   },
   "outputs": [],
   "source": [
    "## Import packages here\n",
    "import pandas as pd\n",
    "import numpy as np \n",
    "import imblearn\n",
    "from matplotlib.pyplot import figure\n",
    "from sklearn.utils import shuffle\n",
    "from sklearn.preprocessing import OneHotEncoder, LabelEncoder\n",
    "from sklearn.impute import SimpleImputer, KNNImputer\n",
    "from sklearn.model_selection import train_test_split, learning_curve\n",
    "from sklearn.linear_model import LogisticRegression\n",
    "from sklearn.tree import DecisionTreeClassifier\n",
    "from sklearn.metrics import classification_report, accuracy_score, precision_recall_fscore_support, confusion_matrix, plot_confusion_matrix, precision_score, recall_score, roc_auc_score\n",
    "from sklearn.ensemble import RandomForestClassifier, GradientBoostingClassifier\n",
    "\n",
    "from imblearn.under_sampling import RandomUnderSampler\n",
    "from sklearn import metrics\n",
    "from sklearn.inspection import permutation_importance\n",
    "import matplotlib.pyplot as plt\n",
    "from sklearn.preprocessing import MinMaxScaler\n",
    "from sklearn.model_selection import GridSearchCV\n",
    "from collections import Counter"
   ]
  },
  {
   "cell_type": "markdown",
   "id": "e2ca9a5b",
   "metadata": {
    "papermill": {
     "duration": 0.03659,
     "end_time": "2022-06-27T04:00:07.303080",
     "exception": false,
     "start_time": "2022-06-27T04:00:07.266490",
     "status": "completed"
    },
    "tags": []
   },
   "source": [
    "First, we want to provide some sample grid search methods if you are interested in tuning your model\n"
   ]
  },
  {
   "cell_type": "code",
   "execution_count": 3,
   "id": "9a62daf5",
   "metadata": {
    "execution": {
     "iopub.execute_input": "2022-06-27T04:00:07.379378Z",
     "iopub.status.busy": "2022-06-27T04:00:07.378930Z",
     "iopub.status.idle": "2022-06-27T04:00:07.391235Z",
     "shell.execute_reply": "2022-06-27T04:00:07.390036Z"
    },
    "papermill": {
     "duration": 0.053358,
     "end_time": "2022-06-27T04:00:07.393538",
     "exception": false,
     "start_time": "2022-06-27T04:00:07.340180",
     "status": "completed"
    },
    "tags": []
   },
   "outputs": [],
   "source": [
    "rs = 123\n",
    "# Grid search hyperparameters for a logistic regression model\n",
    "def grid_search_lr(X_train, y_train):\n",
    "    params_grid = {\n",
    "    'class_weight': [{0:0.05, 1:0.95}, {0:0.1, 1:0.9}, {0:0.2, 1:0.8}]\n",
    "    }\n",
    "    lr_model = LogisticRegression(random_state=rs, max_iter=1000)\n",
    "    grid_search = GridSearchCV(estimator = lr_model, \n",
    "                           param_grid = params_grid, \n",
    "                           scoring='f1',\n",
    "                           cv = 5, verbose = 1)\n",
    "    grid_search.fit(X_train, y_train)\n",
    "    best_params = grid_search.best_params_\n",
    "    return best_params\n",
    "\n",
    "# Grid search hyperparameters for a random forest model\n",
    "def grid_search_rf(X_train, y_train):\n",
    "    params_grid = {\n",
    "    'max_depth': [5, 10, 15, 20],\n",
    "    'n_estimators': [25, 50, 100],\n",
    "    'min_samples_split': [2, 5],\n",
    "    'class_weight': [{0:0.1, 1:0.9}, {0:0.2, 1:0.8}, {0:0.3, 1:0.7}]\n",
    "    }\n",
    "    rf_model = RandomForestClassifier(random_state=rs)\n",
    "    grid_search = GridSearchCV(estimator = rf_model, \n",
    "                           param_grid = params_grid, \n",
    "                           scoring='f1',\n",
    "                           cv = 5, verbose = 1)\n",
    "    grid_search.fit(X_train, y_train)\n",
    "    best_params = grid_search.best_params_\n",
    "    return best_params"
   ]
  },
  {
   "cell_type": "markdown",
   "id": "3f6430ed",
   "metadata": {
    "papermill": {
     "duration": 0.036967,
     "end_time": "2022-06-27T04:00:07.467944",
     "exception": false,
     "start_time": "2022-06-27T04:00:07.430977",
     "status": "completed"
    },
    "tags": []
   },
   "source": [
    "and a method to split training and testing dataset\n"
   ]
  },
  {
   "cell_type": "code",
   "execution_count": 4,
   "id": "69512b88",
   "metadata": {
    "execution": {
     "iopub.execute_input": "2022-06-27T04:00:07.543975Z",
     "iopub.status.busy": "2022-06-27T04:00:07.543010Z",
     "iopub.status.idle": "2022-06-27T04:00:07.549241Z",
     "shell.execute_reply": "2022-06-27T04:00:07.548289Z"
    },
    "papermill": {
     "duration": 0.046724,
     "end_time": "2022-06-27T04:00:07.551491",
     "exception": false,
     "start_time": "2022-06-27T04:00:07.504767",
     "status": "completed"
    },
    "tags": []
   },
   "outputs": [],
   "source": [
    "def split_data(df):\n",
    "    X = df.loc[ : , df.columns != 'Class']\n",
    "    y = df['Class'].astype('int')\n",
    "    return train_test_split(X, y, test_size=0.2, stratify=y, random_state = rs)"
   ]
  },
  {
   "cell_type": "markdown",
   "id": "a6313b71",
   "metadata": {
    "papermill": {
     "duration": 0.036304,
     "end_time": "2022-06-27T04:00:07.625023",
     "exception": false,
     "start_time": "2022-06-27T04:00:07.588719",
     "status": "completed"
    },
    "tags": []
   },
   "source": [
    "## Scenario: Credit Card Fraud Detection\n"
   ]
  },
  {
   "cell_type": "markdown",
   "id": "09a0a921",
   "metadata": {
    "papermill": {
     "duration": 0.036618,
     "end_time": "2022-06-27T04:00:07.698455",
     "exception": false,
     "start_time": "2022-06-27T04:00:07.661837",
     "status": "completed"
    },
    "tags": []
   },
   "source": [
    "Let's start with a credit card fraud detection scenario.\n",
    "The dataset contains transactions made by credit cards. As you can imagine, the majority of transactions are normal and only a very few real fraud transactions are in the dataset. Our goal is to train a classification model to recognize those fraudulent credit card transactions.\n"
   ]
  },
  {
   "cell_type": "markdown",
   "id": "60a28724",
   "metadata": {
    "papermill": {
     "duration": 0.036164,
     "end_time": "2022-06-27T04:00:07.771256",
     "exception": false,
     "start_time": "2022-06-27T04:00:07.735092",
     "status": "completed"
    },
    "tags": []
   },
   "source": [
    "First, we load the dataset as a dataframe:\n"
   ]
  },
  {
   "cell_type": "code",
   "execution_count": 5,
   "id": "562bc5f1",
   "metadata": {
    "execution": {
     "iopub.execute_input": "2022-06-27T04:00:07.846867Z",
     "iopub.status.busy": "2022-06-27T04:00:07.846132Z",
     "iopub.status.idle": "2022-06-27T04:01:20.191573Z",
     "shell.execute_reply": "2022-06-27T04:01:20.190330Z"
    },
    "papermill": {
     "duration": 72.386898,
     "end_time": "2022-06-27T04:01:20.194705",
     "exception": false,
     "start_time": "2022-06-27T04:00:07.807807",
     "status": "completed"
    },
    "tags": []
   },
   "outputs": [],
   "source": [
    "credit_df = pd.read_csv(\"https://cf-courses-data.s3.us.cloud-object-storage.appdomain.cloud/IBM-ML201EN-SkillsNetwork/labs/module_4/datasets/im_credit.csv\", index_col=False)"
   ]
  },
  {
   "cell_type": "code",
   "execution_count": 6,
   "id": "865d81dc",
   "metadata": {
    "execution": {
     "iopub.execute_input": "2022-06-27T04:01:20.272402Z",
     "iopub.status.busy": "2022-06-27T04:01:20.271454Z",
     "iopub.status.idle": "2022-06-27T04:01:20.299129Z",
     "shell.execute_reply": "2022-06-27T04:01:20.297801Z"
    },
    "papermill": {
     "duration": 0.06896,
     "end_time": "2022-06-27T04:01:20.301666",
     "exception": false,
     "start_time": "2022-06-27T04:01:20.232706",
     "status": "completed"
    },
    "tags": []
   },
   "outputs": [
    {
     "data": {
      "text/html": [
       "<div>\n",
       "<style scoped>\n",
       "    .dataframe tbody tr th:only-of-type {\n",
       "        vertical-align: middle;\n",
       "    }\n",
       "\n",
       "    .dataframe tbody tr th {\n",
       "        vertical-align: top;\n",
       "    }\n",
       "\n",
       "    .dataframe thead th {\n",
       "        text-align: right;\n",
       "    }\n",
       "</style>\n",
       "<table border=\"1\" class=\"dataframe\">\n",
       "  <thead>\n",
       "    <tr style=\"text-align: right;\">\n",
       "      <th></th>\n",
       "      <th>V14</th>\n",
       "      <th>V17</th>\n",
       "      <th>V4</th>\n",
       "      <th>V10</th>\n",
       "      <th>V28</th>\n",
       "      <th>Class</th>\n",
       "    </tr>\n",
       "  </thead>\n",
       "  <tbody>\n",
       "    <tr>\n",
       "      <th>0</th>\n",
       "      <td>0.423619</td>\n",
       "      <td>-0.210863</td>\n",
       "      <td>0.933459</td>\n",
       "      <td>0.027866</td>\n",
       "      <td>0.019308</td>\n",
       "      <td>0</td>\n",
       "    </tr>\n",
       "    <tr>\n",
       "      <th>1</th>\n",
       "      <td>0.986727</td>\n",
       "      <td>0.174009</td>\n",
       "      <td>-2.019905</td>\n",
       "      <td>-1.620065</td>\n",
       "      <td>-0.307753</td>\n",
       "      <td>0</td>\n",
       "    </tr>\n",
       "    <tr>\n",
       "      <th>2</th>\n",
       "      <td>-0.023094</td>\n",
       "      <td>-0.541985</td>\n",
       "      <td>-0.902618</td>\n",
       "      <td>-0.192212</td>\n",
       "      <td>-0.048965</td>\n",
       "      <td>0</td>\n",
       "    </tr>\n",
       "    <tr>\n",
       "      <th>3</th>\n",
       "      <td>-0.152111</td>\n",
       "      <td>-0.615094</td>\n",
       "      <td>1.276126</td>\n",
       "      <td>-0.026822</td>\n",
       "      <td>0.044480</td>\n",
       "      <td>0</td>\n",
       "    </tr>\n",
       "    <tr>\n",
       "      <th>4</th>\n",
       "      <td>-0.535807</td>\n",
       "      <td>-0.248563</td>\n",
       "      <td>4.517539</td>\n",
       "      <td>1.871441</td>\n",
       "      <td>0.120955</td>\n",
       "      <td>0</td>\n",
       "    </tr>\n",
       "  </tbody>\n",
       "</table>\n",
       "</div>"
      ],
      "text/plain": [
       "        V14       V17        V4       V10       V28  Class\n",
       "0  0.423619 -0.210863  0.933459  0.027866  0.019308      0\n",
       "1  0.986727  0.174009 -2.019905 -1.620065 -0.307753      0\n",
       "2 -0.023094 -0.541985 -0.902618 -0.192212 -0.048965      0\n",
       "3 -0.152111 -0.615094  1.276126 -0.026822  0.044480      0\n",
       "4 -0.535807 -0.248563  4.517539  1.871441  0.120955      0"
      ]
     },
     "execution_count": 6,
     "metadata": {},
     "output_type": "execute_result"
    }
   ],
   "source": [
    "credit_df.head()"
   ]
  },
  {
   "cell_type": "markdown",
   "id": "518b02fc",
   "metadata": {
    "papermill": {
     "duration": 0.037405,
     "end_time": "2022-06-27T04:01:20.375695",
     "exception": false,
     "start_time": "2022-06-27T04:01:20.338290",
     "status": "completed"
    },
    "tags": []
   },
   "source": [
    "Due to confidentiality issues, the original features and other background information about each transaction is hidden, and this dataset now contains only numerical features which are the result of a PCA transformation.\n"
   ]
  },
  {
   "cell_type": "markdown",
   "id": "adde5960",
   "metadata": {
    "papermill": {
     "duration": 0.036019,
     "end_time": "2022-06-27T04:01:20.447950",
     "exception": false,
     "start_time": "2022-06-27T04:01:20.411931",
     "status": "completed"
    },
    "tags": []
   },
   "source": [
    "Next, let's see  how imbalanced this dataset is:\n"
   ]
  },
  {
   "cell_type": "code",
   "execution_count": 7,
   "id": "4f375d81",
   "metadata": {
    "execution": {
     "iopub.execute_input": "2022-06-27T04:01:20.521484Z",
     "iopub.status.busy": "2022-06-27T04:01:20.521131Z",
     "iopub.status.idle": "2022-06-27T04:01:20.535905Z",
     "shell.execute_reply": "2022-06-27T04:01:20.534994Z"
    },
    "papermill": {
     "duration": 0.054418,
     "end_time": "2022-06-27T04:01:20.538246",
     "exception": false,
     "start_time": "2022-06-27T04:01:20.483828",
     "status": "completed"
    },
    "tags": []
   },
   "outputs": [
    {
     "data": {
      "text/plain": [
       "0    200000\n",
       "1       200\n",
       "Name: Class, dtype: int64"
      ]
     },
     "execution_count": 7,
     "metadata": {},
     "output_type": "execute_result"
    }
   ],
   "source": [
    "credit_df['Class'].value_counts()"
   ]
  },
  {
   "cell_type": "code",
   "execution_count": 8,
   "id": "54e99d91",
   "metadata": {
    "execution": {
     "iopub.execute_input": "2022-06-27T04:01:20.615241Z",
     "iopub.status.busy": "2022-06-27T04:01:20.613952Z",
     "iopub.status.idle": "2022-06-27T04:01:20.863582Z",
     "shell.execute_reply": "2022-06-27T04:01:20.862230Z"
    },
    "papermill": {
     "duration": 0.291222,
     "end_time": "2022-06-27T04:01:20.866387",
     "exception": false,
     "start_time": "2022-06-27T04:01:20.575165",
     "status": "completed"
    },
    "tags": []
   },
   "outputs": [
    {
     "data": {
      "text/plain": [
       "<AxesSubplot:>"
      ]
     },
     "execution_count": 8,
     "metadata": {},
     "output_type": "execute_result"
    },
    {
     "data": {
      "image/png": "[encoded data removed]",
      "text/plain": [
       "<Figure size 432x288 with 1 Axes>"
      ]
     },
     "metadata": {
      "needs_background": "light"
     },
     "output_type": "display_data"
    }
   ],
   "source": [
    "# Visualize the count for each class\n",
    "credit_df['Class'].value_counts().plot.bar(color=['green', 'red'])"
   ]
  },
  {
   "cell_type": "markdown",
   "id": "b7fd8281",
   "metadata": {
    "papermill": {
     "duration": 0.036684,
     "end_time": "2022-06-27T04:01:20.940193",
     "exception": false,
     "start_time": "2022-06-27T04:01:20.903509",
     "status": "completed"
    },
    "tags": []
   },
   "source": [
    "As you can see, we only have about 0.001% fraud transactions in the dataset and you can not even see it on the previous bar chart! This is an extremely imbalanced dataset\n"
   ]
  },
  {
   "cell_type": "markdown",
   "id": "4c5c0e0c",
   "metadata": {
    "papermill": {
     "duration": 0.037126,
     "end_time": "2022-06-27T04:01:21.014575",
     "exception": false,
     "start_time": "2022-06-27T04:01:20.977449",
     "status": "completed"
    },
    "tags": []
   },
   "source": [
    "Next, we will quickly build a standard logistic regression model to see how it performs on such an imbalanced dataset.\n"
   ]
  },
  {
   "cell_type": "code",
   "execution_count": 9,
   "id": "0f3beaba",
   "metadata": {
    "execution": {
     "iopub.execute_input": "2022-06-27T04:01:21.091869Z",
     "iopub.status.busy": "2022-06-27T04:01:21.091392Z",
     "iopub.status.idle": "2022-06-27T04:01:21.189513Z",
     "shell.execute_reply": "2022-06-27T04:01:21.188119Z"
    },
    "papermill": {
     "duration": 0.140484,
     "end_time": "2022-06-27T04:01:21.192361",
     "exception": false,
     "start_time": "2022-06-27T04:01:21.051877",
     "status": "completed"
    },
    "tags": []
   },
   "outputs": [],
   "source": [
    "# Split the training and testing dataset\n",
    "X_train, X_test, y_train, y_test = split_data(credit_df)"
   ]
  },
  {
   "cell_type": "code",
   "execution_count": 10,
   "id": "84bcb2d3",
   "metadata": {
    "execution": {
     "iopub.execute_input": "2022-06-27T04:01:21.268067Z",
     "iopub.status.busy": "2022-06-27T04:01:21.267699Z",
     "iopub.status.idle": "2022-06-27T04:01:21.578310Z",
     "shell.execute_reply": "2022-06-27T04:01:21.576782Z"
    },
    "papermill": {
     "duration": 0.353806,
     "end_time": "2022-06-27T04:01:21.582998",
     "exception": false,
     "start_time": "2022-06-27T04:01:21.229192",
     "status": "completed"
    },
    "tags": []
   },
   "outputs": [],
   "source": [
    "# Build a simple logistic regression model\n",
    "model = LogisticRegression(random_state=rs, \n",
    "                              max_iter = 1000)\n",
    "\n",
    "# Train the model\n",
    "model.fit(X_train, y_train)\n",
    "preds = model.predict(X_test)"
   ]
  },
  {
   "cell_type": "markdown",
   "id": "6eb85d51",
   "metadata": {
    "papermill": {
     "duration": 0.05693,
     "end_time": "2022-06-27T04:01:21.715472",
     "exception": false,
     "start_time": "2022-06-27T04:01:21.658542",
     "status": "completed"
    },
    "tags": []
   },
   "source": [
    "And check its prediction accuracy\n"
   ]
  },
  {
   "cell_type": "code",
   "execution_count": 11,
   "id": "30efe331",
   "metadata": {
    "execution": {
     "iopub.execute_input": "2022-06-27T04:01:21.794856Z",
     "iopub.status.busy": "2022-06-27T04:01:21.794416Z",
     "iopub.status.idle": "2022-06-27T04:01:21.805076Z",
     "shell.execute_reply": "2022-06-27T04:01:21.803830Z"
    },
    "papermill": {
     "duration": 0.053409,
     "end_time": "2022-06-27T04:01:21.808004",
     "exception": false,
     "start_time": "2022-06-27T04:01:21.754595",
     "status": "completed"
    },
    "tags": []
   },
   "outputs": [
    {
     "data": {
      "text/plain": [
       "0.9992757242757243"
      ]
     },
     "execution_count": 11,
     "metadata": {},
     "output_type": "execute_result"
    }
   ],
   "source": [
    "accuracy_score(y_test, preds)"
   ]
  },
  {
   "cell_type": "markdown",
   "id": "3bd1ee8f",
   "metadata": {
    "papermill": {
     "duration": 0.037175,
     "end_time": "2022-06-27T04:01:21.882674",
     "exception": false,
     "start_time": "2022-06-27T04:01:21.845499",
     "status": "completed"
    },
    "tags": []
   },
   "source": [
    "OK, it achieves 99% prediction accuracy on the test dataset, looks like a great model! Before concluding we have found a simple and great model to detect credit card frauds, let's try other metrics first.\n"
   ]
  },
  {
   "cell_type": "markdown",
   "id": "b2a04022",
   "metadata": {
    "papermill": {
     "duration": 0.037024,
     "end_time": "2022-06-27T04:01:21.956574",
     "exception": false,
     "start_time": "2022-06-27T04:01:21.919550",
     "status": "completed"
    },
    "tags": []
   },
   "source": [
    "### More Robust Evaluation Metrics\n"
   ]
  },
  {
   "cell_type": "markdown",
   "id": "95a10587",
   "metadata": {
    "papermill": {
     "duration": 0.036764,
     "end_time": "2022-06-27T04:01:22.030347",
     "exception": false,
     "start_time": "2022-06-27T04:01:21.993583",
     "status": "completed"
    },
    "tags": []
   },
   "source": [
    "Here are some effective robust binary classification evaluation metrics such as Precision, Recall, and Fscore, which can be defined as follows:\n"
   ]
  },
  {
   "cell_type": "markdown",
   "id": "c74696b0",
   "metadata": {
    "papermill": {
     "duration": 0.036759,
     "end_time": "2022-06-27T04:01:22.104228",
     "exception": false,
     "start_time": "2022-06-27T04:01:22.067469",
     "status": "completed"
    },
    "tags": []
   },
   "source": [
    "*   `Precision`: the percentage of accurately predicted positive instances\n",
    "\n",
    "*   `Recall`: the percentage of successfully recognized positive instances\n",
    "\n",
    "*   `Fscore`: can also be called F-beta score, which is a weighted average of precision and recall to evaluate the model. The weights between recall and precision are controlled by the `beta`  parameter, the default value is 1 so the most common F-beta is F1 score\n"
   ]
  },
  {
   "cell_type": "markdown",
   "id": "01bfc3b5",
   "metadata": {
    "papermill": {
     "duration": 0.037382,
     "end_time": "2022-06-27T04:01:22.179602",
     "exception": false,
     "start_time": "2022-06-27T04:01:22.142220",
     "status": "completed"
    },
    "tags": []
   },
   "source": [
    "<center>\n",
    "    <img src=\"https://cf-courses-data.s3.us.cloud-object-storage.appdomain.cloud/IBM-ML201EN-SkillsNetwork/labs/module_4/images/evaluation_metrics.png\" width=\"720\" alt=\"evaluation metrics\"  />\n",
    "</center>\n"
   ]
  },
  {
   "cell_type": "markdown",
   "id": "e8ef5762",
   "metadata": {
    "papermill": {
     "duration": 0.036635,
     "end_time": "2022-06-27T04:01:22.253850",
     "exception": false,
     "start_time": "2022-06-27T04:01:22.217215",
     "status": "completed"
    },
    "tags": []
   },
   "source": [
    "In addition, the plot of True positive rate and false positive ratio under different thresholds, known as Receiver operating characteristic `ROC` and its associated Area Under the Curve `AUC` are also reliable metrics.\n"
   ]
  },
  {
   "cell_type": "markdown",
   "id": "0f94dd35",
   "metadata": {
    "papermill": {
     "duration": 0.036878,
     "end_time": "2022-06-27T04:01:22.328841",
     "exception": false,
     "start_time": "2022-06-27T04:01:22.291963",
     "status": "completed"
    },
    "tags": []
   },
   "source": [
    "First let's calculate Precision, Recall, and Fscore.\n"
   ]
  },
  {
   "cell_type": "code",
   "execution_count": 12,
   "id": "817dd9f7",
   "metadata": {
    "execution": {
     "iopub.execute_input": "2022-06-27T04:01:22.406768Z",
     "iopub.status.busy": "2022-06-27T04:01:22.406313Z",
     "iopub.status.idle": "2022-06-27T04:01:22.433877Z",
     "shell.execute_reply": "2022-06-27T04:01:22.432440Z"
    },
    "papermill": {
     "duration": 0.069883,
     "end_time": "2022-06-27T04:01:22.436399",
     "exception": false,
     "start_time": "2022-06-27T04:01:22.366516",
     "status": "completed"
    },
    "tags": []
   },
   "outputs": [
    {
     "name": "stdout",
     "output_type": "stream",
     "text": [
      "Accuracy is: 1.00\n",
      "Precision is: 0.72\n",
      "Recall is: 0.45\n",
      "Fscore is: 0.46\n",
      "AUC is: 0.72\n"
     ]
    }
   ],
   "source": [
    "# Calculate the precision, recall, f5 given the y_test and predictions\n",
    "# Note that we use beta=5 which means we think the cost of positive class is 5 times of negative class\n",
    "# You could try other beta values yourself\n",
    "accuracy = accuracy_score(y_test, preds)\n",
    "precision, recall, fbeta, support = precision_recall_fscore_support(y_test, preds, beta=5, pos_label=1, average='binary')\n",
    "auc = roc_auc_score(y_test, preds)\n",
    "print(f\"Accuracy is: {accuracy:.2f}\")\n",
    "print(f\"Precision is: {precision:.2f}\")\n",
    "print(f\"Recall is: {recall:.2f}\")\n",
    "print(f\"Fscore is: {fbeta:.2f}\")\n",
    "print(f\"AUC is: {auc:.2f}\")"
   ]
  },
  {
   "cell_type": "markdown",
   "id": "1a39f707",
   "metadata": {
    "papermill": {
     "duration": 0.038413,
     "end_time": "2022-06-27T04:01:22.514007",
     "exception": false,
     "start_time": "2022-06-27T04:01:22.475594",
     "status": "completed"
    },
    "tags": []
   },
   "source": [
    "For many machine learning tasks on imbalanced datasets, like this credit card fraud detection, we normally care more about recall than precision. As a baseline, we want the model to be able to find all frauds and we would allow the model to make false-positive errors because the cost of false positives is usually not very high (maybe just costs a false notification email or phone call to confirm with customers). On the other hand, failing to recognize positive examples (such as fraud or a deadly disease) can be life-threatening\n",
    "\n",
    "As such, our priority is to improve the model's recall, then we will also want to keep precision as high as possible.\n"
   ]
  },
  {
   "cell_type": "markdown",
   "id": "e9244d17",
   "metadata": {
    "papermill": {
     "duration": 0.037235,
     "end_time": "2022-06-27T04:01:22.589472",
     "exception": false,
     "start_time": "2022-06-27T04:01:22.552237",
     "status": "completed"
    },
    "tags": []
   },
   "source": [
    "### Synthetic Minority Oversampling Technique (SMOTE)\n"
   ]
  },
  {
   "cell_type": "markdown",
   "id": "33e13c03",
   "metadata": {
    "papermill": {
     "duration": 0.038664,
     "end_time": "2022-06-27T04:01:22.666816",
     "exception": false,
     "start_time": "2022-06-27T04:01:22.628152",
     "status": "completed"
    },
    "tags": []
   },
   "source": [
    "SMOTE first creates many pairs or small clusters with two or more similar instances, the measure by instance distance such as Euclidean distance.\n",
    "Then, within the boundary of each pair or cluster, SMOTE uniformly permutes features value, one feature at a time, to populate a collection of similar synthesized instances within each pair or cluster.\n",
    "\n",
    "As a result, SMOTE creates a class-balanced synthetic dataset without adding duplicated instances with minority labels.\n"
   ]
  },
  {
   "cell_type": "markdown",
   "id": "72ffc463",
   "metadata": {
    "papermill": {
     "duration": 0.038036,
     "end_time": "2022-06-27T04:01:22.743823",
     "exception": false,
     "start_time": "2022-06-27T04:01:22.705787",
     "status": "completed"
    },
    "tags": []
   },
   "source": [
    "The `imblearn` package provides us with many effective samplers including `SMOTE`, `RandomOverSampler`, and `RandomUnderSampler`. Let's use its `SMOTE` class to define a SMOTE sampler first\n"
   ]
  },
  {
   "cell_type": "code",
   "execution_count": 13,
   "id": "77312bf4",
   "metadata": {
    "execution": {
     "iopub.execute_input": "2022-06-27T04:01:22.822323Z",
     "iopub.status.busy": "2022-06-27T04:01:22.821915Z",
     "iopub.status.idle": "2022-06-27T04:01:22.826835Z",
     "shell.execute_reply": "2022-06-27T04:01:22.825927Z"
    },
    "papermill": {
     "duration": 0.047096,
     "end_time": "2022-06-27T04:01:22.828914",
     "exception": false,
     "start_time": "2022-06-27T04:01:22.781818",
     "status": "completed"
    },
    "tags": []
   },
   "outputs": [],
   "source": [
    "from imblearn.over_sampling import RandomOverSampler, SMOTE"
   ]
  },
  {
   "cell_type": "code",
   "execution_count": 14,
   "id": "6f122730",
   "metadata": {
    "execution": {
     "iopub.execute_input": "2022-06-27T04:01:22.907861Z",
     "iopub.status.busy": "2022-06-27T04:01:22.907423Z",
     "iopub.status.idle": "2022-06-27T04:01:22.913302Z",
     "shell.execute_reply": "2022-06-27T04:01:22.912077Z"
    },
    "papermill": {
     "duration": 0.048083,
     "end_time": "2022-06-27T04:01:22.915766",
     "exception": false,
     "start_time": "2022-06-27T04:01:22.867683",
     "status": "completed"
    },
    "tags": []
   },
   "outputs": [],
   "source": [
    "# Create a SMOTE sampler\n",
    "smote_sampler = SMOTE(random_state = rs)"
   ]
  },
  {
   "cell_type": "code",
   "execution_count": 15,
   "id": "1e2cdfe1",
   "metadata": {
    "execution": {
     "iopub.execute_input": "2022-06-27T04:01:22.994514Z",
     "iopub.status.busy": "2022-06-27T04:01:22.994099Z",
     "iopub.status.idle": "2022-06-27T04:01:23.054129Z",
     "shell.execute_reply": "2022-06-27T04:01:23.052815Z"
    },
    "papermill": {
     "duration": 0.103025,
     "end_time": "2022-06-27T04:01:23.057432",
     "exception": false,
     "start_time": "2022-06-27T04:01:22.954407",
     "status": "completed"
    },
    "tags": []
   },
   "outputs": [],
   "source": [
    "# Resample training data using SMOTE\n",
    "X_smo, y_smo = smote_sampler.fit_resample(X_train, y_train)"
   ]
  },
  {
   "cell_type": "markdown",
   "id": "415148ee",
   "metadata": {
    "papermill": {
     "duration": 0.038198,
     "end_time": "2022-06-27T04:01:23.134067",
     "exception": false,
     "start_time": "2022-06-27T04:01:23.095869",
     "status": "completed"
    },
    "tags": []
   },
   "source": [
    "After SMOTE resampling, we can see both positive and negative class has the same instances\n"
   ]
  },
  {
   "cell_type": "code",
   "execution_count": 16,
   "id": "0a4f2909",
   "metadata": {
    "execution": {
     "iopub.execute_input": "2022-06-27T04:01:23.212028Z",
     "iopub.status.busy": "2022-06-27T04:01:23.211614Z",
     "iopub.status.idle": "2022-06-27T04:01:23.409814Z",
     "shell.execute_reply": "2022-06-27T04:01:23.408443Z"
    },
    "papermill": {
     "duration": 0.240601,
     "end_time": "2022-06-27T04:01:23.412344",
     "exception": false,
     "start_time": "2022-06-27T04:01:23.171743",
     "status": "completed"
    },
    "tags": []
   },
   "outputs": [
    {
     "data": {
      "text/plain": [
       "<AxesSubplot:>"
      ]
     },
     "execution_count": 16,
     "metadata": {},
     "output_type": "execute_result"
    },
    {
     "data": {
      "image/png": "[encoded data removed]",
      "text/plain": [
       "<Figure size 432x288 with 1 Axes>"
      ]
     },
     "metadata": {
      "needs_background": "light"
     },
     "output_type": "display_data"
    }
   ],
   "source": [
    "y_train.value_counts().plot.bar(color=['green', 'red'])"
   ]
  },
  {
   "cell_type": "code",
   "execution_count": 17,
   "id": "1d755e09",
   "metadata": {
    "execution": {
     "iopub.execute_input": "2022-06-27T04:01:23.490404Z",
     "iopub.status.busy": "2022-06-27T04:01:23.489592Z",
     "iopub.status.idle": "2022-06-27T04:01:23.687509Z",
     "shell.execute_reply": "2022-06-27T04:01:23.686081Z"
    },
    "papermill": {
     "duration": 0.239919,
     "end_time": "2022-06-27T04:01:23.689938",
     "exception": false,
     "start_time": "2022-06-27T04:01:23.450019",
     "status": "completed"
    },
    "tags": []
   },
   "outputs": [
    {
     "data": {
      "text/plain": [
       "<AxesSubplot:>"
      ]
     },
     "execution_count": 17,
     "metadata": {},
     "output_type": "execute_result"
    },
    {
     "data": {
      "image/png": "[encoded data removed]",
      "text/plain": [
       "<Figure size 432x288 with 1 Axes>"
      ]
     },
     "metadata": {
      "needs_background": "light"
     },
     "output_type": "display_data"
    }
   ],
   "source": [
    "# Visualize classes\n",
    "y_smo.value_counts().plot.bar(color=['green', 'red'])"
   ]
  },
  {
   "cell_type": "markdown",
   "id": "9f2631ea",
   "metadata": {
    "papermill": {
     "duration": 0.037323,
     "end_time": "2022-06-27T04:01:23.765469",
     "exception": false,
     "start_time": "2022-06-27T04:01:23.728146",
     "status": "completed"
    },
    "tags": []
   },
   "source": [
    "Let's retrain the logistic regression model with resampled training data using SMOTE\n"
   ]
  },
  {
   "cell_type": "code",
   "execution_count": 18,
   "id": "e2c257fa",
   "metadata": {
    "execution": {
     "iopub.execute_input": "2022-06-27T04:01:23.843747Z",
     "iopub.status.busy": "2022-06-27T04:01:23.842857Z",
     "iopub.status.idle": "2022-06-27T04:01:24.589041Z",
     "shell.execute_reply": "2022-06-27T04:01:24.587347Z"
    },
    "papermill": {
     "duration": 0.789886,
     "end_time": "2022-06-27T04:01:24.593288",
     "exception": false,
     "start_time": "2022-06-27T04:01:23.803402",
     "status": "completed"
    },
    "tags": []
   },
   "outputs": [],
   "source": [
    "# Re-train the model with resampled data\n",
    "model.fit(X_smo, y_smo)\n",
    "preds = model.predict(X_test)"
   ]
  },
  {
   "cell_type": "markdown",
   "id": "eb33e130",
   "metadata": {
    "papermill": {
     "duration": 0.056822,
     "end_time": "2022-06-27T04:01:24.724421",
     "exception": false,
     "start_time": "2022-06-27T04:01:24.667599",
     "status": "completed"
    },
    "tags": []
   },
   "source": [
    "and re-evaluate the model to see if there are any improvements with respect to Precision, Recall, and F1\n"
   ]
  },
  {
   "cell_type": "code",
   "execution_count": 19,
   "id": "8805e22f",
   "metadata": {
    "execution": {
     "iopub.execute_input": "2022-06-27T04:01:24.802872Z",
     "iopub.status.busy": "2022-06-27T04:01:24.802410Z",
     "iopub.status.idle": "2022-06-27T04:01:24.832057Z",
     "shell.execute_reply": "2022-06-27T04:01:24.830014Z"
    },
    "papermill": {
     "duration": 0.071982,
     "end_time": "2022-06-27T04:01:24.834524",
     "exception": false,
     "start_time": "2022-06-27T04:01:24.762542",
     "status": "completed"
    },
    "tags": []
   },
   "outputs": [
    {
     "name": "stdout",
     "output_type": "stream",
     "text": [
      "Accuracy is: 0.97\n",
      "Precision is: 0.03\n",
      "Recall is: 0.88\n",
      "Fscore is: 0.42\n",
      "AUC is: 0.92\n"
     ]
    }
   ],
   "source": [
    "# Calculate the precision, recall, f5 given the y_test and predictions\n",
    "# Note that we use beta=5 which means we think the cost of positive class is 5 times of negative class\n",
    "# You could try other beta values yourself\n",
    "precision, recall, f_beta, support = precision_recall_fscore_support(y_test, preds, beta=5, pos_label=1, average='binary')\n",
    "auc = roc_auc_score(y_test, preds)\n",
    "accuracy = accuracy_score(y_test, preds)\n",
    "print(f\"Accuracy is: {accuracy:.2f}\")\n",
    "print(f\"Precision is: {precision:.2f}\")\n",
    "print(f\"Recall is: {recall:.2f}\")\n",
    "print(f\"Fscore is: {f_beta:.2f}\")\n",
    "print(f\"AUC is: {auc:.2f}\")"
   ]
  },
  {
   "cell_type": "markdown",
   "id": "06787937",
   "metadata": {
    "papermill": {
     "duration": 0.037928,
     "end_time": "2022-06-27T04:01:24.910462",
     "exception": false,
     "start_time": "2022-06-27T04:01:24.872534",
     "status": "completed"
    },
    "tags": []
   },
   "source": [
    "First, we can see AUC is improved from 0.72 to 0.91, this is a good sign as SMOTE improves model classification ability.\n"
   ]
  },
  {
   "cell_type": "markdown",
   "id": "130ce6f3",
   "metadata": {
    "papermill": {
     "duration": 0.03792,
     "end_time": "2022-06-27T04:01:24.986378",
     "exception": false,
     "start_time": "2022-06-27T04:01:24.948458",
     "status": "completed"
    },
    "tags": []
   },
   "source": [
    "Next, let's take a look at the recall. The recall is now 0.88, mostly two times larger than the original recall value of 0.45.\n"
   ]
  },
  {
   "cell_type": "markdown",
   "id": "2b88ca1d",
   "metadata": {
    "papermill": {
     "duration": 0.037358,
     "end_time": "2022-06-27T04:01:25.061759",
     "exception": false,
     "start_time": "2022-06-27T04:01:25.024401",
     "status": "completed"
    },
    "tags": []
   },
   "source": [
    "However, our model's precision is only 0.03. One possible reason is our dataset was extremely skewed, and oversampling the minority class significantly disrupts the original data distribution so that the model trained on the SMOTE dataset generates large false positives on the test dataset sampled from the original dataset.\n"
   ]
  },
  {
   "cell_type": "markdown",
   "id": "0d60d58d",
   "metadata": {
    "papermill": {
     "duration": 0.038483,
     "end_time": "2022-06-27T04:01:25.137972",
     "exception": false,
     "start_time": "2022-06-27T04:01:25.099489",
     "status": "completed"
    },
    "tags": []
   },
   "source": [
    "As such, for an extremely skewed dataset, we generally do not use oversampling as it significantly shifts the original data distribution.\n"
   ]
  },
  {
   "cell_type": "markdown",
   "id": "81ffdff6",
   "metadata": {
    "papermill": {
     "duration": 0.038578,
     "end_time": "2022-06-27T04:01:25.215657",
     "exception": false,
     "start_time": "2022-06-27T04:01:25.177079",
     "status": "completed"
    },
    "tags": []
   },
   "source": [
    "Next, let's try class re-weighting to see if it can achieve better results than SMOTE in terms of Precision, Recall, and Fscore.\n"
   ]
  },
  {
   "cell_type": "markdown",
   "id": "c6a75fbd",
   "metadata": {
    "papermill": {
     "duration": 0.040557,
     "end_time": "2022-06-27T04:01:25.295505",
     "exception": false,
     "start_time": "2022-06-27T04:01:25.254948",
     "status": "completed"
    },
    "tags": []
   },
   "source": [
    "### Class reweighting\n"
   ]
  },
  {
   "cell_type": "markdown",
   "id": "9c330570",
   "metadata": {
    "papermill": {
     "duration": 0.037373,
     "end_time": "2022-06-27T04:01:25.370298",
     "exception": false,
     "start_time": "2022-06-27T04:01:25.332925",
     "status": "completed"
    },
    "tags": []
   },
   "source": [
    "For binary classification models, its loss function is normally calculated via a sum of the loss with respect to class 0 and the loss with respect to class 1. By default, their class weights are all 1s meaning we treat each class equally important.\n",
    "\n",
    "However, since the class distribution is skewed in imbalanced datasets and the loss function optimization process will be dominated by the majority class, we want to help the minority class by increasing its class weight in the loss function.\n"
   ]
  },
  {
   "cell_type": "markdown",
   "id": "1f0c3952",
   "metadata": {
    "papermill": {
     "duration": 0.038245,
     "end_time": "2022-06-27T04:01:25.446170",
     "exception": false,
     "start_time": "2022-06-27T04:01:25.407925",
     "status": "completed"
    },
    "tags": []
   },
   "source": [
    "Class weights can be generally calculated via the following three strategies:\n"
   ]
  },
  {
   "cell_type": "markdown",
   "id": "565441cd",
   "metadata": {
    "papermill": {
     "duration": 0.037496,
     "end_time": "2022-06-27T04:01:25.521228",
     "exception": false,
     "start_time": "2022-06-27T04:01:25.483732",
     "status": "completed"
    },
    "tags": []
   },
   "source": [
    "*   Based on their instances portion in the dataset. For example, if positive instances only take 10% of the dataset, we assign its weight to be 0.9 and weight for the majority class to be 0.1\n",
    "*   Heuristics or domain knowledge. Misclassification normally has different costs per class, for example, the cost of failure to diagnose a disease is much higher than a false positive diagnose. If we already know such misclassification costs beforehand, we may use them to assign class weights\n",
    "*   Hyper-parameter tuning. Standard hyper-parameter tuning methods can be used to find optimized class weights. For example, grid searching from 0.1 to 0.9 for positive class weight to find out which hyperparameter combination generates the best model.\n"
   ]
  },
  {
   "cell_type": "markdown",
   "id": "cabb5ee5",
   "metadata": {
    "papermill": {
     "duration": 0.037523,
     "end_time": "2022-06-27T04:01:25.596223",
     "exception": false,
     "start_time": "2022-06-27T04:01:25.558700",
     "status": "completed"
    },
    "tags": []
   },
   "source": [
    "Python `sklearn` package provides a very convenient way to adjust class weights during model training via providing a class weight argument. Many standard classifiers in `sklearn` such as `LogisticRegression` and `RandomForestClassifier` support class reweighting natively.\n"
   ]
  },
  {
   "cell_type": "markdown",
   "id": "25365038",
   "metadata": {
    "papermill": {
     "duration": 0.037357,
     "end_time": "2022-06-27T04:01:25.671225",
     "exception": false,
     "start_time": "2022-06-27T04:01:25.633868",
     "status": "completed"
    },
    "tags": []
   },
   "source": [
    "Let see an example of class reweighting in `LogisticRegression`:\n"
   ]
  },
  {
   "cell_type": "markdown",
   "id": "0e8b7961",
   "metadata": {
    "papermill": {
     "duration": 0.037287,
     "end_time": "2022-06-27T04:01:25.746884",
     "exception": false,
     "start_time": "2022-06-27T04:01:25.709597",
     "status": "completed"
    },
    "tags": []
   },
   "source": [
    "First we just need to create a class weights dict object, and since\n"
   ]
  },
  {
   "cell_type": "code",
   "execution_count": 20,
   "id": "da1c70cb",
   "metadata": {
    "execution": {
     "iopub.execute_input": "2022-06-27T04:01:25.825987Z",
     "iopub.status.busy": "2022-06-27T04:01:25.824536Z",
     "iopub.status.idle": "2022-06-27T04:01:25.831209Z",
     "shell.execute_reply": "2022-06-27T04:01:25.829822Z"
    },
    "papermill": {
     "duration": 0.048167,
     "end_time": "2022-06-27T04:01:25.833546",
     "exception": false,
     "start_time": "2022-06-27T04:01:25.785379",
     "status": "completed"
    },
    "tags": []
   },
   "outputs": [],
   "source": [
    "class_weight = {}\n",
    "\n",
    "# Assign weight of class 0 to be 0.1\n",
    "class_weight[0] = 0.1\n",
    "\n",
    "# Assign weight of class 1 to be 0.9\n",
    "class_weight[1] = 0.9"
   ]
  },
  {
   "cell_type": "markdown",
   "id": "edd6b513",
   "metadata": {
    "papermill": {
     "duration": 0.037843,
     "end_time": "2022-06-27T04:01:25.909492",
     "exception": false,
     "start_time": "2022-06-27T04:01:25.871649",
     "status": "completed"
    },
    "tags": []
   },
   "source": [
    "Note that `0.1 vs. 0.9` is a pre-tuned weight combination, you could check the provided `grid_search_lr()` method at the beginning of this lab and use it to tune the optimized class weights yourself.\n"
   ]
  },
  {
   "cell_type": "markdown",
   "id": "535a7e18",
   "metadata": {
    "papermill": {
     "duration": 0.037076,
     "end_time": "2022-06-27T04:01:25.984167",
     "exception": false,
     "start_time": "2022-06-27T04:01:25.947091",
     "status": "completed"
    },
    "tags": []
   },
   "source": [
    "Next, let's use the class weight dict in a `LogisticRegression` model by specifying its `class_weight` argument.\n"
   ]
  },
  {
   "cell_type": "code",
   "execution_count": 21,
   "id": "a3df4ddb",
   "metadata": {
    "execution": {
     "iopub.execute_input": "2022-06-27T04:01:26.061614Z",
     "iopub.status.busy": "2022-06-27T04:01:26.061161Z",
     "iopub.status.idle": "2022-06-27T04:01:26.067073Z",
     "shell.execute_reply": "2022-06-27T04:01:26.065753Z"
    },
    "papermill": {
     "duration": 0.047627,
     "end_time": "2022-06-27T04:01:26.069455",
     "exception": false,
     "start_time": "2022-06-27T04:01:26.021828",
     "status": "completed"
    },
    "tags": []
   },
   "outputs": [],
   "source": [
    "# Define a logistic regression with weight\n",
    "model = LogisticRegression(random_state=rs, \n",
    "                              max_iter = 1000,\n",
    "                              class_weight=class_weight)"
   ]
  },
  {
   "cell_type": "markdown",
   "id": "47117f3e",
   "metadata": {
    "papermill": {
     "duration": 0.038181,
     "end_time": "2022-06-27T04:01:26.145265",
     "exception": false,
     "start_time": "2022-06-27T04:01:26.107084",
     "status": "completed"
    },
    "tags": []
   },
   "source": [
    "During the training process, the positive instance will have much larger influence on reducing the total loss and weight updates. The trained classifier will be enhanced to recognize positive instances (increase recall).\n"
   ]
  },
  {
   "cell_type": "code",
   "execution_count": 22,
   "id": "55156dcb",
   "metadata": {
    "execution": {
     "iopub.execute_input": "2022-06-27T04:01:26.224283Z",
     "iopub.status.busy": "2022-06-27T04:01:26.223840Z",
     "iopub.status.idle": "2022-06-27T04:01:26.568141Z",
     "shell.execute_reply": "2022-06-27T04:01:26.566495Z"
    },
    "papermill": {
     "duration": 0.389298,
     "end_time": "2022-06-27T04:01:26.572442",
     "exception": false,
     "start_time": "2022-06-27T04:01:26.183144",
     "status": "completed"
    },
    "tags": []
   },
   "outputs": [],
   "source": [
    "# Train the model\n",
    "model.fit(X_train, y_train)\n",
    "# Make predictions on the test dataset\n",
    "preds = model.predict(X_test)"
   ]
  },
  {
   "cell_type": "markdown",
   "id": "c4eb44d9",
   "metadata": {
    "papermill": {
     "duration": 0.056988,
     "end_time": "2022-06-27T04:01:26.705923",
     "exception": false,
     "start_time": "2022-06-27T04:01:26.648935",
     "status": "completed"
    },
    "tags": []
   },
   "source": [
    "Next, let's see if our metrics are getting better.\n"
   ]
  },
  {
   "cell_type": "code",
   "execution_count": 23,
   "id": "50143ca1",
   "metadata": {
    "execution": {
     "iopub.execute_input": "2022-06-27T04:01:26.873229Z",
     "iopub.status.busy": "2022-06-27T04:01:26.872805Z",
     "iopub.status.idle": "2022-06-27T04:01:26.901753Z",
     "shell.execute_reply": "2022-06-27T04:01:26.900058Z"
    },
    "papermill": {
     "duration": 0.158583,
     "end_time": "2022-06-27T04:01:26.904604",
     "exception": false,
     "start_time": "2022-06-27T04:01:26.746021",
     "status": "completed"
    },
    "tags": []
   },
   "outputs": [
    {
     "name": "stdout",
     "output_type": "stream",
     "text": [
      "Accuracy is: 1.00\n",
      "Precision is: 0.65\n",
      "Recall is: 0.82\n",
      "Fscore is: 0.82\n",
      "AUC is: 0.91\n"
     ]
    }
   ],
   "source": [
    "# Calculate the precision, recall, f5 given the y_test and predictions\n",
    "# Note that we use beta=5 which means we think the cost of positive class is 5 times of negative class\n",
    "# You could try other beta values yourself\n",
    "precision, recall, f_beta, support = precision_recall_fscore_support(y_test, preds, beta=5, pos_label=1, average='binary')\n",
    "auc = roc_auc_score(y_test, preds)\n",
    "accuracy = accuracy_score(y_test, preds)\n",
    "print(f\"Accuracy is: {accuracy:.2f}\")\n",
    "print(f\"Precision is: {precision:.2f}\")\n",
    "print(f\"Recall is: {recall:.2f}\")\n",
    "print(f\"Fscore is: {f_beta:.2f}\")\n",
    "print(f\"AUC is: {auc:.2f}\")"
   ]
  },
  {
   "cell_type": "markdown",
   "id": "94230e81",
   "metadata": {
    "papermill": {
     "duration": 0.037546,
     "end_time": "2022-06-27T04:01:26.980978",
     "exception": false,
     "start_time": "2022-06-27T04:01:26.943432",
     "status": "completed"
    },
    "tags": []
   },
   "source": [
    "As you can see, we have much balanced `Precision` and `Recall` values. It indicates that, for an extremely imbalanced dataset like credit card fraud detection, often class reweighting is a better strategy than oversampling. Since undersampling will significantly shrink the training dataset, we normally do not use undersampling for an extremely imbalanced dataset.\n"
   ]
  },
  {
   "cell_type": "markdown",
   "id": "5618f2ed",
   "metadata": {
    "papermill": {
     "duration": 0.037621,
     "end_time": "2022-06-27T04:01:27.056728",
     "exception": false,
     "start_time": "2022-06-27T04:01:27.019107",
     "status": "completed"
    },
    "tags": []
   },
   "source": [
    "To summarize the findings from the credit card fraud detection task:\n",
    "\n",
    "*   All models have very high accuracy and AUC values but this does not always mean they have good prediction performance, especially for classifying the fraud cases\n",
    "*   Classification on an extremly imbalanced dataset is usually a hard task, especially if we want to have both high recall and precision values\n",
    "*   `SMOTE` can achieve high recall but extremely low precision due to the caused disruptions of original data distribution\n",
    "*   Class reweighting can achieve a more balanced recall and precision value\n"
   ]
  },
  {
   "cell_type": "markdown",
   "id": "d8b4bb45",
   "metadata": {
    "papermill": {
     "duration": 0.037859,
     "end_time": "2022-06-27T04:01:27.131927",
     "exception": false,
     "start_time": "2022-06-27T04:01:27.094068",
     "status": "completed"
    },
    "tags": []
   },
   "source": [
    "Next, let's consolidate your understandings about the imbalanced data challenge with a few more imbalanced classification scenarios.\n"
   ]
  },
  {
   "cell_type": "markdown",
   "id": "b25842d2",
   "metadata": {
    "papermill": {
     "duration": 0.037811,
     "end_time": "2022-06-27T04:01:27.208930",
     "exception": false,
     "start_time": "2022-06-27T04:01:27.171119",
     "status": "completed"
    },
    "tags": []
   },
   "source": [
    "## Some utility model training and evaluation methods\n"
   ]
  },
  {
   "cell_type": "markdown",
   "id": "17727d1a",
   "metadata": {
    "papermill": {
     "duration": 0.037568,
     "end_time": "2022-06-27T04:01:27.284622",
     "exception": false,
     "start_time": "2022-06-27T04:01:27.247054",
     "status": "completed"
    },
    "tags": []
   },
   "source": [
    "Before we continue with more imbalanced classification scenarios, let's define some utility methods for you to simplify this lab and increase notebook readability. A method to define and train a logistic regression:\n"
   ]
  },
  {
   "cell_type": "code",
   "execution_count": 24,
   "id": "81db5b35",
   "metadata": {
    "execution": {
     "iopub.execute_input": "2022-06-27T04:01:27.363516Z",
     "iopub.status.busy": "2022-06-27T04:01:27.363103Z",
     "iopub.status.idle": "2022-06-27T04:01:27.371119Z",
     "shell.execute_reply": "2022-06-27T04:01:27.370074Z"
    },
    "papermill": {
     "duration": 0.049976,
     "end_time": "2022-06-27T04:01:27.373358",
     "exception": false,
     "start_time": "2022-06-27T04:01:27.323382",
     "status": "completed"
    },
    "tags": []
   },
   "outputs": [],
   "source": [
    "rs = 123\n",
    "# Build a logistic regression model\n",
    "def build_lr(X_train, y_train, X_test, threshold=0.5, best_params=None):\n",
    "    \n",
    "    model = LogisticRegression(random_state=rs, \n",
    "                              max_iter = 1000)\n",
    "    # If best parameters are provided\n",
    "    if best_params:\n",
    "        model = LogisticRegression(penalty = 'l2',\n",
    "                              random_state=rs, \n",
    "                              max_iter = 1000,\n",
    "                              class_weight=best_params['class_weight'])\n",
    "    # Train the model\n",
    "    model.fit(X_train, y_train)\n",
    "    # If predicted probability is largr than threshold (default value is 0.5), generate a positive label\n",
    "    predicted_proba = model.predict_proba(X_test)\n",
    "    yp = (predicted_proba [:,1] >= threshold).astype('int')\n",
    "    return yp, model"
   ]
  },
  {
   "cell_type": "markdown",
   "id": "984bb36c",
   "metadata": {
    "papermill": {
     "duration": 0.037626,
     "end_time": "2022-06-27T04:01:27.448894",
     "exception": false,
     "start_time": "2022-06-27T04:01:27.411268",
     "status": "completed"
    },
    "tags": []
   },
   "source": [
    "A method to define and train a random forest:\n"
   ]
  },
  {
   "cell_type": "code",
   "execution_count": 25,
   "id": "2fb0a9fa",
   "metadata": {
    "execution": {
     "iopub.execute_input": "2022-06-27T04:01:27.527393Z",
     "iopub.status.busy": "2022-06-27T04:01:27.526374Z",
     "iopub.status.idle": "2022-06-27T04:01:27.534747Z",
     "shell.execute_reply": "2022-06-27T04:01:27.533771Z"
    },
    "papermill": {
     "duration": 0.050301,
     "end_time": "2022-06-27T04:01:27.537239",
     "exception": false,
     "start_time": "2022-06-27T04:01:27.486938",
     "status": "completed"
    },
    "tags": []
   },
   "outputs": [],
   "source": [
    "def build_rf(X_train, y_train, X_test, threshold=0.5, best_params=None):\n",
    "    \n",
    "    model = RandomForestClassifier(random_state = rs)\n",
    "    # If best parameters are provided\n",
    "    if best_params:\n",
    "        model = RandomForestClassifier(random_state = rs,\n",
    "                                   # If bootstrap sampling is used\n",
    "                                   bootstrap = best_params['bootstrap'],\n",
    "                                   # Max depth of each tree\n",
    "                                   max_depth = best_params['max_depth'],\n",
    "                                   # Class weight parameters\n",
    "                                   class_weight=best_params['class_weight'],\n",
    "                                   # Number of trees\n",
    "                                   n_estimators=best_params['n_estimators'],\n",
    "                                   # Minimal samples to split\n",
    "                                   min_samples_split=best_params['min_samples_split'])\n",
    "    # Train the model   \n",
    "    model.fit(X_train, y_train)\n",
    "    # If predicted probability is largr than threshold (default value is 0.5), generate a positive label\n",
    "    predicted_proba = model.predict_proba(X_test)\n",
    "    yp = (predicted_proba [:,1] >= threshold).astype('int')\n",
    "    return yp, model"
   ]
  },
  {
   "cell_type": "markdown",
   "id": "fee77f98",
   "metadata": {
    "papermill": {
     "duration": 0.037736,
     "end_time": "2022-06-27T04:01:27.613097",
     "exception": false,
     "start_time": "2022-06-27T04:01:27.575361",
     "status": "completed"
    },
    "tags": []
   },
   "source": [
    "A method to evaluate a classifier's predictions\n"
   ]
  },
  {
   "cell_type": "code",
   "execution_count": 26,
   "id": "a1de60cc",
   "metadata": {
    "execution": {
     "iopub.execute_input": "2022-06-27T04:01:27.691914Z",
     "iopub.status.busy": "2022-06-27T04:01:27.691398Z",
     "iopub.status.idle": "2022-06-27T04:01:27.698949Z",
     "shell.execute_reply": "2022-06-27T04:01:27.697828Z"
    },
    "papermill": {
     "duration": 0.049639,
     "end_time": "2022-06-27T04:01:27.701349",
     "exception": false,
     "start_time": "2022-06-27T04:01:27.651710",
     "status": "completed"
    },
    "tags": []
   },
   "outputs": [],
   "source": [
    "rs = 123\n",
    "def evaluate(yt, yp, eval_type=\"Original\"):\n",
    "    results_pos = {}\n",
    "    results_pos['type'] = eval_type\n",
    "    # Accuracy\n",
    "    results_pos['accuracy'] = accuracy_score(yt, yp)\n",
    "    # Precision, recall, Fscore\n",
    "    precision, recall, f_beta, _ = precision_recall_fscore_support(yt, yp, beta=5, pos_label=1, average='binary')\n",
    "    results_pos['recall'] = recall\n",
    "    # AUC\n",
    "    results_pos['auc'] = roc_auc_score(yt, yp)\n",
    "    # Precision\n",
    "    results_pos['precision'] = precision\n",
    "    # Fscore\n",
    "    results_pos['fscore'] = f_beta\n",
    "    return results_pos"
   ]
  },
  {
   "cell_type": "markdown",
   "id": "e331e6db",
   "metadata": {
    "papermill": {
     "duration": 0.037648,
     "end_time": "2022-06-27T04:01:27.776754",
     "exception": false,
     "start_time": "2022-06-27T04:01:27.739106",
     "status": "completed"
    },
    "tags": []
   },
   "source": [
    "A method to resample the original dataset\n"
   ]
  },
  {
   "cell_type": "code",
   "execution_count": 27,
   "id": "c092ddd3",
   "metadata": {
    "execution": {
     "iopub.execute_input": "2022-06-27T04:01:27.855364Z",
     "iopub.status.busy": "2022-06-27T04:01:27.854358Z",
     "iopub.status.idle": "2022-06-27T04:01:27.860548Z",
     "shell.execute_reply": "2022-06-27T04:01:27.859693Z"
    },
    "papermill": {
     "duration": 0.047788,
     "end_time": "2022-06-27T04:01:27.862774",
     "exception": false,
     "start_time": "2022-06-27T04:01:27.814986",
     "status": "completed"
    },
    "tags": []
   },
   "outputs": [],
   "source": [
    "def resample(X_train, y_train):\n",
    "    # SMOTE sampler (Oversampling)\n",
    "    smote_sampler = SMOTE(random_state = 123)\n",
    "    # Undersampling\n",
    "    under_sampler = RandomUnderSampler(random_state=123)\n",
    "    # Resampled datasets\n",
    "    X_smo, y_smo = smote_sampler.fit_resample(X_train, y_train)\n",
    "    X_under, y_under = under_sampler.fit_resample(X_train, y_train)\n",
    "    return X_smo, y_smo, X_under, y_under"
   ]
  },
  {
   "cell_type": "markdown",
   "id": "cc587736",
   "metadata": {
    "papermill": {
     "duration": 0.047573,
     "end_time": "2022-06-27T04:01:27.949231",
     "exception": false,
     "start_time": "2022-06-27T04:01:27.901658",
     "status": "completed"
    },
    "tags": []
   },
   "source": [
    "And a method to visualize metrics\n"
   ]
  },
  {
   "cell_type": "code",
   "execution_count": 28,
   "id": "914919b0",
   "metadata": {
    "execution": {
     "iopub.execute_input": "2022-06-27T04:01:28.028460Z",
     "iopub.status.busy": "2022-06-27T04:01:28.027642Z",
     "iopub.status.idle": "2022-06-27T04:01:28.038177Z",
     "shell.execute_reply": "2022-06-27T04:01:28.037181Z"
    },
    "papermill": {
     "duration": 0.053296,
     "end_time": "2022-06-27T04:01:28.040662",
     "exception": false,
     "start_time": "2022-06-27T04:01:27.987366",
     "status": "completed"
    },
    "tags": []
   },
   "outputs": [],
   "source": [
    "def visualize_eval_metrics(results):\n",
    "    df = pd.DataFrame(data=results)\n",
    "    #table = pd.pivot_table(df, values='type', index=['accuracy', 'precision', 'recall', 'f1', 'auc'],\n",
    "    #                columns=['type'])\n",
    "    #df = df.set_index('type').transpose()\n",
    "    print(df)\n",
    "    x = np.arange(5)\n",
    "    original = df.iloc[0, 1:].values\n",
    "    class_weight = df.iloc[1, 1:].values\n",
    "    smote = df.iloc[2, 1:].values\n",
    "    under = df.iloc[3, 1:].values\n",
    "    width = 0.2\n",
    "    figure(figsize=(12, 10), dpi=80)\n",
    "    plt.bar(x-0.2, original, width, color='#95a5a6')\n",
    "    plt.bar(x, class_weight, width, color='#d35400')\n",
    "    plt.bar(x+0.2, smote, width, color='#2980b9')\n",
    "    plt.bar(x+0.4, under, width, color='#3498db')\n",
    "    plt.xticks(x, ['Accuracy', 'Recall', 'AUC', 'Precision', 'Fscore'])\n",
    "    plt.xlabel(\"Evaluation Metrics\")\n",
    "    plt.ylabel(\"Score\")\n",
    "    plt.legend([\"Original\", \"Class Weight\", \"SMOTE\", \"Undersampling\"])\n",
    "    plt.show()"
   ]
  },
  {
   "cell_type": "markdown",
   "id": "48692edb",
   "metadata": {
    "papermill": {
     "duration": 0.037795,
     "end_time": "2022-06-27T04:01:28.117073",
     "exception": false,
     "start_time": "2022-06-27T04:01:28.079278",
     "status": "completed"
    },
    "tags": []
   },
   "source": [
    "## Scenario: Predicting Customer Churn\n"
   ]
  },
  {
   "cell_type": "markdown",
   "id": "070089bb",
   "metadata": {
    "papermill": {
     "duration": 0.037476,
     "end_time": "2022-06-27T04:01:28.192852",
     "exception": false,
     "start_time": "2022-06-27T04:01:28.155376",
     "status": "completed"
    },
    "tags": []
   },
   "source": [
    "In the second scenario, we will be predicting customer churns (leaving the business) of a telecom company.\n"
   ]
  },
  {
   "cell_type": "markdown",
   "id": "036b1b46",
   "metadata": {
    "papermill": {
     "duration": 0.037469,
     "end_time": "2022-06-27T04:01:28.268254",
     "exception": false,
     "start_time": "2022-06-27T04:01:28.230785",
     "status": "completed"
    },
    "tags": []
   },
   "source": [
    "First, let's read the dataset\n"
   ]
  },
  {
   "cell_type": "code",
   "execution_count": 29,
   "id": "03363d12",
   "metadata": {
    "execution": {
     "iopub.execute_input": "2022-06-27T04:01:28.347476Z",
     "iopub.status.busy": "2022-06-27T04:01:28.346701Z",
     "iopub.status.idle": "2022-06-27T04:01:36.061265Z",
     "shell.execute_reply": "2022-06-27T04:01:36.059906Z"
    },
    "papermill": {
     "duration": 7.757209,
     "end_time": "2022-06-27T04:01:36.064328",
     "exception": false,
     "start_time": "2022-06-27T04:01:28.307119",
     "status": "completed"
    },
    "tags": []
   },
   "outputs": [],
   "source": [
    "churn_df = pd.read_csv(\"https://cf-courses-data.s3.us.cloud-object-storage.appdomain.cloud/IBM-ML201EN-SkillsNetwork/labs/module_4/datasets/im_churn.csv\", index_col=False)"
   ]
  },
  {
   "cell_type": "code",
   "execution_count": 30,
   "id": "132e18ce",
   "metadata": {
    "execution": {
     "iopub.execute_input": "2022-06-27T04:01:36.142994Z",
     "iopub.status.busy": "2022-06-27T04:01:36.142621Z",
     "iopub.status.idle": "2022-06-27T04:01:36.179604Z",
     "shell.execute_reply": "2022-06-27T04:01:36.178434Z"
    },
    "papermill": {
     "duration": 0.08099,
     "end_time": "2022-06-27T04:01:36.184249",
     "exception": false,
     "start_time": "2022-06-27T04:01:36.103259",
     "status": "completed"
    },
    "tags": []
   },
   "outputs": [
    {
     "data": {
      "text/html": [
       "<div>\n",
       "<style scoped>\n",
       "    .dataframe tbody tr th:only-of-type {\n",
       "        vertical-align: middle;\n",
       "    }\n",
       "\n",
       "    .dataframe tbody tr th {\n",
       "        vertical-align: top;\n",
       "    }\n",
       "\n",
       "    .dataframe thead th {\n",
       "        text-align: right;\n",
       "    }\n",
       "</style>\n",
       "<table border=\"1\" class=\"dataframe\">\n",
       "  <thead>\n",
       "    <tr style=\"text-align: right;\">\n",
       "      <th></th>\n",
       "      <th>tenure</th>\n",
       "      <th>MonthlyCharges</th>\n",
       "      <th>TotalCharges</th>\n",
       "      <th>Partner_0</th>\n",
       "      <th>Partner_1</th>\n",
       "      <th>Dependents_0</th>\n",
       "      <th>Dependents_1</th>\n",
       "      <th>PhoneService_0</th>\n",
       "      <th>PhoneService_1</th>\n",
       "      <th>MultipleLines_0</th>\n",
       "      <th>...</th>\n",
       "      <th>Contract_0</th>\n",
       "      <th>Contract_1</th>\n",
       "      <th>Contract_2</th>\n",
       "      <th>PaperlessBilling_0</th>\n",
       "      <th>PaperlessBilling_1</th>\n",
       "      <th>PaymentMethod_0</th>\n",
       "      <th>PaymentMethod_1</th>\n",
       "      <th>PaymentMethod_2</th>\n",
       "      <th>PaymentMethod_3</th>\n",
       "      <th>Class</th>\n",
       "    </tr>\n",
       "  </thead>\n",
       "  <tbody>\n",
       "    <tr>\n",
       "      <th>0</th>\n",
       "      <td>27</td>\n",
       "      <td>70.55</td>\n",
       "      <td>1943.90</td>\n",
       "      <td>1.0</td>\n",
       "      <td>0.0</td>\n",
       "      <td>1.0</td>\n",
       "      <td>0.0</td>\n",
       "      <td>0.0</td>\n",
       "      <td>1.0</td>\n",
       "      <td>0.0</td>\n",
       "      <td>...</td>\n",
       "      <td>1.0</td>\n",
       "      <td>0.0</td>\n",
       "      <td>0.0</td>\n",
       "      <td>1.0</td>\n",
       "      <td>0.0</td>\n",
       "      <td>1.0</td>\n",
       "      <td>0.0</td>\n",
       "      <td>0.0</td>\n",
       "      <td>0.0</td>\n",
       "      <td>0</td>\n",
       "    </tr>\n",
       "    <tr>\n",
       "      <th>1</th>\n",
       "      <td>69</td>\n",
       "      <td>93.30</td>\n",
       "      <td>6398.05</td>\n",
       "      <td>1.0</td>\n",
       "      <td>0.0</td>\n",
       "      <td>0.0</td>\n",
       "      <td>1.0</td>\n",
       "      <td>0.0</td>\n",
       "      <td>1.0</td>\n",
       "      <td>0.0</td>\n",
       "      <td>...</td>\n",
       "      <td>0.0</td>\n",
       "      <td>0.0</td>\n",
       "      <td>1.0</td>\n",
       "      <td>1.0</td>\n",
       "      <td>0.0</td>\n",
       "      <td>0.0</td>\n",
       "      <td>0.0</td>\n",
       "      <td>1.0</td>\n",
       "      <td>0.0</td>\n",
       "      <td>0</td>\n",
       "    </tr>\n",
       "    <tr>\n",
       "      <th>2</th>\n",
       "      <td>55</td>\n",
       "      <td>59.20</td>\n",
       "      <td>3175.85</td>\n",
       "      <td>0.0</td>\n",
       "      <td>1.0</td>\n",
       "      <td>1.0</td>\n",
       "      <td>0.0</td>\n",
       "      <td>0.0</td>\n",
       "      <td>1.0</td>\n",
       "      <td>0.0</td>\n",
       "      <td>...</td>\n",
       "      <td>0.0</td>\n",
       "      <td>0.0</td>\n",
       "      <td>1.0</td>\n",
       "      <td>1.0</td>\n",
       "      <td>0.0</td>\n",
       "      <td>1.0</td>\n",
       "      <td>0.0</td>\n",
       "      <td>0.0</td>\n",
       "      <td>0.0</td>\n",
       "      <td>0</td>\n",
       "    </tr>\n",
       "    <tr>\n",
       "      <th>3</th>\n",
       "      <td>49</td>\n",
       "      <td>59.60</td>\n",
       "      <td>2970.30</td>\n",
       "      <td>1.0</td>\n",
       "      <td>0.0</td>\n",
       "      <td>0.0</td>\n",
       "      <td>1.0</td>\n",
       "      <td>0.0</td>\n",
       "      <td>1.0</td>\n",
       "      <td>0.0</td>\n",
       "      <td>...</td>\n",
       "      <td>1.0</td>\n",
       "      <td>0.0</td>\n",
       "      <td>0.0</td>\n",
       "      <td>0.0</td>\n",
       "      <td>1.0</td>\n",
       "      <td>0.0</td>\n",
       "      <td>0.0</td>\n",
       "      <td>0.0</td>\n",
       "      <td>1.0</td>\n",
       "      <td>0</td>\n",
       "    </tr>\n",
       "    <tr>\n",
       "      <th>4</th>\n",
       "      <td>72</td>\n",
       "      <td>109.55</td>\n",
       "      <td>7887.25</td>\n",
       "      <td>1.0</td>\n",
       "      <td>0.0</td>\n",
       "      <td>0.0</td>\n",
       "      <td>1.0</td>\n",
       "      <td>0.0</td>\n",
       "      <td>1.0</td>\n",
       "      <td>0.0</td>\n",
       "      <td>...</td>\n",
       "      <td>0.0</td>\n",
       "      <td>0.0</td>\n",
       "      <td>1.0</td>\n",
       "      <td>0.0</td>\n",
       "      <td>1.0</td>\n",
       "      <td>0.0</td>\n",
       "      <td>0.0</td>\n",
       "      <td>0.0</td>\n",
       "      <td>1.0</td>\n",
       "      <td>0</td>\n",
       "    </tr>\n",
       "  </tbody>\n",
       "</table>\n",
       "<p>5 rows × 43 columns</p>\n",
       "</div>"
      ],
      "text/plain": [
       "   tenure  MonthlyCharges  TotalCharges  Partner_0  Partner_1  Dependents_0  \\\n",
       "0      27           70.55       1943.90        1.0        0.0           1.0   \n",
       "1      69           93.30       6398.05        1.0        0.0           0.0   \n",
       "2      55           59.20       3175.85        0.0        1.0           1.0   \n",
       "3      49           59.60       2970.30        1.0        0.0           0.0   \n",
       "4      72          109.55       7887.25        1.0        0.0           0.0   \n",
       "\n",
       "   Dependents_1  PhoneService_0  PhoneService_1  MultipleLines_0  ...  \\\n",
       "0           0.0             0.0             1.0              0.0  ...   \n",
       "1           1.0             0.0             1.0              0.0  ...   \n",
       "2           0.0             0.0             1.0              0.0  ...   \n",
       "3           1.0             0.0             1.0              0.0  ...   \n",
       "4           1.0             0.0             1.0              0.0  ...   \n",
       "\n",
       "   Contract_0  Contract_1  Contract_2  PaperlessBilling_0  PaperlessBilling_1  \\\n",
       "0         1.0         0.0         0.0                 1.0                 0.0   \n",
       "1         0.0         0.0         1.0                 1.0                 0.0   \n",
       "2         0.0         0.0         1.0                 1.0                 0.0   \n",
       "3         1.0         0.0         0.0                 0.0                 1.0   \n",
       "4         0.0         0.0         1.0                 0.0                 1.0   \n",
       "\n",
       "   PaymentMethod_0  PaymentMethod_1  PaymentMethod_2  PaymentMethod_3  Class  \n",
       "0              1.0              0.0              0.0              0.0      0  \n",
       "1              0.0              0.0              1.0              0.0      0  \n",
       "2              1.0              0.0              0.0              0.0      0  \n",
       "3              0.0              0.0              0.0              1.0      0  \n",
       "4              0.0              0.0              0.0              1.0      0  \n",
       "\n",
       "[5 rows x 43 columns]"
      ]
     },
     "execution_count": 30,
     "metadata": {},
     "output_type": "execute_result"
    }
   ],
   "source": [
    "churn_df.head()"
   ]
  },
  {
   "cell_type": "markdown",
   "id": "b83093e1",
   "metadata": {
    "papermill": {
     "duration": 0.042467,
     "end_time": "2022-06-27T04:01:36.268747",
     "exception": false,
     "start_time": "2022-06-27T04:01:36.226280",
     "status": "completed"
    },
    "tags": []
   },
   "source": [
    "This dataset is processed and contains features about a customer's telcom service types, tenure, charges, and payments. Based on such features, we would like to predict if a customer is leaving the business or not (churn).\n"
   ]
  },
  {
   "cell_type": "markdown",
   "id": "2f46dde0",
   "metadata": {
    "papermill": {
     "duration": 0.039439,
     "end_time": "2022-06-27T04:01:36.348313",
     "exception": false,
     "start_time": "2022-06-27T04:01:36.308874",
     "status": "completed"
    },
    "tags": []
   },
   "source": [
    "Then, we need to split the data into training and testing datasets,\n"
   ]
  },
  {
   "cell_type": "code",
   "execution_count": 31,
   "id": "5860aea1",
   "metadata": {
    "execution": {
     "iopub.execute_input": "2022-06-27T04:01:36.430426Z",
     "iopub.status.busy": "2022-06-27T04:01:36.429765Z",
     "iopub.status.idle": "2022-06-27T04:01:36.441805Z",
     "shell.execute_reply": "2022-06-27T04:01:36.440900Z"
    },
    "papermill": {
     "duration": 0.055188,
     "end_time": "2022-06-27T04:01:36.444206",
     "exception": false,
     "start_time": "2022-06-27T04:01:36.389018",
     "status": "completed"
    },
    "tags": []
   },
   "outputs": [],
   "source": [
    "X_train, X_test, y_train, y_test = split_data(churn_df)"
   ]
  },
  {
   "cell_type": "markdown",
   "id": "2a90979d",
   "metadata": {
    "papermill": {
     "duration": 0.038984,
     "end_time": "2022-06-27T04:01:36.523791",
     "exception": false,
     "start_time": "2022-06-27T04:01:36.484807",
     "status": "completed"
    },
    "tags": []
   },
   "source": [
    "and take a look at its class distribution.\n"
   ]
  },
  {
   "cell_type": "code",
   "execution_count": 32,
   "id": "063649e8",
   "metadata": {
    "execution": {
     "iopub.execute_input": "2022-06-27T04:01:36.606816Z",
     "iopub.status.busy": "2022-06-27T04:01:36.606014Z",
     "iopub.status.idle": "2022-06-27T04:01:36.801580Z",
     "shell.execute_reply": "2022-06-27T04:01:36.800683Z"
    },
    "papermill": {
     "duration": 0.240897,
     "end_time": "2022-06-27T04:01:36.803844",
     "exception": false,
     "start_time": "2022-06-27T04:01:36.562947",
     "status": "completed"
    },
    "tags": []
   },
   "outputs": [
    {
     "data": {
      "text/plain": [
       "<AxesSubplot:>"
      ]
     },
     "execution_count": 32,
     "metadata": {},
     "output_type": "execute_result"
    },
    {
     "data": {
      "image/png": "[encoded data removed]",
      "text/plain": [
       "<Figure size 432x288 with 1 Axes>"
      ]
     },
     "metadata": {
      "needs_background": "light"
     },
     "output_type": "display_data"
    }
   ],
   "source": [
    "y_train.value_counts().plot.bar(color=['green', 'red'])"
   ]
  },
  {
   "cell_type": "markdown",
   "id": "81e608a1",
   "metadata": {
    "papermill": {
     "duration": 0.038252,
     "end_time": "2022-06-27T04:01:36.881805",
     "exception": false,
     "start_time": "2022-06-27T04:01:36.843553",
     "status": "completed"
    },
    "tags": []
   },
   "source": [
    "As we can see from the bar chart above, the non-churn customers are almost 4 times more than the churn customers, which makes it an imbalanced dataset as well. Since this dataset has 42 features, it would be better to use a more complex classification model and we choose to use `RandomForestClassifier` from `sklearn` package.\n"
   ]
  },
  {
   "cell_type": "markdown",
   "id": "17d17d22",
   "metadata": {
    "papermill": {
     "duration": 0.038237,
     "end_time": "2022-06-27T04:01:36.958712",
     "exception": false,
     "start_time": "2022-06-27T04:01:36.920475",
     "status": "completed"
    },
    "tags": []
   },
   "source": [
    "`RandomForestClassifier` has many hyperparameters that need to be tuned, we have pre-tuned the main parameters for you. You may also use the provided `grid_search_rf()` method to play with hyperparameter tuning yourself.\n"
   ]
  },
  {
   "cell_type": "code",
   "execution_count": 33,
   "id": "62bd4f0b",
   "metadata": {
    "execution": {
     "iopub.execute_input": "2022-06-27T04:01:37.039227Z",
     "iopub.status.busy": "2022-06-27T04:01:37.038757Z",
     "iopub.status.idle": "2022-06-27T04:01:37.044540Z",
     "shell.execute_reply": "2022-06-27T04:01:37.043305Z"
    },
    "papermill": {
     "duration": 0.049412,
     "end_time": "2022-06-27T04:01:37.046730",
     "exception": false,
     "start_time": "2022-06-27T04:01:36.997318",
     "status": "completed"
    },
    "tags": []
   },
   "outputs": [],
   "source": [
    "# Tuned random forest parameters\n",
    "best_params_no_weight = {'bootstrap': True,\n",
    "                         'class_weight': None, \n",
    "                         'max_depth': 10, \n",
    "                         'min_samples_split': 5, \n",
    "                         'n_estimators': 50}"
   ]
  },
  {
   "cell_type": "markdown",
   "id": "b302b2dc",
   "metadata": {
    "papermill": {
     "duration": 0.038672,
     "end_time": "2022-06-27T04:01:37.125266",
     "exception": false,
     "start_time": "2022-06-27T04:01:37.086594",
     "status": "completed"
    },
    "tags": []
   },
   "source": [
    "Next, since we want to compare the performance of different models, we create a list to contain all model performance metrics.\n"
   ]
  },
  {
   "cell_type": "code",
   "execution_count": 34,
   "id": "d1da776c",
   "metadata": {
    "execution": {
     "iopub.execute_input": "2022-06-27T04:01:37.205573Z",
     "iopub.status.busy": "2022-06-27T04:01:37.204367Z",
     "iopub.status.idle": "2022-06-27T04:01:37.209879Z",
     "shell.execute_reply": "2022-06-27T04:01:37.208963Z"
    },
    "papermill": {
     "duration": 0.047921,
     "end_time": "2022-06-27T04:01:37.212020",
     "exception": false,
     "start_time": "2022-06-27T04:01:37.164099",
     "status": "completed"
    },
    "tags": []
   },
   "outputs": [],
   "source": [
    "results = []"
   ]
  },
  {
   "cell_type": "markdown",
   "id": "b083cb55",
   "metadata": {
    "papermill": {
     "duration": 0.038765,
     "end_time": "2022-06-27T04:01:37.289743",
     "exception": false,
     "start_time": "2022-06-27T04:01:37.250978",
     "status": "completed"
    },
    "tags": []
   },
   "source": [
    "### Train a regular random forest classifier\n"
   ]
  },
  {
   "cell_type": "markdown",
   "id": "42f297f2",
   "metadata": {
    "papermill": {
     "duration": 0.038026,
     "end_time": "2022-06-27T04:01:37.366863",
     "exception": false,
     "start_time": "2022-06-27T04:01:37.328837",
     "status": "completed"
    },
    "tags": []
   },
   "source": [
    "Then, we will train a regular random forest classifier without any add-ons (class weights or resampling).\n"
   ]
  },
  {
   "cell_type": "code",
   "execution_count": 35,
   "id": "e8d8ad5f",
   "metadata": {
    "execution": {
     "iopub.execute_input": "2022-06-27T04:01:37.447523Z",
     "iopub.status.busy": "2022-06-27T04:01:37.446661Z",
     "iopub.status.idle": "2022-06-27T04:01:37.714098Z",
     "shell.execute_reply": "2022-06-27T04:01:37.712210Z"
    },
    "papermill": {
     "duration": 0.311027,
     "end_time": "2022-06-27T04:01:37.717246",
     "exception": false,
     "start_time": "2022-06-27T04:01:37.406219",
     "status": "completed"
    },
    "tags": []
   },
   "outputs": [
    {
     "name": "stdout",
     "output_type": "stream",
     "text": [
      "{'type': 'Original', 'accuracy': 0.8623481781376519, 'recall': 0.28, 'auc': 0.6274396135265701, 'precision': 0.6829268292682927, 'fscore': 0.2865013774104683}\n"
     ]
    }
   ],
   "source": [
    "preds, model = build_rf(X_train, y_train, X_test, best_params=best_params_no_weight)\n",
    "result = evaluate(y_test, preds, \"Original\")\n",
    "print(result)\n",
    "results.append(result)"
   ]
  },
  {
   "cell_type": "markdown",
   "id": "7648a050",
   "metadata": {
    "papermill": {
     "duration": 0.040377,
     "end_time": "2022-06-27T04:01:37.799379",
     "exception": false,
     "start_time": "2022-06-27T04:01:37.759002",
     "status": "completed"
    },
    "tags": []
   },
   "source": [
    "As you may expect, we have a very high prediction `accuracy` but even using a random forest classifier, our `recall` is very low with only 0.28.\n",
    "Next, let's try the class reweighting method to see if we can improve the performance.\n"
   ]
  },
  {
   "cell_type": "markdown",
   "id": "11682d11",
   "metadata": {
    "papermill": {
     "duration": 0.039887,
     "end_time": "2022-06-27T04:01:37.879420",
     "exception": false,
     "start_time": "2022-06-27T04:01:37.839533",
     "status": "completed"
    },
    "tags": []
   },
   "source": [
    "### Add class re-weighting\n"
   ]
  },
  {
   "cell_type": "markdown",
   "id": "5111c297",
   "metadata": {
    "papermill": {
     "duration": 0.039907,
     "end_time": "2022-06-27T04:01:37.963667",
     "exception": false,
     "start_time": "2022-06-27T04:01:37.923760",
     "status": "completed"
    },
    "tags": []
   },
   "source": [
    "We will add class weights to the random forest classifier with pre-tuned weight 0.8 to churn class and weight 0.2 to non-churn class.\n"
   ]
  },
  {
   "cell_type": "code",
   "execution_count": 36,
   "id": "00b66dd0",
   "metadata": {
    "execution": {
     "iopub.execute_input": "2022-06-27T04:01:38.046097Z",
     "iopub.status.busy": "2022-06-27T04:01:38.045663Z",
     "iopub.status.idle": "2022-06-27T04:01:38.051136Z",
     "shell.execute_reply": "2022-06-27T04:01:38.049954Z"
    },
    "papermill": {
     "duration": 0.049884,
     "end_time": "2022-06-27T04:01:38.053456",
     "exception": false,
     "start_time": "2022-06-27T04:01:38.003572",
     "status": "completed"
    },
    "tags": []
   },
   "outputs": [],
   "source": [
    "class_weight = {}\n",
    "# 0.2 to Non-churn class\n",
    "class_weight[0] = 0.2\n",
    "# 0.8 to Churn class\n",
    "class_weight[1] = 0.8"
   ]
  },
  {
   "cell_type": "code",
   "execution_count": 37,
   "id": "0e3bab66",
   "metadata": {
    "execution": {
     "iopub.execute_input": "2022-06-27T04:01:38.135817Z",
     "iopub.status.busy": "2022-06-27T04:01:38.134575Z",
     "iopub.status.idle": "2022-06-27T04:01:38.140820Z",
     "shell.execute_reply": "2022-06-27T04:01:38.139763Z"
    },
    "papermill": {
     "duration": 0.050165,
     "end_time": "2022-06-27T04:01:38.143413",
     "exception": false,
     "start_time": "2022-06-27T04:01:38.093248",
     "status": "completed"
    },
    "tags": []
   },
   "outputs": [],
   "source": [
    "# Pre-tuned hyper parameters\n",
    "best_params_weight = {'bootstrap': True,\n",
    "                         'class_weight': class_weight, \n",
    "                         'max_depth': 10, \n",
    "                         'min_samples_split': 5, \n",
    "                         'n_estimators': 50}"
   ]
  },
  {
   "cell_type": "markdown",
   "id": "1eac748e",
   "metadata": {
    "papermill": {
     "duration": 0.040233,
     "end_time": "2022-06-27T04:01:38.224402",
     "exception": false,
     "start_time": "2022-06-27T04:01:38.184169",
     "status": "completed"
    },
    "tags": []
   },
   "source": [
    "Build a random forest model with the class weight 0.8 vs. 0.2.\n"
   ]
  },
  {
   "cell_type": "code",
   "execution_count": 38,
   "id": "a0b61407",
   "metadata": {
    "execution": {
     "iopub.execute_input": "2022-06-27T04:01:38.308161Z",
     "iopub.status.busy": "2022-06-27T04:01:38.307246Z",
     "iopub.status.idle": "2022-06-27T04:01:38.573916Z",
     "shell.execute_reply": "2022-06-27T04:01:38.572557Z"
    },
    "papermill": {
     "duration": 0.31209,
     "end_time": "2022-06-27T04:01:38.577188",
     "exception": false,
     "start_time": "2022-06-27T04:01:38.265098",
     "status": "completed"
    },
    "tags": []
   },
   "outputs": [],
   "source": [
    "# class weight\n",
    "preds_cw, weight_model = build_rf(X_train, y_train, X_test, best_params=best_params_weight)"
   ]
  },
  {
   "cell_type": "markdown",
   "id": "0f8ea1e3",
   "metadata": {
    "papermill": {
     "duration": 0.041504,
     "end_time": "2022-06-27T04:01:38.659343",
     "exception": false,
     "start_time": "2022-06-27T04:01:38.617839",
     "status": "completed"
    },
    "tags": []
   },
   "source": [
    "Then evaluate the refined model.\n"
   ]
  },
  {
   "cell_type": "code",
   "execution_count": 39,
   "id": "184d95b5",
   "metadata": {
    "execution": {
     "iopub.execute_input": "2022-06-27T04:01:38.741600Z",
     "iopub.status.busy": "2022-06-27T04:01:38.740389Z",
     "iopub.status.idle": "2022-06-27T04:01:38.752879Z",
     "shell.execute_reply": "2022-06-27T04:01:38.751529Z"
    },
    "papermill": {
     "duration": 0.05632,
     "end_time": "2022-06-27T04:01:38.755693",
     "exception": false,
     "start_time": "2022-06-27T04:01:38.699373",
     "status": "completed"
    },
    "tags": []
   },
   "outputs": [
    {
     "name": "stdout",
     "output_type": "stream",
     "text": [
      "{'type': 'Class Weight', 'accuracy': 0.8137651821862348, 'recall': 0.62, 'auc': 0.7356038647342995, 'precision': 0.4460431654676259, 'fscore': 0.6108374384236454}\n"
     ]
    }
   ],
   "source": [
    "result = evaluate(y_test, preds_cw, \"Class Weight\")\n",
    "print(result)\n",
    "results.append(result)"
   ]
  },
  {
   "cell_type": "markdown",
   "id": "3b50eb6d",
   "metadata": {
    "papermill": {
     "duration": 0.039699,
     "end_time": "2022-06-27T04:01:38.834736",
     "exception": false,
     "start_time": "2022-06-27T04:01:38.795037",
     "status": "completed"
    },
    "tags": []
   },
   "source": [
    "As we can see from the evaluation results above, `Recall` and `Fscore` are significantly improved by adding class weights. Such improvements indicate that class reweighting is effective for the imbalanced customer churn dataset.\n"
   ]
  },
  {
   "cell_type": "markdown",
   "id": "38545de7",
   "metadata": {
    "papermill": {
     "duration": 0.040614,
     "end_time": "2022-06-27T04:01:38.914834",
     "exception": false,
     "start_time": "2022-06-27T04:01:38.874220",
     "status": "completed"
    },
    "tags": []
   },
   "source": [
    "### Resampling: SMOTE and Undersampling\n"
   ]
  },
  {
   "cell_type": "markdown",
   "id": "913c7698",
   "metadata": {
    "papermill": {
     "duration": 0.038627,
     "end_time": "2022-06-27T04:01:38.992364",
     "exception": false,
     "start_time": "2022-06-27T04:01:38.953737",
     "status": "completed"
    },
    "tags": []
   },
   "source": [
    "Then, we want to use resampling to see if it is also able to improve the model performance.\n"
   ]
  },
  {
   "cell_type": "markdown",
   "id": "bcd12013",
   "metadata": {
    "papermill": {
     "duration": 0.038523,
     "end_time": "2022-06-27T04:01:39.070067",
     "exception": false,
     "start_time": "2022-06-27T04:01:39.031544",
     "status": "completed"
    },
    "tags": []
   },
   "source": [
    "First, we create resampled training datasets:\n"
   ]
  },
  {
   "cell_type": "code",
   "execution_count": 40,
   "id": "6f999467",
   "metadata": {
    "execution": {
     "iopub.execute_input": "2022-06-27T04:01:39.150751Z",
     "iopub.status.busy": "2022-06-27T04:01:39.149904Z",
     "iopub.status.idle": "2022-06-27T04:01:39.234881Z",
     "shell.execute_reply": "2022-06-27T04:01:39.233198Z"
    },
    "papermill": {
     "duration": 0.129925,
     "end_time": "2022-06-27T04:01:39.239211",
     "exception": false,
     "start_time": "2022-06-27T04:01:39.109286",
     "status": "completed"
    },
    "tags": []
   },
   "outputs": [],
   "source": [
    "# X_smo is resampled from X_train using SMOTE\n",
    "# y_smo is resampled from y_train using SMOTE\n",
    "# X_under is resampled from X_train using Undersampling\n",
    "# y_under is resampled from y_train using Undersampling\n",
    "X_smo, y_smo, X_under, y_under = resample(X_train, y_train)"
   ]
  },
  {
   "cell_type": "markdown",
   "id": "bea3c280",
   "metadata": {
    "papermill": {
     "duration": 0.038895,
     "end_time": "2022-06-27T04:01:39.339919",
     "exception": false,
     "start_time": "2022-06-27T04:01:39.301024",
     "status": "completed"
    },
    "tags": []
   },
   "source": [
    "Then we can retrain a random forest classifier using SMOTE resampled input `X_smo` and output `y_smo` and evaluate its performance,\n"
   ]
  },
  {
   "cell_type": "code",
   "execution_count": 41,
   "id": "ee8b9e12",
   "metadata": {
    "execution": {
     "iopub.execute_input": "2022-06-27T04:01:39.421561Z",
     "iopub.status.busy": "2022-06-27T04:01:39.420763Z",
     "iopub.status.idle": "2022-06-27T04:01:39.891045Z",
     "shell.execute_reply": "2022-06-27T04:01:39.889619Z"
    },
    "papermill": {
     "duration": 0.514421,
     "end_time": "2022-06-27T04:01:39.894257",
     "exception": false,
     "start_time": "2022-06-27T04:01:39.379836",
     "status": "completed"
    },
    "tags": []
   },
   "outputs": [
    {
     "name": "stdout",
     "output_type": "stream",
     "text": [
      "{'type': 'SMOTE', 'accuracy': 0.8356275303643724, 'recall': 0.505, 'auc': 0.7022584541062802, 'precision': 0.4926829268292683, 'fscore': 0.5045148895292987}\n"
     ]
    }
   ],
   "source": [
    "preds_smo, smo_model = build_rf(X_smo, y_smo, X_test, best_params=best_params_no_weight)\n",
    "result = evaluate(y_test, preds_smo, \"SMOTE\")\n",
    "print(result)\n",
    "results.append(result)"
   ]
  },
  {
   "cell_type": "markdown",
   "id": "84f40d90",
   "metadata": {
    "papermill": {
     "duration": 0.051139,
     "end_time": "2022-06-27T04:01:39.999149",
     "exception": false,
     "start_time": "2022-06-27T04:01:39.948010",
     "status": "completed"
    },
    "tags": []
   },
   "source": [
    "and we can retrain a random forest classifier using the undersampled input `X_under` and output `y_under` and evaluate its performance.\n"
   ]
  },
  {
   "cell_type": "code",
   "execution_count": 42,
   "id": "db78f45c",
   "metadata": {
    "execution": {
     "iopub.execute_input": "2022-06-27T04:01:40.097654Z",
     "iopub.status.busy": "2022-06-27T04:01:40.096680Z",
     "iopub.status.idle": "2022-06-27T04:01:40.279350Z",
     "shell.execute_reply": "2022-06-27T04:01:40.277975Z"
    },
    "papermill": {
     "duration": 0.232809,
     "end_time": "2022-06-27T04:01:40.282742",
     "exception": false,
     "start_time": "2022-06-27T04:01:40.049933",
     "status": "completed"
    },
    "tags": []
   },
   "outputs": [
    {
     "name": "stdout",
     "output_type": "stream",
     "text": [
      "{'type': 'Undersampling', 'accuracy': 0.7336032388663968, 'recall': 0.79, 'auc': 0.7563526570048309, 'precision': 0.3550561797752809, 'fscore': 0.7544536271809001}\n"
     ]
    }
   ],
   "source": [
    "preds_under, under_model = build_rf(X_under, y_under, X_test, best_params=best_params_no_weight)\n",
    "result = evaluate(y_test, preds_under, \"Undersampling\")\n",
    "print(result)\n",
    "results.append(result)"
   ]
  },
  {
   "cell_type": "markdown",
   "id": "eece71c1",
   "metadata": {
    "papermill": {
     "duration": 0.039846,
     "end_time": "2022-06-27T04:01:40.362245",
     "exception": false,
     "start_time": "2022-06-27T04:01:40.322399",
     "status": "completed"
    },
    "tags": []
   },
   "source": [
    "### Compare the performance among different random forest models\n"
   ]
  },
  {
   "cell_type": "markdown",
   "id": "854102bf",
   "metadata": {
    "papermill": {
     "duration": 0.039975,
     "end_time": "2022-06-27T04:01:40.441895",
     "exception": false,
     "start_time": "2022-06-27T04:01:40.401920",
     "status": "completed"
    },
    "tags": []
   },
   "source": [
    "By now, we have built four different random forest models: the model trained with the original dataset, the model with class weights, the model trained with SMOTE dataset, and the model trained with undersampling.\n",
    "\n",
    "To better analyze and compare their performance, we can visualize the metrics using a grouped bar chart.\n"
   ]
  },
  {
   "cell_type": "code",
   "execution_count": 43,
   "id": "58b42f0d",
   "metadata": {
    "execution": {
     "iopub.execute_input": "2022-06-27T04:01:40.523432Z",
     "iopub.status.busy": "2022-06-27T04:01:40.522339Z",
     "iopub.status.idle": "2022-06-27T04:01:40.781995Z",
     "shell.execute_reply": "2022-06-27T04:01:40.780445Z"
    },
    "papermill": {
     "duration": 0.303693,
     "end_time": "2022-06-27T04:01:40.784868",
     "exception": false,
     "start_time": "2022-06-27T04:01:40.481175",
     "status": "completed"
    },
    "tags": []
   },
   "outputs": [
    {
     "name": "stdout",
     "output_type": "stream",
     "text": [
      "            type  accuracy  recall       auc  precision    fscore\n",
      "0       Original  0.862348   0.280  0.627440   0.682927  0.286501\n",
      "1   Class Weight  0.813765   0.620  0.735604   0.446043  0.610837\n",
      "2          SMOTE  0.835628   0.505  0.702258   0.492683  0.504515\n",
      "3  Undersampling  0.733603   0.790  0.756353   0.355056  0.754454\n"
     ]
    },
    {
     "data": {
      "image/png": "[encoded data removed]",
      "text/plain": [
       "<Figure size 960x800 with 1 Axes>"
      ]
     },
     "metadata": {
      "needs_background": "light"
     },
     "output_type": "display_data"
    }
   ],
   "source": [
    "visualize_eval_metrics(results)"
   ]
  },
  {
   "cell_type": "markdown",
   "id": "6d03905f",
   "metadata": {
    "papermill": {
     "duration": 0.041838,
     "end_time": "2022-06-27T04:01:40.868052",
     "exception": false,
     "start_time": "2022-06-27T04:01:40.826214",
     "status": "completed"
    },
    "tags": []
   },
   "source": [
    "Let's first see what each color means. The grey bars represent the original model, the orange bars represent the model with class weight, the dark blue bars represent model trained with SMOTE, and the light blue bars represent the model trained with undersampling.\n",
    "\n",
    "As we can infer the following insights from the bar charts:\n"
   ]
  },
  {
   "cell_type": "markdown",
   "id": "9db3af6c",
   "metadata": {
    "papermill": {
     "duration": 0.041009,
     "end_time": "2022-06-27T04:01:40.951500",
     "exception": false,
     "start_time": "2022-06-27T04:01:40.910491",
     "status": "completed"
    },
    "tags": []
   },
   "source": [
    "*   All models have high accuracy\n",
    "*   Recall is improved with class weights and resampling methods, and undersampling produces the highest recall\n",
    "*   AUC is also improved with class weights and resampling methods, and undersampling produces the highest AUC again\n",
    "*   Precisions are decreased with class weights and resampling methods as they all introduced many false positives (which are expected as we are trying to increase the impact of the positive class)\n",
    "*   Fscore is improved with class weights and resampling method, and undersampling has the highest Fscore\n"
   ]
  },
  {
   "cell_type": "markdown",
   "id": "e26a3253",
   "metadata": {
    "papermill": {
     "duration": 0.042346,
     "end_time": "2022-06-27T04:01:41.034685",
     "exception": false,
     "start_time": "2022-06-27T04:01:40.992339",
     "status": "completed"
    },
    "tags": []
   },
   "source": [
    "By analyzing the bar chart above, we can see that undersampling seems to be the best method to help alleviate the imbalanced challenge in the customer churn dataset. Although all class weights, SMOTE, and undersampling decreased the precision (increased false positives) but sometimes it is not a bad idea to assume some of your customers are about to leave (even if they are not) as motivation to improve your services.\n"
   ]
  },
  {
   "cell_type": "markdown",
   "id": "64a76fc0",
   "metadata": {
    "papermill": {
     "duration": 0.041897,
     "end_time": "2022-06-27T04:01:41.117937",
     "exception": false,
     "start_time": "2022-06-27T04:01:41.076040",
     "status": "completed"
    },
    "tags": []
   },
   "source": [
    "## Scenario: Tumor Type Estimation\n"
   ]
  },
  {
   "cell_type": "markdown",
   "id": "0918bcaf",
   "metadata": {
    "papermill": {
     "duration": 0.042828,
     "end_time": "2022-06-27T04:01:41.208533",
     "exception": false,
     "start_time": "2022-06-27T04:01:41.165705",
     "status": "completed"
    },
    "tags": []
   },
   "source": [
    "Finally, let's see an interesting imbalanced dataset that has very high Precision, Recall, and F-score initially without using class reweighting and resampling.\n"
   ]
  },
  {
   "cell_type": "markdown",
   "id": "114dd4be",
   "metadata": {
    "papermill": {
     "duration": 0.043098,
     "end_time": "2022-06-27T04:01:41.295313",
     "exception": false,
     "start_time": "2022-06-27T04:01:41.252215",
     "status": "completed"
    },
    "tags": []
   },
   "source": [
    "This dataset contains tumor samples and we need to estimate/predict if a tumor sample is cancerous or not.\n",
    "\n",
    "First, like other scenarios, let's load and split the dataset\n"
   ]
  },
  {
   "cell_type": "code",
   "execution_count": 44,
   "id": "b80edfa3",
   "metadata": {
    "execution": {
     "iopub.execute_input": "2022-06-27T04:01:41.383147Z",
     "iopub.status.busy": "2022-06-27T04:01:41.382660Z",
     "iopub.status.idle": "2022-06-27T04:01:42.672206Z",
     "shell.execute_reply": "2022-06-27T04:01:42.671053Z"
    },
    "papermill": {
     "duration": 1.337231,
     "end_time": "2022-06-27T04:01:42.675329",
     "exception": false,
     "start_time": "2022-06-27T04:01:41.338098",
     "status": "completed"
    },
    "tags": []
   },
   "outputs": [],
   "source": [
    "tumor_df = pd.read_csv(\"https://cf-courses-data.s3.us.cloud-object-storage.appdomain.cloud/IBM-ML201EN-SkillsNetwork/labs/module_4/datasets/im_cancer.csv\", index_col=False)\n",
    "X_train, X_test, y_train, y_test = split_data(tumor_df)"
   ]
  },
  {
   "cell_type": "markdown",
   "id": "f8917bbd",
   "metadata": {
    "papermill": {
     "duration": 0.041413,
     "end_time": "2022-06-27T04:01:42.758287",
     "exception": false,
     "start_time": "2022-06-27T04:01:42.716874",
     "status": "completed"
    },
    "tags": []
   },
   "source": [
    "and check its class distribution:\n"
   ]
  },
  {
   "cell_type": "code",
   "execution_count": 45,
   "id": "bd2a153b",
   "metadata": {
    "execution": {
     "iopub.execute_input": "2022-06-27T04:01:42.840086Z",
     "iopub.status.busy": "2022-06-27T04:01:42.839654Z",
     "iopub.status.idle": "2022-06-27T04:01:43.028479Z",
     "shell.execute_reply": "2022-06-27T04:01:43.027407Z"
    },
    "papermill": {
     "duration": 0.232276,
     "end_time": "2022-06-27T04:01:43.030855",
     "exception": false,
     "start_time": "2022-06-27T04:01:42.798579",
     "status": "completed"
    },
    "tags": []
   },
   "outputs": [
    {
     "data": {
      "text/plain": [
       "<AxesSubplot:>"
      ]
     },
     "execution_count": 45,
     "metadata": {},
     "output_type": "execute_result"
    },
    {
     "data": {
      "image/png": "[encoded data removed]",
      "text/plain": [
       "<Figure size 432x288 with 1 Axes>"
      ]
     },
     "metadata": {
      "needs_background": "light"
     },
     "output_type": "display_data"
    }
   ],
   "source": [
    "y_train.value_counts().plot.bar(color=['green', 'red'])"
   ]
  },
  {
   "cell_type": "markdown",
   "id": "2af6f4d7",
   "metadata": {
    "papermill": {
     "duration": 0.039325,
     "end_time": "2022-06-27T04:01:43.109877",
     "exception": false,
     "start_time": "2022-06-27T04:01:43.070552",
     "status": "completed"
    },
    "tags": []
   },
   "source": [
    "As we can see, this dataset is not as imbalanced as previous datasets. So that it is possible we dont need to use class reweighting and resampling in order to have good classification performance.\n"
   ]
  },
  {
   "cell_type": "markdown",
   "id": "093db2cb",
   "metadata": {
    "papermill": {
     "duration": 0.040001,
     "end_time": "2022-06-27T04:01:43.189961",
     "exception": false,
     "start_time": "2022-06-27T04:01:43.149960",
     "status": "completed"
    },
    "tags": []
   },
   "source": [
    "But we still create synthetic datasets with SMOTE and undersampling and class weights to compare their performance.\n"
   ]
  },
  {
   "cell_type": "code",
   "execution_count": 46,
   "id": "b630b5f7",
   "metadata": {
    "execution": {
     "iopub.execute_input": "2022-06-27T04:01:43.272486Z",
     "iopub.status.busy": "2022-06-27T04:01:43.271726Z",
     "iopub.status.idle": "2022-06-27T04:01:43.289300Z",
     "shell.execute_reply": "2022-06-27T04:01:43.288415Z"
    },
    "papermill": {
     "duration": 0.061843,
     "end_time": "2022-06-27T04:01:43.291949",
     "exception": false,
     "start_time": "2022-06-27T04:01:43.230106",
     "status": "completed"
    },
    "tags": []
   },
   "outputs": [],
   "source": [
    "X_smo, y_smo, X_under, y_under = resample(X_train, y_train)"
   ]
  },
  {
   "cell_type": "code",
   "execution_count": 47,
   "id": "bf257692",
   "metadata": {
    "execution": {
     "iopub.execute_input": "2022-06-27T04:01:43.373895Z",
     "iopub.status.busy": "2022-06-27T04:01:43.373110Z",
     "iopub.status.idle": "2022-06-27T04:01:43.560430Z",
     "shell.execute_reply": "2022-06-27T04:01:43.559559Z"
    },
    "papermill": {
     "duration": 0.230911,
     "end_time": "2022-06-27T04:01:43.562793",
     "exception": false,
     "start_time": "2022-06-27T04:01:43.331882",
     "status": "completed"
    },
    "tags": []
   },
   "outputs": [
    {
     "data": {
      "text/plain": [
       "<AxesSubplot:>"
      ]
     },
     "execution_count": 47,
     "metadata": {},
     "output_type": "execute_result"
    },
    {
     "data": {
      "image/png": "[encoded data removed]",
      "text/plain": [
       "<Figure size 432x288 with 1 Axes>"
      ]
     },
     "metadata": {
      "needs_background": "light"
     },
     "output_type": "display_data"
    }
   ],
   "source": [
    "y_under.value_counts().plot.bar(color=['green', 'red'])"
   ]
  },
  {
   "cell_type": "code",
   "execution_count": 48,
   "id": "682cb8e4",
   "metadata": {
    "execution": {
     "iopub.execute_input": "2022-06-27T04:01:43.644964Z",
     "iopub.status.busy": "2022-06-27T04:01:43.644539Z",
     "iopub.status.idle": "2022-06-27T04:01:43.790820Z",
     "shell.execute_reply": "2022-06-27T04:01:43.789838Z"
    },
    "papermill": {
     "duration": 0.190475,
     "end_time": "2022-06-27T04:01:43.793349",
     "exception": false,
     "start_time": "2022-06-27T04:01:43.602874",
     "status": "completed"
    },
    "tags": []
   },
   "outputs": [
    {
     "data": {
      "text/plain": [
       "<AxesSubplot:>"
      ]
     },
     "execution_count": 48,
     "metadata": {},
     "output_type": "execute_result"
    },
    {
     "data": {
      "image/png": "[encoded data removed]",
      "text/plain": [
       "<Figure size 432x288 with 1 Axes>"
      ]
     },
     "metadata": {
      "needs_background": "light"
     },
     "output_type": "display_data"
    }
   ],
   "source": [
    "y_smo.value_counts().plot.bar(color=['green', 'red'])"
   ]
  },
  {
   "cell_type": "markdown",
   "id": "91cb8802",
   "metadata": {
    "papermill": {
     "duration": 0.040828,
     "end_time": "2022-06-27T04:01:43.875429",
     "exception": false,
     "start_time": "2022-06-27T04:01:43.834601",
     "status": "completed"
    },
    "tags": []
   },
   "source": [
    "Use tuned random forest parameters.\n"
   ]
  },
  {
   "cell_type": "code",
   "execution_count": 49,
   "id": "00cd6cfe",
   "metadata": {
    "execution": {
     "iopub.execute_input": "2022-06-27T04:01:43.959543Z",
     "iopub.status.busy": "2022-06-27T04:01:43.958775Z",
     "iopub.status.idle": "2022-06-27T04:01:43.965098Z",
     "shell.execute_reply": "2022-06-27T04:01:43.963815Z"
    },
    "papermill": {
     "duration": 0.051794,
     "end_time": "2022-06-27T04:01:43.968183",
     "exception": false,
     "start_time": "2022-06-27T04:01:43.916389",
     "status": "completed"
    },
    "tags": []
   },
   "outputs": [],
   "source": [
    "best_params_weight = {'bootstrap': True,\n",
    "                         'class_weight': {0: 0.2, 1: 0.8}, \n",
    "                         'max_depth': 10, \n",
    "                         'min_samples_split': 5, \n",
    "                         'n_estimators': 50}"
   ]
  },
  {
   "cell_type": "markdown",
   "id": "02c4d772",
   "metadata": {
    "papermill": {
     "duration": 0.040546,
     "end_time": "2022-06-27T04:01:44.049613",
     "exception": false,
     "start_time": "2022-06-27T04:01:44.009067",
     "status": "completed"
    },
    "tags": []
   },
   "source": [
    "Train and evaluate different random forest models on the tumor type dataset.\n"
   ]
  },
  {
   "cell_type": "code",
   "execution_count": 50,
   "id": "7083deb4",
   "metadata": {
    "execution": {
     "iopub.execute_input": "2022-06-27T04:01:44.133456Z",
     "iopub.status.busy": "2022-06-27T04:01:44.133055Z",
     "iopub.status.idle": "2022-06-27T04:01:44.921098Z",
     "shell.execute_reply": "2022-06-27T04:01:44.919706Z"
    },
    "papermill": {
     "duration": 0.833898,
     "end_time": "2022-06-27T04:01:44.924359",
     "exception": false,
     "start_time": "2022-06-27T04:01:44.090461",
     "status": "completed"
    },
    "tags": []
   },
   "outputs": [],
   "source": [
    "# no class-weights\n",
    "results=[]\n",
    "preds, model = build_rf(X_train, y_train, X_test)\n",
    "results.append(evaluate(y_test, preds))\n",
    "# class weight\n",
    "preds, model = build_rf(X_train, y_train, X_test, best_params=best_params_weight)\n",
    "results.append(evaluate(y_test, preds))\n",
    "# Resampling\n",
    "preds, model = build_rf(X_smo, y_smo, X_test)\n",
    "results.append(evaluate(y_test, preds))\n",
    "preds, model = build_rf(X_under, y_under, X_test)\n",
    "results.append(evaluate(y_test, preds))"
   ]
  },
  {
   "cell_type": "code",
   "execution_count": 51,
   "id": "4a75f55d",
   "metadata": {
    "execution": {
     "iopub.execute_input": "2022-06-27T04:01:45.011878Z",
     "iopub.status.busy": "2022-06-27T04:01:45.011401Z",
     "iopub.status.idle": "2022-06-27T04:01:45.281191Z",
     "shell.execute_reply": "2022-06-27T04:01:45.280280Z"
    },
    "papermill": {
     "duration": 0.316541,
     "end_time": "2022-06-27T04:01:45.283599",
     "exception": false,
     "start_time": "2022-06-27T04:01:44.967058",
     "status": "completed"
    },
    "tags": []
   },
   "outputs": [
    {
     "name": "stdout",
     "output_type": "stream",
     "text": [
      "       type  accuracy  recall       auc  precision    fscore\n",
      "0  Original  0.984962     1.0  0.988764   0.956522  0.998255\n",
      "1  Original  0.992481     1.0  0.994382   0.977778  0.999127\n",
      "2  Original  0.992481     1.0  0.994382   0.977778  0.999127\n",
      "3  Original  0.984962     1.0  0.988764   0.956522  0.998255\n"
     ]
    },
    {
     "data": {
      "image/png": "[encoded data removed]",
      "text/plain": [
       "<Figure size 960x800 with 1 Axes>"
      ]
     },
     "metadata": {
      "needs_background": "light"
     },
     "output_type": "display_data"
    }
   ],
   "source": [
    "visualize_eval_metrics(results)\n"
   ]
  },
  {
   "cell_type": "markdown",
   "id": "a12b906d",
   "metadata": {
    "papermill": {
     "duration": 0.041055,
     "end_time": "2022-06-27T04:01:45.366372",
     "exception": false,
     "start_time": "2022-06-27T04:01:45.325317",
     "status": "completed"
    },
    "tags": []
   },
   "source": [
    "As we can see, all grey bars (the original model) for Accuracy, Recall, AUC, Precision, and F-score have very high values and adding class reweighting and resampling does not help improve performance that much. This is possible that the tumor patterns in this dataset are obvious and can be easily picked up by the standard random forest model or the dataset is not very imbalanced and can be considered as an ordinary binary classification task.\n"
   ]
  },
  {
   "cell_type": "markdown",
   "id": "5164f5d7",
   "metadata": {
    "papermill": {
     "duration": 0.043597,
     "end_time": "2022-06-27T04:01:45.452617",
     "exception": false,
     "start_time": "2022-06-27T04:01:45.409020",
     "status": "completed"
    },
    "tags": []
   },
   "source": [
    "## Exercise: Predicting Job Change\n"
   ]
  },
  {
   "cell_type": "markdown",
   "id": "f19185de",
   "metadata": {
    "papermill": {
     "duration": 0.042747,
     "end_time": "2022-06-27T04:01:45.538072",
     "exception": false,
     "start_time": "2022-06-27T04:01:45.495325",
     "status": "completed"
    },
    "tags": []
   },
   "source": [
    "Now it is time to apply what you have learned in this lab. We have an imbalanced HR dataset and we want to use it to build a classification model to predict if an employee is looking for a new job or not.\n"
   ]
  },
  {
   "cell_type": "code",
   "execution_count": 52,
   "id": "5fe996c3",
   "metadata": {
    "execution": {
     "iopub.execute_input": "2022-06-27T04:01:45.626537Z",
     "iopub.status.busy": "2022-06-27T04:01:45.625685Z",
     "iopub.status.idle": "2022-06-27T04:01:52.997389Z",
     "shell.execute_reply": "2022-06-27T04:01:52.995858Z"
    },
    "papermill": {
     "duration": 7.419379,
     "end_time": "2022-06-27T04:01:53.000463",
     "exception": false,
     "start_time": "2022-06-27T04:01:45.581084",
     "status": "completed"
    },
    "tags": []
   },
   "outputs": [],
   "source": [
    "# Load the dataset\n",
    "hr_df = pd.read_csv(\"https://cf-courses-data.s3.us.cloud-object-storage.appdomain.cloud/IBM-ML201EN-SkillsNetwork/labs/module_4/datasets/im_hr.csv\", index_col=False)"
   ]
  },
  {
   "cell_type": "markdown",
   "id": "ffbafcf7",
   "metadata": {
    "papermill": {
     "duration": 0.040699,
     "end_time": "2022-06-27T04:01:53.082754",
     "exception": false,
     "start_time": "2022-06-27T04:01:53.042055",
     "status": "completed"
    },
    "tags": []
   },
   "source": [
    "### Check its class distribution\n"
   ]
  },
  {
   "cell_type": "code",
   "execution_count": 53,
   "id": "aaaa6acc",
   "metadata": {
    "execution": {
     "iopub.execute_input": "2022-06-27T04:01:53.167616Z",
     "iopub.status.busy": "2022-06-27T04:01:53.166856Z",
     "iopub.status.idle": "2022-06-27T04:01:53.181558Z",
     "shell.execute_reply": "2022-06-27T04:01:53.180690Z"
    },
    "papermill": {
     "duration": 0.060191,
     "end_time": "2022-06-27T04:01:53.184126",
     "exception": false,
     "start_time": "2022-06-27T04:01:53.123935",
     "status": "completed"
    },
    "tags": []
   },
   "outputs": [],
   "source": [
    "# type your code here\n",
    "X_train, X_test, y_train, y_test = split_data(hr_df)"
   ]
  },
  {
   "cell_type": "code",
   "execution_count": 54,
   "id": "5e9aa5bc",
   "metadata": {
    "execution": {
     "iopub.execute_input": "2022-06-27T04:01:53.270732Z",
     "iopub.status.busy": "2022-06-27T04:01:53.270314Z",
     "iopub.status.idle": "2022-06-27T04:01:53.406158Z",
     "shell.execute_reply": "2022-06-27T04:01:53.404781Z"
    },
    "papermill": {
     "duration": 0.181985,
     "end_time": "2022-06-27T04:01:53.408880",
     "exception": false,
     "start_time": "2022-06-27T04:01:53.226895",
     "status": "completed"
    },
    "tags": []
   },
   "outputs": [
    {
     "data": {
      "text/plain": [
       "<AxesSubplot:>"
      ]
     },
     "execution_count": 54,
     "metadata": {},
     "output_type": "execute_result"
    },
    {
     "data": {
      "image/png": "[encoded data removed]",
      "text/plain": [
       "<Figure size 432x288 with 1 Axes>"
      ]
     },
     "metadata": {
      "needs_background": "light"
     },
     "output_type": "display_data"
    }
   ],
   "source": [
    "y_train.value_counts().plot.bar(color=['green', 'red'])"
   ]
  },
  {
   "cell_type": "markdown",
   "id": "dec72556",
   "metadata": {
    "papermill": {
     "duration": 0.041435,
     "end_time": "2022-06-27T04:01:53.492673",
     "exception": false,
     "start_time": "2022-06-27T04:01:53.451238",
     "status": "completed"
    },
    "tags": []
   },
   "source": [
    "### Split the dataset\n"
   ]
  },
  {
   "cell_type": "code",
   "execution_count": 55,
   "id": "b9e8edb1",
   "metadata": {
    "execution": {
     "iopub.execute_input": "2022-06-27T04:01:53.577771Z",
     "iopub.status.busy": "2022-06-27T04:01:53.576914Z",
     "iopub.status.idle": "2022-06-27T04:01:53.612567Z",
     "shell.execute_reply": "2022-06-27T04:01:53.611158Z"
    },
    "papermill": {
     "duration": 0.081602,
     "end_time": "2022-06-27T04:01:53.615324",
     "exception": false,
     "start_time": "2022-06-27T04:01:53.533722",
     "status": "completed"
    },
    "tags": []
   },
   "outputs": [],
   "source": [
    "X_smo, y_smo, X_under, y_under = resample(X_train, y_train)"
   ]
  },
  {
   "cell_type": "code",
   "execution_count": 56,
   "id": "d44bd3d9",
   "metadata": {
    "execution": {
     "iopub.execute_input": "2022-06-27T04:01:53.742379Z",
     "iopub.status.busy": "2022-06-27T04:01:53.742008Z",
     "iopub.status.idle": "2022-06-27T04:01:53.890211Z",
     "shell.execute_reply": "2022-06-27T04:01:53.888933Z"
    },
    "papermill": {
     "duration": 0.236046,
     "end_time": "2022-06-27T04:01:53.892723",
     "exception": false,
     "start_time": "2022-06-27T04:01:53.656677",
     "status": "completed"
    },
    "tags": []
   },
   "outputs": [
    {
     "data": {
      "text/plain": [
       "<AxesSubplot:>"
      ]
     },
     "execution_count": 56,
     "metadata": {},
     "output_type": "execute_result"
    },
    {
     "data": {
      "image/png": "[encoded data removed]",
      "text/plain": [
       "<Figure size 432x288 with 1 Axes>"
      ]
     },
     "metadata": {
      "needs_background": "light"
     },
     "output_type": "display_data"
    }
   ],
   "source": [
    "y_smo.value_counts().plot.bar(color=['green', 'red'])"
   ]
  },
  {
   "cell_type": "code",
   "execution_count": 57,
   "id": "5b4cba06",
   "metadata": {
    "execution": {
     "iopub.execute_input": "2022-06-27T04:01:53.979428Z",
     "iopub.status.busy": "2022-06-27T04:01:53.978617Z",
     "iopub.status.idle": "2022-06-27T04:01:54.104265Z",
     "shell.execute_reply": "2022-06-27T04:01:54.103051Z"
    },
    "papermill": {
     "duration": 0.171992,
     "end_time": "2022-06-27T04:01:54.106997",
     "exception": false,
     "start_time": "2022-06-27T04:01:53.935005",
     "status": "completed"
    },
    "tags": []
   },
   "outputs": [
    {
     "data": {
      "text/plain": [
       "<AxesSubplot:>"
      ]
     },
     "execution_count": 57,
     "metadata": {},
     "output_type": "execute_result"
    },
    {
     "data": {
      "image/png": "[encoded data removed]",
      "text/plain": [
       "<Figure size 432x288 with 1 Axes>"
      ]
     },
     "metadata": {
      "needs_background": "light"
     },
     "output_type": "display_data"
    }
   ],
   "source": [
    "y_under.value_counts().plot.bar(color=['green', 'red'])"
   ]
  },
  {
   "cell_type": "markdown",
   "id": "86c51e41",
   "metadata": {
    "papermill": {
     "duration": 0.041647,
     "end_time": "2022-06-27T04:01:54.191521",
     "exception": false,
     "start_time": "2022-06-27T04:01:54.149874",
     "status": "completed"
    },
    "tags": []
   },
   "source": [
    "### Build a logistic regression model with the original dataset\n"
   ]
  },
  {
   "cell_type": "code",
   "execution_count": 58,
   "id": "c49bc932",
   "metadata": {
    "execution": {
     "iopub.execute_input": "2022-06-27T04:01:54.278739Z",
     "iopub.status.busy": "2022-06-27T04:01:54.277948Z",
     "iopub.status.idle": "2022-06-27T04:01:55.371963Z",
     "shell.execute_reply": "2022-06-27T04:01:55.370161Z"
    },
    "papermill": {
     "duration": 1.143346,
     "end_time": "2022-06-27T04:01:55.377113",
     "exception": false,
     "start_time": "2022-06-27T04:01:54.233767",
     "status": "completed"
    },
    "tags": []
   },
   "outputs": [],
   "source": [
    "results = []\n",
    "preds, model = build_lr(X_train, y_train, X_test)\n",
    "results.append(evaluate(y_test, preds))"
   ]
  },
  {
   "cell_type": "code",
   "execution_count": 59,
   "id": "883a870f",
   "metadata": {
    "execution": {
     "iopub.execute_input": "2022-06-27T04:01:55.520911Z",
     "iopub.status.busy": "2022-06-27T04:01:55.520439Z",
     "iopub.status.idle": "2022-06-27T04:01:55.528702Z",
     "shell.execute_reply": "2022-06-27T04:01:55.527351Z"
    },
    "papermill": {
     "duration": 0.065157,
     "end_time": "2022-06-27T04:01:55.531356",
     "exception": false,
     "start_time": "2022-06-27T04:01:55.466199",
     "status": "completed"
    },
    "tags": []
   },
   "outputs": [
    {
     "data": {
      "text/plain": [
       "[{'type': 'Original',\n",
       "  'accuracy': 0.9116249604054482,\n",
       "  'recall': 0.0035714285714285713,\n",
       "  'auc': 0.5017857142857143,\n",
       "  'precision': 1.0,\n",
       "  'fscore': 0.003713755177831738}]"
      ]
     },
     "execution_count": 59,
     "metadata": {},
     "output_type": "execute_result"
    }
   ],
   "source": [
    "results"
   ]
  },
  {
   "cell_type": "markdown",
   "id": "adfb345f",
   "metadata": {
    "papermill": {
     "duration": 0.043879,
     "end_time": "2022-06-27T04:01:55.619111",
     "exception": false,
     "start_time": "2022-06-27T04:01:55.575232",
     "status": "completed"
    },
    "tags": []
   },
   "source": [
    "### Add class weights to the model\n"
   ]
  },
  {
   "cell_type": "code",
   "execution_count": 60,
   "id": "ee3378c5",
   "metadata": {
    "execution": {
     "iopub.execute_input": "2022-06-27T04:01:55.711375Z",
     "iopub.status.busy": "2022-06-27T04:01:55.710479Z",
     "iopub.status.idle": "2022-06-27T04:01:57.209188Z",
     "shell.execute_reply": "2022-06-27T04:01:57.207458Z"
    },
    "papermill": {
     "duration": 1.549776,
     "end_time": "2022-06-27T04:01:57.214303",
     "exception": false,
     "start_time": "2022-06-27T04:01:55.664527",
     "status": "completed"
    },
    "tags": []
   },
   "outputs": [],
   "source": [
    "# type your code here\n",
    "best_params_weight = {'class_weight': {0: 0.2, 1: 0.8}}\n",
    "preds, model = build_lr(X_train, y_train, X_test, best_params=best_params_weight)\n",
    "results.append(evaluate(y_test, preds, 'Class Weight'))"
   ]
  },
  {
   "cell_type": "code",
   "execution_count": 61,
   "id": "eaa6a409",
   "metadata": {
    "execution": {
     "iopub.execute_input": "2022-06-27T04:01:57.357276Z",
     "iopub.status.busy": "2022-06-27T04:01:57.356835Z",
     "iopub.status.idle": "2022-06-27T04:01:57.364870Z",
     "shell.execute_reply": "2022-06-27T04:01:57.363912Z"
    },
    "papermill": {
     "duration": 0.065314,
     "end_time": "2022-06-27T04:01:57.367086",
     "exception": false,
     "start_time": "2022-06-27T04:01:57.301772",
     "status": "completed"
    },
    "tags": []
   },
   "outputs": [
    {
     "data": {
      "text/plain": [
       "[{'type': 'Original',\n",
       "  'accuracy': 0.9116249604054482,\n",
       "  'recall': 0.0035714285714285713,\n",
       "  'auc': 0.5017857142857143,\n",
       "  'precision': 1.0,\n",
       "  'fscore': 0.003713755177831738},\n",
       " {'type': 'Class Weight',\n",
       "  'accuracy': 0.8653785239151093,\n",
       "  'recall': 0.25357142857142856,\n",
       "  'auc': 0.5892466110531804,\n",
       "  'precision': 0.24738675958188153,\n",
       "  'fscore': 0.2533278441059421}]"
      ]
     },
     "execution_count": 61,
     "metadata": {},
     "output_type": "execute_result"
    }
   ],
   "source": [
    "results"
   ]
  },
  {
   "cell_type": "markdown",
   "id": "c65c5ae9",
   "metadata": {
    "papermill": {
     "duration": 0.044322,
     "end_time": "2022-06-27T04:01:57.456486",
     "exception": false,
     "start_time": "2022-06-27T04:01:57.412164",
     "status": "completed"
    },
    "tags": []
   },
   "source": [
    "### Improve the model with SMOTE resampled dataset\n"
   ]
  },
  {
   "cell_type": "code",
   "execution_count": 62,
   "id": "f62d1c73",
   "metadata": {
    "execution": {
     "iopub.execute_input": "2022-06-27T04:01:57.548873Z",
     "iopub.status.busy": "2022-06-27T04:01:57.547879Z",
     "iopub.status.idle": "2022-06-27T04:01:59.530441Z",
     "shell.execute_reply": "2022-06-27T04:01:59.528742Z"
    },
    "papermill": {
     "duration": 2.03267,
     "end_time": "2022-06-27T04:01:59.534819",
     "exception": false,
     "start_time": "2022-06-27T04:01:57.502149",
     "status": "completed"
    },
    "tags": []
   },
   "outputs": [],
   "source": [
    "# type your code here\n",
    "preds, model = build_lr(X_smo, y_smo, X_test)\n",
    "results.append(evaluate(y_test, preds, 'SMOTE'))"
   ]
  },
  {
   "cell_type": "markdown",
   "id": "527d995f",
   "metadata": {
    "papermill": {
     "duration": 0.053501,
     "end_time": "2022-06-27T04:01:59.673883",
     "exception": false,
     "start_time": "2022-06-27T04:01:59.620382",
     "status": "completed"
    },
    "tags": []
   },
   "source": [
    "### Improve the model with Undersampling resampled dataset\n"
   ]
  },
  {
   "cell_type": "code",
   "execution_count": 63,
   "id": "69e5e0bb",
   "metadata": {
    "execution": {
     "iopub.execute_input": "2022-06-27T04:01:59.768275Z",
     "iopub.status.busy": "2022-06-27T04:01:59.767839Z",
     "iopub.status.idle": "2022-06-27T04:02:00.430885Z",
     "shell.execute_reply": "2022-06-27T04:02:00.429241Z"
    },
    "papermill": {
     "duration": 0.7154,
     "end_time": "2022-06-27T04:02:00.435450",
     "exception": false,
     "start_time": "2022-06-27T04:01:59.720050",
     "status": "completed"
    },
    "tags": []
   },
   "outputs": [],
   "source": [
    "# type your code here\n",
    "# type your code here\n",
    "preds, model = build_lr(X_under, y_under, X_test)\n",
    "results.append(evaluate(y_test, preds, 'Undersample'))"
   ]
  },
  {
   "cell_type": "code",
   "execution_count": 64,
   "id": "33389d51",
   "metadata": {
    "execution": {
     "iopub.execute_input": "2022-06-27T04:02:00.579235Z",
     "iopub.status.busy": "2022-06-27T04:02:00.578146Z",
     "iopub.status.idle": "2022-06-27T04:02:00.884186Z",
     "shell.execute_reply": "2022-06-27T04:02:00.882702Z"
    },
    "papermill": {
     "duration": 0.362019,
     "end_time": "2022-06-27T04:02:00.886994",
     "exception": false,
     "start_time": "2022-06-27T04:02:00.524975",
     "status": "completed"
    },
    "tags": []
   },
   "outputs": [
    {
     "name": "stdout",
     "output_type": "stream",
     "text": [
      "           type  accuracy    recall       auc  precision    fscore\n",
      "0      Original  0.911625  0.003571  0.501786   1.000000  0.003714\n",
      "1  Class Weight  0.865379  0.253571  0.589247   0.247387  0.253328\n",
      "2         SMOTE  0.715869  0.610714  0.668409   0.178311  0.558613\n",
      "3   Undersample  0.713019  0.614286  0.668457   0.177320  0.561104\n"
     ]
    },
    {
     "data": {
      "image/png": "[encoded data removed]",
      "text/plain": [
       "<Figure size 960x800 with 1 Axes>"
      ]
     },
     "metadata": {
      "needs_background": "light"
     },
     "output_type": "display_data"
    }
   ],
   "source": [
    "visualize_eval_metrics(results)\n"
   ]
  },
  {
   "cell_type": "markdown",
   "id": "a59131be",
   "metadata": {
    "papermill": {
     "duration": 0.042649,
     "end_time": "2022-06-27T04:02:00.973676",
     "exception": false,
     "start_time": "2022-06-27T04:02:00.931027",
     "status": "completed"
    },
    "tags": []
   },
   "source": [
    "<details><summary>Click here for a solution</summary>\n",
    "\n",
    "```python\n",
    "y_train.value_counts().plot.bar(color=['green', 'red'])\n",
    "best_params = {'class_weight': {0: 0.1, 1: 0.9}}\n",
    "results = []\n",
    "# no class-weights\n",
    "preds, model = build_lr(X_train, y_train, X_test)\n",
    "result = evaluate(y_test, preds)\n",
    "results.append(result)\n",
    "# class weight\n",
    "preds, weight_model = build_lr(X_train, y_train, X_test, best_params=best_params)\n",
    "result = evaluate(y_test, preds, eval_type=\"Class Weight\")\n",
    "results.append(result)\n",
    "# Resampling\n",
    "preds, smote_model = build_lr(X_smo, y_smo, X_test)\n",
    "result = evaluate(y_test, preds, eval_type=\"SMOTE\")\n",
    "results.append(result)\n",
    "preds_under, under_model = build_lr(X_under, y_under, X_test)\n",
    "result = evaluate(y_test, preds_under, eval_type=\"Undersampling\")\n",
    "#metrics.plot_roc_curve(smote_model, X_test, y_test) \n",
    "results.append(result)\n",
    "visualize_eval_metrics(results)\n",
    "```\n",
    "\n",
    "</details>\n"
   ]
  },
  {
   "cell_type": "markdown",
   "id": "d61bfadb",
   "metadata": {
    "papermill": {
     "duration": 0.042466,
     "end_time": "2022-06-27T04:02:01.058842",
     "exception": false,
     "start_time": "2022-06-27T04:02:01.016376",
     "status": "completed"
    },
    "tags": []
   },
   "source": [
    "## Authors\n"
   ]
  },
  {
   "cell_type": "markdown",
   "id": "2f9b3601",
   "metadata": {
    "papermill": {
     "duration": 0.044029,
     "end_time": "2022-06-27T04:02:01.146384",
     "exception": false,
     "start_time": "2022-06-27T04:02:01.102355",
     "status": "completed"
    },
    "tags": []
   },
   "source": [
    "[Yan Luo](https://www.linkedin.com/in/yan-luo-96288783/?utm_medium=Exinfluencer&utm_source=Exinfluencer&utm_content=000026UJ&utm_term=10006555&utm_id=NA-SkillsNetwork-Channel-SkillsNetworkCoursesIBMML241ENSkillsNetwork31576874-2022-01-01)\n"
   ]
  },
  {
   "cell_type": "markdown",
   "id": "a81d9975",
   "metadata": {
    "papermill": {
     "duration": 0.048089,
     "end_time": "2022-06-27T04:02:01.242383",
     "exception": false,
     "start_time": "2022-06-27T04:02:01.194294",
     "status": "completed"
    },
    "tags": []
   },
   "source": [
    "### Other Contributors\n"
   ]
  },
  {
   "cell_type": "markdown",
   "id": "9972269b",
   "metadata": {
    "papermill": {
     "duration": 0.047205,
     "end_time": "2022-06-27T04:02:01.339311",
     "exception": false,
     "start_time": "2022-06-27T04:02:01.292106",
     "status": "completed"
    },
    "tags": []
   },
   "source": [
    "## Change Log\n"
   ]
  },
  {
   "cell_type": "markdown",
   "id": "fc3f5288",
   "metadata": {
    "papermill": {
     "duration": 0.04702,
     "end_time": "2022-06-27T04:02:01.433952",
     "exception": false,
     "start_time": "2022-06-27T04:02:01.386932",
     "status": "completed"
    },
    "tags": []
   },
   "source": [
    "| Date (YYYY-MM-DD) | Version | Changed By | Change Description          |           |     |            |         |\n",
    "| ----------------- | ------- | ---------- | --------------------------- | --------- | --- | ---------- | ------- |\n",
    "| 2021-9-23         | 1.0     | Yan        | Created the initial version | 2022-2-23 | 1.2 | Steve Hord | QA pass |\n"
   ]
  },
  {
   "cell_type": "markdown",
   "id": "1b2a0f61",
   "metadata": {
    "papermill": {
     "duration": 0.04705,
     "end_time": "2022-06-27T04:02:01.527823",
     "exception": false,
     "start_time": "2022-06-27T04:02:01.480773",
     "status": "completed"
    },
    "tags": []
   },
   "source": [
    "Copyright © 2021 IBM Corporation. All rights reserved.\n"
   ]
  }
 ],
 "metadata": {
  "kernelspec": {
   "display_name": "Python 3",
   "language": "python",
   "name": "python3"
  },
  "language_info": {
   "codemirror_mode": {
    "name": "ipython",
    "version": 3
   },
   "file_extension": ".py",
   "mimetype": "text/x-python",
   "name": "python",
   "nbconvert_exporter": "python",
   "pygments_lexer": "ipython3",
   "version": "3.7.12"
  },
  "papermill": {
   "default_parameters": {},
   "duration": 142.709025,
   "end_time": "2022-06-27T04:02:02.401679",
   "environment_variables": {},
   "exception": null,
   "input_path": "__notebook__.ipynb",
   "output_path": "__notebook__.ipynb",
   "parameters": {},
   "start_time": "2022-06-27T03:59:39.692654",
   "version": "2.3.4"
  }
 },
 "nbformat": 4,
 "nbformat_minor": 5
}
