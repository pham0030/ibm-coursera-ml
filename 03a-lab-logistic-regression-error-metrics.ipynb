{
 "cells": [
  {
   "cell_type": "markdown",
   "id": "6d1db3bd",
   "metadata": {
    "papermill": {
     "duration": 0.013623,
     "end_time": "2022-07-05T06:36:28.749713",
     "exception": false,
     "start_time": "2022-07-05T06:36:28.736090",
     "status": "completed"
    },
    "run_control": {
     "marked": true
    },
    "tags": []
   },
   "source": [
    "# Machine Learning Foundation\n",
    "\n",
    "## Course 3, Part a: Logistic Regression LAB\n",
    "\n",
    "\n",
    "## Introduction\n",
    "\n",
    "We will be using the [Human Activity Recognition with Smartphones](https://archive.ics.uci.edu/ml/datasets/Human+Activity+Recognition+Using+Smartphones?utm_medium=Exinfluencer&utm_source=Exinfluencer&utm_content=000026UJ&utm_term=10006555&utm_id=NA-SkillsNetwork-Channel-SkillsNetworkCoursesIBMML241ENSkillsNetwork31576874-2022-01-01) database, which was built from the recordings of study participants who carried a smartphone with an embedded inertial sensor while performing activities of daily living (ADL). The objective is to classify the activities the participants performed into one of the six following categories: walking, walking upstairs, walking downstairs, sitting, standing, and laying.\n",
    "\n",
    "The following information is provided for each record in the dataset:\n",
    "\n",
    "*   Triaxial acceleration from the accelerometer (total acceleration) and the estimated body acceleration\n",
    "*   Triaxial Angular velocity from the gyroscope\n",
    "*   A 561-feature vector with time and frequency domain variables\n",
    "*   The activity label\n",
    "\n",
    "More information about the features are available on the website linked above.\n"
   ]
  },
  {
   "cell_type": "code",
   "execution_count": 1,
   "id": "0d70cf64",
   "metadata": {
    "execution": {
     "iopub.execute_input": "2022-07-05T06:36:28.786474Z",
     "iopub.status.busy": "2022-07-05T06:36:28.786071Z",
     "iopub.status.idle": "2022-07-05T06:36:28.796299Z",
     "shell.execute_reply": "2022-07-05T06:36:28.795679Z"
    },
    "papermill": {
     "duration": 0.031766,
     "end_time": "2022-07-05T06:36:28.798386",
     "exception": false,
     "start_time": "2022-07-05T06:36:28.766620",
     "status": "completed"
    },
    "tags": []
   },
   "outputs": [],
   "source": [
    "def warn(*args, **kwargs):\n",
    "    pass\n",
    "import warnings\n",
    "warnings.warn = warn"
   ]
  },
  {
   "cell_type": "code",
   "execution_count": 2,
   "id": "09bf239c",
   "metadata": {
    "execution": {
     "iopub.execute_input": "2022-07-05T06:36:28.834841Z",
     "iopub.status.busy": "2022-07-05T06:36:28.834184Z",
     "iopub.status.idle": "2022-07-05T06:36:29.882438Z",
     "shell.execute_reply": "2022-07-05T06:36:29.881916Z"
    },
    "papermill": {
     "duration": 1.068572,
     "end_time": "2022-07-05T06:36:29.884523",
     "exception": false,
     "start_time": "2022-07-05T06:36:28.815951",
     "status": "completed"
    },
    "run_control": {
     "marked": true
    },
    "tags": []
   },
   "outputs": [],
   "source": [
    "import seaborn as sns, pandas as pd, numpy as np"
   ]
  },
  {
   "cell_type": "markdown",
   "id": "dac39763",
   "metadata": {
    "papermill": {
     "duration": 0.014674,
     "end_time": "2022-07-05T06:36:29.914230",
     "exception": false,
     "start_time": "2022-07-05T06:36:29.899556",
     "status": "completed"
    },
    "run_control": {
     "marked": true
    },
    "tags": []
   },
   "source": [
    "## Question 1\n",
    "\n",
    "Import the data and do the following:\n",
    "\n",
    "*   Examine the data types--there are many columns, so it might be wise to use value counts.\n",
    "*   Determine if the floating point values need to be scaled.\n",
    "*   Determine the breakdown of each activity.\n",
    "*   Encode the activity label as an integer.\n"
   ]
  },
  {
   "cell_type": "code",
   "execution_count": 3,
   "id": "0d849b71",
   "metadata": {
    "collapsed": false,
    "execution": {
     "iopub.execute_input": "2022-07-05T06:36:29.945134Z",
     "iopub.status.busy": "2022-07-05T06:36:29.944694Z",
     "iopub.status.idle": "2022-07-05T06:36:39.418277Z",
     "shell.execute_reply": "2022-07-05T06:36:39.417748Z"
    },
    "jupyter": {
     "outputs_hidden": false
    },
    "papermill": {
     "duration": 9.491464,
     "end_time": "2022-07-05T06:36:39.420407",
     "exception": false,
     "start_time": "2022-07-05T06:36:29.928943",
     "status": "completed"
    },
    "run_control": {
     "marked": true
    },
    "tags": []
   },
   "outputs": [],
   "source": [
    "### BEGIN SOLUTION\n",
    "data = pd.read_csv(\"https://cf-courses-data.s3.us.cloud-object-storage.appdomain.cloud/IBM-ML241EN-SkillsNetwork/labs/datasets/Human_Activity_Recognition_Using_Smartphones_Data.csv\", sep=',')"
   ]
  },
  {
   "cell_type": "code",
   "execution_count": 4,
   "id": "a79c5c6c",
   "metadata": {
    "execution": {
     "iopub.execute_input": "2022-07-05T06:36:39.452899Z",
     "iopub.status.busy": "2022-07-05T06:36:39.452540Z",
     "iopub.status.idle": "2022-07-05T06:36:39.459150Z",
     "shell.execute_reply": "2022-07-05T06:36:39.458379Z"
    },
    "papermill": {
     "duration": 0.02535,
     "end_time": "2022-07-05T06:36:39.461624",
     "exception": false,
     "start_time": "2022-07-05T06:36:39.436274",
     "status": "completed"
    },
    "tags": []
   },
   "outputs": [
    {
     "data": {
      "text/plain": [
       "(10299, 562)"
      ]
     },
     "execution_count": 4,
     "metadata": {},
     "output_type": "execute_result"
    }
   ],
   "source": [
    "data.shape"
   ]
  },
  {
   "cell_type": "markdown",
   "id": "9310e69d",
   "metadata": {
    "papermill": {
     "duration": 0.014768,
     "end_time": "2022-07-05T06:36:39.491632",
     "exception": false,
     "start_time": "2022-07-05T06:36:39.476864",
     "status": "completed"
    },
    "run_control": {
     "marked": true
    },
    "tags": []
   },
   "source": [
    "The data columns are all floats except for the activity label.\n"
   ]
  },
  {
   "cell_type": "code",
   "execution_count": 5,
   "id": "366b6066",
   "metadata": {
    "collapsed": false,
    "execution": {
     "iopub.execute_input": "2022-07-05T06:36:39.523188Z",
     "iopub.status.busy": "2022-07-05T06:36:39.522891Z",
     "iopub.status.idle": "2022-07-05T06:36:39.535196Z",
     "shell.execute_reply": "2022-07-05T06:36:39.534500Z"
    },
    "jupyter": {
     "outputs_hidden": false
    },
    "papermill": {
     "duration": 0.030129,
     "end_time": "2022-07-05T06:36:39.537079",
     "exception": false,
     "start_time": "2022-07-05T06:36:39.506950",
     "status": "completed"
    },
    "run_control": {
     "marked": true
    },
    "tags": []
   },
   "outputs": [
    {
     "data": {
      "text/plain": [
       "float64    561\n",
       "object       1\n",
       "dtype: int64"
      ]
     },
     "execution_count": 5,
     "metadata": {},
     "output_type": "execute_result"
    }
   ],
   "source": [
    "data.dtypes.value_counts()"
   ]
  },
  {
   "cell_type": "code",
   "execution_count": 6,
   "id": "8b28c493",
   "metadata": {
    "collapsed": false,
    "execution": {
     "iopub.execute_input": "2022-07-05T06:36:39.568956Z",
     "iopub.status.busy": "2022-07-05T06:36:39.568628Z",
     "iopub.status.idle": "2022-07-05T06:36:39.574286Z",
     "shell.execute_reply": "2022-07-05T06:36:39.573634Z"
    },
    "jupyter": {
     "outputs_hidden": false
    },
    "papermill": {
     "duration": 0.023794,
     "end_time": "2022-07-05T06:36:39.576199",
     "exception": false,
     "start_time": "2022-07-05T06:36:39.552405",
     "status": "completed"
    },
    "run_control": {
     "marked": true
    },
    "tags": []
   },
   "outputs": [
    {
     "data": {
      "text/plain": [
       "angle(tBodyGyroJerkMean,gravityMean)    float64\n",
       "angle(X,gravityMean)                    float64\n",
       "angle(Y,gravityMean)                    float64\n",
       "angle(Z,gravityMean)                    float64\n",
       "Activity                                 object\n",
       "dtype: object"
      ]
     },
     "execution_count": 6,
     "metadata": {},
     "output_type": "execute_result"
    }
   ],
   "source": [
    "data.dtypes.tail()"
   ]
  },
  {
   "cell_type": "markdown",
   "id": "dcc0c522",
   "metadata": {
    "papermill": {
     "duration": 0.014779,
     "end_time": "2022-07-05T06:36:39.606297",
     "exception": false,
     "start_time": "2022-07-05T06:36:39.591518",
     "status": "completed"
    },
    "run_control": {
     "marked": true
    },
    "tags": []
   },
   "source": [
    "The data are all scaled from -1 (minimum) to 1.0 (maximum).\n"
   ]
  },
  {
   "cell_type": "code",
   "execution_count": 7,
   "id": "5002739e",
   "metadata": {
    "collapsed": false,
    "execution": {
     "iopub.execute_input": "2022-07-05T06:36:39.638231Z",
     "iopub.status.busy": "2022-07-05T06:36:39.637706Z",
     "iopub.status.idle": "2022-07-05T06:36:39.672420Z",
     "shell.execute_reply": "2022-07-05T06:36:39.671771Z"
    },
    "jupyter": {
     "outputs_hidden": false
    },
    "papermill": {
     "duration": 0.0528,
     "end_time": "2022-07-05T06:36:39.674196",
     "exception": false,
     "start_time": "2022-07-05T06:36:39.621396",
     "status": "completed"
    },
    "run_control": {
     "marked": true
    },
    "tags": []
   },
   "outputs": [
    {
     "data": {
      "text/plain": [
       "-1.0    561\n",
       "dtype: int64"
      ]
     },
     "execution_count": 7,
     "metadata": {},
     "output_type": "execute_result"
    }
   ],
   "source": [
    "data.iloc[:, :-1].min().value_counts()"
   ]
  },
  {
   "cell_type": "code",
   "execution_count": 8,
   "id": "f63f9eb7",
   "metadata": {
    "collapsed": false,
    "execution": {
     "iopub.execute_input": "2022-07-05T06:36:39.707344Z",
     "iopub.status.busy": "2022-07-05T06:36:39.707044Z",
     "iopub.status.idle": "2022-07-05T06:36:39.733760Z",
     "shell.execute_reply": "2022-07-05T06:36:39.733243Z"
    },
    "jupyter": {
     "outputs_hidden": false
    },
    "papermill": {
     "duration": 0.045081,
     "end_time": "2022-07-05T06:36:39.735140",
     "exception": false,
     "start_time": "2022-07-05T06:36:39.690059",
     "status": "completed"
    },
    "run_control": {
     "marked": true
    },
    "tags": []
   },
   "outputs": [
    {
     "data": {
      "text/plain": [
       "1.0    561\n",
       "dtype: int64"
      ]
     },
     "execution_count": 8,
     "metadata": {},
     "output_type": "execute_result"
    }
   ],
   "source": [
    "data.iloc[:, :-1].max().value_counts()"
   ]
  },
  {
   "cell_type": "markdown",
   "id": "71e74ad9",
   "metadata": {
    "papermill": {
     "duration": 0.009547,
     "end_time": "2022-07-05T06:36:39.754504",
     "exception": false,
     "start_time": "2022-07-05T06:36:39.744957",
     "status": "completed"
    },
    "tags": []
   },
   "source": [
    "Examine the breakdown of activities; they are relatively balanced.\n"
   ]
  },
  {
   "cell_type": "code",
   "execution_count": 9,
   "id": "3d3a3674",
   "metadata": {
    "collapsed": false,
    "execution": {
     "iopub.execute_input": "2022-07-05T06:36:39.776198Z",
     "iopub.status.busy": "2022-07-05T06:36:39.775560Z",
     "iopub.status.idle": "2022-07-05T06:36:39.783891Z",
     "shell.execute_reply": "2022-07-05T06:36:39.783327Z"
    },
    "jupyter": {
     "outputs_hidden": false
    },
    "papermill": {
     "duration": 0.020686,
     "end_time": "2022-07-05T06:36:39.785210",
     "exception": false,
     "start_time": "2022-07-05T06:36:39.764524",
     "status": "completed"
    },
    "tags": []
   },
   "outputs": [
    {
     "data": {
      "text/plain": [
       "LAYING                1944\n",
       "STANDING              1906\n",
       "SITTING               1777\n",
       "WALKING               1722\n",
       "WALKING_UPSTAIRS      1544\n",
       "WALKING_DOWNSTAIRS    1406\n",
       "Name: Activity, dtype: int64"
      ]
     },
     "execution_count": 9,
     "metadata": {},
     "output_type": "execute_result"
    }
   ],
   "source": [
    "data.Activity.value_counts()"
   ]
  },
  {
   "cell_type": "markdown",
   "id": "56fd5772",
   "metadata": {
    "papermill": {
     "duration": 0.009789,
     "end_time": "2022-07-05T06:36:39.805054",
     "exception": false,
     "start_time": "2022-07-05T06:36:39.795265",
     "status": "completed"
    },
    "tags": []
   },
   "source": [
    "Scikit learn classifiers won't accept a sparse matrix for the prediction column. Thus, either `LabelEncoder` needs to be used to convert the activity labels to integers, or if `DictVectorizer` is used, the resulting matrix must be converted to a non-sparse array.\\\n",
    "Use `LabelEncoder` to fit_transform the \"Activity\" column, and look at 5 random values.\n"
   ]
  },
  {
   "cell_type": "code",
   "execution_count": 10,
   "id": "70274258",
   "metadata": {
    "collapsed": false,
    "execution": {
     "iopub.execute_input": "2022-07-05T06:36:39.827311Z",
     "iopub.status.busy": "2022-07-05T06:36:39.826844Z",
     "iopub.status.idle": "2022-07-05T06:36:39.965738Z",
     "shell.execute_reply": "2022-07-05T06:36:39.965004Z"
    },
    "jupyter": {
     "outputs_hidden": false
    },
    "papermill": {
     "duration": 0.152101,
     "end_time": "2022-07-05T06:36:39.967204",
     "exception": false,
     "start_time": "2022-07-05T06:36:39.815103",
     "status": "completed"
    },
    "tags": []
   },
   "outputs": [
    {
     "data": {
      "text/plain": [
       "9981    1\n",
       "9695    3\n",
       "3682    1\n",
       "5941    0\n",
       "6309    1\n",
       "Name: Activity, dtype: int64"
      ]
     },
     "execution_count": 10,
     "metadata": {},
     "output_type": "execute_result"
    }
   ],
   "source": [
    "from sklearn.preprocessing import LabelEncoder\n",
    "\n",
    "le = LabelEncoder()\n",
    "data['Activity'] = le.fit_transform(data.Activity)\n",
    "data['Activity'].sample(5)\n",
    "### END SOLUTION"
   ]
  },
  {
   "cell_type": "code",
   "execution_count": 11,
   "id": "583769f3",
   "metadata": {
    "execution": {
     "iopub.execute_input": "2022-07-05T06:36:39.988047Z",
     "iopub.status.busy": "2022-07-05T06:36:39.987507Z",
     "iopub.status.idle": "2022-07-05T06:36:39.992738Z",
     "shell.execute_reply": "2022-07-05T06:36:39.992006Z"
    },
    "papermill": {
     "duration": 0.017148,
     "end_time": "2022-07-05T06:36:39.994245",
     "exception": false,
     "start_time": "2022-07-05T06:36:39.977097",
     "status": "completed"
    },
    "tags": []
   },
   "outputs": [
    {
     "data": {
      "text/plain": [
       "(10299, 562)"
      ]
     },
     "execution_count": 11,
     "metadata": {},
     "output_type": "execute_result"
    }
   ],
   "source": [
    "data.shape"
   ]
  },
  {
   "cell_type": "code",
   "execution_count": 12,
   "id": "60e88234",
   "metadata": {
    "execution": {
     "iopub.execute_input": "2022-07-05T06:36:40.015247Z",
     "iopub.status.busy": "2022-07-05T06:36:40.014883Z",
     "iopub.status.idle": "2022-07-05T06:36:40.020673Z",
     "shell.execute_reply": "2022-07-05T06:36:40.019942Z"
    },
    "papermill": {
     "duration": 0.017885,
     "end_time": "2022-07-05T06:36:40.022194",
     "exception": false,
     "start_time": "2022-07-05T06:36:40.004309",
     "status": "completed"
    },
    "tags": []
   },
   "outputs": [
    {
     "data": {
      "text/plain": [
       "Index(['tBodyAcc-mean()-X', 'tBodyAcc-mean()-Y', 'tBodyAcc-mean()-Z',\n",
       "       'tBodyAcc-std()-X', 'tBodyAcc-std()-Y', 'tBodyAcc-std()-Z',\n",
       "       'tBodyAcc-mad()-X', 'tBodyAcc-mad()-Y', 'tBodyAcc-mad()-Z',\n",
       "       'tBodyAcc-max()-X',\n",
       "       ...\n",
       "       'fBodyBodyGyroJerkMag-skewness()', 'fBodyBodyGyroJerkMag-kurtosis()',\n",
       "       'angle(tBodyAccMean,gravity)', 'angle(tBodyAccJerkMean),gravityMean)',\n",
       "       'angle(tBodyGyroMean,gravityMean)',\n",
       "       'angle(tBodyGyroJerkMean,gravityMean)', 'angle(X,gravityMean)',\n",
       "       'angle(Y,gravityMean)', 'angle(Z,gravityMean)', 'Activity'],\n",
       "      dtype='object', length=562)"
      ]
     },
     "execution_count": 12,
     "metadata": {},
     "output_type": "execute_result"
    }
   ],
   "source": [
    "data.columns.T"
   ]
  },
  {
   "cell_type": "markdown",
   "id": "29fe65eb",
   "metadata": {
    "papermill": {
     "duration": 0.009345,
     "end_time": "2022-07-05T06:36:40.041351",
     "exception": false,
     "start_time": "2022-07-05T06:36:40.032006",
     "status": "completed"
    },
    "tags": []
   },
   "source": [
    "## Question 2\n",
    "\n",
    "*   Calculate the correlations between the dependent variables.\n",
    "*   Create a histogram of the correlation values.\n",
    "*   Identify those that are most correlated (either positively or negatively).\n"
   ]
  },
  {
   "cell_type": "code",
   "execution_count": 13,
   "id": "0b6b1cdc",
   "metadata": {
    "execution": {
     "iopub.execute_input": "2022-07-05T06:36:40.062138Z",
     "iopub.status.busy": "2022-07-05T06:36:40.061665Z",
     "iopub.status.idle": "2022-07-05T06:36:57.706116Z",
     "shell.execute_reply": "2022-07-05T06:36:57.705175Z"
    },
    "papermill": {
     "duration": 17.657135,
     "end_time": "2022-07-05T06:36:57.707943",
     "exception": false,
     "start_time": "2022-07-05T06:36:40.050808",
     "status": "completed"
    },
    "tags": []
   },
   "outputs": [],
   "source": [
    "### BEGIN SOLUTION\n",
    "# Calculate the correlation values\n",
    "feature_cols = data.columns[:-1]\n",
    "corr_values = data[feature_cols].corr()\n",
    "\n",
    "# Simplify by emptying all the data below the diagonal\n",
    "tril_index = np.tril_indices_from(corr_values)\n",
    "\n",
    "# Make the unused values NaNs\n",
    "for coord in zip(*tril_index):\n",
    "    corr_values.iloc[coord[0], coord[1]] = np.NaN\n",
    "    \n",
    "# Stack the data and convert to a data frame\n",
    "corr_values = (corr_values\n",
    "               .stack()\n",
    "               .to_frame()\n",
    "               .reset_index()\n",
    "               .rename(columns={'level_0':'feature1',\n",
    "                                'level_1':'feature2',\n",
    "                                0:'correlation'}))\n",
    "\n",
    "# Get the absolute values for sorting\n",
    "corr_values['abs_correlation'] = corr_values.correlation.abs()"
   ]
  },
  {
   "cell_type": "code",
   "execution_count": 14,
   "id": "927707d6",
   "metadata": {
    "execution": {
     "iopub.execute_input": "2022-07-05T06:36:57.729963Z",
     "iopub.status.busy": "2022-07-05T06:36:57.729604Z",
     "iopub.status.idle": "2022-07-05T06:36:57.735001Z",
     "shell.execute_reply": "2022-07-05T06:36:57.733984Z"
    },
    "papermill": {
     "duration": 0.018192,
     "end_time": "2022-07-05T06:36:57.736421",
     "exception": false,
     "start_time": "2022-07-05T06:36:57.718229",
     "status": "completed"
    },
    "tags": []
   },
   "outputs": [
    {
     "data": {
      "text/plain": [
       "(561,)"
      ]
     },
     "execution_count": 14,
     "metadata": {},
     "output_type": "execute_result"
    }
   ],
   "source": [
    "feature_cols.shape"
   ]
  },
  {
   "cell_type": "code",
   "execution_count": 15,
   "id": "7f219599",
   "metadata": {
    "execution": {
     "iopub.execute_input": "2022-07-05T06:36:57.758549Z",
     "iopub.status.busy": "2022-07-05T06:36:57.757807Z",
     "iopub.status.idle": "2022-07-05T06:36:57.772515Z",
     "shell.execute_reply": "2022-07-05T06:36:57.771763Z"
    },
    "papermill": {
     "duration": 0.027546,
     "end_time": "2022-07-05T06:36:57.774032",
     "exception": false,
     "start_time": "2022-07-05T06:36:57.746486",
     "status": "completed"
    },
    "tags": []
   },
   "outputs": [
    {
     "data": {
      "text/html": [
       "<div>\n",
       "<style scoped>\n",
       "    .dataframe tbody tr th:only-of-type {\n",
       "        vertical-align: middle;\n",
       "    }\n",
       "\n",
       "    .dataframe tbody tr th {\n",
       "        vertical-align: top;\n",
       "    }\n",
       "\n",
       "    .dataframe thead th {\n",
       "        text-align: right;\n",
       "    }\n",
       "</style>\n",
       "<table border=\"1\" class=\"dataframe\">\n",
       "  <thead>\n",
       "    <tr style=\"text-align: right;\">\n",
       "      <th></th>\n",
       "      <th>feature1</th>\n",
       "      <th>feature2</th>\n",
       "      <th>correlation</th>\n",
       "      <th>abs_correlation</th>\n",
       "    </tr>\n",
       "  </thead>\n",
       "  <tbody>\n",
       "    <tr>\n",
       "      <th>0</th>\n",
       "      <td>tBodyAcc-mean()-X</td>\n",
       "      <td>tBodyAcc-mean()-Y</td>\n",
       "      <td>0.128037</td>\n",
       "      <td>0.128037</td>\n",
       "    </tr>\n",
       "    <tr>\n",
       "      <th>1</th>\n",
       "      <td>tBodyAcc-mean()-X</td>\n",
       "      <td>tBodyAcc-mean()-Z</td>\n",
       "      <td>-0.230302</td>\n",
       "      <td>0.230302</td>\n",
       "    </tr>\n",
       "    <tr>\n",
       "      <th>2</th>\n",
       "      <td>tBodyAcc-mean()-X</td>\n",
       "      <td>tBodyAcc-std()-X</td>\n",
       "      <td>0.004590</td>\n",
       "      <td>0.004590</td>\n",
       "    </tr>\n",
       "    <tr>\n",
       "      <th>3</th>\n",
       "      <td>tBodyAcc-mean()-X</td>\n",
       "      <td>tBodyAcc-std()-Y</td>\n",
       "      <td>-0.016785</td>\n",
       "      <td>0.016785</td>\n",
       "    </tr>\n",
       "    <tr>\n",
       "      <th>4</th>\n",
       "      <td>tBodyAcc-mean()-X</td>\n",
       "      <td>tBodyAcc-std()-Z</td>\n",
       "      <td>-0.036071</td>\n",
       "      <td>0.036071</td>\n",
       "    </tr>\n",
       "    <tr>\n",
       "      <th>...</th>\n",
       "      <td>...</td>\n",
       "      <td>...</td>\n",
       "      <td>...</td>\n",
       "      <td>...</td>\n",
       "    </tr>\n",
       "    <tr>\n",
       "      <th>157075</th>\n",
       "      <td>angle(tBodyGyroJerkMean,gravityMean)</td>\n",
       "      <td>angle(Y,gravityMean)</td>\n",
       "      <td>-0.004582</td>\n",
       "      <td>0.004582</td>\n",
       "    </tr>\n",
       "    <tr>\n",
       "      <th>157076</th>\n",
       "      <td>angle(tBodyGyroJerkMean,gravityMean)</td>\n",
       "      <td>angle(Z,gravityMean)</td>\n",
       "      <td>-0.012549</td>\n",
       "      <td>0.012549</td>\n",
       "    </tr>\n",
       "    <tr>\n",
       "      <th>157077</th>\n",
       "      <td>angle(X,gravityMean)</td>\n",
       "      <td>angle(Y,gravityMean)</td>\n",
       "      <td>-0.748249</td>\n",
       "      <td>0.748249</td>\n",
       "    </tr>\n",
       "    <tr>\n",
       "      <th>157078</th>\n",
       "      <td>angle(X,gravityMean)</td>\n",
       "      <td>angle(Z,gravityMean)</td>\n",
       "      <td>-0.635231</td>\n",
       "      <td>0.635231</td>\n",
       "    </tr>\n",
       "    <tr>\n",
       "      <th>157079</th>\n",
       "      <td>angle(Y,gravityMean)</td>\n",
       "      <td>angle(Z,gravityMean)</td>\n",
       "      <td>0.545614</td>\n",
       "      <td>0.545614</td>\n",
       "    </tr>\n",
       "  </tbody>\n",
       "</table>\n",
       "<p>157080 rows × 4 columns</p>\n",
       "</div>"
      ],
      "text/plain": [
       "                                    feature1              feature2  \\\n",
       "0                          tBodyAcc-mean()-X     tBodyAcc-mean()-Y   \n",
       "1                          tBodyAcc-mean()-X     tBodyAcc-mean()-Z   \n",
       "2                          tBodyAcc-mean()-X      tBodyAcc-std()-X   \n",
       "3                          tBodyAcc-mean()-X      tBodyAcc-std()-Y   \n",
       "4                          tBodyAcc-mean()-X      tBodyAcc-std()-Z   \n",
       "...                                      ...                   ...   \n",
       "157075  angle(tBodyGyroJerkMean,gravityMean)  angle(Y,gravityMean)   \n",
       "157076  angle(tBodyGyroJerkMean,gravityMean)  angle(Z,gravityMean)   \n",
       "157077                  angle(X,gravityMean)  angle(Y,gravityMean)   \n",
       "157078                  angle(X,gravityMean)  angle(Z,gravityMean)   \n",
       "157079                  angle(Y,gravityMean)  angle(Z,gravityMean)   \n",
       "\n",
       "        correlation  abs_correlation  \n",
       "0          0.128037         0.128037  \n",
       "1         -0.230302         0.230302  \n",
       "2          0.004590         0.004590  \n",
       "3         -0.016785         0.016785  \n",
       "4         -0.036071         0.036071  \n",
       "...             ...              ...  \n",
       "157075    -0.004582         0.004582  \n",
       "157076    -0.012549         0.012549  \n",
       "157077    -0.748249         0.748249  \n",
       "157078    -0.635231         0.635231  \n",
       "157079     0.545614         0.545614  \n",
       "\n",
       "[157080 rows x 4 columns]"
      ]
     },
     "execution_count": 15,
     "metadata": {},
     "output_type": "execute_result"
    }
   ],
   "source": [
    "corr_values"
   ]
  },
  {
   "cell_type": "markdown",
   "id": "b2ae75fc",
   "metadata": {
    "papermill": {
     "duration": 0.009892,
     "end_time": "2022-07-05T06:36:57.794203",
     "exception": false,
     "start_time": "2022-07-05T06:36:57.784311",
     "status": "completed"
    },
    "tags": []
   },
   "source": [
    "A histogram of the absolute value correlations.\n"
   ]
  },
  {
   "cell_type": "code",
   "execution_count": 16,
   "id": "b76d1fd8",
   "metadata": {
    "execution": {
     "iopub.execute_input": "2022-07-05T06:36:57.816568Z",
     "iopub.status.busy": "2022-07-05T06:36:57.816280Z",
     "iopub.status.idle": "2022-07-05T06:36:57.821589Z",
     "shell.execute_reply": "2022-07-05T06:36:57.820781Z"
    },
    "papermill": {
     "duration": 0.018551,
     "end_time": "2022-07-05T06:36:57.823140",
     "exception": false,
     "start_time": "2022-07-05T06:36:57.804589",
     "status": "completed"
    },
    "tags": []
   },
   "outputs": [],
   "source": [
    "import matplotlib.pyplot as plt\n",
    "import seaborn as sns\n",
    "%matplotlib inline"
   ]
  },
  {
   "cell_type": "code",
   "execution_count": 17,
   "id": "8f8cb012",
   "metadata": {
    "collapsed": false,
    "execution": {
     "iopub.execute_input": "2022-07-05T06:36:57.845225Z",
     "iopub.status.busy": "2022-07-05T06:36:57.844823Z",
     "iopub.status.idle": "2022-07-05T06:36:58.114262Z",
     "shell.execute_reply": "2022-07-05T06:36:58.113207Z"
    },
    "jupyter": {
     "outputs_hidden": false
    },
    "papermill": {
     "duration": 0.282688,
     "end_time": "2022-07-05T06:36:58.116296",
     "exception": false,
     "start_time": "2022-07-05T06:36:57.833608",
     "status": "completed"
    },
    "tags": []
   },
   "outputs": [
    {
     "data": {
      "image/png": "[encoded data removed]",
      "text/plain": [
       "<Figure size 864x576 with 1 Axes>"
      ]
     },
     "metadata": {},
     "output_type": "display_data"
    }
   ],
   "source": [
    "sns.set_context('talk')\n",
    "sns.set_style('white')\n",
    "\n",
    "ax = corr_values.abs_correlation.hist(bins=50, figsize=(12, 8))\n",
    "ax.set(xlabel='Absolute Correlation', ylabel='Frequency');"
   ]
  },
  {
   "cell_type": "code",
   "execution_count": 18,
   "id": "c67a528b",
   "metadata": {
    "collapsed": false,
    "execution": {
     "iopub.execute_input": "2022-07-05T06:36:58.152488Z",
     "iopub.status.busy": "2022-07-05T06:36:58.152195Z",
     "iopub.status.idle": "2022-07-05T06:36:58.197798Z",
     "shell.execute_reply": "2022-07-05T06:36:58.197037Z"
    },
    "jupyter": {
     "outputs_hidden": false
    },
    "papermill": {
     "duration": 0.066061,
     "end_time": "2022-07-05T06:36:58.199764",
     "exception": false,
     "start_time": "2022-07-05T06:36:58.133703",
     "status": "completed"
    },
    "tags": []
   },
   "outputs": [
    {
     "data": {
      "text/html": [
       "<div>\n",
       "<style scoped>\n",
       "    .dataframe tbody tr th:only-of-type {\n",
       "        vertical-align: middle;\n",
       "    }\n",
       "\n",
       "    .dataframe tbody tr th {\n",
       "        vertical-align: top;\n",
       "    }\n",
       "\n",
       "    .dataframe thead th {\n",
       "        text-align: right;\n",
       "    }\n",
       "</style>\n",
       "<table border=\"1\" class=\"dataframe\">\n",
       "  <thead>\n",
       "    <tr style=\"text-align: right;\">\n",
       "      <th></th>\n",
       "      <th>feature1</th>\n",
       "      <th>feature2</th>\n",
       "      <th>correlation</th>\n",
       "      <th>abs_correlation</th>\n",
       "    </tr>\n",
       "  </thead>\n",
       "  <tbody>\n",
       "    <tr>\n",
       "      <th>156894</th>\n",
       "      <td>fBodyBodyGyroJerkMag-mean()</td>\n",
       "      <td>fBodyBodyGyroJerkMag-sma()</td>\n",
       "      <td>1.000000</td>\n",
       "      <td>1.000000</td>\n",
       "    </tr>\n",
       "    <tr>\n",
       "      <th>93902</th>\n",
       "      <td>tBodyAccMag-sma()</td>\n",
       "      <td>tGravityAccMag-sma()</td>\n",
       "      <td>1.000000</td>\n",
       "      <td>1.000000</td>\n",
       "    </tr>\n",
       "    <tr>\n",
       "      <th>101139</th>\n",
       "      <td>tBodyAccJerkMag-mean()</td>\n",
       "      <td>tBodyAccJerkMag-sma()</td>\n",
       "      <td>1.000000</td>\n",
       "      <td>1.000000</td>\n",
       "    </tr>\n",
       "    <tr>\n",
       "      <th>96706</th>\n",
       "      <td>tGravityAccMag-mean()</td>\n",
       "      <td>tGravityAccMag-sma()</td>\n",
       "      <td>1.000000</td>\n",
       "      <td>1.000000</td>\n",
       "    </tr>\n",
       "    <tr>\n",
       "      <th>94257</th>\n",
       "      <td>tBodyAccMag-energy()</td>\n",
       "      <td>tGravityAccMag-energy()</td>\n",
       "      <td>1.000000</td>\n",
       "      <td>1.000000</td>\n",
       "    </tr>\n",
       "    <tr>\n",
       "      <th>...</th>\n",
       "      <td>...</td>\n",
       "      <td>...</td>\n",
       "      <td>...</td>\n",
       "      <td>...</td>\n",
       "    </tr>\n",
       "    <tr>\n",
       "      <th>22657</th>\n",
       "      <td>tGravityAcc-mean()-Y</td>\n",
       "      <td>angle(Y,gravityMean)</td>\n",
       "      <td>-0.993425</td>\n",
       "      <td>0.993425</td>\n",
       "    </tr>\n",
       "    <tr>\n",
       "      <th>39225</th>\n",
       "      <td>tGravityAcc-arCoeff()-Z,3</td>\n",
       "      <td>tGravityAcc-arCoeff()-Z,4</td>\n",
       "      <td>-0.994267</td>\n",
       "      <td>0.994267</td>\n",
       "    </tr>\n",
       "    <tr>\n",
       "      <th>38739</th>\n",
       "      <td>tGravityAcc-arCoeff()-Z,2</td>\n",
       "      <td>tGravityAcc-arCoeff()-Z,3</td>\n",
       "      <td>-0.994628</td>\n",
       "      <td>0.994628</td>\n",
       "    </tr>\n",
       "    <tr>\n",
       "      <th>23176</th>\n",
       "      <td>tGravityAcc-mean()-Z</td>\n",
       "      <td>angle(Z,gravityMean)</td>\n",
       "      <td>-0.994764</td>\n",
       "      <td>0.994764</td>\n",
       "    </tr>\n",
       "    <tr>\n",
       "      <th>38252</th>\n",
       "      <td>tGravityAcc-arCoeff()-Z,1</td>\n",
       "      <td>tGravityAcc-arCoeff()-Z,2</td>\n",
       "      <td>-0.995195</td>\n",
       "      <td>0.995195</td>\n",
       "    </tr>\n",
       "  </tbody>\n",
       "</table>\n",
       "<p>22815 rows × 4 columns</p>\n",
       "</div>"
      ],
      "text/plain": [
       "                           feature1                    feature2  correlation  \\\n",
       "156894  fBodyBodyGyroJerkMag-mean()  fBodyBodyGyroJerkMag-sma()     1.000000   \n",
       "93902             tBodyAccMag-sma()        tGravityAccMag-sma()     1.000000   \n",
       "101139       tBodyAccJerkMag-mean()       tBodyAccJerkMag-sma()     1.000000   \n",
       "96706         tGravityAccMag-mean()        tGravityAccMag-sma()     1.000000   \n",
       "94257          tBodyAccMag-energy()     tGravityAccMag-energy()     1.000000   \n",
       "...                             ...                         ...          ...   \n",
       "22657          tGravityAcc-mean()-Y        angle(Y,gravityMean)    -0.993425   \n",
       "39225     tGravityAcc-arCoeff()-Z,3   tGravityAcc-arCoeff()-Z,4    -0.994267   \n",
       "38739     tGravityAcc-arCoeff()-Z,2   tGravityAcc-arCoeff()-Z,3    -0.994628   \n",
       "23176          tGravityAcc-mean()-Z        angle(Z,gravityMean)    -0.994764   \n",
       "38252     tGravityAcc-arCoeff()-Z,1   tGravityAcc-arCoeff()-Z,2    -0.995195   \n",
       "\n",
       "        abs_correlation  \n",
       "156894         1.000000  \n",
       "93902          1.000000  \n",
       "101139         1.000000  \n",
       "96706          1.000000  \n",
       "94257          1.000000  \n",
       "...                 ...  \n",
       "22657          0.993425  \n",
       "39225          0.994267  \n",
       "38739          0.994628  \n",
       "23176          0.994764  \n",
       "38252          0.995195  \n",
       "\n",
       "[22815 rows x 4 columns]"
      ]
     },
     "execution_count": 18,
     "metadata": {},
     "output_type": "execute_result"
    }
   ],
   "source": [
    "# The most highly correlated values\n",
    "corr_values.sort_values('correlation', ascending=False).query('abs_correlation>0.8')\n",
    "### END SOLUTION"
   ]
  },
  {
   "cell_type": "markdown",
   "id": "f33bf43e",
   "metadata": {
    "papermill": {
     "duration": 0.016989,
     "end_time": "2022-07-05T06:36:58.234317",
     "exception": false,
     "start_time": "2022-07-05T06:36:58.217328",
     "status": "completed"
    },
    "tags": []
   },
   "source": [
    "## Question 3\n",
    "\n",
    "*   Split the data into train and test data sets. This can be done using any method, but consider using Scikit-learn's `StratifiedShuffleSplit` to maintain the same ratio of predictor classes.\n",
    "*   Regardless of the method used to split the data, compare the ratio of classes in both the train and test splits.\n"
   ]
  },
  {
   "cell_type": "code",
   "execution_count": 19,
   "id": "058447f9",
   "metadata": {
    "collapsed": false,
    "execution": {
     "iopub.execute_input": "2022-07-05T06:36:58.270310Z",
     "iopub.status.busy": "2022-07-05T06:36:58.270029Z",
     "iopub.status.idle": "2022-07-05T06:36:58.390391Z",
     "shell.execute_reply": "2022-07-05T06:36:58.389539Z"
    },
    "jupyter": {
     "outputs_hidden": false
    },
    "papermill": {
     "duration": 0.141046,
     "end_time": "2022-07-05T06:36:58.392567",
     "exception": false,
     "start_time": "2022-07-05T06:36:58.251521",
     "status": "completed"
    },
    "tags": []
   },
   "outputs": [],
   "source": [
    "### BEGIN SOLUTION\n",
    "from sklearn.model_selection import StratifiedShuffleSplit\n",
    "\n",
    "# Get the split indexes\n",
    "strat_shuf_split = StratifiedShuffleSplit(n_splits=1, \n",
    "                                          test_size=0.3, \n",
    "                                          random_state=42)\n",
    "\n",
    "train_idx, test_idx = next(strat_shuf_split.split(data[feature_cols], data.Activity))\n",
    "\n",
    "# Create the dataframes\n",
    "X_train = data.loc[train_idx, feature_cols]\n",
    "y_train = data.loc[train_idx, 'Activity']\n",
    "\n",
    "X_test  = data.loc[test_idx, feature_cols]\n",
    "y_test  = data.loc[test_idx, 'Activity']"
   ]
  },
  {
   "cell_type": "code",
   "execution_count": 20,
   "id": "4713e2f1",
   "metadata": {
    "collapsed": false,
    "execution": {
     "iopub.execute_input": "2022-07-05T06:36:58.428958Z",
     "iopub.status.busy": "2022-07-05T06:36:58.428511Z",
     "iopub.status.idle": "2022-07-05T06:36:58.435008Z",
     "shell.execute_reply": "2022-07-05T06:36:58.434502Z"
    },
    "jupyter": {
     "outputs_hidden": false
    },
    "papermill": {
     "duration": 0.026462,
     "end_time": "2022-07-05T06:36:58.436779",
     "exception": false,
     "start_time": "2022-07-05T06:36:58.410317",
     "status": "completed"
    },
    "tags": []
   },
   "outputs": [
    {
     "data": {
      "text/plain": [
       "0    0.188792\n",
       "2    0.185046\n",
       "1    0.172562\n",
       "3    0.167152\n",
       "5    0.149951\n",
       "4    0.136496\n",
       "Name: Activity, dtype: float64"
      ]
     },
     "execution_count": 20,
     "metadata": {},
     "output_type": "execute_result"
    }
   ],
   "source": [
    "y_train.value_counts(normalize=True)"
   ]
  },
  {
   "cell_type": "code",
   "execution_count": 21,
   "id": "9742ad32",
   "metadata": {
    "collapsed": false,
    "execution": {
     "iopub.execute_input": "2022-07-05T06:36:58.473434Z",
     "iopub.status.busy": "2022-07-05T06:36:58.472530Z",
     "iopub.status.idle": "2022-07-05T06:36:58.479201Z",
     "shell.execute_reply": "2022-07-05T06:36:58.478509Z"
    },
    "jupyter": {
     "outputs_hidden": false
    },
    "papermill": {
     "duration": 0.026743,
     "end_time": "2022-07-05T06:36:58.480924",
     "exception": false,
     "start_time": "2022-07-05T06:36:58.454181",
     "status": "completed"
    },
    "tags": []
   },
   "outputs": [
    {
     "data": {
      "text/plain": [
       "0    0.188673\n",
       "2    0.185113\n",
       "1    0.172492\n",
       "3    0.167314\n",
       "5    0.149838\n",
       "4    0.136570\n",
       "Name: Activity, dtype: float64"
      ]
     },
     "execution_count": 21,
     "metadata": {},
     "output_type": "execute_result"
    }
   ],
   "source": [
    "y_test.value_counts(normalize=True)\n",
    "### END SOLUTION"
   ]
  },
  {
   "cell_type": "markdown",
   "id": "5b36c6bc",
   "metadata": {
    "papermill": {
     "duration": 0.018125,
     "end_time": "2022-07-05T06:36:58.516900",
     "exception": false,
     "start_time": "2022-07-05T06:36:58.498775",
     "status": "completed"
    },
    "tags": []
   },
   "source": [
    "## Question 4\n",
    "\n",
    "*   Fit a logistic regression model without any regularization using all of the features. Be sure to read the documentation about fitting a multi-class model so you understand the coefficient output. Store the model.\n",
    "*   Using cross validation to determine the hyperparameters and fit models using L1 and L2 regularization. Store each of these models as well. Note the limitations on multi-class models, solvers, and regularizations. The regularized models, in particular the L1 model, will probably take a while to fit.\n"
   ]
  },
  {
   "cell_type": "code",
   "execution_count": 22,
   "id": "3d7eb9ec",
   "metadata": {
    "collapsed": false,
    "execution": {
     "iopub.execute_input": "2022-07-05T06:36:58.553251Z",
     "iopub.status.busy": "2022-07-05T06:36:58.552764Z",
     "iopub.status.idle": "2022-07-05T06:37:07.661787Z",
     "shell.execute_reply": "2022-07-05T06:37:07.661155Z"
    },
    "jupyter": {
     "outputs_hidden": false
    },
    "papermill": {
     "duration": 9.129491,
     "end_time": "2022-07-05T06:37:07.663945",
     "exception": false,
     "start_time": "2022-07-05T06:36:58.534454",
     "status": "completed"
    },
    "tags": []
   },
   "outputs": [],
   "source": [
    "### BEGIN SOLUTION\n",
    "from sklearn.linear_model import LogisticRegression\n",
    "\n",
    "# Standard logistic regression\n",
    "lr = LogisticRegression(solver='liblinear').fit(X_train, y_train)"
   ]
  },
  {
   "cell_type": "code",
   "execution_count": 23,
   "id": "ab8f74ff",
   "metadata": {
    "collapsed": false,
    "execution": {
     "iopub.execute_input": "2022-07-05T06:37:07.702053Z",
     "iopub.status.busy": "2022-07-05T06:37:07.701705Z",
     "iopub.status.idle": "2022-07-05T06:52:54.265912Z",
     "shell.execute_reply": "2022-07-05T06:52:54.265045Z"
    },
    "jupyter": {
     "outputs_hidden": false
    },
    "papermill": {
     "duration": 946.58604,
     "end_time": "2022-07-05T06:52:54.268167",
     "exception": false,
     "start_time": "2022-07-05T06:37:07.682127",
     "status": "completed"
    },
    "tags": []
   },
   "outputs": [],
   "source": [
    "from sklearn.linear_model import LogisticRegressionCV\n",
    "\n",
    "# L1 regularized logistic regression\n",
    "lr_l1 = LogisticRegressionCV(Cs=10, cv=4, penalty='l1', solver='liblinear').fit(X_train, y_train)"
   ]
  },
  {
   "cell_type": "code",
   "execution_count": 24,
   "id": "a79c3863",
   "metadata": {
    "execution": {
     "iopub.execute_input": "2022-07-05T06:52:54.307346Z",
     "iopub.status.busy": "2022-07-05T06:52:54.305976Z",
     "iopub.status.idle": "2022-07-05T06:57:51.052480Z",
     "shell.execute_reply": "2022-07-05T06:57:51.051743Z"
    },
    "papermill": {
     "duration": 296.768211,
     "end_time": "2022-07-05T06:57:51.054589",
     "exception": false,
     "start_time": "2022-07-05T06:52:54.286378",
     "status": "completed"
    },
    "tags": []
   },
   "outputs": [],
   "source": [
    "# L2 regularized logistic regression\n",
    "lr_l2 = LogisticRegressionCV(Cs=10, cv=4, penalty='l2', solver='liblinear').fit(X_train, y_train)\n",
    "### END SOLUTION"
   ]
  },
  {
   "cell_type": "markdown",
   "id": "72c8f26c",
   "metadata": {
    "papermill": {
     "duration": 0.010828,
     "end_time": "2022-07-05T06:57:51.076884",
     "exception": false,
     "start_time": "2022-07-05T06:57:51.066056",
     "status": "completed"
    },
    "tags": []
   },
   "source": [
    "## Question 5\n",
    "\n",
    "*   Compare the magnitudes of the coefficients for each of the models. If one-vs-rest fitting was used, each set of coefficients can be plotted separately.\n"
   ]
  },
  {
   "cell_type": "code",
   "execution_count": 25,
   "id": "5cfaa94e",
   "metadata": {
    "collapsed": false,
    "execution": {
     "iopub.execute_input": "2022-07-05T06:57:51.100065Z",
     "iopub.status.busy": "2022-07-05T06:57:51.099649Z",
     "iopub.status.idle": "2022-07-05T06:57:51.129465Z",
     "shell.execute_reply": "2022-07-05T06:57:51.128641Z"
    },
    "jupyter": {
     "outputs_hidden": false
    },
    "papermill": {
     "duration": 0.043708,
     "end_time": "2022-07-05T06:57:51.131507",
     "exception": false,
     "start_time": "2022-07-05T06:57:51.087799",
     "status": "completed"
    },
    "tags": []
   },
   "outputs": [
    {
     "data": {
      "text/html": [
       "<div>\n",
       "<style scoped>\n",
       "    .dataframe tbody tr th:only-of-type {\n",
       "        vertical-align: middle;\n",
       "    }\n",
       "\n",
       "    .dataframe tbody tr th {\n",
       "        vertical-align: top;\n",
       "    }\n",
       "\n",
       "    .dataframe thead tr th {\n",
       "        text-align: left;\n",
       "    }\n",
       "</style>\n",
       "<table border=\"1\" class=\"dataframe\">\n",
       "  <thead>\n",
       "    <tr>\n",
       "      <th></th>\n",
       "      <th colspan=\"6\" halign=\"left\">lr</th>\n",
       "      <th colspan=\"6\" halign=\"left\">l1</th>\n",
       "      <th colspan=\"6\" halign=\"left\">l2</th>\n",
       "    </tr>\n",
       "    <tr>\n",
       "      <th></th>\n",
       "      <th>0</th>\n",
       "      <th>1</th>\n",
       "      <th>2</th>\n",
       "      <th>3</th>\n",
       "      <th>4</th>\n",
       "      <th>5</th>\n",
       "      <th>0</th>\n",
       "      <th>1</th>\n",
       "      <th>2</th>\n",
       "      <th>3</th>\n",
       "      <th>4</th>\n",
       "      <th>5</th>\n",
       "      <th>0</th>\n",
       "      <th>1</th>\n",
       "      <th>2</th>\n",
       "      <th>3</th>\n",
       "      <th>4</th>\n",
       "      <th>5</th>\n",
       "    </tr>\n",
       "  </thead>\n",
       "  <tbody>\n",
       "    <tr>\n",
       "      <th>317</th>\n",
       "      <td>-0.024262</td>\n",
       "      <td>0.070896</td>\n",
       "      <td>-0.009851</td>\n",
       "      <td>0.464240</td>\n",
       "      <td>0.142857</td>\n",
       "      <td>-0.669523</td>\n",
       "      <td>0.0</td>\n",
       "      <td>0.213869</td>\n",
       "      <td>0.000000</td>\n",
       "      <td>0.347204</td>\n",
       "      <td>0.010211</td>\n",
       "      <td>-0.852134</td>\n",
       "      <td>-0.059729</td>\n",
       "      <td>-0.066706</td>\n",
       "      <td>-0.010788</td>\n",
       "      <td>1.113872</td>\n",
       "      <td>0.414228</td>\n",
       "      <td>-1.366292</td>\n",
       "    </tr>\n",
       "    <tr>\n",
       "      <th>1</th>\n",
       "      <td>0.014493</td>\n",
       "      <td>-0.201046</td>\n",
       "      <td>0.060892</td>\n",
       "      <td>-0.023509</td>\n",
       "      <td>0.107967</td>\n",
       "      <td>-0.247193</td>\n",
       "      <td>0.0</td>\n",
       "      <td>0.000000</td>\n",
       "      <td>0.000000</td>\n",
       "      <td>0.000000</td>\n",
       "      <td>0.000000</td>\n",
       "      <td>0.000000</td>\n",
       "      <td>0.029334</td>\n",
       "      <td>-1.136432</td>\n",
       "      <td>0.106709</td>\n",
       "      <td>-0.153941</td>\n",
       "      <td>0.185907</td>\n",
       "      <td>-0.524828</td>\n",
       "    </tr>\n",
       "    <tr>\n",
       "      <th>120</th>\n",
       "      <td>0.035327</td>\n",
       "      <td>-0.373054</td>\n",
       "      <td>0.201548</td>\n",
       "      <td>-0.151107</td>\n",
       "      <td>-0.008973</td>\n",
       "      <td>0.160261</td>\n",
       "      <td>0.0</td>\n",
       "      <td>-2.354935</td>\n",
       "      <td>1.392087</td>\n",
       "      <td>0.000000</td>\n",
       "      <td>0.451684</td>\n",
       "      <td>0.000000</td>\n",
       "      <td>0.075556</td>\n",
       "      <td>-3.884857</td>\n",
       "      <td>0.520875</td>\n",
       "      <td>-0.271089</td>\n",
       "      <td>0.189019</td>\n",
       "      <td>0.345589</td>\n",
       "    </tr>\n",
       "    <tr>\n",
       "      <th>445</th>\n",
       "      <td>0.260750</td>\n",
       "      <td>-3.782020</td>\n",
       "      <td>3.475456</td>\n",
       "      <td>0.143149</td>\n",
       "      <td>-0.286184</td>\n",
       "      <td>0.906774</td>\n",
       "      <td>0.0</td>\n",
       "      <td>-5.265852</td>\n",
       "      <td>4.607979</td>\n",
       "      <td>0.000000</td>\n",
       "      <td>-0.400758</td>\n",
       "      <td>2.217671</td>\n",
       "      <td>0.544779</td>\n",
       "      <td>-5.557322</td>\n",
       "      <td>4.573626</td>\n",
       "      <td>0.167900</td>\n",
       "      <td>-0.436856</td>\n",
       "      <td>2.057845</td>\n",
       "    </tr>\n",
       "    <tr>\n",
       "      <th>68</th>\n",
       "      <td>-0.043405</td>\n",
       "      <td>-0.473232</td>\n",
       "      <td>0.159060</td>\n",
       "      <td>-0.238845</td>\n",
       "      <td>0.545092</td>\n",
       "      <td>-0.368635</td>\n",
       "      <td>0.0</td>\n",
       "      <td>-1.493003</td>\n",
       "      <td>0.000000</td>\n",
       "      <td>-0.275813</td>\n",
       "      <td>0.431768</td>\n",
       "      <td>-0.622820</td>\n",
       "      <td>-0.137431</td>\n",
       "      <td>-2.104626</td>\n",
       "      <td>0.253277</td>\n",
       "      <td>-0.159720</td>\n",
       "      <td>0.942643</td>\n",
       "      <td>-0.858817</td>\n",
       "    </tr>\n",
       "    <tr>\n",
       "      <th>436</th>\n",
       "      <td>0.002890</td>\n",
       "      <td>0.690591</td>\n",
       "      <td>-0.295220</td>\n",
       "      <td>0.237346</td>\n",
       "      <td>-0.214395</td>\n",
       "      <td>0.205444</td>\n",
       "      <td>0.0</td>\n",
       "      <td>2.110859</td>\n",
       "      <td>0.000000</td>\n",
       "      <td>0.262147</td>\n",
       "      <td>-0.132791</td>\n",
       "      <td>0.112985</td>\n",
       "      <td>-0.010055</td>\n",
       "      <td>2.777355</td>\n",
       "      <td>-0.553730</td>\n",
       "      <td>0.705886</td>\n",
       "      <td>-0.560466</td>\n",
       "      <td>0.235901</td>\n",
       "    </tr>\n",
       "    <tr>\n",
       "      <th>277</th>\n",
       "      <td>0.086075</td>\n",
       "      <td>-0.250780</td>\n",
       "      <td>0.147541</td>\n",
       "      <td>0.204377</td>\n",
       "      <td>-0.259073</td>\n",
       "      <td>0.084205</td>\n",
       "      <td>0.0</td>\n",
       "      <td>0.000000</td>\n",
       "      <td>0.000000</td>\n",
       "      <td>0.383576</td>\n",
       "      <td>-0.878240</td>\n",
       "      <td>0.140560</td>\n",
       "      <td>0.152546</td>\n",
       "      <td>0.540218</td>\n",
       "      <td>0.191161</td>\n",
       "      <td>0.477079</td>\n",
       "      <td>-0.545226</td>\n",
       "      <td>0.177177</td>\n",
       "    </tr>\n",
       "    <tr>\n",
       "      <th>318</th>\n",
       "      <td>-0.019215</td>\n",
       "      <td>0.122015</td>\n",
       "      <td>0.028617</td>\n",
       "      <td>-0.297381</td>\n",
       "      <td>0.071650</td>\n",
       "      <td>-0.003313</td>\n",
       "      <td>0.0</td>\n",
       "      <td>0.000000</td>\n",
       "      <td>0.000000</td>\n",
       "      <td>-0.413764</td>\n",
       "      <td>0.039212</td>\n",
       "      <td>-0.178817</td>\n",
       "      <td>-0.052277</td>\n",
       "      <td>0.485587</td>\n",
       "      <td>0.017495</td>\n",
       "      <td>-0.957212</td>\n",
       "      <td>0.271628</td>\n",
       "      <td>-0.081344</td>\n",
       "    </tr>\n",
       "    <tr>\n",
       "      <th>250</th>\n",
       "      <td>-0.007395</td>\n",
       "      <td>0.327684</td>\n",
       "      <td>-0.165099</td>\n",
       "      <td>0.255976</td>\n",
       "      <td>-0.091374</td>\n",
       "      <td>-0.290584</td>\n",
       "      <td>0.0</td>\n",
       "      <td>0.636181</td>\n",
       "      <td>-0.766650</td>\n",
       "      <td>1.437715</td>\n",
       "      <td>-2.519026</td>\n",
       "      <td>-0.127365</td>\n",
       "      <td>-0.033615</td>\n",
       "      <td>1.148993</td>\n",
       "      <td>-0.431310</td>\n",
       "      <td>0.852778</td>\n",
       "      <td>-0.422790</td>\n",
       "      <td>-0.576800</td>\n",
       "    </tr>\n",
       "    <tr>\n",
       "      <th>313</th>\n",
       "      <td>0.011777</td>\n",
       "      <td>0.165731</td>\n",
       "      <td>0.271566</td>\n",
       "      <td>-0.003811</td>\n",
       "      <td>0.121894</td>\n",
       "      <td>0.149468</td>\n",
       "      <td>0.0</td>\n",
       "      <td>0.000000</td>\n",
       "      <td>0.255525</td>\n",
       "      <td>0.001291</td>\n",
       "      <td>0.120035</td>\n",
       "      <td>0.031352</td>\n",
       "      <td>0.002017</td>\n",
       "      <td>0.397214</td>\n",
       "      <td>0.394283</td>\n",
       "      <td>-0.105456</td>\n",
       "      <td>0.005493</td>\n",
       "      <td>0.142708</td>\n",
       "    </tr>\n",
       "  </tbody>\n",
       "</table>\n",
       "</div>"
      ],
      "text/plain": [
       "           lr                                                     l1  \\\n",
       "            0         1         2         3         4         5    0   \n",
       "317 -0.024262  0.070896 -0.009851  0.464240  0.142857 -0.669523  0.0   \n",
       "1    0.014493 -0.201046  0.060892 -0.023509  0.107967 -0.247193  0.0   \n",
       "120  0.035327 -0.373054  0.201548 -0.151107 -0.008973  0.160261  0.0   \n",
       "445  0.260750 -3.782020  3.475456  0.143149 -0.286184  0.906774  0.0   \n",
       "68  -0.043405 -0.473232  0.159060 -0.238845  0.545092 -0.368635  0.0   \n",
       "436  0.002890  0.690591 -0.295220  0.237346 -0.214395  0.205444  0.0   \n",
       "277  0.086075 -0.250780  0.147541  0.204377 -0.259073  0.084205  0.0   \n",
       "318 -0.019215  0.122015  0.028617 -0.297381  0.071650 -0.003313  0.0   \n",
       "250 -0.007395  0.327684 -0.165099  0.255976 -0.091374 -0.290584  0.0   \n",
       "313  0.011777  0.165731  0.271566 -0.003811  0.121894  0.149468  0.0   \n",
       "\n",
       "                                                             l2            \\\n",
       "            1         2         3         4         5         0         1   \n",
       "317  0.213869  0.000000  0.347204  0.010211 -0.852134 -0.059729 -0.066706   \n",
       "1    0.000000  0.000000  0.000000  0.000000  0.000000  0.029334 -1.136432   \n",
       "120 -2.354935  1.392087  0.000000  0.451684  0.000000  0.075556 -3.884857   \n",
       "445 -5.265852  4.607979  0.000000 -0.400758  2.217671  0.544779 -5.557322   \n",
       "68  -1.493003  0.000000 -0.275813  0.431768 -0.622820 -0.137431 -2.104626   \n",
       "436  2.110859  0.000000  0.262147 -0.132791  0.112985 -0.010055  2.777355   \n",
       "277  0.000000  0.000000  0.383576 -0.878240  0.140560  0.152546  0.540218   \n",
       "318  0.000000  0.000000 -0.413764  0.039212 -0.178817 -0.052277  0.485587   \n",
       "250  0.636181 -0.766650  1.437715 -2.519026 -0.127365 -0.033615  1.148993   \n",
       "313  0.000000  0.255525  0.001291  0.120035  0.031352  0.002017  0.397214   \n",
       "\n",
       "                                             \n",
       "            2         3         4         5  \n",
       "317 -0.010788  1.113872  0.414228 -1.366292  \n",
       "1    0.106709 -0.153941  0.185907 -0.524828  \n",
       "120  0.520875 -0.271089  0.189019  0.345589  \n",
       "445  4.573626  0.167900 -0.436856  2.057845  \n",
       "68   0.253277 -0.159720  0.942643 -0.858817  \n",
       "436 -0.553730  0.705886 -0.560466  0.235901  \n",
       "277  0.191161  0.477079 -0.545226  0.177177  \n",
       "318  0.017495 -0.957212  0.271628 -0.081344  \n",
       "250 -0.431310  0.852778 -0.422790 -0.576800  \n",
       "313  0.394283 -0.105456  0.005493  0.142708  "
      ]
     },
     "execution_count": 25,
     "metadata": {},
     "output_type": "execute_result"
    }
   ],
   "source": [
    "### BEGIN SOLUTION\n",
    "# Combine all the coefficients into a dataframe\n",
    "coefficients = list()\n",
    "\n",
    "coeff_labels = ['lr', 'l1', 'l2']\n",
    "coeff_models = [lr, lr_l1, lr_l2]\n",
    "\n",
    "for lab,mod in zip(coeff_labels, coeff_models):\n",
    "    coeffs = mod.coef_\n",
    "    coeff_label = pd.MultiIndex(levels=[[lab], [0,1,2,3,4,5]], \n",
    "                                 codes=[[0,0,0,0,0,0], [0,1,2,3,4,5]])\n",
    "    coefficients.append(pd.DataFrame(coeffs.T, columns=coeff_label))\n",
    "\n",
    "coefficients = pd.concat(coefficients, axis=1)\n",
    "\n",
    "coefficients.sample(10)"
   ]
  },
  {
   "cell_type": "code",
   "execution_count": 26,
   "id": "61d9d2f3",
   "metadata": {
    "execution": {
     "iopub.execute_input": "2022-07-05T06:57:51.156291Z",
     "iopub.status.busy": "2022-07-05T06:57:51.155867Z",
     "iopub.status.idle": "2022-07-05T06:57:51.161688Z",
     "shell.execute_reply": "2022-07-05T06:57:51.160074Z"
    },
    "papermill": {
     "duration": 0.020116,
     "end_time": "2022-07-05T06:57:51.163259",
     "exception": false,
     "start_time": "2022-07-05T06:57:51.143143",
     "status": "completed"
    },
    "tags": []
   },
   "outputs": [
    {
     "data": {
      "text/plain": [
       "(6, 561)"
      ]
     },
     "execution_count": 26,
     "metadata": {},
     "output_type": "execute_result"
    }
   ],
   "source": [
    "lr.coef_.shape"
   ]
  },
  {
   "cell_type": "code",
   "execution_count": 27,
   "id": "bba02877",
   "metadata": {
    "execution": {
     "iopub.execute_input": "2022-07-05T06:57:51.187582Z",
     "iopub.status.busy": "2022-07-05T06:57:51.186800Z",
     "iopub.status.idle": "2022-07-05T06:57:51.211700Z",
     "shell.execute_reply": "2022-07-05T06:57:51.210779Z"
    },
    "papermill": {
     "duration": 0.038518,
     "end_time": "2022-07-05T06:57:51.213300",
     "exception": false,
     "start_time": "2022-07-05T06:57:51.174782",
     "status": "completed"
    },
    "tags": []
   },
   "outputs": [
    {
     "data": {
      "text/html": [
       "<div>\n",
       "<style scoped>\n",
       "    .dataframe tbody tr th:only-of-type {\n",
       "        vertical-align: middle;\n",
       "    }\n",
       "\n",
       "    .dataframe tbody tr th {\n",
       "        vertical-align: top;\n",
       "    }\n",
       "\n",
       "    .dataframe thead tr th {\n",
       "        text-align: left;\n",
       "    }\n",
       "</style>\n",
       "<table border=\"1\" class=\"dataframe\">\n",
       "  <thead>\n",
       "    <tr>\n",
       "      <th></th>\n",
       "      <th colspan=\"6\" halign=\"left\">lr</th>\n",
       "      <th colspan=\"6\" halign=\"left\">l1</th>\n",
       "      <th colspan=\"6\" halign=\"left\">l2</th>\n",
       "    </tr>\n",
       "    <tr>\n",
       "      <th></th>\n",
       "      <th>0</th>\n",
       "      <th>1</th>\n",
       "      <th>2</th>\n",
       "      <th>3</th>\n",
       "      <th>4</th>\n",
       "      <th>5</th>\n",
       "      <th>0</th>\n",
       "      <th>1</th>\n",
       "      <th>2</th>\n",
       "      <th>3</th>\n",
       "      <th>4</th>\n",
       "      <th>5</th>\n",
       "      <th>0</th>\n",
       "      <th>1</th>\n",
       "      <th>2</th>\n",
       "      <th>3</th>\n",
       "      <th>4</th>\n",
       "      <th>5</th>\n",
       "    </tr>\n",
       "  </thead>\n",
       "  <tbody>\n",
       "    <tr>\n",
       "      <th>0</th>\n",
       "      <td>-0.087506</td>\n",
       "      <td>-0.445226</td>\n",
       "      <td>0.257963</td>\n",
       "      <td>-0.169284</td>\n",
       "      <td>0.765611</td>\n",
       "      <td>-0.080084</td>\n",
       "      <td>-0.343350</td>\n",
       "      <td>0.000000</td>\n",
       "      <td>0.000000</td>\n",
       "      <td>-0.889914</td>\n",
       "      <td>4.591751</td>\n",
       "      <td>0.000000</td>\n",
       "      <td>-0.135283</td>\n",
       "      <td>-1.348236</td>\n",
       "      <td>0.484293</td>\n",
       "      <td>-0.478943</td>\n",
       "      <td>1.838860</td>\n",
       "      <td>0.029754</td>\n",
       "    </tr>\n",
       "    <tr>\n",
       "      <th>1</th>\n",
       "      <td>0.014493</td>\n",
       "      <td>-0.201046</td>\n",
       "      <td>0.060892</td>\n",
       "      <td>-0.023509</td>\n",
       "      <td>0.107967</td>\n",
       "      <td>-0.247193</td>\n",
       "      <td>0.000000</td>\n",
       "      <td>0.000000</td>\n",
       "      <td>0.000000</td>\n",
       "      <td>0.000000</td>\n",
       "      <td>0.000000</td>\n",
       "      <td>0.000000</td>\n",
       "      <td>0.029334</td>\n",
       "      <td>-1.136432</td>\n",
       "      <td>0.106709</td>\n",
       "      <td>-0.153941</td>\n",
       "      <td>0.185907</td>\n",
       "      <td>-0.524828</td>\n",
       "    </tr>\n",
       "    <tr>\n",
       "      <th>2</th>\n",
       "      <td>0.030187</td>\n",
       "      <td>0.063196</td>\n",
       "      <td>0.245909</td>\n",
       "      <td>0.022339</td>\n",
       "      <td>0.058980</td>\n",
       "      <td>-0.402526</td>\n",
       "      <td>0.000000</td>\n",
       "      <td>0.000000</td>\n",
       "      <td>0.000000</td>\n",
       "      <td>0.000000</td>\n",
       "      <td>-1.900802</td>\n",
       "      <td>0.000000</td>\n",
       "      <td>0.040581</td>\n",
       "      <td>-1.421621</td>\n",
       "      <td>0.462980</td>\n",
       "      <td>0.134551</td>\n",
       "      <td>0.007059</td>\n",
       "      <td>-0.954823</td>\n",
       "    </tr>\n",
       "    <tr>\n",
       "      <th>3</th>\n",
       "      <td>0.004590</td>\n",
       "      <td>-0.733963</td>\n",
       "      <td>-0.352732</td>\n",
       "      <td>-0.701328</td>\n",
       "      <td>0.266984</td>\n",
       "      <td>0.696120</td>\n",
       "      <td>-0.004313</td>\n",
       "      <td>-1.689973</td>\n",
       "      <td>-0.050868</td>\n",
       "      <td>-1.546752</td>\n",
       "      <td>0.000000</td>\n",
       "      <td>2.243915</td>\n",
       "      <td>0.019091</td>\n",
       "      <td>-2.562598</td>\n",
       "      <td>-0.434866</td>\n",
       "      <td>-1.788830</td>\n",
       "      <td>0.275198</td>\n",
       "      <td>1.760470</td>\n",
       "    </tr>\n",
       "    <tr>\n",
       "      <th>4</th>\n",
       "      <td>-0.045407</td>\n",
       "      <td>-0.034154</td>\n",
       "      <td>-0.451850</td>\n",
       "      <td>0.260243</td>\n",
       "      <td>-0.516844</td>\n",
       "      <td>0.106248</td>\n",
       "      <td>0.000000</td>\n",
       "      <td>0.000000</td>\n",
       "      <td>-1.352750</td>\n",
       "      <td>0.738072</td>\n",
       "      <td>-2.206641</td>\n",
       "      <td>0.000000</td>\n",
       "      <td>-0.035987</td>\n",
       "      <td>0.604554</td>\n",
       "      <td>-0.665849</td>\n",
       "      <td>0.902850</td>\n",
       "      <td>-0.976813</td>\n",
       "      <td>0.072597</td>\n",
       "    </tr>\n",
       "    <tr>\n",
       "      <th>...</th>\n",
       "      <td>...</td>\n",
       "      <td>...</td>\n",
       "      <td>...</td>\n",
       "      <td>...</td>\n",
       "      <td>...</td>\n",
       "      <td>...</td>\n",
       "      <td>...</td>\n",
       "      <td>...</td>\n",
       "      <td>...</td>\n",
       "      <td>...</td>\n",
       "      <td>...</td>\n",
       "      <td>...</td>\n",
       "      <td>...</td>\n",
       "      <td>...</td>\n",
       "      <td>...</td>\n",
       "      <td>...</td>\n",
       "      <td>...</td>\n",
       "      <td>...</td>\n",
       "    </tr>\n",
       "    <tr>\n",
       "      <th>556</th>\n",
       "      <td>-0.022132</td>\n",
       "      <td>-0.659468</td>\n",
       "      <td>0.550630</td>\n",
       "      <td>-0.234924</td>\n",
       "      <td>0.385179</td>\n",
       "      <td>-0.351492</td>\n",
       "      <td>0.000000</td>\n",
       "      <td>-0.762977</td>\n",
       "      <td>0.487111</td>\n",
       "      <td>-0.431608</td>\n",
       "      <td>0.628209</td>\n",
       "      <td>-0.723062</td>\n",
       "      <td>-0.142627</td>\n",
       "      <td>-0.820600</td>\n",
       "      <td>0.583775</td>\n",
       "      <td>-0.632115</td>\n",
       "      <td>0.632147</td>\n",
       "      <td>-0.624099</td>\n",
       "    </tr>\n",
       "    <tr>\n",
       "      <th>557</th>\n",
       "      <td>0.058454</td>\n",
       "      <td>-0.246969</td>\n",
       "      <td>0.268995</td>\n",
       "      <td>-0.162010</td>\n",
       "      <td>-0.157603</td>\n",
       "      <td>0.174153</td>\n",
       "      <td>0.000000</td>\n",
       "      <td>-0.666184</td>\n",
       "      <td>0.865360</td>\n",
       "      <td>-0.306889</td>\n",
       "      <td>0.019578</td>\n",
       "      <td>0.388485</td>\n",
       "      <td>0.119148</td>\n",
       "      <td>-0.676983</td>\n",
       "      <td>0.456782</td>\n",
       "      <td>-0.486398</td>\n",
       "      <td>-0.143796</td>\n",
       "      <td>0.353108</td>\n",
       "    </tr>\n",
       "    <tr>\n",
       "      <th>558</th>\n",
       "      <td>1.599105</td>\n",
       "      <td>-2.473094</td>\n",
       "      <td>-0.854612</td>\n",
       "      <td>-0.313142</td>\n",
       "      <td>-0.712694</td>\n",
       "      <td>0.416311</td>\n",
       "      <td>3.826121</td>\n",
       "      <td>-8.202785</td>\n",
       "      <td>0.000000</td>\n",
       "      <td>-0.674817</td>\n",
       "      <td>-0.514175</td>\n",
       "      <td>0.000000</td>\n",
       "      <td>2.949029</td>\n",
       "      <td>-9.604522</td>\n",
       "      <td>-0.924600</td>\n",
       "      <td>-0.832586</td>\n",
       "      <td>-1.465388</td>\n",
       "      <td>0.887849</td>\n",
       "    </tr>\n",
       "    <tr>\n",
       "      <th>559</th>\n",
       "      <td>-0.374313</td>\n",
       "      <td>-0.740397</td>\n",
       "      <td>1.771455</td>\n",
       "      <td>-0.242904</td>\n",
       "      <td>-0.275139</td>\n",
       "      <td>0.876728</td>\n",
       "      <td>-0.867718</td>\n",
       "      <td>0.000000</td>\n",
       "      <td>0.000000</td>\n",
       "      <td>-0.311933</td>\n",
       "      <td>0.160732</td>\n",
       "      <td>2.290775</td>\n",
       "      <td>-0.543058</td>\n",
       "      <td>2.940000</td>\n",
       "      <td>2.219459</td>\n",
       "      <td>-0.940630</td>\n",
       "      <td>-0.663063</td>\n",
       "      <td>2.024947</td>\n",
       "    </tr>\n",
       "    <tr>\n",
       "      <th>560</th>\n",
       "      <td>-0.188309</td>\n",
       "      <td>-0.298022</td>\n",
       "      <td>0.416920</td>\n",
       "      <td>0.065047</td>\n",
       "      <td>-0.042363</td>\n",
       "      <td>0.438815</td>\n",
       "      <td>0.000000</td>\n",
       "      <td>0.000000</td>\n",
       "      <td>0.000000</td>\n",
       "      <td>0.000000</td>\n",
       "      <td>0.000000</td>\n",
       "      <td>1.100010</td>\n",
       "      <td>-0.230753</td>\n",
       "      <td>0.889229</td>\n",
       "      <td>0.569025</td>\n",
       "      <td>0.129735</td>\n",
       "      <td>-0.086929</td>\n",
       "      <td>1.021988</td>\n",
       "    </tr>\n",
       "  </tbody>\n",
       "</table>\n",
       "<p>561 rows × 18 columns</p>\n",
       "</div>"
      ],
      "text/plain": [
       "           lr                                                          l1  \\\n",
       "            0         1         2         3         4         5         0   \n",
       "0   -0.087506 -0.445226  0.257963 -0.169284  0.765611 -0.080084 -0.343350   \n",
       "1    0.014493 -0.201046  0.060892 -0.023509  0.107967 -0.247193  0.000000   \n",
       "2    0.030187  0.063196  0.245909  0.022339  0.058980 -0.402526  0.000000   \n",
       "3    0.004590 -0.733963 -0.352732 -0.701328  0.266984  0.696120 -0.004313   \n",
       "4   -0.045407 -0.034154 -0.451850  0.260243 -0.516844  0.106248  0.000000   \n",
       "..        ...       ...       ...       ...       ...       ...       ...   \n",
       "556 -0.022132 -0.659468  0.550630 -0.234924  0.385179 -0.351492  0.000000   \n",
       "557  0.058454 -0.246969  0.268995 -0.162010 -0.157603  0.174153  0.000000   \n",
       "558  1.599105 -2.473094 -0.854612 -0.313142 -0.712694  0.416311  3.826121   \n",
       "559 -0.374313 -0.740397  1.771455 -0.242904 -0.275139  0.876728 -0.867718   \n",
       "560 -0.188309 -0.298022  0.416920  0.065047 -0.042363  0.438815  0.000000   \n",
       "\n",
       "                                                             l2            \\\n",
       "            1         2         3         4         5         0         1   \n",
       "0    0.000000  0.000000 -0.889914  4.591751  0.000000 -0.135283 -1.348236   \n",
       "1    0.000000  0.000000  0.000000  0.000000  0.000000  0.029334 -1.136432   \n",
       "2    0.000000  0.000000  0.000000 -1.900802  0.000000  0.040581 -1.421621   \n",
       "3   -1.689973 -0.050868 -1.546752  0.000000  2.243915  0.019091 -2.562598   \n",
       "4    0.000000 -1.352750  0.738072 -2.206641  0.000000 -0.035987  0.604554   \n",
       "..        ...       ...       ...       ...       ...       ...       ...   \n",
       "556 -0.762977  0.487111 -0.431608  0.628209 -0.723062 -0.142627 -0.820600   \n",
       "557 -0.666184  0.865360 -0.306889  0.019578  0.388485  0.119148 -0.676983   \n",
       "558 -8.202785  0.000000 -0.674817 -0.514175  0.000000  2.949029 -9.604522   \n",
       "559  0.000000  0.000000 -0.311933  0.160732  2.290775 -0.543058  2.940000   \n",
       "560  0.000000  0.000000  0.000000  0.000000  1.100010 -0.230753  0.889229   \n",
       "\n",
       "                                             \n",
       "            2         3         4         5  \n",
       "0    0.484293 -0.478943  1.838860  0.029754  \n",
       "1    0.106709 -0.153941  0.185907 -0.524828  \n",
       "2    0.462980  0.134551  0.007059 -0.954823  \n",
       "3   -0.434866 -1.788830  0.275198  1.760470  \n",
       "4   -0.665849  0.902850 -0.976813  0.072597  \n",
       "..        ...       ...       ...       ...  \n",
       "556  0.583775 -0.632115  0.632147 -0.624099  \n",
       "557  0.456782 -0.486398 -0.143796  0.353108  \n",
       "558 -0.924600 -0.832586 -1.465388  0.887849  \n",
       "559  2.219459 -0.940630 -0.663063  2.024947  \n",
       "560  0.569025  0.129735 -0.086929  1.021988  \n",
       "\n",
       "[561 rows x 18 columns]"
      ]
     },
     "execution_count": 27,
     "metadata": {},
     "output_type": "execute_result"
    }
   ],
   "source": [
    "coefficients"
   ]
  },
  {
   "cell_type": "markdown",
   "id": "a44c00a6",
   "metadata": {
    "papermill": {
     "duration": 0.011404,
     "end_time": "2022-07-05T06:57:51.236749",
     "exception": false,
     "start_time": "2022-07-05T06:57:51.225345",
     "status": "completed"
    },
    "tags": []
   },
   "source": [
    "Prepare six separate plots for each of the multi-class coefficients.\n"
   ]
  },
  {
   "cell_type": "code",
   "execution_count": 28,
   "id": "8be12f00",
   "metadata": {
    "collapsed": false,
    "execution": {
     "iopub.execute_input": "2022-07-05T06:57:51.261367Z",
     "iopub.status.busy": "2022-07-05T06:57:51.261069Z",
     "iopub.status.idle": "2022-07-05T06:57:51.945251Z",
     "shell.execute_reply": "2022-07-05T06:57:51.944614Z"
    },
    "jupyter": {
     "outputs_hidden": false
    },
    "papermill": {
     "duration": 0.698516,
     "end_time": "2022-07-05T06:57:51.946980",
     "exception": false,
     "start_time": "2022-07-05T06:57:51.248464",
     "status": "completed"
    },
    "tags": []
   },
   "outputs": [
    {
     "data": {
      "image/png": "[encoded data removed]",
      "text/plain": [
       "<Figure size 720x720 with 6 Axes>"
      ]
     },
     "metadata": {},
     "output_type": "display_data"
    }
   ],
   "source": [
    "fig, axList = plt.subplots(nrows=3, ncols=2)\n",
    "axList = axList.flatten()\n",
    "fig.set_size_inches(10,10)\n",
    "\n",
    "for ax in enumerate(axList):\n",
    "    loc = ax[0]\n",
    "    ax = ax[1]\n",
    "    \n",
    "    data = coefficients.xs(loc, level=1, axis=1)\n",
    "    data.plot(marker='o', ls='', ms=2.0, ax=ax, legend=False)\n",
    "    \n",
    "    if ax is axList[0]:\n",
    "        ax.legend(loc=4)\n",
    "        \n",
    "    ax.set(title='Coefficient Set '+str(loc))\n",
    "\n",
    "plt.tight_layout()\n",
    "### END SOLUTION"
   ]
  },
  {
   "cell_type": "markdown",
   "id": "3f3332d1",
   "metadata": {
    "papermill": {
     "duration": 0.013076,
     "end_time": "2022-07-05T06:57:51.973251",
     "exception": false,
     "start_time": "2022-07-05T06:57:51.960175",
     "status": "completed"
    },
    "tags": []
   },
   "source": [
    "## Question 6\n",
    "\n",
    "*   Predict and store the class for each model.\n",
    "*   Store the probability for the predicted class for each model.\n"
   ]
  },
  {
   "cell_type": "code",
   "execution_count": 29,
   "id": "a023c157",
   "metadata": {
    "collapsed": false,
    "execution": {
     "iopub.execute_input": "2022-07-05T06:57:52.001984Z",
     "iopub.status.busy": "2022-07-05T06:57:52.001013Z",
     "iopub.status.idle": "2022-07-05T06:57:52.094965Z",
     "shell.execute_reply": "2022-07-05T06:57:52.094172Z"
    },
    "jupyter": {
     "outputs_hidden": false
    },
    "papermill": {
     "duration": 0.110099,
     "end_time": "2022-07-05T06:57:52.096638",
     "exception": false,
     "start_time": "2022-07-05T06:57:51.986539",
     "status": "completed"
    },
    "tags": []
   },
   "outputs": [
    {
     "data": {
      "text/html": [
       "<div>\n",
       "<style scoped>\n",
       "    .dataframe tbody tr th:only-of-type {\n",
       "        vertical-align: middle;\n",
       "    }\n",
       "\n",
       "    .dataframe tbody tr th {\n",
       "        vertical-align: top;\n",
       "    }\n",
       "\n",
       "    .dataframe thead th {\n",
       "        text-align: right;\n",
       "    }\n",
       "</style>\n",
       "<table border=\"1\" class=\"dataframe\">\n",
       "  <thead>\n",
       "    <tr style=\"text-align: right;\">\n",
       "      <th></th>\n",
       "      <th>lr</th>\n",
       "      <th>l1</th>\n",
       "      <th>l2</th>\n",
       "    </tr>\n",
       "  </thead>\n",
       "  <tbody>\n",
       "    <tr>\n",
       "      <th>0</th>\n",
       "      <td>3</td>\n",
       "      <td>3</td>\n",
       "      <td>3</td>\n",
       "    </tr>\n",
       "    <tr>\n",
       "      <th>1</th>\n",
       "      <td>5</td>\n",
       "      <td>5</td>\n",
       "      <td>5</td>\n",
       "    </tr>\n",
       "    <tr>\n",
       "      <th>2</th>\n",
       "      <td>3</td>\n",
       "      <td>3</td>\n",
       "      <td>3</td>\n",
       "    </tr>\n",
       "    <tr>\n",
       "      <th>3</th>\n",
       "      <td>1</td>\n",
       "      <td>1</td>\n",
       "      <td>1</td>\n",
       "    </tr>\n",
       "    <tr>\n",
       "      <th>4</th>\n",
       "      <td>0</td>\n",
       "      <td>0</td>\n",
       "      <td>0</td>\n",
       "    </tr>\n",
       "  </tbody>\n",
       "</table>\n",
       "</div>"
      ],
      "text/plain": [
       "   lr  l1  l2\n",
       "0   3   3   3\n",
       "1   5   5   5\n",
       "2   3   3   3\n",
       "3   1   1   1\n",
       "4   0   0   0"
      ]
     },
     "execution_count": 29,
     "metadata": {},
     "output_type": "execute_result"
    }
   ],
   "source": [
    "### BEGIN SOLUTION\n",
    "# Predict the class and the probability for each\n",
    "y_pred = list()\n",
    "y_prob = list()\n",
    "\n",
    "coeff_labels = ['lr', 'l1', 'l2']\n",
    "coeff_models = [lr, lr_l1, lr_l2]\n",
    "\n",
    "for lab,mod in zip(coeff_labels, coeff_models):\n",
    "    y_pred.append(pd.Series(mod.predict(X_test), name=lab))\n",
    "    y_prob.append(pd.Series(mod.predict_proba(X_test).max(axis=1), name=lab))\n",
    "    \n",
    "y_pred = pd.concat(y_pred, axis=1)\n",
    "y_prob = pd.concat(y_prob, axis=1)\n",
    "\n",
    "y_pred.head()"
   ]
  },
  {
   "cell_type": "code",
   "execution_count": 30,
   "id": "3e6bb768",
   "metadata": {
    "collapsed": false,
    "execution": {
     "iopub.execute_input": "2022-07-05T06:57:52.135566Z",
     "iopub.status.busy": "2022-07-05T06:57:52.135132Z",
     "iopub.status.idle": "2022-07-05T06:57:52.149644Z",
     "shell.execute_reply": "2022-07-05T06:57:52.149029Z"
    },
    "jupyter": {
     "outputs_hidden": false
    },
    "papermill": {
     "duration": 0.036624,
     "end_time": "2022-07-05T06:57:52.151759",
     "exception": false,
     "start_time": "2022-07-05T06:57:52.115135",
     "status": "completed"
    },
    "tags": []
   },
   "outputs": [
    {
     "data": {
      "text/html": [
       "<div>\n",
       "<style scoped>\n",
       "    .dataframe tbody tr th:only-of-type {\n",
       "        vertical-align: middle;\n",
       "    }\n",
       "\n",
       "    .dataframe tbody tr th {\n",
       "        vertical-align: top;\n",
       "    }\n",
       "\n",
       "    .dataframe thead th {\n",
       "        text-align: right;\n",
       "    }\n",
       "</style>\n",
       "<table border=\"1\" class=\"dataframe\">\n",
       "  <thead>\n",
       "    <tr style=\"text-align: right;\">\n",
       "      <th></th>\n",
       "      <th>lr</th>\n",
       "      <th>l1</th>\n",
       "      <th>l2</th>\n",
       "    </tr>\n",
       "  </thead>\n",
       "  <tbody>\n",
       "    <tr>\n",
       "      <th>0</th>\n",
       "      <td>0.998939</td>\n",
       "      <td>0.998878</td>\n",
       "      <td>0.999757</td>\n",
       "    </tr>\n",
       "    <tr>\n",
       "      <th>1</th>\n",
       "      <td>0.988165</td>\n",
       "      <td>0.999719</td>\n",
       "      <td>0.999489</td>\n",
       "    </tr>\n",
       "    <tr>\n",
       "      <th>2</th>\n",
       "      <td>0.987592</td>\n",
       "      <td>0.996294</td>\n",
       "      <td>0.999657</td>\n",
       "    </tr>\n",
       "    <tr>\n",
       "      <th>3</th>\n",
       "      <td>0.981381</td>\n",
       "      <td>0.999192</td>\n",
       "      <td>0.994339</td>\n",
       "    </tr>\n",
       "    <tr>\n",
       "      <th>4</th>\n",
       "      <td>0.998277</td>\n",
       "      <td>0.999925</td>\n",
       "      <td>0.999997</td>\n",
       "    </tr>\n",
       "  </tbody>\n",
       "</table>\n",
       "</div>"
      ],
      "text/plain": [
       "         lr        l1        l2\n",
       "0  0.998939  0.998878  0.999757\n",
       "1  0.988165  0.999719  0.999489\n",
       "2  0.987592  0.996294  0.999657\n",
       "3  0.981381  0.999192  0.994339\n",
       "4  0.998277  0.999925  0.999997"
      ]
     },
     "execution_count": 30,
     "metadata": {},
     "output_type": "execute_result"
    }
   ],
   "source": [
    "y_prob.head()\n",
    "### END SOLUTION"
   ]
  },
  {
   "cell_type": "markdown",
   "id": "de2425a3",
   "metadata": {
    "papermill": {
     "duration": 0.024795,
     "end_time": "2022-07-05T06:57:52.202508",
     "exception": false,
     "start_time": "2022-07-05T06:57:52.177713",
     "status": "completed"
    },
    "tags": []
   },
   "source": [
    "## Question 7\n",
    "\n",
    "For each model, calculate the following error metrics:\n",
    "\n",
    "*   Accuracy\n",
    "*   Precision\n",
    "*   Recall\n",
    "*   F-score\n",
    "*   Confusion Matrix\n",
    "\n",
    "Decide how to combine the multi-class metrics into a single value for each model.\n"
   ]
  },
  {
   "cell_type": "code",
   "execution_count": 31,
   "id": "867fff90",
   "metadata": {
    "collapsed": false,
    "execution": {
     "iopub.execute_input": "2022-07-05T06:57:52.245209Z",
     "iopub.status.busy": "2022-07-05T06:57:52.244924Z",
     "iopub.status.idle": "2022-07-05T06:57:52.276959Z",
     "shell.execute_reply": "2022-07-05T06:57:52.275964Z"
    },
    "jupyter": {
     "outputs_hidden": false
    },
    "papermill": {
     "duration": 0.055621,
     "end_time": "2022-07-05T06:57:52.278821",
     "exception": false,
     "start_time": "2022-07-05T06:57:52.223200",
     "status": "completed"
    },
    "tags": []
   },
   "outputs": [],
   "source": [
    "### BEGIN SOLUTION\n",
    "from sklearn.metrics import precision_recall_fscore_support as score\n",
    "from sklearn.metrics import confusion_matrix, accuracy_score, roc_auc_score\n",
    "from sklearn.preprocessing import label_binarize\n",
    "\n",
    "metrics = list()\n",
    "cm = dict()\n",
    "\n",
    "for lab in coeff_labels:\n",
    "\n",
    "    # Preciision, recall, f-score from the multi-class support function\n",
    "    precision, recall, fscore, _ = score(y_test, y_pred[lab], average='weighted')\n",
    "    \n",
    "    # The usual way to calculate accuracy\n",
    "    accuracy = accuracy_score(y_test, y_pred[lab])\n",
    "    \n",
    "    # ROC-AUC scores can be calculated by binarizing the data\n",
    "    auc = roc_auc_score(label_binarize(y_test, classes=[0,1,2,3,4,5]),\n",
    "              label_binarize(y_pred[lab], classes=[0,1,2,3,4,5]), \n",
    "              average='weighted')\n",
    "    \n",
    "    # Last, the confusion matrix\n",
    "    cm[lab] = confusion_matrix(y_test, y_pred[lab])\n",
    "    \n",
    "    metrics.append(pd.Series({'precision':precision, 'recall':recall, \n",
    "                              'fscore':fscore, 'accuracy':accuracy,\n",
    "                              'auc':auc}, \n",
    "                             name=lab))\n",
    "\n",
    "metrics = pd.concat(metrics, axis=1)"
   ]
  },
  {
   "cell_type": "code",
   "execution_count": 32,
   "id": "de2cca48",
   "metadata": {
    "collapsed": false,
    "execution": {
     "iopub.execute_input": "2022-07-05T06:57:52.307042Z",
     "iopub.status.busy": "2022-07-05T06:57:52.306677Z",
     "iopub.status.idle": "2022-07-05T06:57:52.316385Z",
     "shell.execute_reply": "2022-07-05T06:57:52.315754Z"
    },
    "jupyter": {
     "outputs_hidden": false
    },
    "papermill": {
     "duration": 0.025539,
     "end_time": "2022-07-05T06:57:52.317748",
     "exception": false,
     "start_time": "2022-07-05T06:57:52.292209",
     "status": "completed"
    },
    "tags": []
   },
   "outputs": [
    {
     "data": {
      "text/html": [
       "<div>\n",
       "<style scoped>\n",
       "    .dataframe tbody tr th:only-of-type {\n",
       "        vertical-align: middle;\n",
       "    }\n",
       "\n",
       "    .dataframe tbody tr th {\n",
       "        vertical-align: top;\n",
       "    }\n",
       "\n",
       "    .dataframe thead th {\n",
       "        text-align: right;\n",
       "    }\n",
       "</style>\n",
       "<table border=\"1\" class=\"dataframe\">\n",
       "  <thead>\n",
       "    <tr style=\"text-align: right;\">\n",
       "      <th></th>\n",
       "      <th>lr</th>\n",
       "      <th>l1</th>\n",
       "      <th>l2</th>\n",
       "    </tr>\n",
       "  </thead>\n",
       "  <tbody>\n",
       "    <tr>\n",
       "      <th>precision</th>\n",
       "      <td>0.984144</td>\n",
       "      <td>0.983835</td>\n",
       "      <td>0.983824</td>\n",
       "    </tr>\n",
       "    <tr>\n",
       "      <th>recall</th>\n",
       "      <td>0.984142</td>\n",
       "      <td>0.983819</td>\n",
       "      <td>0.983819</td>\n",
       "    </tr>\n",
       "    <tr>\n",
       "      <th>fscore</th>\n",
       "      <td>0.984143</td>\n",
       "      <td>0.983815</td>\n",
       "      <td>0.983819</td>\n",
       "    </tr>\n",
       "    <tr>\n",
       "      <th>accuracy</th>\n",
       "      <td>0.984142</td>\n",
       "      <td>0.983819</td>\n",
       "      <td>0.983819</td>\n",
       "    </tr>\n",
       "    <tr>\n",
       "      <th>auc</th>\n",
       "      <td>0.990384</td>\n",
       "      <td>0.990144</td>\n",
       "      <td>0.990165</td>\n",
       "    </tr>\n",
       "  </tbody>\n",
       "</table>\n",
       "</div>"
      ],
      "text/plain": [
       "                 lr        l1        l2\n",
       "precision  0.984144  0.983835  0.983824\n",
       "recall     0.984142  0.983819  0.983819\n",
       "fscore     0.984143  0.983815  0.983819\n",
       "accuracy   0.984142  0.983819  0.983819\n",
       "auc        0.990384  0.990144  0.990165"
      ]
     },
     "execution_count": 32,
     "metadata": {},
     "output_type": "execute_result"
    }
   ],
   "source": [
    "metrics\n",
    "### END SOLUTION"
   ]
  },
  {
   "cell_type": "markdown",
   "id": "01ec0fe0",
   "metadata": {
    "papermill": {
     "duration": 0.012925,
     "end_time": "2022-07-05T06:57:52.344050",
     "exception": false,
     "start_time": "2022-07-05T06:57:52.331125",
     "status": "completed"
    },
    "tags": []
   },
   "source": [
    "## Question 8\n",
    "\n",
    "*   Display or plot the confusion matrix for each model.\n"
   ]
  },
  {
   "cell_type": "code",
   "execution_count": 33,
   "id": "6026f8a0",
   "metadata": {
    "collapsed": false,
    "execution": {
     "iopub.execute_input": "2022-07-05T06:57:52.371954Z",
     "iopub.status.busy": "2022-07-05T06:57:52.371506Z",
     "iopub.status.idle": "2022-07-05T06:57:53.424028Z",
     "shell.execute_reply": "2022-07-05T06:57:53.423401Z"
    },
    "jupyter": {
     "outputs_hidden": false
    },
    "papermill": {
     "duration": 1.06815,
     "end_time": "2022-07-05T06:57:53.425430",
     "exception": false,
     "start_time": "2022-07-05T06:57:52.357280",
     "status": "completed"
    },
    "tags": []
   },
   "outputs": [
    {
     "data": {
      "image/png": "[encoded data removed]",
      "text/plain": [
       "<Figure size 864x720 with 7 Axes>"
      ]
     },
     "metadata": {},
     "output_type": "display_data"
    }
   ],
   "source": [
    "### BEGIN SOLUTION\n",
    "fig, axList = plt.subplots(nrows=2, ncols=2)\n",
    "axList = axList.flatten()\n",
    "fig.set_size_inches(12, 10)\n",
    "\n",
    "axList[-1].axis('off')\n",
    "\n",
    "for ax,lab in zip(axList[:-1], coeff_labels):\n",
    "    sns.heatmap(cm[lab], ax=ax, annot=True, fmt='d');\n",
    "    ax.set(title=lab);\n",
    "    \n",
    "plt.tight_layout()\n",
    "### END SOLUTION"
   ]
  },
  {
   "cell_type": "markdown",
   "id": "3c0e4bd9",
   "metadata": {
    "papermill": {
     "duration": 0.014034,
     "end_time": "2022-07-05T06:57:53.453932",
     "exception": false,
     "start_time": "2022-07-05T06:57:53.439898",
     "status": "completed"
    },
    "tags": []
   },
   "source": [
    "***\n",
    "\n",
    "### Machine Learning Foundation (C) 2020 IBM Corporation\n"
   ]
  }
 ],
 "metadata": {
  "kernelspec": {
   "display_name": "Python 3",
   "language": "python",
   "name": "python3"
  },
  "language_info": {
   "codemirror_mode": {
    "name": "ipython",
    "version": 3
   },
   "file_extension": ".py",
   "mimetype": "text/x-python",
   "name": "python",
   "nbconvert_exporter": "python",
   "pygments_lexer": "ipython3",
   "version": "3.7.12"
  },
  "papermill": {
   "default_parameters": {},
   "duration": 1293.483277,
   "end_time": "2022-07-05T06:57:54.392868",
   "environment_variables": {},
   "exception": null,
   "input_path": "__notebook__.ipynb",
   "output_path": "__notebook__.ipynb",
   "parameters": {},
   "start_time": "2022-07-05T06:36:20.909591",
   "version": "2.3.4"
  }
 },
 "nbformat": 4,
 "nbformat_minor": 5
}
