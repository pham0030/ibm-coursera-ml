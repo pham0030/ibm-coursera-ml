{
 "cells": [
  {
   "cell_type": "markdown",
   "id": "af823142",
   "metadata": {
    "papermill": {
     "duration": 0.016834,
     "end_time": "2022-07-05T06:48:26.499496",
     "exception": false,
     "start_time": "2022-07-05T06:48:26.482662",
     "status": "completed"
    },
    "tags": []
   },
   "source": [
    "<p style=\"text-align:center\">\n",
    "    <a href=\"https://skills.network/?utm_medium=Exinfluencer&utm_source=Exinfluencer&utm_content=000026UJ&utm_term=10006555&utm_id=NA-SkillsNetwork-Channel-SkillsNetworkCoursesIBMML241ENSkillsNetwork31576874-2022-01-01\" target=\"_blank\">\n",
    "    <img src=\"https://cf-courses-data.s3.us.cloud-object-storage.appdomain.cloud/assets/logos/SN_web_lightmode.png\" width=\"200\" alt=\"Skills Network Logo\"  />\n",
    "    </a>\n",
    "</p>\n"
   ]
  },
  {
   "cell_type": "markdown",
   "id": "f1c63555",
   "metadata": {
    "papermill": {
     "duration": 0.014954,
     "end_time": "2022-07-05T06:48:26.529857",
     "exception": false,
     "start_time": "2022-07-05T06:48:26.514903",
     "status": "completed"
    },
    "tags": []
   },
   "source": [
    "# **K Nearest Neighbor**\n"
   ]
  },
  {
   "cell_type": "markdown",
   "id": "510de6b6",
   "metadata": {
    "papermill": {
     "duration": 0.014375,
     "end_time": "2022-07-05T06:48:26.559065",
     "exception": false,
     "start_time": "2022-07-05T06:48:26.544690",
     "status": "completed"
    },
    "tags": []
   },
   "source": [
    "Estimated time needed: **30** minutes\n"
   ]
  },
  {
   "cell_type": "markdown",
   "id": "2af7f666",
   "metadata": {
    "papermill": {
     "duration": 0.018331,
     "end_time": "2022-07-05T06:48:26.592879",
     "exception": false,
     "start_time": "2022-07-05T06:48:26.574548",
     "status": "completed"
    },
    "tags": []
   },
   "source": [
    "In this lab, you will learn about and practice the K Nearest Neighbor (KNN) model. KNN is a straightforward but very effective model that can be used for both classification and regression tasks. If the feature space is not very large, KNN can be a high-interpretable model because you can explain and understand how a prediction is made by looking at its nearest neighbors.\n"
   ]
  },
  {
   "cell_type": "markdown",
   "id": "1489614f",
   "metadata": {
    "papermill": {
     "duration": 0.014552,
     "end_time": "2022-07-05T06:48:26.622920",
     "exception": false,
     "start_time": "2022-07-05T06:48:26.608368",
     "status": "completed"
    },
    "tags": []
   },
   "source": [
    "We will be using a tumor sample dataset containing lab test results about tumor samples. The objective is to classify whether a tumor is malicious (cancer) or benign. As such, it is a typical binary classification task.\n"
   ]
  },
  {
   "cell_type": "markdown",
   "id": "757b87e1",
   "metadata": {
    "papermill": {
     "duration": 0.0144,
     "end_time": "2022-07-05T06:48:26.652036",
     "exception": false,
     "start_time": "2022-07-05T06:48:26.637636",
     "status": "completed"
    },
    "tags": []
   },
   "source": [
    "## Objectives\n"
   ]
  },
  {
   "cell_type": "markdown",
   "id": "6ded6066",
   "metadata": {
    "papermill": {
     "duration": 0.014401,
     "end_time": "2022-07-05T06:48:26.681018",
     "exception": false,
     "start_time": "2022-07-05T06:48:26.666617",
     "status": "completed"
    },
    "tags": []
   },
   "source": [
    "After completing this lab, you will be able to:\n"
   ]
  },
  {
   "cell_type": "markdown",
   "id": "68ef4f15",
   "metadata": {
    "papermill": {
     "duration": 0.014949,
     "end_time": "2022-07-05T06:48:26.710592",
     "exception": false,
     "start_time": "2022-07-05T06:48:26.695643",
     "status": "completed"
    },
    "tags": []
   },
   "source": [
    "*   Train KNN models with different neighbor hyper-parameters\n",
    "*   Evaluate KNN models on classification tasks\n",
    "*   Tune the number of neighbors and find the optimized one for a specific task\n"
   ]
  },
  {
   "cell_type": "markdown",
   "id": "e6bc489c",
   "metadata": {
    "papermill": {
     "duration": 0.014208,
     "end_time": "2022-07-05T06:48:26.739661",
     "exception": false,
     "start_time": "2022-07-05T06:48:26.725453",
     "status": "completed"
    },
    "tags": []
   },
   "source": [
    "***\n"
   ]
  },
  {
   "cell_type": "markdown",
   "id": "ffa64094",
   "metadata": {
    "papermill": {
     "duration": 0.014863,
     "end_time": "2022-07-05T06:48:26.769312",
     "exception": false,
     "start_time": "2022-07-05T06:48:26.754449",
     "status": "completed"
    },
    "tags": []
   },
   "source": [
    "First, let's install `seaborn` for visualization tasks and import required libraries for this lab.\n"
   ]
  },
  {
   "cell_type": "code",
   "execution_count": 1,
   "id": "e2bf7545",
   "metadata": {
    "execution": {
     "iopub.execute_input": "2022-07-05T06:48:26.801303Z",
     "iopub.status.busy": "2022-07-05T06:48:26.800793Z",
     "iopub.status.idle": "2022-07-05T06:48:26.806099Z",
     "shell.execute_reply": "2022-07-05T06:48:26.805325Z"
    },
    "papermill": {
     "duration": 0.02414,
     "end_time": "2022-07-05T06:48:26.808171",
     "exception": false,
     "start_time": "2022-07-05T06:48:26.784031",
     "status": "completed"
    },
    "tags": []
   },
   "outputs": [],
   "source": [
    "# All Libraries required for this lab are listed below. The libraries pre-installed on Skills Network Labs are commented.\n",
    "# !mamba install -qy pandas==1.3.3 numpy==1.21.2 ipywidgets==7.4.2 scipy==7.4.2 tqdm==4.62.3 matplotlib==3.5.0 seaborn==0.9.0\n",
    "# Note: If your environment doesn't support \"!mamba install\", use \"!pip install\"."
   ]
  },
  {
   "cell_type": "code",
   "execution_count": 2,
   "id": "06051374",
   "metadata": {
    "execution": {
     "iopub.execute_input": "2022-07-05T06:48:26.840907Z",
     "iopub.status.busy": "2022-07-05T06:48:26.840115Z",
     "iopub.status.idle": "2022-07-05T06:48:28.500332Z",
     "shell.execute_reply": "2022-07-05T06:48:28.499218Z"
    },
    "papermill": {
     "duration": 1.679216,
     "end_time": "2022-07-05T06:48:28.502975",
     "exception": false,
     "start_time": "2022-07-05T06:48:26.823759",
     "status": "completed"
    },
    "tags": []
   },
   "outputs": [],
   "source": [
    "import pandas as pd\n",
    "import numpy as np\n",
    "from sklearn.neighbors import KNeighborsClassifier\n",
    "from sklearn.model_selection import train_test_split\n",
    "from sklearn import metrics\n",
    "# Evaluation metrics related methods\n",
    "from sklearn.metrics import classification_report, accuracy_score, f1_score, confusion_matrix, precision_recall_fscore_support, precision_score, recall_score\n",
    "import matplotlib.pyplot as plt\n",
    "import seaborn as sns\n",
    "%matplotlib inline"
   ]
  },
  {
   "cell_type": "code",
   "execution_count": 3,
   "id": "2bf9c8df",
   "metadata": {
    "execution": {
     "iopub.execute_input": "2022-07-05T06:48:28.534499Z",
     "iopub.status.busy": "2022-07-05T06:48:28.534007Z",
     "iopub.status.idle": "2022-07-05T06:48:28.538721Z",
     "shell.execute_reply": "2022-07-05T06:48:28.537671Z"
    },
    "papermill": {
     "duration": 0.023525,
     "end_time": "2022-07-05T06:48:28.541088",
     "exception": false,
     "start_time": "2022-07-05T06:48:28.517563",
     "status": "completed"
    },
    "tags": []
   },
   "outputs": [],
   "source": [
    "# Define a random seed to reproduce any random process\n",
    "rs = 123"
   ]
  },
  {
   "cell_type": "code",
   "execution_count": 4,
   "id": "d2f6062b",
   "metadata": {
    "execution": {
     "iopub.execute_input": "2022-07-05T06:48:28.572720Z",
     "iopub.status.busy": "2022-07-05T06:48:28.572025Z",
     "iopub.status.idle": "2022-07-05T06:48:28.576698Z",
     "shell.execute_reply": "2022-07-05T06:48:28.575910Z"
    },
    "papermill": {
     "duration": 0.023189,
     "end_time": "2022-07-05T06:48:28.578817",
     "exception": false,
     "start_time": "2022-07-05T06:48:28.555628",
     "status": "completed"
    },
    "tags": []
   },
   "outputs": [],
   "source": [
    "# Ignore any deprecation warnings\n",
    "import warnings\n",
    "warnings.filterwarnings(\"ignore\", category=DeprecationWarning) "
   ]
  },
  {
   "cell_type": "markdown",
   "id": "1c4808a1",
   "metadata": {
    "papermill": {
     "duration": 0.014202,
     "end_time": "2022-07-05T06:48:28.607546",
     "exception": false,
     "start_time": "2022-07-05T06:48:28.593344",
     "status": "completed"
    },
    "tags": []
   },
   "source": [
    "## Load and explore the tumor sample dataset\n"
   ]
  },
  {
   "cell_type": "markdown",
   "id": "cd7def9b",
   "metadata": {
    "papermill": {
     "duration": 0.01419,
     "end_time": "2022-07-05T06:48:28.636745",
     "exception": false,
     "start_time": "2022-07-05T06:48:28.622555",
     "status": "completed"
    },
    "tags": []
   },
   "source": [
    "We first load the dataset `tumor.csv` as a Pandas dataframe:\n"
   ]
  },
  {
   "cell_type": "code",
   "execution_count": 5,
   "id": "e7f25bbb",
   "metadata": {
    "execution": {
     "iopub.execute_input": "2022-07-05T06:48:28.667837Z",
     "iopub.status.busy": "2022-07-05T06:48:28.667336Z",
     "iopub.status.idle": "2022-07-05T06:48:29.334420Z",
     "shell.execute_reply": "2022-07-05T06:48:29.333605Z"
    },
    "papermill": {
     "duration": 0.685398,
     "end_time": "2022-07-05T06:48:29.336706",
     "exception": false,
     "start_time": "2022-07-05T06:48:28.651308",
     "status": "completed"
    },
    "tags": []
   },
   "outputs": [],
   "source": [
    "# Read datast in csv format\n",
    "dataset_url = \"https://cf-courses-data.s3.us.cloud-object-storage.appdomain.cloud/IBM-ML241EN-SkillsNetwork/labs/datasets/tumor.csv\"\n",
    "tumor_df = pd.read_csv(dataset_url)"
   ]
  },
  {
   "cell_type": "markdown",
   "id": "17c0f824",
   "metadata": {
    "papermill": {
     "duration": 0.014198,
     "end_time": "2022-07-05T06:48:29.365459",
     "exception": false,
     "start_time": "2022-07-05T06:48:29.351261",
     "status": "completed"
    },
    "tags": []
   },
   "source": [
    "Then, let's quickly take a look at the head of the dataframe.\n"
   ]
  },
  {
   "cell_type": "code",
   "execution_count": 6,
   "id": "ae20aa33",
   "metadata": {
    "execution": {
     "iopub.execute_input": "2022-07-05T06:48:29.396864Z",
     "iopub.status.busy": "2022-07-05T06:48:29.396107Z",
     "iopub.status.idle": "2022-07-05T06:48:29.418638Z",
     "shell.execute_reply": "2022-07-05T06:48:29.417904Z"
    },
    "papermill": {
     "duration": 0.041114,
     "end_time": "2022-07-05T06:48:29.421060",
     "exception": false,
     "start_time": "2022-07-05T06:48:29.379946",
     "status": "completed"
    },
    "tags": []
   },
   "outputs": [
    {
     "data": {
      "text/html": [
       "<div>\n",
       "<style scoped>\n",
       "    .dataframe tbody tr th:only-of-type {\n",
       "        vertical-align: middle;\n",
       "    }\n",
       "\n",
       "    .dataframe tbody tr th {\n",
       "        vertical-align: top;\n",
       "    }\n",
       "\n",
       "    .dataframe thead th {\n",
       "        text-align: right;\n",
       "    }\n",
       "</style>\n",
       "<table border=\"1\" class=\"dataframe\">\n",
       "  <thead>\n",
       "    <tr style=\"text-align: right;\">\n",
       "      <th></th>\n",
       "      <th>Clump</th>\n",
       "      <th>UnifSize</th>\n",
       "      <th>UnifShape</th>\n",
       "      <th>MargAdh</th>\n",
       "      <th>SingEpiSize</th>\n",
       "      <th>BareNuc</th>\n",
       "      <th>BlandChrom</th>\n",
       "      <th>NormNucl</th>\n",
       "      <th>Mit</th>\n",
       "      <th>Class</th>\n",
       "    </tr>\n",
       "  </thead>\n",
       "  <tbody>\n",
       "    <tr>\n",
       "      <th>0</th>\n",
       "      <td>5</td>\n",
       "      <td>1</td>\n",
       "      <td>1</td>\n",
       "      <td>1</td>\n",
       "      <td>2</td>\n",
       "      <td>1</td>\n",
       "      <td>3</td>\n",
       "      <td>1</td>\n",
       "      <td>1</td>\n",
       "      <td>0</td>\n",
       "    </tr>\n",
       "    <tr>\n",
       "      <th>1</th>\n",
       "      <td>5</td>\n",
       "      <td>4</td>\n",
       "      <td>4</td>\n",
       "      <td>5</td>\n",
       "      <td>7</td>\n",
       "      <td>10</td>\n",
       "      <td>3</td>\n",
       "      <td>2</td>\n",
       "      <td>1</td>\n",
       "      <td>0</td>\n",
       "    </tr>\n",
       "    <tr>\n",
       "      <th>2</th>\n",
       "      <td>3</td>\n",
       "      <td>1</td>\n",
       "      <td>1</td>\n",
       "      <td>1</td>\n",
       "      <td>2</td>\n",
       "      <td>2</td>\n",
       "      <td>3</td>\n",
       "      <td>1</td>\n",
       "      <td>1</td>\n",
       "      <td>0</td>\n",
       "    </tr>\n",
       "    <tr>\n",
       "      <th>3</th>\n",
       "      <td>6</td>\n",
       "      <td>8</td>\n",
       "      <td>8</td>\n",
       "      <td>1</td>\n",
       "      <td>3</td>\n",
       "      <td>4</td>\n",
       "      <td>3</td>\n",
       "      <td>7</td>\n",
       "      <td>1</td>\n",
       "      <td>0</td>\n",
       "    </tr>\n",
       "    <tr>\n",
       "      <th>4</th>\n",
       "      <td>4</td>\n",
       "      <td>1</td>\n",
       "      <td>1</td>\n",
       "      <td>3</td>\n",
       "      <td>2</td>\n",
       "      <td>1</td>\n",
       "      <td>3</td>\n",
       "      <td>1</td>\n",
       "      <td>1</td>\n",
       "      <td>0</td>\n",
       "    </tr>\n",
       "  </tbody>\n",
       "</table>\n",
       "</div>"
      ],
      "text/plain": [
       "   Clump  UnifSize  UnifShape  MargAdh  SingEpiSize  BareNuc  BlandChrom  \\\n",
       "0      5         1          1        1            2        1           3   \n",
       "1      5         4          4        5            7       10           3   \n",
       "2      3         1          1        1            2        2           3   \n",
       "3      6         8          8        1            3        4           3   \n",
       "4      4         1          1        3            2        1           3   \n",
       "\n",
       "   NormNucl  Mit  Class  \n",
       "0         1    1      0  \n",
       "1         2    1      0  \n",
       "2         1    1      0  \n",
       "3         7    1      0  \n",
       "4         1    1      0  "
      ]
     },
     "execution_count": 6,
     "metadata": {},
     "output_type": "execute_result"
    }
   ],
   "source": [
    "tumor_df.head()"
   ]
  },
  {
   "cell_type": "markdown",
   "id": "eb514cb8",
   "metadata": {
    "papermill": {
     "duration": 0.014179,
     "end_time": "2022-07-05T06:48:29.450323",
     "exception": false,
     "start_time": "2022-07-05T06:48:29.436144",
     "status": "completed"
    },
    "tags": []
   },
   "source": [
    "And, display its columns.\n"
   ]
  },
  {
   "cell_type": "code",
   "execution_count": 7,
   "id": "f02a8fc6",
   "metadata": {
    "execution": {
     "iopub.execute_input": "2022-07-05T06:48:29.482178Z",
     "iopub.status.busy": "2022-07-05T06:48:29.481426Z",
     "iopub.status.idle": "2022-07-05T06:48:29.488279Z",
     "shell.execute_reply": "2022-07-05T06:48:29.487278Z"
    },
    "papermill": {
     "duration": 0.025268,
     "end_time": "2022-07-05T06:48:29.490309",
     "exception": false,
     "start_time": "2022-07-05T06:48:29.465041",
     "status": "completed"
    },
    "tags": []
   },
   "outputs": [
    {
     "data": {
      "text/plain": [
       "Index(['Clump', 'UnifSize', 'UnifShape', 'MargAdh', 'SingEpiSize', 'BareNuc',\n",
       "       'BlandChrom', 'NormNucl', 'Mit', 'Class'],\n",
       "      dtype='object')"
      ]
     },
     "execution_count": 7,
     "metadata": {},
     "output_type": "execute_result"
    }
   ],
   "source": [
    "tumor_df.columns"
   ]
  },
  {
   "cell_type": "code",
   "execution_count": 8,
   "id": "20516816",
   "metadata": {
    "execution": {
     "iopub.execute_input": "2022-07-05T06:48:29.522268Z",
     "iopub.status.busy": "2022-07-05T06:48:29.521544Z",
     "iopub.status.idle": "2022-07-05T06:48:29.536051Z",
     "shell.execute_reply": "2022-07-05T06:48:29.535112Z"
    },
    "papermill": {
     "duration": 0.033171,
     "end_time": "2022-07-05T06:48:29.538364",
     "exception": false,
     "start_time": "2022-07-05T06:48:29.505193",
     "status": "completed"
    },
    "tags": []
   },
   "outputs": [
    {
     "data": {
      "text/plain": [
       "Clump          10\n",
       "UnifSize       10\n",
       "UnifShape      10\n",
       "MargAdh        10\n",
       "SingEpiSize    10\n",
       "BareNuc        10\n",
       "BlandChrom     10\n",
       "NormNucl       10\n",
       "Mit             9\n",
       "Class           2\n",
       "dtype: int64"
      ]
     },
     "execution_count": 8,
     "metadata": {},
     "output_type": "execute_result"
    }
   ],
   "source": [
    "tumor_df.nunique()"
   ]
  },
  {
   "cell_type": "markdown",
   "id": "f00211f0",
   "metadata": {
    "papermill": {
     "duration": 0.016225,
     "end_time": "2022-07-05T06:48:29.571352",
     "exception": false,
     "start_time": "2022-07-05T06:48:29.555127",
     "status": "completed"
    },
    "tags": []
   },
   "source": [
    "Each observation in this dataset contains lab test results about a tumor sample, such as clump or shapes. Based on these lab test results or features, we want to build a classification model to predict if this tumor sample is malicious (cancer) or benign. The target variable `y` is specified in the `Class` column.\n"
   ]
  },
  {
   "cell_type": "markdown",
   "id": "27bdfdea",
   "metadata": {
    "papermill": {
     "duration": 0.015272,
     "end_time": "2022-07-05T06:48:29.602216",
     "exception": false,
     "start_time": "2022-07-05T06:48:29.586944",
     "status": "completed"
    },
    "tags": []
   },
   "source": [
    "Then, let's split the dataset into input `X` and output `y`:\n"
   ]
  },
  {
   "cell_type": "code",
   "execution_count": 9,
   "id": "0fefaca7",
   "metadata": {
    "execution": {
     "iopub.execute_input": "2022-07-05T06:48:29.636258Z",
     "iopub.status.busy": "2022-07-05T06:48:29.635425Z",
     "iopub.status.idle": "2022-07-05T06:48:29.641126Z",
     "shell.execute_reply": "2022-07-05T06:48:29.640327Z"
    },
    "papermill": {
     "duration": 0.025188,
     "end_time": "2022-07-05T06:48:29.643288",
     "exception": false,
     "start_time": "2022-07-05T06:48:29.618100",
     "status": "completed"
    },
    "tags": []
   },
   "outputs": [],
   "source": [
    "X = tumor_df.iloc[:, :-1]\n",
    "y = tumor_df.iloc[:, -1:]"
   ]
  },
  {
   "cell_type": "markdown",
   "id": "43e08e40",
   "metadata": {
    "papermill": {
     "duration": 0.015232,
     "end_time": "2022-07-05T06:48:29.674889",
     "exception": false,
     "start_time": "2022-07-05T06:48:29.659657",
     "status": "completed"
    },
    "tags": []
   },
   "source": [
    "And, we first check the statistics summary of features in `X`:\n"
   ]
  },
  {
   "cell_type": "code",
   "execution_count": 10,
   "id": "67607525",
   "metadata": {
    "execution": {
     "iopub.execute_input": "2022-07-05T06:48:29.708100Z",
     "iopub.status.busy": "2022-07-05T06:48:29.707354Z",
     "iopub.status.idle": "2022-07-05T06:48:29.755189Z",
     "shell.execute_reply": "2022-07-05T06:48:29.753914Z"
    },
    "papermill": {
     "duration": 0.067043,
     "end_time": "2022-07-05T06:48:29.757302",
     "exception": false,
     "start_time": "2022-07-05T06:48:29.690259",
     "status": "completed"
    },
    "tags": []
   },
   "outputs": [
    {
     "data": {
      "text/html": [
       "<div>\n",
       "<style scoped>\n",
       "    .dataframe tbody tr th:only-of-type {\n",
       "        vertical-align: middle;\n",
       "    }\n",
       "\n",
       "    .dataframe tbody tr th {\n",
       "        vertical-align: top;\n",
       "    }\n",
       "\n",
       "    .dataframe thead th {\n",
       "        text-align: right;\n",
       "    }\n",
       "</style>\n",
       "<table border=\"1\" class=\"dataframe\">\n",
       "  <thead>\n",
       "    <tr style=\"text-align: right;\">\n",
       "      <th></th>\n",
       "      <th>Clump</th>\n",
       "      <th>UnifSize</th>\n",
       "      <th>UnifShape</th>\n",
       "      <th>MargAdh</th>\n",
       "      <th>SingEpiSize</th>\n",
       "      <th>BareNuc</th>\n",
       "      <th>BlandChrom</th>\n",
       "      <th>NormNucl</th>\n",
       "      <th>Mit</th>\n",
       "    </tr>\n",
       "  </thead>\n",
       "  <tbody>\n",
       "    <tr>\n",
       "      <th>count</th>\n",
       "      <td>683.000000</td>\n",
       "      <td>683.000000</td>\n",
       "      <td>683.000000</td>\n",
       "      <td>683.000000</td>\n",
       "      <td>683.000000</td>\n",
       "      <td>683.000000</td>\n",
       "      <td>683.000000</td>\n",
       "      <td>683.000000</td>\n",
       "      <td>683.000000</td>\n",
       "    </tr>\n",
       "    <tr>\n",
       "      <th>mean</th>\n",
       "      <td>4.442167</td>\n",
       "      <td>3.150805</td>\n",
       "      <td>3.215227</td>\n",
       "      <td>2.830161</td>\n",
       "      <td>3.234261</td>\n",
       "      <td>3.544656</td>\n",
       "      <td>3.445095</td>\n",
       "      <td>2.869693</td>\n",
       "      <td>1.603221</td>\n",
       "    </tr>\n",
       "    <tr>\n",
       "      <th>std</th>\n",
       "      <td>2.820761</td>\n",
       "      <td>3.065145</td>\n",
       "      <td>2.988581</td>\n",
       "      <td>2.864562</td>\n",
       "      <td>2.223085</td>\n",
       "      <td>3.643857</td>\n",
       "      <td>2.449697</td>\n",
       "      <td>3.052666</td>\n",
       "      <td>1.732674</td>\n",
       "    </tr>\n",
       "    <tr>\n",
       "      <th>min</th>\n",
       "      <td>1.000000</td>\n",
       "      <td>1.000000</td>\n",
       "      <td>1.000000</td>\n",
       "      <td>1.000000</td>\n",
       "      <td>1.000000</td>\n",
       "      <td>1.000000</td>\n",
       "      <td>1.000000</td>\n",
       "      <td>1.000000</td>\n",
       "      <td>1.000000</td>\n",
       "    </tr>\n",
       "    <tr>\n",
       "      <th>25%</th>\n",
       "      <td>2.000000</td>\n",
       "      <td>1.000000</td>\n",
       "      <td>1.000000</td>\n",
       "      <td>1.000000</td>\n",
       "      <td>2.000000</td>\n",
       "      <td>1.000000</td>\n",
       "      <td>2.000000</td>\n",
       "      <td>1.000000</td>\n",
       "      <td>1.000000</td>\n",
       "    </tr>\n",
       "    <tr>\n",
       "      <th>50%</th>\n",
       "      <td>4.000000</td>\n",
       "      <td>1.000000</td>\n",
       "      <td>1.000000</td>\n",
       "      <td>1.000000</td>\n",
       "      <td>2.000000</td>\n",
       "      <td>1.000000</td>\n",
       "      <td>3.000000</td>\n",
       "      <td>1.000000</td>\n",
       "      <td>1.000000</td>\n",
       "    </tr>\n",
       "    <tr>\n",
       "      <th>75%</th>\n",
       "      <td>6.000000</td>\n",
       "      <td>5.000000</td>\n",
       "      <td>5.000000</td>\n",
       "      <td>4.000000</td>\n",
       "      <td>4.000000</td>\n",
       "      <td>6.000000</td>\n",
       "      <td>5.000000</td>\n",
       "      <td>4.000000</td>\n",
       "      <td>1.000000</td>\n",
       "    </tr>\n",
       "    <tr>\n",
       "      <th>max</th>\n",
       "      <td>10.000000</td>\n",
       "      <td>10.000000</td>\n",
       "      <td>10.000000</td>\n",
       "      <td>10.000000</td>\n",
       "      <td>10.000000</td>\n",
       "      <td>10.000000</td>\n",
       "      <td>10.000000</td>\n",
       "      <td>10.000000</td>\n",
       "      <td>10.000000</td>\n",
       "    </tr>\n",
       "  </tbody>\n",
       "</table>\n",
       "</div>"
      ],
      "text/plain": [
       "            Clump    UnifSize   UnifShape     MargAdh  SingEpiSize  \\\n",
       "count  683.000000  683.000000  683.000000  683.000000   683.000000   \n",
       "mean     4.442167    3.150805    3.215227    2.830161     3.234261   \n",
       "std      2.820761    3.065145    2.988581    2.864562     2.223085   \n",
       "min      1.000000    1.000000    1.000000    1.000000     1.000000   \n",
       "25%      2.000000    1.000000    1.000000    1.000000     2.000000   \n",
       "50%      4.000000    1.000000    1.000000    1.000000     2.000000   \n",
       "75%      6.000000    5.000000    5.000000    4.000000     4.000000   \n",
       "max     10.000000   10.000000   10.000000   10.000000    10.000000   \n",
       "\n",
       "          BareNuc  BlandChrom    NormNucl         Mit  \n",
       "count  683.000000  683.000000  683.000000  683.000000  \n",
       "mean     3.544656    3.445095    2.869693    1.603221  \n",
       "std      3.643857    2.449697    3.052666    1.732674  \n",
       "min      1.000000    1.000000    1.000000    1.000000  \n",
       "25%      1.000000    2.000000    1.000000    1.000000  \n",
       "50%      1.000000    3.000000    1.000000    1.000000  \n",
       "75%      6.000000    5.000000    4.000000    1.000000  \n",
       "max     10.000000   10.000000   10.000000   10.000000  "
      ]
     },
     "execution_count": 10,
     "metadata": {},
     "output_type": "execute_result"
    }
   ],
   "source": [
    "X.describe()"
   ]
  },
  {
   "cell_type": "markdown",
   "id": "59aa66b9",
   "metadata": {
    "papermill": {
     "duration": 0.01497,
     "end_time": "2022-07-05T06:48:29.787866",
     "exception": false,
     "start_time": "2022-07-05T06:48:29.772896",
     "status": "completed"
    },
    "tags": []
   },
   "source": [
    "As we can see from the above cell output, all features are numeric and ranged between 1 to 10. This is very convenient as we do not need to scale the feature values as they are already in the same range.\n"
   ]
  },
  {
   "cell_type": "markdown",
   "id": "d1359f41",
   "metadata": {
    "papermill": {
     "duration": 0.014832,
     "end_time": "2022-07-05T06:48:29.817893",
     "exception": false,
     "start_time": "2022-07-05T06:48:29.803061",
     "status": "completed"
    },
    "tags": []
   },
   "source": [
    "Next, let's check the class distribution of output `y`:\n"
   ]
  },
  {
   "cell_type": "code",
   "execution_count": 11,
   "id": "afe6d8f6",
   "metadata": {
    "execution": {
     "iopub.execute_input": "2022-07-05T06:48:29.850747Z",
     "iopub.status.busy": "2022-07-05T06:48:29.850135Z",
     "iopub.status.idle": "2022-07-05T06:48:29.859901Z",
     "shell.execute_reply": "2022-07-05T06:48:29.859184Z"
    },
    "papermill": {
     "duration": 0.028752,
     "end_time": "2022-07-05T06:48:29.861842",
     "exception": false,
     "start_time": "2022-07-05T06:48:29.833090",
     "status": "completed"
    },
    "tags": []
   },
   "outputs": [
    {
     "data": {
      "text/plain": [
       "Class\n",
       "0        0.650073\n",
       "1        0.349927\n",
       "dtype: float64"
      ]
     },
     "execution_count": 11,
     "metadata": {},
     "output_type": "execute_result"
    }
   ],
   "source": [
    "y.value_counts(normalize=True)"
   ]
  },
  {
   "cell_type": "code",
   "execution_count": 12,
   "id": "47634c56",
   "metadata": {
    "execution": {
     "iopub.execute_input": "2022-07-05T06:48:29.896030Z",
     "iopub.status.busy": "2022-07-05T06:48:29.895321Z",
     "iopub.status.idle": "2022-07-05T06:48:30.113419Z",
     "shell.execute_reply": "2022-07-05T06:48:30.112039Z"
    },
    "papermill": {
     "duration": 0.238534,
     "end_time": "2022-07-05T06:48:30.115948",
     "exception": false,
     "start_time": "2022-07-05T06:48:29.877414",
     "status": "completed"
    },
    "tags": []
   },
   "outputs": [
    {
     "data": {
      "text/plain": [
       "<AxesSubplot:xlabel='Class'>"
      ]
     },
     "execution_count": 12,
     "metadata": {},
     "output_type": "execute_result"
    },
    {
     "data": {
      "image/png": "[encoded data removed]",
      "text/plain": [
       "<Figure size 432x288 with 1 Axes>"
      ]
     },
     "metadata": {
      "needs_background": "light"
     },
     "output_type": "display_data"
    }
   ],
   "source": [
    "y.value_counts().plot.bar(color=['green', 'red'])"
   ]
  },
  {
   "cell_type": "markdown",
   "id": "c57fc3f5",
   "metadata": {
    "papermill": {
     "duration": 0.015432,
     "end_time": "2022-07-05T06:48:30.147736",
     "exception": false,
     "start_time": "2022-07-05T06:48:30.132304",
     "status": "completed"
    },
    "tags": []
   },
   "source": [
    "We have about 65% benign tumors (`Class = 0`) and 35% cancerous tumors (`Class = 1`), which is not a very imbalanced class distribution.\n"
   ]
  },
  {
   "cell_type": "markdown",
   "id": "60b7b37c",
   "metadata": {
    "papermill": {
     "duration": 0.015472,
     "end_time": "2022-07-05T06:48:30.178914",
     "exception": false,
     "start_time": "2022-07-05T06:48:30.163442",
     "status": "completed"
    },
    "tags": []
   },
   "source": [
    "## Process and split training and testing datasets\n"
   ]
  },
  {
   "cell_type": "code",
   "execution_count": 13,
   "id": "f27636da",
   "metadata": {
    "execution": {
     "iopub.execute_input": "2022-07-05T06:48:30.213144Z",
     "iopub.status.busy": "2022-07-05T06:48:30.212228Z",
     "iopub.status.idle": "2022-07-05T06:48:30.227909Z",
     "shell.execute_reply": "2022-07-05T06:48:30.226634Z"
    },
    "papermill": {
     "duration": 0.036063,
     "end_time": "2022-07-05T06:48:30.230583",
     "exception": false,
     "start_time": "2022-07-05T06:48:30.194520",
     "status": "completed"
    },
    "tags": []
   },
   "outputs": [],
   "source": [
    "# Split 80% as training dataset\n",
    "# and 20% as testing dataset\n",
    "X_train, X_test, y_train, y_test = train_test_split(X, y, test_size=0.2, stratify=y, random_state = rs)"
   ]
  },
  {
   "cell_type": "markdown",
   "id": "eb94fc22",
   "metadata": {
    "papermill": {
     "duration": 0.01586,
     "end_time": "2022-07-05T06:48:30.262461",
     "exception": false,
     "start_time": "2022-07-05T06:48:30.246601",
     "status": "completed"
    },
    "tags": []
   },
   "source": [
    "## Train and evaluate a KNN classifier with the number of neighbors set to 2\n"
   ]
  },
  {
   "cell_type": "markdown",
   "id": "7d105aaa",
   "metadata": {
    "papermill": {
     "duration": 0.015701,
     "end_time": "2022-07-05T06:48:30.293948",
     "exception": false,
     "start_time": "2022-07-05T06:48:30.278247",
     "status": "completed"
    },
    "tags": []
   },
   "source": [
    "Training a KNN classifier is very similar to training other classifiers in `sklearn`, we first need to define a `KNeighborsClassifier` object. Here we use `n_neighbors=2` argument to specify how many neighbors will be used for prediction, and we keep other arguments to be their default values.\n"
   ]
  },
  {
   "cell_type": "code",
   "execution_count": 14,
   "id": "7f7c1ebb",
   "metadata": {
    "execution": {
     "iopub.execute_input": "2022-07-05T06:48:30.327678Z",
     "iopub.status.busy": "2022-07-05T06:48:30.327262Z",
     "iopub.status.idle": "2022-07-05T06:48:30.332877Z",
     "shell.execute_reply": "2022-07-05T06:48:30.331604Z"
    },
    "papermill": {
     "duration": 0.025448,
     "end_time": "2022-07-05T06:48:30.335112",
     "exception": false,
     "start_time": "2022-07-05T06:48:30.309664",
     "status": "completed"
    },
    "tags": []
   },
   "outputs": [],
   "source": [
    "# Define a KNN classifier with `n_neighbors=2`\n",
    "knn_model = KNeighborsClassifier(n_neighbors=2)"
   ]
  },
  {
   "cell_type": "markdown",
   "id": "4eedb7f3",
   "metadata": {
    "papermill": {
     "duration": 0.015536,
     "end_time": "2022-07-05T06:48:30.366757",
     "exception": false,
     "start_time": "2022-07-05T06:48:30.351221",
     "status": "completed"
    },
    "tags": []
   },
   "source": [
    "Then we can train the model with `X_train` and `y_train`, and we use ravel() method to convert the data frame `y_train` to a vector.\n"
   ]
  },
  {
   "cell_type": "code",
   "execution_count": 15,
   "id": "bc604bdc",
   "metadata": {
    "execution": {
     "iopub.execute_input": "2022-07-05T06:48:30.401534Z",
     "iopub.status.busy": "2022-07-05T06:48:30.400151Z",
     "iopub.status.idle": "2022-07-05T06:48:30.412553Z",
     "shell.execute_reply": "2022-07-05T06:48:30.411823Z"
    },
    "papermill": {
     "duration": 0.032223,
     "end_time": "2022-07-05T06:48:30.414715",
     "exception": false,
     "start_time": "2022-07-05T06:48:30.382492",
     "status": "completed"
    },
    "tags": []
   },
   "outputs": [
    {
     "data": {
      "text/plain": [
       "KNeighborsClassifier(n_neighbors=2)"
      ]
     },
     "execution_count": 15,
     "metadata": {},
     "output_type": "execute_result"
    }
   ],
   "source": [
    "knn_model.fit(X_train, y_train.values.ravel())"
   ]
  },
  {
   "cell_type": "markdown",
   "id": "6b1f8ab4",
   "metadata": {
    "papermill": {
     "duration": 0.016538,
     "end_time": "2022-07-05T06:48:30.447645",
     "exception": false,
     "start_time": "2022-07-05T06:48:30.431107",
     "status": "completed"
    },
    "tags": []
   },
   "source": [
    "And, we can make predictions on the `X_test` dataframe.\n"
   ]
  },
  {
   "cell_type": "code",
   "execution_count": 16,
   "id": "c9250f34",
   "metadata": {
    "execution": {
     "iopub.execute_input": "2022-07-05T06:48:30.482823Z",
     "iopub.status.busy": "2022-07-05T06:48:30.482210Z",
     "iopub.status.idle": "2022-07-05T06:48:30.494690Z",
     "shell.execute_reply": "2022-07-05T06:48:30.494012Z"
    },
    "papermill": {
     "duration": 0.032708,
     "end_time": "2022-07-05T06:48:30.497173",
     "exception": false,
     "start_time": "2022-07-05T06:48:30.464465",
     "status": "completed"
    },
    "tags": []
   },
   "outputs": [],
   "source": [
    "preds = knn_model.predict(X_test)"
   ]
  },
  {
   "cell_type": "markdown",
   "id": "193bb90b",
   "metadata": {
    "papermill": {
     "duration": 0.015813,
     "end_time": "2022-07-05T06:48:30.529180",
     "exception": false,
     "start_time": "2022-07-05T06:48:30.513367",
     "status": "completed"
    },
    "tags": []
   },
   "source": [
    "To evaluate the KNN classifier, we provide a pre-defined method to return the commonly used evaluation metrics such as accuracy, recall, precision, f1score, and so on, based on the true classes in the 'y_test' and model predictions.\n"
   ]
  },
  {
   "cell_type": "code",
   "execution_count": 17,
   "id": "a953f146",
   "metadata": {
    "execution": {
     "iopub.execute_input": "2022-07-05T06:48:30.564750Z",
     "iopub.status.busy": "2022-07-05T06:48:30.563521Z",
     "iopub.status.idle": "2022-07-05T06:48:30.570501Z",
     "shell.execute_reply": "2022-07-05T06:48:30.569759Z"
    },
    "papermill": {
     "duration": 0.027091,
     "end_time": "2022-07-05T06:48:30.572758",
     "exception": false,
     "start_time": "2022-07-05T06:48:30.545667",
     "status": "completed"
    },
    "tags": []
   },
   "outputs": [],
   "source": [
    "def evaluate_metrics(yt, yp):\n",
    "    results_pos = {}\n",
    "    results_pos['accuracy'] = accuracy_score(yt, yp)\n",
    "    precision, recall, f_beta, _ = precision_recall_fscore_support(yt, yp, average='binary')\n",
    "    results_pos['recall'] = recall\n",
    "    results_pos['precision'] = precision\n",
    "    results_pos['f1score'] = f_beta\n",
    "    return results_pos"
   ]
  },
  {
   "cell_type": "code",
   "execution_count": 18,
   "id": "9542dd01",
   "metadata": {
    "execution": {
     "iopub.execute_input": "2022-07-05T06:48:30.607600Z",
     "iopub.status.busy": "2022-07-05T06:48:30.606413Z",
     "iopub.status.idle": "2022-07-05T06:48:30.617995Z",
     "shell.execute_reply": "2022-07-05T06:48:30.616866Z"
    },
    "papermill": {
     "duration": 0.03126,
     "end_time": "2022-07-05T06:48:30.620176",
     "exception": false,
     "start_time": "2022-07-05T06:48:30.588916",
     "status": "completed"
    },
    "tags": []
   },
   "outputs": [
    {
     "data": {
      "text/plain": [
       "{'accuracy': 0.9416058394160584,\n",
       " 'recall': 0.875,\n",
       " 'precision': 0.9545454545454546,\n",
       " 'f1score': 0.9130434782608695}"
      ]
     },
     "execution_count": 18,
     "metadata": {},
     "output_type": "execute_result"
    }
   ],
   "source": [
    "evaluate_metrics(y_test, preds)"
   ]
  },
  {
   "cell_type": "markdown",
   "id": "9780c777",
   "metadata": {
    "papermill": {
     "duration": 0.015645,
     "end_time": "2022-07-05T06:48:30.651766",
     "exception": false,
     "start_time": "2022-07-05T06:48:30.636121",
     "status": "completed"
    },
    "tags": []
   },
   "source": [
    "We can see that there is a great classification performance on the tumor sample dataset. This means the KNN model can effectively recognize cancerous tumors.\n",
    "Next, it's your turn to try a different number of neighbors to see if we could get even better performance.\n"
   ]
  },
  {
   "cell_type": "markdown",
   "id": "c77acd0f",
   "metadata": {
    "papermill": {
     "duration": 0.016209,
     "end_time": "2022-07-05T06:48:30.683918",
     "exception": false,
     "start_time": "2022-07-05T06:48:30.667709",
     "status": "completed"
    },
    "tags": []
   },
   "source": [
    "## Coding exercise: Train and evaluate a KNN classifier with number of neighbors set to 5\n"
   ]
  },
  {
   "cell_type": "markdown",
   "id": "cad9b8e8",
   "metadata": {
    "papermill": {
     "duration": 0.015441,
     "end_time": "2022-07-05T06:48:30.715159",
     "exception": false,
     "start_time": "2022-07-05T06:48:30.699718",
     "status": "completed"
    },
    "tags": []
   },
   "source": [
    "First, define a KNN classifier with KNeighborsClassifier class:\n"
   ]
  },
  {
   "cell_type": "code",
   "execution_count": 19,
   "id": "3f223cad",
   "metadata": {
    "execution": {
     "iopub.execute_input": "2022-07-05T06:48:30.749176Z",
     "iopub.status.busy": "2022-07-05T06:48:30.748586Z",
     "iopub.status.idle": "2022-07-05T06:48:30.753843Z",
     "shell.execute_reply": "2022-07-05T06:48:30.752730Z"
    },
    "papermill": {
     "duration": 0.02493,
     "end_time": "2022-07-05T06:48:30.755936",
     "exception": false,
     "start_time": "2022-07-05T06:48:30.731006",
     "status": "completed"
    },
    "tags": []
   },
   "outputs": [],
   "source": [
    "# Type your code here\n",
    "# Define a KNN classifier with `n_neighbors=5`\n",
    "knn_model = KNeighborsClassifier(n_neighbors=5)"
   ]
  },
  {
   "cell_type": "markdown",
   "id": "d3d8670b",
   "metadata": {
    "papermill": {
     "duration": 0.015937,
     "end_time": "2022-07-05T06:48:30.788438",
     "exception": false,
     "start_time": "2022-07-05T06:48:30.772501",
     "status": "completed"
    },
    "tags": []
   },
   "source": [
    "Then train the model with `X_train` and `y_train`:\n"
   ]
  },
  {
   "cell_type": "code",
   "execution_count": 20,
   "id": "4d12c131",
   "metadata": {
    "execution": {
     "iopub.execute_input": "2022-07-05T06:48:30.822697Z",
     "iopub.status.busy": "2022-07-05T06:48:30.822004Z",
     "iopub.status.idle": "2022-07-05T06:48:30.831265Z",
     "shell.execute_reply": "2022-07-05T06:48:30.830491Z"
    },
    "papermill": {
     "duration": 0.028707,
     "end_time": "2022-07-05T06:48:30.833212",
     "exception": false,
     "start_time": "2022-07-05T06:48:30.804505",
     "status": "completed"
    },
    "tags": []
   },
   "outputs": [
    {
     "data": {
      "text/plain": [
       "KNeighborsClassifier()"
      ]
     },
     "execution_count": 20,
     "metadata": {},
     "output_type": "execute_result"
    }
   ],
   "source": [
    "# Type your code here\n",
    "knn_model.fit(X_train, y_train.values.ravel())"
   ]
  },
  {
   "cell_type": "markdown",
   "id": "c3cdab82",
   "metadata": {
    "papermill": {
     "duration": 0.016549,
     "end_time": "2022-07-05T06:48:30.865553",
     "exception": false,
     "start_time": "2022-07-05T06:48:30.849004",
     "status": "completed"
    },
    "tags": []
   },
   "source": [
    "And, make predictions on `X_test` dataframe:\n"
   ]
  },
  {
   "cell_type": "code",
   "execution_count": 21,
   "id": "33a19402",
   "metadata": {
    "execution": {
     "iopub.execute_input": "2022-07-05T06:48:30.900036Z",
     "iopub.status.busy": "2022-07-05T06:48:30.899612Z",
     "iopub.status.idle": "2022-07-05T06:48:30.916158Z",
     "shell.execute_reply": "2022-07-05T06:48:30.915221Z"
    },
    "papermill": {
     "duration": 0.036152,
     "end_time": "2022-07-05T06:48:30.918200",
     "exception": false,
     "start_time": "2022-07-05T06:48:30.882048",
     "status": "completed"
    },
    "tags": []
   },
   "outputs": [
    {
     "data": {
      "text/plain": [
       "{'accuracy': 0.9781021897810219,\n",
       " 'recall': 0.9791666666666666,\n",
       " 'precision': 0.9591836734693877,\n",
       " 'f1score': 0.9690721649484536}"
      ]
     },
     "execution_count": 21,
     "metadata": {},
     "output_type": "execute_result"
    }
   ],
   "source": [
    "# Type your code here\n",
    "preds = knn_model.predict(X_test)\n",
    "evaluate_metrics(y_test, preds)"
   ]
  },
  {
   "cell_type": "markdown",
   "id": "ba6f8813",
   "metadata": {
    "papermill": {
     "duration": 0.016507,
     "end_time": "2022-07-05T06:48:30.950922",
     "exception": false,
     "start_time": "2022-07-05T06:48:30.934415",
     "status": "completed"
    },
    "tags": []
   },
   "source": [
    "At last, you can evaluate your KNN model with provided `evaluate_metrics()` method.\n"
   ]
  },
  {
   "cell_type": "markdown",
   "id": "244059df",
   "metadata": {
    "papermill": {
     "duration": 0.015885,
     "end_time": "2022-07-05T06:48:30.983062",
     "exception": false,
     "start_time": "2022-07-05T06:48:30.967177",
     "status": "completed"
    },
    "tags": []
   },
   "source": [
    "<details><summary>Click here for a sample solution</summary>\n",
    "\n",
    "```python\n",
    "model = KNeighborsClassifier(n_neighbors=5)\n",
    "model.fit(X_train, y_train.values.ravel())\n",
    "preds = model.predict(X_test)\n",
    "evaluate_metrics(y_test, preds)\n",
    "```\n",
    "\n",
    "</details>\n"
   ]
  },
  {
   "cell_type": "markdown",
   "id": "58d8ffb5",
   "metadata": {
    "papermill": {
     "duration": 0.01599,
     "end_time": "2022-07-05T06:48:31.015238",
     "exception": false,
     "start_time": "2022-07-05T06:48:30.999248",
     "status": "completed"
    },
    "tags": []
   },
   "source": [
    "## Tune the number of neighbors to find the optmized one\n"
   ]
  },
  {
   "cell_type": "markdown",
   "id": "8b744139",
   "metadata": {
    "papermill": {
     "duration": 0.0158,
     "end_time": "2022-07-05T06:48:31.047289",
     "exception": false,
     "start_time": "2022-07-05T06:48:31.031489",
     "status": "completed"
    },
    "tags": []
   },
   "source": [
    "OK, you may wonder which `n_neighbors` argument may give you the best classification performance. We can try different `n_neighbors` (the K value) and check which `K` gives the best classification performance.\n"
   ]
  },
  {
   "cell_type": "markdown",
   "id": "71ed9a07",
   "metadata": {
    "papermill": {
     "duration": 0.015678,
     "end_time": "2022-07-05T06:48:31.078979",
     "exception": false,
     "start_time": "2022-07-05T06:48:31.063301",
     "status": "completed"
    },
    "tags": []
   },
   "source": [
    "Here we could try K from 1 to 50, and store the aggregated `f1score` for each k into a list.\n"
   ]
  },
  {
   "cell_type": "code",
   "execution_count": 22,
   "id": "cf7019e4",
   "metadata": {
    "execution": {
     "iopub.execute_input": "2022-07-05T06:48:31.113496Z",
     "iopub.status.busy": "2022-07-05T06:48:31.112762Z",
     "iopub.status.idle": "2022-07-05T06:48:31.117389Z",
     "shell.execute_reply": "2022-07-05T06:48:31.116737Z"
    },
    "papermill": {
     "duration": 0.024382,
     "end_time": "2022-07-05T06:48:31.119405",
     "exception": false,
     "start_time": "2022-07-05T06:48:31.095023",
     "status": "completed"
    },
    "tags": []
   },
   "outputs": [],
   "source": [
    "# Try K from 1 to 100\n",
    "max_k = 100\n",
    "# Create an empty list to store f1score for each k\n",
    "f1_scores = []"
   ]
  },
  {
   "cell_type": "markdown",
   "id": "9d6f7341",
   "metadata": {
    "papermill": {
     "duration": 0.016762,
     "end_time": "2022-07-05T06:48:31.152176",
     "exception": false,
     "start_time": "2022-07-05T06:48:31.135414",
     "status": "completed"
    },
    "tags": []
   },
   "source": [
    "Then we will train 50 KNN classifiers with K ranged from 1 to 50.\n"
   ]
  },
  {
   "cell_type": "code",
   "execution_count": 23,
   "id": "ad845e3c",
   "metadata": {
    "execution": {
     "iopub.execute_input": "2022-07-05T06:48:31.187665Z",
     "iopub.status.busy": "2022-07-05T06:48:31.186925Z",
     "iopub.status.idle": "2022-07-05T06:48:32.543939Z",
     "shell.execute_reply": "2022-07-05T06:48:32.542686Z"
    },
    "papermill": {
     "duration": 1.377504,
     "end_time": "2022-07-05T06:48:32.546498",
     "exception": false,
     "start_time": "2022-07-05T06:48:31.168994",
     "status": "completed"
    },
    "tags": []
   },
   "outputs": [
    {
     "data": {
      "text/html": [
       "<div>\n",
       "<style scoped>\n",
       "    .dataframe tbody tr th:only-of-type {\n",
       "        vertical-align: middle;\n",
       "    }\n",
       "\n",
       "    .dataframe tbody tr th {\n",
       "        vertical-align: top;\n",
       "    }\n",
       "\n",
       "    .dataframe thead th {\n",
       "        text-align: right;\n",
       "    }\n",
       "</style>\n",
       "<table border=\"1\" class=\"dataframe\">\n",
       "  <thead>\n",
       "    <tr style=\"text-align: right;\">\n",
       "      <th></th>\n",
       "      <th>F1 Score</th>\n",
       "    </tr>\n",
       "    <tr>\n",
       "      <th>K</th>\n",
       "      <th></th>\n",
       "    </tr>\n",
       "  </thead>\n",
       "  <tbody>\n",
       "    <tr>\n",
       "      <th>1</th>\n",
       "      <td>0.9485</td>\n",
       "    </tr>\n",
       "    <tr>\n",
       "      <th>2</th>\n",
       "      <td>0.9130</td>\n",
       "    </tr>\n",
       "    <tr>\n",
       "      <th>3</th>\n",
       "      <td>0.9485</td>\n",
       "    </tr>\n",
       "    <tr>\n",
       "      <th>4</th>\n",
       "      <td>0.9583</td>\n",
       "    </tr>\n",
       "    <tr>\n",
       "      <th>5</th>\n",
       "      <td>0.9691</td>\n",
       "    </tr>\n",
       "    <tr>\n",
       "      <th>...</th>\n",
       "      <td>...</td>\n",
       "    </tr>\n",
       "    <tr>\n",
       "      <th>96</th>\n",
       "      <td>0.9247</td>\n",
       "    </tr>\n",
       "    <tr>\n",
       "      <th>97</th>\n",
       "      <td>0.9247</td>\n",
       "    </tr>\n",
       "    <tr>\n",
       "      <th>98</th>\n",
       "      <td>0.9247</td>\n",
       "    </tr>\n",
       "    <tr>\n",
       "      <th>99</th>\n",
       "      <td>0.9247</td>\n",
       "    </tr>\n",
       "    <tr>\n",
       "      <th>100</th>\n",
       "      <td>0.9247</td>\n",
       "    </tr>\n",
       "  </tbody>\n",
       "</table>\n",
       "<p>100 rows × 1 columns</p>\n",
       "</div>"
      ],
      "text/plain": [
       "     F1 Score\n",
       "K            \n",
       "1      0.9485\n",
       "2      0.9130\n",
       "3      0.9485\n",
       "4      0.9583\n",
       "5      0.9691\n",
       "..        ...\n",
       "96     0.9247\n",
       "97     0.9247\n",
       "98     0.9247\n",
       "99     0.9247\n",
       "100    0.9247\n",
       "\n",
       "[100 rows x 1 columns]"
      ]
     },
     "execution_count": 23,
     "metadata": {},
     "output_type": "execute_result"
    }
   ],
   "source": [
    "for k in range(1, max_k + 1):\n",
    "    # Create a KNN classifier\n",
    "    knn = KNeighborsClassifier(n_neighbors=k)\n",
    "    # Train the classifier\n",
    "    knn = knn.fit(X_train, y_train.values.ravel())\n",
    "    preds = knn.predict(X_test)\n",
    "    # Evaluate the classifier with f1score\n",
    "    f1 = f1_score(preds, y_test)\n",
    "    f1_scores.append((k, round(f1_score(y_test, preds), 4)))\n",
    "# Convert the f1score list to a dataframe\n",
    "f1_results = pd.DataFrame(f1_scores, columns=['K', 'F1 Score'])\n",
    "f1_results.set_index('K')"
   ]
  },
  {
   "cell_type": "markdown",
   "id": "d885d643",
   "metadata": {
    "papermill": {
     "duration": 0.017622,
     "end_time": "2022-07-05T06:48:32.582143",
     "exception": false,
     "start_time": "2022-07-05T06:48:32.564521",
     "status": "completed"
    },
    "tags": []
   },
   "source": [
    "This is a long list and different to analysis, so let's visualize the list using a linechart.\n"
   ]
  },
  {
   "cell_type": "code",
   "execution_count": 24,
   "id": "72641900",
   "metadata": {
    "execution": {
     "iopub.execute_input": "2022-07-05T06:48:32.619970Z",
     "iopub.status.busy": "2022-07-05T06:48:32.619061Z",
     "iopub.status.idle": "2022-07-05T06:48:33.240299Z",
     "shell.execute_reply": "2022-07-05T06:48:33.239136Z"
    },
    "papermill": {
     "duration": 0.642788,
     "end_time": "2022-07-05T06:48:33.243167",
     "exception": false,
     "start_time": "2022-07-05T06:48:32.600379",
     "status": "completed"
    },
    "tags": []
   },
   "outputs": [
    {
     "data": {
      "text/plain": [
       "Text(0.5, 1.0, 'KNN F1 Score')"
      ]
     },
     "execution_count": 24,
     "metadata": {},
     "output_type": "execute_result"
    },
    {
     "data": {
      "image/png": "[encoded data removed]",
      "text/plain": [
       "<Figure size 864x864 with 1 Axes>"
      ]
     },
     "metadata": {
      "needs_background": "light"
     },
     "output_type": "display_data"
    }
   ],
   "source": [
    "# Plot F1 results\n",
    "ax = f1_results.plot(figsize=(12, 12))\n",
    "ax.set(xlabel='Num of Neighbors', ylabel='F1 Score')\n",
    "ax.set_xticks(range(1, max_k, 2));\n",
    "plt.ylim((0.85, 1))\n",
    "plt.title('KNN F1 Score')"
   ]
  },
  {
   "cell_type": "markdown",
   "id": "f72a1528",
   "metadata": {
    "papermill": {
     "duration": 0.017109,
     "end_time": "2022-07-05T06:48:33.277459",
     "exception": false,
     "start_time": "2022-07-05T06:48:33.260350",
     "status": "completed"
    },
    "tags": []
   },
   "source": [
    "As we can see from the F1 score linechart, the best `K` value is 5 with about `0.9691` f1score.\n"
   ]
  },
  {
   "cell_type": "markdown",
   "id": "2a1f9a4d",
   "metadata": {
    "papermill": {
     "duration": 0.016908,
     "end_time": "2022-07-05T06:48:33.311615",
     "exception": false,
     "start_time": "2022-07-05T06:48:33.294707",
     "status": "completed"
    },
    "tags": []
   },
   "source": [
    "## Next steps\n"
   ]
  },
  {
   "cell_type": "markdown",
   "id": "31bfa1eb",
   "metadata": {
    "papermill": {
     "duration": 0.016885,
     "end_time": "2022-07-05T06:48:33.345812",
     "exception": false,
     "start_time": "2022-07-05T06:48:33.328927",
     "status": "completed"
    },
    "tags": []
   },
   "source": [
    "Great! Now you have learned about and applied the KNN model to solve a real-world tumor type classification problem. You also tuned the KNN to find the best K value. Later, you will continue learning other popular classification models with different structures, assumptions, cost functions, and application scenarios.\n"
   ]
  },
  {
   "cell_type": "markdown",
   "id": "458f5724",
   "metadata": {
    "papermill": {
     "duration": 0.016837,
     "end_time": "2022-07-05T06:48:33.379603",
     "exception": false,
     "start_time": "2022-07-05T06:48:33.362766",
     "status": "completed"
    },
    "tags": []
   },
   "source": [
    "## Authors\n"
   ]
  },
  {
   "cell_type": "markdown",
   "id": "294096f8",
   "metadata": {
    "papermill": {
     "duration": 0.016827,
     "end_time": "2022-07-05T06:48:33.413714",
     "exception": false,
     "start_time": "2022-07-05T06:48:33.396887",
     "status": "completed"
    },
    "tags": []
   },
   "source": [
    "[Yan Luo](https://www.linkedin.com/in/yan-luo-96288783/?utm_medium=Exinfluencer&utm_source=Exinfluencer&utm_content=000026UJ&utm_term=10006555&utm_id=NA-SkillsNetwork-Channel-SkillsNetworkCoursesIBMML241ENSkillsNetwork31576874-2022-01-01)\n"
   ]
  },
  {
   "cell_type": "markdown",
   "id": "6bbd49fb",
   "metadata": {
    "papermill": {
     "duration": 0.017237,
     "end_time": "2022-07-05T06:48:33.448107",
     "exception": false,
     "start_time": "2022-07-05T06:48:33.430870",
     "status": "completed"
    },
    "tags": []
   },
   "source": [
    "### Other Contributors\n"
   ]
  },
  {
   "cell_type": "markdown",
   "id": "2f957f45",
   "metadata": {
    "papermill": {
     "duration": 0.017416,
     "end_time": "2022-07-05T06:48:33.483179",
     "exception": false,
     "start_time": "2022-07-05T06:48:33.465763",
     "status": "completed"
    },
    "tags": []
   },
   "source": [
    "## Change Log\n"
   ]
  },
  {
   "cell_type": "markdown",
   "id": "74a083bf",
   "metadata": {
    "papermill": {
     "duration": 0.01674,
     "end_time": "2022-07-05T06:48:33.517234",
     "exception": false,
     "start_time": "2022-07-05T06:48:33.500494",
     "status": "completed"
    },
    "tags": []
   },
   "source": [
    "| Date (YYYY-MM-DD) | Version | Changed By | Change Description          |\n",
    "| ----------------- | ------- | ---------- | --------------------------- |\n",
    "| 2021-11-9         | 1.0     | Yan        | Created the initial version |\n",
    "| 2022-3-29         | 1.1     | Steve Hord | QA Pass                     |\n"
   ]
  },
  {
   "cell_type": "markdown",
   "id": "8571a735",
   "metadata": {
    "papermill": {
     "duration": 0.016932,
     "end_time": "2022-07-05T06:48:33.551260",
     "exception": false,
     "start_time": "2022-07-05T06:48:33.534328",
     "status": "completed"
    },
    "tags": []
   },
   "source": [
    "Copyright © 2021 IBM Corporation. All rights reserved.\n"
   ]
  }
 ],
 "metadata": {
  "kernelspec": {
   "display_name": "Python 3",
   "language": "python",
   "name": "python3"
  },
  "language_info": {
   "codemirror_mode": {
    "name": "ipython",
    "version": 3
   },
   "file_extension": ".py",
   "mimetype": "text/x-python",
   "name": "python",
   "nbconvert_exporter": "python",
   "pygments_lexer": "ipython3",
   "version": "3.7.12"
  },
  "papermill": {
   "default_parameters": {},
   "duration": 18.788324,
   "end_time": "2022-07-05T06:48:34.391804",
   "environment_variables": {},
   "exception": null,
   "input_path": "__notebook__.ipynb",
   "output_path": "__notebook__.ipynb",
   "parameters": {},
   "start_time": "2022-07-05T06:48:15.603480",
   "version": "2.3.4"
  }
 },
 "nbformat": 4,
 "nbformat_minor": 5
}
