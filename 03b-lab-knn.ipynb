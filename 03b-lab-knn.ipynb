{
 "cells": [
  {
   "cell_type": "markdown",
   "id": "e47a31b9",
   "metadata": {
    "papermill": {
     "duration": 0.013981,
     "end_time": "2022-07-05T06:31:08.089231",
     "exception": false,
     "start_time": "2022-07-05T06:31:08.075250",
     "status": "completed"
    },
    "tags": []
   },
   "source": [
    "# Machine Learning Foundation\n",
    "\n",
    "## Course 3, Part b: K-Nearest Neighbor LAB\n"
   ]
  },
  {
   "cell_type": "markdown",
   "id": "d6a3cc21",
   "metadata": {
    "papermill": {
     "duration": 0.012587,
     "end_time": "2022-07-05T06:31:08.115138",
     "exception": false,
     "start_time": "2022-07-05T06:31:08.102551",
     "status": "completed"
    },
    "tags": []
   },
   "source": [
    "## Introduction and Learning Goals\n",
    "\n",
    "In this lab, we will explore classification using the K-Nearest Neighbors approach. We will use a customer churn dataset from the telecom industry, which includes customer data such as long-distance usage, data usage, monthly revenue, types of offerings, and other services purchased by customers. The data, based on a fictional telecom firm, includes several Excel files which have been combined and are available in the course materials. We are using the subset of customers who have phone accounts. Since the data includes a mix of numeric, categorical, and ordinal variables, we will load this data and do some preprocessing. Then we will use K-nearest neighbors to predict customer churn rates.\n",
    "\n",
    "After completing this lab, you should have a working understanding of how to preprocess a variety of variables to apply the K-Nearest Neighbors algorithm, understand how to choose K, and understand how to evaluate model performance.\n"
   ]
  },
  {
   "cell_type": "code",
   "execution_count": 1,
   "id": "fe32a4b8",
   "metadata": {
    "execution": {
     "iopub.execute_input": "2022-07-05T06:31:08.143167Z",
     "iopub.status.busy": "2022-07-05T06:31:08.142489Z",
     "iopub.status.idle": "2022-07-05T06:31:09.279687Z",
     "shell.execute_reply": "2022-07-05T06:31:09.278666Z"
    },
    "papermill": {
     "duration": 1.154519,
     "end_time": "2022-07-05T06:31:09.282493",
     "exception": false,
     "start_time": "2022-07-05T06:31:08.127974",
     "status": "completed"
    },
    "tags": []
   },
   "outputs": [],
   "source": [
    "def warn(*args, **kwargs):\n",
    "    pass\n",
    "import warnings\n",
    "warnings.warn = warn\n",
    "\n",
    "import pandas as pd, numpy as np, matplotlib.pyplot as plt, os, sys, seaborn as sns"
   ]
  },
  {
   "cell_type": "markdown",
   "id": "01d887c9",
   "metadata": {
    "papermill": {
     "duration": 0.012513,
     "end_time": "2022-07-05T06:31:09.308871",
     "exception": false,
     "start_time": "2022-07-05T06:31:09.296358",
     "status": "completed"
    },
    "tags": []
   },
   "source": [
    "## Question 1\n",
    "\n",
    "*   We begin by importing the data. Examine the columns and data.\n",
    "*   Notice that the data contains a unique ID, an indicator for phone customer status, total lifetime value, total revenue, and a bank-estimated churn score. We will not be using these features, so they can be dropped from the data.\n",
    "*   Begin by taking an initial look at the data, including both numeric and non-numeric features.\n"
   ]
  },
  {
   "cell_type": "code",
   "execution_count": 2,
   "id": "067107a8",
   "metadata": {
    "execution": {
     "iopub.execute_input": "2022-07-05T06:31:09.336251Z",
     "iopub.status.busy": "2022-07-05T06:31:09.335821Z",
     "iopub.status.idle": "2022-07-05T06:31:12.418956Z",
     "shell.execute_reply": "2022-07-05T06:31:12.417795Z"
    },
    "papermill": {
     "duration": 3.099571,
     "end_time": "2022-07-05T06:31:12.421320",
     "exception": false,
     "start_time": "2022-07-05T06:31:09.321749",
     "status": "completed"
    },
    "tags": []
   },
   "outputs": [],
   "source": [
    "### BEGIN SOLUTION\n",
    "\n",
    "df = pd.read_csv(\"https://cf-courses-data.s3.us.cloud-object-storage.appdomain.cloud/IBM-ML241EN-SkillsNetwork/labs/datasets/churndata_processed.csv\")"
   ]
  },
  {
   "cell_type": "code",
   "execution_count": 3,
   "id": "346262af",
   "metadata": {
    "execution": {
     "iopub.execute_input": "2022-07-05T06:31:12.451327Z",
     "iopub.status.busy": "2022-07-05T06:31:12.450612Z",
     "iopub.status.idle": "2022-07-05T06:31:12.567629Z",
     "shell.execute_reply": "2022-07-05T06:31:12.566554Z"
    },
    "papermill": {
     "duration": 0.134599,
     "end_time": "2022-07-05T06:31:12.570025",
     "exception": false,
     "start_time": "2022-07-05T06:31:12.435426",
     "status": "completed"
    },
    "tags": []
   },
   "outputs": [
    {
     "data": {
      "text/html": [
       "<div>\n",
       "<style scoped>\n",
       "    .dataframe tbody tr th:only-of-type {\n",
       "        vertical-align: middle;\n",
       "    }\n",
       "\n",
       "    .dataframe tbody tr th {\n",
       "        vertical-align: top;\n",
       "    }\n",
       "\n",
       "    .dataframe thead th {\n",
       "        text-align: right;\n",
       "    }\n",
       "</style>\n",
       "<table border=\"1\" class=\"dataframe\">\n",
       "  <thead>\n",
       "    <tr style=\"text-align: right;\">\n",
       "      <th></th>\n",
       "      <th>count</th>\n",
       "      <th>mean</th>\n",
       "      <th>std</th>\n",
       "      <th>min</th>\n",
       "      <th>25%</th>\n",
       "      <th>50%</th>\n",
       "      <th>75%</th>\n",
       "      <th>max</th>\n",
       "    </tr>\n",
       "  </thead>\n",
       "  <tbody>\n",
       "    <tr>\n",
       "      <th>months</th>\n",
       "      <td>7043.0</td>\n",
       "      <td>0.43</td>\n",
       "      <td>0.40</td>\n",
       "      <td>0.0</td>\n",
       "      <td>0.00</td>\n",
       "      <td>0.25</td>\n",
       "      <td>0.75</td>\n",
       "      <td>1.0</td>\n",
       "    </tr>\n",
       "    <tr>\n",
       "      <th>multiple</th>\n",
       "      <td>7043.0</td>\n",
       "      <td>0.42</td>\n",
       "      <td>0.49</td>\n",
       "      <td>0.0</td>\n",
       "      <td>0.00</td>\n",
       "      <td>0.00</td>\n",
       "      <td>1.00</td>\n",
       "      <td>1.0</td>\n",
       "    </tr>\n",
       "    <tr>\n",
       "      <th>gb_mon</th>\n",
       "      <td>7043.0</td>\n",
       "      <td>0.24</td>\n",
       "      <td>0.24</td>\n",
       "      <td>0.0</td>\n",
       "      <td>0.04</td>\n",
       "      <td>0.20</td>\n",
       "      <td>0.32</td>\n",
       "      <td>1.0</td>\n",
       "    </tr>\n",
       "    <tr>\n",
       "      <th>security</th>\n",
       "      <td>7043.0</td>\n",
       "      <td>0.29</td>\n",
       "      <td>0.45</td>\n",
       "      <td>0.0</td>\n",
       "      <td>0.00</td>\n",
       "      <td>0.00</td>\n",
       "      <td>1.00</td>\n",
       "      <td>1.0</td>\n",
       "    </tr>\n",
       "    <tr>\n",
       "      <th>backup</th>\n",
       "      <td>7043.0</td>\n",
       "      <td>0.34</td>\n",
       "      <td>0.48</td>\n",
       "      <td>0.0</td>\n",
       "      <td>0.00</td>\n",
       "      <td>0.00</td>\n",
       "      <td>1.00</td>\n",
       "      <td>1.0</td>\n",
       "    </tr>\n",
       "    <tr>\n",
       "      <th>protection</th>\n",
       "      <td>7043.0</td>\n",
       "      <td>0.34</td>\n",
       "      <td>0.48</td>\n",
       "      <td>0.0</td>\n",
       "      <td>0.00</td>\n",
       "      <td>0.00</td>\n",
       "      <td>1.00</td>\n",
       "      <td>1.0</td>\n",
       "    </tr>\n",
       "    <tr>\n",
       "      <th>support</th>\n",
       "      <td>7043.0</td>\n",
       "      <td>0.29</td>\n",
       "      <td>0.45</td>\n",
       "      <td>0.0</td>\n",
       "      <td>0.00</td>\n",
       "      <td>0.00</td>\n",
       "      <td>1.00</td>\n",
       "      <td>1.0</td>\n",
       "    </tr>\n",
       "    <tr>\n",
       "      <th>unlimited</th>\n",
       "      <td>7043.0</td>\n",
       "      <td>0.67</td>\n",
       "      <td>0.47</td>\n",
       "      <td>0.0</td>\n",
       "      <td>0.00</td>\n",
       "      <td>1.00</td>\n",
       "      <td>1.00</td>\n",
       "      <td>1.0</td>\n",
       "    </tr>\n",
       "    <tr>\n",
       "      <th>contract</th>\n",
       "      <td>7043.0</td>\n",
       "      <td>0.38</td>\n",
       "      <td>0.42</td>\n",
       "      <td>0.0</td>\n",
       "      <td>0.00</td>\n",
       "      <td>0.00</td>\n",
       "      <td>1.00</td>\n",
       "      <td>1.0</td>\n",
       "    </tr>\n",
       "    <tr>\n",
       "      <th>paperless</th>\n",
       "      <td>7043.0</td>\n",
       "      <td>0.59</td>\n",
       "      <td>0.49</td>\n",
       "      <td>0.0</td>\n",
       "      <td>0.00</td>\n",
       "      <td>1.00</td>\n",
       "      <td>1.00</td>\n",
       "      <td>1.0</td>\n",
       "    </tr>\n",
       "    <tr>\n",
       "      <th>monthly</th>\n",
       "      <td>7043.0</td>\n",
       "      <td>0.46</td>\n",
       "      <td>0.30</td>\n",
       "      <td>0.0</td>\n",
       "      <td>0.17</td>\n",
       "      <td>0.52</td>\n",
       "      <td>0.71</td>\n",
       "      <td>1.0</td>\n",
       "    </tr>\n",
       "    <tr>\n",
       "      <th>satisfaction</th>\n",
       "      <td>7043.0</td>\n",
       "      <td>0.56</td>\n",
       "      <td>0.30</td>\n",
       "      <td>0.0</td>\n",
       "      <td>0.50</td>\n",
       "      <td>0.50</td>\n",
       "      <td>0.75</td>\n",
       "      <td>1.0</td>\n",
       "    </tr>\n",
       "    <tr>\n",
       "      <th>churn_value</th>\n",
       "      <td>7043.0</td>\n",
       "      <td>0.27</td>\n",
       "      <td>0.44</td>\n",
       "      <td>0.0</td>\n",
       "      <td>0.00</td>\n",
       "      <td>0.00</td>\n",
       "      <td>1.00</td>\n",
       "      <td>1.0</td>\n",
       "    </tr>\n",
       "    <tr>\n",
       "      <th>payment_Credit Card</th>\n",
       "      <td>7043.0</td>\n",
       "      <td>0.39</td>\n",
       "      <td>0.49</td>\n",
       "      <td>0.0</td>\n",
       "      <td>0.00</td>\n",
       "      <td>0.00</td>\n",
       "      <td>1.00</td>\n",
       "      <td>1.0</td>\n",
       "    </tr>\n",
       "    <tr>\n",
       "      <th>payment_Mailed Check</th>\n",
       "      <td>7043.0</td>\n",
       "      <td>0.05</td>\n",
       "      <td>0.23</td>\n",
       "      <td>0.0</td>\n",
       "      <td>0.00</td>\n",
       "      <td>0.00</td>\n",
       "      <td>0.00</td>\n",
       "      <td>1.0</td>\n",
       "    </tr>\n",
       "    <tr>\n",
       "      <th>internet_type_DSL</th>\n",
       "      <td>7043.0</td>\n",
       "      <td>0.23</td>\n",
       "      <td>0.42</td>\n",
       "      <td>0.0</td>\n",
       "      <td>0.00</td>\n",
       "      <td>0.00</td>\n",
       "      <td>0.00</td>\n",
       "      <td>1.0</td>\n",
       "    </tr>\n",
       "    <tr>\n",
       "      <th>internet_type_Fiber Optic</th>\n",
       "      <td>7043.0</td>\n",
       "      <td>0.43</td>\n",
       "      <td>0.50</td>\n",
       "      <td>0.0</td>\n",
       "      <td>0.00</td>\n",
       "      <td>0.00</td>\n",
       "      <td>1.00</td>\n",
       "      <td>1.0</td>\n",
       "    </tr>\n",
       "    <tr>\n",
       "      <th>internet_type_None</th>\n",
       "      <td>7043.0</td>\n",
       "      <td>0.22</td>\n",
       "      <td>0.41</td>\n",
       "      <td>0.0</td>\n",
       "      <td>0.00</td>\n",
       "      <td>0.00</td>\n",
       "      <td>0.00</td>\n",
       "      <td>1.0</td>\n",
       "    </tr>\n",
       "    <tr>\n",
       "      <th>offer_Offer A</th>\n",
       "      <td>7043.0</td>\n",
       "      <td>0.07</td>\n",
       "      <td>0.26</td>\n",
       "      <td>0.0</td>\n",
       "      <td>0.00</td>\n",
       "      <td>0.00</td>\n",
       "      <td>0.00</td>\n",
       "      <td>1.0</td>\n",
       "    </tr>\n",
       "    <tr>\n",
       "      <th>offer_Offer B</th>\n",
       "      <td>7043.0</td>\n",
       "      <td>0.12</td>\n",
       "      <td>0.32</td>\n",
       "      <td>0.0</td>\n",
       "      <td>0.00</td>\n",
       "      <td>0.00</td>\n",
       "      <td>0.00</td>\n",
       "      <td>1.0</td>\n",
       "    </tr>\n",
       "    <tr>\n",
       "      <th>offer_Offer C</th>\n",
       "      <td>7043.0</td>\n",
       "      <td>0.06</td>\n",
       "      <td>0.24</td>\n",
       "      <td>0.0</td>\n",
       "      <td>0.00</td>\n",
       "      <td>0.00</td>\n",
       "      <td>0.00</td>\n",
       "      <td>1.0</td>\n",
       "    </tr>\n",
       "    <tr>\n",
       "      <th>offer_Offer D</th>\n",
       "      <td>7043.0</td>\n",
       "      <td>0.09</td>\n",
       "      <td>0.28</td>\n",
       "      <td>0.0</td>\n",
       "      <td>0.00</td>\n",
       "      <td>0.00</td>\n",
       "      <td>0.00</td>\n",
       "      <td>1.0</td>\n",
       "    </tr>\n",
       "    <tr>\n",
       "      <th>offer_Offer E</th>\n",
       "      <td>7043.0</td>\n",
       "      <td>0.11</td>\n",
       "      <td>0.32</td>\n",
       "      <td>0.0</td>\n",
       "      <td>0.00</td>\n",
       "      <td>0.00</td>\n",
       "      <td>0.00</td>\n",
       "      <td>1.0</td>\n",
       "    </tr>\n",
       "  </tbody>\n",
       "</table>\n",
       "</div>"
      ],
      "text/plain": [
       "                            count  mean   std  min   25%   50%   75%  max\n",
       "months                     7043.0  0.43  0.40  0.0  0.00  0.25  0.75  1.0\n",
       "multiple                   7043.0  0.42  0.49  0.0  0.00  0.00  1.00  1.0\n",
       "gb_mon                     7043.0  0.24  0.24  0.0  0.04  0.20  0.32  1.0\n",
       "security                   7043.0  0.29  0.45  0.0  0.00  0.00  1.00  1.0\n",
       "backup                     7043.0  0.34  0.48  0.0  0.00  0.00  1.00  1.0\n",
       "protection                 7043.0  0.34  0.48  0.0  0.00  0.00  1.00  1.0\n",
       "support                    7043.0  0.29  0.45  0.0  0.00  0.00  1.00  1.0\n",
       "unlimited                  7043.0  0.67  0.47  0.0  0.00  1.00  1.00  1.0\n",
       "contract                   7043.0  0.38  0.42  0.0  0.00  0.00  1.00  1.0\n",
       "paperless                  7043.0  0.59  0.49  0.0  0.00  1.00  1.00  1.0\n",
       "monthly                    7043.0  0.46  0.30  0.0  0.17  0.52  0.71  1.0\n",
       "satisfaction               7043.0  0.56  0.30  0.0  0.50  0.50  0.75  1.0\n",
       "churn_value                7043.0  0.27  0.44  0.0  0.00  0.00  1.00  1.0\n",
       "payment_Credit Card        7043.0  0.39  0.49  0.0  0.00  0.00  1.00  1.0\n",
       "payment_Mailed Check       7043.0  0.05  0.23  0.0  0.00  0.00  0.00  1.0\n",
       "internet_type_DSL          7043.0  0.23  0.42  0.0  0.00  0.00  0.00  1.0\n",
       "internet_type_Fiber Optic  7043.0  0.43  0.50  0.0  0.00  0.00  1.00  1.0\n",
       "internet_type_None         7043.0  0.22  0.41  0.0  0.00  0.00  0.00  1.0\n",
       "offer_Offer A              7043.0  0.07  0.26  0.0  0.00  0.00  0.00  1.0\n",
       "offer_Offer B              7043.0  0.12  0.32  0.0  0.00  0.00  0.00  1.0\n",
       "offer_Offer C              7043.0  0.06  0.24  0.0  0.00  0.00  0.00  1.0\n",
       "offer_Offer D              7043.0  0.09  0.28  0.0  0.00  0.00  0.00  1.0\n",
       "offer_Offer E              7043.0  0.11  0.32  0.0  0.00  0.00  0.00  1.0"
      ]
     },
     "execution_count": 3,
     "metadata": {},
     "output_type": "execute_result"
    }
   ],
   "source": [
    "round(df.describe().T,2)"
   ]
  },
  {
   "cell_type": "code",
   "execution_count": 4,
   "id": "58fdc418",
   "metadata": {
    "execution": {
     "iopub.execute_input": "2022-07-05T06:31:12.599978Z",
     "iopub.status.busy": "2022-07-05T06:31:12.599522Z",
     "iopub.status.idle": "2022-07-05T06:31:12.618351Z",
     "shell.execute_reply": "2022-07-05T06:31:12.617238Z"
    },
    "papermill": {
     "duration": 0.036965,
     "end_time": "2022-07-05T06:31:12.620881",
     "exception": false,
     "start_time": "2022-07-05T06:31:12.583916",
     "status": "completed"
    },
    "tags": []
   },
   "outputs": [
    {
     "data": {
      "text/html": [
       "<div>\n",
       "<style scoped>\n",
       "    .dataframe tbody tr th:only-of-type {\n",
       "        vertical-align: middle;\n",
       "    }\n",
       "\n",
       "    .dataframe tbody tr th {\n",
       "        vertical-align: top;\n",
       "    }\n",
       "\n",
       "    .dataframe thead th {\n",
       "        text-align: right;\n",
       "    }\n",
       "</style>\n",
       "<table border=\"1\" class=\"dataframe\">\n",
       "  <thead>\n",
       "    <tr style=\"text-align: right;\">\n",
       "      <th></th>\n",
       "      <th>0</th>\n",
       "      <th>1</th>\n",
       "      <th>2</th>\n",
       "      <th>3</th>\n",
       "      <th>4</th>\n",
       "    </tr>\n",
       "  </thead>\n",
       "  <tbody>\n",
       "    <tr>\n",
       "      <th>months</th>\n",
       "      <td>0.000000</td>\n",
       "      <td>0.000000</td>\n",
       "      <td>0.250000</td>\n",
       "      <td>0.250000</td>\n",
       "      <td>0.500000</td>\n",
       "    </tr>\n",
       "    <tr>\n",
       "      <th>multiple</th>\n",
       "      <td>0.000000</td>\n",
       "      <td>1.000000</td>\n",
       "      <td>1.000000</td>\n",
       "      <td>0.000000</td>\n",
       "      <td>1.000000</td>\n",
       "    </tr>\n",
       "    <tr>\n",
       "      <th>gb_mon</th>\n",
       "      <td>0.094118</td>\n",
       "      <td>0.200000</td>\n",
       "      <td>0.611765</td>\n",
       "      <td>0.141176</td>\n",
       "      <td>0.164706</td>\n",
       "    </tr>\n",
       "    <tr>\n",
       "      <th>security</th>\n",
       "      <td>0.000000</td>\n",
       "      <td>0.000000</td>\n",
       "      <td>0.000000</td>\n",
       "      <td>0.000000</td>\n",
       "      <td>0.000000</td>\n",
       "    </tr>\n",
       "    <tr>\n",
       "      <th>backup</th>\n",
       "      <td>0.000000</td>\n",
       "      <td>1.000000</td>\n",
       "      <td>0.000000</td>\n",
       "      <td>1.000000</td>\n",
       "      <td>0.000000</td>\n",
       "    </tr>\n",
       "    <tr>\n",
       "      <th>protection</th>\n",
       "      <td>1.000000</td>\n",
       "      <td>0.000000</td>\n",
       "      <td>0.000000</td>\n",
       "      <td>1.000000</td>\n",
       "      <td>0.000000</td>\n",
       "    </tr>\n",
       "    <tr>\n",
       "      <th>support</th>\n",
       "      <td>0.000000</td>\n",
       "      <td>0.000000</td>\n",
       "      <td>0.000000</td>\n",
       "      <td>0.000000</td>\n",
       "      <td>0.000000</td>\n",
       "    </tr>\n",
       "    <tr>\n",
       "      <th>unlimited</th>\n",
       "      <td>0.000000</td>\n",
       "      <td>1.000000</td>\n",
       "      <td>1.000000</td>\n",
       "      <td>1.000000</td>\n",
       "      <td>1.000000</td>\n",
       "    </tr>\n",
       "    <tr>\n",
       "      <th>contract</th>\n",
       "      <td>0.000000</td>\n",
       "      <td>0.000000</td>\n",
       "      <td>0.000000</td>\n",
       "      <td>0.000000</td>\n",
       "      <td>0.000000</td>\n",
       "    </tr>\n",
       "    <tr>\n",
       "      <th>paperless</th>\n",
       "      <td>1.000000</td>\n",
       "      <td>1.000000</td>\n",
       "      <td>1.000000</td>\n",
       "      <td>1.000000</td>\n",
       "      <td>1.000000</td>\n",
       "    </tr>\n",
       "    <tr>\n",
       "      <th>monthly</th>\n",
       "      <td>0.212935</td>\n",
       "      <td>0.620896</td>\n",
       "      <td>0.768159</td>\n",
       "      <td>0.798507</td>\n",
       "      <td>0.579602</td>\n",
       "    </tr>\n",
       "    <tr>\n",
       "      <th>satisfaction</th>\n",
       "      <td>0.500000</td>\n",
       "      <td>0.500000</td>\n",
       "      <td>0.250000</td>\n",
       "      <td>0.250000</td>\n",
       "      <td>0.250000</td>\n",
       "    </tr>\n",
       "    <tr>\n",
       "      <th>churn_value</th>\n",
       "      <td>1.000000</td>\n",
       "      <td>1.000000</td>\n",
       "      <td>1.000000</td>\n",
       "      <td>1.000000</td>\n",
       "      <td>1.000000</td>\n",
       "    </tr>\n",
       "    <tr>\n",
       "      <th>payment_Credit Card</th>\n",
       "      <td>0.000000</td>\n",
       "      <td>1.000000</td>\n",
       "      <td>0.000000</td>\n",
       "      <td>0.000000</td>\n",
       "      <td>0.000000</td>\n",
       "    </tr>\n",
       "    <tr>\n",
       "      <th>payment_Mailed Check</th>\n",
       "      <td>0.000000</td>\n",
       "      <td>0.000000</td>\n",
       "      <td>0.000000</td>\n",
       "      <td>0.000000</td>\n",
       "      <td>0.000000</td>\n",
       "    </tr>\n",
       "    <tr>\n",
       "      <th>internet_type_DSL</th>\n",
       "      <td>1.000000</td>\n",
       "      <td>0.000000</td>\n",
       "      <td>0.000000</td>\n",
       "      <td>0.000000</td>\n",
       "      <td>0.000000</td>\n",
       "    </tr>\n",
       "    <tr>\n",
       "      <th>internet_type_Fiber Optic</th>\n",
       "      <td>0.000000</td>\n",
       "      <td>1.000000</td>\n",
       "      <td>1.000000</td>\n",
       "      <td>1.000000</td>\n",
       "      <td>1.000000</td>\n",
       "    </tr>\n",
       "    <tr>\n",
       "      <th>internet_type_None</th>\n",
       "      <td>0.000000</td>\n",
       "      <td>0.000000</td>\n",
       "      <td>0.000000</td>\n",
       "      <td>0.000000</td>\n",
       "      <td>0.000000</td>\n",
       "    </tr>\n",
       "    <tr>\n",
       "      <th>offer_Offer A</th>\n",
       "      <td>0.000000</td>\n",
       "      <td>0.000000</td>\n",
       "      <td>0.000000</td>\n",
       "      <td>0.000000</td>\n",
       "      <td>0.000000</td>\n",
       "    </tr>\n",
       "    <tr>\n",
       "      <th>offer_Offer B</th>\n",
       "      <td>0.000000</td>\n",
       "      <td>0.000000</td>\n",
       "      <td>0.000000</td>\n",
       "      <td>0.000000</td>\n",
       "      <td>0.000000</td>\n",
       "    </tr>\n",
       "    <tr>\n",
       "      <th>offer_Offer C</th>\n",
       "      <td>0.000000</td>\n",
       "      <td>0.000000</td>\n",
       "      <td>0.000000</td>\n",
       "      <td>1.000000</td>\n",
       "      <td>1.000000</td>\n",
       "    </tr>\n",
       "    <tr>\n",
       "      <th>offer_Offer D</th>\n",
       "      <td>0.000000</td>\n",
       "      <td>0.000000</td>\n",
       "      <td>1.000000</td>\n",
       "      <td>0.000000</td>\n",
       "      <td>0.000000</td>\n",
       "    </tr>\n",
       "    <tr>\n",
       "      <th>offer_Offer E</th>\n",
       "      <td>0.000000</td>\n",
       "      <td>1.000000</td>\n",
       "      <td>0.000000</td>\n",
       "      <td>0.000000</td>\n",
       "      <td>0.000000</td>\n",
       "    </tr>\n",
       "  </tbody>\n",
       "</table>\n",
       "</div>"
      ],
      "text/plain": [
       "                                  0         1         2         3         4\n",
       "months                     0.000000  0.000000  0.250000  0.250000  0.500000\n",
       "multiple                   0.000000  1.000000  1.000000  0.000000  1.000000\n",
       "gb_mon                     0.094118  0.200000  0.611765  0.141176  0.164706\n",
       "security                   0.000000  0.000000  0.000000  0.000000  0.000000\n",
       "backup                     0.000000  1.000000  0.000000  1.000000  0.000000\n",
       "protection                 1.000000  0.000000  0.000000  1.000000  0.000000\n",
       "support                    0.000000  0.000000  0.000000  0.000000  0.000000\n",
       "unlimited                  0.000000  1.000000  1.000000  1.000000  1.000000\n",
       "contract                   0.000000  0.000000  0.000000  0.000000  0.000000\n",
       "paperless                  1.000000  1.000000  1.000000  1.000000  1.000000\n",
       "monthly                    0.212935  0.620896  0.768159  0.798507  0.579602\n",
       "satisfaction               0.500000  0.500000  0.250000  0.250000  0.250000\n",
       "churn_value                1.000000  1.000000  1.000000  1.000000  1.000000\n",
       "payment_Credit Card        0.000000  1.000000  0.000000  0.000000  0.000000\n",
       "payment_Mailed Check       0.000000  0.000000  0.000000  0.000000  0.000000\n",
       "internet_type_DSL          1.000000  0.000000  0.000000  0.000000  0.000000\n",
       "internet_type_Fiber Optic  0.000000  1.000000  1.000000  1.000000  1.000000\n",
       "internet_type_None         0.000000  0.000000  0.000000  0.000000  0.000000\n",
       "offer_Offer A              0.000000  0.000000  0.000000  0.000000  0.000000\n",
       "offer_Offer B              0.000000  0.000000  0.000000  0.000000  0.000000\n",
       "offer_Offer C              0.000000  0.000000  0.000000  1.000000  1.000000\n",
       "offer_Offer D              0.000000  0.000000  1.000000  0.000000  0.000000\n",
       "offer_Offer E              0.000000  1.000000  0.000000  0.000000  0.000000"
      ]
     },
     "execution_count": 4,
     "metadata": {},
     "output_type": "execute_result"
    }
   ],
   "source": [
    "df.head().T"
   ]
  },
  {
   "cell_type": "markdown",
   "id": "f1cacda2",
   "metadata": {
    "papermill": {
     "duration": 0.014613,
     "end_time": "2022-07-05T06:31:12.649720",
     "exception": false,
     "start_time": "2022-07-05T06:31:12.635107",
     "status": "completed"
    },
    "tags": []
   },
   "source": [
    "## Question 2\n",
    "\n",
    "*   Identify which variables are binary, categorical and not ordinal, categorical and ordinal, and numeric.  The non-numeric features will need to be encoded using methods we have discussed in the course.\n",
    "*   Start by identifying the number of unique values each variable takes, then create list variables for categorical, numeric, binary, and ordinal variables.\n",
    "*   Note that the variable 'months' can be treated as numeric, but it may be more convenient to transform it to an ordinal variable.\n",
    "*   For the other categorical variables, examine their values to determine which may be encoded ordinally.\n"
   ]
  },
  {
   "cell_type": "code",
   "execution_count": 5,
   "id": "c7b73c8b",
   "metadata": {
    "execution": {
     "iopub.execute_input": "2022-07-05T06:31:12.680260Z",
     "iopub.status.busy": "2022-07-05T06:31:12.679836Z",
     "iopub.status.idle": "2022-07-05T06:31:12.697620Z",
     "shell.execute_reply": "2022-07-05T06:31:12.696758Z"
    },
    "papermill": {
     "duration": 0.035454,
     "end_time": "2022-07-05T06:31:12.699612",
     "exception": false,
     "start_time": "2022-07-05T06:31:12.664158",
     "status": "completed"
    },
    "tags": []
   },
   "outputs": [
    {
     "data": {
      "text/html": [
       "<div>\n",
       "<style scoped>\n",
       "    .dataframe tbody tr th:only-of-type {\n",
       "        vertical-align: middle;\n",
       "    }\n",
       "\n",
       "    .dataframe tbody tr th {\n",
       "        vertical-align: top;\n",
       "    }\n",
       "\n",
       "    .dataframe thead th {\n",
       "        text-align: right;\n",
       "    }\n",
       "</style>\n",
       "<table border=\"1\" class=\"dataframe\">\n",
       "  <thead>\n",
       "    <tr style=\"text-align: right;\">\n",
       "      <th></th>\n",
       "      <th>Unique Values</th>\n",
       "    </tr>\n",
       "    <tr>\n",
       "      <th>Variable</th>\n",
       "      <th></th>\n",
       "    </tr>\n",
       "  </thead>\n",
       "  <tbody>\n",
       "    <tr>\n",
       "      <th>months</th>\n",
       "      <td>5</td>\n",
       "    </tr>\n",
       "    <tr>\n",
       "      <th>multiple</th>\n",
       "      <td>2</td>\n",
       "    </tr>\n",
       "    <tr>\n",
       "      <th>gb_mon</th>\n",
       "      <td>50</td>\n",
       "    </tr>\n",
       "    <tr>\n",
       "      <th>security</th>\n",
       "      <td>2</td>\n",
       "    </tr>\n",
       "    <tr>\n",
       "      <th>backup</th>\n",
       "      <td>2</td>\n",
       "    </tr>\n",
       "    <tr>\n",
       "      <th>protection</th>\n",
       "      <td>2</td>\n",
       "    </tr>\n",
       "    <tr>\n",
       "      <th>support</th>\n",
       "      <td>2</td>\n",
       "    </tr>\n",
       "    <tr>\n",
       "      <th>unlimited</th>\n",
       "      <td>2</td>\n",
       "    </tr>\n",
       "    <tr>\n",
       "      <th>contract</th>\n",
       "      <td>3</td>\n",
       "    </tr>\n",
       "    <tr>\n",
       "      <th>paperless</th>\n",
       "      <td>2</td>\n",
       "    </tr>\n",
       "    <tr>\n",
       "      <th>monthly</th>\n",
       "      <td>1585</td>\n",
       "    </tr>\n",
       "    <tr>\n",
       "      <th>satisfaction</th>\n",
       "      <td>5</td>\n",
       "    </tr>\n",
       "    <tr>\n",
       "      <th>churn_value</th>\n",
       "      <td>2</td>\n",
       "    </tr>\n",
       "    <tr>\n",
       "      <th>payment_Credit Card</th>\n",
       "      <td>2</td>\n",
       "    </tr>\n",
       "    <tr>\n",
       "      <th>payment_Mailed Check</th>\n",
       "      <td>2</td>\n",
       "    </tr>\n",
       "    <tr>\n",
       "      <th>internet_type_DSL</th>\n",
       "      <td>2</td>\n",
       "    </tr>\n",
       "    <tr>\n",
       "      <th>internet_type_Fiber Optic</th>\n",
       "      <td>2</td>\n",
       "    </tr>\n",
       "    <tr>\n",
       "      <th>internet_type_None</th>\n",
       "      <td>2</td>\n",
       "    </tr>\n",
       "    <tr>\n",
       "      <th>offer_Offer A</th>\n",
       "      <td>2</td>\n",
       "    </tr>\n",
       "    <tr>\n",
       "      <th>offer_Offer B</th>\n",
       "      <td>2</td>\n",
       "    </tr>\n",
       "    <tr>\n",
       "      <th>offer_Offer C</th>\n",
       "      <td>2</td>\n",
       "    </tr>\n",
       "    <tr>\n",
       "      <th>offer_Offer D</th>\n",
       "      <td>2</td>\n",
       "    </tr>\n",
       "    <tr>\n",
       "      <th>offer_Offer E</th>\n",
       "      <td>2</td>\n",
       "    </tr>\n",
       "  </tbody>\n",
       "</table>\n",
       "</div>"
      ],
      "text/plain": [
       "                           Unique Values\n",
       "Variable                                \n",
       "months                                 5\n",
       "multiple                               2\n",
       "gb_mon                                50\n",
       "security                               2\n",
       "backup                                 2\n",
       "protection                             2\n",
       "support                                2\n",
       "unlimited                              2\n",
       "contract                               3\n",
       "paperless                              2\n",
       "monthly                             1585\n",
       "satisfaction                           5\n",
       "churn_value                            2\n",
       "payment_Credit Card                    2\n",
       "payment_Mailed Check                   2\n",
       "internet_type_DSL                      2\n",
       "internet_type_Fiber Optic              2\n",
       "internet_type_None                     2\n",
       "offer_Offer A                          2\n",
       "offer_Offer B                          2\n",
       "offer_Offer C                          2\n",
       "offer_Offer D                          2\n",
       "offer_Offer E                          2"
      ]
     },
     "execution_count": 5,
     "metadata": {},
     "output_type": "execute_result"
    }
   ],
   "source": [
    "### BEGIN SOLUTION\n",
    "df_uniques = pd.DataFrame([[i, len(df[i].unique())] for i in df.columns], columns=['Variable', 'Unique Values']).set_index('Variable')\n",
    "df_uniques"
   ]
  },
  {
   "cell_type": "code",
   "execution_count": 6,
   "id": "e70b25a1",
   "metadata": {
    "execution": {
     "iopub.execute_input": "2022-07-05T06:31:12.730268Z",
     "iopub.status.busy": "2022-07-05T06:31:12.729547Z",
     "iopub.status.idle": "2022-07-05T06:31:12.737246Z",
     "shell.execute_reply": "2022-07-05T06:31:12.736226Z"
    },
    "papermill": {
     "duration": 0.025458,
     "end_time": "2022-07-05T06:31:12.739381",
     "exception": false,
     "start_time": "2022-07-05T06:31:12.713923",
     "status": "completed"
    },
    "tags": []
   },
   "outputs": [
    {
     "data": {
      "text/plain": [
       "['multiple',\n",
       " 'security',\n",
       " 'backup',\n",
       " 'protection',\n",
       " 'support',\n",
       " 'unlimited',\n",
       " 'paperless',\n",
       " 'churn_value',\n",
       " 'payment_Credit Card',\n",
       " 'payment_Mailed Check',\n",
       " 'internet_type_DSL',\n",
       " 'internet_type_Fiber Optic',\n",
       " 'internet_type_None',\n",
       " 'offer_Offer A',\n",
       " 'offer_Offer B',\n",
       " 'offer_Offer C',\n",
       " 'offer_Offer D',\n",
       " 'offer_Offer E']"
      ]
     },
     "execution_count": 6,
     "metadata": {},
     "output_type": "execute_result"
    }
   ],
   "source": [
    "binary_variables = list(df_uniques[df_uniques['Unique Values'] == 2].index)\n",
    "binary_variables"
   ]
  },
  {
   "cell_type": "code",
   "execution_count": 7,
   "id": "93ab85ac",
   "metadata": {
    "execution": {
     "iopub.execute_input": "2022-07-05T06:31:12.770228Z",
     "iopub.status.busy": "2022-07-05T06:31:12.769557Z",
     "iopub.status.idle": "2022-07-05T06:31:12.777125Z",
     "shell.execute_reply": "2022-07-05T06:31:12.776132Z"
    },
    "papermill": {
     "duration": 0.025706,
     "end_time": "2022-07-05T06:31:12.779272",
     "exception": false,
     "start_time": "2022-07-05T06:31:12.753566",
     "status": "completed"
    },
    "tags": []
   },
   "outputs": [
    {
     "data": {
      "text/plain": [
       "['months', 'contract', 'satisfaction']"
      ]
     },
     "execution_count": 7,
     "metadata": {},
     "output_type": "execute_result"
    }
   ],
   "source": [
    "categorical_variables = list(df_uniques[(6 >= df_uniques['Unique Values']) & (df_uniques['Unique Values'] > 2)].index)\n",
    "categorical_variables"
   ]
  },
  {
   "cell_type": "code",
   "execution_count": 8,
   "id": "11d80e0e",
   "metadata": {
    "execution": {
     "iopub.execute_input": "2022-07-05T06:31:12.810993Z",
     "iopub.status.busy": "2022-07-05T06:31:12.810109Z",
     "iopub.status.idle": "2022-07-05T06:31:12.818481Z",
     "shell.execute_reply": "2022-07-05T06:31:12.817457Z"
    },
    "papermill": {
     "duration": 0.026939,
     "end_time": "2022-07-05T06:31:12.820580",
     "exception": false,
     "start_time": "2022-07-05T06:31:12.793641",
     "status": "completed"
    },
    "tags": []
   },
   "outputs": [
    {
     "data": {
      "text/plain": [
       "[['months', [0.0, 0.25, 0.5, 1.0, 0.75]],\n",
       " ['contract', [0.0, 0.5, 1.0]],\n",
       " ['satisfaction', [0.5, 0.25, 0.0, 0.75, 1.0]]]"
      ]
     },
     "execution_count": 8,
     "metadata": {},
     "output_type": "execute_result"
    }
   ],
   "source": [
    "[[i, list(df[i].unique())] for i in categorical_variables]"
   ]
  },
  {
   "cell_type": "code",
   "execution_count": 9,
   "id": "50264c4c",
   "metadata": {
    "execution": {
     "iopub.execute_input": "2022-07-05T06:31:12.851636Z",
     "iopub.status.busy": "2022-07-05T06:31:12.850954Z",
     "iopub.status.idle": "2022-07-05T06:31:12.855233Z",
     "shell.execute_reply": "2022-07-05T06:31:12.854449Z"
    },
    "papermill": {
     "duration": 0.022395,
     "end_time": "2022-07-05T06:31:12.857349",
     "exception": false,
     "start_time": "2022-07-05T06:31:12.834954",
     "status": "completed"
    },
    "tags": []
   },
   "outputs": [],
   "source": [
    "ordinal_variables = ['contract', 'satisfaction']"
   ]
  },
  {
   "cell_type": "code",
   "execution_count": 10,
   "id": "36812b9c",
   "metadata": {
    "execution": {
     "iopub.execute_input": "2022-07-05T06:31:12.888631Z",
     "iopub.status.busy": "2022-07-05T06:31:12.887914Z",
     "iopub.status.idle": "2022-07-05T06:31:12.894525Z",
     "shell.execute_reply": "2022-07-05T06:31:12.893780Z"
    },
    "papermill": {
     "duration": 0.024732,
     "end_time": "2022-07-05T06:31:12.896659",
     "exception": false,
     "start_time": "2022-07-05T06:31:12.871927",
     "status": "completed"
    },
    "tags": []
   },
   "outputs": [
    {
     "data": {
      "text/plain": [
       "array([0.  , 0.25, 0.5 , 1.  , 0.75])"
      ]
     },
     "execution_count": 10,
     "metadata": {},
     "output_type": "execute_result"
    }
   ],
   "source": [
    "df['months'].unique()"
   ]
  },
  {
   "cell_type": "code",
   "execution_count": 11,
   "id": "a4443c52",
   "metadata": {
    "execution": {
     "iopub.execute_input": "2022-07-05T06:31:12.929401Z",
     "iopub.status.busy": "2022-07-05T06:31:12.928615Z",
     "iopub.status.idle": "2022-07-05T06:31:12.933397Z",
     "shell.execute_reply": "2022-07-05T06:31:12.932562Z"
    },
    "papermill": {
     "duration": 0.023793,
     "end_time": "2022-07-05T06:31:12.935753",
     "exception": false,
     "start_time": "2022-07-05T06:31:12.911960",
     "status": "completed"
    },
    "tags": []
   },
   "outputs": [],
   "source": [
    "ordinal_variables.append('months')"
   ]
  },
  {
   "cell_type": "code",
   "execution_count": 12,
   "id": "ab850b55",
   "metadata": {
    "execution": {
     "iopub.execute_input": "2022-07-05T06:31:12.969150Z",
     "iopub.status.busy": "2022-07-05T06:31:12.968317Z",
     "iopub.status.idle": "2022-07-05T06:31:12.974256Z",
     "shell.execute_reply": "2022-07-05T06:31:12.973507Z"
    },
    "papermill": {
     "duration": 0.024975,
     "end_time": "2022-07-05T06:31:12.976413",
     "exception": false,
     "start_time": "2022-07-05T06:31:12.951438",
     "status": "completed"
    },
    "tags": []
   },
   "outputs": [
    {
     "data": {
      "text/plain": [
       "['contract', 'satisfaction', 'months']"
      ]
     },
     "execution_count": 12,
     "metadata": {},
     "output_type": "execute_result"
    }
   ],
   "source": [
    "ordinal_variables"
   ]
  },
  {
   "cell_type": "code",
   "execution_count": 13,
   "id": "1f337adb",
   "metadata": {
    "execution": {
     "iopub.execute_input": "2022-07-05T06:31:13.009108Z",
     "iopub.status.busy": "2022-07-05T06:31:13.008312Z",
     "iopub.status.idle": "2022-07-05T06:31:13.013138Z",
     "shell.execute_reply": "2022-07-05T06:31:13.012413Z"
    },
    "papermill": {
     "duration": 0.02376,
     "end_time": "2022-07-05T06:31:13.015429",
     "exception": false,
     "start_time": "2022-07-05T06:31:12.991669",
     "status": "completed"
    },
    "tags": []
   },
   "outputs": [],
   "source": [
    "numeric_variables = list(set(df.columns) - set(ordinal_variables) - set(categorical_variables) - set(binary_variables))"
   ]
  },
  {
   "cell_type": "code",
   "execution_count": 14,
   "id": "1c6850c8",
   "metadata": {
    "execution": {
     "iopub.execute_input": "2022-07-05T06:31:13.047718Z",
     "iopub.status.busy": "2022-07-05T06:31:13.047024Z",
     "iopub.status.idle": "2022-07-05T06:31:13.454349Z",
     "shell.execute_reply": "2022-07-05T06:31:13.453396Z"
    },
    "papermill": {
     "duration": 0.426477,
     "end_time": "2022-07-05T06:31:13.456669",
     "exception": false,
     "start_time": "2022-07-05T06:31:13.030192",
     "status": "completed"
    },
    "tags": []
   },
   "outputs": [
    {
     "data": {
      "text/plain": [
       "array([[<AxesSubplot:title={'center':'monthly'}>,\n",
       "        <AxesSubplot:title={'center':'gb_mon'}>]], dtype=object)"
      ]
     },
     "execution_count": 14,
     "metadata": {},
     "output_type": "execute_result"
    },
    {
     "data": {
      "image/png": "[encoded data removed]",
      "text/plain": [
       "<Figure size 864x432 with 2 Axes>"
      ]
     },
     "metadata": {
      "needs_background": "light"
     },
     "output_type": "display_data"
    }
   ],
   "source": [
    "df[numeric_variables].hist(figsize=(12, 6))"
   ]
  },
  {
   "cell_type": "code",
   "execution_count": 15,
   "id": "ea50a45f",
   "metadata": {
    "execution": {
     "iopub.execute_input": "2022-07-05T06:31:13.490216Z",
     "iopub.status.busy": "2022-07-05T06:31:13.489429Z",
     "iopub.status.idle": "2022-07-05T06:31:13.504798Z",
     "shell.execute_reply": "2022-07-05T06:31:13.503803Z"
    },
    "papermill": {
     "duration": 0.036062,
     "end_time": "2022-07-05T06:31:13.507853",
     "exception": false,
     "start_time": "2022-07-05T06:31:13.471791",
     "status": "completed"
    },
    "tags": []
   },
   "outputs": [],
   "source": [
    "df['months'] = pd.cut(df['months'], bins=5)\n",
    "### END SOLUTION"
   ]
  },
  {
   "cell_type": "code",
   "execution_count": 16,
   "id": "922f1972",
   "metadata": {
    "execution": {
     "iopub.execute_input": "2022-07-05T06:31:13.540705Z",
     "iopub.status.busy": "2022-07-05T06:31:13.539796Z",
     "iopub.status.idle": "2022-07-05T06:31:13.546740Z",
     "shell.execute_reply": "2022-07-05T06:31:13.545824Z"
    },
    "papermill": {
     "duration": 0.025865,
     "end_time": "2022-07-05T06:31:13.548889",
     "exception": false,
     "start_time": "2022-07-05T06:31:13.523024",
     "status": "completed"
    },
    "tags": []
   },
   "outputs": [
    {
     "data": {
      "text/plain": [
       "['monthly', 'gb_mon']"
      ]
     },
     "execution_count": 16,
     "metadata": {},
     "output_type": "execute_result"
    }
   ],
   "source": [
    "numeric_variables"
   ]
  },
  {
   "cell_type": "markdown",
   "id": "632dcf5a",
   "metadata": {
    "papermill": {
     "duration": 0.014793,
     "end_time": "2022-07-05T06:31:13.578805",
     "exception": false,
     "start_time": "2022-07-05T06:31:13.564012",
     "status": "completed"
    },
    "tags": []
   },
   "source": [
    "## Question 3\n",
    "\n",
    "*   Having set up the variables, remember that the K-nearest neighbors algorithm uses distance and hence requires scaled data.\n",
    "*   Scale the data using one of the scaling methods discussed in the course.\n",
    "*   Save the processed dataframe as a comma-separated file: 'churndata_processed.csv'\n"
   ]
  },
  {
   "cell_type": "code",
   "execution_count": 17,
   "id": "e7edc678",
   "metadata": {
    "execution": {
     "iopub.execute_input": "2022-07-05T06:31:13.611048Z",
     "iopub.status.busy": "2022-07-05T06:31:13.610350Z",
     "iopub.status.idle": "2022-07-05T06:31:13.750478Z",
     "shell.execute_reply": "2022-07-05T06:31:13.749429Z"
    },
    "papermill": {
     "duration": 0.159131,
     "end_time": "2022-07-05T06:31:13.752961",
     "exception": false,
     "start_time": "2022-07-05T06:31:13.593830",
     "status": "completed"
    },
    "tags": []
   },
   "outputs": [],
   "source": [
    "### BEGIN SOLUTION\n",
    "from sklearn.preprocessing import LabelBinarizer, LabelEncoder, OrdinalEncoder"
   ]
  },
  {
   "cell_type": "code",
   "execution_count": 18,
   "id": "0d693f85",
   "metadata": {
    "execution": {
     "iopub.execute_input": "2022-07-05T06:31:13.785885Z",
     "iopub.status.busy": "2022-07-05T06:31:13.785458Z",
     "iopub.status.idle": "2022-07-05T06:31:13.790555Z",
     "shell.execute_reply": "2022-07-05T06:31:13.789748Z"
    },
    "papermill": {
     "duration": 0.024146,
     "end_time": "2022-07-05T06:31:13.792495",
     "exception": false,
     "start_time": "2022-07-05T06:31:13.768349",
     "status": "completed"
    },
    "tags": []
   },
   "outputs": [],
   "source": [
    "lb, le = LabelBinarizer(), LabelEncoder()"
   ]
  },
  {
   "cell_type": "code",
   "execution_count": 19,
   "id": "9bfde90f",
   "metadata": {
    "execution": {
     "iopub.execute_input": "2022-07-05T06:31:13.826630Z",
     "iopub.status.busy": "2022-07-05T06:31:13.825846Z",
     "iopub.status.idle": "2022-07-05T06:31:13.856209Z",
     "shell.execute_reply": "2022-07-05T06:31:13.855440Z"
    },
    "papermill": {
     "duration": 0.049695,
     "end_time": "2022-07-05T06:31:13.858537",
     "exception": false,
     "start_time": "2022-07-05T06:31:13.808842",
     "status": "completed"
    },
    "tags": []
   },
   "outputs": [],
   "source": [
    "for column in ordinal_variables:\n",
    "    df[column] = le.fit_transform(df[column])"
   ]
  },
  {
   "cell_type": "code",
   "execution_count": 20,
   "id": "efce44d3",
   "metadata": {
    "execution": {
     "iopub.execute_input": "2022-07-05T06:31:13.891544Z",
     "iopub.status.busy": "2022-07-05T06:31:13.890903Z",
     "iopub.status.idle": "2022-07-05T06:31:13.912411Z",
     "shell.execute_reply": "2022-07-05T06:31:13.911522Z"
    },
    "papermill": {
     "duration": 0.04067,
     "end_time": "2022-07-05T06:31:13.914559",
     "exception": false,
     "start_time": "2022-07-05T06:31:13.873889",
     "status": "completed"
    },
    "tags": []
   },
   "outputs": [
    {
     "data": {
      "text/html": [
       "<div>\n",
       "<style scoped>\n",
       "    .dataframe tbody tr th:only-of-type {\n",
       "        vertical-align: middle;\n",
       "    }\n",
       "\n",
       "    .dataframe tbody tr th {\n",
       "        vertical-align: top;\n",
       "    }\n",
       "\n",
       "    .dataframe thead th {\n",
       "        text-align: right;\n",
       "    }\n",
       "</style>\n",
       "<table border=\"1\" class=\"dataframe\">\n",
       "  <thead>\n",
       "    <tr style=\"text-align: right;\">\n",
       "      <th></th>\n",
       "      <th>contract</th>\n",
       "      <th>satisfaction</th>\n",
       "      <th>months</th>\n",
       "    </tr>\n",
       "  </thead>\n",
       "  <tbody>\n",
       "    <tr>\n",
       "      <th>count</th>\n",
       "      <td>7043</td>\n",
       "      <td>7043</td>\n",
       "      <td>7043</td>\n",
       "    </tr>\n",
       "    <tr>\n",
       "      <th>unique</th>\n",
       "      <td>3</td>\n",
       "      <td>5</td>\n",
       "      <td>5</td>\n",
       "    </tr>\n",
       "    <tr>\n",
       "      <th>top</th>\n",
       "      <td>0</td>\n",
       "      <td>2</td>\n",
       "      <td>0</td>\n",
       "    </tr>\n",
       "    <tr>\n",
       "      <th>freq</th>\n",
       "      <td>3610</td>\n",
       "      <td>2665</td>\n",
       "      <td>2470</td>\n",
       "    </tr>\n",
       "  </tbody>\n",
       "</table>\n",
       "</div>"
      ],
      "text/plain": [
       "        contract  satisfaction  months\n",
       "count       7043          7043    7043\n",
       "unique         3             5       5\n",
       "top            0             2       0\n",
       "freq        3610          2665    2470"
      ]
     },
     "execution_count": 20,
     "metadata": {},
     "output_type": "execute_result"
    }
   ],
   "source": [
    "df[ordinal_variables].astype('category').describe()"
   ]
  },
  {
   "cell_type": "code",
   "execution_count": 21,
   "id": "0af4c10f",
   "metadata": {
    "execution": {
     "iopub.execute_input": "2022-07-05T06:31:13.949513Z",
     "iopub.status.busy": "2022-07-05T06:31:13.948819Z",
     "iopub.status.idle": "2022-07-05T06:31:13.983349Z",
     "shell.execute_reply": "2022-07-05T06:31:13.982611Z"
    },
    "papermill": {
     "duration": 0.054326,
     "end_time": "2022-07-05T06:31:13.985654",
     "exception": false,
     "start_time": "2022-07-05T06:31:13.931328",
     "status": "completed"
    },
    "tags": []
   },
   "outputs": [],
   "source": [
    "for column in binary_variables:\n",
    "    df[column] = lb.fit_transform(df[column])"
   ]
  },
  {
   "cell_type": "code",
   "execution_count": 22,
   "id": "0ba76860",
   "metadata": {
    "execution": {
     "iopub.execute_input": "2022-07-05T06:31:14.019313Z",
     "iopub.status.busy": "2022-07-05T06:31:14.018638Z",
     "iopub.status.idle": "2022-07-05T06:31:14.023068Z",
     "shell.execute_reply": "2022-07-05T06:31:14.022249Z"
    },
    "papermill": {
     "duration": 0.024199,
     "end_time": "2022-07-05T06:31:14.025468",
     "exception": false,
     "start_time": "2022-07-05T06:31:14.001269",
     "status": "completed"
    },
    "tags": []
   },
   "outputs": [],
   "source": [
    "categorical_variables = list(set(categorical_variables) - set(ordinal_variables))"
   ]
  },
  {
   "cell_type": "code",
   "execution_count": 23,
   "id": "b706833c",
   "metadata": {
    "execution": {
     "iopub.execute_input": "2022-07-05T06:31:14.060354Z",
     "iopub.status.busy": "2022-07-05T06:31:14.059725Z",
     "iopub.status.idle": "2022-07-05T06:31:14.067030Z",
     "shell.execute_reply": "2022-07-05T06:31:14.066261Z"
    },
    "papermill": {
     "duration": 0.026899,
     "end_time": "2022-07-05T06:31:14.069288",
     "exception": false,
     "start_time": "2022-07-05T06:31:14.042389",
     "status": "completed"
    },
    "tags": []
   },
   "outputs": [],
   "source": [
    "df = pd.get_dummies(df, columns = categorical_variables, drop_first=True)"
   ]
  },
  {
   "cell_type": "code",
   "execution_count": 24,
   "id": "1555da45",
   "metadata": {
    "execution": {
     "iopub.execute_input": "2022-07-05T06:31:14.104299Z",
     "iopub.status.busy": "2022-07-05T06:31:14.103584Z",
     "iopub.status.idle": "2022-07-05T06:31:14.194194Z",
     "shell.execute_reply": "2022-07-05T06:31:14.193222Z"
    },
    "papermill": {
     "duration": 0.113074,
     "end_time": "2022-07-05T06:31:14.198698",
     "exception": false,
     "start_time": "2022-07-05T06:31:14.085624",
     "status": "completed"
    },
    "tags": []
   },
   "outputs": [
    {
     "data": {
      "text/html": [
       "<div>\n",
       "<style scoped>\n",
       "    .dataframe tbody tr th:only-of-type {\n",
       "        vertical-align: middle;\n",
       "    }\n",
       "\n",
       "    .dataframe tbody tr th {\n",
       "        vertical-align: top;\n",
       "    }\n",
       "\n",
       "    .dataframe thead th {\n",
       "        text-align: right;\n",
       "    }\n",
       "</style>\n",
       "<table border=\"1\" class=\"dataframe\">\n",
       "  <thead>\n",
       "    <tr style=\"text-align: right;\">\n",
       "      <th></th>\n",
       "      <th>count</th>\n",
       "      <th>mean</th>\n",
       "      <th>std</th>\n",
       "      <th>min</th>\n",
       "      <th>25%</th>\n",
       "      <th>50%</th>\n",
       "      <th>75%</th>\n",
       "      <th>max</th>\n",
       "    </tr>\n",
       "  </thead>\n",
       "  <tbody>\n",
       "    <tr>\n",
       "      <th>months</th>\n",
       "      <td>7043.0</td>\n",
       "      <td>1.734204</td>\n",
       "      <td>1.592924</td>\n",
       "      <td>0.0</td>\n",
       "      <td>0.000000</td>\n",
       "      <td>1.000000</td>\n",
       "      <td>3.000000</td>\n",
       "      <td>4.0</td>\n",
       "    </tr>\n",
       "    <tr>\n",
       "      <th>multiple</th>\n",
       "      <td>7043.0</td>\n",
       "      <td>0.421837</td>\n",
       "      <td>0.493888</td>\n",
       "      <td>0.0</td>\n",
       "      <td>0.000000</td>\n",
       "      <td>0.000000</td>\n",
       "      <td>1.000000</td>\n",
       "      <td>1.0</td>\n",
       "    </tr>\n",
       "    <tr>\n",
       "      <th>gb_mon</th>\n",
       "      <td>7043.0</td>\n",
       "      <td>0.241358</td>\n",
       "      <td>0.240223</td>\n",
       "      <td>0.0</td>\n",
       "      <td>0.035294</td>\n",
       "      <td>0.200000</td>\n",
       "      <td>0.317647</td>\n",
       "      <td>1.0</td>\n",
       "    </tr>\n",
       "    <tr>\n",
       "      <th>security</th>\n",
       "      <td>7043.0</td>\n",
       "      <td>0.286668</td>\n",
       "      <td>0.452237</td>\n",
       "      <td>0.0</td>\n",
       "      <td>0.000000</td>\n",
       "      <td>0.000000</td>\n",
       "      <td>1.000000</td>\n",
       "      <td>1.0</td>\n",
       "    </tr>\n",
       "    <tr>\n",
       "      <th>backup</th>\n",
       "      <td>7043.0</td>\n",
       "      <td>0.344881</td>\n",
       "      <td>0.475363</td>\n",
       "      <td>0.0</td>\n",
       "      <td>0.000000</td>\n",
       "      <td>0.000000</td>\n",
       "      <td>1.000000</td>\n",
       "      <td>1.0</td>\n",
       "    </tr>\n",
       "    <tr>\n",
       "      <th>protection</th>\n",
       "      <td>7043.0</td>\n",
       "      <td>0.343888</td>\n",
       "      <td>0.475038</td>\n",
       "      <td>0.0</td>\n",
       "      <td>0.000000</td>\n",
       "      <td>0.000000</td>\n",
       "      <td>1.000000</td>\n",
       "      <td>1.0</td>\n",
       "    </tr>\n",
       "    <tr>\n",
       "      <th>support</th>\n",
       "      <td>7043.0</td>\n",
       "      <td>0.290217</td>\n",
       "      <td>0.453895</td>\n",
       "      <td>0.0</td>\n",
       "      <td>0.000000</td>\n",
       "      <td>0.000000</td>\n",
       "      <td>1.000000</td>\n",
       "      <td>1.0</td>\n",
       "    </tr>\n",
       "    <tr>\n",
       "      <th>unlimited</th>\n",
       "      <td>7043.0</td>\n",
       "      <td>0.673719</td>\n",
       "      <td>0.468885</td>\n",
       "      <td>0.0</td>\n",
       "      <td>0.000000</td>\n",
       "      <td>1.000000</td>\n",
       "      <td>1.000000</td>\n",
       "      <td>1.0</td>\n",
       "    </tr>\n",
       "    <tr>\n",
       "      <th>contract</th>\n",
       "      <td>7043.0</td>\n",
       "      <td>0.754792</td>\n",
       "      <td>0.848468</td>\n",
       "      <td>0.0</td>\n",
       "      <td>0.000000</td>\n",
       "      <td>0.000000</td>\n",
       "      <td>2.000000</td>\n",
       "      <td>2.0</td>\n",
       "    </tr>\n",
       "    <tr>\n",
       "      <th>paperless</th>\n",
       "      <td>7043.0</td>\n",
       "      <td>0.592219</td>\n",
       "      <td>0.491457</td>\n",
       "      <td>0.0</td>\n",
       "      <td>0.000000</td>\n",
       "      <td>1.000000</td>\n",
       "      <td>1.000000</td>\n",
       "      <td>1.0</td>\n",
       "    </tr>\n",
       "    <tr>\n",
       "      <th>monthly</th>\n",
       "      <td>7043.0</td>\n",
       "      <td>0.462803</td>\n",
       "      <td>0.299403</td>\n",
       "      <td>0.0</td>\n",
       "      <td>0.171642</td>\n",
       "      <td>0.518408</td>\n",
       "      <td>0.712438</td>\n",
       "      <td>1.0</td>\n",
       "    </tr>\n",
       "    <tr>\n",
       "      <th>satisfaction</th>\n",
       "      <td>7043.0</td>\n",
       "      <td>2.244924</td>\n",
       "      <td>1.201657</td>\n",
       "      <td>0.0</td>\n",
       "      <td>2.000000</td>\n",
       "      <td>2.000000</td>\n",
       "      <td>3.000000</td>\n",
       "      <td>4.0</td>\n",
       "    </tr>\n",
       "    <tr>\n",
       "      <th>churn_value</th>\n",
       "      <td>7043.0</td>\n",
       "      <td>0.265370</td>\n",
       "      <td>0.441561</td>\n",
       "      <td>0.0</td>\n",
       "      <td>0.000000</td>\n",
       "      <td>0.000000</td>\n",
       "      <td>1.000000</td>\n",
       "      <td>1.0</td>\n",
       "    </tr>\n",
       "    <tr>\n",
       "      <th>payment_Credit Card</th>\n",
       "      <td>7043.0</td>\n",
       "      <td>0.390317</td>\n",
       "      <td>0.487856</td>\n",
       "      <td>0.0</td>\n",
       "      <td>0.000000</td>\n",
       "      <td>0.000000</td>\n",
       "      <td>1.000000</td>\n",
       "      <td>1.0</td>\n",
       "    </tr>\n",
       "    <tr>\n",
       "      <th>payment_Mailed Check</th>\n",
       "      <td>7043.0</td>\n",
       "      <td>0.054664</td>\n",
       "      <td>0.227340</td>\n",
       "      <td>0.0</td>\n",
       "      <td>0.000000</td>\n",
       "      <td>0.000000</td>\n",
       "      <td>0.000000</td>\n",
       "      <td>1.0</td>\n",
       "    </tr>\n",
       "    <tr>\n",
       "      <th>internet_type_DSL</th>\n",
       "      <td>7043.0</td>\n",
       "      <td>0.234559</td>\n",
       "      <td>0.423753</td>\n",
       "      <td>0.0</td>\n",
       "      <td>0.000000</td>\n",
       "      <td>0.000000</td>\n",
       "      <td>0.000000</td>\n",
       "      <td>1.0</td>\n",
       "    </tr>\n",
       "    <tr>\n",
       "      <th>internet_type_Fiber Optic</th>\n",
       "      <td>7043.0</td>\n",
       "      <td>0.430924</td>\n",
       "      <td>0.495241</td>\n",
       "      <td>0.0</td>\n",
       "      <td>0.000000</td>\n",
       "      <td>0.000000</td>\n",
       "      <td>1.000000</td>\n",
       "      <td>1.0</td>\n",
       "    </tr>\n",
       "    <tr>\n",
       "      <th>internet_type_None</th>\n",
       "      <td>7043.0</td>\n",
       "      <td>0.216669</td>\n",
       "      <td>0.412004</td>\n",
       "      <td>0.0</td>\n",
       "      <td>0.000000</td>\n",
       "      <td>0.000000</td>\n",
       "      <td>0.000000</td>\n",
       "      <td>1.0</td>\n",
       "    </tr>\n",
       "    <tr>\n",
       "      <th>offer_Offer A</th>\n",
       "      <td>7043.0</td>\n",
       "      <td>0.073832</td>\n",
       "      <td>0.261516</td>\n",
       "      <td>0.0</td>\n",
       "      <td>0.000000</td>\n",
       "      <td>0.000000</td>\n",
       "      <td>0.000000</td>\n",
       "      <td>1.0</td>\n",
       "    </tr>\n",
       "    <tr>\n",
       "      <th>offer_Offer B</th>\n",
       "      <td>7043.0</td>\n",
       "      <td>0.116996</td>\n",
       "      <td>0.321438</td>\n",
       "      <td>0.0</td>\n",
       "      <td>0.000000</td>\n",
       "      <td>0.000000</td>\n",
       "      <td>0.000000</td>\n",
       "      <td>1.0</td>\n",
       "    </tr>\n",
       "    <tr>\n",
       "      <th>offer_Offer C</th>\n",
       "      <td>7043.0</td>\n",
       "      <td>0.058924</td>\n",
       "      <td>0.235499</td>\n",
       "      <td>0.0</td>\n",
       "      <td>0.000000</td>\n",
       "      <td>0.000000</td>\n",
       "      <td>0.000000</td>\n",
       "      <td>1.0</td>\n",
       "    </tr>\n",
       "    <tr>\n",
       "      <th>offer_Offer D</th>\n",
       "      <td>7043.0</td>\n",
       "      <td>0.085475</td>\n",
       "      <td>0.279607</td>\n",
       "      <td>0.0</td>\n",
       "      <td>0.000000</td>\n",
       "      <td>0.000000</td>\n",
       "      <td>0.000000</td>\n",
       "      <td>1.0</td>\n",
       "    </tr>\n",
       "    <tr>\n",
       "      <th>offer_Offer E</th>\n",
       "      <td>7043.0</td>\n",
       "      <td>0.114298</td>\n",
       "      <td>0.318195</td>\n",
       "      <td>0.0</td>\n",
       "      <td>0.000000</td>\n",
       "      <td>0.000000</td>\n",
       "      <td>0.000000</td>\n",
       "      <td>1.0</td>\n",
       "    </tr>\n",
       "  </tbody>\n",
       "</table>\n",
       "</div>"
      ],
      "text/plain": [
       "                            count      mean       std  min       25%  \\\n",
       "months                     7043.0  1.734204  1.592924  0.0  0.000000   \n",
       "multiple                   7043.0  0.421837  0.493888  0.0  0.000000   \n",
       "gb_mon                     7043.0  0.241358  0.240223  0.0  0.035294   \n",
       "security                   7043.0  0.286668  0.452237  0.0  0.000000   \n",
       "backup                     7043.0  0.344881  0.475363  0.0  0.000000   \n",
       "protection                 7043.0  0.343888  0.475038  0.0  0.000000   \n",
       "support                    7043.0  0.290217  0.453895  0.0  0.000000   \n",
       "unlimited                  7043.0  0.673719  0.468885  0.0  0.000000   \n",
       "contract                   7043.0  0.754792  0.848468  0.0  0.000000   \n",
       "paperless                  7043.0  0.592219  0.491457  0.0  0.000000   \n",
       "monthly                    7043.0  0.462803  0.299403  0.0  0.171642   \n",
       "satisfaction               7043.0  2.244924  1.201657  0.0  2.000000   \n",
       "churn_value                7043.0  0.265370  0.441561  0.0  0.000000   \n",
       "payment_Credit Card        7043.0  0.390317  0.487856  0.0  0.000000   \n",
       "payment_Mailed Check       7043.0  0.054664  0.227340  0.0  0.000000   \n",
       "internet_type_DSL          7043.0  0.234559  0.423753  0.0  0.000000   \n",
       "internet_type_Fiber Optic  7043.0  0.430924  0.495241  0.0  0.000000   \n",
       "internet_type_None         7043.0  0.216669  0.412004  0.0  0.000000   \n",
       "offer_Offer A              7043.0  0.073832  0.261516  0.0  0.000000   \n",
       "offer_Offer B              7043.0  0.116996  0.321438  0.0  0.000000   \n",
       "offer_Offer C              7043.0  0.058924  0.235499  0.0  0.000000   \n",
       "offer_Offer D              7043.0  0.085475  0.279607  0.0  0.000000   \n",
       "offer_Offer E              7043.0  0.114298  0.318195  0.0  0.000000   \n",
       "\n",
       "                                50%       75%  max  \n",
       "months                     1.000000  3.000000  4.0  \n",
       "multiple                   0.000000  1.000000  1.0  \n",
       "gb_mon                     0.200000  0.317647  1.0  \n",
       "security                   0.000000  1.000000  1.0  \n",
       "backup                     0.000000  1.000000  1.0  \n",
       "protection                 0.000000  1.000000  1.0  \n",
       "support                    0.000000  1.000000  1.0  \n",
       "unlimited                  1.000000  1.000000  1.0  \n",
       "contract                   0.000000  2.000000  2.0  \n",
       "paperless                  1.000000  1.000000  1.0  \n",
       "monthly                    0.518408  0.712438  1.0  \n",
       "satisfaction               2.000000  3.000000  4.0  \n",
       "churn_value                0.000000  1.000000  1.0  \n",
       "payment_Credit Card        0.000000  1.000000  1.0  \n",
       "payment_Mailed Check       0.000000  0.000000  1.0  \n",
       "internet_type_DSL          0.000000  0.000000  1.0  \n",
       "internet_type_Fiber Optic  0.000000  1.000000  1.0  \n",
       "internet_type_None         0.000000  0.000000  1.0  \n",
       "offer_Offer A              0.000000  0.000000  1.0  \n",
       "offer_Offer B              0.000000  0.000000  1.0  \n",
       "offer_Offer C              0.000000  0.000000  1.0  \n",
       "offer_Offer D              0.000000  0.000000  1.0  \n",
       "offer_Offer E              0.000000  0.000000  1.0  "
      ]
     },
     "execution_count": 24,
     "metadata": {},
     "output_type": "execute_result"
    }
   ],
   "source": [
    "df.describe().T"
   ]
  },
  {
   "cell_type": "code",
   "execution_count": 25,
   "id": "9e8356ac",
   "metadata": {
    "execution": {
     "iopub.execute_input": "2022-07-05T06:31:14.234878Z",
     "iopub.status.busy": "2022-07-05T06:31:14.234450Z",
     "iopub.status.idle": "2022-07-05T06:31:14.238901Z",
     "shell.execute_reply": "2022-07-05T06:31:14.237909Z"
    },
    "papermill": {
     "duration": 0.024572,
     "end_time": "2022-07-05T06:31:14.241160",
     "exception": false,
     "start_time": "2022-07-05T06:31:14.216588",
     "status": "completed"
    },
    "tags": []
   },
   "outputs": [],
   "source": [
    "from sklearn.preprocessing import MinMaxScaler\n",
    "mm = MinMaxScaler()"
   ]
  },
  {
   "cell_type": "code",
   "execution_count": 26,
   "id": "4dd4f4cc",
   "metadata": {
    "execution": {
     "iopub.execute_input": "2022-07-05T06:31:14.276423Z",
     "iopub.status.busy": "2022-07-05T06:31:14.275700Z",
     "iopub.status.idle": "2022-07-05T06:31:14.287384Z",
     "shell.execute_reply": "2022-07-05T06:31:14.286580Z"
    },
    "papermill": {
     "duration": 0.03213,
     "end_time": "2022-07-05T06:31:14.289742",
     "exception": false,
     "start_time": "2022-07-05T06:31:14.257612",
     "status": "completed"
    },
    "tags": []
   },
   "outputs": [],
   "source": [
    "for column in [ordinal_variables + numeric_variables]:\n",
    "    df[column] = mm.fit_transform(df[column])"
   ]
  },
  {
   "cell_type": "code",
   "execution_count": 27,
   "id": "f38e8b72",
   "metadata": {
    "execution": {
     "iopub.execute_input": "2022-07-05T06:31:14.325179Z",
     "iopub.status.busy": "2022-07-05T06:31:14.324452Z",
     "iopub.status.idle": "2022-07-05T06:31:14.415486Z",
     "shell.execute_reply": "2022-07-05T06:31:14.414463Z"
    },
    "papermill": {
     "duration": 0.111551,
     "end_time": "2022-07-05T06:31:14.418079",
     "exception": false,
     "start_time": "2022-07-05T06:31:14.306528",
     "status": "completed"
    },
    "tags": []
   },
   "outputs": [
    {
     "data": {
      "text/html": [
       "<div>\n",
       "<style scoped>\n",
       "    .dataframe tbody tr th:only-of-type {\n",
       "        vertical-align: middle;\n",
       "    }\n",
       "\n",
       "    .dataframe tbody tr th {\n",
       "        vertical-align: top;\n",
       "    }\n",
       "\n",
       "    .dataframe thead th {\n",
       "        text-align: right;\n",
       "    }\n",
       "</style>\n",
       "<table border=\"1\" class=\"dataframe\">\n",
       "  <thead>\n",
       "    <tr style=\"text-align: right;\">\n",
       "      <th></th>\n",
       "      <th>count</th>\n",
       "      <th>mean</th>\n",
       "      <th>std</th>\n",
       "      <th>min</th>\n",
       "      <th>25%</th>\n",
       "      <th>50%</th>\n",
       "      <th>75%</th>\n",
       "      <th>max</th>\n",
       "    </tr>\n",
       "  </thead>\n",
       "  <tbody>\n",
       "    <tr>\n",
       "      <th>months</th>\n",
       "      <td>7043.0</td>\n",
       "      <td>0.434</td>\n",
       "      <td>0.398</td>\n",
       "      <td>0.0</td>\n",
       "      <td>0.000</td>\n",
       "      <td>0.250</td>\n",
       "      <td>0.750</td>\n",
       "      <td>1.0</td>\n",
       "    </tr>\n",
       "    <tr>\n",
       "      <th>multiple</th>\n",
       "      <td>7043.0</td>\n",
       "      <td>0.422</td>\n",
       "      <td>0.494</td>\n",
       "      <td>0.0</td>\n",
       "      <td>0.000</td>\n",
       "      <td>0.000</td>\n",
       "      <td>1.000</td>\n",
       "      <td>1.0</td>\n",
       "    </tr>\n",
       "    <tr>\n",
       "      <th>gb_mon</th>\n",
       "      <td>7043.0</td>\n",
       "      <td>0.241</td>\n",
       "      <td>0.240</td>\n",
       "      <td>0.0</td>\n",
       "      <td>0.035</td>\n",
       "      <td>0.200</td>\n",
       "      <td>0.318</td>\n",
       "      <td>1.0</td>\n",
       "    </tr>\n",
       "    <tr>\n",
       "      <th>security</th>\n",
       "      <td>7043.0</td>\n",
       "      <td>0.287</td>\n",
       "      <td>0.452</td>\n",
       "      <td>0.0</td>\n",
       "      <td>0.000</td>\n",
       "      <td>0.000</td>\n",
       "      <td>1.000</td>\n",
       "      <td>1.0</td>\n",
       "    </tr>\n",
       "    <tr>\n",
       "      <th>backup</th>\n",
       "      <td>7043.0</td>\n",
       "      <td>0.345</td>\n",
       "      <td>0.475</td>\n",
       "      <td>0.0</td>\n",
       "      <td>0.000</td>\n",
       "      <td>0.000</td>\n",
       "      <td>1.000</td>\n",
       "      <td>1.0</td>\n",
       "    </tr>\n",
       "    <tr>\n",
       "      <th>protection</th>\n",
       "      <td>7043.0</td>\n",
       "      <td>0.344</td>\n",
       "      <td>0.475</td>\n",
       "      <td>0.0</td>\n",
       "      <td>0.000</td>\n",
       "      <td>0.000</td>\n",
       "      <td>1.000</td>\n",
       "      <td>1.0</td>\n",
       "    </tr>\n",
       "    <tr>\n",
       "      <th>support</th>\n",
       "      <td>7043.0</td>\n",
       "      <td>0.290</td>\n",
       "      <td>0.454</td>\n",
       "      <td>0.0</td>\n",
       "      <td>0.000</td>\n",
       "      <td>0.000</td>\n",
       "      <td>1.000</td>\n",
       "      <td>1.0</td>\n",
       "    </tr>\n",
       "    <tr>\n",
       "      <th>unlimited</th>\n",
       "      <td>7043.0</td>\n",
       "      <td>0.674</td>\n",
       "      <td>0.469</td>\n",
       "      <td>0.0</td>\n",
       "      <td>0.000</td>\n",
       "      <td>1.000</td>\n",
       "      <td>1.000</td>\n",
       "      <td>1.0</td>\n",
       "    </tr>\n",
       "    <tr>\n",
       "      <th>contract</th>\n",
       "      <td>7043.0</td>\n",
       "      <td>0.377</td>\n",
       "      <td>0.424</td>\n",
       "      <td>0.0</td>\n",
       "      <td>0.000</td>\n",
       "      <td>0.000</td>\n",
       "      <td>1.000</td>\n",
       "      <td>1.0</td>\n",
       "    </tr>\n",
       "    <tr>\n",
       "      <th>paperless</th>\n",
       "      <td>7043.0</td>\n",
       "      <td>0.592</td>\n",
       "      <td>0.491</td>\n",
       "      <td>0.0</td>\n",
       "      <td>0.000</td>\n",
       "      <td>1.000</td>\n",
       "      <td>1.000</td>\n",
       "      <td>1.0</td>\n",
       "    </tr>\n",
       "    <tr>\n",
       "      <th>monthly</th>\n",
       "      <td>7043.0</td>\n",
       "      <td>0.463</td>\n",
       "      <td>0.299</td>\n",
       "      <td>0.0</td>\n",
       "      <td>0.172</td>\n",
       "      <td>0.518</td>\n",
       "      <td>0.712</td>\n",
       "      <td>1.0</td>\n",
       "    </tr>\n",
       "    <tr>\n",
       "      <th>satisfaction</th>\n",
       "      <td>7043.0</td>\n",
       "      <td>0.561</td>\n",
       "      <td>0.300</td>\n",
       "      <td>0.0</td>\n",
       "      <td>0.500</td>\n",
       "      <td>0.500</td>\n",
       "      <td>0.750</td>\n",
       "      <td>1.0</td>\n",
       "    </tr>\n",
       "    <tr>\n",
       "      <th>churn_value</th>\n",
       "      <td>7043.0</td>\n",
       "      <td>0.265</td>\n",
       "      <td>0.442</td>\n",
       "      <td>0.0</td>\n",
       "      <td>0.000</td>\n",
       "      <td>0.000</td>\n",
       "      <td>1.000</td>\n",
       "      <td>1.0</td>\n",
       "    </tr>\n",
       "    <tr>\n",
       "      <th>payment_Credit Card</th>\n",
       "      <td>7043.0</td>\n",
       "      <td>0.390</td>\n",
       "      <td>0.488</td>\n",
       "      <td>0.0</td>\n",
       "      <td>0.000</td>\n",
       "      <td>0.000</td>\n",
       "      <td>1.000</td>\n",
       "      <td>1.0</td>\n",
       "    </tr>\n",
       "    <tr>\n",
       "      <th>payment_Mailed Check</th>\n",
       "      <td>7043.0</td>\n",
       "      <td>0.055</td>\n",
       "      <td>0.227</td>\n",
       "      <td>0.0</td>\n",
       "      <td>0.000</td>\n",
       "      <td>0.000</td>\n",
       "      <td>0.000</td>\n",
       "      <td>1.0</td>\n",
       "    </tr>\n",
       "    <tr>\n",
       "      <th>internet_type_DSL</th>\n",
       "      <td>7043.0</td>\n",
       "      <td>0.235</td>\n",
       "      <td>0.424</td>\n",
       "      <td>0.0</td>\n",
       "      <td>0.000</td>\n",
       "      <td>0.000</td>\n",
       "      <td>0.000</td>\n",
       "      <td>1.0</td>\n",
       "    </tr>\n",
       "    <tr>\n",
       "      <th>internet_type_Fiber Optic</th>\n",
       "      <td>7043.0</td>\n",
       "      <td>0.431</td>\n",
       "      <td>0.495</td>\n",
       "      <td>0.0</td>\n",
       "      <td>0.000</td>\n",
       "      <td>0.000</td>\n",
       "      <td>1.000</td>\n",
       "      <td>1.0</td>\n",
       "    </tr>\n",
       "    <tr>\n",
       "      <th>internet_type_None</th>\n",
       "      <td>7043.0</td>\n",
       "      <td>0.217</td>\n",
       "      <td>0.412</td>\n",
       "      <td>0.0</td>\n",
       "      <td>0.000</td>\n",
       "      <td>0.000</td>\n",
       "      <td>0.000</td>\n",
       "      <td>1.0</td>\n",
       "    </tr>\n",
       "    <tr>\n",
       "      <th>offer_Offer A</th>\n",
       "      <td>7043.0</td>\n",
       "      <td>0.074</td>\n",
       "      <td>0.262</td>\n",
       "      <td>0.0</td>\n",
       "      <td>0.000</td>\n",
       "      <td>0.000</td>\n",
       "      <td>0.000</td>\n",
       "      <td>1.0</td>\n",
       "    </tr>\n",
       "    <tr>\n",
       "      <th>offer_Offer B</th>\n",
       "      <td>7043.0</td>\n",
       "      <td>0.117</td>\n",
       "      <td>0.321</td>\n",
       "      <td>0.0</td>\n",
       "      <td>0.000</td>\n",
       "      <td>0.000</td>\n",
       "      <td>0.000</td>\n",
       "      <td>1.0</td>\n",
       "    </tr>\n",
       "    <tr>\n",
       "      <th>offer_Offer C</th>\n",
       "      <td>7043.0</td>\n",
       "      <td>0.059</td>\n",
       "      <td>0.235</td>\n",
       "      <td>0.0</td>\n",
       "      <td>0.000</td>\n",
       "      <td>0.000</td>\n",
       "      <td>0.000</td>\n",
       "      <td>1.0</td>\n",
       "    </tr>\n",
       "    <tr>\n",
       "      <th>offer_Offer D</th>\n",
       "      <td>7043.0</td>\n",
       "      <td>0.085</td>\n",
       "      <td>0.280</td>\n",
       "      <td>0.0</td>\n",
       "      <td>0.000</td>\n",
       "      <td>0.000</td>\n",
       "      <td>0.000</td>\n",
       "      <td>1.0</td>\n",
       "    </tr>\n",
       "    <tr>\n",
       "      <th>offer_Offer E</th>\n",
       "      <td>7043.0</td>\n",
       "      <td>0.114</td>\n",
       "      <td>0.318</td>\n",
       "      <td>0.0</td>\n",
       "      <td>0.000</td>\n",
       "      <td>0.000</td>\n",
       "      <td>0.000</td>\n",
       "      <td>1.0</td>\n",
       "    </tr>\n",
       "  </tbody>\n",
       "</table>\n",
       "</div>"
      ],
      "text/plain": [
       "                            count   mean    std  min    25%    50%    75%  max\n",
       "months                     7043.0  0.434  0.398  0.0  0.000  0.250  0.750  1.0\n",
       "multiple                   7043.0  0.422  0.494  0.0  0.000  0.000  1.000  1.0\n",
       "gb_mon                     7043.0  0.241  0.240  0.0  0.035  0.200  0.318  1.0\n",
       "security                   7043.0  0.287  0.452  0.0  0.000  0.000  1.000  1.0\n",
       "backup                     7043.0  0.345  0.475  0.0  0.000  0.000  1.000  1.0\n",
       "protection                 7043.0  0.344  0.475  0.0  0.000  0.000  1.000  1.0\n",
       "support                    7043.0  0.290  0.454  0.0  0.000  0.000  1.000  1.0\n",
       "unlimited                  7043.0  0.674  0.469  0.0  0.000  1.000  1.000  1.0\n",
       "contract                   7043.0  0.377  0.424  0.0  0.000  0.000  1.000  1.0\n",
       "paperless                  7043.0  0.592  0.491  0.0  0.000  1.000  1.000  1.0\n",
       "monthly                    7043.0  0.463  0.299  0.0  0.172  0.518  0.712  1.0\n",
       "satisfaction               7043.0  0.561  0.300  0.0  0.500  0.500  0.750  1.0\n",
       "churn_value                7043.0  0.265  0.442  0.0  0.000  0.000  1.000  1.0\n",
       "payment_Credit Card        7043.0  0.390  0.488  0.0  0.000  0.000  1.000  1.0\n",
       "payment_Mailed Check       7043.0  0.055  0.227  0.0  0.000  0.000  0.000  1.0\n",
       "internet_type_DSL          7043.0  0.235  0.424  0.0  0.000  0.000  0.000  1.0\n",
       "internet_type_Fiber Optic  7043.0  0.431  0.495  0.0  0.000  0.000  1.000  1.0\n",
       "internet_type_None         7043.0  0.217  0.412  0.0  0.000  0.000  0.000  1.0\n",
       "offer_Offer A              7043.0  0.074  0.262  0.0  0.000  0.000  0.000  1.0\n",
       "offer_Offer B              7043.0  0.117  0.321  0.0  0.000  0.000  0.000  1.0\n",
       "offer_Offer C              7043.0  0.059  0.235  0.0  0.000  0.000  0.000  1.0\n",
       "offer_Offer D              7043.0  0.085  0.280  0.0  0.000  0.000  0.000  1.0\n",
       "offer_Offer E              7043.0  0.114  0.318  0.0  0.000  0.000  0.000  1.0"
      ]
     },
     "execution_count": 27,
     "metadata": {},
     "output_type": "execute_result"
    }
   ],
   "source": [
    "round(df.describe().T, 3)"
   ]
  },
  {
   "cell_type": "code",
   "execution_count": 28,
   "id": "51d32dcb",
   "metadata": {
    "execution": {
     "iopub.execute_input": "2022-07-05T06:31:14.453652Z",
     "iopub.status.busy": "2022-07-05T06:31:14.453000Z",
     "iopub.status.idle": "2022-07-05T06:31:14.540225Z",
     "shell.execute_reply": "2022-07-05T06:31:14.539229Z"
    },
    "papermill": {
     "duration": 0.108001,
     "end_time": "2022-07-05T06:31:14.542758",
     "exception": false,
     "start_time": "2022-07-05T06:31:14.434757",
     "status": "completed"
    },
    "tags": []
   },
   "outputs": [],
   "source": [
    "### END SOLUTION\n",
    "\n",
    "# Save a copy of the processed data for later use\n",
    "outputfile = 'churndata_processed.csv'\n",
    "df.to_csv(outputfile, index=False)"
   ]
  },
  {
   "cell_type": "markdown",
   "id": "f920c178",
   "metadata": {
    "papermill": {
     "duration": 0.016747,
     "end_time": "2022-07-05T06:31:14.576017",
     "exception": false,
     "start_time": "2022-07-05T06:31:14.559270",
     "status": "completed"
    },
    "tags": []
   },
   "source": [
    "## Question 4\n",
    "\n",
    "*   Now that the data are encoded and scaled, separate the features (X) from the target (y, churn_value).\n",
    "*   Split the sample into training and test samples, with the test sample representing 40% of observations.\n",
    "*   Estimate a K-Nearest Neighbors model, using K=3.\n",
    "*   Examine the Precision, Recall, F-1 Score, and Accuracy of the classification.\n",
    "*   Use a graphic to illustrate the Confusion Matrix.\n"
   ]
  },
  {
   "cell_type": "code",
   "execution_count": 29,
   "id": "abd3b43c",
   "metadata": {
    "execution": {
     "iopub.execute_input": "2022-07-05T06:31:14.612134Z",
     "iopub.status.busy": "2022-07-05T06:31:14.611294Z",
     "iopub.status.idle": "2022-07-05T06:31:14.792608Z",
     "shell.execute_reply": "2022-07-05T06:31:14.791603Z"
    },
    "papermill": {
     "duration": 0.202265,
     "end_time": "2022-07-05T06:31:14.795236",
     "exception": false,
     "start_time": "2022-07-05T06:31:14.592971",
     "status": "completed"
    },
    "tags": []
   },
   "outputs": [],
   "source": [
    "### BEGIN SOLUTION\n",
    "from sklearn.model_selection import train_test_split\n",
    "from sklearn.neighbors import KNeighborsClassifier\n",
    "from sklearn.metrics import confusion_matrix, accuracy_score, classification_report, f1_score"
   ]
  },
  {
   "cell_type": "code",
   "execution_count": 30,
   "id": "56f06e0a",
   "metadata": {
    "execution": {
     "iopub.execute_input": "2022-07-05T06:31:14.830974Z",
     "iopub.status.busy": "2022-07-05T06:31:14.830047Z",
     "iopub.status.idle": "2022-07-05T06:31:14.841728Z",
     "shell.execute_reply": "2022-07-05T06:31:14.840827Z"
    },
    "papermill": {
     "duration": 0.031678,
     "end_time": "2022-07-05T06:31:14.843839",
     "exception": false,
     "start_time": "2022-07-05T06:31:14.812161",
     "status": "completed"
    },
    "tags": []
   },
   "outputs": [],
   "source": [
    "# Set up X and y variables\n",
    "y, X = df['churn_value'], df.drop(columns='churn_value')\n",
    "# Split the data into training and test samples\n",
    "X_train, X_test, y_train, y_test = train_test_split(X, y, test_size=0.4, random_state=42)"
   ]
  },
  {
   "cell_type": "code",
   "execution_count": 31,
   "id": "d5ce6762",
   "metadata": {
    "execution": {
     "iopub.execute_input": "2022-07-05T06:31:14.878400Z",
     "iopub.status.busy": "2022-07-05T06:31:14.877802Z",
     "iopub.status.idle": "2022-07-05T06:31:15.248013Z",
     "shell.execute_reply": "2022-07-05T06:31:15.246445Z"
    },
    "papermill": {
     "duration": 0.39115,
     "end_time": "2022-07-05T06:31:15.251202",
     "exception": false,
     "start_time": "2022-07-05T06:31:14.860052",
     "status": "completed"
    },
    "tags": []
   },
   "outputs": [
    {
     "name": "stdout",
     "output_type": "stream",
     "text": [
      "              precision    recall  f1-score   support\n",
      "\n",
      "           0       0.90      0.92      0.91      2048\n",
      "           1       0.77      0.72      0.74       770\n",
      "\n",
      "    accuracy                           0.86      2818\n",
      "   macro avg       0.83      0.82      0.82      2818\n",
      "weighted avg       0.86      0.86      0.86      2818\n",
      "\n",
      "Accuracy score:  0.86\n",
      "F1 Score:  0.74\n"
     ]
    }
   ],
   "source": [
    "# Estimate KNN model and report outcomes\n",
    "knn = KNeighborsClassifier(n_neighbors=3)\n",
    "knn = knn.fit(X_train, y_train)\n",
    "y_pred = knn.predict(X_test)\n",
    "# Preciision, recall, f-score from the multi-class support function\n",
    "print(classification_report(y_test, y_pred))\n",
    "print('Accuracy score: ', round(accuracy_score(y_test, y_pred), 2))\n",
    "print('F1 Score: ', round(f1_score(y_test, y_pred), 2))"
   ]
  },
  {
   "cell_type": "code",
   "execution_count": 32,
   "id": "7e72c313",
   "metadata": {
    "execution": {
     "iopub.execute_input": "2022-07-05T06:31:15.289153Z",
     "iopub.status.busy": "2022-07-05T06:31:15.288404Z",
     "iopub.status.idle": "2022-07-05T06:31:15.292658Z",
     "shell.execute_reply": "2022-07-05T06:31:15.291848Z"
    },
    "papermill": {
     "duration": 0.02523,
     "end_time": "2022-07-05T06:31:15.294855",
     "exception": false,
     "start_time": "2022-07-05T06:31:15.269625",
     "status": "completed"
    },
    "tags": []
   },
   "outputs": [],
   "source": [
    "from sklearn.metrics import ConfusionMatrixDisplay"
   ]
  },
  {
   "cell_type": "code",
   "execution_count": 33,
   "id": "ea25c9c7",
   "metadata": {
    "execution": {
     "iopub.execute_input": "2022-07-05T06:31:15.331176Z",
     "iopub.status.busy": "2022-07-05T06:31:15.330162Z",
     "iopub.status.idle": "2022-07-05T06:31:15.584306Z",
     "shell.execute_reply": "2022-07-05T06:31:15.583396Z"
    },
    "papermill": {
     "duration": 0.275051,
     "end_time": "2022-07-05T06:31:15.586563",
     "exception": false,
     "start_time": "2022-07-05T06:31:15.311512",
     "status": "completed"
    },
    "tags": []
   },
   "outputs": [
    {
     "data": {
      "text/plain": [
       "<sklearn.metrics._plot.confusion_matrix.ConfusionMatrixDisplay at 0x7fb4f9f469d0>"
      ]
     },
     "execution_count": 33,
     "metadata": {},
     "output_type": "execute_result"
    },
    {
     "data": {
      "image/png": "[encoded data removed]",
      "text/plain": [
       "<Figure size 432x288 with 2 Axes>"
      ]
     },
     "metadata": {
      "needs_background": "light"
     },
     "output_type": "display_data"
    }
   ],
   "source": [
    "# Plot confusion matrix\n",
    "cm = confusion_matrix(y_test, y_pred)\n",
    "disp = ConfusionMatrixDisplay(confusion_matrix=cm, display_labels=knn.classes_)\n",
    "disp.plot()\n",
    "### END SOLUTION"
   ]
  },
  {
   "cell_type": "markdown",
   "id": "2a66e391",
   "metadata": {
    "papermill": {
     "duration": 0.017014,
     "end_time": "2022-07-05T06:31:15.620681",
     "exception": false,
     "start_time": "2022-07-05T06:31:15.603667",
     "status": "completed"
    },
    "tags": []
   },
   "source": [
    "## Question 5\n",
    "\n",
    "*   Using the same split of training and test samples, estimate another K-Nearest Neighbors model.\n",
    "*   This time, use K=5 and weight the results by distance.\n",
    "*   Again, examine the Precision, Recall, F-1 Score, and Accuracy of the classification, and visualize the Confusion Matrix.\n"
   ]
  },
  {
   "cell_type": "code",
   "execution_count": 34,
   "id": "a72fc117",
   "metadata": {
    "execution": {
     "iopub.execute_input": "2022-07-05T06:31:15.657628Z",
     "iopub.status.busy": "2022-07-05T06:31:15.656526Z",
     "iopub.status.idle": "2022-07-05T06:31:15.993737Z",
     "shell.execute_reply": "2022-07-05T06:31:15.992268Z"
    },
    "papermill": {
     "duration": 0.358265,
     "end_time": "2022-07-05T06:31:15.996529",
     "exception": false,
     "start_time": "2022-07-05T06:31:15.638264",
     "status": "completed"
    },
    "tags": []
   },
   "outputs": [
    {
     "name": "stdout",
     "output_type": "stream",
     "text": [
      "              precision    recall  f1-score   support\n",
      "\n",
      "           0       0.91      0.92      0.91      2048\n",
      "           1       0.78      0.74      0.76       770\n",
      "\n",
      "    accuracy                           0.87      2818\n",
      "   macro avg       0.84      0.83      0.84      2818\n",
      "weighted avg       0.87      0.87      0.87      2818\n",
      "\n",
      "Accuracy score:  0.87\n",
      "F1 Score:  0.76\n"
     ]
    }
   ],
   "source": [
    "### BEGIN SOLUTION\n",
    "knn = KNeighborsClassifier(n_neighbors=5, weights='distance')\n",
    "knn = knn.fit(X_train, y_train)\n",
    "y_pred = knn.predict(X_test)\n",
    "# Preciision, recall, f-score from the multi-class support function\n",
    "print(classification_report(y_test, y_pred))\n",
    "print('Accuracy score: ', round(accuracy_score(y_test, y_pred), 2))\n",
    "print('F1 Score: ', round(f1_score(y_test, y_pred), 2))"
   ]
  },
  {
   "cell_type": "code",
   "execution_count": 35,
   "id": "ff85fb78",
   "metadata": {
    "execution": {
     "iopub.execute_input": "2022-07-05T06:31:16.033968Z",
     "iopub.status.busy": "2022-07-05T06:31:16.033170Z",
     "iopub.status.idle": "2022-07-05T06:31:16.281040Z",
     "shell.execute_reply": "2022-07-05T06:31:16.280024Z"
    },
    "papermill": {
     "duration": 0.269294,
     "end_time": "2022-07-05T06:31:16.283356",
     "exception": false,
     "start_time": "2022-07-05T06:31:16.014062",
     "status": "completed"
    },
    "tags": []
   },
   "outputs": [
    {
     "data": {
      "text/plain": [
       "<sklearn.metrics._plot.confusion_matrix.ConfusionMatrixDisplay at 0x7fb4fa5f53d0>"
      ]
     },
     "execution_count": 35,
     "metadata": {},
     "output_type": "execute_result"
    },
    {
     "data": {
      "image/png": "[encoded data removed]",
      "text/plain": [
       "<Figure size 432x288 with 2 Axes>"
      ]
     },
     "metadata": {
      "needs_background": "light"
     },
     "output_type": "display_data"
    }
   ],
   "source": [
    "# Plot confusion matrix\n",
    "cm = confusion_matrix(y_test, y_pred)\n",
    "disp = ConfusionMatrixDisplay(confusion_matrix=cm, display_labels=knn.classes_)\n",
    "disp.plot()\n",
    "### END SOLUTION"
   ]
  },
  {
   "cell_type": "markdown",
   "id": "4dbb7dce",
   "metadata": {
    "papermill": {
     "duration": 0.017529,
     "end_time": "2022-07-05T06:31:16.318598",
     "exception": false,
     "start_time": "2022-07-05T06:31:16.301069",
     "status": "completed"
    },
    "tags": []
   },
   "source": [
    "## Question 6\n",
    "\n",
    "*   To determine the right value for K, examine results for values of K from 1 to 40.\n",
    "*   This time, focus on two measures, the F-1 Score, and the Error Rate (1-Accuracy).\n",
    "*   Generate charts which plot each of these measures as a function of K.\n",
    "*   What do these charts suggest about the optimal value for K?\n"
   ]
  },
  {
   "cell_type": "code",
   "execution_count": 36,
   "id": "b7469742",
   "metadata": {
    "execution": {
     "iopub.execute_input": "2022-07-05T06:31:16.357072Z",
     "iopub.status.busy": "2022-07-05T06:31:16.356275Z",
     "iopub.status.idle": "2022-07-05T06:31:29.068496Z",
     "shell.execute_reply": "2022-07-05T06:31:29.067385Z"
    },
    "papermill": {
     "duration": 12.734833,
     "end_time": "2022-07-05T06:31:29.071243",
     "exception": false,
     "start_time": "2022-07-05T06:31:16.336410",
     "status": "completed"
    },
    "tags": []
   },
   "outputs": [],
   "source": [
    "### BEGIN SOLUTION\n",
    "max_k = 40\n",
    "f1_scores = list()\n",
    "error_rates = list() # 1-accuracy\n",
    "\n",
    "for k in range(1, max_k):\n",
    "    \n",
    "    knn = KNeighborsClassifier(n_neighbors=k, weights='distance')\n",
    "    knn = knn.fit(X_train, y_train)\n",
    "    \n",
    "    y_pred = knn.predict(X_test)\n",
    "    f1 = f1_score(y_pred, y_test)\n",
    "    f1_scores.append((k, round(f1_score(y_test, y_pred), 4)))\n",
    "    error = 1-round(accuracy_score(y_test, y_pred), 4)\n",
    "    error_rates.append((k, error))\n",
    "    \n",
    "f1_results = pd.DataFrame(f1_scores, columns=['K', 'F1 Score'])\n",
    "error_results = pd.DataFrame(error_rates, columns=['K', 'Error Rate'])"
   ]
  },
  {
   "cell_type": "code",
   "execution_count": 37,
   "id": "5f01ea92",
   "metadata": {
    "execution": {
     "iopub.execute_input": "2022-07-05T06:31:29.108991Z",
     "iopub.status.busy": "2022-07-05T06:31:29.108231Z",
     "iopub.status.idle": "2022-07-05T06:31:29.560631Z",
     "shell.execute_reply": "2022-07-05T06:31:29.559456Z"
    },
    "papermill": {
     "duration": 0.473874,
     "end_time": "2022-07-05T06:31:29.562973",
     "exception": false,
     "start_time": "2022-07-05T06:31:29.089099",
     "status": "completed"
    },
    "tags": []
   },
   "outputs": [
    {
     "data": {
      "text/plain": [
       "<Figure size 1800x1200 with 0 Axes>"
      ]
     },
     "metadata": {},
     "output_type": "display_data"
    },
    {
     "data": {
      "image/png": "[encoded data removed]",
      "text/plain": [
       "<Figure size 864x864 with 1 Axes>"
      ]
     },
     "metadata": {},
     "output_type": "display_data"
    }
   ],
   "source": [
    "# Plot F1 results\n",
    "sns.set_context('talk')\n",
    "sns.set_style('ticks')\n",
    "\n",
    "plt.figure(dpi=300)\n",
    "ax = f1_results.set_index('K').plot(figsize=(12, 12), linewidth=6)\n",
    "ax.set(xlabel='K', ylabel='F1 Score')\n",
    "ax.set_xticks(range(1, max_k, 2));\n",
    "plt.title('KNN F1 Score')\n",
    "plt.savefig('knn_f1.png')"
   ]
  },
  {
   "cell_type": "code",
   "execution_count": 38,
   "id": "80b12984",
   "metadata": {
    "execution": {
     "iopub.execute_input": "2022-07-05T06:31:29.603340Z",
     "iopub.status.busy": "2022-07-05T06:31:29.602419Z",
     "iopub.status.idle": "2022-07-05T06:31:29.993247Z",
     "shell.execute_reply": "2022-07-05T06:31:29.992266Z"
    },
    "papermill": {
     "duration": 0.413557,
     "end_time": "2022-07-05T06:31:29.996085",
     "exception": false,
     "start_time": "2022-07-05T06:31:29.582528",
     "status": "completed"
    },
    "tags": []
   },
   "outputs": [
    {
     "data": {
      "text/plain": [
       "<Figure size 1800x1200 with 0 Axes>"
      ]
     },
     "metadata": {},
     "output_type": "display_data"
    },
    {
     "data": {
      "image/png": "[encoded data removed]",
      "text/plain": [
       "<Figure size 864x864 with 1 Axes>"
      ]
     },
     "metadata": {},
     "output_type": "display_data"
    }
   ],
   "source": [
    "# Plot Accuracy (Error Rate) results\n",
    "sns.set_context('talk')\n",
    "sns.set_style('ticks')\n",
    "\n",
    "plt.figure(dpi=300)\n",
    "ax = error_results.set_index('K').plot(figsize=(12, 12), linewidth=6)\n",
    "ax.set(xlabel='K', ylabel='Error Rate')\n",
    "ax.set_xticks(range(1, max_k, 2))\n",
    "plt.title('KNN Elbow Curve')\n",
    "plt.savefig('knn_elbow.png')\n",
    "### END SOLUTION"
   ]
  },
  {
   "cell_type": "code",
   "execution_count": 39,
   "id": "ae67c070",
   "metadata": {
    "execution": {
     "iopub.execute_input": "2022-07-05T06:31:30.037399Z",
     "iopub.status.busy": "2022-07-05T06:31:30.036978Z",
     "iopub.status.idle": "2022-07-05T06:31:30.385259Z",
     "shell.execute_reply": "2022-07-05T06:31:30.383986Z"
    },
    "papermill": {
     "duration": 0.372764,
     "end_time": "2022-07-05T06:31:30.388228",
     "exception": false,
     "start_time": "2022-07-05T06:31:30.015464",
     "status": "completed"
    },
    "tags": []
   },
   "outputs": [
    {
     "name": "stdout",
     "output_type": "stream",
     "text": [
      "              precision    recall  f1-score   support\n",
      "\n",
      "           0       0.91      0.94      0.93      2048\n",
      "           1       0.84      0.76      0.79       770\n",
      "\n",
      "    accuracy                           0.89      2818\n",
      "   macro avg       0.87      0.85      0.86      2818\n",
      "weighted avg       0.89      0.89      0.89      2818\n",
      "\n",
      "Accuracy score:  0.89\n",
      "F1 Score:  0.79\n"
     ]
    }
   ],
   "source": [
    "## Best K = 21\n",
    "### BEGIN SOLUTION\n",
    "knn = KNeighborsClassifier(n_neighbors=21, weights='distance')\n",
    "knn = knn.fit(X_train, y_train)\n",
    "y_pred = knn.predict(X_test)\n",
    "# Preciision, recall, f-score from the multi-class support function\n",
    "print(classification_report(y_test, y_pred))\n",
    "print('Accuracy score: ', round(accuracy_score(y_test, y_pred), 2))\n",
    "print('F1 Score: ', round(f1_score(y_test, y_pred), 2))"
   ]
  },
  {
   "cell_type": "code",
   "execution_count": 40,
   "id": "e7396d53",
   "metadata": {
    "execution": {
     "iopub.execute_input": "2022-07-05T06:31:30.431825Z",
     "iopub.status.busy": "2022-07-05T06:31:30.430930Z",
     "iopub.status.idle": "2022-07-05T06:31:30.653750Z",
     "shell.execute_reply": "2022-07-05T06:31:30.652706Z"
    },
    "papermill": {
     "duration": 0.24739,
     "end_time": "2022-07-05T06:31:30.656164",
     "exception": false,
     "start_time": "2022-07-05T06:31:30.408774",
     "status": "completed"
    },
    "tags": []
   },
   "outputs": [
    {
     "data": {
      "text/plain": [
       "<sklearn.metrics._plot.confusion_matrix.ConfusionMatrixDisplay at 0x7fb4f9cfc310>"
      ]
     },
     "execution_count": 40,
     "metadata": {},
     "output_type": "execute_result"
    },
    {
     "data": {
      "image/png": "[encoded data removed]",
      "text/plain": [
       "<Figure size 432x288 with 2 Axes>"
      ]
     },
     "metadata": {},
     "output_type": "display_data"
    }
   ],
   "source": [
    "# Plot confusion matrix\n",
    "cm = confusion_matrix(y_test, y_pred)\n",
    "disp = ConfusionMatrixDisplay(confusion_matrix=cm, display_labels=knn.classes_)\n",
    "disp.plot()\n",
    "### END SOLUTION"
   ]
  },
  {
   "cell_type": "markdown",
   "id": "43ca7fd6",
   "metadata": {
    "papermill": {
     "duration": 0.020103,
     "end_time": "2022-07-05T06:31:30.696576",
     "exception": false,
     "start_time": "2022-07-05T06:31:30.676473",
     "status": "completed"
    },
    "tags": []
   },
   "source": [
    "***\n",
    "\n",
    "### Machine Learning Foundation (C) 2020 IBM Corporation\n"
   ]
  }
 ],
 "metadata": {
  "kernelspec": {
   "display_name": "Python 3",
   "language": "python",
   "name": "python3"
  },
  "language_info": {
   "codemirror_mode": {
    "name": "ipython",
    "version": 3
   },
   "file_extension": ".py",
   "mimetype": "text/x-python",
   "name": "python",
   "nbconvert_exporter": "python",
   "pygments_lexer": "ipython3",
   "version": "3.7.12"
  },
  "papermill": {
   "default_parameters": {},
   "duration": 35.021298,
   "end_time": "2022-07-05T06:31:31.540330",
   "environment_variables": {},
   "exception": null,
   "input_path": "__notebook__.ipynb",
   "output_path": "__notebook__.ipynb",
   "parameters": {},
   "start_time": "2022-07-05T06:30:56.519032",
   "version": "2.3.4"
  }
 },
 "nbformat": 4,
 "nbformat_minor": 5
}
