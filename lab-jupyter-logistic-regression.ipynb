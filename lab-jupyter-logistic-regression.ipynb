{
 "cells": [
  {
   "cell_type": "markdown",
   "id": "9f8c8b06",
   "metadata": {
    "papermill": {
     "duration": 0.026868,
     "end_time": "2022-07-05T06:43:25.749701",
     "exception": false,
     "start_time": "2022-07-05T06:43:25.722833",
     "status": "completed"
    },
    "tags": []
   },
   "source": [
    "<p style=\"text-align:center\">\n",
    "    <a href=\"https://skills.network/?utm_medium=Exinfluencer&utm_source=Exinfluencer&utm_content=000026UJ&utm_term=10006555&utm_id=NA-SkillsNetwork-Channel-SkillsNetworkCoursesIBMML241ENSkillsNetwork31576874-2022-01-01\" target=\"_blank\">\n",
    "    <img src=\"https://cf-courses-data.s3.us.cloud-object-storage.appdomain.cloud/assets/logos/SN_web_lightmode.png\" width=\"200\" alt=\"Skills Network Logo\"  />\n",
    "    </a>\n",
    "</p>\n"
   ]
  },
  {
   "cell_type": "markdown",
   "id": "397d3896",
   "metadata": {
    "papermill": {
     "duration": 0.024825,
     "end_time": "2022-07-05T06:43:25.801296",
     "exception": false,
     "start_time": "2022-07-05T06:43:25.776471",
     "status": "completed"
    },
    "tags": []
   },
   "source": [
    "# **Logistic Regression**\n"
   ]
  },
  {
   "cell_type": "markdown",
   "id": "8f725f2b",
   "metadata": {
    "papermill": {
     "duration": 0.024681,
     "end_time": "2022-07-05T06:43:25.851145",
     "exception": false,
     "start_time": "2022-07-05T06:43:25.826464",
     "status": "completed"
    },
    "tags": []
   },
   "source": [
    "Estimated time needed: **30** minutes\n"
   ]
  },
  {
   "cell_type": "markdown",
   "id": "7596fc34",
   "metadata": {
    "papermill": {
     "duration": 0.025472,
     "end_time": "2022-07-05T06:43:25.902184",
     "exception": false,
     "start_time": "2022-07-05T06:43:25.876712",
     "status": "completed"
    },
    "tags": []
   },
   "source": [
    "In this lab, you will learn about and get hands-on practice with the logistic regression model, a popular and effective classification model. Understanding logistic regression and being able to apply it to classification tasks is essential because logistic regression models form the fundamentals of neural networks.\n"
   ]
  },
  {
   "cell_type": "markdown",
   "id": "e265fba6",
   "metadata": {
    "papermill": {
     "duration": 0.02488,
     "end_time": "2022-07-05T06:43:25.952688",
     "exception": false,
     "start_time": "2022-07-05T06:43:25.927808",
     "status": "completed"
    },
    "tags": []
   },
   "source": [
    "We will use a real-world dataset that contains detailed nutrition information about food items for people with diabetes. The objective is to classify whether a diabetic patient should choose More Often, Less Often, or In Moderation for a specific food item based on the nutrition information in the dataset.\n"
   ]
  },
  {
   "cell_type": "markdown",
   "id": "b5b3525f",
   "metadata": {
    "papermill": {
     "duration": 0.025304,
     "end_time": "2022-07-05T06:43:26.002735",
     "exception": false,
     "start_time": "2022-07-05T06:43:25.977431",
     "status": "completed"
    },
    "tags": []
   },
   "source": [
    "## Objectives\n"
   ]
  },
  {
   "cell_type": "markdown",
   "id": "19820a77",
   "metadata": {
    "papermill": {
     "duration": 0.025349,
     "end_time": "2022-07-05T06:43:26.053075",
     "exception": false,
     "start_time": "2022-07-05T06:43:26.027726",
     "status": "completed"
    },
    "tags": []
   },
   "source": [
    "After completing this lab you will be able to:\n"
   ]
  },
  {
   "cell_type": "markdown",
   "id": "fdef644a",
   "metadata": {
    "papermill": {
     "duration": 0.02466,
     "end_time": "2022-07-05T06:43:26.102812",
     "exception": false,
     "start_time": "2022-07-05T06:43:26.078152",
     "status": "completed"
    },
    "tags": []
   },
   "source": [
    "*   Preprocess and generate training and testing datasets\n",
    "*   Train and fine-tune logistic regression models\n",
    "*   Interpret trained logistic regression models\n",
    "*   Evaluate trained logistic regression models\n"
   ]
  },
  {
   "cell_type": "markdown",
   "id": "d0e61691",
   "metadata": {
    "papermill": {
     "duration": 0.02451,
     "end_time": "2022-07-05T06:43:26.152835",
     "exception": false,
     "start_time": "2022-07-05T06:43:26.128325",
     "status": "completed"
    },
    "tags": []
   },
   "source": [
    "***\n"
   ]
  },
  {
   "cell_type": "markdown",
   "id": "527262dd",
   "metadata": {
    "papermill": {
     "duration": 0.026172,
     "end_time": "2022-07-05T06:43:26.204591",
     "exception": false,
     "start_time": "2022-07-05T06:43:26.178419",
     "status": "completed"
    },
    "tags": []
   },
   "source": [
    "## Prepare and setup lab environment\n"
   ]
  },
  {
   "cell_type": "code",
   "execution_count": 1,
   "id": "af5ca2f0",
   "metadata": {
    "execution": {
     "iopub.execute_input": "2022-07-05T06:43:26.258026Z",
     "iopub.status.busy": "2022-07-05T06:43:26.257374Z",
     "iopub.status.idle": "2022-07-05T06:43:26.261750Z",
     "shell.execute_reply": "2022-07-05T06:43:26.261154Z"
    },
    "papermill": {
     "duration": 0.03304,
     "end_time": "2022-07-05T06:43:26.263599",
     "exception": false,
     "start_time": "2022-07-05T06:43:26.230559",
     "status": "completed"
    },
    "tags": []
   },
   "outputs": [],
   "source": [
    "# All Libraries required for this lab are listed below. The libraries pre-installed on Skills Network Labs are commented.\n",
    "# !mamba install -qy pandas==1.3.3 numpy==1.21.2 ipywidgets==7.4.2 scipy==7.4.2 tqdm==4.62.3 matplotlib==3.5.0 seaborn==0.9.0\n",
    "# Note: If your environment doesn't support \"!mamba install\", use \"!pip install\""
   ]
  },
  {
   "cell_type": "code",
   "execution_count": 2,
   "id": "5443d307",
   "metadata": {
    "execution": {
     "iopub.execute_input": "2022-07-05T06:43:26.315056Z",
     "iopub.status.busy": "2022-07-05T06:43:26.314648Z",
     "iopub.status.idle": "2022-07-05T06:43:27.653455Z",
     "shell.execute_reply": "2022-07-05T06:43:27.652651Z"
    },
    "papermill": {
     "duration": 1.367278,
     "end_time": "2022-07-05T06:43:27.655797",
     "exception": false,
     "start_time": "2022-07-05T06:43:26.288519",
     "status": "completed"
    },
    "tags": []
   },
   "outputs": [],
   "source": [
    "import pandas as pd\n",
    "import numpy as np\n",
    "from sklearn.preprocessing import OneHotEncoder, LabelEncoder, MinMaxScaler\n",
    "from sklearn.model_selection import train_test_split, learning_curve\n",
    "from sklearn.linear_model import LogisticRegression\n",
    "from sklearn import metrics\n",
    "from sklearn.metrics import classification_report, accuracy_score, confusion_matrix, precision_recall_fscore_support, precision_score, recall_score\n",
    "import matplotlib.pyplot as plt\n",
    "import seaborn as sns\n",
    "%matplotlib inline"
   ]
  },
  {
   "cell_type": "code",
   "execution_count": 3,
   "id": "0cb0e843",
   "metadata": {
    "execution": {
     "iopub.execute_input": "2022-07-05T06:43:27.708232Z",
     "iopub.status.busy": "2022-07-05T06:43:27.707802Z",
     "iopub.status.idle": "2022-07-05T06:43:27.711547Z",
     "shell.execute_reply": "2022-07-05T06:43:27.710826Z"
    },
    "papermill": {
     "duration": 0.031975,
     "end_time": "2022-07-05T06:43:27.713272",
     "exception": false,
     "start_time": "2022-07-05T06:43:27.681297",
     "status": "completed"
    },
    "tags": []
   },
   "outputs": [],
   "source": [
    "# also set a random state\n",
    "rs = 123"
   ]
  },
  {
   "cell_type": "markdown",
   "id": "847c4544",
   "metadata": {
    "papermill": {
     "duration": 0.024809,
     "end_time": "2022-07-05T06:43:27.763735",
     "exception": false,
     "start_time": "2022-07-05T06:43:27.738926",
     "status": "completed"
    },
    "tags": []
   },
   "source": [
    "### EDA and Feature Engineering\n"
   ]
  },
  {
   "cell_type": "markdown",
   "id": "436610b2",
   "metadata": {
    "papermill": {
     "duration": 0.024987,
     "end_time": "2022-07-05T06:43:27.813982",
     "exception": false,
     "start_time": "2022-07-05T06:43:27.788995",
     "status": "completed"
    },
    "tags": []
   },
   "source": [
    "### Load and explore the dataset\n"
   ]
  },
  {
   "cell_type": "markdown",
   "id": "4b623324",
   "metadata": {
    "papermill": {
     "duration": 0.025107,
     "end_time": "2022-07-05T06:43:27.864266",
     "exception": false,
     "start_time": "2022-07-05T06:43:27.839159",
     "status": "completed"
    },
    "tags": []
   },
   "source": [
    "First, let's load the dataset as a `Pandas` dataframe and conduct some basic EDA tasks on it.\n"
   ]
  },
  {
   "cell_type": "code",
   "execution_count": 4,
   "id": "d18c0034",
   "metadata": {
    "execution": {
     "iopub.execute_input": "2022-07-05T06:43:27.917054Z",
     "iopub.status.busy": "2022-07-05T06:43:27.916397Z",
     "iopub.status.idle": "2022-07-05T06:43:28.832036Z",
     "shell.execute_reply": "2022-07-05T06:43:28.831099Z"
    },
    "papermill": {
     "duration": 0.94469,
     "end_time": "2022-07-05T06:43:28.834439",
     "exception": false,
     "start_time": "2022-07-05T06:43:27.889749",
     "status": "completed"
    },
    "tags": []
   },
   "outputs": [],
   "source": [
    "# Load the dataset\n",
    "dataset_url = \"https://cf-courses-data.s3.us.cloud-object-storage.appdomain.cloud/IBM-ML241EN-SkillsNetwork/labs/datasets/food_items.csv\"\n",
    "food_df = pd.read_csv(dataset_url)"
   ]
  },
  {
   "cell_type": "markdown",
   "id": "4cf81e4b",
   "metadata": {
    "papermill": {
     "duration": 0.024542,
     "end_time": "2022-07-05T06:43:28.884286",
     "exception": false,
     "start_time": "2022-07-05T06:43:28.859744",
     "status": "completed"
    },
    "tags": []
   },
   "source": [
    "And, let's quickly check its column types.\n"
   ]
  },
  {
   "cell_type": "code",
   "execution_count": 5,
   "id": "af7894be",
   "metadata": {
    "execution": {
     "iopub.execute_input": "2022-07-05T06:43:28.935935Z",
     "iopub.status.busy": "2022-07-05T06:43:28.935475Z",
     "iopub.status.idle": "2022-07-05T06:43:28.948070Z",
     "shell.execute_reply": "2022-07-05T06:43:28.946975Z"
    },
    "papermill": {
     "duration": 0.04202,
     "end_time": "2022-07-05T06:43:28.951055",
     "exception": false,
     "start_time": "2022-07-05T06:43:28.909035",
     "status": "completed"
    },
    "tags": []
   },
   "outputs": [
    {
     "data": {
      "text/plain": [
       "Calories               float64\n",
       "Total Fat                int64\n",
       "Saturated Fat          float64\n",
       "Monounsaturated Fat    float64\n",
       "Polyunsaturated Fat    float64\n",
       "Trans Fat              float64\n",
       "Cholesterol              int64\n",
       "Sodium                 float64\n",
       "Total Carbohydrate     float64\n",
       "Dietary Fiber          float64\n",
       "Sugars                 float64\n",
       "Sugar Alcohol            int64\n",
       "Protein                float64\n",
       "Vitamin A                int64\n",
       "Vitamin C                int64\n",
       "Calcium                  int64\n",
       "Iron                     int64\n",
       "class                   object\n",
       "dtype: object"
      ]
     },
     "execution_count": 5,
     "metadata": {},
     "output_type": "execute_result"
    }
   ],
   "source": [
    "food_df.dtypes"
   ]
  },
  {
   "cell_type": "markdown",
   "id": "ee0e5121",
   "metadata": {
    "papermill": {
     "duration": 0.033065,
     "end_time": "2022-07-05T06:43:29.016422",
     "exception": false,
     "start_time": "2022-07-05T06:43:28.983357",
     "status": "completed"
    },
    "tags": []
   },
   "source": [
    "Print the first ten food items:\n"
   ]
  },
  {
   "cell_type": "code",
   "execution_count": 6,
   "id": "ba10ca00",
   "metadata": {
    "execution": {
     "iopub.execute_input": "2022-07-05T06:43:29.072021Z",
     "iopub.status.busy": "2022-07-05T06:43:29.071578Z",
     "iopub.status.idle": "2022-07-05T06:43:29.118546Z",
     "shell.execute_reply": "2022-07-05T06:43:29.117624Z"
    },
    "papermill": {
     "duration": 0.077436,
     "end_time": "2022-07-05T06:43:29.121094",
     "exception": false,
     "start_time": "2022-07-05T06:43:29.043658",
     "status": "completed"
    },
    "tags": []
   },
   "outputs": [
    {
     "data": {
      "text/html": [
       "<div>\n",
       "<style scoped>\n",
       "    .dataframe tbody tr th:only-of-type {\n",
       "        vertical-align: middle;\n",
       "    }\n",
       "\n",
       "    .dataframe tbody tr th {\n",
       "        vertical-align: top;\n",
       "    }\n",
       "\n",
       "    .dataframe thead th {\n",
       "        text-align: right;\n",
       "    }\n",
       "</style>\n",
       "<table border=\"1\" class=\"dataframe\">\n",
       "  <thead>\n",
       "    <tr style=\"text-align: right;\">\n",
       "      <th></th>\n",
       "      <th>Calories</th>\n",
       "      <th>Total Fat</th>\n",
       "      <th>Saturated Fat</th>\n",
       "      <th>Monounsaturated Fat</th>\n",
       "      <th>Polyunsaturated Fat</th>\n",
       "      <th>Trans Fat</th>\n",
       "      <th>Cholesterol</th>\n",
       "      <th>Sodium</th>\n",
       "      <th>Total Carbohydrate</th>\n",
       "      <th>Dietary Fiber</th>\n",
       "      <th>Sugars</th>\n",
       "      <th>Sugar Alcohol</th>\n",
       "      <th>Protein</th>\n",
       "      <th>Vitamin A</th>\n",
       "      <th>Vitamin C</th>\n",
       "      <th>Calcium</th>\n",
       "      <th>Iron</th>\n",
       "      <th>class</th>\n",
       "    </tr>\n",
       "  </thead>\n",
       "  <tbody>\n",
       "    <tr>\n",
       "      <th>0</th>\n",
       "      <td>149.0</td>\n",
       "      <td>0</td>\n",
       "      <td>0.0</td>\n",
       "      <td>0.0</td>\n",
       "      <td>0.0</td>\n",
       "      <td>0.0</td>\n",
       "      <td>0</td>\n",
       "      <td>9.0</td>\n",
       "      <td>9.8</td>\n",
       "      <td>0.0</td>\n",
       "      <td>0.0</td>\n",
       "      <td>0</td>\n",
       "      <td>1.3</td>\n",
       "      <td>0</td>\n",
       "      <td>0</td>\n",
       "      <td>0</td>\n",
       "      <td>0</td>\n",
       "      <td>'In Moderation'</td>\n",
       "    </tr>\n",
       "    <tr>\n",
       "      <th>1</th>\n",
       "      <td>123.0</td>\n",
       "      <td>0</td>\n",
       "      <td>0.0</td>\n",
       "      <td>0.0</td>\n",
       "      <td>0.0</td>\n",
       "      <td>0.0</td>\n",
       "      <td>0</td>\n",
       "      <td>5.0</td>\n",
       "      <td>6.6</td>\n",
       "      <td>0.0</td>\n",
       "      <td>0.0</td>\n",
       "      <td>0</td>\n",
       "      <td>0.8</td>\n",
       "      <td>0</td>\n",
       "      <td>0</td>\n",
       "      <td>0</td>\n",
       "      <td>0</td>\n",
       "      <td>'In Moderation'</td>\n",
       "    </tr>\n",
       "    <tr>\n",
       "      <th>2</th>\n",
       "      <td>150.0</td>\n",
       "      <td>0</td>\n",
       "      <td>0.0</td>\n",
       "      <td>0.0</td>\n",
       "      <td>0.0</td>\n",
       "      <td>0.0</td>\n",
       "      <td>0</td>\n",
       "      <td>4.0</td>\n",
       "      <td>11.4</td>\n",
       "      <td>0.0</td>\n",
       "      <td>0.0</td>\n",
       "      <td>0</td>\n",
       "      <td>1.3</td>\n",
       "      <td>0</td>\n",
       "      <td>0</td>\n",
       "      <td>0</td>\n",
       "      <td>0</td>\n",
       "      <td>'In Moderation'</td>\n",
       "    </tr>\n",
       "    <tr>\n",
       "      <th>3</th>\n",
       "      <td>110.0</td>\n",
       "      <td>0</td>\n",
       "      <td>0.0</td>\n",
       "      <td>0.0</td>\n",
       "      <td>0.0</td>\n",
       "      <td>0.0</td>\n",
       "      <td>0</td>\n",
       "      <td>6.0</td>\n",
       "      <td>7.0</td>\n",
       "      <td>0.0</td>\n",
       "      <td>0.0</td>\n",
       "      <td>0</td>\n",
       "      <td>0.8</td>\n",
       "      <td>0</td>\n",
       "      <td>0</td>\n",
       "      <td>0</td>\n",
       "      <td>0</td>\n",
       "      <td>'In Moderation'</td>\n",
       "    </tr>\n",
       "    <tr>\n",
       "      <th>4</th>\n",
       "      <td>143.0</td>\n",
       "      <td>0</td>\n",
       "      <td>0.0</td>\n",
       "      <td>0.0</td>\n",
       "      <td>0.0</td>\n",
       "      <td>0.0</td>\n",
       "      <td>0</td>\n",
       "      <td>7.0</td>\n",
       "      <td>13.1</td>\n",
       "      <td>0.0</td>\n",
       "      <td>0.0</td>\n",
       "      <td>0</td>\n",
       "      <td>1.0</td>\n",
       "      <td>0</td>\n",
       "      <td>0</td>\n",
       "      <td>0</td>\n",
       "      <td>0</td>\n",
       "      <td>'In Moderation'</td>\n",
       "    </tr>\n",
       "    <tr>\n",
       "      <th>5</th>\n",
       "      <td>110.0</td>\n",
       "      <td>0</td>\n",
       "      <td>0.0</td>\n",
       "      <td>0.0</td>\n",
       "      <td>0.0</td>\n",
       "      <td>0.0</td>\n",
       "      <td>0</td>\n",
       "      <td>6.0</td>\n",
       "      <td>7.0</td>\n",
       "      <td>0.0</td>\n",
       "      <td>0.0</td>\n",
       "      <td>0</td>\n",
       "      <td>0.8</td>\n",
       "      <td>0</td>\n",
       "      <td>0</td>\n",
       "      <td>0</td>\n",
       "      <td>0</td>\n",
       "      <td>'In Moderation'</td>\n",
       "    </tr>\n",
       "    <tr>\n",
       "      <th>6</th>\n",
       "      <td>142.0</td>\n",
       "      <td>0</td>\n",
       "      <td>0.0</td>\n",
       "      <td>0.0</td>\n",
       "      <td>0.0</td>\n",
       "      <td>0.0</td>\n",
       "      <td>0</td>\n",
       "      <td>12.0</td>\n",
       "      <td>10.6</td>\n",
       "      <td>0.0</td>\n",
       "      <td>0.0</td>\n",
       "      <td>0</td>\n",
       "      <td>1.2</td>\n",
       "      <td>0</td>\n",
       "      <td>0</td>\n",
       "      <td>0</td>\n",
       "      <td>0</td>\n",
       "      <td>'In Moderation'</td>\n",
       "    </tr>\n",
       "    <tr>\n",
       "      <th>7</th>\n",
       "      <td>102.0</td>\n",
       "      <td>0</td>\n",
       "      <td>0.0</td>\n",
       "      <td>0.0</td>\n",
       "      <td>0.0</td>\n",
       "      <td>0.0</td>\n",
       "      <td>0</td>\n",
       "      <td>13.0</td>\n",
       "      <td>5.0</td>\n",
       "      <td>0.0</td>\n",
       "      <td>0.0</td>\n",
       "      <td>0</td>\n",
       "      <td>0.7</td>\n",
       "      <td>0</td>\n",
       "      <td>0</td>\n",
       "      <td>0</td>\n",
       "      <td>0</td>\n",
       "      <td>'In Moderation'</td>\n",
       "    </tr>\n",
       "    <tr>\n",
       "      <th>8</th>\n",
       "      <td>145.0</td>\n",
       "      <td>0</td>\n",
       "      <td>0.0</td>\n",
       "      <td>0.0</td>\n",
       "      <td>0.0</td>\n",
       "      <td>0.0</td>\n",
       "      <td>0</td>\n",
       "      <td>17.0</td>\n",
       "      <td>11.0</td>\n",
       "      <td>0.0</td>\n",
       "      <td>0.0</td>\n",
       "      <td>0</td>\n",
       "      <td>1.2</td>\n",
       "      <td>0</td>\n",
       "      <td>0</td>\n",
       "      <td>0</td>\n",
       "      <td>0</td>\n",
       "      <td>'In Moderation'</td>\n",
       "    </tr>\n",
       "    <tr>\n",
       "      <th>9</th>\n",
       "      <td>171.0</td>\n",
       "      <td>0</td>\n",
       "      <td>0.0</td>\n",
       "      <td>0.0</td>\n",
       "      <td>0.0</td>\n",
       "      <td>0.0</td>\n",
       "      <td>0</td>\n",
       "      <td>8.0</td>\n",
       "      <td>13.7</td>\n",
       "      <td>0.0</td>\n",
       "      <td>0.0</td>\n",
       "      <td>0</td>\n",
       "      <td>2.5</td>\n",
       "      <td>0</td>\n",
       "      <td>0</td>\n",
       "      <td>0</td>\n",
       "      <td>0</td>\n",
       "      <td>'In Moderation'</td>\n",
       "    </tr>\n",
       "  </tbody>\n",
       "</table>\n",
       "</div>"
      ],
      "text/plain": [
       "   Calories  Total Fat  Saturated Fat  Monounsaturated Fat  \\\n",
       "0     149.0          0            0.0                  0.0   \n",
       "1     123.0          0            0.0                  0.0   \n",
       "2     150.0          0            0.0                  0.0   \n",
       "3     110.0          0            0.0                  0.0   \n",
       "4     143.0          0            0.0                  0.0   \n",
       "5     110.0          0            0.0                  0.0   \n",
       "6     142.0          0            0.0                  0.0   \n",
       "7     102.0          0            0.0                  0.0   \n",
       "8     145.0          0            0.0                  0.0   \n",
       "9     171.0          0            0.0                  0.0   \n",
       "\n",
       "   Polyunsaturated Fat  Trans Fat  Cholesterol  Sodium  Total Carbohydrate  \\\n",
       "0                  0.0        0.0            0     9.0                 9.8   \n",
       "1                  0.0        0.0            0     5.0                 6.6   \n",
       "2                  0.0        0.0            0     4.0                11.4   \n",
       "3                  0.0        0.0            0     6.0                 7.0   \n",
       "4                  0.0        0.0            0     7.0                13.1   \n",
       "5                  0.0        0.0            0     6.0                 7.0   \n",
       "6                  0.0        0.0            0    12.0                10.6   \n",
       "7                  0.0        0.0            0    13.0                 5.0   \n",
       "8                  0.0        0.0            0    17.0                11.0   \n",
       "9                  0.0        0.0            0     8.0                13.7   \n",
       "\n",
       "   Dietary Fiber  Sugars  Sugar Alcohol  Protein  Vitamin A  Vitamin C  \\\n",
       "0            0.0     0.0              0      1.3          0          0   \n",
       "1            0.0     0.0              0      0.8          0          0   \n",
       "2            0.0     0.0              0      1.3          0          0   \n",
       "3            0.0     0.0              0      0.8          0          0   \n",
       "4            0.0     0.0              0      1.0          0          0   \n",
       "5            0.0     0.0              0      0.8          0          0   \n",
       "6            0.0     0.0              0      1.2          0          0   \n",
       "7            0.0     0.0              0      0.7          0          0   \n",
       "8            0.0     0.0              0      1.2          0          0   \n",
       "9            0.0     0.0              0      2.5          0          0   \n",
       "\n",
       "   Calcium  Iron            class  \n",
       "0        0     0  'In Moderation'  \n",
       "1        0     0  'In Moderation'  \n",
       "2        0     0  'In Moderation'  \n",
       "3        0     0  'In Moderation'  \n",
       "4        0     0  'In Moderation'  \n",
       "5        0     0  'In Moderation'  \n",
       "6        0     0  'In Moderation'  \n",
       "7        0     0  'In Moderation'  \n",
       "8        0     0  'In Moderation'  \n",
       "9        0     0  'In Moderation'  "
      ]
     },
     "execution_count": 6,
     "metadata": {},
     "output_type": "execute_result"
    }
   ],
   "source": [
    "\n",
    "food_df.head(10)"
   ]
  },
  {
   "cell_type": "markdown",
   "id": "8ce9bf32",
   "metadata": {
    "papermill": {
     "duration": 0.029324,
     "end_time": "2022-07-05T06:43:29.180941",
     "exception": false,
     "start_time": "2022-07-05T06:43:29.151617",
     "status": "completed"
    },
    "tags": []
   },
   "source": [
    "Get the row entries with col 0 to -1 (16).\n"
   ]
  },
  {
   "cell_type": "code",
   "execution_count": 7,
   "id": "f4e99856",
   "metadata": {
    "execution": {
     "iopub.execute_input": "2022-07-05T06:43:29.241352Z",
     "iopub.status.busy": "2022-07-05T06:43:29.240518Z",
     "iopub.status.idle": "2022-07-05T06:43:29.251398Z",
     "shell.execute_reply": "2022-07-05T06:43:29.250481Z"
    },
    "papermill": {
     "duration": 0.045635,
     "end_time": "2022-07-05T06:43:29.253418",
     "exception": false,
     "start_time": "2022-07-05T06:43:29.207783",
     "status": "completed"
    },
    "tags": []
   },
   "outputs": [
    {
     "data": {
      "text/plain": [
       "['Calories',\n",
       " 'Total Fat',\n",
       " 'Saturated Fat',\n",
       " 'Monounsaturated Fat',\n",
       " 'Polyunsaturated Fat',\n",
       " 'Trans Fat',\n",
       " 'Cholesterol',\n",
       " 'Sodium',\n",
       " 'Total Carbohydrate',\n",
       " 'Dietary Fiber',\n",
       " 'Sugars',\n",
       " 'Sugar Alcohol',\n",
       " 'Protein',\n",
       " 'Vitamin A',\n",
       " 'Vitamin C',\n",
       " 'Calcium',\n",
       " 'Iron']"
      ]
     },
     "execution_count": 7,
     "metadata": {},
     "output_type": "execute_result"
    }
   ],
   "source": [
    "\n",
    "feature_cols = list(food_df.iloc[:, :-1].columns)\n",
    "feature_cols"
   ]
  },
  {
   "cell_type": "markdown",
   "id": "cb37515e",
   "metadata": {
    "papermill": {
     "duration": 0.028664,
     "end_time": "2022-07-05T06:43:29.309385",
     "exception": false,
     "start_time": "2022-07-05T06:43:29.280721",
     "status": "completed"
    },
    "tags": []
   },
   "source": [
    "Obtain descriptive statistics:\n"
   ]
  },
  {
   "cell_type": "code",
   "execution_count": 8,
   "id": "d5377dc0",
   "metadata": {
    "execution": {
     "iopub.execute_input": "2022-07-05T06:43:29.385129Z",
     "iopub.status.busy": "2022-07-05T06:43:29.384696Z",
     "iopub.status.idle": "2022-07-05T06:43:29.463003Z",
     "shell.execute_reply": "2022-07-05T06:43:29.462230Z"
    },
    "papermill": {
     "duration": 0.122231,
     "end_time": "2022-07-05T06:43:29.466015",
     "exception": false,
     "start_time": "2022-07-05T06:43:29.343784",
     "status": "completed"
    },
    "tags": []
   },
   "outputs": [
    {
     "data": {
      "text/html": [
       "<div>\n",
       "<style scoped>\n",
       "    .dataframe tbody tr th:only-of-type {\n",
       "        vertical-align: middle;\n",
       "    }\n",
       "\n",
       "    .dataframe tbody tr th {\n",
       "        vertical-align: top;\n",
       "    }\n",
       "\n",
       "    .dataframe thead th {\n",
       "        text-align: right;\n",
       "    }\n",
       "</style>\n",
       "<table border=\"1\" class=\"dataframe\">\n",
       "  <thead>\n",
       "    <tr style=\"text-align: right;\">\n",
       "      <th></th>\n",
       "      <th>Calories</th>\n",
       "      <th>Total Fat</th>\n",
       "      <th>Saturated Fat</th>\n",
       "      <th>Monounsaturated Fat</th>\n",
       "      <th>Polyunsaturated Fat</th>\n",
       "      <th>Trans Fat</th>\n",
       "      <th>Cholesterol</th>\n",
       "      <th>Sodium</th>\n",
       "      <th>Total Carbohydrate</th>\n",
       "      <th>Dietary Fiber</th>\n",
       "      <th>Sugars</th>\n",
       "      <th>Sugar Alcohol</th>\n",
       "      <th>Protein</th>\n",
       "      <th>Vitamin A</th>\n",
       "      <th>Vitamin C</th>\n",
       "      <th>Calcium</th>\n",
       "      <th>Iron</th>\n",
       "    </tr>\n",
       "  </thead>\n",
       "  <tbody>\n",
       "    <tr>\n",
       "      <th>count</th>\n",
       "      <td>13260.000000</td>\n",
       "      <td>13260.000000</td>\n",
       "      <td>13260.000000</td>\n",
       "      <td>13260.000000</td>\n",
       "      <td>13260.000000</td>\n",
       "      <td>13260.000000</td>\n",
       "      <td>13260.000000</td>\n",
       "      <td>13260.000000</td>\n",
       "      <td>13260.000000</td>\n",
       "      <td>13260.000000</td>\n",
       "      <td>13260.000000</td>\n",
       "      <td>13260.000000</td>\n",
       "      <td>13260.000000</td>\n",
       "      <td>13260.000000</td>\n",
       "      <td>13260.000000</td>\n",
       "      <td>13260.000000</td>\n",
       "      <td>13260.000000</td>\n",
       "    </tr>\n",
       "    <tr>\n",
       "      <th>mean</th>\n",
       "      <td>133.861086</td>\n",
       "      <td>4.475264</td>\n",
       "      <td>1.450617</td>\n",
       "      <td>0.338069</td>\n",
       "      <td>0.254660</td>\n",
       "      <td>0.047459</td>\n",
       "      <td>8.857692</td>\n",
       "      <td>241.867142</td>\n",
       "      <td>18.232020</td>\n",
       "      <td>1.602971</td>\n",
       "      <td>6.645234</td>\n",
       "      <td>0.117949</td>\n",
       "      <td>4.661333</td>\n",
       "      <td>6.287632</td>\n",
       "      <td>6.741855</td>\n",
       "      <td>5.175264</td>\n",
       "      <td>5.235671</td>\n",
       "    </tr>\n",
       "    <tr>\n",
       "      <th>std</th>\n",
       "      <td>94.227650</td>\n",
       "      <td>5.386340</td>\n",
       "      <td>2.410318</td>\n",
       "      <td>1.345852</td>\n",
       "      <td>2.230586</td>\n",
       "      <td>0.321402</td>\n",
       "      <td>20.976530</td>\n",
       "      <td>272.284363</td>\n",
       "      <td>14.786316</td>\n",
       "      <td>3.363879</td>\n",
       "      <td>8.328465</td>\n",
       "      <td>1.121529</td>\n",
       "      <td>5.611143</td>\n",
       "      <td>18.374191</td>\n",
       "      <td>23.785100</td>\n",
       "      <td>8.779637</td>\n",
       "      <td>9.119459</td>\n",
       "    </tr>\n",
       "    <tr>\n",
       "      <th>min</th>\n",
       "      <td>0.000000</td>\n",
       "      <td>0.000000</td>\n",
       "      <td>0.000000</td>\n",
       "      <td>0.000000</td>\n",
       "      <td>0.000000</td>\n",
       "      <td>0.000000</td>\n",
       "      <td>0.000000</td>\n",
       "      <td>0.000000</td>\n",
       "      <td>0.000000</td>\n",
       "      <td>0.000000</td>\n",
       "      <td>0.000000</td>\n",
       "      <td>0.000000</td>\n",
       "      <td>0.000000</td>\n",
       "      <td>0.000000</td>\n",
       "      <td>0.000000</td>\n",
       "      <td>0.000000</td>\n",
       "      <td>0.000000</td>\n",
       "    </tr>\n",
       "    <tr>\n",
       "      <th>25%</th>\n",
       "      <td>70.000000</td>\n",
       "      <td>0.000000</td>\n",
       "      <td>0.000000</td>\n",
       "      <td>0.000000</td>\n",
       "      <td>0.000000</td>\n",
       "      <td>0.000000</td>\n",
       "      <td>0.000000</td>\n",
       "      <td>40.000000</td>\n",
       "      <td>5.000000</td>\n",
       "      <td>0.000000</td>\n",
       "      <td>0.000000</td>\n",
       "      <td>0.000000</td>\n",
       "      <td>1.000000</td>\n",
       "      <td>0.000000</td>\n",
       "      <td>0.000000</td>\n",
       "      <td>0.000000</td>\n",
       "      <td>0.000000</td>\n",
       "    </tr>\n",
       "    <tr>\n",
       "      <th>50%</th>\n",
       "      <td>120.000000</td>\n",
       "      <td>3.000000</td>\n",
       "      <td>0.500000</td>\n",
       "      <td>0.000000</td>\n",
       "      <td>0.000000</td>\n",
       "      <td>0.000000</td>\n",
       "      <td>0.000000</td>\n",
       "      <td>135.000000</td>\n",
       "      <td>17.000000</td>\n",
       "      <td>1.000000</td>\n",
       "      <td>3.000000</td>\n",
       "      <td>0.000000</td>\n",
       "      <td>3.000000</td>\n",
       "      <td>0.000000</td>\n",
       "      <td>0.000000</td>\n",
       "      <td>2.000000</td>\n",
       "      <td>2.000000</td>\n",
       "    </tr>\n",
       "    <tr>\n",
       "      <th>75%</th>\n",
       "      <td>180.000000</td>\n",
       "      <td>7.000000</td>\n",
       "      <td>2.000000</td>\n",
       "      <td>0.000000</td>\n",
       "      <td>0.000000</td>\n",
       "      <td>0.000000</td>\n",
       "      <td>10.000000</td>\n",
       "      <td>370.000000</td>\n",
       "      <td>27.000000</td>\n",
       "      <td>2.000000</td>\n",
       "      <td>11.000000</td>\n",
       "      <td>0.000000</td>\n",
       "      <td>7.000000</td>\n",
       "      <td>6.000000</td>\n",
       "      <td>2.000000</td>\n",
       "      <td>6.000000</td>\n",
       "      <td>8.000000</td>\n",
       "    </tr>\n",
       "    <tr>\n",
       "      <th>max</th>\n",
       "      <td>2210.000000</td>\n",
       "      <td>43.000000</td>\n",
       "      <td>22.000000</td>\n",
       "      <td>40.000000</td>\n",
       "      <td>235.000000</td>\n",
       "      <td>11.000000</td>\n",
       "      <td>450.000000</td>\n",
       "      <td>2431.000000</td>\n",
       "      <td>270.000000</td>\n",
       "      <td>305.000000</td>\n",
       "      <td>115.000000</td>\n",
       "      <td>31.000000</td>\n",
       "      <td>70.000000</td>\n",
       "      <td>622.000000</td>\n",
       "      <td>1000.000000</td>\n",
       "      <td>110.000000</td>\n",
       "      <td>170.000000</td>\n",
       "    </tr>\n",
       "  </tbody>\n",
       "</table>\n",
       "</div>"
      ],
      "text/plain": [
       "           Calories     Total Fat  Saturated Fat  Monounsaturated Fat  \\\n",
       "count  13260.000000  13260.000000   13260.000000         13260.000000   \n",
       "mean     133.861086      4.475264       1.450617             0.338069   \n",
       "std       94.227650      5.386340       2.410318             1.345852   \n",
       "min        0.000000      0.000000       0.000000             0.000000   \n",
       "25%       70.000000      0.000000       0.000000             0.000000   \n",
       "50%      120.000000      3.000000       0.500000             0.000000   \n",
       "75%      180.000000      7.000000       2.000000             0.000000   \n",
       "max     2210.000000     43.000000      22.000000            40.000000   \n",
       "\n",
       "       Polyunsaturated Fat     Trans Fat   Cholesterol        Sodium  \\\n",
       "count         13260.000000  13260.000000  13260.000000  13260.000000   \n",
       "mean              0.254660      0.047459      8.857692    241.867142   \n",
       "std               2.230586      0.321402     20.976530    272.284363   \n",
       "min               0.000000      0.000000      0.000000      0.000000   \n",
       "25%               0.000000      0.000000      0.000000     40.000000   \n",
       "50%               0.000000      0.000000      0.000000    135.000000   \n",
       "75%               0.000000      0.000000     10.000000    370.000000   \n",
       "max             235.000000     11.000000    450.000000   2431.000000   \n",
       "\n",
       "       Total Carbohydrate  Dietary Fiber        Sugars  Sugar Alcohol  \\\n",
       "count        13260.000000   13260.000000  13260.000000   13260.000000   \n",
       "mean            18.232020       1.602971      6.645234       0.117949   \n",
       "std             14.786316       3.363879      8.328465       1.121529   \n",
       "min              0.000000       0.000000      0.000000       0.000000   \n",
       "25%              5.000000       0.000000      0.000000       0.000000   \n",
       "50%             17.000000       1.000000      3.000000       0.000000   \n",
       "75%             27.000000       2.000000     11.000000       0.000000   \n",
       "max            270.000000     305.000000    115.000000      31.000000   \n",
       "\n",
       "            Protein     Vitamin A     Vitamin C       Calcium          Iron  \n",
       "count  13260.000000  13260.000000  13260.000000  13260.000000  13260.000000  \n",
       "mean       4.661333      6.287632      6.741855      5.175264      5.235671  \n",
       "std        5.611143     18.374191     23.785100      8.779637      9.119459  \n",
       "min        0.000000      0.000000      0.000000      0.000000      0.000000  \n",
       "25%        1.000000      0.000000      0.000000      0.000000      0.000000  \n",
       "50%        3.000000      0.000000      0.000000      2.000000      2.000000  \n",
       "75%        7.000000      6.000000      2.000000      6.000000      8.000000  \n",
       "max       70.000000    622.000000   1000.000000    110.000000    170.000000  "
      ]
     },
     "execution_count": 8,
     "metadata": {},
     "output_type": "execute_result"
    }
   ],
   "source": [
    "food_df.iloc[:, :-1].describe()"
   ]
  },
  {
   "cell_type": "markdown",
   "id": "03fc02dd",
   "metadata": {
    "papermill": {
     "duration": 0.026846,
     "end_time": "2022-07-05T06:43:29.524774",
     "exception": false,
     "start_time": "2022-07-05T06:43:29.497928",
     "status": "completed"
    },
    "tags": []
   },
   "source": [
    "As we can see from the above output, this dataset contains 17 nutrient categories about each food item. These categories include Calories, Total Fat, Protein, Sugar, etc., and are listed as numeric variables. As such, we only need to scale them for training our logistic regression model so that we can compare our feature coefficients directly.\n"
   ]
  },
  {
   "cell_type": "markdown",
   "id": "a9705e48",
   "metadata": {
    "papermill": {
     "duration": 0.02653,
     "end_time": "2022-07-05T06:43:29.577332",
     "exception": false,
     "start_time": "2022-07-05T06:43:29.550802",
     "status": "completed"
    },
    "tags": []
   },
   "source": [
    "Next, let's check the target variable in the `class` column to see the label values and their distribution.\n"
   ]
  },
  {
   "cell_type": "code",
   "execution_count": 9,
   "id": "9e0a0c1f",
   "metadata": {
    "execution": {
     "iopub.execute_input": "2022-07-05T06:43:29.632991Z",
     "iopub.status.busy": "2022-07-05T06:43:29.632048Z",
     "iopub.status.idle": "2022-07-05T06:43:29.643979Z",
     "shell.execute_reply": "2022-07-05T06:43:29.643280Z"
    },
    "papermill": {
     "duration": 0.041541,
     "end_time": "2022-07-05T06:43:29.646107",
     "exception": false,
     "start_time": "2022-07-05T06:43:29.604566",
     "status": "completed"
    },
    "tags": []
   },
   "outputs": [
    {
     "data": {
      "text/plain": [
       "'In Moderation'    6649\n",
       "'Less Often'       5621\n",
       "'More Often'        990\n",
       "Name: class, dtype: int64"
      ]
     },
     "execution_count": 9,
     "metadata": {},
     "output_type": "execute_result"
    }
   ],
   "source": [
    "food_df['class'].value_counts()"
   ]
  },
  {
   "cell_type": "code",
   "execution_count": 10,
   "id": "c6393ebb",
   "metadata": {
    "execution": {
     "iopub.execute_input": "2022-07-05T06:43:29.700844Z",
     "iopub.status.busy": "2022-07-05T06:43:29.700447Z",
     "iopub.status.idle": "2022-07-05T06:43:29.712515Z",
     "shell.execute_reply": "2022-07-05T06:43:29.711699Z"
    },
    "papermill": {
     "duration": 0.041803,
     "end_time": "2022-07-05T06:43:29.714486",
     "exception": false,
     "start_time": "2022-07-05T06:43:29.672683",
     "status": "completed"
    },
    "tags": []
   },
   "outputs": [
    {
     "data": {
      "text/plain": [
       "class          \n",
       "'In Moderation'    0.501433\n",
       "'Less Often'       0.423906\n",
       "'More Often'       0.074661\n",
       "dtype: float64"
      ]
     },
     "execution_count": 10,
     "metadata": {},
     "output_type": "execute_result"
    }
   ],
   "source": [
    "# # Get the row entries with the last col 'class'\n",
    "food_df.iloc[:, -1:].value_counts(normalize=True)"
   ]
  },
  {
   "cell_type": "code",
   "execution_count": 11,
   "id": "9f8f69be",
   "metadata": {
    "execution": {
     "iopub.execute_input": "2022-07-05T06:43:29.769503Z",
     "iopub.status.busy": "2022-07-05T06:43:29.768741Z",
     "iopub.status.idle": "2022-07-05T06:43:29.992669Z",
     "shell.execute_reply": "2022-07-05T06:43:29.991416Z"
    },
    "papermill": {
     "duration": 0.254741,
     "end_time": "2022-07-05T06:43:29.995506",
     "exception": false,
     "start_time": "2022-07-05T06:43:29.740765",
     "status": "completed"
    },
    "tags": []
   },
   "outputs": [
    {
     "data": {
      "text/plain": [
       "<AxesSubplot:xlabel='class'>"
      ]
     },
     "execution_count": 11,
     "metadata": {},
     "output_type": "execute_result"
    },
    {
     "data": {
      "image/png": "[encoded data removed]",
      "text/plain": [
       "<Figure size 432x288 with 1 Axes>"
      ]
     },
     "metadata": {
      "needs_background": "light"
     },
     "output_type": "display_data"
    }
   ],
   "source": [
    "food_df.iloc[:, -1:].value_counts().plot.bar(color=['yellow', 'red', 'green'])"
   ]
  },
  {
   "cell_type": "markdown",
   "id": "21f39182",
   "metadata": {
    "papermill": {
     "duration": 0.026914,
     "end_time": "2022-07-05T06:43:30.050619",
     "exception": false,
     "start_time": "2022-07-05T06:43:30.023705",
     "status": "completed"
    },
    "tags": []
   },
   "source": [
    "As we can see from the bar chart above, this dataset has three classes: `In Moderation`, `Less Often`, and `More Often`. The three labels are imbalanced. For diabetic patients, most food items are in the In Moderation and Less Often categories. This makes diabetes diet management very hard, so we could build a machine learning model to help patients choose their food.\n"
   ]
  },
  {
   "cell_type": "markdown",
   "id": "348cd915",
   "metadata": {
    "papermill": {
     "duration": 0.026595,
     "end_time": "2022-07-05T06:43:30.104113",
     "exception": false,
     "start_time": "2022-07-05T06:43:30.077518",
     "status": "completed"
    },
    "tags": []
   },
   "source": [
    "We have three labels meaning our logistic regression model will be multinomial with three classes.\n",
    "\n",
    "A multinomial logistic regression is a generalized logistic regression model which generates a probability distribution over all classes, based on the logits or exponentiated log-odds calculated for each class (usually more than two).\n"
   ]
  },
  {
   "cell_type": "markdown",
   "id": "1d972651",
   "metadata": {
    "papermill": {
     "duration": 0.027079,
     "end_time": "2022-07-05T06:43:30.158340",
     "exception": false,
     "start_time": "2022-07-05T06:43:30.131261",
     "status": "completed"
    },
    "tags": []
   },
   "source": [
    "Also note that a multinomial logistic regression model is different from the `one-vs-rest` binary logistic regression. For `one-vs-rest` schema, you need to train an independent classifier for each class. For example, you need a `More Often` classifier to differentiate a food item between `More Often` and `Not More Often` (or, `In Moderation` and `Less Often`).\n"
   ]
  },
  {
   "cell_type": "markdown",
   "id": "38784357",
   "metadata": {
    "papermill": {
     "duration": 0.026725,
     "end_time": "2022-07-05T06:43:30.212449",
     "exception": false,
     "start_time": "2022-07-05T06:43:30.185724",
     "status": "completed"
    },
    "tags": []
   },
   "source": [
    "### Feature Engineering\n"
   ]
  },
  {
   "cell_type": "markdown",
   "id": "fd7a0ff3",
   "metadata": {
    "papermill": {
     "duration": 0.026221,
     "end_time": "2022-07-05T06:43:30.265461",
     "exception": false,
     "start_time": "2022-07-05T06:43:30.239240",
     "status": "completed"
    },
    "tags": []
   },
   "source": [
    "Now you should have some basic understanding about the food dataset. Next, let's process the raw dataset and construct input data `X` and label/output `y` for logistic regression model training.\n"
   ]
  },
  {
   "cell_type": "code",
   "execution_count": 12,
   "id": "1967d271",
   "metadata": {
    "execution": {
     "iopub.execute_input": "2022-07-05T06:43:30.320032Z",
     "iopub.status.busy": "2022-07-05T06:43:30.319629Z",
     "iopub.status.idle": "2022-07-05T06:43:30.325365Z",
     "shell.execute_reply": "2022-07-05T06:43:30.324681Z"
    },
    "papermill": {
     "duration": 0.03534,
     "end_time": "2022-07-05T06:43:30.327024",
     "exception": false,
     "start_time": "2022-07-05T06:43:30.291684",
     "status": "completed"
    },
    "tags": []
   },
   "outputs": [],
   "source": [
    "X_raw = food_df.iloc[:, :-1]\n",
    "y_raw = food_df.iloc[:, -1:]"
   ]
  },
  {
   "cell_type": "markdown",
   "id": "4a36cd1a",
   "metadata": {
    "papermill": {
     "duration": 0.026441,
     "end_time": "2022-07-05T06:43:30.380149",
     "exception": false,
     "start_time": "2022-07-05T06:43:30.353708",
     "status": "completed"
    },
    "tags": []
   },
   "source": [
    "Fortunately, all feature columns are numeric so we just need to scale them. Here we use the `MinMaxScaler` provided by `sklearn` for scaling.\n"
   ]
  },
  {
   "cell_type": "code",
   "execution_count": 13,
   "id": "4621d614",
   "metadata": {
    "execution": {
     "iopub.execute_input": "2022-07-05T06:43:30.435096Z",
     "iopub.status.busy": "2022-07-05T06:43:30.434626Z",
     "iopub.status.idle": "2022-07-05T06:43:30.439229Z",
     "shell.execute_reply": "2022-07-05T06:43:30.438302Z"
    },
    "papermill": {
     "duration": 0.034479,
     "end_time": "2022-07-05T06:43:30.441171",
     "exception": false,
     "start_time": "2022-07-05T06:43:30.406692",
     "status": "completed"
    },
    "tags": []
   },
   "outputs": [],
   "source": [
    "# Create a MinMaxScaler object\n",
    "scaler = MinMaxScaler()"
   ]
  },
  {
   "cell_type": "code",
   "execution_count": 14,
   "id": "682d798a",
   "metadata": {
    "execution": {
     "iopub.execute_input": "2022-07-05T06:43:30.496557Z",
     "iopub.status.busy": "2022-07-05T06:43:30.495693Z",
     "iopub.status.idle": "2022-07-05T06:43:30.507866Z",
     "shell.execute_reply": "2022-07-05T06:43:30.507070Z"
    },
    "papermill": {
     "duration": 0.04162,
     "end_time": "2022-07-05T06:43:30.509827",
     "exception": false,
     "start_time": "2022-07-05T06:43:30.468207",
     "status": "completed"
    },
    "tags": []
   },
   "outputs": [],
   "source": [
    "# Scaling the raw input features\n",
    "X = scaler.fit_transform(X_raw)"
   ]
  },
  {
   "cell_type": "markdown",
   "id": "9ddd0827",
   "metadata": {
    "papermill": {
     "duration": 0.026498,
     "end_time": "2022-07-05T06:43:30.563250",
     "exception": false,
     "start_time": "2022-07-05T06:43:30.536752",
     "status": "completed"
    },
    "tags": []
   },
   "source": [
    "Let's check the scaled feature value range:\n"
   ]
  },
  {
   "cell_type": "code",
   "execution_count": 15,
   "id": "72d214eb",
   "metadata": {
    "execution": {
     "iopub.execute_input": "2022-07-05T06:43:30.618449Z",
     "iopub.status.busy": "2022-07-05T06:43:30.617881Z",
     "iopub.status.idle": "2022-07-05T06:43:30.623990Z",
     "shell.execute_reply": "2022-07-05T06:43:30.622945Z"
    },
    "papermill": {
     "duration": 0.035888,
     "end_time": "2022-07-05T06:43:30.626013",
     "exception": false,
     "start_time": "2022-07-05T06:43:30.590125",
     "status": "completed"
    },
    "tags": []
   },
   "outputs": [
    {
     "name": "stdout",
     "output_type": "stream",
     "text": [
      "The range of feature inputs are within 0.0 to 1.0\n"
     ]
    }
   ],
   "source": [
    "print(f\"The range of feature inputs are within {X.min()} to {X.max()}\")"
   ]
  },
  {
   "cell_type": "markdown",
   "id": "feffea67",
   "metadata": {
    "papermill": {
     "duration": 0.026149,
     "end_time": "2022-07-05T06:43:30.678946",
     "exception": false,
     "start_time": "2022-07-05T06:43:30.652797",
     "status": "completed"
    },
    "tags": []
   },
   "source": [
    "For the target variable `y`, let's use the `LabelEncoder` provided by `sklearn` to encode its three class values.\n"
   ]
  },
  {
   "cell_type": "code",
   "execution_count": 16,
   "id": "1046f5b1",
   "metadata": {
    "execution": {
     "iopub.execute_input": "2022-07-05T06:43:30.733730Z",
     "iopub.status.busy": "2022-07-05T06:43:30.733151Z",
     "iopub.status.idle": "2022-07-05T06:43:30.736947Z",
     "shell.execute_reply": "2022-07-05T06:43:30.736300Z"
    },
    "papermill": {
     "duration": 0.033381,
     "end_time": "2022-07-05T06:43:30.738654",
     "exception": false,
     "start_time": "2022-07-05T06:43:30.705273",
     "status": "completed"
    },
    "tags": []
   },
   "outputs": [],
   "source": [
    "# Create a LabelEncoder object\n",
    "label_encoder = LabelEncoder()"
   ]
  },
  {
   "cell_type": "code",
   "execution_count": 17,
   "id": "abe77176",
   "metadata": {
    "execution": {
     "iopub.execute_input": "2022-07-05T06:43:30.800574Z",
     "iopub.status.busy": "2022-07-05T06:43:30.799763Z",
     "iopub.status.idle": "2022-07-05T06:43:30.810359Z",
     "shell.execute_reply": "2022-07-05T06:43:30.809694Z"
    },
    "papermill": {
     "duration": 0.046562,
     "end_time": "2022-07-05T06:43:30.812195",
     "exception": false,
     "start_time": "2022-07-05T06:43:30.765633",
     "status": "completed"
    },
    "tags": []
   },
   "outputs": [
    {
     "data": {
      "text/html": [
       "<div>\n",
       "<style scoped>\n",
       "    .dataframe tbody tr th:only-of-type {\n",
       "        vertical-align: middle;\n",
       "    }\n",
       "\n",
       "    .dataframe tbody tr th {\n",
       "        vertical-align: top;\n",
       "    }\n",
       "\n",
       "    .dataframe thead th {\n",
       "        text-align: right;\n",
       "    }\n",
       "</style>\n",
       "<table border=\"1\" class=\"dataframe\">\n",
       "  <thead>\n",
       "    <tr style=\"text-align: right;\">\n",
       "      <th></th>\n",
       "      <th>class</th>\n",
       "    </tr>\n",
       "  </thead>\n",
       "  <tbody>\n",
       "    <tr>\n",
       "      <th>0</th>\n",
       "      <td>'In Moderation'</td>\n",
       "    </tr>\n",
       "    <tr>\n",
       "      <th>1</th>\n",
       "      <td>'In Moderation'</td>\n",
       "    </tr>\n",
       "    <tr>\n",
       "      <th>2</th>\n",
       "      <td>'In Moderation'</td>\n",
       "    </tr>\n",
       "    <tr>\n",
       "      <th>3</th>\n",
       "      <td>'In Moderation'</td>\n",
       "    </tr>\n",
       "    <tr>\n",
       "      <th>4</th>\n",
       "      <td>'In Moderation'</td>\n",
       "    </tr>\n",
       "    <tr>\n",
       "      <th>...</th>\n",
       "      <td>...</td>\n",
       "    </tr>\n",
       "    <tr>\n",
       "      <th>13255</th>\n",
       "      <td>'In Moderation'</td>\n",
       "    </tr>\n",
       "    <tr>\n",
       "      <th>13256</th>\n",
       "      <td>'In Moderation'</td>\n",
       "    </tr>\n",
       "    <tr>\n",
       "      <th>13257</th>\n",
       "      <td>'In Moderation'</td>\n",
       "    </tr>\n",
       "    <tr>\n",
       "      <th>13258</th>\n",
       "      <td>'In Moderation'</td>\n",
       "    </tr>\n",
       "    <tr>\n",
       "      <th>13259</th>\n",
       "      <td>'In Moderation'</td>\n",
       "    </tr>\n",
       "  </tbody>\n",
       "</table>\n",
       "<p>13260 rows × 1 columns</p>\n",
       "</div>"
      ],
      "text/plain": [
       "                 class\n",
       "0      'In Moderation'\n",
       "1      'In Moderation'\n",
       "2      'In Moderation'\n",
       "3      'In Moderation'\n",
       "4      'In Moderation'\n",
       "...                ...\n",
       "13255  'In Moderation'\n",
       "13256  'In Moderation'\n",
       "13257  'In Moderation'\n",
       "13258  'In Moderation'\n",
       "13259  'In Moderation'\n",
       "\n",
       "[13260 rows x 1 columns]"
      ]
     },
     "execution_count": 17,
     "metadata": {},
     "output_type": "execute_result"
    }
   ],
   "source": [
    "y_raw"
   ]
  },
  {
   "cell_type": "code",
   "execution_count": 18,
   "id": "659df3b4",
   "metadata": {
    "execution": {
     "iopub.execute_input": "2022-07-05T06:43:30.869363Z",
     "iopub.status.busy": "2022-07-05T06:43:30.868726Z",
     "iopub.status.idle": "2022-07-05T06:43:30.876474Z",
     "shell.execute_reply": "2022-07-05T06:43:30.875671Z"
    },
    "papermill": {
     "duration": 0.039022,
     "end_time": "2022-07-05T06:43:30.878451",
     "exception": false,
     "start_time": "2022-07-05T06:43:30.839429",
     "status": "completed"
    },
    "tags": []
   },
   "outputs": [],
   "source": [
    "# Encode the target variable\n",
    "y = label_encoder.fit_transform(y_raw.values.ravel())"
   ]
  },
  {
   "cell_type": "markdown",
   "id": "d2513967",
   "metadata": {
    "papermill": {
     "duration": 0.027303,
     "end_time": "2022-07-05T06:43:30.933229",
     "exception": false,
     "start_time": "2022-07-05T06:43:30.905926",
     "status": "completed"
    },
    "tags": []
   },
   "source": [
    "The encoded target variable will only contain values `0=In Moderation`, `1=Less Often`, `2=More Often`.\n"
   ]
  },
  {
   "cell_type": "code",
   "execution_count": 19,
   "id": "593933ee",
   "metadata": {
    "execution": {
     "iopub.execute_input": "2022-07-05T06:43:30.990802Z",
     "iopub.status.busy": "2022-07-05T06:43:30.990152Z",
     "iopub.status.idle": "2022-07-05T06:43:30.996538Z",
     "shell.execute_reply": "2022-07-05T06:43:30.995683Z"
    },
    "papermill": {
     "duration": 0.037364,
     "end_time": "2022-07-05T06:43:30.998661",
     "exception": false,
     "start_time": "2022-07-05T06:43:30.961297",
     "status": "completed"
    },
    "tags": []
   },
   "outputs": [
    {
     "data": {
      "text/plain": [
       "(array([0, 1, 2]), array([6649, 5621,  990]))"
      ]
     },
     "execution_count": 19,
     "metadata": {},
     "output_type": "execute_result"
    }
   ],
   "source": [
    "np.unique(y, return_counts=True)"
   ]
  },
  {
   "cell_type": "markdown",
   "id": "16e490b4",
   "metadata": {
    "papermill": {
     "duration": 0.02788,
     "end_time": "2022-07-05T06:43:31.054621",
     "exception": false,
     "start_time": "2022-07-05T06:43:31.026741",
     "status": "completed"
    },
    "tags": []
   },
   "source": [
    "## Train logistic regression models\n"
   ]
  },
  {
   "cell_type": "markdown",
   "id": "a1ae5386",
   "metadata": {
    "papermill": {
     "duration": 0.02789,
     "end_time": "2022-07-05T06:43:31.110498",
     "exception": false,
     "start_time": "2022-07-05T06:43:31.082608",
     "status": "completed"
    },
    "tags": []
   },
   "source": [
    "First, let's split the training and testing dataset. Training dataset will be used to train and tune models, and testing dataset will be used to evaluate the models. Note that you may also split a validation dataset from the training dataset for model tuning only.\n"
   ]
  },
  {
   "cell_type": "code",
   "execution_count": 20,
   "id": "2008594d",
   "metadata": {
    "execution": {
     "iopub.execute_input": "2022-07-05T06:43:31.166772Z",
     "iopub.status.busy": "2022-07-05T06:43:31.166352Z",
     "iopub.status.idle": "2022-07-05T06:43:31.179866Z",
     "shell.execute_reply": "2022-07-05T06:43:31.179080Z"
    },
    "papermill": {
     "duration": 0.044635,
     "end_time": "2022-07-05T06:43:31.182406",
     "exception": false,
     "start_time": "2022-07-05T06:43:31.137771",
     "status": "completed"
    },
    "tags": []
   },
   "outputs": [],
   "source": [
    "# First, let's split the training and testing dataset\n",
    "X_train, X_test, y_train, y_test = train_test_split(X, y, test_size=0.2, stratify=y, random_state = rs)"
   ]
  },
  {
   "cell_type": "markdown",
   "id": "fb8ba14d",
   "metadata": {
    "papermill": {
     "duration": 0.027028,
     "end_time": "2022-07-05T06:43:31.236863",
     "exception": false,
     "start_time": "2022-07-05T06:43:31.209835",
     "status": "completed"
    },
    "tags": []
   },
   "source": [
    "Let's look at the shapes of the split datasets:\n"
   ]
  },
  {
   "cell_type": "code",
   "execution_count": 21,
   "id": "ad3821bc",
   "metadata": {
    "execution": {
     "iopub.execute_input": "2022-07-05T06:43:31.292690Z",
     "iopub.status.busy": "2022-07-05T06:43:31.292253Z",
     "iopub.status.idle": "2022-07-05T06:43:31.297380Z",
     "shell.execute_reply": "2022-07-05T06:43:31.296519Z"
    },
    "papermill": {
     "duration": 0.035132,
     "end_time": "2022-07-05T06:43:31.299332",
     "exception": false,
     "start_time": "2022-07-05T06:43:31.264200",
     "status": "completed"
    },
    "tags": []
   },
   "outputs": [
    {
     "name": "stdout",
     "output_type": "stream",
     "text": [
      "Training dataset shape, X_train: (10608, 17), y_train: (10608,)\n"
     ]
    }
   ],
   "source": [
    "print(f\"Training dataset shape, X_train: {X_train.shape}, y_train: {y_train.shape}\")"
   ]
  },
  {
   "cell_type": "code",
   "execution_count": 22,
   "id": "8855a8fc",
   "metadata": {
    "execution": {
     "iopub.execute_input": "2022-07-05T06:43:31.355279Z",
     "iopub.status.busy": "2022-07-05T06:43:31.354866Z",
     "iopub.status.idle": "2022-07-05T06:43:31.359415Z",
     "shell.execute_reply": "2022-07-05T06:43:31.358758Z"
    },
    "papermill": {
     "duration": 0.03474,
     "end_time": "2022-07-05T06:43:31.361155",
     "exception": false,
     "start_time": "2022-07-05T06:43:31.326415",
     "status": "completed"
    },
    "tags": []
   },
   "outputs": [
    {
     "name": "stdout",
     "output_type": "stream",
     "text": [
      "Testing dataset shape, X_test: (2652, 17), y_test: (2652,)\n"
     ]
    }
   ],
   "source": [
    "print(f\"Testing dataset shape, X_test: {X_test.shape}, y_test: {y_test.shape}\")"
   ]
  },
  {
   "cell_type": "markdown",
   "id": "4d5888f8",
   "metadata": {
    "papermill": {
     "duration": 0.026547,
     "end_time": "2022-07-05T06:43:31.414987",
     "exception": false,
     "start_time": "2022-07-05T06:43:31.388440",
     "status": "completed"
    },
    "tags": []
   },
   "source": [
    "OK, now we have the training and testing datasets ready, let's start the model training task.\n"
   ]
  },
  {
   "cell_type": "markdown",
   "id": "48b2e0e8",
   "metadata": {
    "papermill": {
     "duration": 0.026454,
     "end_time": "2022-07-05T06:43:31.468156",
     "exception": false,
     "start_time": "2022-07-05T06:43:31.441702",
     "status": "completed"
    },
    "tags": []
   },
   "source": [
    "We first define a `sklearn.linear_model.LogisticRegression` model with the following arguments, you can check the comment for each argument for what it means.\n"
   ]
  },
  {
   "cell_type": "code",
   "execution_count": 23,
   "id": "f3f7d2f4",
   "metadata": {
    "execution": {
     "iopub.execute_input": "2022-07-05T06:43:31.524620Z",
     "iopub.status.busy": "2022-07-05T06:43:31.523968Z",
     "iopub.status.idle": "2022-07-05T06:43:31.528192Z",
     "shell.execute_reply": "2022-07-05T06:43:31.527466Z"
    },
    "papermill": {
     "duration": 0.034627,
     "end_time": "2022-07-05T06:43:31.530006",
     "exception": false,
     "start_time": "2022-07-05T06:43:31.495379",
     "status": "completed"
    },
    "tags": []
   },
   "outputs": [],
   "source": [
    "# L2 penalty to shrink coefficients without removing any features from the model\n",
    "penalty= 'l2'\n",
    "# Our classification problem is multinomial\n",
    "multi_class = 'multinomial'\n",
    "# Use lbfgs for L2 penalty and multinomial classes\n",
    "solver = 'lbfgs'\n",
    "# Max iteration = 1000\n",
    "max_iter = 1000"
   ]
  },
  {
   "cell_type": "code",
   "execution_count": 24,
   "id": "7e2c37d1",
   "metadata": {
    "execution": {
     "iopub.execute_input": "2022-07-05T06:43:31.586223Z",
     "iopub.status.busy": "2022-07-05T06:43:31.585597Z",
     "iopub.status.idle": "2022-07-05T06:43:31.589619Z",
     "shell.execute_reply": "2022-07-05T06:43:31.588978Z"
    },
    "papermill": {
     "duration": 0.034206,
     "end_time": "2022-07-05T06:43:31.591419",
     "exception": false,
     "start_time": "2022-07-05T06:43:31.557213",
     "status": "completed"
    },
    "tags": []
   },
   "outputs": [],
   "source": [
    "# Define a logistic regression model with above arguments\n",
    "l2_model = LogisticRegression(random_state=rs, penalty=penalty, multi_class=multi_class, solver=solver, max_iter=max_iter)"
   ]
  },
  {
   "cell_type": "markdown",
   "id": "60d060c8",
   "metadata": {
    "papermill": {
     "duration": 0.026988,
     "end_time": "2022-07-05T06:43:31.645968",
     "exception": false,
     "start_time": "2022-07-05T06:43:31.618980",
     "status": "completed"
    },
    "tags": []
   },
   "source": [
    "Let's train the model with training input data `X_train` and labels `y_train`:\n"
   ]
  },
  {
   "cell_type": "code",
   "execution_count": 25,
   "id": "66c1e236",
   "metadata": {
    "execution": {
     "iopub.execute_input": "2022-07-05T06:43:31.702850Z",
     "iopub.status.busy": "2022-07-05T06:43:31.702219Z",
     "iopub.status.idle": "2022-07-05T06:43:32.248042Z",
     "shell.execute_reply": "2022-07-05T06:43:32.247068Z"
    },
    "papermill": {
     "duration": 0.577487,
     "end_time": "2022-07-05T06:43:32.250933",
     "exception": false,
     "start_time": "2022-07-05T06:43:31.673446",
     "status": "completed"
    },
    "tags": []
   },
   "outputs": [
    {
     "data": {
      "text/plain": [
       "LogisticRegression(max_iter=1000, multi_class='multinomial', random_state=123)"
      ]
     },
     "execution_count": 25,
     "metadata": {},
     "output_type": "execute_result"
    }
   ],
   "source": [
    "l2_model.fit(X_train, y_train)"
   ]
  },
  {
   "cell_type": "code",
   "execution_count": 26,
   "id": "9f09dfb6",
   "metadata": {
    "execution": {
     "iopub.execute_input": "2022-07-05T06:43:32.354769Z",
     "iopub.status.busy": "2022-07-05T06:43:32.354198Z",
     "iopub.status.idle": "2022-07-05T06:43:32.360684Z",
     "shell.execute_reply": "2022-07-05T06:43:32.359708Z"
    },
    "papermill": {
     "duration": 0.061238,
     "end_time": "2022-07-05T06:43:32.362730",
     "exception": false,
     "start_time": "2022-07-05T06:43:32.301492",
     "status": "completed"
    },
    "tags": []
   },
   "outputs": [],
   "source": [
    "l2_preds = l2_model.predict(X_test)"
   ]
  },
  {
   "cell_type": "markdown",
   "id": "efc98859",
   "metadata": {
    "papermill": {
     "duration": 0.026569,
     "end_time": "2022-07-05T06:43:32.416607",
     "exception": false,
     "start_time": "2022-07-05T06:43:32.390038",
     "status": "completed"
    },
    "tags": []
   },
   "source": [
    "Because we may need to evaluate the model multiple times with different model hyper parameters, here we define an utility method to take the ground truths `y_test` and the predictions `preds`, and return a Python `dict` with `accuracy`, `recall`, `precision`, and `f1score`.\n"
   ]
  },
  {
   "cell_type": "code",
   "execution_count": 27,
   "id": "bb5e3e02",
   "metadata": {
    "execution": {
     "iopub.execute_input": "2022-07-05T06:43:32.472913Z",
     "iopub.status.busy": "2022-07-05T06:43:32.472288Z",
     "iopub.status.idle": "2022-07-05T06:43:32.477484Z",
     "shell.execute_reply": "2022-07-05T06:43:32.476902Z"
    },
    "papermill": {
     "duration": 0.035318,
     "end_time": "2022-07-05T06:43:32.479177",
     "exception": false,
     "start_time": "2022-07-05T06:43:32.443859",
     "status": "completed"
    },
    "tags": []
   },
   "outputs": [],
   "source": [
    "def evaluate_metrics(yt, yp):\n",
    "    results_pos = {}\n",
    "    results_pos['accuracy'] = accuracy_score(yt, yp)\n",
    "    precision, recall, f_beta, _ = precision_recall_fscore_support(yt, yp)\n",
    "    results_pos['recall'] = recall\n",
    "    results_pos['precision'] = precision\n",
    "    results_pos['f1score'] = f_beta\n",
    "    return results_pos"
   ]
  },
  {
   "cell_type": "code",
   "execution_count": 28,
   "id": "f343dbf5",
   "metadata": {
    "execution": {
     "iopub.execute_input": "2022-07-05T06:43:32.535223Z",
     "iopub.status.busy": "2022-07-05T06:43:32.534594Z",
     "iopub.status.idle": "2022-07-05T06:43:32.542638Z",
     "shell.execute_reply": "2022-07-05T06:43:32.541969Z"
    },
    "papermill": {
     "duration": 0.038353,
     "end_time": "2022-07-05T06:43:32.544557",
     "exception": false,
     "start_time": "2022-07-05T06:43:32.506204",
     "status": "completed"
    },
    "tags": []
   },
   "outputs": [
    {
     "data": {
      "text/plain": [
       "{'accuracy': 0.774132730015083,\n",
       " 'recall': array([0.87218045, 0.73220641, 0.35353535]),\n",
       " 'precision': array([0.73001888, 0.8346856 , 0.90909091]),\n",
       " 'f1score': array([0.79479274, 0.78009479, 0.50909091])}"
      ]
     },
     "execution_count": 28,
     "metadata": {},
     "output_type": "execute_result"
    }
   ],
   "source": [
    "evaluate_metrics(y_test, l2_preds)"
   ]
  },
  {
   "cell_type": "markdown",
   "id": "658cb470",
   "metadata": {
    "papermill": {
     "duration": 0.027843,
     "end_time": "2022-07-05T06:43:32.600647",
     "exception": false,
     "start_time": "2022-07-05T06:43:32.572804",
     "status": "completed"
    },
    "tags": []
   },
   "source": [
    "As we can see from  the above evaluation results, the logistic regression model has relatively good performance on this multinomial classification task. The overall accuracy is around `0.77` and the f1score is around `0.8`. Note that for `recall`, `precision`, and `f1score`, we output the values for each class to see how the model performs on an individual class. And, we can see from the results, the recall for `class=2` (More often) is not very good. This is actually a common problem called imbalanced classification challenge. We will introduce solution to this problem later in this course.\n"
   ]
  },
  {
   "cell_type": "markdown",
   "id": "a184684c",
   "metadata": {
    "papermill": {
     "duration": 0.026831,
     "end_time": "2022-07-05T06:43:32.654618",
     "exception": false,
     "start_time": "2022-07-05T06:43:32.627787",
     "status": "completed"
    },
    "tags": []
   },
   "source": [
    "Next, let's try defining another logistic regression model with l1 penality this time, to see if our classification performance would be improved.\n"
   ]
  },
  {
   "cell_type": "code",
   "execution_count": 29,
   "id": "4cfbfcb1",
   "metadata": {
    "execution": {
     "iopub.execute_input": "2022-07-05T06:43:32.711033Z",
     "iopub.status.busy": "2022-07-05T06:43:32.710386Z",
     "iopub.status.idle": "2022-07-05T06:43:32.714477Z",
     "shell.execute_reply": "2022-07-05T06:43:32.713796Z"
    },
    "papermill": {
     "duration": 0.034256,
     "end_time": "2022-07-05T06:43:32.716125",
     "exception": false,
     "start_time": "2022-07-05T06:43:32.681869",
     "status": "completed"
    },
    "tags": []
   },
   "outputs": [],
   "source": [
    "# L1 penalty to shrink coefficients without removing any features from the model\n",
    "penalty= 'l1'\n",
    "# Our classification problem is multinomial\n",
    "multi_class = 'multinomial'\n",
    "# Use saga for L1 penalty and multinomial classes\n",
    "solver = 'saga'\n",
    "# Max iteration = 1000\n",
    "max_iter = 1000"
   ]
  },
  {
   "cell_type": "markdown",
   "id": "bced642f",
   "metadata": {
    "papermill": {
     "duration": 0.02701,
     "end_time": "2022-07-05T06:43:32.770279",
     "exception": false,
     "start_time": "2022-07-05T06:43:32.743269",
     "status": "completed"
    },
    "tags": []
   },
   "source": [
    "Then we define another logistic regression model with above arguments using l1 penality and related solver.\n"
   ]
  },
  {
   "cell_type": "code",
   "execution_count": 30,
   "id": "d393d060",
   "metadata": {
    "execution": {
     "iopub.execute_input": "2022-07-05T06:43:32.827062Z",
     "iopub.status.busy": "2022-07-05T06:43:32.826429Z",
     "iopub.status.idle": "2022-07-05T06:43:32.830558Z",
     "shell.execute_reply": "2022-07-05T06:43:32.829946Z"
    },
    "papermill": {
     "duration": 0.034626,
     "end_time": "2022-07-05T06:43:32.832305",
     "exception": false,
     "start_time": "2022-07-05T06:43:32.797679",
     "status": "completed"
    },
    "tags": []
   },
   "outputs": [],
   "source": [
    "# Define a logistic regression model with above arguments\n",
    "l1_model = LogisticRegression(random_state=rs, penalty=penalty, multi_class=multi_class, solver=solver, max_iter = 1000)"
   ]
  },
  {
   "cell_type": "markdown",
   "id": "c3198794",
   "metadata": {
    "papermill": {
     "duration": 0.027303,
     "end_time": "2022-07-05T06:43:32.887174",
     "exception": false,
     "start_time": "2022-07-05T06:43:32.859871",
     "status": "completed"
    },
    "tags": []
   },
   "source": [
    "We can start to train the new `l1_model` with the new taining dataset.\n"
   ]
  },
  {
   "cell_type": "code",
   "execution_count": 31,
   "id": "2e11480a",
   "metadata": {
    "execution": {
     "iopub.execute_input": "2022-07-05T06:43:32.945641Z",
     "iopub.status.busy": "2022-07-05T06:43:32.944816Z",
     "iopub.status.idle": "2022-07-05T06:43:37.269600Z",
     "shell.execute_reply": "2022-07-05T06:43:37.268691Z"
    },
    "papermill": {
     "duration": 4.356529,
     "end_time": "2022-07-05T06:43:37.271483",
     "exception": false,
     "start_time": "2022-07-05T06:43:32.914954",
     "status": "completed"
    },
    "tags": []
   },
   "outputs": [
    {
     "data": {
      "text/plain": [
       "LogisticRegression(max_iter=1000, multi_class='multinomial', penalty='l1',\n",
       "                   random_state=123, solver='saga')"
      ]
     },
     "execution_count": 31,
     "metadata": {},
     "output_type": "execute_result"
    }
   ],
   "source": [
    "l1_model.fit(X_train, y_train)"
   ]
  },
  {
   "cell_type": "markdown",
   "id": "e01f7760",
   "metadata": {
    "papermill": {
     "duration": 0.027428,
     "end_time": "2022-07-05T06:43:37.326508",
     "exception": false,
     "start_time": "2022-07-05T06:43:37.299080",
     "status": "completed"
    },
    "tags": []
   },
   "source": [
    "And, make predictions using the input in the test dataset.\n"
   ]
  },
  {
   "cell_type": "code",
   "execution_count": 32,
   "id": "ac6968bb",
   "metadata": {
    "execution": {
     "iopub.execute_input": "2022-07-05T06:43:37.383929Z",
     "iopub.status.busy": "2022-07-05T06:43:37.383503Z",
     "iopub.status.idle": "2022-07-05T06:43:37.388315Z",
     "shell.execute_reply": "2022-07-05T06:43:37.387452Z"
    },
    "papermill": {
     "duration": 0.036029,
     "end_time": "2022-07-05T06:43:37.390127",
     "exception": false,
     "start_time": "2022-07-05T06:43:37.354098",
     "status": "completed"
    },
    "tags": []
   },
   "outputs": [],
   "source": [
    "l1_preds = l1_model.predict(X_test)"
   ]
  },
  {
   "cell_type": "markdown",
   "id": "36f055c2",
   "metadata": {
    "papermill": {
     "duration": 0.027353,
     "end_time": "2022-07-05T06:43:37.445430",
     "exception": false,
     "start_time": "2022-07-05T06:43:37.418077",
     "status": "completed"
    },
    "tags": []
   },
   "source": [
    "We can also check the class probability distribution using the `predict_proba` function. For example, we want to see the probabilities the first instance in the test dataset:\n"
   ]
  },
  {
   "cell_type": "code",
   "execution_count": 33,
   "id": "ca38a90a",
   "metadata": {
    "execution": {
     "iopub.execute_input": "2022-07-05T06:43:37.502616Z",
     "iopub.status.busy": "2022-07-05T06:43:37.501959Z",
     "iopub.status.idle": "2022-07-05T06:43:37.508589Z",
     "shell.execute_reply": "2022-07-05T06:43:37.507961Z"
    },
    "papermill": {
     "duration": 0.037327,
     "end_time": "2022-07-05T06:43:37.510492",
     "exception": false,
     "start_time": "2022-07-05T06:43:37.473165",
     "status": "completed"
    },
    "tags": []
   },
   "outputs": [
    {
     "data": {
      "text/plain": [
       "array([3.55065558e-02, 9.64491964e-01, 1.47991419e-06])"
      ]
     },
     "execution_count": 33,
     "metadata": {},
     "output_type": "execute_result"
    }
   ],
   "source": [
    "odd_ratios = l1_model.predict_proba(X_test[:1, :])[0]\n",
    "odd_ratios"
   ]
  },
  {
   "cell_type": "markdown",
   "id": "b04ad891",
   "metadata": {
    "papermill": {
     "duration": 0.027621,
     "end_time": "2022-07-05T06:43:37.566020",
     "exception": false,
     "start_time": "2022-07-05T06:43:37.538399",
     "status": "completed"
    },
    "tags": []
   },
   "source": [
    "We can see that  Class 1 has the largest probability 0.96. As such, the model prediction for this instance will be class `1` and this is the same as the `predict` method.\n"
   ]
  },
  {
   "cell_type": "code",
   "execution_count": 34,
   "id": "364f86dc",
   "metadata": {
    "execution": {
     "iopub.execute_input": "2022-07-05T06:43:37.624474Z",
     "iopub.status.busy": "2022-07-05T06:43:37.623855Z",
     "iopub.status.idle": "2022-07-05T06:43:37.629567Z",
     "shell.execute_reply": "2022-07-05T06:43:37.628886Z"
    },
    "papermill": {
     "duration": 0.036739,
     "end_time": "2022-07-05T06:43:37.631477",
     "exception": false,
     "start_time": "2022-07-05T06:43:37.594738",
     "status": "completed"
    },
    "tags": []
   },
   "outputs": [
    {
     "data": {
      "text/plain": [
       "1"
      ]
     },
     "execution_count": 34,
     "metadata": {},
     "output_type": "execute_result"
    }
   ],
   "source": [
    "l1_model.predict(X_test[:1, :])[0]"
   ]
  },
  {
   "cell_type": "markdown",
   "id": "7012c11a",
   "metadata": {
    "papermill": {
     "duration": 0.027749,
     "end_time": "2022-07-05T06:43:37.687981",
     "exception": false,
     "start_time": "2022-07-05T06:43:37.660232",
     "status": "completed"
    },
    "tags": []
   },
   "source": [
    "Given the true labels (`y_test`) and predictions, we can evaluate the model performance by calling the utility `evaluate_metrics`  method.\n"
   ]
  },
  {
   "cell_type": "code",
   "execution_count": 35,
   "id": "0170029a",
   "metadata": {
    "execution": {
     "iopub.execute_input": "2022-07-05T06:43:37.745890Z",
     "iopub.status.busy": "2022-07-05T06:43:37.745236Z",
     "iopub.status.idle": "2022-07-05T06:43:37.753412Z",
     "shell.execute_reply": "2022-07-05T06:43:37.752607Z"
    },
    "papermill": {
     "duration": 0.039344,
     "end_time": "2022-07-05T06:43:37.755156",
     "exception": false,
     "start_time": "2022-07-05T06:43:37.715812",
     "status": "completed"
    },
    "tags": []
   },
   "outputs": [
    {
     "data": {
      "text/plain": [
       "{'accuracy': 0.8092006033182504,\n",
       " 'recall': array([0.85488722, 0.74377224, 0.87373737]),\n",
       " 'precision': array([0.78848821, 0.83516484, 0.8277512 ]),\n",
       " 'f1score': array([0.82034632, 0.78682353, 0.85012285])}"
      ]
     },
     "execution_count": 35,
     "metadata": {},
     "output_type": "execute_result"
    }
   ],
   "source": [
    "evaluate_metrics(y_test, l1_preds)"
   ]
  },
  {
   "cell_type": "markdown",
   "id": "0e3997be",
   "metadata": {
    "papermill": {
     "duration": 0.028184,
     "end_time": "2022-07-05T06:43:37.812408",
     "exception": false,
     "start_time": "2022-07-05T06:43:37.784224",
     "status": "completed"
    },
    "tags": []
   },
   "source": [
    "Now, we can see this logistic regression with l1 penalty has much better performance than l2. One possible reason is that l1 penalty may remove some correlated feature variables by shrinking their coefficents to zero. As such, the model is much simplified to avoid overfitting on the training data and better aligned with the logistic regression assumption that all features should be independent.\n"
   ]
  },
  {
   "cell_type": "markdown",
   "id": "3f31c65b",
   "metadata": {
    "papermill": {
     "duration": 0.027893,
     "end_time": "2022-07-05T06:43:37.868680",
     "exception": false,
     "start_time": "2022-07-05T06:43:37.840787",
     "status": "completed"
    },
    "tags": []
   },
   "source": [
    "### Confusion Matrix\n"
   ]
  },
  {
   "cell_type": "markdown",
   "id": "4180493d",
   "metadata": {
    "papermill": {
     "duration": 0.028066,
     "end_time": "2022-07-05T06:43:37.925630",
     "exception": false,
     "start_time": "2022-07-05T06:43:37.897564",
     "status": "completed"
    },
    "tags": []
   },
   "source": [
    "We can also plot the confusion matrix based on the true labels and predictions using the `confusion_matrix` method provided by `sklearn`,\n"
   ]
  },
  {
   "cell_type": "code",
   "execution_count": 36,
   "id": "28a9f953",
   "metadata": {
    "execution": {
     "iopub.execute_input": "2022-07-05T06:43:37.985039Z",
     "iopub.status.busy": "2022-07-05T06:43:37.984343Z",
     "iopub.status.idle": "2022-07-05T06:43:37.991431Z",
     "shell.execute_reply": "2022-07-05T06:43:37.990737Z"
    },
    "papermill": {
     "duration": 0.039081,
     "end_time": "2022-07-05T06:43:37.993542",
     "exception": false,
     "start_time": "2022-07-05T06:43:37.954461",
     "status": "completed"
    },
    "tags": []
   },
   "outputs": [],
   "source": [
    "cf = confusion_matrix(y_test, l1_preds)"
   ]
  },
  {
   "cell_type": "markdown",
   "id": "8b9a1f49",
   "metadata": {
    "papermill": {
     "duration": 0.027672,
     "end_time": "2022-07-05T06:43:38.050445",
     "exception": false,
     "start_time": "2022-07-05T06:43:38.022773",
     "status": "completed"
    },
    "tags": []
   },
   "source": [
    "and easily visualize it using a heatmap method provided by `seaborn`.\n"
   ]
  },
  {
   "cell_type": "code",
   "execution_count": 37,
   "id": "9a9e5ab2",
   "metadata": {
    "execution": {
     "iopub.execute_input": "2022-07-05T06:43:38.108148Z",
     "iopub.status.busy": "2022-07-05T06:43:38.107529Z",
     "iopub.status.idle": "2022-07-05T06:43:38.330826Z",
     "shell.execute_reply": "2022-07-05T06:43:38.329903Z"
    },
    "papermill": {
     "duration": 0.254822,
     "end_time": "2022-07-05T06:43:38.332948",
     "exception": false,
     "start_time": "2022-07-05T06:43:38.078126",
     "status": "completed"
    },
    "tags": []
   },
   "outputs": [
    {
     "data": {
      "image/png": "[encoded data removed]",
      "text/plain": [
       "<Figure size 1152x864 with 2 Axes>"
      ]
     },
     "metadata": {
      "needs_background": "light"
     },
     "output_type": "display_data"
    }
   ],
   "source": [
    "plt.figure(figsize=(16, 12))\n",
    "ax = sns.heatmap(cf, annot=True, fmt=\"d\", xticklabels=[\"In Moderation\", \"Less Often\", \"More Often\"], \n",
    "                 yticklabels=[\"In Moderation\", \"Less Often\", \"More Often\"])\n",
    "ax.set(title=\"Confusion Matrix\");"
   ]
  },
  {
   "cell_type": "code",
   "execution_count": 38,
   "id": "39427be9",
   "metadata": {
    "execution": {
     "iopub.execute_input": "2022-07-05T06:43:38.391457Z",
     "iopub.status.busy": "2022-07-05T06:43:38.391041Z",
     "iopub.status.idle": "2022-07-05T06:43:38.570073Z",
     "shell.execute_reply": "2022-07-05T06:43:38.569095Z"
    },
    "papermill": {
     "duration": 0.210436,
     "end_time": "2022-07-05T06:43:38.572072",
     "exception": false,
     "start_time": "2022-07-05T06:43:38.361636",
     "status": "completed"
    },
    "tags": []
   },
   "outputs": [
    {
     "data": {
      "text/plain": [
       "<sklearn.metrics._plot.confusion_matrix.ConfusionMatrixDisplay at 0x7ff7a378cb50>"
      ]
     },
     "execution_count": 38,
     "metadata": {},
     "output_type": "execute_result"
    },
    {
     "data": {
      "image/png": "[encoded data removed]",
      "text/plain": [
       "<Figure size 432x288 with 2 Axes>"
      ]
     },
     "metadata": {
      "needs_background": "light"
     },
     "output_type": "display_data"
    }
   ],
   "source": [
    "from sklearn.metrics import ConfusionMatrixDisplay\n",
    "disp = ConfusionMatrixDisplay(confusion_matrix=cf, display_labels=l1_model.classes_)\n",
    "disp.plot()"
   ]
  },
  {
   "cell_type": "markdown",
   "id": "780547d0",
   "metadata": {
    "papermill": {
     "duration": 0.028974,
     "end_time": "2022-07-05T06:43:38.630425",
     "exception": false,
     "start_time": "2022-07-05T06:43:38.601451",
     "status": "completed"
    },
    "tags": []
   },
   "source": [
    "### Interpret logistic regression models\n"
   ]
  },
  {
   "cell_type": "markdown",
   "id": "b6e8ed0f",
   "metadata": {
    "papermill": {
     "duration": 0.029484,
     "end_time": "2022-07-05T06:43:38.688853",
     "exception": false,
     "start_time": "2022-07-05T06:43:38.659369",
     "status": "completed"
    },
    "tags": []
   },
   "source": [
    "One way to interpret logistic regression models is by analyzing feature coefficients. Although it may not be as effective as the regular linear regression models because the logistic regression model has a sigmoid function, we can still get a sense for the importance or impact of each feature.\n"
   ]
  },
  {
   "cell_type": "markdown",
   "id": "df52c646",
   "metadata": {
    "papermill": {
     "duration": 0.029164,
     "end_time": "2022-07-05T06:43:38.746863",
     "exception": false,
     "start_time": "2022-07-05T06:43:38.717699",
     "status": "completed"
    },
    "tags": []
   },
   "source": [
    "We can check the coefficients for logisti regression model using its `coef_` attribute:\n"
   ]
  },
  {
   "cell_type": "code",
   "execution_count": 39,
   "id": "0c472d39",
   "metadata": {
    "execution": {
     "iopub.execute_input": "2022-07-05T06:43:38.806824Z",
     "iopub.status.busy": "2022-07-05T06:43:38.806418Z",
     "iopub.status.idle": "2022-07-05T06:43:38.812720Z",
     "shell.execute_reply": "2022-07-05T06:43:38.812071Z"
    },
    "papermill": {
     "duration": 0.038738,
     "end_time": "2022-07-05T06:43:38.814489",
     "exception": false,
     "start_time": "2022-07-05T06:43:38.775751",
     "status": "completed"
    },
    "tags": []
   },
   "outputs": [
    {
     "data": {
      "text/plain": [
       "array([[ 1.02260612e+01,  0.00000000e+00,  0.00000000e+00,\n",
       "         5.28211590e+00,  0.00000000e+00, -3.70560617e+00,\n",
       "         0.00000000e+00,  9.11923717e-01,  0.00000000e+00,\n",
       "         2.26627496e+01,  0.00000000e+00,  0.00000000e+00,\n",
       "         4.30564271e+00,  1.36942545e-01,  0.00000000e+00,\n",
       "         1.83340368e+00, -2.06761520e-02],\n",
       "       [ 0.00000000e+00,  4.20223530e+00,  2.46648466e+01,\n",
       "         0.00000000e+00,  0.00000000e+00,  0.00000000e+00,\n",
       "         4.94277520e+00,  0.00000000e+00,  1.32251480e+00,\n",
       "        -6.79834695e+00,  1.51669845e+01,  3.46648083e+00,\n",
       "         0.00000000e+00, -1.71144958e+00,  0.00000000e+00,\n",
       "        -1.47866235e-01,  0.00000000e+00],\n",
       "       [-1.11431018e+02, -2.91410454e+01,  0.00000000e+00,\n",
       "         0.00000000e+00,  0.00000000e+00,  0.00000000e+00,\n",
       "         0.00000000e+00, -1.59642876e+00, -4.13437893e+01,\n",
       "         0.00000000e+00, -9.27079323e-01,  0.00000000e+00,\n",
       "         0.00000000e+00,  0.00000000e+00,  0.00000000e+00,\n",
       "         0.00000000e+00,  0.00000000e+00]])"
      ]
     },
     "execution_count": 39,
     "metadata": {},
     "output_type": "execute_result"
    }
   ],
   "source": [
    "l1_model.coef_"
   ]
  },
  {
   "cell_type": "markdown",
   "id": "d6c1153d",
   "metadata": {
    "papermill": {
     "duration": 0.028823,
     "end_time": "2022-07-05T06:43:38.873414",
     "exception": false,
     "start_time": "2022-07-05T06:43:38.844591",
     "status": "completed"
    },
    "tags": []
   },
   "source": [
    "The `coef_` is a coefficients list with three elements, one element is the actual coefficent for class 0, 1, 2. To better analyze the coefficients, let's use three utility methods to sort and visualize them.\n"
   ]
  },
  {
   "cell_type": "code",
   "execution_count": 40,
   "id": "45686741",
   "metadata": {
    "execution": {
     "iopub.execute_input": "2022-07-05T06:43:38.933999Z",
     "iopub.status.busy": "2022-07-05T06:43:38.933328Z",
     "iopub.status.idle": "2022-07-05T06:43:38.943523Z",
     "shell.execute_reply": "2022-07-05T06:43:38.942910Z"
    },
    "papermill": {
     "duration": 0.043257,
     "end_time": "2022-07-05T06:43:38.945525",
     "exception": false,
     "start_time": "2022-07-05T06:43:38.902268",
     "status": "completed"
    },
    "tags": []
   },
   "outputs": [],
   "source": [
    "# Extract and sort feature coefficients\n",
    "def get_feature_coefs(regression_model, label_index, columns):\n",
    "    coef_dict = {}\n",
    "    for coef, feat in zip(regression_model.coef_[label_index, :], columns):\n",
    "        if abs(coef) >= 0.01:\n",
    "            coef_dict[feat] = coef\n",
    "    # Sort coefficients\n",
    "    coef_dict = {k: v for k, v in sorted(coef_dict.items(), key=lambda item: item[1])}\n",
    "    return coef_dict\n",
    "\n",
    "# Generate bar colors based on if value is negative or positive\n",
    "def get_bar_colors(values):\n",
    "    color_vals = []\n",
    "    for val in values:\n",
    "        if val <= 0:\n",
    "            color_vals.append('r')\n",
    "        else:\n",
    "            color_vals.append('g')\n",
    "    return color_vals\n",
    "\n",
    "# Visualize coefficients\n",
    "def visualize_coefs(coef_dict):\n",
    "    features = list(coef_dict.keys())\n",
    "    values = list(coef_dict.values())\n",
    "    y_pos = np.arange(len(features))\n",
    "    color_vals = get_bar_colors(values)\n",
    "    plt.rcdefaults()\n",
    "    fig, ax = plt.subplots()\n",
    "    ax.barh(y_pos, values, align='center', color=color_vals)\n",
    "    ax.set_yticks(y_pos)\n",
    "    ax.set_yticklabels(features)\n",
    "    # labels read top-to-bottom\n",
    "    ax.invert_yaxis()  \n",
    "    ax.set_xlabel('Feature Coefficients')\n",
    "    ax.set_title('')\n",
    "    plt.show()"
   ]
  },
  {
   "cell_type": "markdown",
   "id": "5ac46fbe",
   "metadata": {
    "papermill": {
     "duration": 0.028944,
     "end_time": "2022-07-05T06:43:39.004321",
     "exception": false,
     "start_time": "2022-07-05T06:43:38.975377",
     "status": "completed"
    },
    "tags": []
   },
   "source": [
    "Then, let's visualize the sorted coefficient for class 1, the `Less Often` class:\n"
   ]
  },
  {
   "cell_type": "code",
   "execution_count": 41,
   "id": "cca17fd2",
   "metadata": {
    "execution": {
     "iopub.execute_input": "2022-07-05T06:43:39.066125Z",
     "iopub.status.busy": "2022-07-05T06:43:39.065454Z",
     "iopub.status.idle": "2022-07-05T06:43:39.069473Z",
     "shell.execute_reply": "2022-07-05T06:43:39.068904Z"
    },
    "papermill": {
     "duration": 0.037636,
     "end_time": "2022-07-05T06:43:39.071139",
     "exception": false,
     "start_time": "2022-07-05T06:43:39.033503",
     "status": "completed"
    },
    "tags": []
   },
   "outputs": [],
   "source": [
    "# Get the coefficents for Class 1, Less Often\n",
    "coef_dict = get_feature_coefs(l1_model, 1, feature_cols)"
   ]
  },
  {
   "cell_type": "code",
   "execution_count": 42,
   "id": "2bc390c1",
   "metadata": {
    "execution": {
     "iopub.execute_input": "2022-07-05T06:43:39.130980Z",
     "iopub.status.busy": "2022-07-05T06:43:39.130330Z",
     "iopub.status.idle": "2022-07-05T06:43:39.289697Z",
     "shell.execute_reply": "2022-07-05T06:43:39.289045Z"
    },
    "papermill": {
     "duration": 0.192268,
     "end_time": "2022-07-05T06:43:39.292282",
     "exception": false,
     "start_time": "2022-07-05T06:43:39.100014",
     "status": "completed"
    },
    "tags": []
   },
   "outputs": [
    {
     "data": {
      "image/png": "[encoded data removed]",
      "text/plain": [
       "<Figure size 640x480 with 1 Axes>"
      ]
     },
     "metadata": {},
     "output_type": "display_data"
    }
   ],
   "source": [
    "visualize_coefs(coef_dict)"
   ]
  },
  {
   "cell_type": "markdown",
   "id": "6ad62780",
   "metadata": {
    "papermill": {
     "duration": 0.029418,
     "end_time": "2022-07-05T06:43:39.351847",
     "exception": false,
     "start_time": "2022-07-05T06:43:39.322429",
     "status": "completed"
    },
    "tags": []
   },
   "source": [
    "As we can see, unhealthy nutrients such as Saturated Fat, Sugars, Cholesterol, Total Fat, etc., have high positive coefficients. Food items containing unhealthy nutrients will have higher coeficients and will be more likely to be categorized in the 'Less Often' class.\n"
   ]
  },
  {
   "cell_type": "markdown",
   "id": "b774280b",
   "metadata": {
    "papermill": {
     "duration": 0.029603,
     "end_time": "2022-07-05T06:43:39.411250",
     "exception": false,
     "start_time": "2022-07-05T06:43:39.381647",
     "status": "completed"
    },
    "tags": []
   },
   "source": [
    "Next, let's see the coefficents for Class 2, `More Often`:\n"
   ]
  },
  {
   "cell_type": "code",
   "execution_count": 43,
   "id": "57358bc1",
   "metadata": {
    "execution": {
     "iopub.execute_input": "2022-07-05T06:43:39.473352Z",
     "iopub.status.busy": "2022-07-05T06:43:39.472688Z",
     "iopub.status.idle": "2022-07-05T06:43:39.648704Z",
     "shell.execute_reply": "2022-07-05T06:43:39.647971Z"
    },
    "papermill": {
     "duration": 0.209408,
     "end_time": "2022-07-05T06:43:39.650712",
     "exception": false,
     "start_time": "2022-07-05T06:43:39.441304",
     "status": "completed"
    },
    "tags": []
   },
   "outputs": [
    {
     "data": {
      "image/png": "[encoded data removed]",
      "text/plain": [
       "<Figure size 640x480 with 1 Axes>"
      ]
     },
     "metadata": {},
     "output_type": "display_data"
    }
   ],
   "source": [
    "# Coefficients for Class 2\n",
    "coef_dict = get_feature_coefs(l1_model, 2, feature_cols)\n",
    "visualize_coefs(coef_dict)"
   ]
  },
  {
   "cell_type": "markdown",
   "id": "9e8748c9",
   "metadata": {
    "papermill": {
     "duration": 0.030216,
     "end_time": "2022-07-05T06:43:39.711239",
     "exception": false,
     "start_time": "2022-07-05T06:43:39.681023",
     "status": "completed"
    },
    "tags": []
   },
   "source": [
    "Conversely, if a food item has a high amount of calories, total carbohydrates, and total fat, then it is unlikely to be categorized in the 'More Often' class.\n"
   ]
  },
  {
   "cell_type": "code",
   "execution_count": 44,
   "id": "9b365f90",
   "metadata": {
    "execution": {
     "iopub.execute_input": "2022-07-05T06:43:39.773659Z",
     "iopub.status.busy": "2022-07-05T06:43:39.772599Z",
     "iopub.status.idle": "2022-07-05T06:43:39.977514Z",
     "shell.execute_reply": "2022-07-05T06:43:39.976841Z"
    },
    "papermill": {
     "duration": 0.237923,
     "end_time": "2022-07-05T06:43:39.979401",
     "exception": false,
     "start_time": "2022-07-05T06:43:39.741478",
     "status": "completed"
    },
    "tags": []
   },
   "outputs": [
    {
     "data": {
      "image/png": "[encoded data removed]",
      "text/plain": [
       "<Figure size 640x480 with 1 Axes>"
      ]
     },
     "metadata": {},
     "output_type": "display_data"
    }
   ],
   "source": [
    "# Get the coefficents for Class 0, In moderation\n",
    "coef_dict = get_feature_coefs(l1_model, 0, feature_cols)\n",
    "visualize_coefs(coef_dict)"
   ]
  },
  {
   "cell_type": "markdown",
   "id": "3aafb6c2",
   "metadata": {
    "papermill": {
     "duration": 0.030559,
     "end_time": "2022-07-05T06:43:40.041217",
     "exception": false,
     "start_time": "2022-07-05T06:43:40.010658",
     "status": "completed"
    },
    "tags": []
   },
   "source": [
    "## Coding Exercise: Train and evaluate a logistic regression model with elastic-net penality\n"
   ]
  },
  {
   "cell_type": "markdown",
   "id": "e28967b3",
   "metadata": {
    "papermill": {
     "duration": 0.030756,
     "end_time": "2022-07-05T06:43:40.103150",
     "exception": false,
     "start_time": "2022-07-05T06:43:40.072394",
     "status": "completed"
    },
    "tags": []
   },
   "source": [
    "Now, it's your turn to walk through the end-to-end process of defining, building, evaluating, and interpreting a logistic regression model.\n"
   ]
  },
  {
   "cell_type": "markdown",
   "id": "23b15a22",
   "metadata": {
    "papermill": {
     "duration": 0.030312,
     "end_time": "2022-07-05T06:43:40.164170",
     "exception": false,
     "start_time": "2022-07-05T06:43:40.133858",
     "status": "completed"
    },
    "tags": []
   },
   "source": [
    "### Define a logistic regression with elastic-net penality\n"
   ]
  },
  {
   "cell_type": "code",
   "execution_count": 45,
   "id": "cd177b46",
   "metadata": {
    "execution": {
     "iopub.execute_input": "2022-07-05T06:43:40.228397Z",
     "iopub.status.busy": "2022-07-05T06:43:40.227362Z",
     "iopub.status.idle": "2022-07-05T06:43:40.234209Z",
     "shell.execute_reply": "2022-07-05T06:43:40.233339Z"
    },
    "papermill": {
     "duration": 0.040785,
     "end_time": "2022-07-05T06:43:40.236214",
     "exception": false,
     "start_time": "2022-07-05T06:43:40.195429",
     "status": "completed"
    },
    "tags": []
   },
   "outputs": [],
   "source": [
    "from sklearn.linear_model import LogisticRegression\n",
    "\n",
    "# Type your code here\n",
    "# HINT: sklearn only support saga solver for elastic-net penality\n",
    "# and you need to set another l1_ratio to be within 0 < l1_ratio <1, in order to actually use elastic-net\n",
    "\n",
    "# L1 penalty to shrink coefficients without removing any features from the model\n",
    "penalty= 'elasticnet'\n",
    "l1_ratio = 0.5\n",
    "# Our classification problem is multinomial\n",
    "multi_class = 'multinomial'\n",
    "# Use saga for L1 penalty and multinomial classes\n",
    "solver = 'saga'\n",
    "# Max iteration = 1000\n",
    "max_iter = 1000\n",
    "\n",
    "# Define a logistic regression model with above arguments\n",
    "l_elasticnet_model = LogisticRegression(random_state=rs, penalty=penalty, multi_class=multi_class, solver=solver, max_iter = 1000, l1_ratio=0.5)"
   ]
  },
  {
   "cell_type": "code",
   "execution_count": 46,
   "id": "01d898df",
   "metadata": {
    "execution": {
     "iopub.execute_input": "2022-07-05T06:43:40.298820Z",
     "iopub.status.busy": "2022-07-05T06:43:40.298454Z",
     "iopub.status.idle": "2022-07-05T06:43:40.302992Z",
     "shell.execute_reply": "2022-07-05T06:43:40.302103Z"
    },
    "papermill": {
     "duration": 0.039411,
     "end_time": "2022-07-05T06:43:40.306150",
     "exception": false,
     "start_time": "2022-07-05T06:43:40.266739",
     "status": "completed"
    },
    "tags": []
   },
   "outputs": [
    {
     "name": "stdout",
     "output_type": "stream",
     "text": [
      "{'C': 1.0, 'class_weight': None, 'dual': False, 'fit_intercept': True, 'intercept_scaling': 1, 'l1_ratio': 0.5, 'max_iter': 1000, 'multi_class': 'multinomial', 'n_jobs': None, 'penalty': 'elasticnet', 'random_state': 123, 'solver': 'saga', 'tol': 0.0001, 'verbose': 0, 'warm_start': False}\n"
     ]
    }
   ],
   "source": [
    "import sklearn\n",
    "print(l_elasticnet_model.get_params())"
   ]
  },
  {
   "cell_type": "markdown",
   "id": "8974b97b",
   "metadata": {
    "papermill": {
     "duration": 0.030537,
     "end_time": "2022-07-05T06:43:40.367334",
     "exception": false,
     "start_time": "2022-07-05T06:43:40.336797",
     "status": "completed"
    },
    "tags": []
   },
   "source": [
    "### Train the model with training data\n"
   ]
  },
  {
   "cell_type": "code",
   "execution_count": 47,
   "id": "36d17d2b",
   "metadata": {
    "execution": {
     "iopub.execute_input": "2022-07-05T06:43:40.430536Z",
     "iopub.status.busy": "2022-07-05T06:43:40.430137Z",
     "iopub.status.idle": "2022-07-05T06:43:40.676294Z",
     "shell.execute_reply": "2022-07-05T06:43:40.675174Z"
    },
    "papermill": {
     "duration": 0.280343,
     "end_time": "2022-07-05T06:43:40.678439",
     "exception": false,
     "start_time": "2022-07-05T06:43:40.398096",
     "status": "completed"
    },
    "tags": []
   },
   "outputs": [
    {
     "data": {
      "text/plain": [
       "LogisticRegression(l1_ratio=0.5, max_iter=1000, multi_class='multinomial',\n",
       "                   penalty='elasticnet', random_state=123, solver='saga')"
      ]
     },
     "execution_count": 47,
     "metadata": {},
     "output_type": "execute_result"
    }
   ],
   "source": [
    "# Type your code here\n",
    "l_elasticnet_model.fit(X_train, y_train)"
   ]
  },
  {
   "cell_type": "markdown",
   "id": "b598ed84",
   "metadata": {
    "papermill": {
     "duration": 0.030276,
     "end_time": "2022-07-05T06:43:40.739332",
     "exception": false,
     "start_time": "2022-07-05T06:43:40.709056",
     "status": "completed"
    },
    "tags": []
   },
   "source": [
    "### Evaluate the model using accuracy, precision, recall, and F1score\n"
   ]
  },
  {
   "cell_type": "code",
   "execution_count": 48,
   "id": "6d1e1aad",
   "metadata": {
    "execution": {
     "iopub.execute_input": "2022-07-05T06:43:40.802869Z",
     "iopub.status.busy": "2022-07-05T06:43:40.802293Z",
     "iopub.status.idle": "2022-07-05T06:43:40.807104Z",
     "shell.execute_reply": "2022-07-05T06:43:40.806395Z"
    },
    "papermill": {
     "duration": 0.038773,
     "end_time": "2022-07-05T06:43:40.808959",
     "exception": false,
     "start_time": "2022-07-05T06:43:40.770186",
     "status": "completed"
    },
    "tags": []
   },
   "outputs": [],
   "source": [
    "# Type your code here\n",
    "l_elasticnet_preds = l_elasticnet_model.predict(X_test)"
   ]
  },
  {
   "cell_type": "code",
   "execution_count": 49,
   "id": "73830226",
   "metadata": {
    "execution": {
     "iopub.execute_input": "2022-07-05T06:43:40.872411Z",
     "iopub.status.busy": "2022-07-05T06:43:40.871796Z",
     "iopub.status.idle": "2022-07-05T06:43:40.880584Z",
     "shell.execute_reply": "2022-07-05T06:43:40.879713Z"
    },
    "papermill": {
     "duration": 0.042977,
     "end_time": "2022-07-05T06:43:40.882459",
     "exception": false,
     "start_time": "2022-07-05T06:43:40.839482",
     "status": "completed"
    },
    "tags": []
   },
   "outputs": [
    {
     "data": {
      "text/plain": [
       "{'accuracy': 0.7907239819004525,\n",
       " 'recall': array([0.86691729, 0.73220641, 0.61111111]),\n",
       " 'precision': array([0.75310255, 0.83723296, 0.87681159]),\n",
       " 'f1score': array([0.80601188, 0.78120551, 0.7202381 ])}"
      ]
     },
     "execution_count": 49,
     "metadata": {},
     "output_type": "execute_result"
    }
   ],
   "source": [
    "evaluate_metrics(y_test, l_elasticnet_preds)"
   ]
  },
  {
   "cell_type": "markdown",
   "id": "f1d63ec4",
   "metadata": {
    "papermill": {
     "duration": 0.030423,
     "end_time": "2022-07-05T06:43:40.943712",
     "exception": false,
     "start_time": "2022-07-05T06:43:40.913289",
     "status": "completed"
    },
    "tags": []
   },
   "source": [
    "### Plot confusion matrix\n"
   ]
  },
  {
   "cell_type": "code",
   "execution_count": 50,
   "id": "757e8979",
   "metadata": {
    "execution": {
     "iopub.execute_input": "2022-07-05T06:43:41.007484Z",
     "iopub.status.busy": "2022-07-05T06:43:41.006885Z",
     "iopub.status.idle": "2022-07-05T06:43:41.311929Z",
     "shell.execute_reply": "2022-07-05T06:43:41.310968Z"
    },
    "papermill": {
     "duration": 0.339704,
     "end_time": "2022-07-05T06:43:41.314165",
     "exception": false,
     "start_time": "2022-07-05T06:43:40.974461",
     "status": "completed"
    },
    "tags": []
   },
   "outputs": [
    {
     "data": {
      "image/png": "[encoded data removed]",
      "text/plain": [
       "<Figure size 1600x1200 with 2 Axes>"
      ]
     },
     "metadata": {},
     "output_type": "display_data"
    }
   ],
   "source": [
    "# Type your code here\n",
    "cf = confusion_matrix(y_test, l_elasticnet_preds)\n",
    "plt.figure(figsize=(16, 12))\n",
    "ax = sns.heatmap(cf, annot=True, fmt=\"d\", xticklabels=[\"In Moderation\", \"Less Often\", \"More Often\"], \n",
    "                 yticklabels=[\"In Moderation\", \"Less Often\", \"More Often\"])\n",
    "ax.set(title=\"Confusion Matrix\");"
   ]
  },
  {
   "cell_type": "markdown",
   "id": "b3bcfaa3",
   "metadata": {
    "papermill": {
     "duration": 0.031288,
     "end_time": "2022-07-05T06:43:41.376836",
     "exception": false,
     "start_time": "2022-07-05T06:43:41.345548",
     "status": "completed"
    },
    "tags": []
   },
   "source": [
    "### Interpret the model by analysing its coefficients\n"
   ]
  },
  {
   "cell_type": "code",
   "execution_count": 51,
   "id": "7301586f",
   "metadata": {
    "execution": {
     "iopub.execute_input": "2022-07-05T06:43:41.446815Z",
     "iopub.status.busy": "2022-07-05T06:43:41.446459Z",
     "iopub.status.idle": "2022-07-05T06:43:41.690711Z",
     "shell.execute_reply": "2022-07-05T06:43:41.689949Z"
    },
    "papermill": {
     "duration": 0.282352,
     "end_time": "2022-07-05T06:43:41.692793",
     "exception": false,
     "start_time": "2022-07-05T06:43:41.410441",
     "status": "completed"
    },
    "tags": []
   },
   "outputs": [
    {
     "data": {
      "image/png": "[encoded data removed]",
      "text/plain": [
       "<Figure size 640x480 with 1 Axes>"
      ]
     },
     "metadata": {},
     "output_type": "display_data"
    }
   ],
   "source": [
    "# Type your code here\n",
    "# Get the coefficents for Class 0, In moderation\n",
    "coef_dict = get_feature_coefs(l_elasticnet_model, 0, feature_cols)\n",
    "visualize_coefs(coef_dict)"
   ]
  },
  {
   "cell_type": "code",
   "execution_count": 52,
   "id": "4080fed2",
   "metadata": {
    "execution": {
     "iopub.execute_input": "2022-07-05T06:43:41.760126Z",
     "iopub.status.busy": "2022-07-05T06:43:41.759347Z",
     "iopub.status.idle": "2022-07-05T06:43:42.003500Z",
     "shell.execute_reply": "2022-07-05T06:43:42.002761Z"
    },
    "papermill": {
     "duration": 0.280171,
     "end_time": "2022-07-05T06:43:42.005588",
     "exception": false,
     "start_time": "2022-07-05T06:43:41.725417",
     "status": "completed"
    },
    "tags": []
   },
   "outputs": [
    {
     "data": {
      "image/png": "[encoded data removed]",
      "text/plain": [
       "<Figure size 640x480 with 1 Axes>"
      ]
     },
     "metadata": {},
     "output_type": "display_data"
    }
   ],
   "source": [
    "# Type your code here\n",
    "# Get the coefficents for Class 1, Less Often\n",
    "coef_dict = get_feature_coefs(l_elasticnet_model, 1, feature_cols)\n",
    "visualize_coefs(coef_dict)"
   ]
  },
  {
   "cell_type": "code",
   "execution_count": 53,
   "id": "69404cf4",
   "metadata": {
    "execution": {
     "iopub.execute_input": "2022-07-05T06:43:42.073428Z",
     "iopub.status.busy": "2022-07-05T06:43:42.072709Z",
     "iopub.status.idle": "2022-07-05T06:43:42.304555Z",
     "shell.execute_reply": "2022-07-05T06:43:42.303886Z"
    },
    "papermill": {
     "duration": 0.267939,
     "end_time": "2022-07-05T06:43:42.306571",
     "exception": false,
     "start_time": "2022-07-05T06:43:42.038632",
     "status": "completed"
    },
    "tags": []
   },
   "outputs": [
    {
     "data": {
      "image/png": "[encoded data removed]",
      "text/plain": [
       "<Figure size 640x480 with 1 Axes>"
      ]
     },
     "metadata": {},
     "output_type": "display_data"
    }
   ],
   "source": [
    "# Type your code here\n",
    "# Get the coefficents for Class 2, Less Often\n",
    "coef_dict = get_feature_coefs(l_elasticnet_model, 2, feature_cols)\n",
    "visualize_coefs(coef_dict)"
   ]
  },
  {
   "cell_type": "markdown",
   "id": "2ec37ec0",
   "metadata": {
    "papermill": {
     "duration": 0.034188,
     "end_time": "2022-07-05T06:43:42.374458",
     "exception": false,
     "start_time": "2022-07-05T06:43:42.340270",
     "status": "completed"
    },
    "tags": []
   },
   "source": [
    "<details><summary>Click here for a sample solution</summary>\n",
    "\n",
    "```python\n",
    "# elasticnet penalty to shrink coefficients without removing any features from the model\n",
    "penalty= 'elasticnet'\n",
    "# Our classification problem is multinomial\n",
    "multi_class = 'multinomial'\n",
    "# Use saga for L1 penalty and multinomial classes\n",
    "solver = 'saga'\n",
    "# Max iteration = 1000\n",
    "max_iter = 1000\n",
    "# l1_ratio\n",
    "l1_ratio = 0.1\n",
    "\n",
    "# Define a elastic-net model\n",
    "en_model = LogisticRegression(random_state=rs, penalty=penalty, multi_class=multi_class, solver=solver, max_iter = 1000, l1_ratio=l1_ratio)\n",
    "en_model.fit(X_train, y_train)\n",
    "# Make predictions\n",
    "preds = en_model.predict(X_test)\n",
    "```\n",
    "\n",
    "</details>\n"
   ]
  },
  {
   "cell_type": "markdown",
   "id": "3bbbed61",
   "metadata": {
    "papermill": {
     "duration": 0.03391,
     "end_time": "2022-07-05T06:43:42.441646",
     "exception": false,
     "start_time": "2022-07-05T06:43:42.407736",
     "status": "completed"
    },
    "tags": []
   },
   "source": [
    "## Next steps\n"
   ]
  },
  {
   "cell_type": "markdown",
   "id": "48a4a35d",
   "metadata": {
    "papermill": {
     "duration": 0.0329,
     "end_time": "2022-07-05T06:43:42.507769",
     "exception": false,
     "start_time": "2022-07-05T06:43:42.474869",
     "status": "completed"
    },
    "tags": []
   },
   "source": [
    "Great! Now you have learned about and practiced applying a logistic regression model to solve a real-world food classification problem for diabetic patients. You also learned how to evaluate and interpret the trained logistic regression models.\n"
   ]
  },
  {
   "cell_type": "markdown",
   "id": "ab01263d",
   "metadata": {
    "papermill": {
     "duration": 0.032876,
     "end_time": "2022-07-05T06:43:42.574045",
     "exception": false,
     "start_time": "2022-07-05T06:43:42.541169",
     "status": "completed"
    },
    "tags": []
   },
   "source": [
    "Next, you will be learning other popular classification models with different structures, assumptions, cost functions, and application scenarios.\n"
   ]
  },
  {
   "cell_type": "markdown",
   "id": "2d72fdb2",
   "metadata": {
    "papermill": {
     "duration": 0.032986,
     "end_time": "2022-07-05T06:43:42.641002",
     "exception": false,
     "start_time": "2022-07-05T06:43:42.608016",
     "status": "completed"
    },
    "tags": []
   },
   "source": [
    "## Authors\n"
   ]
  },
  {
   "cell_type": "markdown",
   "id": "d69eaf3e",
   "metadata": {
    "papermill": {
     "duration": 0.032727,
     "end_time": "2022-07-05T06:43:42.707503",
     "exception": false,
     "start_time": "2022-07-05T06:43:42.674776",
     "status": "completed"
    },
    "tags": []
   },
   "source": [
    "[Yan Luo](https://www.linkedin.com/in/yan-luo-96288783/?utm_medium=Exinfluencer&utm_source=Exinfluencer&utm_content=000026UJ&utm_term=10006555&utm_id=NA-SkillsNetwork-Channel-SkillsNetworkCoursesIBMML241ENSkillsNetwork31576874-2021-01-01)\n"
   ]
  },
  {
   "cell_type": "markdown",
   "id": "97db6cb7",
   "metadata": {
    "papermill": {
     "duration": 0.033686,
     "end_time": "2022-07-05T06:43:42.774147",
     "exception": false,
     "start_time": "2022-07-05T06:43:42.740461",
     "status": "completed"
    },
    "tags": []
   },
   "source": [
    "### Other Contributors\n"
   ]
  },
  {
   "cell_type": "markdown",
   "id": "4ac43f6d",
   "metadata": {
    "papermill": {
     "duration": 0.032957,
     "end_time": "2022-07-05T06:43:42.840460",
     "exception": false,
     "start_time": "2022-07-05T06:43:42.807503",
     "status": "completed"
    },
    "tags": []
   },
   "source": [
    "## Change Log\n"
   ]
  },
  {
   "cell_type": "markdown",
   "id": "dec9aacc",
   "metadata": {
    "papermill": {
     "duration": 0.032957,
     "end_time": "2022-07-05T06:43:42.906739",
     "exception": false,
     "start_time": "2022-07-05T06:43:42.873782",
     "status": "completed"
    },
    "tags": []
   },
   "source": [
    "| Date (YYYY-MM-DD) | Version | Changed By | Change Description          |\n",
    "| ----------------- | ------- | ---------- | --------------------------- |\n",
    "| 2021-10-25        | 1.0     | Yan        | Created the initial version |\n"
   ]
  },
  {
   "cell_type": "markdown",
   "id": "c2adffc8",
   "metadata": {
    "papermill": {
     "duration": 0.034199,
     "end_time": "2022-07-05T06:43:42.974368",
     "exception": false,
     "start_time": "2022-07-05T06:43:42.940169",
     "status": "completed"
    },
    "tags": []
   },
   "source": [
    "Copyright © 2021 IBM Corporation. All rights reserved.\n"
   ]
  }
 ],
 "metadata": {
  "kernelspec": {
   "display_name": "Python 3",
   "language": "python",
   "name": "python3"
  },
  "language_info": {
   "codemirror_mode": {
    "name": "ipython",
    "version": 3
   },
   "file_extension": ".py",
   "mimetype": "text/x-python",
   "name": "python",
   "nbconvert_exporter": "python",
   "pygments_lexer": "ipython3",
   "version": "3.7.12"
  },
  "papermill": {
   "default_parameters": {},
   "duration": 27.753223,
   "end_time": "2022-07-05T06:43:43.728567",
   "environment_variables": {},
   "exception": null,
   "input_path": "__notebook__.ipynb",
   "output_path": "__notebook__.ipynb",
   "parameters": {},
   "start_time": "2022-07-05T06:43:15.975344",
   "version": "2.3.4"
  }
 },
 "nbformat": 4,
 "nbformat_minor": 5
}
