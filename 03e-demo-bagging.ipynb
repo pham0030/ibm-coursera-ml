{
 "cells": [
  {
   "cell_type": "markdown",
   "id": "22b788e5",
   "metadata": {
    "papermill": {
     "duration": 0.011858,
     "end_time": "2022-07-05T06:59:07.030755",
     "exception": false,
     "start_time": "2022-07-05T06:59:07.018897",
     "status": "completed"
    },
    "run_control": {
     "marked": true
    },
    "tags": []
   },
   "source": [
    "<p style=\"text-align:center\">\n",
    "    <a href=\"https://skills.network/?utm_medium=Exinfluencer&utm_source=Exinfluencer&utm_content=000026UJ&utm_term=10006555&utm_id=NA-SkillsNetwork-Channel-SkillsNetworkCoursesIBMML241ENSkillsNetwork31576874-2022-01-01\" target=\"_blank\">\n",
    "    <img src=\"https://cf-courses-data.s3.us.cloud-object-storage.appdomain.cloud/assets/logos/SN_web_lightmode.png\" width=\"200\" alt=\"Skills Network Logo\"  />\n",
    "    </a>\n",
    "</p>\n",
    "\n",
    "# Machine Learning Foundation\n",
    "\n",
    "## Course 3, Part e: Bagging DEMO\n",
    "\n",
    "Estimated time needed: **45** minutes\n",
    "\n",
    "## Objectives\n",
    "\n",
    "After completing this demo you will be able to:\n",
    "\n",
    "*   Understand what Bagging is\n",
    "*   Recognize that Random Forests is an implementation of bagging and its abilities\n",
    "*   Describe the advantages of Random Forests over simply adding extra Decision Trees\n"
   ]
  },
  {
   "cell_type": "markdown",
   "id": "2da5d59f",
   "metadata": {
    "papermill": {
     "duration": 0.01024,
     "end_time": "2022-07-05T06:59:07.051638",
     "exception": false,
     "start_time": "2022-07-05T06:59:07.041398",
     "status": "completed"
    },
    "tags": []
   },
   "source": [
    "<h1>Table of contents</h1>\n",
    "\n",
    "<div class=\"alert alert-block alert-info\" style=\"margin-top: 20px\">\n",
    "    <ol>\n",
    "        <li><a href=\"https://#Setup\">Part 1: Setup</a></li>\n",
    "        <li><a href=\"https://#TargPreproc\">Part 2: Examining the Target and Preprocessing</a></li>\n",
    "        <li><a href=\"https://#OOB\">Part 3: Random Forest and Out-of-bag Error</a></li>\n",
    "        <li><a href=\"https://#ExtraTrees\">Part 4: Extra Trees</a></li>\n",
    "        <li><a href=\"https://#results\">Part 5: Gathering Results</a></li>\n",
    "        <li><a href=\"https://#examineRes\">Part 6: Examining Results</a></li>\n",
    "</div>\n",
    "<br>\n",
    "<hr>\n"
   ]
  },
  {
   "cell_type": "markdown",
   "id": "1bd87e4d",
   "metadata": {
    "papermill": {
     "duration": 0.010185,
     "end_time": "2022-07-05T06:59:07.072268",
     "exception": false,
     "start_time": "2022-07-05T06:59:07.062083",
     "status": "completed"
    },
    "tags": []
   },
   "source": [
    "## Introduction\n",
    "\n",
    "We will be using the customer churn data from the telecom industry that we used in the KNN Lab. Since we preprocessed the data there, we will import the preprocessed data, which is in a file called: 'churndata_processed.csv'\n"
   ]
  },
  {
   "cell_type": "code",
   "execution_count": 1,
   "id": "4c2e51a1",
   "metadata": {
    "ExecuteTime": {
     "end_time": "2017-08-05T08:06:13.025737Z",
     "start_time": "2017-08-05T08:06:13.018886Z"
    },
    "execution": {
     "iopub.execute_input": "2022-07-05T06:59:07.095531Z",
     "iopub.status.busy": "2022-07-05T06:59:07.094899Z",
     "iopub.status.idle": "2022-07-05T06:59:08.130123Z",
     "shell.execute_reply": "2022-07-05T06:59:08.129212Z"
    },
    "papermill": {
     "duration": 1.049992,
     "end_time": "2022-07-05T06:59:08.132796",
     "exception": false,
     "start_time": "2022-07-05T06:59:07.082804",
     "status": "completed"
    },
    "tags": []
   },
   "outputs": [],
   "source": [
    "def warn(*args, **kwargs):\n",
    "    pass\n",
    "import warnings\n",
    "warnings.warn = warn\n",
    "\n",
    "import pandas as pd, numpy as np, matplotlib.pyplot as plt, seaborn as sns"
   ]
  },
  {
   "cell_type": "markdown",
   "id": "0b7e77bf",
   "metadata": {
    "papermill": {
     "duration": 0.010858,
     "end_time": "2022-07-05T06:59:08.154315",
     "exception": false,
     "start_time": "2022-07-05T06:59:08.143457",
     "status": "completed"
    },
    "tags": []
   },
   "source": [
    "<h2 id = \"Setup\"> Part 1: Setup </h2>\n",
    "\n",
    "*   The raw churndata has been setup as a variable 'churndata', and we have imported it above.\n",
    "*   We will rely on the data preprocessing from the KNN lab, which is captured in the file 'churndata_processed.csv'\n",
    "*   First, import that file and examine its contents.\n",
    "*   Output summary statistics and check variable data types\n",
    "*   Using Seaborn, plot a heatmap of variable correlations\n"
   ]
  },
  {
   "cell_type": "code",
   "execution_count": 2,
   "id": "b355452b",
   "metadata": {
    "ExecuteTime": {
     "end_time": "2017-08-05T08:06:13.728991Z",
     "start_time": "2017-08-05T08:06:13.030365Z"
    },
    "execution": {
     "iopub.execute_input": "2022-07-05T06:59:08.177321Z",
     "iopub.status.busy": "2022-07-05T06:59:08.176928Z",
     "iopub.status.idle": "2022-07-05T06:59:08.939322Z",
     "shell.execute_reply": "2022-07-05T06:59:08.938323Z"
    },
    "papermill": {
     "duration": 0.776858,
     "end_time": "2022-07-05T06:59:08.941756",
     "exception": false,
     "start_time": "2022-07-05T06:59:08.164898",
     "status": "completed"
    },
    "tags": []
   },
   "outputs": [],
   "source": [
    "data = pd.read_csv(\"https://cf-courses-data.s3.us.cloud-object-storage.appdomain.cloud/IBM-ML241EN-SkillsNetwork/labs/datasets/churndata_processed.csv\")"
   ]
  },
  {
   "cell_type": "code",
   "execution_count": 3,
   "id": "92fe6b54",
   "metadata": {
    "execution": {
     "iopub.execute_input": "2022-07-05T06:59:08.965400Z",
     "iopub.status.busy": "2022-07-05T06:59:08.964664Z",
     "iopub.status.idle": "2022-07-05T06:59:08.991127Z",
     "shell.execute_reply": "2022-07-05T06:59:08.989858Z"
    },
    "papermill": {
     "duration": 0.041493,
     "end_time": "2022-07-05T06:59:08.993899",
     "exception": false,
     "start_time": "2022-07-05T06:59:08.952406",
     "status": "completed"
    },
    "tags": []
   },
   "outputs": [
    {
     "data": {
      "text/html": [
       "<div>\n",
       "<style scoped>\n",
       "    .dataframe tbody tr th:only-of-type {\n",
       "        vertical-align: middle;\n",
       "    }\n",
       "\n",
       "    .dataframe tbody tr th {\n",
       "        vertical-align: top;\n",
       "    }\n",
       "\n",
       "    .dataframe thead th {\n",
       "        text-align: right;\n",
       "    }\n",
       "</style>\n",
       "<table border=\"1\" class=\"dataframe\">\n",
       "  <thead>\n",
       "    <tr style=\"text-align: right;\">\n",
       "      <th></th>\n",
       "      <th>0</th>\n",
       "      <th>1</th>\n",
       "      <th>2</th>\n",
       "      <th>3</th>\n",
       "      <th>4</th>\n",
       "    </tr>\n",
       "  </thead>\n",
       "  <tbody>\n",
       "    <tr>\n",
       "      <th>months</th>\n",
       "      <td>0.000000</td>\n",
       "      <td>0.000000</td>\n",
       "      <td>0.250000</td>\n",
       "      <td>0.250000</td>\n",
       "      <td>0.500000</td>\n",
       "    </tr>\n",
       "    <tr>\n",
       "      <th>multiple</th>\n",
       "      <td>0.000000</td>\n",
       "      <td>1.000000</td>\n",
       "      <td>1.000000</td>\n",
       "      <td>0.000000</td>\n",
       "      <td>1.000000</td>\n",
       "    </tr>\n",
       "    <tr>\n",
       "      <th>gb_mon</th>\n",
       "      <td>0.094118</td>\n",
       "      <td>0.200000</td>\n",
       "      <td>0.611765</td>\n",
       "      <td>0.141176</td>\n",
       "      <td>0.164706</td>\n",
       "    </tr>\n",
       "    <tr>\n",
       "      <th>security</th>\n",
       "      <td>0.000000</td>\n",
       "      <td>0.000000</td>\n",
       "      <td>0.000000</td>\n",
       "      <td>0.000000</td>\n",
       "      <td>0.000000</td>\n",
       "    </tr>\n",
       "    <tr>\n",
       "      <th>backup</th>\n",
       "      <td>0.000000</td>\n",
       "      <td>1.000000</td>\n",
       "      <td>0.000000</td>\n",
       "      <td>1.000000</td>\n",
       "      <td>0.000000</td>\n",
       "    </tr>\n",
       "    <tr>\n",
       "      <th>protection</th>\n",
       "      <td>1.000000</td>\n",
       "      <td>0.000000</td>\n",
       "      <td>0.000000</td>\n",
       "      <td>1.000000</td>\n",
       "      <td>0.000000</td>\n",
       "    </tr>\n",
       "    <tr>\n",
       "      <th>support</th>\n",
       "      <td>0.000000</td>\n",
       "      <td>0.000000</td>\n",
       "      <td>0.000000</td>\n",
       "      <td>0.000000</td>\n",
       "      <td>0.000000</td>\n",
       "    </tr>\n",
       "    <tr>\n",
       "      <th>unlimited</th>\n",
       "      <td>0.000000</td>\n",
       "      <td>1.000000</td>\n",
       "      <td>1.000000</td>\n",
       "      <td>1.000000</td>\n",
       "      <td>1.000000</td>\n",
       "    </tr>\n",
       "    <tr>\n",
       "      <th>contract</th>\n",
       "      <td>0.000000</td>\n",
       "      <td>0.000000</td>\n",
       "      <td>0.000000</td>\n",
       "      <td>0.000000</td>\n",
       "      <td>0.000000</td>\n",
       "    </tr>\n",
       "    <tr>\n",
       "      <th>paperless</th>\n",
       "      <td>1.000000</td>\n",
       "      <td>1.000000</td>\n",
       "      <td>1.000000</td>\n",
       "      <td>1.000000</td>\n",
       "      <td>1.000000</td>\n",
       "    </tr>\n",
       "    <tr>\n",
       "      <th>monthly</th>\n",
       "      <td>0.212935</td>\n",
       "      <td>0.620896</td>\n",
       "      <td>0.768159</td>\n",
       "      <td>0.798507</td>\n",
       "      <td>0.579602</td>\n",
       "    </tr>\n",
       "    <tr>\n",
       "      <th>satisfaction</th>\n",
       "      <td>0.500000</td>\n",
       "      <td>0.500000</td>\n",
       "      <td>0.250000</td>\n",
       "      <td>0.250000</td>\n",
       "      <td>0.250000</td>\n",
       "    </tr>\n",
       "    <tr>\n",
       "      <th>churn_value</th>\n",
       "      <td>1.000000</td>\n",
       "      <td>1.000000</td>\n",
       "      <td>1.000000</td>\n",
       "      <td>1.000000</td>\n",
       "      <td>1.000000</td>\n",
       "    </tr>\n",
       "    <tr>\n",
       "      <th>payment_Credit Card</th>\n",
       "      <td>0.000000</td>\n",
       "      <td>1.000000</td>\n",
       "      <td>0.000000</td>\n",
       "      <td>0.000000</td>\n",
       "      <td>0.000000</td>\n",
       "    </tr>\n",
       "    <tr>\n",
       "      <th>payment_Mailed Check</th>\n",
       "      <td>0.000000</td>\n",
       "      <td>0.000000</td>\n",
       "      <td>0.000000</td>\n",
       "      <td>0.000000</td>\n",
       "      <td>0.000000</td>\n",
       "    </tr>\n",
       "    <tr>\n",
       "      <th>internet_type_DSL</th>\n",
       "      <td>1.000000</td>\n",
       "      <td>0.000000</td>\n",
       "      <td>0.000000</td>\n",
       "      <td>0.000000</td>\n",
       "      <td>0.000000</td>\n",
       "    </tr>\n",
       "    <tr>\n",
       "      <th>internet_type_Fiber Optic</th>\n",
       "      <td>0.000000</td>\n",
       "      <td>1.000000</td>\n",
       "      <td>1.000000</td>\n",
       "      <td>1.000000</td>\n",
       "      <td>1.000000</td>\n",
       "    </tr>\n",
       "    <tr>\n",
       "      <th>internet_type_None</th>\n",
       "      <td>0.000000</td>\n",
       "      <td>0.000000</td>\n",
       "      <td>0.000000</td>\n",
       "      <td>0.000000</td>\n",
       "      <td>0.000000</td>\n",
       "    </tr>\n",
       "    <tr>\n",
       "      <th>offer_Offer A</th>\n",
       "      <td>0.000000</td>\n",
       "      <td>0.000000</td>\n",
       "      <td>0.000000</td>\n",
       "      <td>0.000000</td>\n",
       "      <td>0.000000</td>\n",
       "    </tr>\n",
       "    <tr>\n",
       "      <th>offer_Offer B</th>\n",
       "      <td>0.000000</td>\n",
       "      <td>0.000000</td>\n",
       "      <td>0.000000</td>\n",
       "      <td>0.000000</td>\n",
       "      <td>0.000000</td>\n",
       "    </tr>\n",
       "    <tr>\n",
       "      <th>offer_Offer C</th>\n",
       "      <td>0.000000</td>\n",
       "      <td>0.000000</td>\n",
       "      <td>0.000000</td>\n",
       "      <td>1.000000</td>\n",
       "      <td>1.000000</td>\n",
       "    </tr>\n",
       "    <tr>\n",
       "      <th>offer_Offer D</th>\n",
       "      <td>0.000000</td>\n",
       "      <td>0.000000</td>\n",
       "      <td>1.000000</td>\n",
       "      <td>0.000000</td>\n",
       "      <td>0.000000</td>\n",
       "    </tr>\n",
       "    <tr>\n",
       "      <th>offer_Offer E</th>\n",
       "      <td>0.000000</td>\n",
       "      <td>1.000000</td>\n",
       "      <td>0.000000</td>\n",
       "      <td>0.000000</td>\n",
       "      <td>0.000000</td>\n",
       "    </tr>\n",
       "  </tbody>\n",
       "</table>\n",
       "</div>"
      ],
      "text/plain": [
       "                                  0         1         2         3         4\n",
       "months                     0.000000  0.000000  0.250000  0.250000  0.500000\n",
       "multiple                   0.000000  1.000000  1.000000  0.000000  1.000000\n",
       "gb_mon                     0.094118  0.200000  0.611765  0.141176  0.164706\n",
       "security                   0.000000  0.000000  0.000000  0.000000  0.000000\n",
       "backup                     0.000000  1.000000  0.000000  1.000000  0.000000\n",
       "protection                 1.000000  0.000000  0.000000  1.000000  0.000000\n",
       "support                    0.000000  0.000000  0.000000  0.000000  0.000000\n",
       "unlimited                  0.000000  1.000000  1.000000  1.000000  1.000000\n",
       "contract                   0.000000  0.000000  0.000000  0.000000  0.000000\n",
       "paperless                  1.000000  1.000000  1.000000  1.000000  1.000000\n",
       "monthly                    0.212935  0.620896  0.768159  0.798507  0.579602\n",
       "satisfaction               0.500000  0.500000  0.250000  0.250000  0.250000\n",
       "churn_value                1.000000  1.000000  1.000000  1.000000  1.000000\n",
       "payment_Credit Card        0.000000  1.000000  0.000000  0.000000  0.000000\n",
       "payment_Mailed Check       0.000000  0.000000  0.000000  0.000000  0.000000\n",
       "internet_type_DSL          1.000000  0.000000  0.000000  0.000000  0.000000\n",
       "internet_type_Fiber Optic  0.000000  1.000000  1.000000  1.000000  1.000000\n",
       "internet_type_None         0.000000  0.000000  0.000000  0.000000  0.000000\n",
       "offer_Offer A              0.000000  0.000000  0.000000  0.000000  0.000000\n",
       "offer_Offer B              0.000000  0.000000  0.000000  0.000000  0.000000\n",
       "offer_Offer C              0.000000  0.000000  0.000000  1.000000  1.000000\n",
       "offer_Offer D              0.000000  0.000000  1.000000  0.000000  0.000000\n",
       "offer_Offer E              0.000000  1.000000  0.000000  0.000000  0.000000"
      ]
     },
     "execution_count": 3,
     "metadata": {},
     "output_type": "execute_result"
    }
   ],
   "source": [
    "data.head().T"
   ]
  },
  {
   "cell_type": "code",
   "execution_count": 4,
   "id": "8a138032",
   "metadata": {
    "ExecuteTime": {
     "end_time": "2017-08-05T08:06:13.764603Z",
     "start_time": "2017-08-05T08:06:13.730908Z"
    },
    "execution": {
     "iopub.execute_input": "2022-07-05T06:59:09.017943Z",
     "iopub.status.busy": "2022-07-05T06:59:09.017508Z",
     "iopub.status.idle": "2022-07-05T06:59:09.106338Z",
     "shell.execute_reply": "2022-07-05T06:59:09.105284Z"
    },
    "papermill": {
     "duration": 0.103644,
     "end_time": "2022-07-05T06:59:09.108767",
     "exception": false,
     "start_time": "2022-07-05T06:59:09.005123",
     "status": "completed"
    },
    "tags": []
   },
   "outputs": [
    {
     "data": {
      "text/html": [
       "<div>\n",
       "<style scoped>\n",
       "    .dataframe tbody tr th:only-of-type {\n",
       "        vertical-align: middle;\n",
       "    }\n",
       "\n",
       "    .dataframe tbody tr th {\n",
       "        vertical-align: top;\n",
       "    }\n",
       "\n",
       "    .dataframe thead th {\n",
       "        text-align: right;\n",
       "    }\n",
       "</style>\n",
       "<table border=\"1\" class=\"dataframe\">\n",
       "  <thead>\n",
       "    <tr style=\"text-align: right;\">\n",
       "      <th></th>\n",
       "      <th>count</th>\n",
       "      <th>mean</th>\n",
       "      <th>std</th>\n",
       "      <th>min</th>\n",
       "      <th>25%</th>\n",
       "      <th>50%</th>\n",
       "      <th>75%</th>\n",
       "      <th>max</th>\n",
       "    </tr>\n",
       "  </thead>\n",
       "  <tbody>\n",
       "    <tr>\n",
       "      <th>months</th>\n",
       "      <td>7043.0</td>\n",
       "      <td>0.43</td>\n",
       "      <td>0.40</td>\n",
       "      <td>0.0</td>\n",
       "      <td>0.00</td>\n",
       "      <td>0.25</td>\n",
       "      <td>0.75</td>\n",
       "      <td>1.0</td>\n",
       "    </tr>\n",
       "    <tr>\n",
       "      <th>multiple</th>\n",
       "      <td>7043.0</td>\n",
       "      <td>0.42</td>\n",
       "      <td>0.49</td>\n",
       "      <td>0.0</td>\n",
       "      <td>0.00</td>\n",
       "      <td>0.00</td>\n",
       "      <td>1.00</td>\n",
       "      <td>1.0</td>\n",
       "    </tr>\n",
       "    <tr>\n",
       "      <th>gb_mon</th>\n",
       "      <td>7043.0</td>\n",
       "      <td>0.24</td>\n",
       "      <td>0.24</td>\n",
       "      <td>0.0</td>\n",
       "      <td>0.04</td>\n",
       "      <td>0.20</td>\n",
       "      <td>0.32</td>\n",
       "      <td>1.0</td>\n",
       "    </tr>\n",
       "    <tr>\n",
       "      <th>security</th>\n",
       "      <td>7043.0</td>\n",
       "      <td>0.29</td>\n",
       "      <td>0.45</td>\n",
       "      <td>0.0</td>\n",
       "      <td>0.00</td>\n",
       "      <td>0.00</td>\n",
       "      <td>1.00</td>\n",
       "      <td>1.0</td>\n",
       "    </tr>\n",
       "    <tr>\n",
       "      <th>backup</th>\n",
       "      <td>7043.0</td>\n",
       "      <td>0.34</td>\n",
       "      <td>0.48</td>\n",
       "      <td>0.0</td>\n",
       "      <td>0.00</td>\n",
       "      <td>0.00</td>\n",
       "      <td>1.00</td>\n",
       "      <td>1.0</td>\n",
       "    </tr>\n",
       "    <tr>\n",
       "      <th>protection</th>\n",
       "      <td>7043.0</td>\n",
       "      <td>0.34</td>\n",
       "      <td>0.48</td>\n",
       "      <td>0.0</td>\n",
       "      <td>0.00</td>\n",
       "      <td>0.00</td>\n",
       "      <td>1.00</td>\n",
       "      <td>1.0</td>\n",
       "    </tr>\n",
       "    <tr>\n",
       "      <th>support</th>\n",
       "      <td>7043.0</td>\n",
       "      <td>0.29</td>\n",
       "      <td>0.45</td>\n",
       "      <td>0.0</td>\n",
       "      <td>0.00</td>\n",
       "      <td>0.00</td>\n",
       "      <td>1.00</td>\n",
       "      <td>1.0</td>\n",
       "    </tr>\n",
       "    <tr>\n",
       "      <th>unlimited</th>\n",
       "      <td>7043.0</td>\n",
       "      <td>0.67</td>\n",
       "      <td>0.47</td>\n",
       "      <td>0.0</td>\n",
       "      <td>0.00</td>\n",
       "      <td>1.00</td>\n",
       "      <td>1.00</td>\n",
       "      <td>1.0</td>\n",
       "    </tr>\n",
       "    <tr>\n",
       "      <th>contract</th>\n",
       "      <td>7043.0</td>\n",
       "      <td>0.38</td>\n",
       "      <td>0.42</td>\n",
       "      <td>0.0</td>\n",
       "      <td>0.00</td>\n",
       "      <td>0.00</td>\n",
       "      <td>1.00</td>\n",
       "      <td>1.0</td>\n",
       "    </tr>\n",
       "    <tr>\n",
       "      <th>paperless</th>\n",
       "      <td>7043.0</td>\n",
       "      <td>0.59</td>\n",
       "      <td>0.49</td>\n",
       "      <td>0.0</td>\n",
       "      <td>0.00</td>\n",
       "      <td>1.00</td>\n",
       "      <td>1.00</td>\n",
       "      <td>1.0</td>\n",
       "    </tr>\n",
       "    <tr>\n",
       "      <th>monthly</th>\n",
       "      <td>7043.0</td>\n",
       "      <td>0.46</td>\n",
       "      <td>0.30</td>\n",
       "      <td>0.0</td>\n",
       "      <td>0.17</td>\n",
       "      <td>0.52</td>\n",
       "      <td>0.71</td>\n",
       "      <td>1.0</td>\n",
       "    </tr>\n",
       "    <tr>\n",
       "      <th>satisfaction</th>\n",
       "      <td>7043.0</td>\n",
       "      <td>0.56</td>\n",
       "      <td>0.30</td>\n",
       "      <td>0.0</td>\n",
       "      <td>0.50</td>\n",
       "      <td>0.50</td>\n",
       "      <td>0.75</td>\n",
       "      <td>1.0</td>\n",
       "    </tr>\n",
       "    <tr>\n",
       "      <th>churn_value</th>\n",
       "      <td>7043.0</td>\n",
       "      <td>0.27</td>\n",
       "      <td>0.44</td>\n",
       "      <td>0.0</td>\n",
       "      <td>0.00</td>\n",
       "      <td>0.00</td>\n",
       "      <td>1.00</td>\n",
       "      <td>1.0</td>\n",
       "    </tr>\n",
       "    <tr>\n",
       "      <th>payment_Credit Card</th>\n",
       "      <td>7043.0</td>\n",
       "      <td>0.39</td>\n",
       "      <td>0.49</td>\n",
       "      <td>0.0</td>\n",
       "      <td>0.00</td>\n",
       "      <td>0.00</td>\n",
       "      <td>1.00</td>\n",
       "      <td>1.0</td>\n",
       "    </tr>\n",
       "    <tr>\n",
       "      <th>payment_Mailed Check</th>\n",
       "      <td>7043.0</td>\n",
       "      <td>0.05</td>\n",
       "      <td>0.23</td>\n",
       "      <td>0.0</td>\n",
       "      <td>0.00</td>\n",
       "      <td>0.00</td>\n",
       "      <td>0.00</td>\n",
       "      <td>1.0</td>\n",
       "    </tr>\n",
       "    <tr>\n",
       "      <th>internet_type_DSL</th>\n",
       "      <td>7043.0</td>\n",
       "      <td>0.23</td>\n",
       "      <td>0.42</td>\n",
       "      <td>0.0</td>\n",
       "      <td>0.00</td>\n",
       "      <td>0.00</td>\n",
       "      <td>0.00</td>\n",
       "      <td>1.0</td>\n",
       "    </tr>\n",
       "    <tr>\n",
       "      <th>internet_type_Fiber Optic</th>\n",
       "      <td>7043.0</td>\n",
       "      <td>0.43</td>\n",
       "      <td>0.50</td>\n",
       "      <td>0.0</td>\n",
       "      <td>0.00</td>\n",
       "      <td>0.00</td>\n",
       "      <td>1.00</td>\n",
       "      <td>1.0</td>\n",
       "    </tr>\n",
       "    <tr>\n",
       "      <th>internet_type_None</th>\n",
       "      <td>7043.0</td>\n",
       "      <td>0.22</td>\n",
       "      <td>0.41</td>\n",
       "      <td>0.0</td>\n",
       "      <td>0.00</td>\n",
       "      <td>0.00</td>\n",
       "      <td>0.00</td>\n",
       "      <td>1.0</td>\n",
       "    </tr>\n",
       "    <tr>\n",
       "      <th>offer_Offer A</th>\n",
       "      <td>7043.0</td>\n",
       "      <td>0.07</td>\n",
       "      <td>0.26</td>\n",
       "      <td>0.0</td>\n",
       "      <td>0.00</td>\n",
       "      <td>0.00</td>\n",
       "      <td>0.00</td>\n",
       "      <td>1.0</td>\n",
       "    </tr>\n",
       "    <tr>\n",
       "      <th>offer_Offer B</th>\n",
       "      <td>7043.0</td>\n",
       "      <td>0.12</td>\n",
       "      <td>0.32</td>\n",
       "      <td>0.0</td>\n",
       "      <td>0.00</td>\n",
       "      <td>0.00</td>\n",
       "      <td>0.00</td>\n",
       "      <td>1.0</td>\n",
       "    </tr>\n",
       "    <tr>\n",
       "      <th>offer_Offer C</th>\n",
       "      <td>7043.0</td>\n",
       "      <td>0.06</td>\n",
       "      <td>0.24</td>\n",
       "      <td>0.0</td>\n",
       "      <td>0.00</td>\n",
       "      <td>0.00</td>\n",
       "      <td>0.00</td>\n",
       "      <td>1.0</td>\n",
       "    </tr>\n",
       "    <tr>\n",
       "      <th>offer_Offer D</th>\n",
       "      <td>7043.0</td>\n",
       "      <td>0.09</td>\n",
       "      <td>0.28</td>\n",
       "      <td>0.0</td>\n",
       "      <td>0.00</td>\n",
       "      <td>0.00</td>\n",
       "      <td>0.00</td>\n",
       "      <td>1.0</td>\n",
       "    </tr>\n",
       "    <tr>\n",
       "      <th>offer_Offer E</th>\n",
       "      <td>7043.0</td>\n",
       "      <td>0.11</td>\n",
       "      <td>0.32</td>\n",
       "      <td>0.0</td>\n",
       "      <td>0.00</td>\n",
       "      <td>0.00</td>\n",
       "      <td>0.00</td>\n",
       "      <td>1.0</td>\n",
       "    </tr>\n",
       "  </tbody>\n",
       "</table>\n",
       "</div>"
      ],
      "text/plain": [
       "                            count  mean   std  min   25%   50%   75%  max\n",
       "months                     7043.0  0.43  0.40  0.0  0.00  0.25  0.75  1.0\n",
       "multiple                   7043.0  0.42  0.49  0.0  0.00  0.00  1.00  1.0\n",
       "gb_mon                     7043.0  0.24  0.24  0.0  0.04  0.20  0.32  1.0\n",
       "security                   7043.0  0.29  0.45  0.0  0.00  0.00  1.00  1.0\n",
       "backup                     7043.0  0.34  0.48  0.0  0.00  0.00  1.00  1.0\n",
       "protection                 7043.0  0.34  0.48  0.0  0.00  0.00  1.00  1.0\n",
       "support                    7043.0  0.29  0.45  0.0  0.00  0.00  1.00  1.0\n",
       "unlimited                  7043.0  0.67  0.47  0.0  0.00  1.00  1.00  1.0\n",
       "contract                   7043.0  0.38  0.42  0.0  0.00  0.00  1.00  1.0\n",
       "paperless                  7043.0  0.59  0.49  0.0  0.00  1.00  1.00  1.0\n",
       "monthly                    7043.0  0.46  0.30  0.0  0.17  0.52  0.71  1.0\n",
       "satisfaction               7043.0  0.56  0.30  0.0  0.50  0.50  0.75  1.0\n",
       "churn_value                7043.0  0.27  0.44  0.0  0.00  0.00  1.00  1.0\n",
       "payment_Credit Card        7043.0  0.39  0.49  0.0  0.00  0.00  1.00  1.0\n",
       "payment_Mailed Check       7043.0  0.05  0.23  0.0  0.00  0.00  0.00  1.0\n",
       "internet_type_DSL          7043.0  0.23  0.42  0.0  0.00  0.00  0.00  1.0\n",
       "internet_type_Fiber Optic  7043.0  0.43  0.50  0.0  0.00  0.00  1.00  1.0\n",
       "internet_type_None         7043.0  0.22  0.41  0.0  0.00  0.00  0.00  1.0\n",
       "offer_Offer A              7043.0  0.07  0.26  0.0  0.00  0.00  0.00  1.0\n",
       "offer_Offer B              7043.0  0.12  0.32  0.0  0.00  0.00  0.00  1.0\n",
       "offer_Offer C              7043.0  0.06  0.24  0.0  0.00  0.00  0.00  1.0\n",
       "offer_Offer D              7043.0  0.09  0.28  0.0  0.00  0.00  0.00  1.0\n",
       "offer_Offer E              7043.0  0.11  0.32  0.0  0.00  0.00  0.00  1.0"
      ]
     },
     "execution_count": 4,
     "metadata": {},
     "output_type": "execute_result"
    }
   ],
   "source": [
    "round(data.describe().T, 2)"
   ]
  },
  {
   "cell_type": "code",
   "execution_count": 5,
   "id": "bcdecf46",
   "metadata": {
    "execution": {
     "iopub.execute_input": "2022-07-05T06:59:09.133641Z",
     "iopub.status.busy": "2022-07-05T06:59:09.132862Z",
     "iopub.status.idle": "2022-07-05T06:59:09.142289Z",
     "shell.execute_reply": "2022-07-05T06:59:09.141108Z"
    },
    "papermill": {
     "duration": 0.024621,
     "end_time": "2022-07-05T06:59:09.144736",
     "exception": false,
     "start_time": "2022-07-05T06:59:09.120115",
     "status": "completed"
    },
    "tags": []
   },
   "outputs": [
    {
     "data": {
      "text/plain": [
       "months                       float64\n",
       "multiple                       int64\n",
       "gb_mon                       float64\n",
       "security                       int64\n",
       "backup                         int64\n",
       "protection                     int64\n",
       "support                        int64\n",
       "unlimited                      int64\n",
       "contract                     float64\n",
       "paperless                      int64\n",
       "monthly                      float64\n",
       "satisfaction                 float64\n",
       "churn_value                    int64\n",
       "payment_Credit Card            int64\n",
       "payment_Mailed Check           int64\n",
       "internet_type_DSL              int64\n",
       "internet_type_Fiber Optic      int64\n",
       "internet_type_None             int64\n",
       "offer_Offer A                  int64\n",
       "offer_Offer B                  int64\n",
       "offer_Offer C                  int64\n",
       "offer_Offer D                  int64\n",
       "offer_Offer E                  int64\n",
       "dtype: object"
      ]
     },
     "execution_count": 5,
     "metadata": {},
     "output_type": "execute_result"
    }
   ],
   "source": [
    "data.dtypes"
   ]
  },
  {
   "cell_type": "code",
   "execution_count": 6,
   "id": "cb1350b6",
   "metadata": {
    "execution": {
     "iopub.execute_input": "2022-07-05T06:59:09.173011Z",
     "iopub.status.busy": "2022-07-05T06:59:09.172316Z",
     "iopub.status.idle": "2022-07-05T06:59:09.874571Z",
     "shell.execute_reply": "2022-07-05T06:59:09.873408Z"
    },
    "papermill": {
     "duration": 0.720742,
     "end_time": "2022-07-05T06:59:09.876919",
     "exception": false,
     "start_time": "2022-07-05T06:59:09.156177",
     "status": "completed"
    },
    "tags": []
   },
   "outputs": [
    {
     "data": {
      "text/plain": [
       "<AxesSubplot:>"
      ]
     },
     "execution_count": 6,
     "metadata": {},
     "output_type": "execute_result"
    },
    {
     "data": {
      "image/png": "[encoded data removed]",
      "text/plain": [
       "<Figure size 1080x720 with 2 Axes>"
      ]
     },
     "metadata": {
      "needs_background": "light"
     },
     "output_type": "display_data"
    }
   ],
   "source": [
    "fig, ax = plt.subplots(figsize=(15,10)) \n",
    "sns.heatmap(data.corr())"
   ]
  },
  {
   "cell_type": "markdown",
   "id": "1417def7",
   "metadata": {
    "papermill": {
     "duration": 0.012898,
     "end_time": "2022-07-05T06:59:09.902599",
     "exception": false,
     "start_time": "2022-07-05T06:59:09.889701",
     "status": "completed"
    },
    "tags": []
   },
   "source": [
    "<h2 id=\"TargPreproc\">Part 2: Examining the Target and Preprocessing</h2>\n",
    "\n",
    "In this exercise, we will proceed as follows:\n",
    "\n",
    "*   Examine distribution of the predicted variable (`churn_value`).\n",
    "*   Split the data into train and test sets. Decide if a stratified split should be used or not based on the distribution.\n",
    "*   Examine the distribution of the predictor variable in the train and test data.\n"
   ]
  },
  {
   "cell_type": "code",
   "execution_count": 7,
   "id": "c58b0ca7",
   "metadata": {
    "ExecuteTime": {
     "end_time": "2017-08-05T08:06:13.823706Z",
     "start_time": "2017-08-05T08:06:13.815353Z"
    },
    "execution": {
     "iopub.execute_input": "2022-07-05T06:59:09.929974Z",
     "iopub.status.busy": "2022-07-05T06:59:09.929559Z",
     "iopub.status.idle": "2022-07-05T06:59:09.938893Z",
     "shell.execute_reply": "2022-07-05T06:59:09.937551Z"
    },
    "papermill": {
     "duration": 0.02545,
     "end_time": "2022-07-05T06:59:09.941154",
     "exception": false,
     "start_time": "2022-07-05T06:59:09.915704",
     "status": "completed"
    },
    "tags": []
   },
   "outputs": [
    {
     "data": {
      "text/plain": [
       "0    5174\n",
       "1    1869\n",
       "Name: churn_value, dtype: int64"
      ]
     },
     "execution_count": 7,
     "metadata": {},
     "output_type": "execute_result"
    }
   ],
   "source": [
    "# Data are skewed at ~85% towards non-churned customers\n",
    "# This will be important to remember when model building\n",
    "target = 'churn_value'\n",
    "data[target].value_counts()"
   ]
  },
  {
   "cell_type": "code",
   "execution_count": 8,
   "id": "1b926df6",
   "metadata": {
    "ExecuteTime": {
     "end_time": "2017-08-05T08:06:13.834394Z",
     "start_time": "2017-08-05T08:06:13.826015Z"
    },
    "execution": {
     "iopub.execute_input": "2022-07-05T06:59:09.968807Z",
     "iopub.status.busy": "2022-07-05T06:59:09.968373Z",
     "iopub.status.idle": "2022-07-05T06:59:09.977075Z",
     "shell.execute_reply": "2022-07-05T06:59:09.976196Z"
    },
    "papermill": {
     "duration": 0.024624,
     "end_time": "2022-07-05T06:59:09.978976",
     "exception": false,
     "start_time": "2022-07-05T06:59:09.954352",
     "status": "completed"
    },
    "tags": []
   },
   "outputs": [
    {
     "data": {
      "text/plain": [
       "0    0.73463\n",
       "1    0.26537\n",
       "Name: churn_value, dtype: float64"
      ]
     },
     "execution_count": 8,
     "metadata": {},
     "output_type": "execute_result"
    }
   ],
   "source": [
    "data[target].value_counts(normalize=True)"
   ]
  },
  {
   "cell_type": "code",
   "execution_count": 9,
   "id": "9d0d5da9",
   "metadata": {
    "execution": {
     "iopub.execute_input": "2022-07-05T06:59:10.006384Z",
     "iopub.status.busy": "2022-07-05T06:59:10.006018Z",
     "iopub.status.idle": "2022-07-05T06:59:10.213323Z",
     "shell.execute_reply": "2022-07-05T06:59:10.212233Z"
    },
    "papermill": {
     "duration": 0.223909,
     "end_time": "2022-07-05T06:59:10.215825",
     "exception": false,
     "start_time": "2022-07-05T06:59:09.991916",
     "status": "completed"
    },
    "tags": []
   },
   "outputs": [
    {
     "data": {
      "text/plain": [
       "<AxesSubplot:>"
      ]
     },
     "execution_count": 9,
     "metadata": {},
     "output_type": "execute_result"
    },
    {
     "data": {
      "image/png": "[encoded data removed]",
      "text/plain": [
       "<Figure size 432x288 with 1 Axes>"
      ]
     },
     "metadata": {
      "needs_background": "light"
     },
     "output_type": "display_data"
    }
   ],
   "source": [
    "data[target].hist()"
   ]
  },
  {
   "cell_type": "markdown",
   "id": "2d9cf183",
   "metadata": {
    "papermill": {
     "duration": 0.012959,
     "end_time": "2022-07-05T06:59:10.242075",
     "exception": false,
     "start_time": "2022-07-05T06:59:10.229116",
     "status": "completed"
    },
    "tags": []
   },
   "source": [
    "Given the skew in the predictor variable, let's split the data with the *churned* values being stratified.\n"
   ]
  },
  {
   "cell_type": "code",
   "execution_count": 10,
   "id": "1b460f8e",
   "metadata": {
    "ExecuteTime": {
     "end_time": "2017-08-05T08:06:14.811974Z",
     "start_time": "2017-08-05T08:06:13.836891Z"
    },
    "execution": {
     "iopub.execute_input": "2022-07-05T06:59:10.269784Z",
     "iopub.status.busy": "2022-07-05T06:59:10.269384Z",
     "iopub.status.idle": "2022-07-05T06:59:10.479591Z",
     "shell.execute_reply": "2022-07-05T06:59:10.478380Z"
    },
    "papermill": {
     "duration": 0.227261,
     "end_time": "2022-07-05T06:59:10.482447",
     "exception": false,
     "start_time": "2022-07-05T06:59:10.255186",
     "status": "completed"
    },
    "tags": []
   },
   "outputs": [],
   "source": [
    "from sklearn.model_selection import StratifiedShuffleSplit\n",
    "\n",
    "\n",
    "feature_cols = [x for x in data.columns if x != target]\n",
    "\n",
    "\n",
    "# Split the data into two parts with 1500 points in the test data\n",
    "# This creates a generator\n",
    "strat_shuff_split = StratifiedShuffleSplit(n_splits=1, test_size=1500, random_state=42)\n",
    "\n",
    "# Get the index values from the generator\n",
    "train_idx, test_idx = next(strat_shuff_split.split(data[feature_cols], data[target]))\n",
    "\n",
    "# Create the data sets\n",
    "X_train = data.loc[train_idx, feature_cols]\n",
    "y_train = data.loc[train_idx, target]\n",
    "\n",
    "X_test = data.loc[test_idx, feature_cols]\n",
    "y_test = data.loc[test_idx, target]"
   ]
  },
  {
   "cell_type": "code",
   "execution_count": 11,
   "id": "6f8e747f",
   "metadata": {
    "ExecuteTime": {
     "end_time": "2017-08-05T08:06:14.823171Z",
     "start_time": "2017-08-05T08:06:14.814134Z"
    },
    "execution": {
     "iopub.execute_input": "2022-07-05T06:59:10.511437Z",
     "iopub.status.busy": "2022-07-05T06:59:10.510192Z",
     "iopub.status.idle": "2022-07-05T06:59:10.519590Z",
     "shell.execute_reply": "2022-07-05T06:59:10.518721Z"
    },
    "papermill": {
     "duration": 0.026013,
     "end_time": "2022-07-05T06:59:10.521744",
     "exception": false,
     "start_time": "2022-07-05T06:59:10.495731",
     "status": "completed"
    },
    "tags": []
   },
   "outputs": [
    {
     "data": {
      "text/plain": [
       "0    0.73462\n",
       "1    0.26538\n",
       "Name: churn_value, dtype: float64"
      ]
     },
     "execution_count": 11,
     "metadata": {},
     "output_type": "execute_result"
    }
   ],
   "source": [
    "y_train.value_counts(normalize=True)"
   ]
  },
  {
   "cell_type": "code",
   "execution_count": 12,
   "id": "186f0b44",
   "metadata": {
    "ExecuteTime": {
     "end_time": "2017-08-05T08:06:14.833664Z",
     "start_time": "2017-08-05T08:06:14.825182Z"
    },
    "execution": {
     "iopub.execute_input": "2022-07-05T06:59:10.549800Z",
     "iopub.status.busy": "2022-07-05T06:59:10.549403Z",
     "iopub.status.idle": "2022-07-05T06:59:10.558040Z",
     "shell.execute_reply": "2022-07-05T06:59:10.556937Z"
    },
    "papermill": {
     "duration": 0.025469,
     "end_time": "2022-07-05T06:59:10.560284",
     "exception": false,
     "start_time": "2022-07-05T06:59:10.534815",
     "status": "completed"
    },
    "tags": []
   },
   "outputs": [
    {
     "data": {
      "text/plain": [
       "0    0.734667\n",
       "1    0.265333\n",
       "Name: churn_value, dtype: float64"
      ]
     },
     "execution_count": 12,
     "metadata": {},
     "output_type": "execute_result"
    }
   ],
   "source": [
    "y_test.value_counts(normalize=True)"
   ]
  },
  {
   "cell_type": "markdown",
   "id": "ed923cc7",
   "metadata": {
    "papermill": {
     "duration": 0.012865,
     "end_time": "2022-07-05T06:59:10.586496",
     "exception": false,
     "start_time": "2022-07-05T06:59:10.573631",
     "status": "completed"
    },
    "tags": []
   },
   "source": [
    "<h2 id =\"OOB\">Part 3: Random Forest and Out-of-bag Error</h2>\n",
    "\n",
    "In this exercise, we will:\n",
    "\n",
    "*   Fit random forest models with a range of tree numbers and evaluate the out-of-bag error for each of these models.\n",
    "*   Plot the resulting oob errors as a function of the number of trees.\n",
    "\n",
    "*Note:* since the only thing changing is the number of trees, the `warm_start` flag can be used so that the model just adds more trees to the existing model each time. Use the `set_params` method to update the number of trees.\n"
   ]
  },
  {
   "cell_type": "code",
   "execution_count": 13,
   "id": "814c3b96",
   "metadata": {
    "ExecuteTime": {
     "end_time": "2017-08-05T08:06:14.841222Z",
     "start_time": "2017-08-05T08:06:14.835671Z"
    },
    "execution": {
     "iopub.execute_input": "2022-07-05T06:59:10.614757Z",
     "iopub.status.busy": "2022-07-05T06:59:10.614131Z",
     "iopub.status.idle": "2022-07-05T06:59:10.619440Z",
     "shell.execute_reply": "2022-07-05T06:59:10.618701Z"
    },
    "papermill": {
     "duration": 0.022077,
     "end_time": "2022-07-05T06:59:10.621587",
     "exception": false,
     "start_time": "2022-07-05T06:59:10.599510",
     "status": "completed"
    },
    "tags": []
   },
   "outputs": [],
   "source": [
    "# Suppress warnings about too few trees from the early models\n",
    "import warnings\n",
    "warnings.filterwarnings(\"ignore\", category=UserWarning)\n",
    "warnings.filterwarnings(\"ignore\", category=RuntimeWarning)"
   ]
  },
  {
   "cell_type": "code",
   "execution_count": 14,
   "id": "50501867",
   "metadata": {
    "ExecuteTime": {
     "end_time": "2017-08-05T08:06:17.513569Z",
     "start_time": "2017-08-05T08:06:14.843363Z"
    },
    "execution": {
     "iopub.execute_input": "2022-07-05T06:59:10.650060Z",
     "iopub.status.busy": "2022-07-05T06:59:10.649421Z",
     "iopub.status.idle": "2022-07-05T06:59:14.411499Z",
     "shell.execute_reply": "2022-07-05T06:59:14.410329Z"
    },
    "papermill": {
     "duration": 3.77939,
     "end_time": "2022-07-05T06:59:14.414111",
     "exception": false,
     "start_time": "2022-07-05T06:59:10.634721",
     "status": "completed"
    },
    "tags": []
   },
   "outputs": [
    {
     "data": {
      "text/html": [
       "<div>\n",
       "<style scoped>\n",
       "    .dataframe tbody tr th:only-of-type {\n",
       "        vertical-align: middle;\n",
       "    }\n",
       "\n",
       "    .dataframe tbody tr th {\n",
       "        vertical-align: top;\n",
       "    }\n",
       "\n",
       "    .dataframe thead th {\n",
       "        text-align: right;\n",
       "    }\n",
       "</style>\n",
       "<table border=\"1\" class=\"dataframe\">\n",
       "  <thead>\n",
       "    <tr style=\"text-align: right;\">\n",
       "      <th></th>\n",
       "      <th>oob</th>\n",
       "    </tr>\n",
       "    <tr>\n",
       "      <th>n_trees</th>\n",
       "      <th></th>\n",
       "    </tr>\n",
       "  </thead>\n",
       "  <tbody>\n",
       "    <tr>\n",
       "      <th>15.0</th>\n",
       "      <td>0.055566</td>\n",
       "    </tr>\n",
       "    <tr>\n",
       "      <th>20.0</th>\n",
       "      <td>0.052138</td>\n",
       "    </tr>\n",
       "    <tr>\n",
       "      <th>30.0</th>\n",
       "      <td>0.049973</td>\n",
       "    </tr>\n",
       "    <tr>\n",
       "      <th>40.0</th>\n",
       "      <td>0.048890</td>\n",
       "    </tr>\n",
       "    <tr>\n",
       "      <th>50.0</th>\n",
       "      <td>0.049071</td>\n",
       "    </tr>\n",
       "    <tr>\n",
       "      <th>100.0</th>\n",
       "      <td>0.047447</td>\n",
       "    </tr>\n",
       "    <tr>\n",
       "      <th>150.0</th>\n",
       "      <td>0.046726</td>\n",
       "    </tr>\n",
       "    <tr>\n",
       "      <th>200.0</th>\n",
       "      <td>0.047447</td>\n",
       "    </tr>\n",
       "    <tr>\n",
       "      <th>300.0</th>\n",
       "      <td>0.047988</td>\n",
       "    </tr>\n",
       "    <tr>\n",
       "      <th>400.0</th>\n",
       "      <td>0.047808</td>\n",
       "    </tr>\n",
       "  </tbody>\n",
       "</table>\n",
       "</div>"
      ],
      "text/plain": [
       "              oob\n",
       "n_trees          \n",
       "15.0     0.055566\n",
       "20.0     0.052138\n",
       "30.0     0.049973\n",
       "40.0     0.048890\n",
       "50.0     0.049071\n",
       "100.0    0.047447\n",
       "150.0    0.046726\n",
       "200.0    0.047447\n",
       "300.0    0.047988\n",
       "400.0    0.047808"
      ]
     },
     "execution_count": 14,
     "metadata": {},
     "output_type": "execute_result"
    }
   ],
   "source": [
    "from sklearn.ensemble import RandomForestClassifier\n",
    "\n",
    "# Initialize the random forest estimator\n",
    "# Note that the number of trees is not setup here\n",
    "RF = RandomForestClassifier(oob_score=True, \n",
    "                            random_state=42, \n",
    "                            warm_start=True,\n",
    "                            n_jobs=-1)\n",
    "\n",
    "oob_list = list()\n",
    "\n",
    "# Iterate through all of the possibilities for \n",
    "# number of trees\n",
    "for n_trees in [15, 20, 30, 40, 50, 100, 150, 200, 300, 400]:\n",
    "    \n",
    "    # Use this to set the number of trees\n",
    "    RF.set_params(n_estimators=n_trees)\n",
    "\n",
    "    # Fit the model\n",
    "    RF.fit(X_train, y_train)\n",
    "\n",
    "    # Get the oob error\n",
    "    oob_error = 1 - RF.oob_score_\n",
    "    \n",
    "    # Store it\n",
    "    oob_list.append(pd.Series({'n_trees': n_trees, 'oob': oob_error}))\n",
    "\n",
    "rf_oob_df = pd.concat(oob_list, axis=1).T.set_index('n_trees')\n",
    "\n",
    "rf_oob_df"
   ]
  },
  {
   "cell_type": "markdown",
   "id": "a110a8bd",
   "metadata": {
    "papermill": {
     "duration": 0.016118,
     "end_time": "2022-07-05T06:59:14.444904",
     "exception": false,
     "start_time": "2022-07-05T06:59:14.428786",
     "status": "completed"
    },
    "tags": []
   },
   "source": [
    "The error looks like it has stabilized around 100-150 trees.\n"
   ]
  },
  {
   "cell_type": "code",
   "execution_count": 15,
   "id": "b2bdc777",
   "metadata": {
    "ExecuteTime": {
     "end_time": "2017-08-05T08:06:17.828505Z",
     "start_time": "2017-08-05T08:06:17.515606Z"
    },
    "execution": {
     "iopub.execute_input": "2022-07-05T06:59:14.474992Z",
     "iopub.status.busy": "2022-07-05T06:59:14.474230Z",
     "iopub.status.idle": "2022-07-05T06:59:14.481006Z",
     "shell.execute_reply": "2022-07-05T06:59:14.480202Z"
    },
    "papermill": {
     "duration": 0.024497,
     "end_time": "2022-07-05T06:59:14.483326",
     "exception": false,
     "start_time": "2022-07-05T06:59:14.458829",
     "status": "completed"
    },
    "tags": []
   },
   "outputs": [],
   "source": [
    "import matplotlib.pyplot as plt\n",
    "import seaborn as sns\n",
    "\n",
    "%matplotlib inline"
   ]
  },
  {
   "cell_type": "code",
   "execution_count": 16,
   "id": "dd302c7a",
   "metadata": {
    "ExecuteTime": {
     "end_time": "2017-08-05T08:06:18.140058Z",
     "start_time": "2017-08-05T08:06:17.830038Z"
    },
    "execution": {
     "iopub.execute_input": "2022-07-05T06:59:14.513388Z",
     "iopub.status.busy": "2022-07-05T06:59:14.512223Z",
     "iopub.status.idle": "2022-07-05T06:59:14.780456Z",
     "shell.execute_reply": "2022-07-05T06:59:14.779222Z"
    },
    "papermill": {
     "duration": 0.285932,
     "end_time": "2022-07-05T06:59:14.782907",
     "exception": false,
     "start_time": "2022-07-05T06:59:14.496975",
     "status": "completed"
    },
    "tags": []
   },
   "outputs": [
    {
     "data": {
      "image/png": "[encoded data removed]",
      "text/plain": [
       "<Figure size 1008x504 with 1 Axes>"
      ]
     },
     "metadata": {},
     "output_type": "display_data"
    }
   ],
   "source": [
    "sns.set_context('talk')\n",
    "sns.set_style('white')\n",
    "\n",
    "ax = rf_oob_df.plot(legend=False, marker='o', figsize=(14, 7), linewidth=5)\n",
    "ax.set(ylabel='out-of-bag error');"
   ]
  },
  {
   "cell_type": "markdown",
   "id": "ac42fbd1",
   "metadata": {
    "papermill": {
     "duration": 0.014056,
     "end_time": "2022-07-05T06:59:14.811330",
     "exception": false,
     "start_time": "2022-07-05T06:59:14.797274",
     "status": "completed"
    },
    "tags": []
   },
   "source": [
    "<h2 id = \"ExtraTrees\">Part 4: Extra Trees</h2>\n",
    "\n",
    "Our exercise:\n",
    "\n",
    "*   Repeat question 3 using extra randomized trees (`ExtraTreesClassifier`). Note that the `bootstrap` parameter will have to be set to `True` for this model.\n",
    "*   Compare the out-of-bag errors for the two different types of models.\n"
   ]
  },
  {
   "cell_type": "code",
   "execution_count": 17,
   "id": "f2b326c9",
   "metadata": {
    "ExecuteTime": {
     "end_time": "2017-08-05T08:06:19.957155Z",
     "start_time": "2017-08-05T08:06:18.141448Z"
    },
    "execution": {
     "iopub.execute_input": "2022-07-05T06:59:14.842075Z",
     "iopub.status.busy": "2022-07-05T06:59:14.840953Z",
     "iopub.status.idle": "2022-07-05T06:59:18.473766Z",
     "shell.execute_reply": "2022-07-05T06:59:18.472671Z"
    },
    "papermill": {
     "duration": 3.650528,
     "end_time": "2022-07-05T06:59:18.476028",
     "exception": false,
     "start_time": "2022-07-05T06:59:14.825500",
     "status": "completed"
    },
    "tags": []
   },
   "outputs": [
    {
     "data": {
      "text/html": [
       "<div>\n",
       "<style scoped>\n",
       "    .dataframe tbody tr th:only-of-type {\n",
       "        vertical-align: middle;\n",
       "    }\n",
       "\n",
       "    .dataframe tbody tr th {\n",
       "        vertical-align: top;\n",
       "    }\n",
       "\n",
       "    .dataframe thead th {\n",
       "        text-align: right;\n",
       "    }\n",
       "</style>\n",
       "<table border=\"1\" class=\"dataframe\">\n",
       "  <thead>\n",
       "    <tr style=\"text-align: right;\">\n",
       "      <th></th>\n",
       "      <th>oob</th>\n",
       "    </tr>\n",
       "    <tr>\n",
       "      <th>n_trees</th>\n",
       "      <th></th>\n",
       "    </tr>\n",
       "  </thead>\n",
       "  <tbody>\n",
       "    <tr>\n",
       "      <th>15.0</th>\n",
       "      <td>0.066570</td>\n",
       "    </tr>\n",
       "    <tr>\n",
       "      <th>20.0</th>\n",
       "      <td>0.063864</td>\n",
       "    </tr>\n",
       "    <tr>\n",
       "      <th>30.0</th>\n",
       "      <td>0.057550</td>\n",
       "    </tr>\n",
       "    <tr>\n",
       "      <th>40.0</th>\n",
       "      <td>0.053942</td>\n",
       "    </tr>\n",
       "    <tr>\n",
       "      <th>50.0</th>\n",
       "      <td>0.052318</td>\n",
       "    </tr>\n",
       "    <tr>\n",
       "      <th>100.0</th>\n",
       "      <td>0.051236</td>\n",
       "    </tr>\n",
       "    <tr>\n",
       "      <th>150.0</th>\n",
       "      <td>0.048890</td>\n",
       "    </tr>\n",
       "    <tr>\n",
       "      <th>200.0</th>\n",
       "      <td>0.048530</td>\n",
       "    </tr>\n",
       "    <tr>\n",
       "      <th>300.0</th>\n",
       "      <td>0.049612</td>\n",
       "    </tr>\n",
       "    <tr>\n",
       "      <th>400.0</th>\n",
       "      <td>0.048530</td>\n",
       "    </tr>\n",
       "  </tbody>\n",
       "</table>\n",
       "</div>"
      ],
      "text/plain": [
       "              oob\n",
       "n_trees          \n",
       "15.0     0.066570\n",
       "20.0     0.063864\n",
       "30.0     0.057550\n",
       "40.0     0.053942\n",
       "50.0     0.052318\n",
       "100.0    0.051236\n",
       "150.0    0.048890\n",
       "200.0    0.048530\n",
       "300.0    0.049612\n",
       "400.0    0.048530"
      ]
     },
     "execution_count": 17,
     "metadata": {},
     "output_type": "execute_result"
    }
   ],
   "source": [
    "from sklearn.ensemble import ExtraTreesClassifier\n",
    "\n",
    "# Initialize the random forest estimator\n",
    "# Note that the number of trees is not setup here\n",
    "EF = ExtraTreesClassifier(oob_score=True, \n",
    "                          random_state=42, \n",
    "                          warm_start=True,\n",
    "                          bootstrap=True,\n",
    "                          n_jobs=-1)\n",
    "\n",
    "oob_list = list()\n",
    "\n",
    "# Iterate through all of the possibilities for \n",
    "# number of trees\n",
    "for n_trees in [15, 20, 30, 40, 50, 100, 150, 200, 300, 400]:\n",
    "    \n",
    "    # Use this to set the number of trees\n",
    "    EF.set_params(n_estimators=n_trees)\n",
    "    EF.fit(X_train, y_train)\n",
    "\n",
    "    # oob error\n",
    "    oob_error = 1 - EF.oob_score_\n",
    "    oob_list.append(pd.Series({'n_trees': n_trees, 'oob': oob_error}))\n",
    "\n",
    "et_oob_df = pd.concat(oob_list, axis=1).T.set_index('n_trees')\n",
    "\n",
    "et_oob_df"
   ]
  },
  {
   "cell_type": "markdown",
   "id": "4b11f6f6",
   "metadata": {
    "papermill": {
     "duration": 0.013943,
     "end_time": "2022-07-05T06:59:18.504267",
     "exception": false,
     "start_time": "2022-07-05T06:59:18.490324",
     "status": "completed"
    },
    "tags": []
   },
   "source": [
    "Combine the two dataframes into a single one for easier plotting.\n"
   ]
  },
  {
   "cell_type": "code",
   "execution_count": 18,
   "id": "273b77cc",
   "metadata": {
    "ExecuteTime": {
     "end_time": "2017-08-05T08:06:19.974338Z",
     "start_time": "2017-08-05T08:06:19.958994Z"
    },
    "execution": {
     "iopub.execute_input": "2022-07-05T06:59:18.534855Z",
     "iopub.status.busy": "2022-07-05T06:59:18.534140Z",
     "iopub.status.idle": "2022-07-05T06:59:18.556544Z",
     "shell.execute_reply": "2022-07-05T06:59:18.555613Z"
    },
    "papermill": {
     "duration": 0.040209,
     "end_time": "2022-07-05T06:59:18.558733",
     "exception": false,
     "start_time": "2022-07-05T06:59:18.518524",
     "status": "completed"
    },
    "tags": []
   },
   "outputs": [
    {
     "data": {
      "text/html": [
       "<div>\n",
       "<style scoped>\n",
       "    .dataframe tbody tr th:only-of-type {\n",
       "        vertical-align: middle;\n",
       "    }\n",
       "\n",
       "    .dataframe tbody tr th {\n",
       "        vertical-align: top;\n",
       "    }\n",
       "\n",
       "    .dataframe thead th {\n",
       "        text-align: right;\n",
       "    }\n",
       "</style>\n",
       "<table border=\"1\" class=\"dataframe\">\n",
       "  <thead>\n",
       "    <tr style=\"text-align: right;\">\n",
       "      <th></th>\n",
       "      <th>RandomForest</th>\n",
       "      <th>ExtraTrees</th>\n",
       "    </tr>\n",
       "    <tr>\n",
       "      <th>n_trees</th>\n",
       "      <th></th>\n",
       "      <th></th>\n",
       "    </tr>\n",
       "  </thead>\n",
       "  <tbody>\n",
       "    <tr>\n",
       "      <th>15.0</th>\n",
       "      <td>0.055566</td>\n",
       "      <td>0.066570</td>\n",
       "    </tr>\n",
       "    <tr>\n",
       "      <th>20.0</th>\n",
       "      <td>0.052138</td>\n",
       "      <td>0.063864</td>\n",
       "    </tr>\n",
       "    <tr>\n",
       "      <th>30.0</th>\n",
       "      <td>0.049973</td>\n",
       "      <td>0.057550</td>\n",
       "    </tr>\n",
       "    <tr>\n",
       "      <th>40.0</th>\n",
       "      <td>0.048890</td>\n",
       "      <td>0.053942</td>\n",
       "    </tr>\n",
       "    <tr>\n",
       "      <th>50.0</th>\n",
       "      <td>0.049071</td>\n",
       "      <td>0.052318</td>\n",
       "    </tr>\n",
       "    <tr>\n",
       "      <th>100.0</th>\n",
       "      <td>0.047447</td>\n",
       "      <td>0.051236</td>\n",
       "    </tr>\n",
       "    <tr>\n",
       "      <th>150.0</th>\n",
       "      <td>0.046726</td>\n",
       "      <td>0.048890</td>\n",
       "    </tr>\n",
       "    <tr>\n",
       "      <th>200.0</th>\n",
       "      <td>0.047447</td>\n",
       "      <td>0.048530</td>\n",
       "    </tr>\n",
       "    <tr>\n",
       "      <th>300.0</th>\n",
       "      <td>0.047988</td>\n",
       "      <td>0.049612</td>\n",
       "    </tr>\n",
       "    <tr>\n",
       "      <th>400.0</th>\n",
       "      <td>0.047808</td>\n",
       "      <td>0.048530</td>\n",
       "    </tr>\n",
       "  </tbody>\n",
       "</table>\n",
       "</div>"
      ],
      "text/plain": [
       "         RandomForest  ExtraTrees\n",
       "n_trees                          \n",
       "15.0         0.055566    0.066570\n",
       "20.0         0.052138    0.063864\n",
       "30.0         0.049973    0.057550\n",
       "40.0         0.048890    0.053942\n",
       "50.0         0.049071    0.052318\n",
       "100.0        0.047447    0.051236\n",
       "150.0        0.046726    0.048890\n",
       "200.0        0.047447    0.048530\n",
       "300.0        0.047988    0.049612\n",
       "400.0        0.047808    0.048530"
      ]
     },
     "execution_count": 18,
     "metadata": {},
     "output_type": "execute_result"
    }
   ],
   "source": [
    "oob_df = pd.concat([rf_oob_df.rename(columns={'oob':'RandomForest'}),\n",
    "                    et_oob_df.rename(columns={'oob':'ExtraTrees'})], axis=1)\n",
    "\n",
    "oob_df"
   ]
  },
  {
   "cell_type": "markdown",
   "id": "92d47d97",
   "metadata": {
    "papermill": {
     "duration": 0.014131,
     "end_time": "2022-07-05T06:59:18.587335",
     "exception": false,
     "start_time": "2022-07-05T06:59:18.573204",
     "status": "completed"
    },
    "tags": []
   },
   "source": [
    "The random forest model performs consistently better than the extra randomized trees.\n"
   ]
  },
  {
   "cell_type": "code",
   "execution_count": 19,
   "id": "66558f9f",
   "metadata": {
    "ExecuteTime": {
     "end_time": "2017-08-05T08:06:20.258026Z",
     "start_time": "2017-08-05T08:06:19.976774Z"
    },
    "execution": {
     "iopub.execute_input": "2022-07-05T06:59:18.617931Z",
     "iopub.status.busy": "2022-07-05T06:59:18.617549Z",
     "iopub.status.idle": "2022-07-05T06:59:18.921668Z",
     "shell.execute_reply": "2022-07-05T06:59:18.920485Z"
    },
    "papermill": {
     "duration": 0.322381,
     "end_time": "2022-07-05T06:59:18.923985",
     "exception": false,
     "start_time": "2022-07-05T06:59:18.601604",
     "status": "completed"
    },
    "tags": []
   },
   "outputs": [
    {
     "data": {
      "image/png": "[encoded data removed]",
      "text/plain": [
       "<Figure size 1008x504 with 1 Axes>"
      ]
     },
     "metadata": {},
     "output_type": "display_data"
    }
   ],
   "source": [
    "sns.set_context('talk')\n",
    "sns.set_style('white')\n",
    "\n",
    "ax = oob_df.plot(marker='o', figsize=(14, 7), linewidth=5)\n",
    "ax.set(ylabel='out-of-bag error');"
   ]
  },
  {
   "cell_type": "markdown",
   "id": "a0a3ca92",
   "metadata": {
    "papermill": {
     "duration": 0.015155,
     "end_time": "2022-07-05T06:59:18.954466",
     "exception": false,
     "start_time": "2022-07-05T06:59:18.939311",
     "status": "completed"
    },
    "tags": []
   },
   "source": [
    "<h2 id=\"results\">Part 5: Gathering Results</h2>\n",
    "\n",
    "Here, we will:\n",
    "\n",
    "*   Select one of the models that performs well and calculate error metrics and a confusion matrix on the test data set.\n",
    "*   Given the distribution of the predicted class, which metric is most important? Which could be deceiving?\n"
   ]
  },
  {
   "cell_type": "code",
   "execution_count": 20,
   "id": "7bf731be",
   "metadata": {
    "ExecuteTime": {
     "end_time": "2017-08-05T08:06:20.468575Z",
     "start_time": "2017-08-05T08:06:20.260111Z"
    },
    "execution": {
     "iopub.execute_input": "2022-07-05T06:59:18.997974Z",
     "iopub.status.busy": "2022-07-05T06:59:18.995200Z",
     "iopub.status.idle": "2022-07-05T06:59:19.211783Z",
     "shell.execute_reply": "2022-07-05T06:59:19.210703Z"
    },
    "papermill": {
     "duration": 0.24469,
     "end_time": "2022-07-05T06:59:19.214447",
     "exception": false,
     "start_time": "2022-07-05T06:59:18.969757",
     "status": "completed"
    },
    "tags": []
   },
   "outputs": [],
   "source": [
    "# Random forest with 100 estimators\n",
    "model = RF.set_params(n_estimators=100)\n",
    "\n",
    "y_pred = model.predict(X_test)"
   ]
  },
  {
   "cell_type": "markdown",
   "id": "5306d2fb",
   "metadata": {
    "papermill": {
     "duration": 0.015054,
     "end_time": "2022-07-05T06:59:19.245546",
     "exception": false,
     "start_time": "2022-07-05T06:59:19.230492",
     "status": "completed"
    },
    "tags": []
   },
   "source": [
    "Unsurprisingly, recall is rather poor for the customers who churned (True) class since they are quite small. We are doing better than random guessing, though, as the accuracy is 0.96 (vs 0.85 for random guessing).\n"
   ]
  },
  {
   "cell_type": "code",
   "execution_count": 21,
   "id": "c1038727",
   "metadata": {
    "ExecuteTime": {
     "end_time": "2017-08-05T08:06:20.495246Z",
     "start_time": "2017-08-05T08:06:20.470532Z"
    },
    "execution": {
     "iopub.execute_input": "2022-07-05T06:59:19.277926Z",
     "iopub.status.busy": "2022-07-05T06:59:19.277178Z",
     "iopub.status.idle": "2022-07-05T06:59:19.303236Z",
     "shell.execute_reply": "2022-07-05T06:59:19.301495Z"
    },
    "papermill": {
     "duration": 0.04567,
     "end_time": "2022-07-05T06:59:19.306485",
     "exception": false,
     "start_time": "2022-07-05T06:59:19.260815",
     "status": "completed"
    },
    "tags": []
   },
   "outputs": [
    {
     "name": "stdout",
     "output_type": "stream",
     "text": [
      "              precision    recall  f1-score   support\n",
      "\n",
      "           0       0.94      0.98      0.96      1102\n",
      "           1       0.94      0.83      0.88       398\n",
      "\n",
      "    accuracy                           0.94      1500\n",
      "   macro avg       0.94      0.90      0.92      1500\n",
      "weighted avg       0.94      0.94      0.94      1500\n",
      "\n",
      "   accuracy  precision    recall    f1       auc\n",
      "0      0.94     0.9375  0.829146  0.88  0.904591\n"
     ]
    }
   ],
   "source": [
    "from sklearn.metrics import classification_report, accuracy_score, precision_score, recall_score\n",
    "from sklearn.metrics import f1_score, roc_auc_score\n",
    "\n",
    "cr = classification_report(y_test, y_pred)\n",
    "print(cr)\n",
    "\n",
    "score_df = pd.DataFrame({'accuracy': accuracy_score(y_test, y_pred),\n",
    "                         'precision': precision_score(y_test, y_pred),\n",
    "                         'recall': recall_score(y_test, y_pred),\n",
    "                         'f1': f1_score(y_test, y_pred),\n",
    "                         'auc': roc_auc_score(y_test, y_pred)},\n",
    "                         index=pd.Index([0]))\n",
    "\n",
    "print(score_df)"
   ]
  },
  {
   "cell_type": "markdown",
   "id": "6943e7a0",
   "metadata": {
    "papermill": {
     "duration": 0.015041,
     "end_time": "2022-07-05T06:59:19.337371",
     "exception": false,
     "start_time": "2022-07-05T06:59:19.322330",
     "status": "completed"
    },
    "tags": []
   },
   "source": [
    "<h2 id=\"examineRes\">Part 6: Examining Results</h2>\n",
    "\n",
    "The following exercises will help us examine results:\n",
    "\n",
    "*   Print or visualize the confusion matrix.\n",
    "*   Plot the ROC-AUC and precision-recall curves.\n",
    "*   Plot the feature importances.\n"
   ]
  },
  {
   "cell_type": "code",
   "execution_count": 22,
   "id": "43a469ce",
   "metadata": {
    "ExecuteTime": {
     "end_time": "2017-08-05T08:06:20.799496Z",
     "start_time": "2017-08-05T08:06:20.497902Z"
    },
    "execution": {
     "iopub.execute_input": "2022-07-05T06:59:19.369914Z",
     "iopub.status.busy": "2022-07-05T06:59:19.369153Z",
     "iopub.status.idle": "2022-07-05T06:59:19.588184Z",
     "shell.execute_reply": "2022-07-05T06:59:19.587451Z"
    },
    "papermill": {
     "duration": 0.237596,
     "end_time": "2022-07-05T06:59:19.590237",
     "exception": false,
     "start_time": "2022-07-05T06:59:19.352641",
     "status": "completed"
    },
    "tags": []
   },
   "outputs": [
    {
     "data": {
      "text/plain": [
       "<sklearn.metrics._plot.confusion_matrix.ConfusionMatrixDisplay at 0x7fda6bde12d0>"
      ]
     },
     "execution_count": 22,
     "metadata": {},
     "output_type": "execute_result"
    },
    {
     "data": {
      "image/png": "[encoded data removed]",
      "text/plain": [
       "<Figure size 432x288 with 2 Axes>"
      ]
     },
     "metadata": {},
     "output_type": "display_data"
    }
   ],
   "source": [
    "from sklearn.metrics import roc_curve, precision_recall_curve, confusion_matrix\n",
    "from sklearn.metrics import ConfusionMatrixDisplay\n",
    "\n",
    "sns.set_context('talk')\n",
    "cm = confusion_matrix(y_test, y_pred)\n",
    "disp = ConfusionMatrixDisplay(confusion_matrix=cm, display_labels=model.classes_)\n",
    "disp.plot()\n"
   ]
  },
  {
   "cell_type": "markdown",
   "id": "f17d00c3",
   "metadata": {
    "papermill": {
     "duration": 0.015514,
     "end_time": "2022-07-05T06:59:19.621844",
     "exception": false,
     "start_time": "2022-07-05T06:59:19.606330",
     "status": "completed"
    },
    "tags": []
   },
   "source": [
    "The ROC-AUC and precision-recall curves.\n"
   ]
  },
  {
   "cell_type": "code",
   "execution_count": 23,
   "id": "d443acf1",
   "metadata": {
    "ExecuteTime": {
     "end_time": "2017-08-05T08:06:21.37593Z",
     "start_time": "2017-08-05T08:06:20.80096Z"
    },
    "execution": {
     "iopub.execute_input": "2022-07-05T06:59:19.655970Z",
     "iopub.status.busy": "2022-07-05T06:59:19.655259Z",
     "iopub.status.idle": "2022-07-05T06:59:20.357068Z",
     "shell.execute_reply": "2022-07-05T06:59:20.355807Z"
    },
    "papermill": {
     "duration": 0.721863,
     "end_time": "2022-07-05T06:59:20.359703",
     "exception": false,
     "start_time": "2022-07-05T06:59:19.637840",
     "status": "completed"
    },
    "tags": []
   },
   "outputs": [
    {
     "data": {
      "image/png": "[encoded data removed]",
      "text/plain": [
       "<Figure size 1152x576 with 2 Axes>"
      ]
     },
     "metadata": {},
     "output_type": "display_data"
    }
   ],
   "source": [
    "sns.set_context('talk')\n",
    "\n",
    "fig, axList = plt.subplots(ncols=2)\n",
    "fig.set_size_inches(16, 8)\n",
    "\n",
    "# Get the probabilities for each of the two categories\n",
    "y_prob = model.predict_proba(X_test)\n",
    "\n",
    "# Note: y_prob[:,1]: y_score, estimated probability of positive class\n",
    "# Plot the ROC-AUC curve\n",
    "ax = axList[0]\n",
    "fpr, tpr, thresholds = roc_curve(y_test, y_prob[:,1])\n",
    "ax.plot(fpr, tpr, linewidth=5)\n",
    "# It is customary to draw a diagonal dotted line in ROC plots.\n",
    "# This is to indicate completely random prediction. Deviation from this\n",
    "# dotted line towards the upper left corner signifies the power of the model.\n",
    "ax.plot([0, 1], [0, 1], ls='--', color='black', lw=.3)\n",
    "ax.set(xlabel='False Positive Rate',\n",
    "       ylabel='True Positive Rate',\n",
    "       xlim=[-.01, 1.01], ylim=[-.01, 1.01],\n",
    "       title='ROC curve')\n",
    "ax.grid(True)\n",
    "\n",
    "# Plot the precision-recall curve\n",
    "ax = axList[1]\n",
    "\n",
    "precision, recall, _ = precision_recall_curve(y_test, y_prob[:,1])\n",
    "ax.plot(recall, precision, linewidth=5)\n",
    "ax.set(xlabel='Recall', ylabel='Precision',\n",
    "       xlim=[-.01, 1.01], ylim=[-.01, 1.01],\n",
    "       title='Precision-Recall curve')\n",
    "ax.grid(True)\n",
    "\n",
    "plt.tight_layout()"
   ]
  },
  {
   "cell_type": "markdown",
   "id": "0b55a921",
   "metadata": {
    "papermill": {
     "duration": 0.016935,
     "end_time": "2022-07-05T06:59:20.393491",
     "exception": false,
     "start_time": "2022-07-05T06:59:20.376556",
     "status": "completed"
    },
    "tags": []
   },
   "source": [
    "The feature importances. Total daily cost is the biggest predictor of customer churn.\n"
   ]
  },
  {
   "cell_type": "code",
   "execution_count": 24,
   "id": "21781b0a",
   "metadata": {
    "ExecuteTime": {
     "end_time": "2017-08-05T08:06:21.892647Z",
     "start_time": "2017-08-05T08:06:21.377664Z"
    },
    "execution": {
     "iopub.execute_input": "2022-07-05T06:59:20.429069Z",
     "iopub.status.busy": "2022-07-05T06:59:20.428406Z",
     "iopub.status.idle": "2022-07-05T06:59:20.903749Z",
     "shell.execute_reply": "2022-07-05T06:59:20.902403Z"
    },
    "papermill": {
     "duration": 0.496015,
     "end_time": "2022-07-05T06:59:20.906431",
     "exception": false,
     "start_time": "2022-07-05T06:59:20.410416",
     "status": "completed"
    },
    "tags": []
   },
   "outputs": [
    {
     "data": {
      "image/png": "[encoded data removed]",
      "text/plain": [
       "<Figure size 1152x432 with 1 Axes>"
      ]
     },
     "metadata": {},
     "output_type": "display_data"
    }
   ],
   "source": [
    "feature_imp = pd.Series(model.feature_importances_, index=feature_cols).sort_values(ascending=False)\n",
    "\n",
    "ax = feature_imp.plot(kind='bar', figsize=(16, 6))\n",
    "ax.set(ylabel='Relative Importance');\n",
    "ax.set(ylabel='Feature');"
   ]
  },
  {
   "cell_type": "markdown",
   "id": "7950e4a9",
   "metadata": {
    "papermill": {
     "duration": 0.018032,
     "end_time": "2022-07-05T06:59:20.942830",
     "exception": false,
     "start_time": "2022-07-05T06:59:20.924798",
     "status": "completed"
    },
    "tags": []
   },
   "source": [
    "### Thank you for completing this lab!\n",
    "\n",
    "## Author\n",
    "\n",
    "<a href=\"https://www.linkedin.com/in/joseph-s-50398b136/?utm_medium=Exinfluencer&utm_source=Exinfluencer&utm_content=000026UJ&utm_term=10006555&utm_id=NA-SkillsNetwork-Channel-SkillsNetworkCoursesIBMDeveloperSkillsNetworkML0101ENSkillsNetwork20718538-2021-01-01\" target=\"_blank\">Joseph Santarcangelo</a>\n",
    "\n",
    "### Other Contributors\n",
    "\n",
    "<a href=\"https://www.linkedin.com/in/richard-ye/?utm_medium=Exinfluencer&utm_source=Exinfluencer&utm_content=000026UJ&utm_term=10006555&utm_id=NA-SkillsNetwork-Channel-SkillsNetworkCoursesIBMDeveloperSkillsNetworkML0101ENSkillsNetwork20718538-2021-01-01\" target=\"_blank\">Richard Ye</a>\n",
    "\n",
    "## Change Log\n",
    "\n",
    "| Date (YYYY-MM-DD) | Version | Changed By           | Change Description                                        |\n",
    "| ----------------- | ------- | -------------------- | --------------------------------------------------------- |\n",
    "| 2022-01-27        | 0.1     | Joseph Santarcangelo | Created Lab Template                                      |\n",
    "| 2022-05-02        | 0.2     | Richard Ye           | Added in estimated time, objectives and table of contents |\n",
    "\n",
    "### Machine Learning Foundation (C) 2020 IBM Corporation\n"
   ]
  }
 ],
 "metadata": {
  "kernelspec": {
   "display_name": "Python 3",
   "language": "python",
   "name": "python3"
  },
  "language_info": {
   "codemirror_mode": {
    "name": "ipython",
    "version": 3
   },
   "file_extension": ".py",
   "mimetype": "text/x-python",
   "name": "python",
   "nbconvert_exporter": "python",
   "pygments_lexer": "ipython3",
   "version": "3.7.12"
  },
  "papermill": {
   "default_parameters": {},
   "duration": 24.372351,
   "end_time": "2022-07-05T06:59:21.782619",
   "environment_variables": {},
   "exception": null,
   "input_path": "__notebook__.ipynb",
   "output_path": "__notebook__.ipynb",
   "parameters": {},
   "start_time": "2022-07-05T06:58:57.410268",
   "version": "2.3.4"
  }
 },
 "nbformat": 4,
 "nbformat_minor": 5
}
